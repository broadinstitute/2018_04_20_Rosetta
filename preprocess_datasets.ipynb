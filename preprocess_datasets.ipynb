{
 "cells": [
  {
   "cell_type": "code",
   "execution_count": 58,
   "metadata": {},
   "outputs": [],
   "source": [
    "%matplotlib notebook\n",
    "import numpy as np\n",
    "import scipy.spatial\n",
    "import pandas as pd\n",
    "import sklearn.decomposition\n",
    "import matplotlib.pyplot as plt\n",
    "import seaborn as sb\n",
    "import linear_cca\n",
    "import multimodal_data\n",
    "import os\n",
    "from cmapPy.pandasGEXpress.parse import parse"
   ]
  },
  {
   "cell_type": "code",
   "execution_count": 1,
   "metadata": {},
   "outputs": [],
   "source": [
    "import umap"
   ]
  },
  {
   "cell_type": "markdown",
   "metadata": {},
   "source": [
    "### There are three datasets for them we want to publish l1000 GE and Cell Painting data together:\n",
    "- CDRPBIO-BBBC036-Bray \n",
    "- LUAD-BBBC041-Caicedo\n",
    "- TA-ORF-BBBC037-Rohban\n",
    "    "
   ]
  },
  {
   "cell_type": "markdown",
   "metadata": {},
   "source": [
    "# L1000 Data \n",
    "- It is usually in .gctx format\n",
    "- Usefull link to read this format: https://github.com/cmap/cmapPy/blob/master/tutorials/cmapPy_pandasGEXpress_tutorial.ipynb"
   ]
  },
  {
   "cell_type": "markdown",
   "metadata": {},
   "source": [
    "### TA_ORF"
   ]
  },
  {
   "cell_type": "code",
   "execution_count": 3,
   "metadata": {},
   "outputs": [
    {
     "name": "stdout",
     "output_type": "stream",
     "text": [
      "Index of _icmap_custom_TA_brew_pc_TA.OE005_U2OS_72H.html\r\n",
      "\u001b[0m\u001b[01;34mIndex of _icmap_custom_TA_brew_pc_TA.OE005_U2OS_72H_files\u001b[0m/\r\n",
      "README\r\n",
      "TA.OE005_U2OS_72H.map.txt\r\n",
      "TA.OE005_U2OS_72H_INF_n729x22268.gctx\r\n",
      "TA.OE005_U2OS_72H_QNORM_n729x978.gctx\r\n",
      "TA.OE005_U2OS_72H_ZSPCINF_n729x22268.gctx\r\n",
      "TA.OE005_U2OS_72H_ZSPCQNORM_n729x978.gctx\r\n",
      "TA.OE005_U2OS_72H_by_pert_id_pert_dose.html\r\n",
      "\u001b[01;34mTA.OE005_U2OS_72H_by_pert_id_pert_dose_files\u001b[0m/\r\n",
      "TA.OE005_U2OS_72H_by_rna_well.html\r\n",
      "\u001b[01;34mTA.OE005_U2OS_72H_by_rna_well_files\u001b[0m/\r\n",
      "ignored_plates_d2.grp.txt\r\n",
      "plates_d2.grp.txt\r\n",
      "splice_pipe_params.txt\r\n"
     ]
    }
   ],
   "source": [
    "ls ../../raw_profiles/l1000_TA_ORF"
   ]
  },
  {
   "cell_type": "code",
   "execution_count": 66,
   "metadata": {},
   "outputs": [
    {
     "name": "stdout",
     "output_type": "stream",
     "text": [
      "(729, 40) (729, 979) (729, 1018)\n"
     ]
    }
   ],
   "source": [
    "taorf_datadir='../../raw_profiles/l1000_TA_ORF/'\n",
    "gene_info = pd.read_csv(taorf_datadir+\"TA.OE005_U2OS_72H.map.txt\", sep=\"\\t\", dtype=str)\n",
    "# gene_info.columns\n",
    "\n",
    "# TA.OE005_U2OS_72H_INF_n729x22268.gctx\n",
    "# TA.OE005_U2OS_72H_QNORM_n729x978.gctx\n",
    "# TA.OE005_U2OS_72H_ZSPCINF_n729x22268.gctx\n",
    "# TA.OE005_U2OS_72H_ZSPCQNORM_n729x978.gctx\n",
    "taorf_l1k0 = parse(taorf_datadir+\"TA.OE005_U2OS_72H_ZSPCQNORM_n729x978.gctx\")\n",
    "taorf_l1k_df0=taorf_l1k0.data_df\n",
    "taorf_l1k_df=taorf_l1k_df0.T.reset_index()\n",
    "taorf_l1k_df=taorf_l1k_df.rename(columns={\"cid\":\"id\"})\n",
    "taorf_l1k_df2=pd.merge(taorf_l1k_df, gene_info, how='inner',on=['id'])\n",
    "# print(taorf_l1k_df.shape,gene_info.shape,taorf_l1k_df2.shape)\n",
    "taorf_l1k_df2.head()\n",
    "# x_genesymbol_mutation\n",
    "taorf_l1k_df2.to_csv('~/workspace_rosetta/workspace/preprocessed_data/TA-ORF-BBBC037-Rohban/L1000/replicate_level_l1k.csv',index=False)\n",
    "print(gene_info.shape,taorf_l1k_df.shape,taorf_l1k_df2.shape)\n",
    "# gene_info.head()"
   ]
  },
  {
   "cell_type": "code",
   "execution_count": 67,
   "metadata": {},
   "outputs": [
    {
     "data": {
      "text/html": [
       "<div>\n",
       "<style scoped>\n",
       "    .dataframe tbody tr th:only-of-type {\n",
       "        vertical-align: middle;\n",
       "    }\n",
       "\n",
       "    .dataframe tbody tr th {\n",
       "        vertical-align: top;\n",
       "    }\n",
       "\n",
       "    .dataframe thead th {\n",
       "        text-align: right;\n",
       "    }\n",
       "</style>\n",
       "<table border=\"1\" class=\"dataframe\">\n",
       "  <thead>\n",
       "    <tr style=\"text-align: right;\">\n",
       "      <th></th>\n",
       "      <th>id</th>\n",
       "      <th>200814_at</th>\n",
       "      <th>218597_s_at</th>\n",
       "      <th>217140_s_at</th>\n",
       "      <th>209253_at</th>\n",
       "      <th>214404_x_at</th>\n",
       "      <th>222103_at</th>\n",
       "      <th>219888_at</th>\n",
       "      <th>207042_at</th>\n",
       "      <th>201453_x_at</th>\n",
       "      <th>...</th>\n",
       "      <th>pool_id</th>\n",
       "      <th>provenance_code</th>\n",
       "      <th>qc_f_logp</th>\n",
       "      <th>qc_iqr</th>\n",
       "      <th>qc_slope</th>\n",
       "      <th>rna_plate</th>\n",
       "      <th>rna_well</th>\n",
       "      <th>x_genesymbol_mutation</th>\n",
       "      <th>zmad_ref</th>\n",
       "      <th>zmad_ref_well</th>\n",
       "    </tr>\n",
       "  </thead>\n",
       "  <tbody>\n",
       "    <tr>\n",
       "      <th>0</th>\n",
       "      <td>TA.OE005_U2OS_72H_X1_B15:A03</td>\n",
       "      <td>0.1206</td>\n",
       "      <td>-1.5736</td>\n",
       "      <td>-0.6155</td>\n",
       "      <td>-1.9827</td>\n",
       "      <td>0.8250</td>\n",
       "      <td>-3.7235</td>\n",
       "      <td>2.7919</td>\n",
       "      <td>10.4618</td>\n",
       "      <td>-2.2235</td>\n",
       "      <td>...</td>\n",
       "      <td>epsilon</td>\n",
       "      <td>KMV+F2D+INO+QNO+ZSP</td>\n",
       "      <td>6.1</td>\n",
       "      <td>14.02</td>\n",
       "      <td>67</td>\n",
       "      <td>TA.OE005_U2OS_72H_X1</td>\n",
       "      <td>A03</td>\n",
       "      <td>ATF4</td>\n",
       "      <td>population</td>\n",
       "      <td>all</td>\n",
       "    </tr>\n",
       "    <tr>\n",
       "      <th>1</th>\n",
       "      <td>TA.OE005_U2OS_72H_X1_B15:A04</td>\n",
       "      <td>-0.7540</td>\n",
       "      <td>-3.0963</td>\n",
       "      <td>0.8055</td>\n",
       "      <td>-1.4489</td>\n",
       "      <td>1.3506</td>\n",
       "      <td>-4.2614</td>\n",
       "      <td>1.5854</td>\n",
       "      <td>-1.6879</td>\n",
       "      <td>1.2582</td>\n",
       "      <td>...</td>\n",
       "      <td>epsilon</td>\n",
       "      <td>KMV+F2D+INO+QNO+ZSP</td>\n",
       "      <td>5</td>\n",
       "      <td>13.15</td>\n",
       "      <td>64</td>\n",
       "      <td>TA.OE005_U2OS_72H_X1</td>\n",
       "      <td>A04</td>\n",
       "      <td>TSC2</td>\n",
       "      <td>population</td>\n",
       "      <td>all</td>\n",
       "    </tr>\n",
       "    <tr>\n",
       "      <th>2</th>\n",
       "      <td>TA.OE005_U2OS_72H_X1_B15:A05</td>\n",
       "      <td>0.7575</td>\n",
       "      <td>-0.5961</td>\n",
       "      <td>0.1467</td>\n",
       "      <td>-1.8557</td>\n",
       "      <td>1.2463</td>\n",
       "      <td>-3.3940</td>\n",
       "      <td>2.0723</td>\n",
       "      <td>-1.6483</td>\n",
       "      <td>-0.4414</td>\n",
       "      <td>...</td>\n",
       "      <td>epsilon</td>\n",
       "      <td>KMV+F2D+INO+QNO+ZSP</td>\n",
       "      <td>5.4</td>\n",
       "      <td>12.37</td>\n",
       "      <td>65</td>\n",
       "      <td>TA.OE005_U2OS_72H_X1</td>\n",
       "      <td>A05</td>\n",
       "      <td>BAX</td>\n",
       "      <td>population</td>\n",
       "      <td>all</td>\n",
       "    </tr>\n",
       "    <tr>\n",
       "      <th>3</th>\n",
       "      <td>TA.OE005_U2OS_72H_X1_B15:A06</td>\n",
       "      <td>-1.6981</td>\n",
       "      <td>-0.5644</td>\n",
       "      <td>0.0000</td>\n",
       "      <td>1.0091</td>\n",
       "      <td>0.7099</td>\n",
       "      <td>-0.5928</td>\n",
       "      <td>-0.7333</td>\n",
       "      <td>0.1000</td>\n",
       "      <td>0.5226</td>\n",
       "      <td>...</td>\n",
       "      <td>epsilon</td>\n",
       "      <td>KMV+F2D+INO+QNO+ZSP</td>\n",
       "      <td>5.8</td>\n",
       "      <td>8.62</td>\n",
       "      <td>63</td>\n",
       "      <td>TA.OE005_U2OS_72H_X1</td>\n",
       "      <td>A06</td>\n",
       "      <td>VEGFC</td>\n",
       "      <td>population</td>\n",
       "      <td>all</td>\n",
       "    </tr>\n",
       "    <tr>\n",
       "      <th>4</th>\n",
       "      <td>TA.OE005_U2OS_72H_X1_B15:A07</td>\n",
       "      <td>-1.5586</td>\n",
       "      <td>0.7878</td>\n",
       "      <td>0.6450</td>\n",
       "      <td>-0.7934</td>\n",
       "      <td>1.5944</td>\n",
       "      <td>0.0023</td>\n",
       "      <td>-1.8069</td>\n",
       "      <td>1.7206</td>\n",
       "      <td>-0.1506</td>\n",
       "      <td>...</td>\n",
       "      <td>epsilon</td>\n",
       "      <td>KMV+F2D+INO+QNO+ZSP</td>\n",
       "      <td>5.6</td>\n",
       "      <td>10.37</td>\n",
       "      <td>64</td>\n",
       "      <td>TA.OE005_U2OS_72H_X1</td>\n",
       "      <td>A07</td>\n",
       "      <td>CCND1</td>\n",
       "      <td>population</td>\n",
       "      <td>all</td>\n",
       "    </tr>\n",
       "  </tbody>\n",
       "</table>\n",
       "<p>5 rows × 1018 columns</p>\n",
       "</div>"
      ],
      "text/plain": [
       "                             id  200814_at  218597_s_at  217140_s_at  \\\n",
       "0  TA.OE005_U2OS_72H_X1_B15:A03     0.1206      -1.5736      -0.6155   \n",
       "1  TA.OE005_U2OS_72H_X1_B15:A04    -0.7540      -3.0963       0.8055   \n",
       "2  TA.OE005_U2OS_72H_X1_B15:A05     0.7575      -0.5961       0.1467   \n",
       "3  TA.OE005_U2OS_72H_X1_B15:A06    -1.6981      -0.5644       0.0000   \n",
       "4  TA.OE005_U2OS_72H_X1_B15:A07    -1.5586       0.7878       0.6450   \n",
       "\n",
       "   209253_at  214404_x_at  222103_at  219888_at  207042_at  201453_x_at  \\\n",
       "0    -1.9827       0.8250    -3.7235     2.7919    10.4618      -2.2235   \n",
       "1    -1.4489       1.3506    -4.2614     1.5854    -1.6879       1.2582   \n",
       "2    -1.8557       1.2463    -3.3940     2.0723    -1.6483      -0.4414   \n",
       "3     1.0091       0.7099    -0.5928    -0.7333     0.1000       0.5226   \n",
       "4    -0.7934       1.5944     0.0023    -1.8069     1.7206      -0.1506   \n",
       "\n",
       "       ...        pool_id      provenance_code  qc_f_logp  qc_iqr  qc_slope  \\\n",
       "0      ...        epsilon  KMV+F2D+INO+QNO+ZSP        6.1   14.02        67   \n",
       "1      ...        epsilon  KMV+F2D+INO+QNO+ZSP          5   13.15        64   \n",
       "2      ...        epsilon  KMV+F2D+INO+QNO+ZSP        5.4   12.37        65   \n",
       "3      ...        epsilon  KMV+F2D+INO+QNO+ZSP        5.8    8.62        63   \n",
       "4      ...        epsilon  KMV+F2D+INO+QNO+ZSP        5.6   10.37        64   \n",
       "\n",
       "              rna_plate  rna_well  x_genesymbol_mutation    zmad_ref  \\\n",
       "0  TA.OE005_U2OS_72H_X1       A03                   ATF4  population   \n",
       "1  TA.OE005_U2OS_72H_X1       A04                   TSC2  population   \n",
       "2  TA.OE005_U2OS_72H_X1       A05                    BAX  population   \n",
       "3  TA.OE005_U2OS_72H_X1       A06                  VEGFC  population   \n",
       "4  TA.OE005_U2OS_72H_X1       A07                  CCND1  population   \n",
       "\n",
       "   zmad_ref_well  \n",
       "0            all  \n",
       "1            all  \n",
       "2            all  \n",
       "3            all  \n",
       "4            all  \n",
       "\n",
       "[5 rows x 1018 columns]"
      ]
     },
     "execution_count": 67,
     "metadata": {},
     "output_type": "execute_result"
    }
   ],
   "source": [
    "taorf_l1k_df2.head()"
   ]
  },
  {
   "cell_type": "code",
   "execution_count": 72,
   "metadata": {},
   "outputs": [],
   "source": [
    "# taorf_l1k_df2.to_csv('~/workspace_rosetta/workspace/preprocessed_data/TA-ORF-BBBC037-Rohban/L1000/replicate_level_l1k.csv',index=False)\n",
    "# taorf_l1k_df2.groupby(['x_genesymbol_mutation']).size()"
   ]
  },
  {
   "cell_type": "code",
   "execution_count": 230,
   "metadata": {},
   "outputs": [
    {
     "name": "stdout",
     "output_type": "stream",
     "text": [
      "replicate_level_l1k.csv\r\n"
     ]
    }
   ],
   "source": [
    "ls ~/workspace_rosetta/workspace/preprocessed_data/TA-ORF-BBBC037-Rohban/L1000/"
   ]
  },
  {
   "cell_type": "code",
   "execution_count": 190,
   "metadata": {},
   "outputs": [
    {
     "data": {
      "text/plain": [
       "(22268, 729)"
      ]
     },
     "execution_count": 190,
     "metadata": {},
     "output_type": "execute_result"
    }
   ],
   "source": [
    "# parse(taorf_datadir+\"TA.OE005_U2OS_72H_INF_n729x22268.gctx\").data_df.shape"
   ]
  },
  {
   "cell_type": "code",
   "execution_count": null,
   "metadata": {},
   "outputs": [],
   "source": []
  },
  {
   "cell_type": "code",
   "execution_count": 231,
   "metadata": {},
   "outputs": [],
   "source": [
    "# taorf_l1k_df.columns"
   ]
  },
  {
   "cell_type": "code",
   "execution_count": null,
   "metadata": {},
   "outputs": [],
   "source": []
  },
  {
   "cell_type": "code",
   "execution_count": 208,
   "metadata": {},
   "outputs": [],
   "source": [
    "# gene_info"
   ]
  },
  {
   "cell_type": "markdown",
   "metadata": {},
   "source": [
    "### CDRP"
   ]
  },
  {
   "cell_type": "code",
   "execution_count": 88,
   "metadata": {},
   "outputs": [
    {
     "name": "stdout",
     "output_type": "stream",
     "text": [
      "\u001b[0m\u001b[01;34mBroad.PNAS2014.ProfilingData\u001b[0m/  cdrp.well.metadata.mat  wawer.gene.all.prof.rds\r\n",
      "cdrp.all.prof.mat              cdrp.well.pczscore.mat\r\n",
      "cdrp.cpd.prof.mat              cdrp.well.prof.mat\r\n"
     ]
    }
   ],
   "source": [
    "ls ../../raw_profiles/l1000_CDRP/"
   ]
  },
  {
   "cell_type": "code",
   "execution_count": 87,
   "metadata": {},
   "outputs": [
    {
     "data": {
      "text/plain": [
       "Index(['BROAD_CPD_ID', 'CPD_NAME', 'CPD_TYPE', 'CPD_SMILES'], dtype='object')"
      ]
     },
     "execution_count": 87,
     "metadata": {},
     "output_type": "execute_result"
    }
   ],
   "source": [
    "cdrp_dataDir='../../raw_profiles/l1000_CDRP/'\n",
    "cpd_info = pd.read_csv(cdrp_dataDir+\"/Broad.PNAS2014.ProfilingData/compounds.txt\", sep=\"\\t\", dtype=str)\n",
    "cpd_info.columns"
   ]
  },
  {
   "cell_type": "code",
   "execution_count": 114,
   "metadata": {},
   "outputs": [
    {
     "data": {
      "text/plain": [
       "dict_keys(['__header__', '__version__', '__globals__', 'metaCpd', 'metaGen', 'metaNom', 'metaWell', 'nC', 'nG', 'nN', 'nW', 'pclfc', 'pclfc_mean', 'pczscore', 'pczscore_stouffer', 'vclfc', 'vczscore'])"
      ]
     },
     "execution_count": 114,
     "metadata": {},
     "output_type": "execute_result"
    }
   ],
   "source": [
    "# df_1[0]\n",
    "x.keys()"
   ]
  },
  {
   "cell_type": "code",
   "execution_count": 167,
   "metadata": {},
   "outputs": [],
   "source": [
    "## Replicate level profiles\n",
    "# import rpy2.robjects as robjects\n",
    "# from rpy2.robjects import pandas2ri\n",
    "# pandas2ri.activate()\n",
    "# readRDS = robjects.r['readRDS']\n",
    "\n",
    "# # load RDS files generated by \"data_prepration_reproducible.Rmd\"\n",
    "# df_1 = readRDS(cdrp_dataDir+'wawer.gene.all.prof.rds')\n",
    "# df_1 = pandas2ri.rpy2py_dataframe(df_1)\n",
    "# df_1.head()\n",
    "\n",
    "\n",
    "from scipy.io import loadmat\n",
    "x = loadmat(cdrp_dataDir+'cdrp.all.prof.mat')\n",
    "k1=x['metaWell']['pert_id'][0][0]\n",
    "k2=x['metaGen']['AFFX_PROBE_ID'][0][0]\n",
    "k3=x['metaWell']['pert_dose'][0][0]\n",
    "# pert_dose\n",
    "# x['metaWell']['pert_id'][0][0][0][0][0]\n",
    "pertID = []\n",
    "probID=[]\n",
    "for r in range(len(k1)):\n",
    "    v = k1[r][0][0]\n",
    "    pertID.append(v)\n",
    "#     probID.append(k2[r][0][0])\n",
    "\n",
    "for r in range(len(k2)):\n",
    "    probID.append(k2[r][0][0])\n",
    "    \n",
    "dataArray=x['pczscore'];\n",
    "cdrp_l1k_rep = pd.DataFrame(data=dataArray,columns=probID)\n",
    "cdrp_l1k_rep['pert_id']=pertID\n",
    "cdrp_l1k_rep['pert_dose']=k3\n",
    "cdrp_l1k_rep['BROAD_CPD_ID']=cdrp_l1k_rep['pert_id'].str[:13]\n",
    "cdrp_l1k_rep2=pd.merge(cdrp_l1k_rep, cpd_info, how='left',on=['BROAD_CPD_ID'])\n",
    "# cdrp_l1k_df.head()\n",
    "print(cpd_info.shape,cdrp_l1k_rep.shape,cdrp_l1k_rep2.shape)\n",
    "cdrp_l1k_rep2.to_csv('~/workspace_rosetta/workspace/preprocessed_data/CDRPBIO-BBBC036-Bray/L1000/replicate_level_l1k.csv',index=False)\n",
    "cdrp_l1k_rep2.head()"
   ]
  },
  {
   "cell_type": "code",
   "execution_count": 172,
   "metadata": {},
   "outputs": [],
   "source": [
    "# k3=x['metaWell']['pert_dose'][0][0]\n",
    "# cdrp_l1k_rep['pert_id']=pertID\n",
    "# cdrp_l1k_rep['pert_dose']=k3\n",
    "# cdrp_l1k_rep['BROAD_CPD_ID']=cdrp_l1k_rep['pert_id'].str[:13]\n",
    "# cdrp_l1k_rep2=pd.merge(cdrp_l1k_rep, cpd_info, how='left',on=['BROAD_CPD_ID'])\n",
    "# # cdrp_l1k_df.head()\n",
    "# print(cpd_info.shape,cdrp_l1k_rep.shape,cdrp_l1k_rep2.shape)\n",
    "# cdrp_l1k_rep2.to_csv('~/workspace_rosetta/workspace/preprocessed_data/CDRPBIO-BBBC036-Bray/L1000/replicate_level_l1k.csv',index=False)\n",
    "# cdrp_l1k_rep2.head()"
   ]
  },
  {
   "cell_type": "code",
   "execution_count": 143,
   "metadata": {},
   "outputs": [
    {
     "name": "stdout",
     "output_type": "stream",
     "text": [
      "(32324, 4) (21983, 980) (21983, 983)\n"
     ]
    }
   ],
   "source": [
    "# treatmentLevel\n",
    "cdrp_l1k = parse(cdrp_dataDir+\"Broad.PNAS2014.ProfilingData/ge.profiles_n21983x977.gctx\")\n",
    "cdrp_l1k_df=cdrp_l1k.data_df.T.reset_index()\n",
    "cdrp_l1k_df['XX']=cdrp_l1k_df['cid'].str[0]\n",
    "cdrp_l1k_df['BROAD_CPD_ID']=cdrp_l1k_df['cid'].str[2:15]\n",
    "cdrp_l1k_df2=pd.merge(cdrp_l1k_df, cpd_info, how='inner',on=['BROAD_CPD_ID'])\n",
    "# cdrp_l1k_df.head()\n",
    "print(cpd_info.shape,cdrp_l1k_df.shape,cdrp_l1k_df2.shape)\n",
    "cdrp_l1k_df2.to_csv('~/workspace_rosetta/workspace/preprocessed_data/CDRPBIO-BBBC036-Bray/L1000/treatment_level_l1k.csv',index=False)"
   ]
  },
  {
   "cell_type": "code",
   "execution_count": 162,
   "metadata": {},
   "outputs": [
    {
     "data": {
      "text/html": [
       "<div>\n",
       "<style scoped>\n",
       "    .dataframe tbody tr th:only-of-type {\n",
       "        vertical-align: middle;\n",
       "    }\n",
       "\n",
       "    .dataframe tbody tr th {\n",
       "        vertical-align: top;\n",
       "    }\n",
       "\n",
       "    .dataframe thead th {\n",
       "        text-align: right;\n",
       "    }\n",
       "</style>\n",
       "<table border=\"1\" class=\"dataframe\">\n",
       "  <thead>\n",
       "    <tr style=\"text-align: right;\">\n",
       "      <th></th>\n",
       "      <th>cid</th>\n",
       "      <th>221227_x_at</th>\n",
       "      <th>212345_s_at</th>\n",
       "      <th>218597_s_at</th>\n",
       "      <th>217140_s_at</th>\n",
       "      <th>209253_at</th>\n",
       "      <th>214404_x_at</th>\n",
       "      <th>219888_at</th>\n",
       "      <th>201225_s_at</th>\n",
       "      <th>202535_at</th>\n",
       "      <th>...</th>\n",
       "      <th>202801_at</th>\n",
       "      <th>206414_s_at</th>\n",
       "      <th>204978_at</th>\n",
       "      <th>205379_at</th>\n",
       "      <th>203897_at</th>\n",
       "      <th>XX</th>\n",
       "      <th>BROAD_CPD_ID</th>\n",
       "      <th>CPD_NAME</th>\n",
       "      <th>CPD_TYPE</th>\n",
       "      <th>CPD_SMILES</th>\n",
       "    </tr>\n",
       "  </thead>\n",
       "  <tbody>\n",
       "    <tr>\n",
       "      <th>0</th>\n",
       "      <td>1:BRD-K89732114-300-06-3</td>\n",
       "      <td>-815.848145</td>\n",
       "      <td>372.501862</td>\n",
       "      <td>-439.068542</td>\n",
       "      <td>-201.406067</td>\n",
       "      <td>-269.752014</td>\n",
       "      <td>265.633698</td>\n",
       "      <td>-7.044870</td>\n",
       "      <td>-23.993784</td>\n",
       "      <td>-443.847992</td>\n",
       "      <td>...</td>\n",
       "      <td>-2.519104</td>\n",
       "      <td>-103.996338</td>\n",
       "      <td>21.385452</td>\n",
       "      <td>8.454297</td>\n",
       "      <td>-13.765161</td>\n",
       "      <td>1</td>\n",
       "      <td>BRD-K89732114</td>\n",
       "      <td>trifluoperazine</td>\n",
       "      <td>POS</td>\n",
       "      <td>CN1CCN(CCCN2c3ccccc3Sc3ccc(cc23)C(F)(F)F)CC1</td>\n",
       "    </tr>\n",
       "    <tr>\n",
       "      <th>1</th>\n",
       "      <td>2:BRD-K89732114-300-06-3</td>\n",
       "      <td>-684.512024</td>\n",
       "      <td>488.680786</td>\n",
       "      <td>-442.240326</td>\n",
       "      <td>-170.592804</td>\n",
       "      <td>-271.027771</td>\n",
       "      <td>354.551361</td>\n",
       "      <td>113.733376</td>\n",
       "      <td>-110.299194</td>\n",
       "      <td>-679.035767</td>\n",
       "      <td>...</td>\n",
       "      <td>39.128761</td>\n",
       "      <td>-99.362427</td>\n",
       "      <td>96.397514</td>\n",
       "      <td>209.599640</td>\n",
       "      <td>-66.092232</td>\n",
       "      <td>2</td>\n",
       "      <td>BRD-K89732114</td>\n",
       "      <td>trifluoperazine</td>\n",
       "      <td>POS</td>\n",
       "      <td>CN1CCN(CCCN2c3ccccc3Sc3ccc(cc23)C(F)(F)F)CC1</td>\n",
       "    </tr>\n",
       "    <tr>\n",
       "      <th>2</th>\n",
       "      <td>3:BRD-K89732114-300-07-1</td>\n",
       "      <td>-332.084930</td>\n",
       "      <td>413.534698</td>\n",
       "      <td>-285.547913</td>\n",
       "      <td>-292.624268</td>\n",
       "      <td>-214.678284</td>\n",
       "      <td>92.443077</td>\n",
       "      <td>181.307755</td>\n",
       "      <td>-208.432419</td>\n",
       "      <td>-428.033112</td>\n",
       "      <td>...</td>\n",
       "      <td>-108.442131</td>\n",
       "      <td>-14.973925</td>\n",
       "      <td>11.643245</td>\n",
       "      <td>79.470329</td>\n",
       "      <td>-0.310117</td>\n",
       "      <td>3</td>\n",
       "      <td>BRD-K89732114</td>\n",
       "      <td>trifluoperazine</td>\n",
       "      <td>POS</td>\n",
       "      <td>CN1CCN(CCCN2c3ccccc3Sc3ccc(cc23)C(F)(F)F)CC1</td>\n",
       "    </tr>\n",
       "    <tr>\n",
       "      <th>3</th>\n",
       "      <td>4:BRD-K89732114-300-07-1</td>\n",
       "      <td>-1093.123169</td>\n",
       "      <td>1363.475464</td>\n",
       "      <td>-720.515137</td>\n",
       "      <td>-359.339844</td>\n",
       "      <td>-815.420654</td>\n",
       "      <td>366.414734</td>\n",
       "      <td>88.413223</td>\n",
       "      <td>-367.906738</td>\n",
       "      <td>-1077.626831</td>\n",
       "      <td>...</td>\n",
       "      <td>-77.961143</td>\n",
       "      <td>280.649933</td>\n",
       "      <td>-257.341980</td>\n",
       "      <td>434.858887</td>\n",
       "      <td>-291.218781</td>\n",
       "      <td>4</td>\n",
       "      <td>BRD-K89732114</td>\n",
       "      <td>trifluoperazine</td>\n",
       "      <td>POS</td>\n",
       "      <td>CN1CCN(CCCN2c3ccccc3Sc3ccc(cc23)C(F)(F)F)CC1</td>\n",
       "    </tr>\n",
       "    <tr>\n",
       "      <th>4</th>\n",
       "      <td>5:BRD-K89732114-300-07-1</td>\n",
       "      <td>-2170.005859</td>\n",
       "      <td>1454.608276</td>\n",
       "      <td>-2649.765137</td>\n",
       "      <td>-933.394348</td>\n",
       "      <td>-1507.882690</td>\n",
       "      <td>1872.741455</td>\n",
       "      <td>945.424927</td>\n",
       "      <td>-395.551941</td>\n",
       "      <td>-2420.134766</td>\n",
       "      <td>...</td>\n",
       "      <td>1229.749268</td>\n",
       "      <td>839.844727</td>\n",
       "      <td>-591.371643</td>\n",
       "      <td>1262.786499</td>\n",
       "      <td>-590.441895</td>\n",
       "      <td>5</td>\n",
       "      <td>BRD-K89732114</td>\n",
       "      <td>trifluoperazine</td>\n",
       "      <td>POS</td>\n",
       "      <td>CN1CCN(CCCN2c3ccccc3Sc3ccc(cc23)C(F)(F)F)CC1</td>\n",
       "    </tr>\n",
       "  </tbody>\n",
       "</table>\n",
       "<p>5 rows × 983 columns</p>\n",
       "</div>"
      ],
      "text/plain": [
       "                        cid  221227_x_at  212345_s_at  218597_s_at  \\\n",
       "0  1:BRD-K89732114-300-06-3  -815.848145   372.501862  -439.068542   \n",
       "1  2:BRD-K89732114-300-06-3  -684.512024   488.680786  -442.240326   \n",
       "2  3:BRD-K89732114-300-07-1  -332.084930   413.534698  -285.547913   \n",
       "3  4:BRD-K89732114-300-07-1 -1093.123169  1363.475464  -720.515137   \n",
       "4  5:BRD-K89732114-300-07-1 -2170.005859  1454.608276 -2649.765137   \n",
       "\n",
       "   217140_s_at    209253_at  214404_x_at   219888_at  201225_s_at  \\\n",
       "0  -201.406067  -269.752014   265.633698   -7.044870   -23.993784   \n",
       "1  -170.592804  -271.027771   354.551361  113.733376  -110.299194   \n",
       "2  -292.624268  -214.678284    92.443077  181.307755  -208.432419   \n",
       "3  -359.339844  -815.420654   366.414734   88.413223  -367.906738   \n",
       "4  -933.394348 -1507.882690  1872.741455  945.424927  -395.551941   \n",
       "\n",
       "     202535_at                      ...                         202801_at  \\\n",
       "0  -443.847992                      ...                         -2.519104   \n",
       "1  -679.035767                      ...                         39.128761   \n",
       "2  -428.033112                      ...                       -108.442131   \n",
       "3 -1077.626831                      ...                        -77.961143   \n",
       "4 -2420.134766                      ...                       1229.749268   \n",
       "\n",
       "   206414_s_at   204978_at    205379_at   203897_at  XX   BROAD_CPD_ID  \\\n",
       "0  -103.996338   21.385452     8.454297  -13.765161   1  BRD-K89732114   \n",
       "1   -99.362427   96.397514   209.599640  -66.092232   2  BRD-K89732114   \n",
       "2   -14.973925   11.643245    79.470329   -0.310117   3  BRD-K89732114   \n",
       "3   280.649933 -257.341980   434.858887 -291.218781   4  BRD-K89732114   \n",
       "4   839.844727 -591.371643  1262.786499 -590.441895   5  BRD-K89732114   \n",
       "\n",
       "          CPD_NAME  CPD_TYPE                                    CPD_SMILES  \n",
       "0  trifluoperazine       POS  CN1CCN(CCCN2c3ccccc3Sc3ccc(cc23)C(F)(F)F)CC1  \n",
       "1  trifluoperazine       POS  CN1CCN(CCCN2c3ccccc3Sc3ccc(cc23)C(F)(F)F)CC1  \n",
       "2  trifluoperazine       POS  CN1CCN(CCCN2c3ccccc3Sc3ccc(cc23)C(F)(F)F)CC1  \n",
       "3  trifluoperazine       POS  CN1CCN(CCCN2c3ccccc3Sc3ccc(cc23)C(F)(F)F)CC1  \n",
       "4  trifluoperazine       POS  CN1CCN(CCCN2c3ccccc3Sc3ccc(cc23)C(F)(F)F)CC1  \n",
       "\n",
       "[5 rows x 983 columns]"
      ]
     },
     "execution_count": 162,
     "metadata": {},
     "output_type": "execute_result"
    }
   ],
   "source": [
    "cdrp_l1k_df2.head()"
   ]
  },
  {
   "cell_type": "code",
   "execution_count": 107,
   "metadata": {},
   "outputs": [],
   "source": [
    "# cdrp_l1k_df2.head()\n",
    "# cdrp_l1k.head()\n",
    "# cdrp_l1k_df2.groupby(['BROAD_CPD_ID']).size().mean()\n",
    "# cdrp_l1k_df2.groupby(['CPD_NAME']).size()"
   ]
  },
  {
   "cell_type": "markdown",
   "metadata": {},
   "source": [
    "### LUAD"
   ]
  },
  {
   "cell_type": "code",
   "execution_count": 12,
   "metadata": {},
   "outputs": [
    {
     "name": "stdout",
     "output_type": "stream",
     "text": [
      "TA.Lung_intended_clone_info_150406_confirmations_150407_WT_reference_calls_150420_ref2allele.txt\r\n",
      "TA.OE014_A549_96H.map\r\n",
      "TA.OE014_A549_96H_ZSPCINF_n2939x22268.gctx\r\n",
      "TA.OE015_A549_96H.map\r\n",
      "TA.OE015_A549_96H_ZSPCINF_n3006x22268.gctx\r\n",
      "high_rep_A549_8reps_141230_eVIP_compare_150421_conn_null.txt\r\n",
      "high_rep_A549_8reps_141230_eVIP_compare_150421_rep_null.txt\r\n",
      "landmark_probe_ids.grp\r\n",
      "lung_control_x_mutation_status.grp\r\n"
     ]
    }
   ],
   "source": [
    "ls ../../raw_profiles/l1000_LUAD/input/"
   ]
  },
  {
   "cell_type": "code",
   "execution_count": 39,
   "metadata": {},
   "outputs": [
    {
     "data": {
      "text/html": [
       "<div>\n",
       "<style scoped>\n",
       "    .dataframe tbody tr th:only-of-type {\n",
       "        vertical-align: middle;\n",
       "    }\n",
       "\n",
       "    .dataframe tbody tr th {\n",
       "        vertical-align: top;\n",
       "    }\n",
       "\n",
       "    .dataframe thead th {\n",
       "        text-align: right;\n",
       "    }\n",
       "</style>\n",
       "<table border=\"1\" class=\"dataframe\">\n",
       "  <thead>\n",
       "    <tr style=\"text-align: right;\">\n",
       "      <th></th>\n",
       "      <th>id</th>\n",
       "      <th>bead_batch</th>\n",
       "      <th>bead_revision</th>\n",
       "      <th>bead_set</th>\n",
       "      <th>cell_id</th>\n",
       "      <th>count_cv</th>\n",
       "      <th>count_mean</th>\n",
       "      <th>det_mode</th>\n",
       "      <th>det_plate</th>\n",
       "      <th>det_well</th>\n",
       "      <th>...</th>\n",
       "      <th>x_mutation_status</th>\n",
       "      <th>x_not_empty</th>\n",
       "      <th>x_number_orfs_per_gene</th>\n",
       "      <th>x_open_closed</th>\n",
       "      <th>x_orf_numbername</th>\n",
       "      <th>x_preferredgenename</th>\n",
       "      <th>x_protein_match</th>\n",
       "      <th>x_transcriptdb</th>\n",
       "      <th>zmad_ref</th>\n",
       "      <th>zmad_ref_well</th>\n",
       "    </tr>\n",
       "  </thead>\n",
       "  <tbody>\n",
       "    <tr>\n",
       "      <th>0</th>\n",
       "      <td>TA.OE014_A549_96H_X1_B19:A03</td>\n",
       "      <td>b19</td>\n",
       "      <td>r2</td>\n",
       "      <td>dp52,dp53</td>\n",
       "      <td>A549</td>\n",
       "      <td>25</td>\n",
       "      <td>33</td>\n",
       "      <td>duo</td>\n",
       "      <td>TA.OE014_A549_96H_X1_B19</td>\n",
       "      <td>A03</td>\n",
       "      <td>...</td>\n",
       "      <td>ACAT2_WT.o</td>\n",
       "      <td>-666</td>\n",
       "      <td>2</td>\n",
       "      <td>open</td>\n",
       "      <td>ORF017110.1_TRC317.1</td>\n",
       "      <td>acetoacetyl Coenzyme A thiolase|acetyl-CoA ace...</td>\n",
       "      <td>99.7</td>\n",
       "      <td>NM_005891.2</td>\n",
       "      <td>population</td>\n",
       "      <td>all</td>\n",
       "    </tr>\n",
       "    <tr>\n",
       "      <th>1</th>\n",
       "      <td>TA.OE014_A549_96H_X1_B19:A04</td>\n",
       "      <td>b19</td>\n",
       "      <td>r2</td>\n",
       "      <td>dp52,dp53</td>\n",
       "      <td>A549</td>\n",
       "      <td>25</td>\n",
       "      <td>35</td>\n",
       "      <td>duo</td>\n",
       "      <td>TA.OE014_A549_96H_X1_B19</td>\n",
       "      <td>A04</td>\n",
       "      <td>...</td>\n",
       "      <td>EBNA1BP2_WT.o</td>\n",
       "      <td>-666</td>\n",
       "      <td>2</td>\n",
       "      <td>open</td>\n",
       "      <td>ORF006664.1_TRC317.1</td>\n",
       "      <td>EBNA1-binding protein 2|nuclear FGF3 binding p...</td>\n",
       "      <td>100</td>\n",
       "      <td>NM_006824.2</td>\n",
       "      <td>population</td>\n",
       "      <td>all</td>\n",
       "    </tr>\n",
       "    <tr>\n",
       "      <th>2</th>\n",
       "      <td>TA.OE014_A549_96H_X1_B19:A05</td>\n",
       "      <td>b19</td>\n",
       "      <td>r2</td>\n",
       "      <td>dp52,dp53</td>\n",
       "      <td>A549</td>\n",
       "      <td>25</td>\n",
       "      <td>41</td>\n",
       "      <td>duo</td>\n",
       "      <td>TA.OE014_A549_96H_X1_B19</td>\n",
       "      <td>A05</td>\n",
       "      <td>...</td>\n",
       "      <td>BFP</td>\n",
       "      <td>-666</td>\n",
       "      <td>16</td>\n",
       "      <td>open</td>\n",
       "      <td>ORFC00001.1_TRC317.1</td>\n",
       "      <td>BFP</td>\n",
       "      <td>100</td>\n",
       "      <td>BFP.1</td>\n",
       "      <td>population</td>\n",
       "      <td>all</td>\n",
       "    </tr>\n",
       "    <tr>\n",
       "      <th>3</th>\n",
       "      <td>TA.OE014_A549_96H_X1_B19:A06</td>\n",
       "      <td>b19</td>\n",
       "      <td>r2</td>\n",
       "      <td>dp52,dp53</td>\n",
       "      <td>A549</td>\n",
       "      <td>25</td>\n",
       "      <td>35</td>\n",
       "      <td>duo</td>\n",
       "      <td>TA.OE014_A549_96H_X1_B19</td>\n",
       "      <td>A06</td>\n",
       "      <td>...</td>\n",
       "      <td>HCRED</td>\n",
       "      <td>-666</td>\n",
       "      <td>16</td>\n",
       "      <td>open</td>\n",
       "      <td>ORFC00002.1_TRC317.1</td>\n",
       "      <td>HcRed</td>\n",
       "      <td>100</td>\n",
       "      <td>HcRed.1</td>\n",
       "      <td>population</td>\n",
       "      <td>all</td>\n",
       "    </tr>\n",
       "    <tr>\n",
       "      <th>4</th>\n",
       "      <td>TA.OE014_A549_96H_X1_B19:A07</td>\n",
       "      <td>b19</td>\n",
       "      <td>r2</td>\n",
       "      <td>dp52,dp53</td>\n",
       "      <td>A549</td>\n",
       "      <td>24</td>\n",
       "      <td>55</td>\n",
       "      <td>duo</td>\n",
       "      <td>TA.OE014_A549_96H_X1_B19</td>\n",
       "      <td>A07</td>\n",
       "      <td>...</td>\n",
       "      <td>ABCB9_WT.c</td>\n",
       "      <td>-666</td>\n",
       "      <td>5</td>\n",
       "      <td>close</td>\n",
       "      <td>ORF024050.1_TRC317.1</td>\n",
       "      <td>ABC transporter 9 protein|ATP-binding cassette...</td>\n",
       "      <td>85.6</td>\n",
       "      <td>NM_001243014.1</td>\n",
       "      <td>population</td>\n",
       "      <td>all</td>\n",
       "    </tr>\n",
       "  </tbody>\n",
       "</table>\n",
       "<p>5 rows × 54 columns</p>\n",
       "</div>"
      ],
      "text/plain": [
       "                             id bead_batch bead_revision   bead_set cell_id  \\\n",
       "0  TA.OE014_A549_96H_X1_B19:A03        b19            r2  dp52,dp53    A549   \n",
       "1  TA.OE014_A549_96H_X1_B19:A04        b19            r2  dp52,dp53    A549   \n",
       "2  TA.OE014_A549_96H_X1_B19:A05        b19            r2  dp52,dp53    A549   \n",
       "3  TA.OE014_A549_96H_X1_B19:A06        b19            r2  dp52,dp53    A549   \n",
       "4  TA.OE014_A549_96H_X1_B19:A07        b19            r2  dp52,dp53    A549   \n",
       "\n",
       "  count_cv count_mean det_mode                 det_plate det_well  \\\n",
       "0       25         33      duo  TA.OE014_A549_96H_X1_B19      A03   \n",
       "1       25         35      duo  TA.OE014_A549_96H_X1_B19      A04   \n",
       "2       25         41      duo  TA.OE014_A549_96H_X1_B19      A05   \n",
       "3       25         35      duo  TA.OE014_A549_96H_X1_B19      A06   \n",
       "4       24         55      duo  TA.OE014_A549_96H_X1_B19      A07   \n",
       "\n",
       "       ...      x_mutation_status x_not_empty x_number_orfs_per_gene  \\\n",
       "0      ...             ACAT2_WT.o        -666                      2   \n",
       "1      ...          EBNA1BP2_WT.o        -666                      2   \n",
       "2      ...                    BFP        -666                     16   \n",
       "3      ...                  HCRED        -666                     16   \n",
       "4      ...             ABCB9_WT.c        -666                      5   \n",
       "\n",
       "  x_open_closed      x_orf_numbername  \\\n",
       "0        open    ORF017110.1_TRC317.1   \n",
       "1        open    ORF006664.1_TRC317.1   \n",
       "2          open  ORFC00001.1_TRC317.1   \n",
       "3          open  ORFC00002.1_TRC317.1   \n",
       "4         close  ORF024050.1_TRC317.1   \n",
       "\n",
       "                                 x_preferredgenename x_protein_match  \\\n",
       "0  acetoacetyl Coenzyme A thiolase|acetyl-CoA ace...            99.7   \n",
       "1  EBNA1-binding protein 2|nuclear FGF3 binding p...             100   \n",
       "2                                                BFP             100   \n",
       "3                                              HcRed             100   \n",
       "4  ABC transporter 9 protein|ATP-binding cassette...            85.6   \n",
       "\n",
       "   x_transcriptdb    zmad_ref zmad_ref_well  \n",
       "0     NM_005891.2  population           all  \n",
       "1     NM_006824.2  population           all  \n",
       "2           BFP.1  population           all  \n",
       "3         HcRed.1  population           all  \n",
       "4  NM_001243014.1  population           all  \n",
       "\n",
       "[5 rows x 54 columns]"
      ]
     },
     "execution_count": 39,
     "metadata": {},
     "output_type": "execute_result"
    }
   ],
   "source": [
    "luad_dataDir='../../raw_profiles/l1000_LUAD/'\n",
    "luad_info1 = pd.read_csv(luad_dataDir+\"/input/TA.OE014_A549_96H.map\", sep=\"\\t\", dtype=str)\n",
    "luad_info2 = pd.read_csv(luad_dataDir+\"/input/TA.OE015_A549_96H.map\", sep=\"\\t\", dtype=str)\n",
    "luad_info=pd.concat([luad_info1, luad_info2], ignore_index=True)\n",
    "luad_info.head()"
   ]
  },
  {
   "cell_type": "code",
   "execution_count": 53,
   "metadata": {},
   "outputs": [],
   "source": [
    "# luad_info.shape"
   ]
  },
  {
   "cell_type": "code",
   "execution_count": 51,
   "metadata": {},
   "outputs": [],
   "source": [
    "# luad_info2.x_mutation_status.unique()"
   ]
  },
  {
   "cell_type": "code",
   "execution_count": 56,
   "metadata": {},
   "outputs": [
    {
     "name": "stdout",
     "output_type": "stream",
     "text": [
      "(5945, 54) (4232, 979) (4232, 1032)\n"
     ]
    }
   ],
   "source": [
    "luad_l1k_df = parse(luad_dataDir+\"/output/high_rep_A549_8reps_141230_ZSPCINF_n4232x978.gctx\").data_df.T.reset_index()\n",
    "luad_l1k_df=luad_l1k_df.rename(columns={\"cid\":\"id\"})\n",
    "# cdrp_l1k_df['XX']=cdrp_l1k_df['cid'].str[0]\n",
    "# cdrp_l1k_df['BROAD_CPD_ID']=cdrp_l1k_df['cid'].str[2:15]\n",
    "luad_l1k_df2=pd.merge(luad_l1k_df, luad_info, how='inner',on=['id'])\n",
    "luad_l1k_df2=luad_l1k_df2.rename(columns={\"x_mutation_status\":\"allele\"})\n",
    "\n",
    "print(luad_info.shape,luad_l1k_df.shape,luad_l1k_df2.shape)\n",
    "luad_l1k_df2.to_csv('~/workspace_rosetta/workspace/preprocessed_data/LUAD-BBBC041-Caicedo/L1000/replicate_level_l1k.csv',index=False)"
   ]
  },
  {
   "cell_type": "code",
   "execution_count": 55,
   "metadata": {},
   "outputs": [],
   "source": [
    "STK11_p.G56W"
   ]
  },
  {
   "cell_type": "code",
   "execution_count": 37,
   "metadata": {},
   "outputs": [
    {
     "data": {
      "text/plain": [
       "(4232, 979)"
      ]
     },
     "execution_count": 37,
     "metadata": {},
     "output_type": "execute_result"
    }
   ],
   "source": [
    "luad_l1k_df.shape"
   ]
  },
  {
   "cell_type": "code",
   "execution_count": 42,
   "metadata": {},
   "outputs": [
    {
     "data": {
      "text/plain": [
       "(0, 1713)"
      ]
     },
     "execution_count": 42,
     "metadata": {},
     "output_type": "execute_result"
    }
   ],
   "source": [
    "len(set(luad_l1k_df.id)-set(luad_info.id)), len(set(luad_info.id)-set(luad_l1k_df.id))"
   ]
  },
  {
   "cell_type": "code",
   "execution_count": null,
   "metadata": {},
   "outputs": [],
   "source": []
  },
  {
   "cell_type": "code",
   "execution_count": 276,
   "metadata": {},
   "outputs": [],
   "source": [
    "# cdrp_l1k_df.groupby(['BROAD_CPD_ID']).size()\n",
    "# gene_info['CPD_TYPE'].unique()"
   ]
  },
  {
   "cell_type": "markdown",
   "metadata": {},
   "source": [
    "# Cell-Painting Data Set"
   ]
  },
  {
   "cell_type": "markdown",
   "metadata": {},
   "source": [
    "raw data\n",
    "- CDRP and TA-ORF are in /storage/data/marziehhaghighi/Rosetta/raw-profiles/\n",
    "- Luad is already processed by Juan, source of the files is at /storage/luad/profiles_cp\n",
    " in case you want to reformat"
   ]
  },
  {
   "cell_type": "markdown",
   "metadata": {},
   "source": [
    "### LUAD"
   ]
  },
  {
   "cell_type": "code",
   "execution_count": 102,
   "metadata": {},
   "outputs": [
    {
     "name": "stdout",
     "output_type": "stream",
     "text": [
      "52649.csv     52649_augmented.csv   52649_normalized_variable_selected.csv\r\n",
      "52649.sqlite  52649_normalized.csv  52649_normalized_variable_selected.gct\r\n"
     ]
    }
   ],
   "source": [
    "ls /storage/luad/profiles_cp/LUAD-BBBC043-Caicedo/52649/"
   ]
  },
  {
   "cell_type": "code",
   "execution_count": 87,
   "metadata": {},
   "outputs": [],
   "source": [
    "Y1=pd.read_csv('~/workspace_rosetta/workspace/preprocessed_data/LUAD-BBBC041-Caicedo/CellPainting/replicate_level_cp.csv')\n",
    "# Juan preprocessed df .   New\n",
    "# 'Allele'      ----->    'x_mutation_status'\n",
    "# 'Category'    ----->    ''??\n",
    "# 'Clone ID'    ----->    'PublicID'\n",
    "# 'Gene Symbol' ----->    'Symbol'"
   ]
  },
  {
   "cell_type": "code",
   "execution_count": 174,
   "metadata": {},
   "outputs": [
    {
     "name": "stdout",
     "output_type": "stream",
     "text": [
      "(1152, 14) (21106, 619) (21122, 623)\n",
      "(1152, 14) (21106, 619) (21122, 623)\n",
      "(1152, 14) (21106, 619) (21122, 623)\n"
     ]
    }
   ],
   "source": [
    "profileType=['_augmented','_normalized','_normalized_variable_selected']\n",
    "plates=os.listdir('/storage/luad/profiles_cp/LUAD-BBBC043-Caicedo/')\n",
    "for pt in profileType:\n",
    "    repLevelLuad0=[]\n",
    "    for p in plates:\n",
    "        repLevelLuad0.append(pd.read_csv('/storage/luad/profiles_cp/LUAD-BBBC043-Caicedo/'+p+'/'+p+pt+'.csv'))\n",
    "    repLevelLuad = pd.concat(repLevelLuad0)\n",
    "    metaLuad1=pd.read_csv('~/workspace_rosetta/workspace/raw_profiles/CP_LUAD/metadata/combined_platemaps_AHB_20150506_ssedits.csv')\n",
    "    metaLuad1=metaLuad1.rename(columns={\"PlateName\":\"Metadata_Plate_Map_Name\",'Well':'Metadata_Well'})\n",
    "    metaLuad1['Metadata_Well']=metaLuad1['Metadata_Well'].str.lower()\n",
    "    # metaLuad2=pd.read_csv('~/workspace_rosetta/workspace/raw_profiles/CP_LUAD/metadata/barcode_platemap.csv')\n",
    "    # Y[Y['Metadata_Well']=='g05']['Nuclei_Texture_Variance_Mito_5_0']\n",
    "    repLevelLuad2=pd.merge(repLevelLuad, metaLuad1, how='inner',on=['Metadata_Plate_Map_Name','Metadata_Well'])\n",
    "    repLevelLuad2.to_csv('~/workspace_rosetta/workspace/preprocessed_data/LUAD-BBBC041-Caicedo/CellPainting/replicate_level_cp'+pt+'.csv',index=False)\n",
    "    print(metaLuad1.shape,repLevelCDRP.shape,repLevelCDRP2.shape)    "
   ]
  },
  {
   "cell_type": "code",
   "execution_count": 98,
   "metadata": {},
   "outputs": [
    {
     "name": "stdout",
     "output_type": "stream",
     "text": [
      "(6144, 322) (4552, 314)\n"
     ]
    }
   ],
   "source": [
    "print(repLevelLuad2.shape,Y1.shape)"
   ]
  },
  {
   "cell_type": "code",
   "execution_count": 89,
   "metadata": {},
   "outputs": [],
   "source": [
    "# set(Y1.columns)-set(repLevelLuad2)"
   ]
  },
  {
   "cell_type": "code",
   "execution_count": 88,
   "metadata": {},
   "outputs": [],
   "source": [
    "# set(repLevelLuad2)-set(Y1.columns)"
   ]
  },
  {
   "cell_type": "code",
   "execution_count": 100,
   "metadata": {},
   "outputs": [],
   "source": [
    "# Y1[['Allele', 'Category', 'Clone ID', 'Gene Symbol']].head()"
   ]
  },
  {
   "cell_type": "code",
   "execution_count": 101,
   "metadata": {},
   "outputs": [],
   "source": [
    "# repLevelLuad2[repLevelLuad2['PublicID']=='BRDN0000553807'][['Col','InsertLength','NCBIGeneID','Name','OtherDescriptions','PublicID','Row','Symbol','Transcript','Vector','pert_type','x_mutation_status']].head()"
   ]
  },
  {
   "cell_type": "markdown",
   "metadata": {},
   "source": [
    "### CDRP"
   ]
  },
  {
   "cell_type": "code",
   "execution_count": 107,
   "metadata": {},
   "outputs": [
    {
     "name": "stdout",
     "output_type": "stream",
     "text": [
      "24277.csv     24277_augmented.csv   24277_normalized_variable_selected.csv\r\n",
      "24277.sqlite  24277_normalized.csv\r\n"
     ]
    }
   ],
   "source": [
    "ls /storage/data/marziehhaghighi/Rosetta/raw-profiles/CDRP/24277/"
   ]
  },
  {
   "cell_type": "code",
   "execution_count": 171,
   "metadata": {},
   "outputs": [
    {
     "name": "stdout",
     "output_type": "stream",
     "text": [
      "(1553, 5) (21106, 1800) (21122, 1804)\n",
      "(1553, 5) (21106, 1800) (21122, 1804)\n",
      "(1553, 5) (21106, 619) (21122, 623)\n"
     ]
    }
   ],
   "source": [
    "profileType=['_augmented','_normalized','_normalized_variable_selected']\n",
    "plates=os.listdir('/storage/data/marziehhaghighi/Rosetta/raw-profiles/CDRP/')\n",
    "for pt in profileType:\n",
    "    repLevelCDRP0=[]\n",
    "    for p in plates:\n",
    "        repLevelCDRP0.append(pd.read_csv('/storage/data/marziehhaghighi/Rosetta/raw-profiles/CDRP/'+p+'/'+p+pt+'.csv'))\n",
    "    repLevelCDRP = pd.concat(repLevelCDRP0)\n",
    "    metaCDRP1=pd.read_csv('~/workspace_rosetta/workspace/raw_profiles/CP_CDRP/metadata/metadata_CDRP.csv')\n",
    "    # metaCDRP1=metaCDRP1.rename(columns={\"PlateName\":\"Metadata_Plate_Map_Name\",'Well':'Metadata_Well'})\n",
    "    # metaCDRP1['Metadata_Well']=metaCDRP1['Metadata_Well'].str.lower()\n",
    "    repLevelCDRP2=pd.merge(repLevelCDRP, metaCDRP1, how='left',on=['Metadata_broad_sample'])\n",
    "    repLevelCDRP2.to_csv('~/workspace_rosetta/workspace/preprocessed_data/CDRPBIO-BBBC036-Bray/CellPainting/replicate_level_cp'+pt+'.csv',index=False)\n",
    "    print(metaCDRP1.shape,repLevelCDRP.shape,repLevelCDRP2.shape)"
   ]
  },
  {
   "cell_type": "code",
   "execution_count": 241,
   "metadata": {},
   "outputs": [
    {
     "data": {
      "text/html": [
       "<div>\n",
       "<style scoped>\n",
       "    .dataframe tbody tr th:only-of-type {\n",
       "        vertical-align: middle;\n",
       "    }\n",
       "\n",
       "    .dataframe tbody tr th {\n",
       "        vertical-align: top;\n",
       "    }\n",
       "\n",
       "    .dataframe thead th {\n",
       "        text-align: right;\n",
       "    }\n",
       "</style>\n",
       "<table border=\"1\" class=\"dataframe\">\n",
       "  <thead>\n",
       "    <tr style=\"text-align: right;\">\n",
       "      <th></th>\n",
       "      <th>0</th>\n",
       "      <th>1</th>\n",
       "      <th>2</th>\n",
       "      <th>3</th>\n",
       "      <th>4</th>\n",
       "      <th>5</th>\n",
       "      <th>6</th>\n",
       "      <th>7</th>\n",
       "      <th>8</th>\n",
       "      <th>9</th>\n",
       "      <th>...</th>\n",
       "      <th>1543</th>\n",
       "      <th>1544</th>\n",
       "      <th>1545</th>\n",
       "      <th>1546</th>\n",
       "      <th>1547</th>\n",
       "      <th>1548</th>\n",
       "      <th>1549</th>\n",
       "      <th>1550</th>\n",
       "      <th>1551</th>\n",
       "      <th>1552</th>\n",
       "    </tr>\n",
       "  </thead>\n",
       "  <tbody>\n",
       "    <tr>\n",
       "      <th>Metadata_broad_sample</th>\n",
       "      <td>BRD-A01078468-001-04-9</td>\n",
       "      <td>BRD-A01320529-001-05-9</td>\n",
       "      <td>BRD-A01593789-001-01-5</td>\n",
       "      <td>BRD-A01636364-003-04-5</td>\n",
       "      <td>BRD-A01787639-003-08-6</td>\n",
       "      <td>BRD-A02006392-001-06-5</td>\n",
       "      <td>BRD-A02710418-003-03-5</td>\n",
       "      <td>BRD-A02713983-001-02-0</td>\n",
       "      <td>BRD-A03816571-001-01-0</td>\n",
       "      <td>BRD-A04322457-003-03-9</td>\n",
       "      <td>...</td>\n",
       "      <td>BRD-K74212935-001-03-1</td>\n",
       "      <td>BRD-K74765201-001-01-9</td>\n",
       "      <td>BRD-K74913225-001-03-3</td>\n",
       "      <td>BRD-K75615183-001-01-7</td>\n",
       "      <td>BRD-K75641298-001-01-5</td>\n",
       "      <td>BRD-K76133116-001-01-2</td>\n",
       "      <td>BRD-K76274772-001-02-7</td>\n",
       "      <td>BRD-K76587808-001-02-0</td>\n",
       "      <td>BRD-K76775527-001-06-2</td>\n",
       "      <td>BRD-K76872913-001-02-8</td>\n",
       "    </tr>\n",
       "    <tr>\n",
       "      <th>Metadata_pert_iname</th>\n",
       "      <td>hexestrol</td>\n",
       "      <td>salmeterol</td>\n",
       "      <td>chlormadinone-acetate</td>\n",
       "      <td>bupivacaine</td>\n",
       "      <td>naftopidil</td>\n",
       "      <td>nitrendipine</td>\n",
       "      <td>meptazinol</td>\n",
       "      <td>NaN</td>\n",
       "      <td>CP-55940</td>\n",
       "      <td>isoprenaline</td>\n",
       "      <td>...</td>\n",
       "      <td>NaN</td>\n",
       "      <td>NaN</td>\n",
       "      <td>NaN</td>\n",
       "      <td>NaN</td>\n",
       "      <td>NaN</td>\n",
       "      <td>NaN</td>\n",
       "      <td>NaN</td>\n",
       "      <td>NaN</td>\n",
       "      <td>NaN</td>\n",
       "      <td>NaN</td>\n",
       "    </tr>\n",
       "    <tr>\n",
       "      <th>Metadata_pert_iname2</th>\n",
       "      <td>hexestrol</td>\n",
       "      <td>salmeterol</td>\n",
       "      <td>chlormadinone acetate</td>\n",
       "      <td>bupivacaine</td>\n",
       "      <td>naftopidil</td>\n",
       "      <td>nitrendipine</td>\n",
       "      <td>meptazinol</td>\n",
       "      <td>dihydrodeoxygedunin</td>\n",
       "      <td>BRD-A03816571</td>\n",
       "      <td>isoprenaline</td>\n",
       "      <td>...</td>\n",
       "      <td>NaN</td>\n",
       "      <td>NaN</td>\n",
       "      <td>NaN</td>\n",
       "      <td>NaN</td>\n",
       "      <td>NaN</td>\n",
       "      <td>NaN</td>\n",
       "      <td>NaN</td>\n",
       "      <td>NaN</td>\n",
       "      <td>NaN</td>\n",
       "      <td>NaN</td>\n",
       "    </tr>\n",
       "    <tr>\n",
       "      <th>Metadata_moa</th>\n",
       "      <td>synthetic estrogen</td>\n",
       "      <td>adrenergic receptor agonist</td>\n",
       "      <td>5 alpha reductase inhibitor</td>\n",
       "      <td>sodium channel blocker</td>\n",
       "      <td>adrenergic receptor antagonist</td>\n",
       "      <td>calcium channel blocker</td>\n",
       "      <td>opioid receptor agonist</td>\n",
       "      <td>growth factor receptor activator</td>\n",
       "      <td>cannabinoid receptor agonist|CC chemokine rece...</td>\n",
       "      <td>adrenergic receptor agonist</td>\n",
       "      <td>...</td>\n",
       "      <td>Dopamine agonist</td>\n",
       "      <td>Leukotriene receptor antagonist</td>\n",
       "      <td>Carbonic anhydrase inhibitor</td>\n",
       "      <td>Adrenergic receptor agonist</td>\n",
       "      <td>Dopamine receptor antagonist</td>\n",
       "      <td>Membrane integrity inhibitor</td>\n",
       "      <td>Ceramidase inhibitor</td>\n",
       "      <td>Antioxidant</td>\n",
       "      <td>Cyclooxygenase inhibitor</td>\n",
       "      <td>Aromatic hydrocarbon derivative</td>\n",
       "    </tr>\n",
       "    <tr>\n",
       "      <th>Metadata_target</th>\n",
       "      <td>AKR1C1, ESR1, ESR2</td>\n",
       "      <td>ADRB2</td>\n",
       "      <td>PGR</td>\n",
       "      <td>KCNA5, PTGER1, SCN10A, SCN4A</td>\n",
       "      <td>ADRA1A</td>\n",
       "      <td>CACNA1C, CACNA1D, CACNA1H, CACNA1S, CACNA2D1, ...</td>\n",
       "      <td>BCHE</td>\n",
       "      <td>NTRK2</td>\n",
       "      <td>CNR1, CNR2, CXCR4. GPR55</td>\n",
       "      <td>ADRB1, ADRB2, ADRB3, MAPK1, PIK3R1, PIK3R2, PI...</td>\n",
       "      <td>...</td>\n",
       "      <td>NaN</td>\n",
       "      <td>NaN</td>\n",
       "      <td>NaN</td>\n",
       "      <td>NaN</td>\n",
       "      <td>NaN</td>\n",
       "      <td>NaN</td>\n",
       "      <td>NaN</td>\n",
       "      <td>NaN</td>\n",
       "      <td>NaN</td>\n",
       "      <td>NaN</td>\n",
       "    </tr>\n",
       "  </tbody>\n",
       "</table>\n",
       "<p>5 rows × 1553 columns</p>\n",
       "</div>"
      ],
      "text/plain": [
       "                                         0                            1     \\\n",
       "Metadata_broad_sample  BRD-A01078468-001-04-9       BRD-A01320529-001-05-9   \n",
       "Metadata_pert_iname                 hexestrol                   salmeterol   \n",
       "Metadata_pert_iname2                hexestrol                   salmeterol   \n",
       "Metadata_moa               synthetic estrogen  adrenergic receptor agonist   \n",
       "Metadata_target            AKR1C1, ESR1, ESR2                        ADRB2   \n",
       "\n",
       "                                              2     \\\n",
       "Metadata_broad_sample       BRD-A01593789-001-01-5   \n",
       "Metadata_pert_iname          chlormadinone-acetate   \n",
       "Metadata_pert_iname2         chlormadinone acetate   \n",
       "Metadata_moa           5 alpha reductase inhibitor   \n",
       "Metadata_target                                PGR   \n",
       "\n",
       "                                               3     \\\n",
       "Metadata_broad_sample        BRD-A01636364-003-04-5   \n",
       "Metadata_pert_iname                     bupivacaine   \n",
       "Metadata_pert_iname2                    bupivacaine   \n",
       "Metadata_moa                 sodium channel blocker   \n",
       "Metadata_target        KCNA5, PTGER1, SCN10A, SCN4A   \n",
       "\n",
       "                                                 4     \\\n",
       "Metadata_broad_sample          BRD-A01787639-003-08-6   \n",
       "Metadata_pert_iname                        naftopidil   \n",
       "Metadata_pert_iname2                       naftopidil   \n",
       "Metadata_moa           adrenergic receptor antagonist   \n",
       "Metadata_target                                ADRA1A   \n",
       "\n",
       "                                                                    5     \\\n",
       "Metadata_broad_sample                             BRD-A02006392-001-06-5   \n",
       "Metadata_pert_iname                                         nitrendipine   \n",
       "Metadata_pert_iname2                                        nitrendipine   \n",
       "Metadata_moa                                     calcium channel blocker   \n",
       "Metadata_target        CACNA1C, CACNA1D, CACNA1H, CACNA1S, CACNA2D1, ...   \n",
       "\n",
       "                                          6     \\\n",
       "Metadata_broad_sample   BRD-A02710418-003-03-5   \n",
       "Metadata_pert_iname                 meptazinol   \n",
       "Metadata_pert_iname2                meptazinol   \n",
       "Metadata_moa           opioid receptor agonist   \n",
       "Metadata_target                           BCHE   \n",
       "\n",
       "                                                   7     \\\n",
       "Metadata_broad_sample            BRD-A02713983-001-02-0   \n",
       "Metadata_pert_iname                                 NaN   \n",
       "Metadata_pert_iname2                dihydrodeoxygedunin   \n",
       "Metadata_moa           growth factor receptor activator   \n",
       "Metadata_target                                   NTRK2   \n",
       "\n",
       "                                                                    8     \\\n",
       "Metadata_broad_sample                             BRD-A03816571-001-01-0   \n",
       "Metadata_pert_iname                                             CP-55940   \n",
       "Metadata_pert_iname2                                       BRD-A03816571   \n",
       "Metadata_moa           cannabinoid receptor agonist|CC chemokine rece...   \n",
       "Metadata_target                                 CNR1, CNR2, CXCR4. GPR55   \n",
       "\n",
       "                                                                    9     \\\n",
       "Metadata_broad_sample                             BRD-A04322457-003-03-9   \n",
       "Metadata_pert_iname                                         isoprenaline   \n",
       "Metadata_pert_iname2                                        isoprenaline   \n",
       "Metadata_moa                                 adrenergic receptor agonist   \n",
       "Metadata_target        ADRB1, ADRB2, ADRB3, MAPK1, PIK3R1, PIK3R2, PI...   \n",
       "\n",
       "                                    ...                 \\\n",
       "Metadata_broad_sample               ...                  \n",
       "Metadata_pert_iname                 ...                  \n",
       "Metadata_pert_iname2                ...                  \n",
       "Metadata_moa                        ...                  \n",
       "Metadata_target                     ...                  \n",
       "\n",
       "                                         1543  \\\n",
       "Metadata_broad_sample  BRD-K74212935-001-03-1   \n",
       "Metadata_pert_iname                       NaN   \n",
       "Metadata_pert_iname2                      NaN   \n",
       "Metadata_moa                 Dopamine agonist   \n",
       "Metadata_target                           NaN   \n",
       "\n",
       "                                                  1544  \\\n",
       "Metadata_broad_sample           BRD-K74765201-001-01-9   \n",
       "Metadata_pert_iname                                NaN   \n",
       "Metadata_pert_iname2                               NaN   \n",
       "Metadata_moa           Leukotriene receptor antagonist   \n",
       "Metadata_target                                    NaN   \n",
       "\n",
       "                                               1545  \\\n",
       "Metadata_broad_sample        BRD-K74913225-001-03-3   \n",
       "Metadata_pert_iname                             NaN   \n",
       "Metadata_pert_iname2                            NaN   \n",
       "Metadata_moa           Carbonic anhydrase inhibitor   \n",
       "Metadata_target                                 NaN   \n",
       "\n",
       "                                              1546  \\\n",
       "Metadata_broad_sample       BRD-K75615183-001-01-7   \n",
       "Metadata_pert_iname                            NaN   \n",
       "Metadata_pert_iname2                           NaN   \n",
       "Metadata_moa           Adrenergic receptor agonist   \n",
       "Metadata_target                                NaN   \n",
       "\n",
       "                                               1547  \\\n",
       "Metadata_broad_sample        BRD-K75641298-001-01-5   \n",
       "Metadata_pert_iname                             NaN   \n",
       "Metadata_pert_iname2                            NaN   \n",
       "Metadata_moa           Dopamine receptor antagonist   \n",
       "Metadata_target                                 NaN   \n",
       "\n",
       "                                               1548                    1549  \\\n",
       "Metadata_broad_sample        BRD-K76133116-001-01-2  BRD-K76274772-001-02-7   \n",
       "Metadata_pert_iname                             NaN                     NaN   \n",
       "Metadata_pert_iname2                            NaN                     NaN   \n",
       "Metadata_moa           Membrane integrity inhibitor    Ceramidase inhibitor   \n",
       "Metadata_target                                 NaN                     NaN   \n",
       "\n",
       "                                         1550                      1551  \\\n",
       "Metadata_broad_sample  BRD-K76587808-001-02-0    BRD-K76775527-001-06-2   \n",
       "Metadata_pert_iname                       NaN                       NaN   \n",
       "Metadata_pert_iname2                      NaN                       NaN   \n",
       "Metadata_moa                      Antioxidant  Cyclooxygenase inhibitor   \n",
       "Metadata_target                           NaN                       NaN   \n",
       "\n",
       "                                                  1552  \n",
       "Metadata_broad_sample           BRD-K76872913-001-02-8  \n",
       "Metadata_pert_iname                                NaN  \n",
       "Metadata_pert_iname2                               NaN  \n",
       "Metadata_moa           Aromatic hydrocarbon derivative  \n",
       "Metadata_target                                    NaN  \n",
       "\n",
       "[5 rows x 1553 columns]"
      ]
     },
     "execution_count": 241,
     "metadata": {},
     "output_type": "execute_result"
    }
   ],
   "source": [
    "metaCDRP1.T"
   ]
  },
  {
   "cell_type": "code",
   "execution_count": 247,
   "metadata": {},
   "outputs": [
    {
     "data": {
      "text/html": [
       "<div>\n",
       "<style scoped>\n",
       "    .dataframe tbody tr th:only-of-type {\n",
       "        vertical-align: middle;\n",
       "    }\n",
       "\n",
       "    .dataframe tbody tr th {\n",
       "        vertical-align: top;\n",
       "    }\n",
       "\n",
       "    .dataframe thead th {\n",
       "        text-align: right;\n",
       "    }\n",
       "</style>\n",
       "<table border=\"1\" class=\"dataframe\">\n",
       "  <thead>\n",
       "    <tr style=\"text-align: right;\">\n",
       "      <th></th>\n",
       "      <th>Metadata_broad_sample</th>\n",
       "      <th>Metadata_pert_iname</th>\n",
       "      <th>Metadata_pert_iname2</th>\n",
       "      <th>Metadata_moa</th>\n",
       "      <th>Metadata_target</th>\n",
       "    </tr>\n",
       "  </thead>\n",
       "  <tbody>\n",
       "    <tr>\n",
       "      <th>1</th>\n",
       "      <td>BRD-A01320529-001-05-9</td>\n",
       "      <td>salmeterol</td>\n",
       "      <td>salmeterol</td>\n",
       "      <td>adrenergic receptor agonist</td>\n",
       "      <td>ADRB2</td>\n",
       "    </tr>\n",
       "  </tbody>\n",
       "</table>\n",
       "</div>"
      ],
      "text/plain": [
       "    Metadata_broad_sample Metadata_pert_iname Metadata_pert_iname2  \\\n",
       "1  BRD-A01320529-001-05-9          salmeterol           salmeterol   \n",
       "\n",
       "                  Metadata_moa Metadata_target  \n",
       "1  adrenergic receptor agonist           ADRB2  "
      ]
     },
     "execution_count": 247,
     "metadata": {},
     "output_type": "execute_result"
    }
   ],
   "source": [
    "metaCDRP1[metaCDRP1['Metadata_broad_sample']=='BRD-A01320529-001-05-9'] \n",
    "# BRD-A13084692-001-05-8"
   ]
  },
  {
   "cell_type": "code",
   "execution_count": null,
   "metadata": {},
   "outputs": [],
   "source": []
  },
  {
   "cell_type": "markdown",
   "metadata": {},
   "source": [
    "### TA-ORF"
   ]
  },
  {
   "cell_type": "code",
   "execution_count": 123,
   "metadata": {},
   "outputs": [
    {
     "name": "stdout",
     "output_type": "stream",
     "text": [
      "metadata_TA.csv  metadata_TA_2.csv\r\n"
     ]
    }
   ],
   "source": [
    "ls ~/workspace_rosetta/workspace/raw_profiles/CP_TA_ORF/metadata/"
   ]
  },
  {
   "cell_type": "code",
   "execution_count": 173,
   "metadata": {},
   "outputs": [],
   "source": [
    "# ls /storage/data/marziehhaghighi/Rosetta/raw-profiles/TA-ORF-BBBC037-Rohban/41757"
   ]
  },
  {
   "cell_type": "code",
   "execution_count": 6,
   "metadata": {},
   "outputs": [
    {
     "name": "stdout",
     "output_type": "stream",
     "text": [
      "(205, 4) (1920, 1801) (1920, 1804)\n",
      "(205, 4) (1920, 1801) (1920, 1804)\n",
      "(205, 4) (1920, 81) (1920, 84)\n"
     ]
    }
   ],
   "source": [
    "profileType=['_augmented','_normalized','_normalized_variable_selected']\n",
    "plates=os.listdir('/storage/data/marziehhaghighi/Rosetta/raw-profiles/TA-ORF-BBBC037-Rohban/')\n",
    "for pt in profileType:\n",
    "    repLevelTA0=[]\n",
    "    for p in plates:\n",
    "        repLevelTA0.append(pd.read_csv('/storage/data/marziehhaghighi/Rosetta/raw-profiles/TA-ORF-BBBC037-Rohban/'+p+'/'+p+pt+'.csv'))\n",
    "    repLevelTA = pd.concat(repLevelTA0)\n",
    "    metaTA1=pd.read_csv('~/workspace_rosetta/workspace/raw_profiles/CP_TA_ORF/metadata/metadata_TA.csv')\n",
    "    metaTA2=pd.read_csv('~/workspace_rosetta/workspace/raw_profiles/CP_TA_ORF/metadata/metadata_TA_2.csv')\n",
    "    metaTA2=metaTA2.rename(columns={\"Metadata_broad_sample\":\"Metadata_broad_sample_2\",'Metadata_Treatment':'Gene Allele Name'})\n",
    "    metaTA=pd.merge(metaTA1, metaTA2, how='left',on=['Gene Allele Name'])\n",
    "    repLevelTA2=pd.merge(repLevelTA, metaTA, how='left',on=['Metadata_broad_sample'])\n",
    "    repLevelTA2=repLevelTA2.rename(columns={\"Gene Allele Name\":\"Allele\"})\n",
    "    repLevelTA2.to_csv('~/workspace_rosetta/workspace/preprocessed_data/TA-ORF-BBBC037-Rohban/CellPainting/replicate_level_cp'+pt+'.csv',index=False)\n",
    "    print(metaTA.shape,repLevelTA.shape,repLevelTA2.shape)\n"
   ]
  },
  {
   "cell_type": "code",
   "execution_count": 169,
   "metadata": {},
   "outputs": [
    {
     "name": "stdout",
     "output_type": "stream",
     "text": [
      "\u001b[0m\u001b[01;34mCDRPBIO-BBBC036-Bray\u001b[0m/  \u001b[01;34mLUAD-BBBC041-Caicedo\u001b[0m/  \u001b[01;34mTA-ORF-BBBC037-Rohban\u001b[0m/\r\n"
     ]
    }
   ],
   "source": [
    "ls ~/workspace_rosetta/workspace/preprocessed_data/"
   ]
  },
  {
   "cell_type": "code",
   "execution_count": 7,
   "metadata": {},
   "outputs": [
    {
     "data": {
      "text/html": [
       "<div>\n",
       "<style scoped>\n",
       "    .dataframe tbody tr th:only-of-type {\n",
       "        vertical-align: middle;\n",
       "    }\n",
       "\n",
       "    .dataframe tbody tr th {\n",
       "        vertical-align: top;\n",
       "    }\n",
       "\n",
       "    .dataframe thead th {\n",
       "        text-align: right;\n",
       "    }\n",
       "</style>\n",
       "<table border=\"1\" class=\"dataframe\">\n",
       "  <thead>\n",
       "    <tr style=\"text-align: right;\">\n",
       "      <th></th>\n",
       "      <th>Metadata_Plate</th>\n",
       "      <th>Metadata_Well</th>\n",
       "      <th>Metadata_Assay_Plate_Barcode</th>\n",
       "      <th>Metadata_Plate_Map_Name</th>\n",
       "      <th>Metadata_well_position</th>\n",
       "      <th>Metadata_gene_name</th>\n",
       "      <th>Metadata_pert_name</th>\n",
       "      <th>Metadata_broad_sample</th>\n",
       "      <th>Metadata_cell_line</th>\n",
       "      <th>Metadata_ASSAY_WELL_ROLE</th>\n",
       "      <th>...</th>\n",
       "      <th>Nuclei_Texture_DifferenceVariance_ER_10_0</th>\n",
       "      <th>Nuclei_Texture_DifferenceVariance_RNA_3_0</th>\n",
       "      <th>Nuclei_Texture_Gabor_RNA_5</th>\n",
       "      <th>Nuclei_Texture_InfoMeas1_AGP_3_0</th>\n",
       "      <th>Nuclei_Texture_InfoMeas1_ER_3_0</th>\n",
       "      <th>Nuclei_Texture_InverseDifferenceMoment_DNA_10_0</th>\n",
       "      <th>Nuclei_Texture_Variance_ER_10_0</th>\n",
       "      <th>Metadata_moa</th>\n",
       "      <th>Allele</th>\n",
       "      <th>Metadata_broad_sample_2</th>\n",
       "    </tr>\n",
       "  </thead>\n",
       "  <tbody>\n",
       "    <tr>\n",
       "      <th>0</th>\n",
       "      <td>41757</td>\n",
       "      <td>a01</td>\n",
       "      <td>41757</td>\n",
       "      <td>TAORF_REFERENCE_SET</td>\n",
       "      <td>a01</td>\n",
       "      <td>EMPTY</td>\n",
       "      <td>EMPTY_</td>\n",
       "      <td>NaN</td>\n",
       "      <td>U2OS</td>\n",
       "      <td>Untreated</td>\n",
       "      <td>...</td>\n",
       "      <td>0.183206</td>\n",
       "      <td>-0.856756</td>\n",
       "      <td>-0.862536</td>\n",
       "      <td>-0.461538</td>\n",
       "      <td>-0.447009</td>\n",
       "      <td>-0.146888</td>\n",
       "      <td>0.324970</td>\n",
       "      <td>NaN</td>\n",
       "      <td>NaN</td>\n",
       "      <td>NaN</td>\n",
       "    </tr>\n",
       "    <tr>\n",
       "      <th>1</th>\n",
       "      <td>41757</td>\n",
       "      <td>a02</td>\n",
       "      <td>41757</td>\n",
       "      <td>TAORF_REFERENCE_SET</td>\n",
       "      <td>a02</td>\n",
       "      <td>EMPTY</td>\n",
       "      <td>EMPTY_</td>\n",
       "      <td>NaN</td>\n",
       "      <td>U2OS</td>\n",
       "      <td>Untreated</td>\n",
       "      <td>...</td>\n",
       "      <td>0.155044</td>\n",
       "      <td>-0.495609</td>\n",
       "      <td>-0.523758</td>\n",
       "      <td>-0.270407</td>\n",
       "      <td>-0.217454</td>\n",
       "      <td>0.063475</td>\n",
       "      <td>0.179015</td>\n",
       "      <td>NaN</td>\n",
       "      <td>NaN</td>\n",
       "      <td>NaN</td>\n",
       "    </tr>\n",
       "    <tr>\n",
       "      <th>2</th>\n",
       "      <td>41757</td>\n",
       "      <td>a03</td>\n",
       "      <td>41757</td>\n",
       "      <td>TAORF_REFERENCE_SET</td>\n",
       "      <td>a03</td>\n",
       "      <td>ATF4</td>\n",
       "      <td>ATF4_WT.1</td>\n",
       "      <td>ccsbBroad304_00117</td>\n",
       "      <td>U2OS</td>\n",
       "      <td>Treated</td>\n",
       "      <td>...</td>\n",
       "      <td>0.038611</td>\n",
       "      <td>-0.173200</td>\n",
       "      <td>-0.288950</td>\n",
       "      <td>-0.015038</td>\n",
       "      <td>0.203154</td>\n",
       "      <td>0.118011</td>\n",
       "      <td>0.079778</td>\n",
       "      <td>ER Stress/UPR</td>\n",
       "      <td>ATF4_WT.1</td>\n",
       "      <td>ccsbBroad304_00117</td>\n",
       "    </tr>\n",
       "    <tr>\n",
       "      <th>3</th>\n",
       "      <td>41757</td>\n",
       "      <td>a04</td>\n",
       "      <td>41757</td>\n",
       "      <td>TAORF_REFERENCE_SET</td>\n",
       "      <td>a04</td>\n",
       "      <td>TSC2</td>\n",
       "      <td>TSC2_WT</td>\n",
       "      <td>ccsbBroad304_07101</td>\n",
       "      <td>U2OS</td>\n",
       "      <td>Treated</td>\n",
       "      <td>...</td>\n",
       "      <td>0.103447</td>\n",
       "      <td>-0.166625</td>\n",
       "      <td>-0.287975</td>\n",
       "      <td>-0.188032</td>\n",
       "      <td>-0.203401</td>\n",
       "      <td>0.091849</td>\n",
       "      <td>0.041468</td>\n",
       "      <td>TOR</td>\n",
       "      <td>TSC2_WT</td>\n",
       "      <td>ccsbBroad304_07101</td>\n",
       "    </tr>\n",
       "    <tr>\n",
       "      <th>4</th>\n",
       "      <td>41757</td>\n",
       "      <td>a05</td>\n",
       "      <td>41757</td>\n",
       "      <td>TAORF_REFERENCE_SET</td>\n",
       "      <td>a05</td>\n",
       "      <td>BAX</td>\n",
       "      <td>BAX_WT</td>\n",
       "      <td>ccsbBroad304_00150</td>\n",
       "      <td>U2OS</td>\n",
       "      <td>Treated</td>\n",
       "      <td>...</td>\n",
       "      <td>0.344871</td>\n",
       "      <td>-0.158059</td>\n",
       "      <td>-0.165045</td>\n",
       "      <td>-0.089917</td>\n",
       "      <td>0.017127</td>\n",
       "      <td>0.080408</td>\n",
       "      <td>0.342911</td>\n",
       "      <td>Apoptosis</td>\n",
       "      <td>BAX_WT</td>\n",
       "      <td>ccsbBroad304_00150</td>\n",
       "    </tr>\n",
       "  </tbody>\n",
       "</table>\n",
       "<p>5 rows × 84 columns</p>\n",
       "</div>"
      ],
      "text/plain": [
       "   Metadata_Plate Metadata_Well  Metadata_Assay_Plate_Barcode  \\\n",
       "0           41757           a01                         41757   \n",
       "1           41757           a02                         41757   \n",
       "2           41757           a03                         41757   \n",
       "3           41757           a04                         41757   \n",
       "4           41757           a05                         41757   \n",
       "\n",
       "  Metadata_Plate_Map_Name Metadata_well_position Metadata_gene_name  \\\n",
       "0     TAORF_REFERENCE_SET                    a01              EMPTY   \n",
       "1     TAORF_REFERENCE_SET                    a02              EMPTY   \n",
       "2     TAORF_REFERENCE_SET                    a03               ATF4   \n",
       "3     TAORF_REFERENCE_SET                    a04               TSC2   \n",
       "4     TAORF_REFERENCE_SET                    a05                BAX   \n",
       "\n",
       "  Metadata_pert_name Metadata_broad_sample Metadata_cell_line  \\\n",
       "0             EMPTY_                   NaN               U2OS   \n",
       "1             EMPTY_                   NaN               U2OS   \n",
       "2          ATF4_WT.1    ccsbBroad304_00117               U2OS   \n",
       "3            TSC2_WT    ccsbBroad304_07101               U2OS   \n",
       "4             BAX_WT    ccsbBroad304_00150               U2OS   \n",
       "\n",
       "  Metadata_ASSAY_WELL_ROLE           ...             \\\n",
       "0                Untreated           ...              \n",
       "1                Untreated           ...              \n",
       "2                  Treated           ...              \n",
       "3                  Treated           ...              \n",
       "4                  Treated           ...              \n",
       "\n",
       "   Nuclei_Texture_DifferenceVariance_ER_10_0  \\\n",
       "0                                   0.183206   \n",
       "1                                   0.155044   \n",
       "2                                   0.038611   \n",
       "3                                   0.103447   \n",
       "4                                   0.344871   \n",
       "\n",
       "   Nuclei_Texture_DifferenceVariance_RNA_3_0 Nuclei_Texture_Gabor_RNA_5  \\\n",
       "0                                  -0.856756                  -0.862536   \n",
       "1                                  -0.495609                  -0.523758   \n",
       "2                                  -0.173200                  -0.288950   \n",
       "3                                  -0.166625                  -0.287975   \n",
       "4                                  -0.158059                  -0.165045   \n",
       "\n",
       "  Nuclei_Texture_InfoMeas1_AGP_3_0  Nuclei_Texture_InfoMeas1_ER_3_0  \\\n",
       "0                        -0.461538                        -0.447009   \n",
       "1                        -0.270407                        -0.217454   \n",
       "2                        -0.015038                         0.203154   \n",
       "3                        -0.188032                        -0.203401   \n",
       "4                        -0.089917                         0.017127   \n",
       "\n",
       "  Nuclei_Texture_InverseDifferenceMoment_DNA_10_0  \\\n",
       "0                                       -0.146888   \n",
       "1                                        0.063475   \n",
       "2                                        0.118011   \n",
       "3                                        0.091849   \n",
       "4                                        0.080408   \n",
       "\n",
       "  Nuclei_Texture_Variance_ER_10_0   Metadata_moa     Allele  \\\n",
       "0                        0.324970            NaN        NaN   \n",
       "1                        0.179015            NaN        NaN   \n",
       "2                        0.079778  ER Stress/UPR  ATF4_WT.1   \n",
       "3                        0.041468            TOR    TSC2_WT   \n",
       "4                        0.342911      Apoptosis     BAX_WT   \n",
       "\n",
       "   Metadata_broad_sample_2  \n",
       "0                      NaN  \n",
       "1                      NaN  \n",
       "2       ccsbBroad304_00117  \n",
       "3       ccsbBroad304_07101  \n",
       "4       ccsbBroad304_00150  \n",
       "\n",
       "[5 rows x 84 columns]"
      ]
     },
     "execution_count": 7,
     "metadata": {},
     "output_type": "execute_result"
    }
   ],
   "source": [
    "# np.sort(metaTA2['Metadata_Treatment'].unique())\n",
    "repLevelTA2.head()"
   ]
  },
  {
   "cell_type": "code",
   "execution_count": 177,
   "metadata": {},
   "outputs": [],
   "source": [
    "# set(metaTA1['Gene Allele Name'].unique())-set(metaTA2['Metadata_Treatment'].unique())"
   ]
  },
  {
   "cell_type": "code",
   "execution_count": 176,
   "metadata": {},
   "outputs": [],
   "source": [
    "# repLevelTA2.head()"
   ]
  },
  {
   "cell_type": "code",
   "execution_count": 175,
   "metadata": {},
   "outputs": [],
   "source": [
    "# Y1"
   ]
  },
  {
   "cell_type": "code",
   "execution_count": null,
   "metadata": {},
   "outputs": [],
   "source": []
  }
 ],
 "metadata": {
  "kernelspec": {
   "display_name": "Python 3",
   "language": "python",
   "name": "python3"
  },
  "language_info": {
   "codemirror_mode": {
    "name": "ipython",
    "version": 3
   },
   "file_extension": ".py",
   "mimetype": "text/x-python",
   "name": "python",
   "nbconvert_exporter": "python",
   "pygments_lexer": "ipython3",
   "version": "3.6.4"
  }
 },
 "nbformat": 4,
 "nbformat_minor": 2
}
