{
 "cells": [
  {
   "cell_type": "code",
   "execution_count": 9,
   "metadata": {},
   "outputs": [
    {
     "name": "stdout",
     "output_type": "stream",
     "text": [
      "The autoreload extension is already loaded. To reload it, use:\n",
      "  %reload_ext autoreload\n"
     ]
    }
   ],
   "source": [
    "%matplotlib inline\n",
    "%load_ext autoreload\n",
    "%autoreload 2\n",
    "from comet_ml import Experiment\n",
    "import numpy as np\n",
    "import scipy.spatial\n",
    "import pandas as pd\n",
    "import comet_ml\n",
    "import sklearn.decomposition\n",
    "import matplotlib.pyplot as plt\n",
    "# import keras\n",
    "from sklearn import preprocessing\n",
    "from sklearn.metrics import pairwise_distances,mean_absolute_error, mean_squared_error\n",
    "import matplotlib.pyplot as plt\n",
    "import seaborn as sns\n",
    "from utils.readProfiles import readMergedProfiles,readMergedProfiles2\n",
    "from utils.pred_models import *\n",
    "from utils.saveAsNewSheetToExistingFile import saveAsNewSheetToExistingFile\n",
    "\n",
    "\n",
    "# from utils import networksEvol, tsne, readProfiles\n",
    "import umap"
   ]
  },
  {
   "cell_type": "code",
   "execution_count": null,
   "metadata": {},
   "outputs": [],
   "source": []
  },
  {
   "cell_type": "code",
   "execution_count": 2,
   "metadata": {},
   "outputs": [],
   "source": [
    "# ls"
   ]
  },
  {
   "cell_type": "code",
   "execution_count": 7,
   "metadata": {},
   "outputs": [],
   "source": [
    "# Resss=pd.read_csv('results-nnC.csv')\n",
    "# Resss=Resss['nnC'].apply(lambda x: x[1:-1])\n",
    "# Resss=Resss.astype(float)\n",
    "# Resss.mean()"
   ]
  },
  {
   "cell_type": "code",
   "execution_count": 8,
   "metadata": {},
   "outputs": [],
   "source": [
    "# Resss=pd.read_csv('results-replicate-nnC.csv')\n",
    "# Resss=Resss[['nn','nnC']].apply(lambda x: x[1:-1])\n",
    "# Resss=Resss.astype(float)\n",
    "# Resss.mean()"
   ]
  },
  {
   "cell_type": "code",
   "execution_count": 9,
   "metadata": {},
   "outputs": [],
   "source": [
    "# x=pd.read_csv(dataDir+\"TAOE014015_CellPainting_Resnet/morphology.csv\")\n",
    "# x.columns[x.columns.str.contains('etadata')]"
   ]
  },
  {
   "cell_type": "code",
   "execution_count": 10,
   "metadata": {},
   "outputs": [],
   "source": [
    "# x.columns[x.columns.str.contains('url')]"
   ]
  },
  {
   "cell_type": "code",
   "execution_count": 16,
   "metadata": {},
   "outputs": [
    {
     "data": {
      "text/plain": [
       "'/home/marziehhaghighi/workspace_rosetta/workspace/software/2018_04_20_Rosetta'"
      ]
     },
     "execution_count": 16,
     "metadata": {},
     "output_type": "execute_result"
    }
   ],
   "source": [
    "pwd"
   ]
  },
  {
   "cell_type": "code",
   "execution_count": 24,
   "metadata": {},
   "outputs": [],
   "source": [
    "# dataDir=\"~/workspace_rosetta/workspace/collated/\"\n",
    "# l1k = multimodal_data.load_l1000(dataDir+\"TAOE014015_L1000/replicate_level_all_alleles.csv\")\n",
    "# cp = multimodal_data.load_cell_painting(\n",
    "#     dataDir+\"TAOE014015_CellPainting_Resnet/morphology.csv\", \n",
    "#     dataDir+\"TAOE014015_CellPainting_Resnet/resnet18-validation-well_profiles.csv\", \n",
    "#     aggregate_replicates=False\n",
    "# )\n",
    "# print(l1k.shape,cp.shape)\n",
    "# l1k_features\n",
    "# cp_features\n",
    "# mergProf_treatLevel"
   ]
  },
  {
   "cell_type": "markdown",
   "metadata": {},
   "source": [
    "# Load data\n",
    "\n",
    "\n",
    "\n",
    "- CDRPBIO-BBBC047-Bray-CP-GE (Cell line: U2OS):\n",
    "    * There are 30,430 and 21,782 unique compounds for CP and GE datasets, respectively.\n",
    "    * Median number of replicates for each dataset is as follows: CP: ~4 , GE: ~3. \n",
    "    * 20,358 compounds are present in both datasets.\n",
    "    * Replicate Level Shapes (nSamples x nFeatures): cp:  (153386 , 1783) ,  ge:  (68120 , 977)\n",
    "    * Treatment Level Shapes (nSamples x nFeatures): cp:  (30430, 1786)   ,  ge:  (21782, 981) \n",
    "    * Merged Profiles Shape:                              (20358, 2766)\n",
    "    \n",
    "    \n",
    "- LUAD-BBBC041-Caicedo-CP-GE (Cell line: A549) : \n",
    "    * There are 593 and 529 unique alleles for CP and GE datasets, respectively.\n",
    "    * Median number of replicates for each dataset is as follows: CP: ~8, GE: ~8.\n",
    "    * 525 alleles are present in both datasets.\n",
    "    * Replicate Level Shapes (nSamples x nFeatures): cp:  (6144 , 1783) ,  ge:  (4232 , 978)\n",
    "    * Treatment Level Shapes (nSamples x nFeatures): cp: (593, 1786) , ge: (529, 979) \n",
    "    * Merged Profiles Shape:                             (525, 2764)    \n",
    "    \n",
    "    \n",
    "- TA-ORF-BBBC037-Rohban-CP-GE (Cell line: U2OS) :\n",
    "    * There are 299 and 226 number of unique compounds for CP and GE datasets respectively.\n",
    "    * Median number of replicates for each dataset is as follows: CP: ~5 , GE: ~2.\n",
    "    * 188 alleles are present in both datasets.\n",
    "    * Replicate Level Shapes (nSamples x nFeatures):         cp: (1920 , 1783) ,  ge: (729 , 978)\n",
    "    * Treatment Level Shapes (nSamples x nFeatures+metadata):cp: (323, 1784)   ,  ge: (328, 979)\n",
    "    * Merged Profiles Shape:                                     (149, 2762)\n",
    "    \n",
    "    \n",
    "- LINCS-Pilot1-CP-GE (Cell line: A549) :\n",
    "    * There are 1570 unique compounds across 7 doses for CP dataset\n",
    "    * There are x unique compounds across 7 doses for GE dataset\n",
    "    * Median number of replicates for each dataset is as follows: CP: ~5 , GE: ~3.\n",
    "    * 6984 \"compounds-dose\" are present in both datasets. \n",
    "    * Replicate Level Shapes (nSamples x nFeatures):         cp: (52223 , 1747) ,  ge: (27837 , 978)\n",
    "    * Treatment Level Shapes (nSamples x nFeatures+metadata):cp: (9394, 1748)   ,  ge: (8370, 979)\n",
    "    * Merged Profiles Shape:                                     (6984, 2726)\n"
   ]
  },
  {
   "cell_type": "code",
   "execution_count": 37,
   "metadata": {},
   "outputs": [
    {
     "name": "stdout",
     "output_type": "stream",
     "text": [
      "RepCorrDF2.xlsx  RepCorrDF.xlsx\r\n"
     ]
    }
   ],
   "source": [
    "ls ../../results/RepCor/RepCorrDF.xlsx"
   ]
  },
  {
   "cell_type": "code",
   "execution_count": 8,
   "metadata": {},
   "outputs": [],
   "source": []
  },
  {
   "cell_type": "code",
   "execution_count": 18,
   "metadata": {},
   "outputs": [
    {
     "name": "stderr",
     "output_type": "stream",
     "text": [
      "/home/ubuntu/anaconda3/lib/python3.8/site-packages/IPython/core/interactiveshell.py:3071: DtypeWarning: Columns (18,19,1820,1821) have mixed types.Specify dtype option on import or set low_memory=False.\n",
      "  has_raised = await self.run_ast_nodes(code_ast.body, cell_name,\n"
     ]
    }
   ],
   "source": [
    "#'dataset_name',['folder_name',[cp_pert_col_name,l1k_pert_col_name],[cp_control_val,l1k_control_val]]\n",
    "profileType='normalized'\n",
    "ds_info_dict={'CDRP':['CDRPBIO-BBBC036-Bray',['Metadata_broad_sample','pert_id_dose'],[['DMSO_0.04'],['DMSO_-666']]],\n",
    "              'TAORF':['TA-ORF-BBBC037-Rohban',['Metadata_broad_sample','pert_id',],[['DMSO_0.04'],['DMSO_-666']]],\n",
    "              'LUAD':['LUAD-BBBC041-Caicedo',['x_mutation_status','allele'],[['DMSO_0.04'],['DMSO_-666']]],\n",
    "              'LINCS':['LINCS-Pilot1',['Metadata_pert_id_dose','pert_id_dose'],[[np.nan],['DMSO_-666']]]}\n",
    "\n",
    "dataDir='./preprocessed_data/'+ds_info_dict[dataset][0]+'/'\n",
    "\n",
    "cp_data_repLevel=pd.read_csv(dataDir+'/CellPainting/replicate_level_cp_'+profileType+'.csv.gz')    \n",
    "l1k_data_repLevel=pd.read_csv(dataDir+'/L1000/replicate_level_l1k.csv.gz')  "
   ]
  },
  {
   "cell_type": "code",
   "execution_count": 25,
   "metadata": {},
   "outputs": [],
   "source": [
    "cp_features=cp_data_repLevel.columns[cp_data_repLevel.columns.str.contains(\"Cells_|Cytoplasm_|Nuclei_\")].tolist()\n",
    "cp_data_repLevel2=cp_data_repLevel[set(cp_data_repLevel.columns.tolist())-set(cp_features)]#['Metadata_pert_id_dose']\n",
    "cp_data_repLevel2.to_csv(\"/home/ubuntu/bucket/projects/2018_04_20_Rosetta/workspace/results/synth_meta/meta_lincs_repLevel.csv\", index=False)"
   ]
  },
  {
   "cell_type": "code",
   "execution_count": 69,
   "metadata": {},
   "outputs": [
    {
     "name": "stdout",
     "output_type": "stream",
     "text": [
      "CDRP: Replicate Level Shapes (nSamples x nFeatures): cp:  153386 , 1565 ,  l1k:  68120 , 977\n",
      "l1k n of rep:  3.0\n",
      "cp n of rep:  4.0\n",
      "CP: from  30413  to  7838\n",
      "l1k: from  21001  to  2833\n",
      "CP and l1k high rep overlap:  863\n"
     ]
    }
   ],
   "source": [
    "# # features to analyse\n",
    "# cp_features=cp_data_repLevel.columns[cp_data_repLevel.columns.str.contains(\"Cells_|Cytoplasm_|Nuclei_\")].tolist()\n",
    "# l1k_features=l1k_data_repLevel.columns[l1k_data_repLevel.columns.str.contains(\"_at\")].tolist()\n",
    "\n",
    "\n",
    "\n",
    "# ########## removes nans and infs\n",
    "# l1k_data_repLevel=l1k_data_repLevel.replace([np.inf, -np.inf], np.nan)\n",
    "# cp_data_repLevel=cp_data_repLevel.replace([np.inf, -np.inf], np.nan)\n",
    "# cols2remove0=[i for i in cp_features if (cp_data_repLevel[i].isnull().sum(axis=0)/cp_data_repLevel.shape[0])>0.05]\n",
    "# # cols2removeCP=[i for i in cp.columns.tolist() if cp[i].isnull().sum(axis=0)>0]\n",
    "# #     print(cols2removeCP)\n",
    "# #     print(len(cp_features))\n",
    "\n",
    "# #     cols2remove0=[i for i in cpFeatures if ((pd_df[i]=='nan').sum(axis=0)/pd_df.shape[0])>0.05]\n",
    "# #     print(cols2remove0)\n",
    "\n",
    "# #     cols2remove1=cpFeatures[pd_df[cpFeatures].std().values<0.00001].tolist()\n",
    "# cols2remove1=cp_data_repLevel[cp_features].std()[cp_data_repLevel[cp_features].std() < 0.0001].index.tolist()\n",
    "# #     print(cols2remove1)    \n",
    "# cols2removeCP=cols2remove0+cols2remove1\n",
    "# #     print(cols2removeCP)\n",
    "\n",
    "# cp_features = list(set(cp_features) - set(cols2removeCP))\n",
    "# #     print(len(cp_features))\n",
    "# cp_data_repLevel=cp_data_repLevel.drop(cols2removeCP, axis=1);\n",
    "# cp_data_repLevel[cp_features] = cp_data_repLevel[cp_features].interpolate()\n",
    "\n",
    "# cols2removeCP=[i for i in cp_features if cp_data_repLevel[i].isnull().sum(axis=0)>0]\n",
    "# #     print(cols2removeCP)\n",
    "\n",
    "# #     cp=cp.fillna(cp.median())\n",
    "\n",
    "# # cols2removeGE=[i for i in l1k.columns if l1k[i].isnull().sum(axis=0)>0]\n",
    "# # print(cols2removeGE)\n",
    "# # l1k_features = list(set(l1k_features) - set(cols2removeGE))\n",
    "# # print(len(l1k_features))\n",
    "# # l1k=l1k.drop(cols2removeGE, axis=1);\n",
    "# l1k_data_repLevel[l1k_features] = l1k_data_repLevel[l1k_features].interpolate()\n",
    "# # l1k=l1k.fillna(l1k.median())\n",
    "\n",
    "\n",
    "\n",
    "# # ################ Per plate scaling \n",
    "# # cp_data_repLevel = standardize_per_catX(cp_data_repLevel,'Metadata_Plate',cp_features);\n",
    "# # l1k_data_repLevel = standardize_per_catX(l1k_data_repLevel,'det_plate',l1k_features);    \n",
    "# # cols2removeCP=[i for i in cp_features if (cp_data_repLevel[i].isnull().sum(axis=0)/cp_data_repLevel.shape[0])>0.05]\n",
    "# # cp_data_repLevel=cp_data_repLevel.drop(cols2removeCP, axis=1);\n",
    "# # cp_features = list(set(cp_features) - set(cols2removeCP))\n",
    "# # cp_data_repLevel[cp_features] = cp_data_repLevel[cp_features].interpolate()\n",
    "\n",
    "# rename columns that should match\n",
    "labelCol='PERT'\n",
    "#     print(cp_data_repLevel[ds_info_dict[dataset][1][0]])\n",
    "cp_data_repLevel=cp_data_repLevel.rename(columns={ds_info_dict[dataset][1][0]:labelCol})\n",
    "l1k_data_repLevel=l1k_data_repLevel.rename(columns={ds_info_dict[dataset][1][1]:labelCol})    \n",
    "\n",
    "\n",
    "###### print some data statistics\n",
    "print(dataset+': Replicate Level Shapes (nSamples x nFeatures): cp: ',\\\n",
    "      cp_data_repLevel.shape[0],',',len(cp_features),  ',  l1k: ',l1k_data_repLevel.shape[0],',',len(l1k_features))\n",
    "\n",
    "print('l1k n of rep: ',l1k_data_repLevel.groupby([labelCol]).size().median())\n",
    "print('cp n of rep: ',cp_data_repLevel.groupby([labelCol]).size().median())\n",
    "\n",
    "\n",
    "###### remove perts with low rep corr\n",
    "if 1:\n",
    "    highRepPerts = highRepFinder(dataset) + ['DMSO'];\n",
    "    cp_data_repLevel=cp_data_repLevel[cp_data_repLevel['PERT'].isin(highRepPerts)].reset_index()\n",
    "    l1k_data_repLevel=l1k_data_repLevel[l1k_data_repLevel['PERT'].isin(highRepPerts)].reset_index()        \n",
    "\n",
    "####### form treatment level profiles\n",
    "l1k_data_treatLevel=l1k_data_repLevel.groupby(labelCol)[l1k_features].mean().reset_index();\n",
    "cp_data_treatLevel=cp_data_repLevel.groupby(labelCol)[cp_features].mean().reset_index();\n"
   ]
  },
  {
   "cell_type": "code",
   "execution_count": 5,
   "metadata": {},
   "outputs": [],
   "source": [
    "# highRepPerts"
   ]
  },
  {
   "cell_type": "code",
   "execution_count": 68,
   "metadata": {},
   "outputs": [],
   "source": [
    "def highRepFinder(dataset):\n",
    "    repCorDF=pd.read_excel('../../results/RepCor/RepCorrDF.xlsx', sheet_name=None)\n",
    "    cpRepDF=repCorDF['cp-'+dataset.lower()]\n",
    "    cpHighList=cpRepDF[cpRepDF['RepCor']>cpRepDF['Rand90Perc']]['Unnamed: 0'].tolist()\n",
    "    print('CP: from ',cpRepDF.shape[0],' to ',len(cpHighList))\n",
    "    cpRepDF=repCorDF['l1k-'+dataset.lower()]\n",
    "    l1kHighList=cpRepDF[cpRepDF['RepCor']>cpRepDF['Rand90Perc']]['Unnamed: 0'].tolist()\n",
    "    highRepPerts=list(set(l1kHighList) & set(cpHighList))\n",
    "    print('l1k: from ',cpRepDF.shape[0],' to ',len(l1kHighList))\n",
    "    print('CP and l1k high rep overlap: ',len(highRepPerts))\n",
    "    return highRepPerts"
   ]
  },
  {
   "cell_type": "code",
   "execution_count": 51,
   "metadata": {},
   "outputs": [
    {
     "data": {
      "text/plain": [
       "0          BRD-K18250272-003-03-7_6.05\n",
       "1          BRD-K18316707-001-01-9_10.0\n",
       "2          BRD-K18438502-001-02-6_10.0\n",
       "3          BRD-K18550767-001-02-8_10.0\n",
       "4          BRD-K18574842-323-03-3_4.39\n",
       "                      ...             \n",
       "153381     BRD-K17405724-001-01-0_9.83\n",
       "153382     BRD-K90170141-001-01-5_9.72\n",
       "153383    BRD-K45307499-001-01-7_10.22\n",
       "153384     BRD-K84521261-001-01-1_9.92\n",
       "153385     BRD-K78922936-001-01-4_9.69\n",
       "Name: Metadata_Sample_Dose, Length: 153386, dtype: object"
      ]
     },
     "execution_count": 51,
     "metadata": {},
     "output_type": "execute_result"
    }
   ],
   "source": [
    "cp_data_repLevel['Metadata_Sample_Dose']"
   ]
  },
  {
   "cell_type": "code",
   "execution_count": 52,
   "metadata": {},
   "outputs": [
    {
     "data": {
      "text/plain": [
       "0        BRD-K07762753-001-03-6_50.0\n",
       "1        BRD-K09991945-001-02-0_12.7\n",
       "2        BRD-K46678324-001-03-7_50.0\n",
       "3        BRD-K67860401-001-02-3_16.2\n",
       "4        BRD-K52620403-001-01-8_12.5\n",
       "                    ...             \n",
       "68115    BRD-K64610608-001-02-6_20.0\n",
       "68116    BRD-K89626439-001-01-0_20.0\n",
       "68117    BRD-K42541148-001-01-9_20.0\n",
       "68118    BRD-K05398757-001-02-9_40.0\n",
       "68119    BRD-K64610608-001-02-6_20.0\n",
       "Name: pert_sample_dose, Length: 68120, dtype: object"
      ]
     },
     "execution_count": 52,
     "metadata": {},
     "output_type": "execute_result"
    }
   ],
   "source": [
    "l1k_data_repLevel['pert_sample_dose']"
   ]
  },
  {
   "cell_type": "code",
   "execution_count": 65,
   "metadata": {},
   "outputs": [
    {
     "data": {
      "text/plain": [
       "20129"
      ]
     },
     "execution_count": 65,
     "metadata": {},
     "output_type": "execute_result"
    }
   ],
   "source": [
    "len(set(l1k_data_repLevel['pert_sample_dose'].unique().tolist()) & set(cp_data_repLevel['Metadata_Sample_Dose'].unique().tolist()))"
   ]
  },
  {
   "cell_type": "code",
   "execution_count": 64,
   "metadata": {},
   "outputs": [
    {
     "data": {
      "text/plain": [
       "21850"
      ]
     },
     "execution_count": 64,
     "metadata": {},
     "output_type": "execute_result"
    }
   ],
   "source": [
    "len(set(l1k_data_repLevel['pert_sample_dose'].unique().tolist()))"
   ]
  },
  {
   "cell_type": "code",
   "execution_count": 34,
   "metadata": {},
   "outputs": [
    {
     "data": {
      "text/plain": [
       "Index(['moa'], dtype='object')"
      ]
     },
     "execution_count": 34,
     "metadata": {},
     "output_type": "execute_result"
    }
   ],
   "source": [
    "# l1k_data_repLevel['pert_id_dose']\n",
    "l1k_data_repLevel.columns[l1k_data_repLevel.columns.str.contains('moa')]"
   ]
  },
  {
   "cell_type": "code",
   "execution_count": 36,
   "metadata": {},
   "outputs": [],
   "source": [
    "# cp_data_repLevel['Metadata_pert_id_dose']\n",
    "# l1k_data_repLevel.groupby(['moa']).size()"
   ]
  },
  {
   "cell_type": "code",
   "execution_count": 37,
   "metadata": {},
   "outputs": [],
   "source": [
    "# cpRepDF.shape\n",
    "# cp_data_repLevel.groupby(['Metadata_moa']).size()"
   ]
  },
  {
   "cell_type": "code",
   "execution_count": 38,
   "metadata": {},
   "outputs": [],
   "source": [
    "# cp_data_repLevel.groupby(['moa']).size()"
   ]
  },
  {
   "cell_type": "code",
   "execution_count": 63,
   "metadata": {},
   "outputs": [
    {
     "data": {
      "text/plain": [
       "(0, 2548)"
      ]
     },
     "execution_count": 63,
     "metadata": {},
     "output_type": "execute_result"
    }
   ],
   "source": [
    "# cp_data_repLevel.groupby(['alternative_moa']).size()\n",
    "mergProf_treatLevel.shape"
   ]
  },
  {
   "cell_type": "code",
   "execution_count": 16,
   "metadata": {},
   "outputs": [
    {
     "name": "stderr",
     "output_type": "stream",
     "text": [
      "/home/ubuntu/anaconda3/lib/python3.8/site-packages/IPython/core/interactiveshell.py:3263: DtypeWarning: Columns (18,19,1820,1821) have mixed types.Specify dtype option on import or set low_memory=False.\n",
      "  if (await self.run_code(code, result,  async_=asy)):\n"
     ]
    },
    {
     "name": "stdout",
     "output_type": "stream",
     "text": [
      "LINCS: Replicate Level Shapes (nSamples x nFeatures): cp:  52223 , 1670 ,  l1k:  27837 , 978\n",
      "l1k n of rep:  3.0\n",
      "cp n of rep:  5.0\n",
      "CP: from  9394  to  4647\n",
      "l1k: from  8369  to  2338\n",
      "CP and l1k high rep overlap:  1140\n",
      "Treatment Level Shapes (nSamples x nFeatures+metadata): (8892, 1675) (1141, 980) Merged Profiles Shape: (8892, 2654)\n"
     ]
    }
   ],
   "source": [
    "dataset_rootDir='./';pertColName='PERT'\n",
    "\n",
    "# dataset options: 'CDRP' , 'LUAD', 'TAORF', 'LINCS'\n",
    "dataset='LINCS';\n",
    "\n",
    "# CP Profile Type options: 'augmented' , 'normalized', 'normalized_variable_selected'\n",
    "profileType='normalized'\n",
    "profileLevel='treatment'; #'replicate'  or  'treatment'\n",
    "\n",
    "# n of samples for replicate picking options: numbers or, 'max'\n",
    "nRep=8\n",
    "mergProf_repLevel,mergProf_treatLevel,cp_features,l1k_features=\\\n",
    "readMergedProfiles(dataset_rootDir,dataset,profileType,profileLevel,nRep);\n",
    "# mergProf_repLevel,mergProf_treatLevel,l1k_features,cp_features,pertColName=readMergedProfiles(dataset,profileType,nRep)\n",
    "# cp_features,l1k_features=cp_features.tolist(),l1k_features.tolist()\n",
    "\n",
    "\n",
    "if profileLevel=='replicate':\n",
    "    l1k=mergProf_repLevel[[pertColName]+l1k_features]\n",
    "    cp=mergProf_repLevel[[pertColName]+cp_features]\n",
    "elif profileLevel=='treatment':\n",
    "    l1k=mergProf_treatLevel[[pertColName]+l1k_features]\n",
    "    cp=mergProf_treatLevel[[pertColName]+cp_features]\n",
    "\n",
    "\n",
    "scaler_ge = preprocessing.StandardScaler()\n",
    "scaler_cp = preprocessing.StandardScaler()\n",
    "l1k_scaled=l1k.copy()\n",
    "l1k_scaled[l1k_features] = scaler_ge.fit_transform(l1k[l1k_features].values)\n",
    "cp_scaled=cp.copy()\n",
    "cp_scaled[cp_features] = scaler_cp.fit_transform(cp[cp_features].values.astype('float64'))\n",
    "\n",
    "if 1:\n",
    "    cp=cp_scaled.copy()\n",
    "    l1k=l1k_scaled.copy()"
   ]
  },
  {
   "cell_type": "code",
   "execution_count": 15,
   "metadata": {},
   "outputs": [
    {
     "data": {
      "text/plain": [
       "(1141, 2652)"
      ]
     },
     "execution_count": 15,
     "metadata": {},
     "output_type": "execute_result"
    }
   ],
   "source": [
    "mergProf_treatLevel.shape"
   ]
  },
  {
   "cell_type": "code",
   "execution_count": 17,
   "metadata": {},
   "outputs": [],
   "source": [
    "mergProf_treatLevel.to_csv('/home/ubuntu/bucket/projects/2018_04_20_Rosetta/workspace/results/synth_meta/mergProf_treatLevel_lincs.csv.gz',index=False,compression='gzip')"
   ]
  },
  {
   "cell_type": "code",
   "execution_count": 161,
   "metadata": {},
   "outputs": [],
   "source": [
    "# common_genes=list(set(sorted_gene_mean_scores['index'].values) & set(prot_gen_cor.index))\n",
    "# prot_gen_cor.loc[common_genes,:]\n",
    "# sorted_gene_mean_scores['index'].values.tolist()\n",
    "# pred_eval_df[\"corr1\"].values\n"
   ]
  },
  {
   "cell_type": "code",
   "execution_count": 162,
   "metadata": {},
   "outputs": [],
   "source": [
    "# sorted_gene_mean_scores[sorted_gene_mean_scores['index'].isin(common_genes)]"
   ]
  },
  {
   "cell_type": "code",
   "execution_count": 180,
   "metadata": {},
   "outputs": [
    {
     "data": {
      "text/plain": [
       "dict_keys(['l1k-taorf', 'l1k-luad', 'l1k-lincs', 'cp-luad', 'cp-taorf', 'cp-lincs'])"
      ]
     },
     "execution_count": 180,
     "metadata": {},
     "output_type": "execute_result"
    }
   ],
   "source": [
    "pd.read_excel('../../results/RepCor/RepCorrDF.xlsx', sheet_name=None).keys()"
   ]
  },
  {
   "cell_type": "code",
   "execution_count": 5,
   "metadata": {},
   "outputs": [],
   "source": [
    "# set(sorted_gene_mean_scores.index)\n",
    "# pred_df\n",
    "# sorted_gene_mean_scores"
   ]
  },
  {
   "cell_type": "markdown",
   "metadata": {},
   "source": [
    "### Single Gene prediction cross validation"
   ]
  },
  {
   "cell_type": "code",
   "execution_count": 3,
   "metadata": {},
   "outputs": [
    {
     "data": {
      "image/png": "[encoded data removed]",
      "text/plain": [
       "<Figure size 1080x288 with 1 Axes>"
      ]
     },
     "metadata": {
      "needs_background": "light"
     },
     "output_type": "display_data"
    }
   ],
   "source": [
    "k_fold=20\n",
    "pred_df=pd.DataFrame(index=range(k_fold),columns=l1k_features)\n",
    "for l in l1k_features:\n",
    "    scores=lasso_cv(cp[cp_features],l1k[l],k_fold)\n",
    "    pred_df[l]=scores\n",
    "\n",
    "########################### mapping prob_ids to genes names    \n",
    "meta=pd.read_csv(\"/home/ubuntu/bucket/projects/2018_04_20_Rosetta/workspace/metadata/affy_probe_gene_mapping.txt\",delimiter=\"\\t\",header=None, names=[\"probe_id\", \"gene\"])\n",
    "meta_gene_probID=meta.set_index('probe_id')\n",
    "d = dict(zip(meta_gene_probID.index, meta_gene_probID['gene']))\n",
    "pred_df = pred_df.rename(columns=d)    \n",
    "    \n",
    "########################### plot prediction scores sorted by the median across all folds scores\n",
    "sorted_gene_mean_scores=pred_df.median().reset_index().sort_values(by=[0],ascending=False)\n",
    "highPredDF=pd.melt(pred_df[sorted_gene_mean_scores[0:50]['index'].values.tolist()]).rename(columns={'variable':'lm Gens','value':'pred score'})\n",
    "\n",
    "f, axes = plt.subplots(figsize=(15,4))\n",
    "axes.set_title(\"Dataset: \"+dataset)\n",
    "sns.boxplot(x=\"lm Gens\", y=\"pred score\", data=highPredDF,ax=axes)\n",
    "axes.set_xticklabels(axes.get_xticklabels(),rotation=90,fontsize=10);\n",
    "axes.set_ylim(-1, 1)\n",
    "\n",
    "\n",
    "########################### evluation based on Correlation with protein abundance\n",
    "prot_gen_cor=pd.read_csv('/home/ubuntu/bucket/projects/2018_04_20_Rosetta/workspace/metadata/proteome-transcriptome-abundance/Table_EV2_corrs.csv',index_col='Unnamed: 0')\n",
    "# sorted_gene_mean_scores=pred_df.median().reset_index().sort_values(by=[0],ascending=False)\n",
    "common_genes=list(set(sorted_gene_mean_scores['index'].values) & set(prot_gen_cor.index))\n",
    "\n",
    "sorted_gene_mean_scores2=sorted_gene_mean_scores.set_index('index')\n",
    "pred_eval_df=pd.concat([prot_gen_cor.loc[common_genes,:], sorted_gene_mean_scores2.loc[common_genes,:]], axis=1)\n",
    "pred_eval_cc=scipy.stats.pearsonr(np.squeeze(pred_eval_df[\"corr1\"].values), np.squeeze(pred_eval_df[0].values))[0]\n",
    "axes.set_title(\"Dataset: \"+dataset+\"  , eval metric: \"+str(np.round(pred_eval_cc,3)));\n",
    "\n",
    "########################## Save prediction score results\n",
    "filename='../../results/SingleGenePred/scores.xlsx'\n",
    "saveAsNewSheetToExistingFile(filename,sorted_gene_mean_scores.rename(columns={'index':'lm_Gens',0:'pred_score'}),'Lasso-'+dataset)"
   ]
  },
  {
   "cell_type": "code",
   "execution_count": 8,
   "metadata": {},
   "outputs": [
    {
     "data": {
      "text/html": [
       "<div>\n",
       "<style scoped>\n",
       "    .dataframe tbody tr th:only-of-type {\n",
       "        vertical-align: middle;\n",
       "    }\n",
       "\n",
       "    .dataframe tbody tr th {\n",
       "        vertical-align: top;\n",
       "    }\n",
       "\n",
       "    .dataframe thead th {\n",
       "        text-align: right;\n",
       "    }\n",
       "</style>\n",
       "<table border=\"1\" class=\"dataframe\">\n",
       "  <thead>\n",
       "    <tr style=\"text-align: right;\">\n",
       "      <th></th>\n",
       "      <th>Unnamed: 0</th>\n",
       "      <th>lm_Gens</th>\n",
       "      <th>pred_score</th>\n",
       "    </tr>\n",
       "  </thead>\n",
       "  <tbody>\n",
       "    <tr>\n",
       "      <th>0</th>\n",
       "      <td>143</td>\n",
       "      <td>CDKN1A</td>\n",
       "      <td>0.845959</td>\n",
       "    </tr>\n",
       "    <tr>\n",
       "      <th>1</th>\n",
       "      <td>136</td>\n",
       "      <td>CDC2</td>\n",
       "      <td>0.827220</td>\n",
       "    </tr>\n",
       "    <tr>\n",
       "      <th>2</th>\n",
       "      <td>115</td>\n",
       "      <td>CCNA2</td>\n",
       "      <td>0.771751</td>\n",
       "    </tr>\n",
       "    <tr>\n",
       "      <th>3</th>\n",
       "      <td>322</td>\n",
       "      <td>GADD45A</td>\n",
       "      <td>0.747613</td>\n",
       "    </tr>\n",
       "    <tr>\n",
       "      <th>4</th>\n",
       "      <td>963</td>\n",
       "      <td>YKT6</td>\n",
       "      <td>0.746184</td>\n",
       "    </tr>\n",
       "  </tbody>\n",
       "</table>\n",
       "</div>"
      ],
      "text/plain": [
       "   Unnamed: 0  lm_Gens  pred_score\n",
       "0         143   CDKN1A    0.845959\n",
       "1         136     CDC2    0.827220\n",
       "2         115    CCNA2    0.771751\n",
       "3         322  GADD45A    0.747613\n",
       "4         963     YKT6    0.746184"
      ]
     },
     "execution_count": 8,
     "metadata": {},
     "output_type": "execute_result"
    }
   ],
   "source": [
    "# scipy.stats.pearsonr(np.squeeze(pred_eval_df[\"corr1\"].values), np.squeeze(pred_eval_df[0].values))[0]\n",
    "saved_scores=pd.read_excel('../../results/SingleGenePred/scores.xlsx', sheet_name=None)\n",
    "saved_scores_lasso=saved_scores['Lasso-'+dataset]\n",
    "saved_scores_lasso.head()"
   ]
  },
  {
   "cell_type": "code",
   "execution_count": 114,
   "metadata": {},
   "outputs": [
    {
     "data": {
      "image/png": "[encoded data removed]",
      "text/plain": [
       "<Figure size 1080x288 with 1 Axes>"
      ]
     },
     "metadata": {
      "needs_background": "light"
     },
     "output_type": "display_data"
    }
   ],
   "source": [
    "sorted_gene_mean_scores=pred_df.median().reset_index().sort_values(by=[0],ascending=False)\n",
    "highPredDF=pd.melt(pred_df[sorted_gene_mean_scores[0:50]['index'].values.tolist()]).rename(columns={'variable':'lm Gens','value':'pred score'})\n",
    "\n",
    "f, axes = plt.subplots(figsize=(15,4))\n",
    "axes.set_title(\"Dataset: \"+dataset)\n",
    "sns.boxplot(x=\"lm Gens\", y=\"pred score\", data=highPredDF,ax=axes)\n",
    "axes.set_xticklabels(axes.get_xticklabels(),rotation=90,fontsize=10);"
   ]
  },
  {
   "cell_type": "markdown",
   "metadata": {},
   "source": [
    "### Correlation with protein abundance"
   ]
  },
  {
   "cell_type": "code",
   "execution_count": 178,
   "metadata": {},
   "outputs": [
    {
     "data": {
      "text/html": [
       "<div>\n",
       "<style scoped>\n",
       "    .dataframe tbody tr th:only-of-type {\n",
       "        vertical-align: middle;\n",
       "    }\n",
       "\n",
       "    .dataframe tbody tr th {\n",
       "        vertical-align: top;\n",
       "    }\n",
       "\n",
       "    .dataframe thead th {\n",
       "        text-align: right;\n",
       "    }\n",
       "</style>\n",
       "<table border=\"1\" class=\"dataframe\">\n",
       "  <thead>\n",
       "    <tr style=\"text-align: right;\">\n",
       "      <th></th>\n",
       "      <th>0</th>\n",
       "    </tr>\n",
       "    <tr>\n",
       "      <th>index</th>\n",
       "      <th></th>\n",
       "    </tr>\n",
       "  </thead>\n",
       "  <tbody>\n",
       "    <tr>\n",
       "      <th>BIRC5</th>\n",
       "      <td>0.502725</td>\n",
       "    </tr>\n",
       "    <tr>\n",
       "      <th>LBR</th>\n",
       "      <td>0.500016</td>\n",
       "    </tr>\n",
       "    <tr>\n",
       "      <th>CDC2</th>\n",
       "      <td>0.489846</td>\n",
       "    </tr>\n",
       "    <tr>\n",
       "      <th>CDKN1A</th>\n",
       "      <td>0.482708</td>\n",
       "    </tr>\n",
       "    <tr>\n",
       "      <th>UBE2C</th>\n",
       "      <td>0.482007</td>\n",
       "    </tr>\n",
       "    <tr>\n",
       "      <th>...</th>\n",
       "      <td>...</td>\n",
       "    </tr>\n",
       "    <tr>\n",
       "      <th>IKBKAP</th>\n",
       "      <td>-0.085463</td>\n",
       "    </tr>\n",
       "    <tr>\n",
       "      <th>KDELR2</th>\n",
       "      <td>-0.085926</td>\n",
       "    </tr>\n",
       "    <tr>\n",
       "      <th>SCRN1</th>\n",
       "      <td>-0.089661</td>\n",
       "    </tr>\n",
       "    <tr>\n",
       "      <th>LGMN</th>\n",
       "      <td>-0.090954</td>\n",
       "    </tr>\n",
       "    <tr>\n",
       "      <th>AKAP8</th>\n",
       "      <td>-0.101574</td>\n",
       "    </tr>\n",
       "  </tbody>\n",
       "</table>\n",
       "<p>978 rows × 1 columns</p>\n",
       "</div>"
      ],
      "text/plain": [
       "               0\n",
       "index           \n",
       "BIRC5   0.502725\n",
       "LBR     0.500016\n",
       "CDC2    0.489846\n",
       "CDKN1A  0.482708\n",
       "UBE2C   0.482007\n",
       "...          ...\n",
       "IKBKAP -0.085463\n",
       "KDELR2 -0.085926\n",
       "SCRN1  -0.089661\n",
       "LGMN   -0.090954\n",
       "AKAP8  -0.101574\n",
       "\n",
       "[978 rows x 1 columns]"
      ]
     },
     "execution_count": 178,
     "metadata": {},
     "output_type": "execute_result"
    }
   ],
   "source": [
    "sorted_gene_mean_scores2"
   ]
  },
  {
   "cell_type": "code",
   "execution_count": 102,
   "metadata": {},
   "outputs": [],
   "source": [
    "# highPredDF"
   ]
  },
  {
   "cell_type": "code",
   "execution_count": 113,
   "metadata": {},
   "outputs": [
    {
     "data": {
      "image/png": "[encoded data removed]",
      "text/plain": [
       "<Figure size 1080x288 with 1 Axes>"
      ]
     },
     "metadata": {
      "needs_background": "light"
     },
     "output_type": "display_data"
    }
   ],
   "source": [
    "f, axes = plt.subplots(figsize=(15,4))\n",
    "\n",
    "# for d in range(len(doses)):\n",
    "#     sns.boxplot(x=\"Metadata_moa\", y=\"fVal\", hue=\"fName\", \\\n",
    "#                 data=df_grouped_bxplt[df_grouped_bxplt['Metadata_mg_per_ml_rounded']==doses[d]].reset_index(drop=True), palette=\"Set1\",ax=axes[d])\n",
    "#     axes[d].set_title(\"Dose: \"+str(doses[d]))\n",
    "#     axes[d].set_xticklabels(axes[d].get_xticklabels(),rotation=90,fontsize=10);\n",
    "#     axes[d].legend(bbox_to_anchor=(1.05, 1), loc=2, borderaxespad=0.,fontsize=10)\n",
    "sns.boxplot(x=\"lm Gens\", y=\"pred score\", data=highPredDF,ax=axes)\n",
    "axes.set_xticklabels(axes.get_xticklabels(),rotation=90,fontsize=10);"
   ]
  },
  {
   "cell_type": "code",
   "execution_count": 54,
   "metadata": {},
   "outputs": [
    {
     "data": {
      "text/plain": [
       "array([0.38638464, 0.27816457, 0.39661721, 0.27745571, 0.26364289,\n",
       "       0.14565819, 0.27624536, 0.19623219, 0.30090798, 0.15817473])"
      ]
     },
     "execution_count": 54,
     "metadata": {},
     "output_type": "execute_result"
    }
   ],
   "source": [
    "scores"
   ]
  },
  {
   "cell_type": "code",
   "execution_count": 32,
   "metadata": {},
   "outputs": [
    {
     "data": {
      "text/plain": [
       "True"
      ]
     },
     "execution_count": 32,
     "metadata": {},
     "output_type": "execute_result"
    }
   ],
   "source": [
    "np.any(np.isnan(cp[cp_features[0:100]].values))"
   ]
  },
  {
   "cell_type": "code",
   "execution_count": 42,
   "metadata": {},
   "outputs": [
    {
     "data": {
      "text/plain": [
       "True"
      ]
     },
     "execution_count": 42,
     "metadata": {},
     "output_type": "execute_result"
    }
   ],
   "source": [
    "np.any(np.isnan(cp[cp_features].values))"
   ]
  },
  {
   "cell_type": "code",
   "execution_count": 37,
   "metadata": {},
   "outputs": [],
   "source": [
    "cp.interpolate(method=\"linear\", inplace=True)"
   ]
  },
  {
   "cell_type": "code",
   "execution_count": 22,
   "metadata": {},
   "outputs": [
    {
     "name": "stdout",
     "output_type": "stream",
     "text": [
      "[]\n",
      "[]\n"
     ]
    }
   ],
   "source": [
    "cp=mergProf_treatLevel.copy()\n",
    "cols2removeCP=[i for i in cp_features if (cp[i].isnull().sum(axis=0)/cp.shape[0])>0.05]\n",
    "print(cols2removeCP)\n",
    "cp=cp.drop(cols2removeCP, axis=1);\n",
    "cp_features2 = list(set(cp_features) - set(cols2removeCP))\n",
    "cp[cp_features2]=cp[cp_features2].interpolate()\n",
    "cols2removeCP=[i for i in cp_features2 if cp[i].isnull().sum(axis=0)>0]\n",
    "print(cols2removeCP)"
   ]
  },
  {
   "cell_type": "code",
   "execution_count": 10,
   "metadata": {},
   "outputs": [
    {
     "data": {
      "text/plain": [
       "(1141, 2726)"
      ]
     },
     "execution_count": 10,
     "metadata": {},
     "output_type": "execute_result"
    }
   ],
   "source": [
    "mergProf_treatLevel.drop_duplicates(subset=None, keep=\"first\", inplace=False).shape\n",
    "# mergProf_treatLevel"
   ]
  },
  {
   "cell_type": "markdown",
   "metadata": {},
   "source": [
    "### Single CP feature prediction cross validation"
   ]
  },
  {
   "cell_type": "code",
   "execution_count": null,
   "metadata": {},
   "outputs": [],
   "source": [
    "k_fold=20\n",
    "pred_df=pd.DataFrame(index=range(k_fold),columns=cp_features)\n",
    "for c in cp_features:\n",
    "    scores=lasso_cv(l1k[l1k_features],cp[c],k_fold)\n",
    "    pred_df[c]=scores\n",
    "\n",
    "# ########################### mapping prob_ids to genes names    \n",
    "# meta=pd.read_csv(\"/home/ubuntu/bucket/projects/2018_04_20_Rosetta/workspace/metadata/affy_probe_gene_mapping.txt\",delimiter=\"\\t\",header=None, names=[\"probe_id\", \"gene\"])\n",
    "# meta_gene_probID=meta.set_index('probe_id')\n",
    "# d = dict(zip(meta_gene_probID.index, meta_gene_probID['gene']))\n",
    "# pred_df = pred_df.rename(columns=d)    \n",
    "    \n",
    "########################### plot prediction scores sorted by the median across all folds scores\n",
    "sorted_gene_mean_scores=pred_df.median().reset_index().sort_values(by=[0],ascending=False)\n",
    "highPredDF=pd.melt(pred_df[sorted_gene_mean_scores[0:80]['index'].values.tolist()]).rename(columns={'variable':'CP feats','value':'pred score'})\n",
    "\n",
    "f, axes = plt.subplots(figsize=(15,4))\n",
    "axes.set_title(\"Dataset: \"+dataset)\n",
    "sns.boxplot(x=\"CP feats\", y=\"pred score\", data=highPredDF,ax=axes)\n",
    "axes.set_xticklabels(axes.get_xticklabels(),rotation=90,fontsize=10);\n",
    "axes.set_ylim(0, 1)\n",
    "\n",
    "\n",
    "# ########################### evluation based on Correlation with protein abundance\n",
    "# prot_gen_cor=pd.read_csv('/home/ubuntu/bucket/projects/2018_04_20_Rosetta/workspace/metadata/proteome-transcriptome-abundance/Table_EV2_corrs.csv',index_col='Unnamed: 0')\n",
    "# # sorted_gene_mean_scores=pred_df.median().reset_index().sort_values(by=[0],ascending=False)\n",
    "# common_genes=list(set(sorted_gene_mean_scores['index'].values) & set(prot_gen_cor.index))\n",
    "\n",
    "# sorted_gene_mean_scores2=sorted_gene_mean_scores.set_index('index')\n",
    "# pred_eval_df=pd.concat([prot_gen_cor.loc[common_genes,:], sorted_gene_mean_scores2.loc[common_genes,:]], axis=1)\n",
    "# pred_eval_cc=scipy.stats.pearsonr(np.squeeze(pred_eval_df[\"corr1\"].values), np.squeeze(pred_eval_df[0].values))[0]\n",
    "# axes.set_title(\"Dataset: \"+dataset+\"  , eval metric: \"+str(np.round(pred_eval_cc,3)));\n",
    "\n",
    "########################## Save prediction score results\n",
    "filename='../../results/SingleCPfeatPred/scores.xlsx'\n",
    "saveAsNewSheetToExistingFile(filename,sorted_gene_mean_scores.rename(columns={'index':'CP feats',0:'pred_score'}),'Lasso-'+dataset)"
   ]
  },
  {
   "cell_type": "code",
   "execution_count": 26,
   "metadata": {},
   "outputs": [
    {
     "data": {
      "text/plain": [
       "'LINCS'"
      ]
     },
     "execution_count": 26,
     "metadata": {},
     "output_type": "execute_result"
    }
   ],
   "source": [
    "dataset"
   ]
  },
  {
   "cell_type": "code",
   "execution_count": 27,
   "metadata": {},
   "outputs": [
    {
     "data": {
      "text/html": [
       "<div>\n",
       "<style scoped>\n",
       "    .dataframe tbody tr th:only-of-type {\n",
       "        vertical-align: middle;\n",
       "    }\n",
       "\n",
       "    .dataframe tbody tr th {\n",
       "        vertical-align: top;\n",
       "    }\n",
       "\n",
       "    .dataframe thead th {\n",
       "        text-align: right;\n",
       "    }\n",
       "</style>\n",
       "<table border=\"1\" class=\"dataframe\">\n",
       "  <thead>\n",
       "    <tr style=\"text-align: right;\">\n",
       "      <th></th>\n",
       "      <th>Unnamed: 0</th>\n",
       "      <th>CP feats</th>\n",
       "      <th>pred_score</th>\n",
       "    </tr>\n",
       "  </thead>\n",
       "  <tbody>\n",
       "    <tr>\n",
       "      <th>0</th>\n",
       "      <td>138</td>\n",
       "      <td>Cytoplasm_Granularity_16_AGP</td>\n",
       "      <td>0.740094</td>\n",
       "    </tr>\n",
       "    <tr>\n",
       "      <th>1</th>\n",
       "      <td>580</td>\n",
       "      <td>Cells_Granularity_12_AGP</td>\n",
       "      <td>0.736100</td>\n",
       "    </tr>\n",
       "    <tr>\n",
       "      <th>2</th>\n",
       "      <td>1541</td>\n",
       "      <td>Cytoplasm_Granularity_15_Mito</td>\n",
       "      <td>0.733307</td>\n",
       "    </tr>\n",
       "    <tr>\n",
       "      <th>3</th>\n",
       "      <td>486</td>\n",
       "      <td>Cells_Granularity_14_AGP</td>\n",
       "      <td>0.728269</td>\n",
       "    </tr>\n",
       "    <tr>\n",
       "      <th>4</th>\n",
       "      <td>108</td>\n",
       "      <td>Nuclei_Texture_InverseDifferenceMoment_DNA_10_0</td>\n",
       "      <td>0.727391</td>\n",
       "    </tr>\n",
       "  </tbody>\n",
       "</table>\n",
       "</div>"
      ],
      "text/plain": [
       "   Unnamed: 0                                         CP feats  pred_score\n",
       "0         138                     Cytoplasm_Granularity_16_AGP    0.740094\n",
       "1         580                         Cells_Granularity_12_AGP    0.736100\n",
       "2        1541                    Cytoplasm_Granularity_15_Mito    0.733307\n",
       "3         486                         Cells_Granularity_14_AGP    0.728269\n",
       "4         108  Nuclei_Texture_InverseDifferenceMoment_DNA_10_0    0.727391"
      ]
     },
     "execution_count": 27,
     "metadata": {},
     "output_type": "execute_result"
    }
   ],
   "source": [
    "saved_scores=pd.read_excel('../../results/SingleCPfeatPred/scores.xlsx', sheet_name=None)\n",
    "saved_scores_lasso=saved_scores['Lasso-'+dataset]\n",
    "saved_scores_lasso.head()"
   ]
  },
  {
   "cell_type": "code",
   "execution_count": 28,
   "metadata": {},
   "outputs": [],
   "source": [
    "# Potentail visually interpretable features \n",
    "v_i_f_list=[\"Cells_AreaShape_Eccentricity\",\n",
    "    \"Nuclei_AreaShape_Area\", \"Cytoplasm_AreaShape_Area\", \"Cells_AreaShape_Area\",\n",
    "    \"Cells_RadialDistribution_MeanFrac_Mito_4of4\",\n",
    "    \"Cells_Intensity_MassDisplacement_AGP\",\n",
    "    \"Nuclei_Granularity_1_DNA\",\n",
    "    \"Cells_Intensity_MeanIntensityEdge_AGP\"]"
   ]
  },
  {
   "cell_type": "code",
   "execution_count": 37,
   "metadata": {},
   "outputs": [],
   "source": [
    "v_i_f_list2=[\"Nuclei_AreaShape_Eccentricity\",\n",
    "    \"Nuclei_AreaShape_Area\", \"Cytoplasm_AreaShape_Area\", \"Cells_AreaShape_Area\",\n",
    "    \"Cells_RadialDistribution_MeanFrac_Mito_4of4\",\n",
    "    \"Nuclei_Intensity_MassDisplacement_DNA\",\n",
    "    \"Cells_Granularity_1_AGP\",\n",
    "    \"Cells_Intensity_MeanIntensityEdge_AGP\"]"
   ]
  },
  {
   "cell_type": "code",
   "execution_count": 38,
   "metadata": {},
   "outputs": [
    {
     "data": {
      "text/html": [
       "<div>\n",
       "<style scoped>\n",
       "    .dataframe tbody tr th:only-of-type {\n",
       "        vertical-align: middle;\n",
       "    }\n",
       "\n",
       "    .dataframe tbody tr th {\n",
       "        vertical-align: top;\n",
       "    }\n",
       "\n",
       "    .dataframe thead th {\n",
       "        text-align: right;\n",
       "    }\n",
       "</style>\n",
       "<table border=\"1\" class=\"dataframe\">\n",
       "  <thead>\n",
       "    <tr style=\"text-align: right;\">\n",
       "      <th></th>\n",
       "      <th>Unnamed: 0</th>\n",
       "      <th>CP feats</th>\n",
       "      <th>pred_score</th>\n",
       "    </tr>\n",
       "  </thead>\n",
       "  <tbody>\n",
       "    <tr>\n",
       "      <th>17</th>\n",
       "      <td>309</td>\n",
       "      <td>Cells_Granularity_1_AGP</td>\n",
       "      <td>0.708425</td>\n",
       "    </tr>\n",
       "    <tr>\n",
       "      <th>86</th>\n",
       "      <td>1496</td>\n",
       "      <td>Nuclei_AreaShape_Area</td>\n",
       "      <td>0.665405</td>\n",
       "    </tr>\n",
       "    <tr>\n",
       "      <th>200</th>\n",
       "      <td>1253</td>\n",
       "      <td>Cells_RadialDistribution_MeanFrac_Mito_4of4</td>\n",
       "      <td>0.598590</td>\n",
       "    </tr>\n",
       "    <tr>\n",
       "      <th>220</th>\n",
       "      <td>149</td>\n",
       "      <td>Nuclei_Intensity_MassDisplacement_DNA</td>\n",
       "      <td>0.591571</td>\n",
       "    </tr>\n",
       "    <tr>\n",
       "      <th>321</th>\n",
       "      <td>118</td>\n",
       "      <td>Cells_AreaShape_Area</td>\n",
       "      <td>0.556702</td>\n",
       "    </tr>\n",
       "    <tr>\n",
       "      <th>338</th>\n",
       "      <td>403</td>\n",
       "      <td>Cytoplasm_AreaShape_Area</td>\n",
       "      <td>0.552584</td>\n",
       "    </tr>\n",
       "    <tr>\n",
       "      <th>549</th>\n",
       "      <td>1348</td>\n",
       "      <td>Nuclei_AreaShape_Eccentricity</td>\n",
       "      <td>0.477723</td>\n",
       "    </tr>\n",
       "    <tr>\n",
       "      <th>827</th>\n",
       "      <td>1616</td>\n",
       "      <td>Cells_Intensity_MeanIntensityEdge_AGP</td>\n",
       "      <td>0.401995</td>\n",
       "    </tr>\n",
       "  </tbody>\n",
       "</table>\n",
       "</div>"
      ],
      "text/plain": [
       "     Unnamed: 0                                     CP feats  pred_score\n",
       "17          309                      Cells_Granularity_1_AGP    0.708425\n",
       "86         1496                        Nuclei_AreaShape_Area    0.665405\n",
       "200        1253  Cells_RadialDistribution_MeanFrac_Mito_4of4    0.598590\n",
       "220         149        Nuclei_Intensity_MassDisplacement_DNA    0.591571\n",
       "321         118                         Cells_AreaShape_Area    0.556702\n",
       "338         403                     Cytoplasm_AreaShape_Area    0.552584\n",
       "549        1348                Nuclei_AreaShape_Eccentricity    0.477723\n",
       "827        1616        Cells_Intensity_MeanIntensityEdge_AGP    0.401995"
      ]
     },
     "execution_count": 38,
     "metadata": {},
     "output_type": "execute_result"
    }
   ],
   "source": [
    "saved_scores_lasso[saved_scores_lasso[\"CP feats\"].isin(v_i_f_list2)]"
   ]
  },
  {
   "cell_type": "code",
   "execution_count": 36,
   "metadata": {},
   "outputs": [
    {
     "data": {
      "text/html": [
       "<div>\n",
       "<style scoped>\n",
       "    .dataframe tbody tr th:only-of-type {\n",
       "        vertical-align: middle;\n",
       "    }\n",
       "\n",
       "    .dataframe tbody tr th {\n",
       "        vertical-align: top;\n",
       "    }\n",
       "\n",
       "    .dataframe thead th {\n",
       "        text-align: right;\n",
       "    }\n",
       "</style>\n",
       "<table border=\"1\" class=\"dataframe\">\n",
       "  <thead>\n",
       "    <tr style=\"text-align: right;\">\n",
       "      <th></th>\n",
       "      <th>Unnamed: 0</th>\n",
       "      <th>CP feats</th>\n",
       "      <th>pred_score</th>\n",
       "    </tr>\n",
       "  </thead>\n",
       "  <tbody>\n",
       "    <tr>\n",
       "      <th>220</th>\n",
       "      <td>149</td>\n",
       "      <td>Nuclei_Intensity_MassDisplacement_DNA</td>\n",
       "      <td>0.591571</td>\n",
       "    </tr>\n",
       "    <tr>\n",
       "      <th>332</th>\n",
       "      <td>205</td>\n",
       "      <td>Cytoplasm_Intensity_MassDisplacement_Mito</td>\n",
       "      <td>0.553412</td>\n",
       "    </tr>\n",
       "    <tr>\n",
       "      <th>467</th>\n",
       "      <td>1522</td>\n",
       "      <td>Cytoplasm_Intensity_MassDisplacement_AGP</td>\n",
       "      <td>0.507992</td>\n",
       "    </tr>\n",
       "    <tr>\n",
       "      <th>537</th>\n",
       "      <td>279</td>\n",
       "      <td>Cells_Intensity_MassDisplacement_Mito</td>\n",
       "      <td>0.482051</td>\n",
       "    </tr>\n",
       "    <tr>\n",
       "      <th>696</th>\n",
       "      <td>1628</td>\n",
       "      <td>Nuclei_Intensity_MassDisplacement_Mito</td>\n",
       "      <td>0.437292</td>\n",
       "    </tr>\n",
       "    <tr>\n",
       "      <th>898</th>\n",
       "      <td>808</td>\n",
       "      <td>Cells_Intensity_MassDisplacement_AGP</td>\n",
       "      <td>0.382221</td>\n",
       "    </tr>\n",
       "    <tr>\n",
       "      <th>1061</th>\n",
       "      <td>909</td>\n",
       "      <td>Nuclei_Intensity_MassDisplacement_RNA</td>\n",
       "      <td>0.333328</td>\n",
       "    </tr>\n",
       "    <tr>\n",
       "      <th>1071</th>\n",
       "      <td>232</td>\n",
       "      <td>Cytoplasm_Intensity_MassDisplacement_ER</td>\n",
       "      <td>0.330362</td>\n",
       "    </tr>\n",
       "    <tr>\n",
       "      <th>1124</th>\n",
       "      <td>882</td>\n",
       "      <td>Cells_Intensity_MassDisplacement_ER</td>\n",
       "      <td>0.314702</td>\n",
       "    </tr>\n",
       "    <tr>\n",
       "      <th>1144</th>\n",
       "      <td>1526</td>\n",
       "      <td>Cells_Intensity_MassDisplacement_RNA</td>\n",
       "      <td>0.306929</td>\n",
       "    </tr>\n",
       "    <tr>\n",
       "      <th>1150</th>\n",
       "      <td>194</td>\n",
       "      <td>Cytoplasm_Intensity_MassDisplacement_RNA</td>\n",
       "      <td>0.304547</td>\n",
       "    </tr>\n",
       "    <tr>\n",
       "      <th>1352</th>\n",
       "      <td>942</td>\n",
       "      <td>Cells_Intensity_MassDisplacement_DNA</td>\n",
       "      <td>0.218743</td>\n",
       "    </tr>\n",
       "    <tr>\n",
       "      <th>1416</th>\n",
       "      <td>133</td>\n",
       "      <td>Nuclei_Intensity_MassDisplacement_AGP</td>\n",
       "      <td>0.190461</td>\n",
       "    </tr>\n",
       "    <tr>\n",
       "      <th>1428</th>\n",
       "      <td>1484</td>\n",
       "      <td>Nuclei_Intensity_MassDisplacement_ER</td>\n",
       "      <td>0.181672</td>\n",
       "    </tr>\n",
       "    <tr>\n",
       "      <th>1491</th>\n",
       "      <td>945</td>\n",
       "      <td>Cytoplasm_Intensity_MassDisplacement_DNA</td>\n",
       "      <td>0.147420</td>\n",
       "    </tr>\n",
       "  </tbody>\n",
       "</table>\n",
       "</div>"
      ],
      "text/plain": [
       "      Unnamed: 0                                   CP feats  pred_score\n",
       "220          149      Nuclei_Intensity_MassDisplacement_DNA    0.591571\n",
       "332          205  Cytoplasm_Intensity_MassDisplacement_Mito    0.553412\n",
       "467         1522   Cytoplasm_Intensity_MassDisplacement_AGP    0.507992\n",
       "537          279      Cells_Intensity_MassDisplacement_Mito    0.482051\n",
       "696         1628     Nuclei_Intensity_MassDisplacement_Mito    0.437292\n",
       "898          808       Cells_Intensity_MassDisplacement_AGP    0.382221\n",
       "1061         909      Nuclei_Intensity_MassDisplacement_RNA    0.333328\n",
       "1071         232    Cytoplasm_Intensity_MassDisplacement_ER    0.330362\n",
       "1124         882        Cells_Intensity_MassDisplacement_ER    0.314702\n",
       "1144        1526       Cells_Intensity_MassDisplacement_RNA    0.306929\n",
       "1150         194   Cytoplasm_Intensity_MassDisplacement_RNA    0.304547\n",
       "1352         942       Cells_Intensity_MassDisplacement_DNA    0.218743\n",
       "1416         133      Nuclei_Intensity_MassDisplacement_AGP    0.190461\n",
       "1428        1484       Nuclei_Intensity_MassDisplacement_ER    0.181672\n",
       "1491         945   Cytoplasm_Intensity_MassDisplacement_DNA    0.147420"
      ]
     },
     "execution_count": 36,
     "metadata": {},
     "output_type": "execute_result"
    }
   ],
   "source": [
    "saved_scores_lasso[saved_scores_lasso[\"CP feats\"].isin(['Nuclei_Intensity_MassDisplacement_AGP',\n",
    "       'Nuclei_Intensity_MassDisplacement_ER',\n",
    "       'Cytoplasm_Intensity_MassDisplacement_DNA',\n",
    "       'Nuclei_Intensity_MassDisplacement_DNA',\n",
    "       'Cells_Intensity_MassDisplacement_AGP',\n",
    "       'Cytoplasm_Intensity_MassDisplacement_Mito',\n",
    "       'Nuclei_Intensity_MassDisplacement_Mito',\n",
    "       'Nuclei_Intensity_MassDisplacement_RNA',\n",
    "       'Cytoplasm_Intensity_MassDisplacement_ER',\n",
    "       'Cells_Intensity_MassDisplacement_DNA',\n",
    "       'Cells_Intensity_MassDisplacement_ER',\n",
    "       'Cytoplasm_Intensity_MassDisplacement_RNA',\n",
    "       'Cytoplasm_Intensity_MassDisplacement_AGP',\n",
    "       'Cells_Intensity_MassDisplacement_RNA',\n",
    "       'Cells_Intensity_MassDisplacement_Mito'])]"
   ]
  },
  {
   "cell_type": "markdown",
   "metadata": {},
   "source": [
    "### Separate training, Test and validation"
   ]
  },
  {
   "cell_type": "code",
   "execution_count": 37,
   "metadata": {},
   "outputs": [],
   "source": [
    "con=[]\n",
    "nTestAlleles=20;\n",
    "# testAs=l1k[pertColName].sample(nTestAlleles,random_state=0).tolist()\n",
    "testAs=l1k[pertColName].sample(nTestAlleles,random_state=0).tolist()\n",
    "# testAs=['MAPK7_WT.c','ARAF_p.S214C','AKR1B1_p.P14R','PPP2R1A_p.V229L','PPP2R1A_p.Q372L',\\\n",
    "# 'IDH2_p.K130del','IDH2_p.S249G','RIT1_p.F82L','RIT1_p.A77P','RBM10_p.W658Y']\n",
    "\n",
    "trainOverfit=0\n",
    "con=[]\n",
    "if trainOverfit:\n",
    "    l1k_train=l1k.copy();l1k_test=l1k.copy()\n",
    "    cp_train=cp.copy();cp_test=cp.copy()    \n",
    "else:\n",
    "    l1k_train=l1k[~l1k[pertColName].isin(testAs)].reset_index(drop=True)\n",
    "    l1k_test=l1k[l1k[pertColName].isin(testAs)].reset_index(drop=True)\n",
    "\n",
    "    cp_train=cp[~cp[pertColName].isin(testAs)].reset_index(drop=True)\n",
    "#     cp_train[l1k_features] = scaler_ge.fit_transform(l1k[l1k_features].values)\n",
    "    cp_test=cp[cp[pertColName].isin(testAs)].reset_index(drop=True)"
   ]
  },
  {
   "cell_type": "code",
   "execution_count": 105,
   "metadata": {},
   "outputs": [],
   "source": [
    "# testAs"
   ]
  },
  {
   "cell_type": "markdown",
   "metadata": {},
   "source": [
    "# Train Linear Model and Test"
   ]
  },
  {
   "cell_type": "code",
   "execution_count": 54,
   "metadata": {},
   "outputs": [],
   "source": [
    "reload(networksEvol)\n",
    "pred_ge_l=networksEvol.linearTransform(l1k_train.loc[:,l1k_features].values,cp_train.loc[:,cp_features].values,l1k_test.loc[:,l1k_features].values,cp_test.loc[:,cp_features].values);\n",
    "# pred_ge=scaler_ge.fit_transform(pred_ge)"
   ]
  },
  {
   "cell_type": "code",
   "execution_count": 56,
   "metadata": {},
   "outputs": [
    {
     "data": {
      "text/plain": [
       "(38, 978)"
      ]
     },
     "execution_count": 56,
     "metadata": {},
     "output_type": "execute_result"
    }
   ],
   "source": [
    "# pred_ge\n",
    "# l1k_train.loc[:,l1k_features]\n",
    "# compare_ge\n",
    "pred_ge_l.shape"
   ]
  },
  {
   "cell_type": "code",
   "execution_count": 55,
   "metadata": {},
   "outputs": [
    {
     "data": {
      "image/png": "[encoded data removed]",
      "text/plain": [
       "<matplotlib.figure.Figure at 0x7fc3fa7f4e10>"
      ]
     },
     "metadata": {},
     "output_type": "display_data"
    }
   ],
   "source": [
    "visualizePredictionResults(pred_ge_l)"
   ]
  },
  {
   "cell_type": "code",
   "execution_count": 61,
   "metadata": {},
   "outputs": [
    {
     "data": {
      "text/plain": [
       "(38, 979)"
      ]
     },
     "execution_count": 61,
     "metadata": {},
     "output_type": "execute_result"
    }
   ],
   "source": [
    "# visualizePredictionResults()\n",
    "# pred_ge_mlp.shape\n",
    "l1k_test.shape"
   ]
  },
  {
   "cell_type": "markdown",
   "metadata": {},
   "source": [
    "# Train \"MLP\" and Test"
   ]
  },
  {
   "cell_type": "code",
   "execution_count": 58,
   "metadata": {
    "scrolled": true
   },
   "outputs": [
    {
     "name": "stderr",
     "output_type": "stream",
     "text": [
      "COMET INFO: ----------------------------\n",
      "COMET INFO: Comet.ml Experiment Summary:\n",
      "COMET INFO:   Data:\n",
      "COMET INFO:     url: https://www.comet.ml/marziehhaghighi/rosetta-cp2ge-nntransform/b5bb91d1d71c494b8311918f47d8e10f\n",
      "COMET INFO:   Metrics [count] (min, max):\n",
      "COMET INFO:     batch_loss [100]               : (0.7253274321556091, 1.0064963102340698)\n",
      "COMET INFO:     batch_mean_absolute_error [100]: (0.7253274321556091, 1.0064963102340698)\n",
      "COMET INFO:     batch_pcc [100]                : (0.9780089855194092, 0.9999999403953552)\n",
      "COMET INFO:     epoch_duration [100]           : (0.07549865357577801, 1.4947363818064332)\n",
      "COMET INFO:     loss [100]                     : (0.7621104955673218, 0.9898386359214782)\n",
      "COMET INFO:     lr [100]                       : (9.999999747378752e-05, 9.999999747378752e-05)\n",
      "COMET INFO:     mean_absolute_error [100]      : (0.7621104955673218, 0.9898386359214782)\n",
      "COMET INFO:     pcc [100]                      : (0.9779580473899842, 0.9999885201454163)\n",
      "COMET INFO:     step                           : 500\n",
      "COMET INFO:     sys.gpu.0.free_memory [4]      : (4477353984.0, 4477747200.0)\n",
      "COMET INFO:     sys.gpu.0.gpu_utilization [4]  : (0.0, 0.0)\n",
      "COMET INFO:     sys.gpu.0.total_memory         : (12796690432.0, 12796690432.0)\n",
      "COMET INFO:     sys.gpu.0.used_memory [4]      : (8318943232.0, 8319336448.0)\n",
      "COMET INFO:     sys.gpu.1.free_memory [4]      : (9877651456.0, 9877651456.0)\n",
      "COMET INFO:     sys.gpu.1.gpu_utilization [4]  : (0.0, 0.0)\n",
      "COMET INFO:     sys.gpu.1.total_memory         : (12788498432.0, 12788498432.0)\n",
      "COMET INFO:     sys.gpu.1.used_memory [4]      : (2910846976.0, 2910846976.0)\n",
      "COMET INFO:     sys.gpu.2.free_memory [4]      : (12358582272.0, 12358582272.0)\n",
      "COMET INFO:     sys.gpu.2.gpu_utilization [4]  : (0.0, 0.0)\n",
      "COMET INFO:     sys.gpu.2.total_memory         : (12788498432.0, 12788498432.0)\n",
      "COMET INFO:     sys.gpu.2.used_memory [4]      : (429916160.0, 429916160.0)\n",
      "COMET INFO:     sys.gpu.3.free_memory [4]      : (11291590656.0, 11291590656.0)\n",
      "COMET INFO:     sys.gpu.3.gpu_utilization [4]  : (0.0, 0.0)\n",
      "COMET INFO:     sys.gpu.3.total_memory         : (11721506816.0, 11721506816.0)\n",
      "COMET INFO:     sys.gpu.3.used_memory [4]      : (429916160.0, 429916160.0)\n",
      "COMET INFO:     val_loss [100]                 : (0.6135767102241516, 0.6832379698753357)\n",
      "COMET INFO:     val_mean_absolute_error [100]  : (0.6135767102241516, 0.6832379698753357)\n",
      "COMET INFO:     val_pcc [100]                  : (0.9873104691505432, 0.9999999403953552)\n",
      "COMET INFO:   Other [count]:\n",
      "COMET INFO:     trainable_params: 254786\n",
      "COMET INFO: ----------------------------\n",
      "COMET INFO: old comet version (2.0.13) detected. current: 2.0.15 please update your comet lib with command: `pip install --no-cache-dir --upgrade comet_ml`\n",
      "COMET WARNING: Failing to collect the installed os packages\n",
      "COMET INFO: Experiment is live on comet.ml https://www.comet.ml/marziehhaghighi/rosetta-cp2ge-nntransform/c6510c63114343118b9f6a8e4c0a2270\n",
      "\n"
     ]
    },
    {
     "name": "stdout",
     "output_type": "stream",
     "text": [
      "Total pairs: 556 (556, 63) (556, 978)\n",
      "Total pairs: 21 (21, 63) (21, 978)\n",
      "Total pairs: 98 (98, 63) (98, 978)\n",
      "Epoch 1/100\n",
      "5/5 [==============================] - 2s 327ms/step - loss: 0.9898 - mean_absolute_error: 0.9898 - pcc: 1.0000 - val_loss: 0.6832 - val_mean_absolute_error: 0.6832 - val_pcc: 0.9998\n",
      "Epoch 2/100\n",
      "5/5 [==============================] - 0s 21ms/step - loss: 0.9615 - mean_absolute_error: 0.9615 - pcc: 1.0000 - val_loss: 0.6816 - val_mean_absolute_error: 0.6816 - val_pcc: 0.9998\n",
      "Epoch 3/100\n",
      "5/5 [==============================] - 0s 16ms/step - loss: 0.9765 - mean_absolute_error: 0.9765 - pcc: 0.9999 - val_loss: 0.6774 - val_mean_absolute_error: 0.6774 - val_pcc: 0.9999\n",
      "Epoch 4/100\n",
      "5/5 [==============================] - 0s 29ms/step - loss: 0.9590 - mean_absolute_error: 0.9590 - pcc: 1.0000 - val_loss: 0.6759 - val_mean_absolute_error: 0.6759 - val_pcc: 0.9999\n",
      "Epoch 5/100\n",
      "5/5 [==============================] - 0s 30ms/step - loss: 0.9680 - mean_absolute_error: 0.9680 - pcc: 1.0000 - val_loss: 0.6735 - val_mean_absolute_error: 0.6735 - val_pcc: 0.9999\n",
      "Epoch 6/100\n",
      "5/5 [==============================] - 0s 14ms/step - loss: 0.9780 - mean_absolute_error: 0.9780 - pcc: 0.9999 - val_loss: 0.6719 - val_mean_absolute_error: 0.6719 - val_pcc: 1.0000\n",
      "Epoch 7/100\n",
      "5/5 [==============================] - 0s 30ms/step - loss: 0.9260 - mean_absolute_error: 0.9260 - pcc: 0.9999 - val_loss: 0.6698 - val_mean_absolute_error: 0.6698 - val_pcc: 1.0000\n",
      "Epoch 8/100\n",
      "5/5 [==============================] - 0s 15ms/step - loss: 0.9391 - mean_absolute_error: 0.9391 - pcc: 0.9999 - val_loss: 0.6672 - val_mean_absolute_error: 0.6672 - val_pcc: 1.0000\n",
      "Epoch 9/100\n",
      "5/5 [==============================] - 0s 30ms/step - loss: 0.9350 - mean_absolute_error: 0.9350 - pcc: 0.9999 - val_loss: 0.6650 - val_mean_absolute_error: 0.6650 - val_pcc: 1.0000\n",
      "Epoch 10/100\n",
      "5/5 [==============================] - 0s 30ms/step - loss: 0.9769 - mean_absolute_error: 0.9769 - pcc: 0.9999 - val_loss: 0.6625 - val_mean_absolute_error: 0.6625 - val_pcc: 1.0000\n",
      "Epoch 11/100\n",
      "5/5 [==============================] - 0s 16ms/step - loss: 0.9421 - mean_absolute_error: 0.9421 - pcc: 0.9996 - val_loss: 0.6607 - val_mean_absolute_error: 0.6607 - val_pcc: 1.0000\n",
      "Epoch 12/100\n",
      "5/5 [==============================] - 0s 28ms/step - loss: 0.9224 - mean_absolute_error: 0.9224 - pcc: 0.9995 - val_loss: 0.6585 - val_mean_absolute_error: 0.6585 - val_pcc: 0.9999\n",
      "Epoch 13/100\n",
      "5/5 [==============================] - 0s 31ms/step - loss: 0.9322 - mean_absolute_error: 0.9322 - pcc: 0.9996 - val_loss: 0.6568 - val_mean_absolute_error: 0.6568 - val_pcc: 0.9999\n",
      "Epoch 14/100\n",
      "5/5 [==============================] - 0s 17ms/step - loss: 0.9348 - mean_absolute_error: 0.9348 - pcc: 0.9996 - val_loss: 0.6548 - val_mean_absolute_error: 0.6548 - val_pcc: 0.9998\n",
      "Epoch 15/100\n",
      "5/5 [==============================] - 0s 27ms/step - loss: 0.9198 - mean_absolute_error: 0.9198 - pcc: 0.9994 - val_loss: 0.6528 - val_mean_absolute_error: 0.6528 - val_pcc: 0.9997\n",
      "Epoch 16/100\n",
      "5/5 [==============================] - 0s 16ms/step - loss: 0.9305 - mean_absolute_error: 0.9305 - pcc: 0.9994 - val_loss: 0.6509 - val_mean_absolute_error: 0.6509 - val_pcc: 0.9996\n",
      "Epoch 17/100\n",
      "5/5 [==============================] - 0s 28ms/step - loss: 0.9057 - mean_absolute_error: 0.9057 - pcc: 0.9996 - val_loss: 0.6494 - val_mean_absolute_error: 0.6494 - val_pcc: 0.9996\n",
      "Epoch 18/100\n",
      "5/5 [==============================] - 0s 32ms/step - loss: 0.9282 - mean_absolute_error: 0.9282 - pcc: 0.9992 - val_loss: 0.6478 - val_mean_absolute_error: 0.6478 - val_pcc: 0.9994\n",
      "Epoch 19/100\n",
      "5/5 [==============================] - 0s 15ms/step - loss: 0.9250 - mean_absolute_error: 0.9250 - pcc: 0.9994 - val_loss: 0.6463 - val_mean_absolute_error: 0.6463 - val_pcc: 0.9993\n",
      "Epoch 20/100\n",
      "5/5 [==============================] - 0s 29ms/step - loss: 0.9001 - mean_absolute_error: 0.9001 - pcc: 0.9990 - val_loss: 0.6452 - val_mean_absolute_error: 0.6452 - val_pcc: 0.9992\n",
      "Epoch 21/100\n",
      "5/5 [==============================] - 0s 30ms/step - loss: 0.9470 - mean_absolute_error: 0.9470 - pcc: 0.9989 - val_loss: 0.6442 - val_mean_absolute_error: 0.6442 - val_pcc: 0.9991\n",
      "Epoch 22/100\n",
      "5/5 [==============================] - 0s 15ms/step - loss: 0.8859 - mean_absolute_error: 0.8859 - pcc: 0.9992 - val_loss: 0.6432 - val_mean_absolute_error: 0.6432 - val_pcc: 0.9990\n",
      "Epoch 23/100\n",
      "5/5 [==============================] - 0s 30ms/step - loss: 0.9215 - mean_absolute_error: 0.9215 - pcc: 0.9983 - val_loss: 0.6420 - val_mean_absolute_error: 0.6420 - val_pcc: 0.9989\n",
      "Epoch 24/100\n",
      "5/5 [==============================] - 0s 16ms/step - loss: 0.8940 - mean_absolute_error: 0.8940 - pcc: 0.9984 - val_loss: 0.6408 - val_mean_absolute_error: 0.6408 - val_pcc: 0.9987\n",
      "Epoch 25/100\n",
      "5/5 [==============================] - 0s 29ms/step - loss: 0.8995 - mean_absolute_error: 0.8995 - pcc: 0.9989 - val_loss: 0.6397 - val_mean_absolute_error: 0.6397 - val_pcc: 0.9985\n",
      "Epoch 26/100\n",
      "5/5 [==============================] - 0s 31ms/step - loss: 0.8894 - mean_absolute_error: 0.8894 - pcc: 0.9984 - val_loss: 0.6388 - val_mean_absolute_error: 0.6388 - val_pcc: 0.9984\n",
      "Epoch 27/100\n",
      "5/5 [==============================] - 0s 16ms/step - loss: 0.8870 - mean_absolute_error: 0.8870 - pcc: 0.9984 - val_loss: 0.6379 - val_mean_absolute_error: 0.6379 - val_pcc: 0.9983\n",
      "Epoch 28/100\n",
      "5/5 [==============================] - 0s 29ms/step - loss: 0.8651 - mean_absolute_error: 0.8651 - pcc: 0.9981 - val_loss: 0.6369 - val_mean_absolute_error: 0.6369 - val_pcc: 0.9981\n",
      "Epoch 29/100\n",
      "5/5 [==============================] - 0s 30ms/step - loss: 0.8809 - mean_absolute_error: 0.8809 - pcc: 0.9978 - val_loss: 0.6357 - val_mean_absolute_error: 0.6357 - val_pcc: 0.9978\n",
      "Epoch 30/100\n",
      "5/5 [==============================] - 0s 16ms/step - loss: 0.8856 - mean_absolute_error: 0.8856 - pcc: 0.9984 - val_loss: 0.6350 - val_mean_absolute_error: 0.6350 - val_pcc: 0.9977\n",
      "Epoch 31/100\n",
      "5/5 [==============================] - 0s 30ms/step - loss: 0.9112 - mean_absolute_error: 0.9112 - pcc: 0.9974 - val_loss: 0.6342 - val_mean_absolute_error: 0.6342 - val_pcc: 0.9975\n",
      "Epoch 32/100\n",
      "5/5 [==============================] - 0s 16ms/step - loss: 0.8738 - mean_absolute_error: 0.8738 - pcc: 0.9974 - val_loss: 0.6335 - val_mean_absolute_error: 0.6335 - val_pcc: 0.9974\n",
      "Epoch 33/100\n",
      "5/5 [==============================] - 0s 29ms/step - loss: 0.8857 - mean_absolute_error: 0.8857 - pcc: 0.9976 - val_loss: 0.6324 - val_mean_absolute_error: 0.6324 - val_pcc: 0.9971\n",
      "Epoch 34/100\n",
      "5/5 [==============================] - 0s 29ms/step - loss: 0.8669 - mean_absolute_error: 0.8669 - pcc: 0.9976 - val_loss: 0.6316 - val_mean_absolute_error: 0.6316 - val_pcc: 0.9969\n",
      "Epoch 35/100\n",
      "5/5 [==============================] - 0s 16ms/step - loss: 0.8807 - mean_absolute_error: 0.8807 - pcc: 0.9969 - val_loss: 0.6308 - val_mean_absolute_error: 0.6308 - val_pcc: 0.9968\n",
      "Epoch 36/100\n",
      "5/5 [==============================] - 0s 28ms/step - loss: 0.8876 - mean_absolute_error: 0.8876 - pcc: 0.9972 - val_loss: 0.6300 - val_mean_absolute_error: 0.6300 - val_pcc: 0.9965\n",
      "Epoch 37/100\n",
      "5/5 [==============================] - 0s 32ms/step - loss: 0.8608 - mean_absolute_error: 0.8608 - pcc: 0.9976 - val_loss: 0.6294 - val_mean_absolute_error: 0.6294 - val_pcc: 0.9964\n",
      "Epoch 38/100\n",
      "5/5 [==============================] - 0s 16ms/step - loss: 0.8463 - mean_absolute_error: 0.8463 - pcc: 0.9964 - val_loss: 0.6289 - val_mean_absolute_error: 0.6289 - val_pcc: 0.9963\n",
      "Epoch 39/100\n",
      "5/5 [==============================] - 0s 28ms/step - loss: 0.8586 - mean_absolute_error: 0.8586 - pcc: 0.9958 - val_loss: 0.6282 - val_mean_absolute_error: 0.6282 - val_pcc: 0.9961\n",
      "Epoch 40/100\n",
      "5/5 [==============================] - 0s 15ms/step - loss: 0.8860 - mean_absolute_error: 0.8860 - pcc: 0.9956 - val_loss: 0.6276 - val_mean_absolute_error: 0.6276 - val_pcc: 0.9960\n",
      "Epoch 41/100\n",
      "5/5 [==============================] - 0s 29ms/step - loss: 0.8435 - mean_absolute_error: 0.8435 - pcc: 0.9948 - val_loss: 0.6270 - val_mean_absolute_error: 0.6270 - val_pcc: 0.9957\n",
      "Epoch 42/100\n",
      "5/5 [==============================] - 0s 30ms/step - loss: 0.8751 - mean_absolute_error: 0.8751 - pcc: 0.9959 - val_loss: 0.6263 - val_mean_absolute_error: 0.6263 - val_pcc: 0.9955\n",
      "Epoch 43/100\n",
      "5/5 [==============================] - 0s 15ms/step - loss: 0.8529 - mean_absolute_error: 0.8529 - pcc: 0.9963 - val_loss: 0.6257 - val_mean_absolute_error: 0.6257 - val_pcc: 0.9953\n",
      "Epoch 44/100\n",
      "5/5 [==============================] - 0s 29ms/step - loss: 0.8545 - mean_absolute_error: 0.8545 - pcc: 0.9940 - val_loss: 0.6253 - val_mean_absolute_error: 0.6253 - val_pcc: 0.9951\n",
      "Epoch 45/100\n",
      "5/5 [==============================] - 0s 31ms/step - loss: 0.8804 - mean_absolute_error: 0.8804 - pcc: 0.9954 - val_loss: 0.6248 - val_mean_absolute_error: 0.6248 - val_pcc: 0.9949\n",
      "Epoch 46/100\n",
      "5/5 [==============================] - 0s 15ms/step - loss: 0.8341 - mean_absolute_error: 0.8341 - pcc: 0.9940 - val_loss: 0.6244 - val_mean_absolute_error: 0.6244 - val_pcc: 0.9946\n",
      "Epoch 47/100\n",
      "5/5 [==============================] - 0s 31ms/step - loss: 0.8429 - mean_absolute_error: 0.8429 - pcc: 0.9943 - val_loss: 0.6241 - val_mean_absolute_error: 0.6241 - val_pcc: 0.9945\n",
      "Epoch 48/100\n",
      "5/5 [==============================] - 0s 15ms/step - loss: 0.8518 - mean_absolute_error: 0.8518 - pcc: 0.9945 - val_loss: 0.6238 - val_mean_absolute_error: 0.6238 - val_pcc: 0.9944\n",
      "Epoch 49/100\n",
      "5/5 [==============================] - 0s 28ms/step - loss: 0.8667 - mean_absolute_error: 0.8667 - pcc: 0.9939 - val_loss: 0.6233 - val_mean_absolute_error: 0.6233 - val_pcc: 0.9942\n",
      "Epoch 50/100\n",
      "5/5 [==============================] - 0s 29ms/step - loss: 0.8389 - mean_absolute_error: 0.8389 - pcc: 0.9941 - val_loss: 0.6230 - val_mean_absolute_error: 0.6230 - val_pcc: 0.9941\n",
      "Epoch 51/100\n",
      "5/5 [==============================] - 0s 16ms/step - loss: 0.8230 - mean_absolute_error: 0.8230 - pcc: 0.9936 - val_loss: 0.6227 - val_mean_absolute_error: 0.6227 - val_pcc: 0.9940\n",
      "Epoch 52/100\n",
      "5/5 [==============================] - 0s 28ms/step - loss: 0.8597 - mean_absolute_error: 0.8597 - pcc: 0.9913 - val_loss: 0.6225 - val_mean_absolute_error: 0.6225 - val_pcc: 0.9938\n",
      "Epoch 53/100\n",
      "5/5 [==============================] - 0s 30ms/step - loss: 0.8519 - mean_absolute_error: 0.8519 - pcc: 0.9932 - val_loss: 0.6221 - val_mean_absolute_error: 0.6221 - val_pcc: 0.9936\n",
      "Epoch 54/100\n",
      "5/5 [==============================] - 0s 16ms/step - loss: 0.8328 - mean_absolute_error: 0.8328 - pcc: 0.9936 - val_loss: 0.6217 - val_mean_absolute_error: 0.6217 - val_pcc: 0.9936\n",
      "Epoch 55/100\n",
      "5/5 [==============================] - 0s 30ms/step - loss: 0.8459 - mean_absolute_error: 0.8459 - pcc: 0.9950 - val_loss: 0.6213 - val_mean_absolute_error: 0.6213 - val_pcc: 0.9935\n",
      "Epoch 56/100\n",
      "5/5 [==============================] - 0s 16ms/step - loss: 0.8540 - mean_absolute_error: 0.8540 - pcc: 0.9926 - val_loss: 0.6211 - val_mean_absolute_error: 0.6211 - val_pcc: 0.9935\n",
      "Epoch 57/100\n",
      "5/5 [==============================] - 0s 29ms/step - loss: 0.8264 - mean_absolute_error: 0.8264 - pcc: 0.9931 - val_loss: 0.6211 - val_mean_absolute_error: 0.6211 - val_pcc: 0.9935\n",
      "Epoch 58/100\n",
      "5/5 [==============================] - 0s 30ms/step - loss: 0.8497 - mean_absolute_error: 0.8497 - pcc: 0.9941 - val_loss: 0.6211 - val_mean_absolute_error: 0.6211 - val_pcc: 0.9936\n",
      "Epoch 59/100\n",
      "5/5 [==============================] - 0s 16ms/step - loss: 0.8186 - mean_absolute_error: 0.8186 - pcc: 0.9920 - val_loss: 0.6210 - val_mean_absolute_error: 0.6210 - val_pcc: 0.9937\n",
      "Epoch 60/100\n",
      "5/5 [==============================] - 0s 28ms/step - loss: 0.8219 - mean_absolute_error: 0.8219 - pcc: 0.9918 - val_loss: 0.6210 - val_mean_absolute_error: 0.6210 - val_pcc: 0.9938\n",
      "Epoch 61/100\n",
      "5/5 [==============================] - 0s 31ms/step - loss: 0.8206 - mean_absolute_error: 0.8206 - pcc: 0.9922 - val_loss: 0.6208 - val_mean_absolute_error: 0.6208 - val_pcc: 0.9937\n",
      "Epoch 62/100\n",
      "5/5 [==============================] - 0s 17ms/step - loss: 0.8125 - mean_absolute_error: 0.8125 - pcc: 0.9909 - val_loss: 0.6207 - val_mean_absolute_error: 0.6207 - val_pcc: 0.9937\n",
      "Epoch 63/100\n",
      "5/5 [==============================] - 0s 27ms/step - loss: 0.8250 - mean_absolute_error: 0.8250 - pcc: 0.9913 - val_loss: 0.6203 - val_mean_absolute_error: 0.6203 - val_pcc: 0.9933\n",
      "Epoch 64/100\n",
      "5/5 [==============================] - 0s 17ms/step - loss: 0.8057 - mean_absolute_error: 0.8057 - pcc: 0.9926 - val_loss: 0.6201 - val_mean_absolute_error: 0.6201 - val_pcc: 0.9932\n",
      "Epoch 65/100\n",
      "5/5 [==============================] - 0s 28ms/step - loss: 0.8455 - mean_absolute_error: 0.8455 - pcc: 0.9898 - val_loss: 0.6199 - val_mean_absolute_error: 0.6199 - val_pcc: 0.9931\n",
      "Epoch 66/100\n",
      "5/5 [==============================] - 0s 31ms/step - loss: 0.8330 - mean_absolute_error: 0.8330 - pcc: 0.9884 - val_loss: 0.6194 - val_mean_absolute_error: 0.6194 - val_pcc: 0.9927\n",
      "Epoch 67/100\n",
      "5/5 [==============================] - 0s 15ms/step - loss: 0.8187 - mean_absolute_error: 0.8187 - pcc: 0.9904 - val_loss: 0.6189 - val_mean_absolute_error: 0.6189 - val_pcc: 0.9923\n",
      "Epoch 68/100\n",
      "5/5 [==============================] - 0s 29ms/step - loss: 0.8157 - mean_absolute_error: 0.8157 - pcc: 0.9903 - val_loss: 0.6185 - val_mean_absolute_error: 0.6185 - val_pcc: 0.9919\n",
      "Epoch 69/100\n",
      "5/5 [==============================] - 0s 30ms/step - loss: 0.8025 - mean_absolute_error: 0.8025 - pcc: 0.9905 - val_loss: 0.6181 - val_mean_absolute_error: 0.6181 - val_pcc: 0.9916\n",
      "Epoch 70/100\n",
      "5/5 [==============================] - 0s 16ms/step - loss: 0.7920 - mean_absolute_error: 0.7920 - pcc: 0.9904 - val_loss: 0.6178 - val_mean_absolute_error: 0.6178 - val_pcc: 0.9913\n",
      "Epoch 71/100\n",
      "5/5 [==============================] - 0s 28ms/step - loss: 0.7984 - mean_absolute_error: 0.7984 - pcc: 0.9880 - val_loss: 0.6174 - val_mean_absolute_error: 0.6174 - val_pcc: 0.9910\n",
      "Epoch 72/100\n",
      "5/5 [==============================] - 0s 16ms/step - loss: 0.8100 - mean_absolute_error: 0.8100 - pcc: 0.9884 - val_loss: 0.6171 - val_mean_absolute_error: 0.6171 - val_pcc: 0.9907\n",
      "Epoch 73/100\n",
      "5/5 [==============================] - 0s 27ms/step - loss: 0.8240 - mean_absolute_error: 0.8240 - pcc: 0.9914 - val_loss: 0.6169 - val_mean_absolute_error: 0.6169 - val_pcc: 0.9906\n",
      "Epoch 74/100\n",
      "5/5 [==============================] - 0s 30ms/step - loss: 0.7853 - mean_absolute_error: 0.7853 - pcc: 0.9893 - val_loss: 0.6168 - val_mean_absolute_error: 0.6168 - val_pcc: 0.9905\n",
      "Epoch 75/100\n",
      "5/5 [==============================] - 0s 16ms/step - loss: 0.7813 - mean_absolute_error: 0.7813 - pcc: 0.9842 - val_loss: 0.6167 - val_mean_absolute_error: 0.6167 - val_pcc: 0.9904\n",
      "Epoch 76/100\n",
      "5/5 [==============================] - 0s 29ms/step - loss: 0.8166 - mean_absolute_error: 0.8166 - pcc: 0.9903 - val_loss: 0.6166 - val_mean_absolute_error: 0.6166 - val_pcc: 0.9903\n",
      "Epoch 77/100\n",
      "5/5 [==============================] - 0s 30ms/step - loss: 0.7931 - mean_absolute_error: 0.7931 - pcc: 0.9876 - val_loss: 0.6164 - val_mean_absolute_error: 0.6164 - val_pcc: 0.9902\n",
      "Epoch 78/100\n",
      "5/5 [==============================] - 0s 16ms/step - loss: 0.8108 - mean_absolute_error: 0.8108 - pcc: 0.9871 - val_loss: 0.6161 - val_mean_absolute_error: 0.6161 - val_pcc: 0.9899\n",
      "Epoch 79/100\n",
      "5/5 [==============================] - 0s 28ms/step - loss: 0.7910 - mean_absolute_error: 0.7910 - pcc: 0.9875 - val_loss: 0.6159 - val_mean_absolute_error: 0.6159 - val_pcc: 0.9897\n",
      "Epoch 80/100\n",
      "5/5 [==============================] - 0s 16ms/step - loss: 0.7882 - mean_absolute_error: 0.7882 - pcc: 0.9891 - val_loss: 0.6158 - val_mean_absolute_error: 0.6158 - val_pcc: 0.9896\n",
      "Epoch 81/100\n",
      "5/5 [==============================] - 0s 28ms/step - loss: 0.7821 - mean_absolute_error: 0.7821 - pcc: 0.9873 - val_loss: 0.6156 - val_mean_absolute_error: 0.6156 - val_pcc: 0.9894\n",
      "Epoch 82/100\n",
      "5/5 [==============================] - 0s 30ms/step - loss: 0.8022 - mean_absolute_error: 0.8022 - pcc: 0.9840 - val_loss: 0.6155 - val_mean_absolute_error: 0.6155 - val_pcc: 0.9892\n",
      "Epoch 83/100\n",
      "5/5 [==============================] - 0s 16ms/step - loss: 0.7917 - mean_absolute_error: 0.7917 - pcc: 0.9860 - val_loss: 0.6152 - val_mean_absolute_error: 0.6152 - val_pcc: 0.9889\n",
      "Epoch 84/100\n"
     ]
    },
    {
     "name": "stdout",
     "output_type": "stream",
     "text": [
      "5/5 [==============================] - 0s 27ms/step - loss: 0.7790 - mean_absolute_error: 0.7790 - pcc: 0.9828 - val_loss: 0.6150 - val_mean_absolute_error: 0.6150 - val_pcc: 0.9887\n",
      "Epoch 85/100\n",
      "5/5 [==============================] - 0s 31ms/step - loss: 0.7990 - mean_absolute_error: 0.7990 - pcc: 0.9835 - val_loss: 0.6148 - val_mean_absolute_error: 0.6148 - val_pcc: 0.9885\n",
      "Epoch 86/100\n",
      "5/5 [==============================] - 0s 19ms/step - loss: 0.8060 - mean_absolute_error: 0.8060 - pcc: 0.9843 - val_loss: 0.6146 - val_mean_absolute_error: 0.6146 - val_pcc: 0.9884\n",
      "Epoch 87/100\n",
      "5/5 [==============================] - 0s 26ms/step - loss: 0.7784 - mean_absolute_error: 0.7784 - pcc: 0.9872 - val_loss: 0.6143 - val_mean_absolute_error: 0.6143 - val_pcc: 0.9881\n",
      "Epoch 88/100\n",
      "5/5 [==============================] - 0s 16ms/step - loss: 0.8083 - mean_absolute_error: 0.8083 - pcc: 0.9880 - val_loss: 0.6140 - val_mean_absolute_error: 0.6140 - val_pcc: 0.9878\n",
      "Epoch 89/100\n",
      "5/5 [==============================] - 0s 29ms/step - loss: 0.7756 - mean_absolute_error: 0.7756 - pcc: 0.9787 - val_loss: 0.6138 - val_mean_absolute_error: 0.6138 - val_pcc: 0.9877\n",
      "Epoch 90/100\n",
      "5/5 [==============================] - 0s 30ms/step - loss: 0.7816 - mean_absolute_error: 0.7816 - pcc: 0.9863 - val_loss: 0.6137 - val_mean_absolute_error: 0.6137 - val_pcc: 0.9875\n",
      "Epoch 91/100\n",
      "5/5 [==============================] - 0s 14ms/step - loss: 0.7674 - mean_absolute_error: 0.7674 - pcc: 0.9842 - val_loss: 0.6137 - val_mean_absolute_error: 0.6137 - val_pcc: 0.9876\n",
      "Epoch 92/100\n",
      "5/5 [==============================] - 0s 29ms/step - loss: 0.7748 - mean_absolute_error: 0.7748 - pcc: 0.9834 - val_loss: 0.6138 - val_mean_absolute_error: 0.6138 - val_pcc: 0.9877\n",
      "Epoch 93/100\n",
      "5/5 [==============================] - 0s 31ms/step - loss: 0.7744 - mean_absolute_error: 0.7744 - pcc: 0.9807 - val_loss: 0.6139 - val_mean_absolute_error: 0.6139 - val_pcc: 0.9877\n",
      "Epoch 94/100\n",
      "5/5 [==============================] - 0s 16ms/step - loss: 0.8287 - mean_absolute_error: 0.8287 - pcc: 0.9875 - val_loss: 0.6137 - val_mean_absolute_error: 0.6137 - val_pcc: 0.9874\n",
      "Epoch 95/100\n",
      "5/5 [==============================] - 0s 28ms/step - loss: 0.7660 - mean_absolute_error: 0.7660 - pcc: 0.9818 - val_loss: 0.6136 - val_mean_absolute_error: 0.6136 - val_pcc: 0.9872\n",
      "Epoch 96/100\n",
      "5/5 [==============================] - 0s 16ms/step - loss: 0.7870 - mean_absolute_error: 0.7870 - pcc: 0.9858 - val_loss: 0.6136 - val_mean_absolute_error: 0.6136 - val_pcc: 0.9873\n",
      "Epoch 97/100\n",
      "5/5 [==============================] - 0s 28ms/step - loss: 0.7709 - mean_absolute_error: 0.7709 - pcc: 0.9820 - val_loss: 0.6136 - val_mean_absolute_error: 0.6136 - val_pcc: 0.9873\n",
      "Epoch 98/100\n",
      "5/5 [==============================] - 0s 30ms/step - loss: 0.8033 - mean_absolute_error: 0.8033 - pcc: 0.9851 - val_loss: 0.6137 - val_mean_absolute_error: 0.6137 - val_pcc: 0.9874\n",
      "Epoch 99/100\n",
      "5/5 [==============================] - 0s 17ms/step - loss: 0.7626 - mean_absolute_error: 0.7626 - pcc: 0.9781 - val_loss: 0.6137 - val_mean_absolute_error: 0.6137 - val_pcc: 0.9874\n",
      "Epoch 100/100\n",
      "5/5 [==============================] - 0s 28ms/step - loss: 0.7621 - mean_absolute_error: 0.7621 - pcc: 0.9780 - val_loss: 0.6136 - val_mean_absolute_error: 0.6136 - val_pcc: 0.9875\n"
     ]
    }
   ],
   "source": [
    "reload(networksEvol)\n",
    "pred_ge_mlp=networksEvol.nnTransform(l1k_train,cp_train,l1k_test,cp_test)"
   ]
  },
  {
   "cell_type": "code",
   "execution_count": 44,
   "metadata": {},
   "outputs": [
    {
     "data": {
      "image/png": "[encoded data removed]",
      "text/plain": [
       "<matplotlib.figure.Figure at 0x7fc3faab8550>"
      ]
     },
     "metadata": {},
     "output_type": "display_data"
    }
   ],
   "source": [
    "visualizePredictionResults(pred_ge_mlp)"
   ]
  },
  {
   "cell_type": "code",
   "execution_count": 63,
   "metadata": {},
   "outputs": [
    {
     "data": {
      "text/plain": [
       "(38, 978)"
      ]
     },
     "execution_count": 63,
     "metadata": {},
     "output_type": "execute_result"
    }
   ],
   "source": [
    "# visualizePredictionResults()\n",
    "pred_ge_mlpPlus.shape"
   ]
  },
  {
   "cell_type": "markdown",
   "metadata": {},
   "source": [
    "# Train \"MLP+Reconstruction loss\" and Test"
   ]
  },
  {
   "cell_type": "code",
   "execution_count": 39,
   "metadata": {
    "scrolled": true
   },
   "outputs": [
    {
     "name": "stderr",
     "output_type": "stream",
     "text": [
      "COMET INFO: ----------------------------\n",
      "COMET INFO: Comet.ml Experiment Summary:\n",
      "COMET INFO:   Data:\n",
      "COMET INFO:     url: https://www.comet.ml/marziehhaghighi/rosetta-cp2ge/84f28cabbfec400692f37b039f2a2e12\n",
      "COMET INFO:   Metrics [count] (min, max):\n",
      "COMET INFO:     batch_dense_52_loss [300]               : (0.5049954056739807, 0.9511601328849792)\n",
      "COMET INFO:     batch_dense_52_mean_absolute_error [300]: (0.5049954056739807, 0.9511601328849792)\n",
      "COMET INFO:     batch_dense_52_pcc [300]                : (0.7614057660102844, 0.9999947547912598)\n",
      "COMET INFO:     batch_dense_56_loss [300]               : (0.10048704594373703, 0.7203341126441956)\n",
      "COMET INFO:     batch_dense_56_mean_absolute_error [300]: (0.10048704594373703, 0.7203341126441956)\n",
      "COMET INFO:     batch_dense_56_pcc [300]                : (0.6706788539886475, 0.9999988079071045)\n",
      "COMET INFO:     batch_loss [300]                        : (5.175134658813477, 10.227813720703125)\n",
      "COMET INFO:     dense_52_loss [300]                     : (0.533236289024353, 0.9662768602371216)\n",
      "COMET INFO:     dense_52_mean_absolute_error [300]      : (0.533236289024353, 0.9662768602371216)\n",
      "COMET INFO:     dense_52_pcc [300]                      : (0.8017067193984986, 0.999932324886322)\n",
      "COMET INFO:     dense_56_loss [300]                     : (0.11839092224836349, 0.7175202250480652)\n",
      "COMET INFO:     dense_56_mean_absolute_error [300]      : (0.11839092224836349, 0.7175202250480652)\n",
      "COMET INFO:     dense_56_pcc [300]                      : (0.7792802929878235, 0.9998591184616089)\n",
      "COMET INFO:     epoch_duration [300]                    : (0.12031154334545135, 2.1385099785402417)\n",
      "COMET INFO:     loss [300]                              : (5.452599906921387, 10.380289077758789)\n",
      "COMET INFO:     lr [300]                                : (9.999999747378752e-05, 0.0010000000474974513)\n",
      "COMET INFO:     step                                    : 1500\n",
      "COMET INFO:     sys.gpu.0.free_memory [4]               : (4477485056.0, 4477878272.0)\n",
      "COMET INFO:     sys.gpu.0.gpu_utilization [4]           : (0.0, 0.0)\n",
      "COMET INFO:     sys.gpu.0.total_memory                  : (12796690432.0, 12796690432.0)\n",
      "COMET INFO:     sys.gpu.0.used_memory [4]               : (8318812160.0, 8319205376.0)\n",
      "COMET INFO:     sys.gpu.1.free_memory [4]               : (9877651456.0, 9877651456.0)\n",
      "COMET INFO:     sys.gpu.1.gpu_utilization [4]           : (0.0, 16.0)\n",
      "COMET INFO:     sys.gpu.1.total_memory                  : (12788498432.0, 12788498432.0)\n",
      "COMET INFO:     sys.gpu.1.used_memory [4]               : (2910846976.0, 2910846976.0)\n",
      "COMET INFO:     sys.gpu.2.free_memory [4]               : (12358582272.0, 12358582272.0)\n",
      "COMET INFO:     sys.gpu.2.gpu_utilization [4]           : (0.0, 0.0)\n",
      "COMET INFO:     sys.gpu.2.total_memory                  : (12788498432.0, 12788498432.0)\n",
      "COMET INFO:     sys.gpu.2.used_memory [4]               : (429916160.0, 429916160.0)\n",
      "COMET INFO:     sys.gpu.3.free_memory [4]               : (11291590656.0, 11291590656.0)\n",
      "COMET INFO:     sys.gpu.3.gpu_utilization [4]           : (0.0, 0.0)\n",
      "COMET INFO:     sys.gpu.3.total_memory                  : (11721506816.0, 11721506816.0)\n",
      "COMET INFO:     sys.gpu.3.used_memory [4]               : (429916160.0, 429916160.0)\n",
      "COMET INFO:     val_dense_52_loss [300]                 : (0.6542054257894817, 0.8421473346258465)\n",
      "COMET INFO:     val_dense_52_mean_absolute_error [300]  : (0.6542054257894817, 0.8421473346258465)\n",
      "COMET INFO:     val_dense_52_pcc [300]                  : (0.9020210535902726, 0.9999526582266155)\n",
      "COMET INFO:     val_dense_56_loss [300]                 : (0.11492458221159484, 0.515751462233694)\n",
      "COMET INFO:     val_dense_56_mean_absolute_error [300]  : (0.11492458221159484, 0.515751462233694)\n",
      "COMET INFO:     val_dense_56_pcc [300]                  : (0.5911600401527003, 0.9982241988182068)\n",
      "COMET INFO:     val_loss [300]                          : (6.6659437982659595, 8.929025599831029)\n",
      "COMET INFO:   Other [count]:\n",
      "COMET INFO:     trainable_params: 3649019\n",
      "COMET INFO: ----------------------------\n",
      "COMET INFO: old comet version (2.0.13) detected. current: 2.0.15 please update your comet lib with command: `pip install --no-cache-dir --upgrade comet_ml`\n",
      "COMET WARNING: Failing to collect the installed os packages\n",
      "COMET INFO: Experiment is live on comet.ml https://www.comet.ml/marziehhaghighi/rosetta-cp2ge/fe36ccaf333b4814b8a05025163a7a08\n",
      "\n"
     ]
    },
    {
     "name": "stdout",
     "output_type": "stream",
     "text": [
      "Total pairs: 577 (577, 63) (577, 978)\n",
      "Total pairs: 98 (98, 63) (98, 978)\n",
      "Epoch 1/300\n",
      "5/5 [==============================] - 2s 459ms/step - loss: 10.6360 - dense_60_loss: 0.9713 - dense_64_loss: 0.9230 - dense_60_mean_absolute_error: 0.9713 - dense_60_pcc: 0.9999 - dense_64_mean_absolute_error: 0.9230 - dense_64_pcc: 0.9979 - val_loss: 9.2538 - val_dense_60_loss: 0.8432 - val_dense_64_loss: 0.8213 - val_dense_60_mean_absolute_error: 0.8432 - val_dense_60_pcc: 0.9994 - val_dense_64_mean_absolute_error: 0.8213 - val_dense_64_pcc: 0.9476\n",
      "Epoch 2/300\n",
      "5/5 [==============================] - 0s 34ms/step - loss: 10.1629 - dense_60_loss: 0.9266 - dense_64_loss: 0.8964 - dense_60_mean_absolute_error: 0.9266 - dense_60_pcc: 0.9998 - dense_64_mean_absolute_error: 0.8964 - dense_64_pcc: 0.9874 - val_loss: 9.0646 - val_dense_60_loss: 0.8264 - val_dense_64_loss: 0.8009 - val_dense_60_mean_absolute_error: 0.8264 - val_dense_60_pcc: 0.9986 - val_dense_64_mean_absolute_error: 0.8009 - val_dense_64_pcc: 0.9287\n",
      "Epoch 3/300\n",
      "5/5 [==============================] - 0s 27ms/step - loss: 10.2956 - dense_60_loss: 0.9403 - dense_64_loss: 0.8927 - dense_60_mean_absolute_error: 0.9403 - dense_60_pcc: 0.9997 - dense_64_mean_absolute_error: 0.8927 - dense_64_pcc: 0.9794 - val_loss: 8.8138 - val_dense_60_loss: 0.8044 - val_dense_64_loss: 0.7701 - val_dense_60_mean_absolute_error: 0.8044 - val_dense_60_pcc: 0.9968 - val_dense_64_mean_absolute_error: 0.7701 - val_dense_64_pcc: 0.8674\n",
      "Epoch 4/300\n",
      "5/5 [==============================] - 0s 40ms/step - loss: 9.8390 - dense_60_loss: 0.9027 - dense_64_loss: 0.8116 - dense_60_mean_absolute_error: 0.9027 - dense_60_pcc: 0.9991 - dense_64_mean_absolute_error: 0.8116 - dense_64_pcc: 0.9499 - val_loss: 8.6982 - val_dense_60_loss: 0.7931 - val_dense_64_loss: 0.7671 - val_dense_60_mean_absolute_error: 0.7931 - val_dense_60_pcc: 0.9950 - val_dense_64_mean_absolute_error: 0.7671 - val_dense_64_pcc: 0.8414\n",
      "Epoch 5/300\n",
      "5/5 [==============================] - 0s 26ms/step - loss: 9.5762 - dense_60_loss: 0.8746 - dense_64_loss: 0.8304 - dense_60_mean_absolute_error: 0.8746 - dense_60_pcc: 0.9966 - dense_64_mean_absolute_error: 0.8304 - dense_64_pcc: 0.9254 - val_loss: 8.5237 - val_dense_60_loss: 0.7764 - val_dense_64_loss: 0.7593 - val_dense_60_mean_absolute_error: 0.7764 - val_dense_60_pcc: 0.9930 - val_dense_64_mean_absolute_error: 0.7593 - val_dense_64_pcc: 0.7985\n",
      "Epoch 6/300\n",
      "5/5 [==============================] - 0s 25ms/step - loss: 9.5086 - dense_60_loss: 0.8720 - dense_64_loss: 0.7883 - dense_60_mean_absolute_error: 0.8720 - dense_60_pcc: 0.9968 - dense_64_mean_absolute_error: 0.7883 - dense_64_pcc: 0.9187 - val_loss: 8.4557 - val_dense_60_loss: 0.7707 - val_dense_64_loss: 0.7488 - val_dense_60_mean_absolute_error: 0.7707 - val_dense_60_pcc: 0.9909 - val_dense_64_mean_absolute_error: 0.7488 - val_dense_64_pcc: 0.7604\n",
      "Epoch 7/300\n",
      "5/5 [==============================] - 0s 42ms/step - loss: 9.1878 - dense_60_loss: 0.8398 - dense_64_loss: 0.7898 - dense_60_mean_absolute_error: 0.8398 - dense_60_pcc: 0.9941 - dense_64_mean_absolute_error: 0.7898 - dense_64_pcc: 0.8842 - val_loss: 8.3491 - val_dense_60_loss: 0.7618 - val_dense_64_loss: 0.7309 - val_dense_60_mean_absolute_error: 0.7618 - val_dense_60_pcc: 0.9881 - val_dense_64_mean_absolute_error: 0.7309 - val_dense_64_pcc: 0.7346\n",
      "Epoch 8/300\n",
      "5/5 [==============================] - 0s 25ms/step - loss: 8.9816 - dense_60_loss: 0.8250 - dense_64_loss: 0.7312 - dense_60_mean_absolute_error: 0.8250 - dense_60_pcc: 0.9911 - dense_64_mean_absolute_error: 0.7312 - dense_64_pcc: 0.8648 - val_loss: 8.2868 - val_dense_60_loss: 0.7566 - val_dense_64_loss: 0.7204 - val_dense_60_mean_absolute_error: 0.7566 - val_dense_60_pcc: 0.9849 - val_dense_64_mean_absolute_error: 0.7204 - val_dense_64_pcc: 0.7261\n",
      "Epoch 9/300\n",
      "5/5 [==============================] - 0s 27ms/step - loss: 8.7025 - dense_60_loss: 0.7995 - dense_64_loss: 0.7074 - dense_60_mean_absolute_error: 0.7995 - dense_60_pcc: 0.9909 - dense_64_mean_absolute_error: 0.7074 - dense_64_pcc: 0.8584 - val_loss: 8.2521 - val_dense_60_loss: 0.7546 - val_dense_64_loss: 0.7060 - val_dense_60_mean_absolute_error: 0.7546 - val_dense_60_pcc: 0.9826 - val_dense_64_mean_absolute_error: 0.7060 - val_dense_64_pcc: 0.7071\n",
      "Epoch 10/300\n",
      "5/5 [==============================] - 0s 39ms/step - loss: 8.8436 - dense_60_loss: 0.8144 - dense_64_loss: 0.6996 - dense_60_mean_absolute_error: 0.8144 - dense_60_pcc: 0.9883 - dense_64_mean_absolute_error: 0.6996 - dense_64_pcc: 0.8501 - val_loss: 8.2320 - val_dense_60_loss: 0.7531 - val_dense_64_loss: 0.7010 - val_dense_60_mean_absolute_error: 0.7531 - val_dense_60_pcc: 0.9815 - val_dense_64_mean_absolute_error: 0.7010 - val_dense_64_pcc: 0.7079\n",
      "Epoch 11/300\n",
      "5/5 [==============================] - 0s 26ms/step - loss: 8.8506 - dense_60_loss: 0.8128 - dense_64_loss: 0.7227 - dense_60_mean_absolute_error: 0.8128 - dense_60_pcc: 0.9872 - dense_64_mean_absolute_error: 0.7227 - dense_64_pcc: 0.8385 - val_loss: 8.2167 - val_dense_60_loss: 0.7520 - val_dense_64_loss: 0.6970 - val_dense_60_mean_absolute_error: 0.7520 - val_dense_60_pcc: 0.9804 - val_dense_64_mean_absolute_error: 0.6970 - val_dense_64_pcc: 0.7142\n",
      "Epoch 12/300\n",
      "5/5 [==============================] - 0s 42ms/step - loss: 8.6275 - dense_60_loss: 0.7939 - dense_64_loss: 0.6887 - dense_60_mean_absolute_error: 0.7939 - dense_60_pcc: 0.9830 - dense_64_mean_absolute_error: 0.6887 - dense_64_pcc: 0.8135 - val_loss: 8.2044 - val_dense_60_loss: 0.7510 - val_dense_64_loss: 0.6940 - val_dense_60_mean_absolute_error: 0.7510 - val_dense_60_pcc: 0.9793 - val_dense_64_mean_absolute_error: 0.6940 - val_dense_64_pcc: 0.7189\n",
      "Epoch 13/300\n",
      "5/5 [==============================] - 0s 28ms/step - loss: 8.5663 - dense_60_loss: 0.7860 - dense_64_loss: 0.7065 - dense_60_mean_absolute_error: 0.7860 - dense_60_pcc: 0.9858 - dense_64_mean_absolute_error: 0.7065 - dense_64_pcc: 0.8150 - val_loss: 8.1810 - val_dense_60_loss: 0.7493 - val_dense_64_loss: 0.6882 - val_dense_60_mean_absolute_error: 0.7493 - val_dense_60_pcc: 0.9788 - val_dense_64_mean_absolute_error: 0.6882 - val_dense_64_pcc: 0.7059\n",
      "Epoch 14/300\n",
      "5/5 [==============================] - 0s 27ms/step - loss: 8.7048 - dense_60_loss: 0.8036 - dense_64_loss: 0.6688 - dense_60_mean_absolute_error: 0.8036 - dense_60_pcc: 0.9806 - dense_64_mean_absolute_error: 0.6688 - dense_64_pcc: 0.8143 - val_loss: 8.1576 - val_dense_60_loss: 0.7479 - val_dense_64_loss: 0.6783 - val_dense_60_mean_absolute_error: 0.7479 - val_dense_60_pcc: 0.9789 - val_dense_64_mean_absolute_error: 0.6783 - val_dense_64_pcc: 0.6900\n",
      "Epoch 15/300\n",
      "5/5 [==============================] - 0s 38ms/step - loss: 8.4213 - dense_60_loss: 0.7786 - dense_64_loss: 0.6353 - dense_60_mean_absolute_error: 0.7786 - dense_60_pcc: 0.9868 - dense_64_mean_absolute_error: 0.6353 - dense_64_pcc: 0.7949 - val_loss: 8.1229 - val_dense_60_loss: 0.7451 - val_dense_64_loss: 0.6719 - val_dense_60_mean_absolute_error: 0.7451 - val_dense_60_pcc: 0.9792 - val_dense_64_mean_absolute_error: 0.6719 - val_dense_64_pcc: 0.6882\n",
      "Epoch 16/300\n",
      "5/5 [==============================] - 0s 29ms/step - loss: 8.2886 - dense_60_loss: 0.7638 - dense_64_loss: 0.6507 - dense_60_mean_absolute_error: 0.7638 - dense_60_pcc: 0.9854 - dense_64_mean_absolute_error: 0.6507 - dense_64_pcc: 0.8086 - val_loss: 8.0988 - val_dense_60_loss: 0.7428 - val_dense_64_loss: 0.6708 - val_dense_60_mean_absolute_error: 0.7428 - val_dense_60_pcc: 0.9794 - val_dense_64_mean_absolute_error: 0.6708 - val_dense_64_pcc: 0.6960\n",
      "Epoch 17/300\n",
      "5/5 [==============================] - 0s 27ms/step - loss: 8.2118 - dense_60_loss: 0.7555 - dense_64_loss: 0.6568 - dense_60_mean_absolute_error: 0.7555 - dense_60_pcc: 0.9769 - dense_64_mean_absolute_error: 0.6568 - dense_64_pcc: 0.7974 - val_loss: 8.0780 - val_dense_60_loss: 0.7408 - val_dense_64_loss: 0.6703 - val_dense_60_mean_absolute_error: 0.7408 - val_dense_60_pcc: 0.9796 - val_dense_64_mean_absolute_error: 0.6703 - val_dense_64_pcc: 0.7035\n",
      "Epoch 18/300\n",
      "5/5 [==============================] - 0s 37ms/step - loss: 7.9722 - dense_60_loss: 0.7319 - dense_64_loss: 0.6533 - dense_60_mean_absolute_error: 0.7319 - dense_60_pcc: 0.9726 - dense_64_mean_absolute_error: 0.6533 - dense_64_pcc: 0.7748 - val_loss: 8.0584 - val_dense_60_loss: 0.7382 - val_dense_64_loss: 0.6761 - val_dense_60_mean_absolute_error: 0.7382 - val_dense_60_pcc: 0.9773 - val_dense_64_mean_absolute_error: 0.6761 - val_dense_64_pcc: 0.7105\n",
      "Epoch 19/300\n",
      "5/5 [==============================] - 0s 27ms/step - loss: 7.9912 - dense_60_loss: 0.7380 - dense_64_loss: 0.6117 - dense_60_mean_absolute_error: 0.7380 - dense_60_pcc: 0.9769 - dense_64_mean_absolute_error: 0.6117 - dense_64_pcc: 0.7503 - val_loss: 8.0601 - val_dense_60_loss: 0.7369 - val_dense_64_loss: 0.6912 - val_dense_60_mean_absolute_error: 0.7369 - val_dense_60_pcc: 0.9723 - val_dense_64_mean_absolute_error: 0.6912 - val_dense_64_pcc: 0.7302\n",
      "Epoch 20/300\n",
      "5/5 [==============================] - 0s 41ms/step - loss: 8.0032 - dense_60_loss: 0.7355 - dense_64_loss: 0.6484 - dense_60_mean_absolute_error: 0.7355 - dense_60_pcc: 0.9725 - dense_64_mean_absolute_error: 0.6484 - dense_64_pcc: 0.7794 - val_loss: 8.0183 - val_dense_60_loss: 0.7332 - val_dense_64_loss: 0.6866 - val_dense_60_mean_absolute_error: 0.7332 - val_dense_60_pcc: 0.9683 - val_dense_64_mean_absolute_error: 0.6866 - val_dense_64_pcc: 0.7270\n",
      "Epoch 21/300\n",
      "5/5 [==============================] - 0s 27ms/step - loss: 7.7278 - dense_60_loss: 0.7137 - dense_64_loss: 0.5907 - dense_60_mean_absolute_error: 0.7137 - dense_60_pcc: 0.9683 - dense_64_mean_absolute_error: 0.5907 - dense_64_pcc: 0.7532 - val_loss: 7.9979 - val_dense_60_loss: 0.7326 - val_dense_64_loss: 0.6714 - val_dense_60_mean_absolute_error: 0.7326 - val_dense_60_pcc: 0.9656 - val_dense_64_mean_absolute_error: 0.6714 - val_dense_64_pcc: 0.7161\n",
      "Epoch 22/300\n",
      "5/5 [==============================] - 0s 28ms/step - loss: 8.0004 - dense_60_loss: 0.7336 - dense_64_loss: 0.6649 - dense_60_mean_absolute_error: 0.7336 - dense_60_pcc: 0.9597 - dense_64_mean_absolute_error: 0.6649 - dense_64_pcc: 0.7494 - val_loss: 7.9906 - val_dense_60_loss: 0.7325 - val_dense_64_loss: 0.6661 - val_dense_60_mean_absolute_error: 0.7325 - val_dense_60_pcc: 0.9628 - val_dense_64_mean_absolute_error: 0.6661 - val_dense_64_pcc: 0.7022\n",
      "Epoch 23/300\n",
      "5/5 [==============================] - 0s 39ms/step - loss: 8.0458 - dense_60_loss: 0.7386 - dense_64_loss: 0.6596 - dense_60_mean_absolute_error: 0.7386 - dense_60_pcc: 0.9612 - dense_64_mean_absolute_error: 0.6596 - dense_64_pcc: 0.7578 - val_loss: 8.0034 - val_dense_60_loss: 0.7338 - val_dense_64_loss: 0.6651 - val_dense_60_mean_absolute_error: 0.7338 - val_dense_60_pcc: 0.9613 - val_dense_64_mean_absolute_error: 0.6651 - val_dense_64_pcc: 0.7113\n",
      "Epoch 24/300\n",
      "5/5 [==============================] - 0s 26ms/step - loss: 7.7951 - dense_60_loss: 0.7180 - dense_64_loss: 0.6151 - dense_60_mean_absolute_error: 0.7180 - dense_60_pcc: 0.9679 - dense_64_mean_absolute_error: 0.6151 - dense_64_pcc: 0.7741 - val_loss: 7.9994 - val_dense_60_loss: 0.7340 - val_dense_64_loss: 0.6592 - val_dense_60_mean_absolute_error: 0.7340 - val_dense_60_pcc: 0.9599 - val_dense_64_mean_absolute_error: 0.6592 - val_dense_64_pcc: 0.7043\n",
      "Epoch 25/300\n",
      "5/5 [==============================] - 0s 27ms/step - loss: 7.6092 - dense_60_loss: 0.7005 - dense_64_loss: 0.6042 - dense_60_mean_absolute_error: 0.7005 - dense_60_pcc: 0.9472 - dense_64_mean_absolute_error: 0.6042 - dense_64_pcc: 0.7520 - val_loss: 7.9731 - val_dense_60_loss: 0.7318 - val_dense_64_loss: 0.6553 - val_dense_60_mean_absolute_error: 0.7318 - val_dense_60_pcc: 0.9594 - val_dense_64_mean_absolute_error: 0.6553 - val_dense_64_pcc: 0.6959\n",
      "Epoch 26/300\n",
      "5/5 [==============================] - 0s 39ms/step - loss: 7.5240 - dense_60_loss: 0.6932 - dense_64_loss: 0.5916 - dense_60_mean_absolute_error: 0.6932 - dense_60_pcc: 0.9543 - dense_64_mean_absolute_error: 0.5916 - dense_64_pcc: 0.7654 - val_loss: 7.9775 - val_dense_60_loss: 0.7326 - val_dense_64_loss: 0.6514 - val_dense_60_mean_absolute_error: 0.7326 - val_dense_60_pcc: 0.9585 - val_dense_64_mean_absolute_error: 0.6514 - val_dense_64_pcc: 0.6913\n",
      "Epoch 27/300\n",
      "5/5 [==============================] - 0s 26ms/step - loss: 7.7014 - dense_60_loss: 0.7070 - dense_64_loss: 0.6315 - dense_60_mean_absolute_error: 0.7070 - dense_60_pcc: 0.9509 - dense_64_mean_absolute_error: 0.6315 - dense_64_pcc: 0.7461 - val_loss: 7.9756 - val_dense_60_loss: 0.7324 - val_dense_64_loss: 0.6513 - val_dense_60_mean_absolute_error: 0.7324 - val_dense_60_pcc: 0.9583 - val_dense_64_mean_absolute_error: 0.6513 - val_dense_64_pcc: 0.6932\n",
      "Epoch 28/300\n",
      "5/5 [==============================] - 0s 44ms/step - loss: 7.7636 - dense_60_loss: 0.7129 - dense_64_loss: 0.6343 - dense_60_mean_absolute_error: 0.7129 - dense_60_pcc: 0.9590 - dense_64_mean_absolute_error: 0.6343 - dense_64_pcc: 0.7467 - val_loss: 7.9455 - val_dense_60_loss: 0.7293 - val_dense_64_loss: 0.6524 - val_dense_60_mean_absolute_error: 0.7293 - val_dense_60_pcc: 0.9579 - val_dense_64_mean_absolute_error: 0.6524 - val_dense_64_pcc: 0.6984\n",
      "Epoch 29/300\n",
      "5/5 [==============================] - 0s 27ms/step - loss: 7.4810 - dense_60_loss: 0.6818 - dense_64_loss: 0.6631 - dense_60_mean_absolute_error: 0.6818 - dense_60_pcc: 0.9507 - dense_64_mean_absolute_error: 0.6631 - dense_64_pcc: 0.7434 - val_loss: 7.9092 - val_dense_60_loss: 0.7265 - val_dense_64_loss: 0.6444 - val_dense_60_mean_absolute_error: 0.7265 - val_dense_60_pcc: 0.9590 - val_dense_64_mean_absolute_error: 0.6444 - val_dense_64_pcc: 0.6868\n",
      "Epoch 30/300\n",
      "5/5 [==============================] - 0s 27ms/step - loss: 7.5588 - dense_60_loss: 0.6956 - dense_64_loss: 0.6029 - dense_60_mean_absolute_error: 0.6956 - dense_60_pcc: 0.9394 - dense_64_mean_absolute_error: 0.6029 - dense_64_pcc: 0.7354 - val_loss: 7.8808 - val_dense_60_loss: 0.7242 - val_dense_64_loss: 0.6390 - val_dense_60_mean_absolute_error: 0.7242 - val_dense_60_pcc: 0.9609 - val_dense_64_mean_absolute_error: 0.6390 - val_dense_64_pcc: 0.6805\n",
      "Epoch 31/300\n",
      "5/5 [==============================] - 0s 38ms/step - loss: 7.7543 - dense_60_loss: 0.7071 - dense_64_loss: 0.6831 - dense_60_mean_absolute_error: 0.7071 - dense_60_pcc: 0.9477 - dense_64_mean_absolute_error: 0.6831 - dense_64_pcc: 0.7502 - val_loss: 7.8441 - val_dense_60_loss: 0.7206 - val_dense_64_loss: 0.6382 - val_dense_60_mean_absolute_error: 0.7206 - val_dense_60_pcc: 0.9615 - val_dense_64_mean_absolute_error: 0.6382 - val_dense_64_pcc: 0.6790\n",
      "Epoch 32/300\n",
      "5/5 [==============================] - 0s 27ms/step - loss: 7.7663 - dense_60_loss: 0.7158 - dense_64_loss: 0.6082 - dense_60_mean_absolute_error: 0.7158 - dense_60_pcc: 0.9384 - dense_64_mean_absolute_error: 0.6082 - dense_64_pcc: 0.7373 - val_loss: 7.8339 - val_dense_60_loss: 0.7186 - val_dense_64_loss: 0.6477 - val_dense_60_mean_absolute_error: 0.7186 - val_dense_60_pcc: 0.9602 - val_dense_64_mean_absolute_error: 0.6477 - val_dense_64_pcc: 0.6906\n",
      "Epoch 33/300\n",
      "5/5 [==============================] - 0s 26ms/step - loss: 7.5918 - dense_60_loss: 0.6961 - dense_64_loss: 0.6303 - dense_60_mean_absolute_error: 0.6961 - dense_60_pcc: 0.9324 - dense_64_mean_absolute_error: 0.6303 - dense_64_pcc: 0.7500 - val_loss: 7.8618 - val_dense_60_loss: 0.7205 - val_dense_64_loss: 0.6566 - val_dense_60_mean_absolute_error: 0.7205 - val_dense_60_pcc: 0.9587 - val_dense_64_mean_absolute_error: 0.6566 - val_dense_64_pcc: 0.7255\n",
      "Epoch 34/300\n",
      "5/5 [==============================] - 0s 38ms/step - loss: 7.2510 - dense_60_loss: 0.6669 - dense_64_loss: 0.5825 - dense_60_mean_absolute_error: 0.6669 - dense_60_pcc: 0.9431 - dense_64_mean_absolute_error: 0.5825 - dense_64_pcc: 0.7422 - val_loss: 7.9140 - val_dense_60_loss: 0.7248 - val_dense_64_loss: 0.6664 - val_dense_60_mean_absolute_error: 0.7248 - val_dense_60_pcc: 0.9580 - val_dense_64_mean_absolute_error: 0.6664 - val_dense_64_pcc: 0.7425\n",
      "Epoch 35/300\n",
      "5/5 [==============================] - 0s 27ms/step - loss: 7.2661 - dense_60_loss: 0.6694 - dense_64_loss: 0.5717 - dense_60_mean_absolute_error: 0.6694 - dense_60_pcc: 0.9357 - dense_64_mean_absolute_error: 0.5717 - dense_64_pcc: 0.7296 - val_loss: 7.9129 - val_dense_60_loss: 0.7242 - val_dense_64_loss: 0.6706 - val_dense_60_mean_absolute_error: 0.7242 - val_dense_60_pcc: 0.9582 - val_dense_64_mean_absolute_error: 0.6706 - val_dense_64_pcc: 0.7497\n"
     ]
    },
    {
     "name": "stdout",
     "output_type": "stream",
     "text": [
      "Epoch 36/300\n",
      "5/5 [==============================] - 0s 40ms/step - loss: 7.1157 - dense_60_loss: 0.6563 - dense_64_loss: 0.5527 - dense_60_mean_absolute_error: 0.6563 - dense_60_pcc: 0.9252 - dense_64_mean_absolute_error: 0.5527 - dense_64_pcc: 0.7135 - val_loss: 7.9093 - val_dense_60_loss: 0.7240 - val_dense_64_loss: 0.6691 - val_dense_60_mean_absolute_error: 0.7240 - val_dense_60_pcc: 0.9588 - val_dense_64_mean_absolute_error: 0.6691 - val_dense_64_pcc: 0.7404\n",
      "Epoch 37/300\n",
      "5/5 [==============================] - 0s 26ms/step - loss: 7.1529 - dense_60_loss: 0.6578 - dense_64_loss: 0.5748 - dense_60_mean_absolute_error: 0.6578 - dense_60_pcc: 0.9270 - dense_64_mean_absolute_error: 0.5748 - dense_64_pcc: 0.7018 - val_loss: 7.9073 - val_dense_60_loss: 0.7243 - val_dense_64_loss: 0.6644 - val_dense_60_mean_absolute_error: 0.7243 - val_dense_60_pcc: 0.9596 - val_dense_64_mean_absolute_error: 0.6644 - val_dense_64_pcc: 0.7227\n",
      "Epoch 38/300\n",
      "5/5 [==============================] - 0s 26ms/step - loss: 7.0836 - dense_60_loss: 0.6531 - dense_64_loss: 0.5522 - dense_60_mean_absolute_error: 0.6531 - dense_60_pcc: 0.9333 - dense_64_mean_absolute_error: 0.5522 - dense_64_pcc: 0.7415 - val_loss: 7.9051 - val_dense_60_loss: 0.7245 - val_dense_64_loss: 0.6604 - val_dense_60_mean_absolute_error: 0.7245 - val_dense_60_pcc: 0.9596 - val_dense_64_mean_absolute_error: 0.6604 - val_dense_64_pcc: 0.7170\n",
      "Epoch 39/300\n",
      "5/5 [==============================] - 0s 41ms/step - loss: 7.2912 - dense_60_loss: 0.6659 - dense_64_loss: 0.6324 - dense_60_mean_absolute_error: 0.6659 - dense_60_pcc: 0.9021 - dense_64_mean_absolute_error: 0.6324 - dense_64_pcc: 0.7056 - val_loss: 7.8862 - val_dense_60_loss: 0.7229 - val_dense_64_loss: 0.6572 - val_dense_60_mean_absolute_error: 0.7229 - val_dense_60_pcc: 0.9597 - val_dense_64_mean_absolute_error: 0.6572 - val_dense_64_pcc: 0.7126\n",
      "Epoch 40/300\n",
      "5/5 [==============================] - 0s 26ms/step - loss: 6.9890 - dense_60_loss: 0.6427 - dense_64_loss: 0.5624 - dense_60_mean_absolute_error: 0.6427 - dense_60_pcc: 0.9240 - dense_64_mean_absolute_error: 0.5624 - dense_64_pcc: 0.7142 - val_loss: 7.8795 - val_dense_60_loss: 0.7225 - val_dense_64_loss: 0.6540 - val_dense_60_mean_absolute_error: 0.7225 - val_dense_60_pcc: 0.9595 - val_dense_64_mean_absolute_error: 0.6540 - val_dense_64_pcc: 0.7066\n",
      "Epoch 41/300\n",
      "5/5 [==============================] - 0s 27ms/step - loss: 7.3645 - dense_60_loss: 0.6771 - dense_64_loss: 0.5935 - dense_60_mean_absolute_error: 0.6771 - dense_60_pcc: 0.9388 - dense_64_mean_absolute_error: 0.5935 - dense_64_pcc: 0.7395 - val_loss: 7.8667 - val_dense_60_loss: 0.7216 - val_dense_64_loss: 0.6507 - val_dense_60_mean_absolute_error: 0.7216 - val_dense_60_pcc: 0.9595 - val_dense_64_mean_absolute_error: 0.6507 - val_dense_64_pcc: 0.7009\n",
      "Epoch 42/300\n",
      "5/5 [==============================] - 0s 41ms/step - loss: 7.0790 - dense_60_loss: 0.6468 - dense_64_loss: 0.6115 - dense_60_mean_absolute_error: 0.6468 - dense_60_pcc: 0.9063 - dense_64_mean_absolute_error: 0.6115 - dense_64_pcc: 0.7064 - val_loss: 7.8489 - val_dense_60_loss: 0.7201 - val_dense_64_loss: 0.6479 - val_dense_60_mean_absolute_error: 0.7201 - val_dense_60_pcc: 0.9594 - val_dense_64_mean_absolute_error: 0.6479 - val_dense_64_pcc: 0.6963\n",
      "Epoch 43/300\n",
      "5/5 [==============================] - 0s 27ms/step - loss: 7.1602 - dense_60_loss: 0.6525 - dense_64_loss: 0.6353 - dense_60_mean_absolute_error: 0.6525 - dense_60_pcc: 0.9190 - dense_64_mean_absolute_error: 0.6353 - dense_64_pcc: 0.7340 - val_loss: 7.8358 - val_dense_60_loss: 0.7189 - val_dense_64_loss: 0.6467 - val_dense_60_mean_absolute_error: 0.7189 - val_dense_60_pcc: 0.9593 - val_dense_64_mean_absolute_error: 0.6467 - val_dense_64_pcc: 0.6943\n",
      "Epoch 44/300\n",
      "5/5 [==============================] - 0s 38ms/step - loss: 7.1810 - dense_60_loss: 0.6628 - dense_64_loss: 0.5534 - dense_60_mean_absolute_error: 0.6628 - dense_60_pcc: 0.9192 - dense_64_mean_absolute_error: 0.5534 - dense_64_pcc: 0.7156 - val_loss: 7.8299 - val_dense_60_loss: 0.7185 - val_dense_64_loss: 0.6451 - val_dense_60_mean_absolute_error: 0.7185 - val_dense_60_pcc: 0.9594 - val_dense_64_mean_absolute_error: 0.6451 - val_dense_64_pcc: 0.6910\n",
      "Epoch 45/300\n",
      "5/5 [==============================] - 0s 27ms/step - loss: 7.3441 - dense_60_loss: 0.6739 - dense_64_loss: 0.6055 - dense_60_mean_absolute_error: 0.6739 - dense_60_pcc: 0.9450 - dense_64_mean_absolute_error: 0.6055 - dense_64_pcc: 0.7381 - val_loss: 7.8209 - val_dense_60_loss: 0.7179 - val_dense_64_loss: 0.6417 - val_dense_60_mean_absolute_error: 0.7179 - val_dense_60_pcc: 0.9594 - val_dense_64_mean_absolute_error: 0.6417 - val_dense_64_pcc: 0.6829\n",
      "Epoch 46/300\n",
      "5/5 [==============================] - 0s 28ms/step - loss: 7.1085 - dense_60_loss: 0.6553 - dense_64_loss: 0.5559 - dense_60_mean_absolute_error: 0.6553 - dense_60_pcc: 0.9228 - dense_64_mean_absolute_error: 0.5559 - dense_64_pcc: 0.7264 - val_loss: 7.8141 - val_dense_60_loss: 0.7174 - val_dense_64_loss: 0.6397 - val_dense_60_mean_absolute_error: 0.7174 - val_dense_60_pcc: 0.9591 - val_dense_64_mean_absolute_error: 0.6397 - val_dense_64_pcc: 0.6788\n",
      "Epoch 47/300\n",
      "5/5 [==============================] - 0s 38ms/step - loss: 7.2303 - dense_60_loss: 0.6662 - dense_64_loss: 0.5683 - dense_60_mean_absolute_error: 0.6662 - dense_60_pcc: 0.9405 - dense_64_mean_absolute_error: 0.5683 - dense_64_pcc: 0.7249 - val_loss: 7.8078 - val_dense_60_loss: 0.7170 - val_dense_64_loss: 0.6375 - val_dense_60_mean_absolute_error: 0.7170 - val_dense_60_pcc: 0.9589 - val_dense_64_mean_absolute_error: 0.6375 - val_dense_64_pcc: 0.6727\n",
      "Epoch 48/300\n",
      "5/5 [==============================] - 0s 25ms/step - loss: 7.0395 - dense_60_loss: 0.6481 - dense_64_loss: 0.5587 - dense_60_mean_absolute_error: 0.6481 - dense_60_pcc: 0.9223 - dense_64_mean_absolute_error: 0.5587 - dense_64_pcc: 0.7178 - val_loss: 7.8014 - val_dense_60_loss: 0.7165 - val_dense_64_loss: 0.6367 - val_dense_60_mean_absolute_error: 0.7165 - val_dense_60_pcc: 0.9586 - val_dense_64_mean_absolute_error: 0.6367 - val_dense_64_pcc: 0.6707\n",
      "Epoch 49/300\n",
      "5/5 [==============================] - 0s 26ms/step - loss: 7.1511 - dense_60_loss: 0.6585 - dense_64_loss: 0.5662 - dense_60_mean_absolute_error: 0.6585 - dense_60_pcc: 0.9117 - dense_64_mean_absolute_error: 0.5662 - dense_64_pcc: 0.6673 - val_loss: 7.7934 - val_dense_60_loss: 0.7157 - val_dense_64_loss: 0.6359 - val_dense_60_mean_absolute_error: 0.7157 - val_dense_60_pcc: 0.9584 - val_dense_64_mean_absolute_error: 0.6359 - val_dense_64_pcc: 0.6690\n",
      "Epoch 50/300\n",
      "5/5 [==============================] - 0s 42ms/step - loss: 7.4447 - dense_60_loss: 0.6884 - dense_64_loss: 0.5604 - dense_60_mean_absolute_error: 0.6884 - dense_60_pcc: 0.9306 - dense_64_mean_absolute_error: 0.5604 - dense_64_pcc: 0.7264 - val_loss: 7.7842 - val_dense_60_loss: 0.7148 - val_dense_64_loss: 0.6358 - val_dense_60_mean_absolute_error: 0.7148 - val_dense_60_pcc: 0.9582 - val_dense_64_mean_absolute_error: 0.6358 - val_dense_64_pcc: 0.6681\n",
      "Epoch 51/300\n",
      "5/5 [==============================] - 0s 28ms/step - loss: 7.3829 - dense_60_loss: 0.6769 - dense_64_loss: 0.6141 - dense_60_mean_absolute_error: 0.6769 - dense_60_pcc: 0.9262 - dense_64_mean_absolute_error: 0.6141 - dense_64_pcc: 0.7132 - val_loss: 7.7792 - val_dense_60_loss: 0.7144 - val_dense_64_loss: 0.6357 - val_dense_60_mean_absolute_error: 0.7144 - val_dense_60_pcc: 0.9578 - val_dense_64_mean_absolute_error: 0.6357 - val_dense_64_pcc: 0.6675\n",
      "Epoch 52/300\n",
      "5/5 [==============================] - 0s 39ms/step - loss: 7.1685 - dense_60_loss: 0.6617 - dense_64_loss: 0.5513 - dense_60_mean_absolute_error: 0.6617 - dense_60_pcc: 0.9401 - dense_64_mean_absolute_error: 0.5513 - dense_64_pcc: 0.6898 - val_loss: 7.7737 - val_dense_60_loss: 0.7138 - val_dense_64_loss: 0.6353 - val_dense_60_mean_absolute_error: 0.7138 - val_dense_60_pcc: 0.9576 - val_dense_64_mean_absolute_error: 0.6353 - val_dense_64_pcc: 0.6660\n",
      "Epoch 53/300\n",
      "5/5 [==============================] - 0s 28ms/step - loss: 6.9461 - dense_60_loss: 0.6403 - dense_64_loss: 0.5428 - dense_60_mean_absolute_error: 0.6403 - dense_60_pcc: 0.9189 - dense_64_mean_absolute_error: 0.5428 - dense_64_pcc: 0.7200 - val_loss: 7.7671 - val_dense_60_loss: 0.7133 - val_dense_64_loss: 0.6344 - val_dense_60_mean_absolute_error: 0.7133 - val_dense_60_pcc: 0.9577 - val_dense_64_mean_absolute_error: 0.6344 - val_dense_64_pcc: 0.6628\n"
     ]
    },
    {
     "name": "stdout",
     "output_type": "stream",
     "text": [
      "Epoch 54/300\n",
      "5/5 [==============================] - 0s 27ms/step - loss: 6.9876 - dense_60_loss: 0.6458 - dense_64_loss: 0.5298 - dense_60_mean_absolute_error: 0.6458 - dense_60_pcc: 0.9244 - dense_64_mean_absolute_error: 0.5298 - dense_64_pcc: 0.7030 - val_loss: 7.7652 - val_dense_60_loss: 0.7132 - val_dense_64_loss: 0.6333 - val_dense_60_mean_absolute_error: 0.7132 - val_dense_60_pcc: 0.9578 - val_dense_64_mean_absolute_error: 0.6333 - val_dense_64_pcc: 0.6587\n",
      "Epoch 55/300\n",
      "5/5 [==============================] - 0s 38ms/step - loss: 7.7740 - dense_60_loss: 0.7160 - dense_64_loss: 0.6137 - dense_60_mean_absolute_error: 0.7160 - dense_60_pcc: 0.9381 - dense_64_mean_absolute_error: 0.6137 - dense_64_pcc: 0.7122 - val_loss: 7.7594 - val_dense_60_loss: 0.7126 - val_dense_64_loss: 0.6334 - val_dense_60_mean_absolute_error: 0.7126 - val_dense_60_pcc: 0.9580 - val_dense_64_mean_absolute_error: 0.6334 - val_dense_64_pcc: 0.6572\n",
      "Epoch 56/300\n",
      "5/5 [==============================] - 0s 26ms/step - loss: 7.3186 - dense_60_loss: 0.6711 - dense_64_loss: 0.6072 - dense_60_mean_absolute_error: 0.6711 - dense_60_pcc: 0.9296 - dense_64_mean_absolute_error: 0.6072 - dense_64_pcc: 0.7297 - val_loss: 7.7557 - val_dense_60_loss: 0.7124 - val_dense_64_loss: 0.6320 - val_dense_60_mean_absolute_error: 0.7124 - val_dense_60_pcc: 0.9583 - val_dense_64_mean_absolute_error: 0.6320 - val_dense_64_pcc: 0.6507\n",
      "Epoch 57/300\n",
      "5/5 [==============================] - 0s 28ms/step - loss: 7.2608 - dense_60_loss: 0.6709 - dense_64_loss: 0.5518 - dense_60_mean_absolute_error: 0.6709 - dense_60_pcc: 0.9506 - dense_64_mean_absolute_error: 0.5518 - dense_64_pcc: 0.7856 - val_loss: 7.7555 - val_dense_60_loss: 0.7124 - val_dense_64_loss: 0.6310 - val_dense_60_mean_absolute_error: 0.7124 - val_dense_60_pcc: 0.9586 - val_dense_64_mean_absolute_error: 0.6310 - val_dense_64_pcc: 0.6472\n",
      "Epoch 58/300\n",
      "5/5 [==============================] - 0s 40ms/step - loss: 7.1103 - dense_60_loss: 0.6560 - dense_64_loss: 0.5508 - dense_60_mean_absolute_error: 0.6560 - dense_60_pcc: 0.9185 - dense_64_mean_absolute_error: 0.5508 - dense_64_pcc: 0.7101 - val_loss: 7.7490 - val_dense_60_loss: 0.7119 - val_dense_64_loss: 0.6296 - val_dense_60_mean_absolute_error: 0.7119 - val_dense_60_pcc: 0.9585 - val_dense_64_mean_absolute_error: 0.6296 - val_dense_64_pcc: 0.6425\n",
      "Epoch 59/300\n",
      "5/5 [==============================] - 0s 26ms/step - loss: 7.2272 - dense_60_loss: 0.6665 - dense_64_loss: 0.5620 - dense_60_mean_absolute_error: 0.6665 - dense_60_pcc: 0.9225 - dense_64_mean_absolute_error: 0.5620 - dense_64_pcc: 0.7010 - val_loss: 7.7467 - val_dense_60_loss: 0.7117 - val_dense_64_loss: 0.6300 - val_dense_60_mean_absolute_error: 0.7117 - val_dense_60_pcc: 0.9585 - val_dense_64_mean_absolute_error: 0.6300 - val_dense_64_pcc: 0.6418\n",
      "Epoch 60/300\n",
      "5/5 [==============================] - 0s 27ms/step - loss: 7.3710 - dense_60_loss: 0.6807 - dense_64_loss: 0.5636 - dense_60_mean_absolute_error: 0.6807 - dense_60_pcc: 0.9363 - dense_64_mean_absolute_error: 0.5636 - dense_64_pcc: 0.7073 - val_loss: 7.7428 - val_dense_60_loss: 0.7113 - val_dense_64_loss: 0.6298 - val_dense_60_mean_absolute_error: 0.7113 - val_dense_60_pcc: 0.9585 - val_dense_64_mean_absolute_error: 0.6298 - val_dense_64_pcc: 0.6391\n",
      "Epoch 61/300\n",
      "5/5 [==============================] - 0s 40ms/step - loss: 6.9848 - dense_60_loss: 0.6398 - dense_64_loss: 0.5865 - dense_60_mean_absolute_error: 0.6398 - dense_60_pcc: 0.9207 - dense_64_mean_absolute_error: 0.5865 - dense_64_pcc: 0.7133 - val_loss: 7.7434 - val_dense_60_loss: 0.7113 - val_dense_64_loss: 0.6301 - val_dense_60_mean_absolute_error: 0.7113 - val_dense_60_pcc: 0.9583 - val_dense_64_mean_absolute_error: 0.6301 - val_dense_64_pcc: 0.6403\n",
      "Epoch 62/300\n",
      "5/5 [==============================] - 0s 27ms/step - loss: 7.1125 - dense_60_loss: 0.6531 - dense_64_loss: 0.5813 - dense_60_mean_absolute_error: 0.6531 - dense_60_pcc: 0.9186 - dense_64_mean_absolute_error: 0.5813 - dense_64_pcc: 0.7054 - val_loss: 7.7422 - val_dense_60_loss: 0.7112 - val_dense_64_loss: 0.6305 - val_dense_60_mean_absolute_error: 0.7112 - val_dense_60_pcc: 0.9579 - val_dense_64_mean_absolute_error: 0.6305 - val_dense_64_pcc: 0.6398\n",
      "Epoch 63/300\n",
      "5/5 [==============================] - 0s 39ms/step - loss: 7.1845 - dense_60_loss: 0.6618 - dense_64_loss: 0.5665 - dense_60_mean_absolute_error: 0.6618 - dense_60_pcc: 0.9232 - dense_64_mean_absolute_error: 0.5665 - dense_64_pcc: 0.7296 - val_loss: 7.7474 - val_dense_60_loss: 0.7116 - val_dense_64_loss: 0.6318 - val_dense_60_mean_absolute_error: 0.7116 - val_dense_60_pcc: 0.9580 - val_dense_64_mean_absolute_error: 0.6318 - val_dense_64_pcc: 0.6413\n",
      "Epoch 64/300\n",
      "5/5 [==============================] - 0s 25ms/step - loss: 7.1908 - dense_60_loss: 0.6592 - dense_64_loss: 0.5993 - dense_60_mean_absolute_error: 0.6592 - dense_60_pcc: 0.9012 - dense_64_mean_absolute_error: 0.5993 - dense_64_pcc: 0.6761 - val_loss: 7.7471 - val_dense_60_loss: 0.7114 - val_dense_64_loss: 0.6328 - val_dense_60_mean_absolute_error: 0.7114 - val_dense_60_pcc: 0.9576 - val_dense_64_mean_absolute_error: 0.6328 - val_dense_64_pcc: 0.6422\n",
      "Epoch 65/300\n",
      "5/5 [==============================] - 0s 28ms/step - loss: 7.0869 - dense_60_loss: 0.6535 - dense_64_loss: 0.5519 - dense_60_mean_absolute_error: 0.6535 - dense_60_pcc: 0.9128 - dense_64_mean_absolute_error: 0.5519 - dense_64_pcc: 0.6654 - val_loss: 7.7488 - val_dense_60_loss: 0.7116 - val_dense_64_loss: 0.6331 - val_dense_60_mean_absolute_error: 0.7116 - val_dense_60_pcc: 0.9570 - val_dense_64_mean_absolute_error: 0.6331 - val_dense_64_pcc: 0.6438\n",
      "Epoch 66/300\n",
      "5/5 [==============================] - 0s 40ms/step - loss: 7.3264 - dense_60_loss: 0.6735 - dense_64_loss: 0.5918 - dense_60_mean_absolute_error: 0.6735 - dense_60_pcc: 0.9304 - dense_64_mean_absolute_error: 0.5918 - dense_64_pcc: 0.6828 - val_loss: 7.7492 - val_dense_60_loss: 0.7116 - val_dense_64_loss: 0.6329 - val_dense_60_mean_absolute_error: 0.7116 - val_dense_60_pcc: 0.9567 - val_dense_64_mean_absolute_error: 0.6329 - val_dense_64_pcc: 0.6447\n",
      "Epoch 67/300\n",
      "5/5 [==============================] - 0s 24ms/step - loss: 6.9166 - dense_60_loss: 0.6371 - dense_64_loss: 0.5458 - dense_60_mean_absolute_error: 0.6371 - dense_60_pcc: 0.9034 - dense_64_mean_absolute_error: 0.5458 - dense_64_pcc: 0.6885 - val_loss: 7.7491 - val_dense_60_loss: 0.7116 - val_dense_64_loss: 0.6327 - val_dense_60_mean_absolute_error: 0.7116 - val_dense_60_pcc: 0.9563 - val_dense_64_mean_absolute_error: 0.6327 - val_dense_64_pcc: 0.6450\n",
      "Epoch 68/300\n",
      "5/5 [==============================] - 0s 27ms/step - loss: 6.9900 - dense_60_loss: 0.6406 - dense_64_loss: 0.5838 - dense_60_mean_absolute_error: 0.6406 - dense_60_pcc: 0.9348 - dense_64_mean_absolute_error: 0.5838 - dense_64_pcc: 0.7506 - val_loss: 7.7499 - val_dense_60_loss: 0.7118 - val_dense_64_loss: 0.6323 - val_dense_60_mean_absolute_error: 0.7118 - val_dense_60_pcc: 0.9559 - val_dense_64_mean_absolute_error: 0.6323 - val_dense_64_pcc: 0.6441\n",
      "Epoch 69/300\n",
      "5/5 [==============================] - 0s 41ms/step - loss: 7.1310 - dense_60_loss: 0.6572 - dense_64_loss: 0.5593 - dense_60_mean_absolute_error: 0.6572 - dense_60_pcc: 0.9196 - dense_64_mean_absolute_error: 0.5593 - dense_64_pcc: 0.7097 - val_loss: 7.7489 - val_dense_60_loss: 0.7117 - val_dense_64_loss: 0.6323 - val_dense_60_mean_absolute_error: 0.7117 - val_dense_60_pcc: 0.9560 - val_dense_64_mean_absolute_error: 0.6323 - val_dense_64_pcc: 0.6426\n",
      "Epoch 70/300\n",
      "5/5 [==============================] - 0s 26ms/step - loss: 7.1490 - dense_60_loss: 0.6573 - dense_64_loss: 0.5759 - dense_60_mean_absolute_error: 0.6573 - dense_60_pcc: 0.9065 - dense_64_mean_absolute_error: 0.5759 - dense_64_pcc: 0.7084 - val_loss: 7.7486 - val_dense_60_loss: 0.7117 - val_dense_64_loss: 0.6315 - val_dense_60_mean_absolute_error: 0.7117 - val_dense_60_pcc: 0.9559 - val_dense_64_mean_absolute_error: 0.6315 - val_dense_64_pcc: 0.6403\n",
      "Epoch 71/300\n",
      "5/5 [==============================] - 0s 41ms/step - loss: 7.0355 - dense_60_loss: 0.6465 - dense_64_loss: 0.5706 - dense_60_mean_absolute_error: 0.6465 - dense_60_pcc: 0.9147 - dense_64_mean_absolute_error: 0.5706 - dense_64_pcc: 0.7313 - val_loss: 7.7483 - val_dense_60_loss: 0.7117 - val_dense_64_loss: 0.6314 - val_dense_60_mean_absolute_error: 0.7117 - val_dense_60_pcc: 0.9558 - val_dense_64_mean_absolute_error: 0.6314 - val_dense_64_pcc: 0.6385\n"
     ]
    },
    {
     "name": "stdout",
     "output_type": "stream",
     "text": [
      "Epoch 72/300\n",
      "5/5 [==============================] - 0s 26ms/step - loss: 6.9559 - dense_60_loss: 0.6409 - dense_64_loss: 0.5471 - dense_60_mean_absolute_error: 0.6409 - dense_60_pcc: 0.9111 - dense_64_mean_absolute_error: 0.5471 - dense_64_pcc: 0.6551 - val_loss: 7.7483 - val_dense_60_loss: 0.7118 - val_dense_64_loss: 0.6307 - val_dense_60_mean_absolute_error: 0.7118 - val_dense_60_pcc: 0.9557 - val_dense_64_mean_absolute_error: 0.6307 - val_dense_64_pcc: 0.6359\n",
      "Epoch 73/300\n",
      "5/5 [==============================] - 0s 27ms/step - loss: 7.1460 - dense_60_loss: 0.6616 - dense_64_loss: 0.5299 - dense_60_mean_absolute_error: 0.6616 - dense_60_pcc: 0.9251 - dense_64_mean_absolute_error: 0.5299 - dense_64_pcc: 0.7035 - val_loss: 7.7489 - val_dense_60_loss: 0.7119 - val_dense_64_loss: 0.6303 - val_dense_60_mean_absolute_error: 0.7119 - val_dense_60_pcc: 0.9557 - val_dense_64_mean_absolute_error: 0.6303 - val_dense_64_pcc: 0.6343\n",
      "Epoch 74/300\n",
      "5/5 [==============================] - 0s 41ms/step - loss: 7.5028 - dense_60_loss: 0.6847 - dense_64_loss: 0.6559 - dense_60_mean_absolute_error: 0.6847 - dense_60_pcc: 0.9064 - dense_64_mean_absolute_error: 0.6559 - dense_64_pcc: 0.7117 - val_loss: 7.7398 - val_dense_60_loss: 0.7109 - val_dense_64_loss: 0.6304 - val_dense_60_mean_absolute_error: 0.7109 - val_dense_60_pcc: 0.9558 - val_dense_64_mean_absolute_error: 0.6304 - val_dense_64_pcc: 0.6335\n",
      "Epoch 75/300\n",
      "5/5 [==============================] - 0s 26ms/step - loss: 7.1617 - dense_60_loss: 0.6580 - dense_64_loss: 0.5820 - dense_60_mean_absolute_error: 0.6580 - dense_60_pcc: 0.9172 - dense_64_mean_absolute_error: 0.5820 - dense_64_pcc: 0.6823 - val_loss: 7.7387 - val_dense_60_loss: 0.7109 - val_dense_64_loss: 0.6300 - val_dense_60_mean_absolute_error: 0.7109 - val_dense_60_pcc: 0.9556 - val_dense_64_mean_absolute_error: 0.6300 - val_dense_64_pcc: 0.6309\n",
      "Epoch 76/300\n",
      "5/5 [==============================] - 0s 40ms/step - loss: 7.1525 - dense_60_loss: 0.6570 - dense_64_loss: 0.5825 - dense_60_mean_absolute_error: 0.6570 - dense_60_pcc: 0.9041 - dense_64_mean_absolute_error: 0.5825 - dense_64_pcc: 0.6911 - val_loss: 7.7381 - val_dense_60_loss: 0.7109 - val_dense_64_loss: 0.6294 - val_dense_60_mean_absolute_error: 0.7109 - val_dense_60_pcc: 0.9553 - val_dense_64_mean_absolute_error: 0.6294 - val_dense_64_pcc: 0.6288\n",
      "Epoch 77/300\n",
      "5/5 [==============================] - 0s 29ms/step - loss: 7.1367 - dense_60_loss: 0.6601 - dense_64_loss: 0.5356 - dense_60_mean_absolute_error: 0.6601 - dense_60_pcc: 0.9171 - dense_64_mean_absolute_error: 0.5356 - dense_64_pcc: 0.6748 - val_loss: 7.7388 - val_dense_60_loss: 0.7110 - val_dense_64_loss: 0.6289 - val_dense_60_mean_absolute_error: 0.7110 - val_dense_60_pcc: 0.9551 - val_dense_64_mean_absolute_error: 0.6289 - val_dense_64_pcc: 0.6273\n",
      "Epoch 78/300\n",
      "5/5 [==============================] - 0s 25ms/step - loss: 7.4574 - dense_60_loss: 0.6879 - dense_64_loss: 0.5785 - dense_60_mean_absolute_error: 0.6879 - dense_60_pcc: 0.9185 - dense_64_mean_absolute_error: 0.5785 - dense_64_pcc: 0.6741 - val_loss: 7.7347 - val_dense_60_loss: 0.7106 - val_dense_64_loss: 0.6284 - val_dense_60_mean_absolute_error: 0.7106 - val_dense_60_pcc: 0.9550 - val_dense_64_mean_absolute_error: 0.6284 - val_dense_64_pcc: 0.6246\n",
      "Epoch 79/300\n",
      "5/5 [==============================] - 0s 41ms/step - loss: 7.0994 - dense_60_loss: 0.6507 - dense_64_loss: 0.5922 - dense_60_mean_absolute_error: 0.6507 - dense_60_pcc: 0.9154 - dense_64_mean_absolute_error: 0.5922 - dense_64_pcc: 0.7260 - val_loss: 7.7274 - val_dense_60_loss: 0.7099 - val_dense_64_loss: 0.6283 - val_dense_60_mean_absolute_error: 0.7099 - val_dense_60_pcc: 0.9549 - val_dense_64_mean_absolute_error: 0.6283 - val_dense_64_pcc: 0.6244\n",
      "Epoch 80/300\n",
      "5/5 [==============================] - 0s 27ms/step - loss: 6.9465 - dense_60_loss: 0.6358 - dense_64_loss: 0.5884 - dense_60_mean_absolute_error: 0.6358 - dense_60_pcc: 0.8936 - dense_64_mean_absolute_error: 0.5884 - dense_64_pcc: 0.7082 - val_loss: 7.7232 - val_dense_60_loss: 0.7094 - val_dense_64_loss: 0.6288 - val_dense_60_mean_absolute_error: 0.7094 - val_dense_60_pcc: 0.9548 - val_dense_64_mean_absolute_error: 0.6288 - val_dense_64_pcc: 0.6245\n",
      "Epoch 81/300\n",
      "5/5 [==============================] - 0s 29ms/step - loss: 6.9958 - dense_60_loss: 0.6389 - dense_64_loss: 0.6068 - dense_60_mean_absolute_error: 0.6389 - dense_60_pcc: 0.8986 - dense_64_mean_absolute_error: 0.6068 - dense_64_pcc: 0.7245 - val_loss: 7.7177 - val_dense_60_loss: 0.7088 - val_dense_64_loss: 0.6296 - val_dense_60_mean_absolute_error: 0.7088 - val_dense_60_pcc: 0.9551 - val_dense_64_mean_absolute_error: 0.6296 - val_dense_64_pcc: 0.6266\n",
      "Epoch 82/300\n",
      "5/5 [==============================] - 0s 37ms/step - loss: 6.9456 - dense_60_loss: 0.6385 - dense_64_loss: 0.5602 - dense_60_mean_absolute_error: 0.6385 - dense_60_pcc: 0.9000 - dense_64_mean_absolute_error: 0.5602 - dense_64_pcc: 0.6583 - val_loss: 7.7170 - val_dense_60_loss: 0.7088 - val_dense_64_loss: 0.6294 - val_dense_60_mean_absolute_error: 0.7088 - val_dense_60_pcc: 0.9549 - val_dense_64_mean_absolute_error: 0.6294 - val_dense_64_pcc: 0.6279\n",
      "Epoch 83/300\n",
      "5/5 [==============================] - 0s 28ms/step - loss: 7.0335 - dense_60_loss: 0.6469 - dense_64_loss: 0.5643 - dense_60_mean_absolute_error: 0.6469 - dense_60_pcc: 0.8948 - dense_64_mean_absolute_error: 0.5643 - dense_64_pcc: 0.6983 - val_loss: 7.7183 - val_dense_60_loss: 0.7089 - val_dense_64_loss: 0.6292 - val_dense_60_mean_absolute_error: 0.7089 - val_dense_60_pcc: 0.9548 - val_dense_64_mean_absolute_error: 0.6292 - val_dense_64_pcc: 0.6279\n",
      "Epoch 84/300\n",
      "5/5 [==============================] - 0s 40ms/step - loss: 7.1485 - dense_60_loss: 0.6585 - dense_64_loss: 0.5631 - dense_60_mean_absolute_error: 0.6585 - dense_60_pcc: 0.9150 - dense_64_mean_absolute_error: 0.5631 - dense_64_pcc: 0.6931 - val_loss: 7.7183 - val_dense_60_loss: 0.7090 - val_dense_64_loss: 0.6287 - val_dense_60_mean_absolute_error: 0.7090 - val_dense_60_pcc: 0.9547 - val_dense_64_mean_absolute_error: 0.6287 - val_dense_64_pcc: 0.6271\n",
      "Epoch 85/300\n",
      "5/5 [==============================] - 0s 27ms/step - loss: 6.9850 - dense_60_loss: 0.6424 - dense_64_loss: 0.5614 - dense_60_mean_absolute_error: 0.6424 - dense_60_pcc: 0.9025 - dense_64_mean_absolute_error: 0.5614 - dense_64_pcc: 0.6630 - val_loss: 7.7143 - val_dense_60_loss: 0.7087 - val_dense_64_loss: 0.6275 - val_dense_60_mean_absolute_error: 0.7087 - val_dense_60_pcc: 0.9548 - val_dense_64_mean_absolute_error: 0.6275 - val_dense_64_pcc: 0.6250\n",
      "Epoch 86/300\n",
      "5/5 [==============================] - 0s 27ms/step - loss: 7.0386 - dense_60_loss: 0.6435 - dense_64_loss: 0.6032 - dense_60_mean_absolute_error: 0.6435 - dense_60_pcc: 0.9162 - dense_64_mean_absolute_error: 0.6032 - dense_64_pcc: 0.7216 - val_loss: 7.7065 - val_dense_60_loss: 0.7080 - val_dense_64_loss: 0.6270 - val_dense_60_mean_absolute_error: 0.7080 - val_dense_60_pcc: 0.9549 - val_dense_64_mean_absolute_error: 0.6270 - val_dense_64_pcc: 0.6232\n",
      "Epoch 87/300\n",
      "5/5 [==============================] - 0s 38ms/step - loss: 7.0295 - dense_60_loss: 0.6436 - dense_64_loss: 0.5936 - dense_60_mean_absolute_error: 0.6436 - dense_60_pcc: 0.9096 - dense_64_mean_absolute_error: 0.5936 - dense_64_pcc: 0.7018 - val_loss: 7.7044 - val_dense_60_loss: 0.7078 - val_dense_64_loss: 0.6263 - val_dense_60_mean_absolute_error: 0.7078 - val_dense_60_pcc: 0.9547 - val_dense_64_mean_absolute_error: 0.6263 - val_dense_64_pcc: 0.6217\n",
      "Epoch 88/300\n",
      "5/5 [==============================] - 0s 27ms/step - loss: 6.9887 - dense_60_loss: 0.6431 - dense_64_loss: 0.5581 - dense_60_mean_absolute_error: 0.6431 - dense_60_pcc: 0.9085 - dense_64_mean_absolute_error: 0.5581 - dense_64_pcc: 0.7009 - val_loss: 7.7058 - val_dense_60_loss: 0.7081 - val_dense_64_loss: 0.6250 - val_dense_60_mean_absolute_error: 0.7081 - val_dense_60_pcc: 0.9545 - val_dense_64_mean_absolute_error: 0.6250 - val_dense_64_pcc: 0.6176\n",
      "Epoch 89/300\n",
      "5/5 [==============================] - 0s 27ms/step - loss: 7.0750 - dense_60_loss: 0.6541 - dense_64_loss: 0.5342 - dense_60_mean_absolute_error: 0.6541 - dense_60_pcc: 0.9291 - dense_64_mean_absolute_error: 0.5342 - dense_64_pcc: 0.7032 - val_loss: 7.7029 - val_dense_60_loss: 0.7079 - val_dense_64_loss: 0.6243 - val_dense_60_mean_absolute_error: 0.7079 - val_dense_60_pcc: 0.9543 - val_dense_64_mean_absolute_error: 0.6243 - val_dense_64_pcc: 0.6132\n"
     ]
    },
    {
     "name": "stdout",
     "output_type": "stream",
     "text": [
      "Epoch 90/300\n",
      "5/5 [==============================] - 0s 41ms/step - loss: 7.1579 - dense_60_loss: 0.6563 - dense_64_loss: 0.5952 - dense_60_mean_absolute_error: 0.6563 - dense_60_pcc: 0.9037 - dense_64_mean_absolute_error: 0.5952 - dense_64_pcc: 0.6872 - val_loss: 7.6980 - val_dense_60_loss: 0.7075 - val_dense_64_loss: 0.6234 - val_dense_60_mean_absolute_error: 0.7075 - val_dense_60_pcc: 0.9542 - val_dense_64_mean_absolute_error: 0.6234 - val_dense_64_pcc: 0.6100\n",
      "Epoch 91/300\n",
      "5/5 [==============================] - 0s 27ms/step - loss: 6.8843 - dense_60_loss: 0.6370 - dense_64_loss: 0.5144 - dense_60_mean_absolute_error: 0.6370 - dense_60_pcc: 0.9040 - dense_64_mean_absolute_error: 0.5144 - dense_64_pcc: 0.6838 - val_loss: 7.7019 - val_dense_60_loss: 0.7079 - val_dense_64_loss: 0.6229 - val_dense_60_mean_absolute_error: 0.7079 - val_dense_60_pcc: 0.9540 - val_dense_64_mean_absolute_error: 0.6229 - val_dense_64_pcc: 0.6085\n",
      "Epoch 92/300\n",
      "5/5 [==============================] - 0s 41ms/step - loss: 7.0328 - dense_60_loss: 0.6462 - dense_64_loss: 0.5704 - dense_60_mean_absolute_error: 0.6462 - dense_60_pcc: 0.9149 - dense_64_mean_absolute_error: 0.5704 - dense_64_pcc: 0.6880 - val_loss: 7.6974 - val_dense_60_loss: 0.7076 - val_dense_64_loss: 0.6217 - val_dense_60_mean_absolute_error: 0.7076 - val_dense_60_pcc: 0.9539 - val_dense_64_mean_absolute_error: 0.6217 - val_dense_64_pcc: 0.6071\n",
      "Epoch 93/300\n",
      "5/5 [==============================] - 0s 26ms/step - loss: 7.1549 - dense_60_loss: 0.6579 - dense_64_loss: 0.5761 - dense_60_mean_absolute_error: 0.6579 - dense_60_pcc: 0.8955 - dense_64_mean_absolute_error: 0.5761 - dense_64_pcc: 0.6791 - val_loss: 7.6930 - val_dense_60_loss: 0.7073 - val_dense_64_loss: 0.6205 - val_dense_60_mean_absolute_error: 0.7073 - val_dense_60_pcc: 0.9539 - val_dense_64_mean_absolute_error: 0.6205 - val_dense_64_pcc: 0.6066\n",
      "Epoch 94/300\n",
      "5/5 [==============================] - 0s 25ms/step - loss: 6.9244 - dense_60_loss: 0.6397 - dense_64_loss: 0.5276 - dense_60_mean_absolute_error: 0.6397 - dense_60_pcc: 0.9061 - dense_64_mean_absolute_error: 0.5276 - dense_64_pcc: 0.6551 - val_loss: 7.6940 - val_dense_60_loss: 0.7074 - val_dense_64_loss: 0.6200 - val_dense_60_mean_absolute_error: 0.7074 - val_dense_60_pcc: 0.9537 - val_dense_64_mean_absolute_error: 0.6200 - val_dense_64_pcc: 0.6083\n",
      "Epoch 95/300\n",
      "5/5 [==============================] - 0s 40ms/step - loss: 6.8867 - dense_60_loss: 0.6310 - dense_64_loss: 0.5765 - dense_60_mean_absolute_error: 0.6310 - dense_60_pcc: 0.8865 - dense_64_mean_absolute_error: 0.5765 - dense_64_pcc: 0.6902 - val_loss: 7.6895 - val_dense_60_loss: 0.7069 - val_dense_64_loss: 0.6203 - val_dense_60_mean_absolute_error: 0.7069 - val_dense_60_pcc: 0.9536 - val_dense_64_mean_absolute_error: 0.6203 - val_dense_64_pcc: 0.6098\n",
      "Epoch 96/300\n",
      "5/5 [==============================] - 0s 27ms/step - loss: 7.0925 - dense_60_loss: 0.6510 - dense_64_loss: 0.5823 - dense_60_mean_absolute_error: 0.6510 - dense_60_pcc: 0.9278 - dense_64_mean_absolute_error: 0.5823 - dense_64_pcc: 0.7019 - val_loss: 7.6861 - val_dense_60_loss: 0.7066 - val_dense_64_loss: 0.6199 - val_dense_60_mean_absolute_error: 0.7066 - val_dense_60_pcc: 0.9537 - val_dense_64_mean_absolute_error: 0.6199 - val_dense_64_pcc: 0.6080\n",
      "Epoch 97/300\n",
      "5/5 [==============================] - 0s 25ms/step - loss: 7.3335 - dense_60_loss: 0.6685 - dense_64_loss: 0.6485 - dense_60_mean_absolute_error: 0.6685 - dense_60_pcc: 0.8886 - dense_64_mean_absolute_error: 0.6485 - dense_64_pcc: 0.6837 - val_loss: 7.6823 - val_dense_60_loss: 0.7063 - val_dense_64_loss: 0.6195 - val_dense_60_mean_absolute_error: 0.7063 - val_dense_60_pcc: 0.9533 - val_dense_64_mean_absolute_error: 0.6195 - val_dense_64_pcc: 0.6068\n",
      "Epoch 98/300\n",
      "5/5 [==============================] - 0s 40ms/step - loss: 7.0053 - dense_60_loss: 0.6425 - dense_64_loss: 0.5799 - dense_60_mean_absolute_error: 0.6425 - dense_60_pcc: 0.9242 - dense_64_mean_absolute_error: 0.5799 - dense_64_pcc: 0.6930 - val_loss: 7.6846 - val_dense_60_loss: 0.7065 - val_dense_64_loss: 0.6198 - val_dense_60_mean_absolute_error: 0.7065 - val_dense_60_pcc: 0.9531 - val_dense_64_mean_absolute_error: 0.6198 - val_dense_64_pcc: 0.6047\n",
      "Epoch 99/300\n",
      "5/5 [==============================] - 0s 26ms/step - loss: 7.1562 - dense_60_loss: 0.6571 - dense_64_loss: 0.5855 - dense_60_mean_absolute_error: 0.6571 - dense_60_pcc: 0.8882 - dense_64_mean_absolute_error: 0.5855 - dense_64_pcc: 0.6774 - val_loss: 7.6786 - val_dense_60_loss: 0.7059 - val_dense_64_loss: 0.6198 - val_dense_60_mean_absolute_error: 0.7059 - val_dense_60_pcc: 0.9533 - val_dense_64_mean_absolute_error: 0.6198 - val_dense_64_pcc: 0.6026\n",
      "Epoch 100/300\n",
      "5/5 [==============================] - 0s 41ms/step - loss: 6.9075 - dense_60_loss: 0.6310 - dense_64_loss: 0.5974 - dense_60_mean_absolute_error: 0.6310 - dense_60_pcc: 0.8965 - dense_64_mean_absolute_error: 0.5974 - dense_64_pcc: 0.7453 - val_loss: 7.6790 - val_dense_60_loss: 0.7060 - val_dense_64_loss: 0.6191 - val_dense_60_mean_absolute_error: 0.7060 - val_dense_60_pcc: 0.9534 - val_dense_64_mean_absolute_error: 0.6191 - val_dense_64_pcc: 0.5997\n",
      "Epoch 101/300\n",
      "5/5 [==============================] - 0s 26ms/step - loss: 7.0320 - dense_60_loss: 0.6434 - dense_64_loss: 0.5976 - dense_60_mean_absolute_error: 0.6434 - dense_60_pcc: 0.9085 - dense_64_mean_absolute_error: 0.5976 - dense_64_pcc: 0.7023 - val_loss: 7.6758 - val_dense_60_loss: 0.7058 - val_dense_64_loss: 0.6177 - val_dense_60_mean_absolute_error: 0.7058 - val_dense_60_pcc: 0.9535 - val_dense_64_mean_absolute_error: 0.6177 - val_dense_64_pcc: 0.5951\n",
      "Epoch 102/300\n",
      "5/5 [==============================] - 0s 26ms/step - loss: 6.9628 - dense_60_loss: 0.6422 - dense_64_loss: 0.5410 - dense_60_mean_absolute_error: 0.6422 - dense_60_pcc: 0.9048 - dense_64_mean_absolute_error: 0.5410 - dense_64_pcc: 0.6665 - val_loss: 7.6733 - val_dense_60_loss: 0.7057 - val_dense_64_loss: 0.6165 - val_dense_60_mean_absolute_error: 0.7057 - val_dense_60_pcc: 0.9530 - val_dense_64_mean_absolute_error: 0.6165 - val_dense_64_pcc: 0.5922\n",
      "Epoch 103/300\n",
      "5/5 [==============================] - 0s 42ms/step - loss: 7.0873 - dense_60_loss: 0.6524 - dense_64_loss: 0.5630 - dense_60_mean_absolute_error: 0.6524 - dense_60_pcc: 0.9110 - dense_64_mean_absolute_error: 0.5630 - dense_64_pcc: 0.6950 - val_loss: 7.6724 - val_dense_60_loss: 0.7056 - val_dense_64_loss: 0.6165 - val_dense_60_mean_absolute_error: 0.7056 - val_dense_60_pcc: 0.9528 - val_dense_64_mean_absolute_error: 0.6165 - val_dense_64_pcc: 0.5933\n",
      "Epoch 104/300\n",
      "5/5 [==============================] - 0s 26ms/step - loss: 6.9451 - dense_60_loss: 0.6387 - dense_64_loss: 0.5577 - dense_60_mean_absolute_error: 0.6387 - dense_60_pcc: 0.8852 - dense_64_mean_absolute_error: 0.5577 - dense_64_pcc: 0.6565 - val_loss: 7.6721 - val_dense_60_loss: 0.7056 - val_dense_64_loss: 0.6166 - val_dense_60_mean_absolute_error: 0.7056 - val_dense_60_pcc: 0.9529 - val_dense_64_mean_absolute_error: 0.6166 - val_dense_64_pcc: 0.5941\n",
      "Epoch 105/300\n",
      "5/5 [==============================] - 0s 28ms/step - loss: 6.9425 - dense_60_loss: 0.6419 - dense_64_loss: 0.5230 - dense_60_mean_absolute_error: 0.6419 - dense_60_pcc: 0.9120 - dense_64_mean_absolute_error: 0.5230 - dense_64_pcc: 0.6890 - val_loss: 7.6746 - val_dense_60_loss: 0.7059 - val_dense_64_loss: 0.6160 - val_dense_60_mean_absolute_error: 0.7059 - val_dense_60_pcc: 0.9528 - val_dense_64_mean_absolute_error: 0.6160 - val_dense_64_pcc: 0.5950\n",
      "Epoch 106/300\n",
      "5/5 [==============================] - 0s 37ms/step - loss: 7.0327 - dense_60_loss: 0.6454 - dense_64_loss: 0.5789 - dense_60_mean_absolute_error: 0.6454 - dense_60_pcc: 0.9004 - dense_64_mean_absolute_error: 0.5789 - dense_64_pcc: 0.6915 - val_loss: 7.6693 - val_dense_60_loss: 0.7055 - val_dense_64_loss: 0.6146 - val_dense_60_mean_absolute_error: 0.7055 - val_dense_60_pcc: 0.9532 - val_dense_64_mean_absolute_error: 0.6146 - val_dense_64_pcc: 0.5894\n",
      "Epoch 107/300\n",
      "5/5 [==============================] - 0s 26ms/step - loss: 6.9805 - dense_60_loss: 0.6462 - dense_64_loss: 0.5183 - dense_60_mean_absolute_error: 0.6462 - dense_60_pcc: 0.9212 - dense_64_mean_absolute_error: 0.5183 - dense_64_pcc: 0.6876 - val_loss: 7.6625 - val_dense_60_loss: 0.7049 - val_dense_64_loss: 0.6136 - val_dense_60_mean_absolute_error: 0.7049 - val_dense_60_pcc: 0.9534 - val_dense_64_mean_absolute_error: 0.6136 - val_dense_64_pcc: 0.5852\n",
      "Epoch 108/300\n",
      "5/5 [==============================] - 0s 25ms/step - loss: 6.9201 - dense_60_loss: 0.6346 - dense_64_loss: 0.5743 - dense_60_mean_absolute_error: 0.6346 - dense_60_pcc: 0.8883 - dense_64_mean_absolute_error: 0.5743 - dense_64_pcc: 0.6955 - val_loss: 7.6590 - val_dense_60_loss: 0.7046 - val_dense_64_loss: 0.6134 - val_dense_60_mean_absolute_error: 0.7046 - val_dense_60_pcc: 0.9539 - val_dense_64_mean_absolute_error: 0.6134 - val_dense_64_pcc: 0.5847\n",
      "Epoch 109/300\n",
      "5/5 [==============================] - 0s 27ms/step - loss: 6.7273 - dense_60_loss: 0.6176 - dense_64_loss: 0.5518 - dense_60_mean_absolute_error: 0.6176 - dense_60_pcc: 0.8819 - dense_64_mean_absolute_error: 0.5518 - dense_64_pcc: 0.6347 - val_loss: 7.6570 - val_dense_60_loss: 0.7043 - val_dense_64_loss: 0.6136 - val_dense_60_mean_absolute_error: 0.7043 - val_dense_60_pcc: 0.9540 - val_dense_64_mean_absolute_error: 0.6136 - val_dense_64_pcc: 0.5846\n",
      "Epoch 110/300\n",
      "5/5 [==============================] - 0s 27ms/step - loss: 7.0755 - dense_60_loss: 0.6478 - dense_64_loss: 0.5971 - dense_60_mean_absolute_error: 0.6478 - dense_60_pcc: 0.8922 - dense_64_mean_absolute_error: 0.5971 - dense_64_pcc: 0.6346 - val_loss: 7.6573 - val_dense_60_loss: 0.7043 - val_dense_64_loss: 0.6148 - val_dense_60_mean_absolute_error: 0.7043 - val_dense_60_pcc: 0.9540 - val_dense_64_mean_absolute_error: 0.6148 - val_dense_64_pcc: 0.5895\n",
      "Epoch 111/300\n",
      "5/5 [==============================] - 0s 39ms/step - loss: 7.0501 - dense_60_loss: 0.6517 - dense_64_loss: 0.5336 - dense_60_mean_absolute_error: 0.6517 - dense_60_pcc: 0.8910 - dense_64_mean_absolute_error: 0.5336 - dense_64_pcc: 0.6419 - val_loss: 7.6603 - val_dense_60_loss: 0.7044 - val_dense_64_loss: 0.6162 - val_dense_60_mean_absolute_error: 0.7044 - val_dense_60_pcc: 0.9542 - val_dense_64_mean_absolute_error: 0.6162 - val_dense_64_pcc: 0.5948\n",
      "Epoch 112/300\n",
      "5/5 [==============================] - 0s 27ms/step - loss: 7.0131 - dense_60_loss: 0.6387 - dense_64_loss: 0.6263 - dense_60_mean_absolute_error: 0.6387 - dense_60_pcc: 0.8790 - dense_64_mean_absolute_error: 0.6263 - dense_64_pcc: 0.6977 - val_loss: 7.6608 - val_dense_60_loss: 0.7044 - val_dense_64_loss: 0.6171 - val_dense_60_mean_absolute_error: 0.7044 - val_dense_60_pcc: 0.9540 - val_dense_64_mean_absolute_error: 0.6171 - val_dense_64_pcc: 0.5984\n",
      "Epoch 113/300\n",
      "5/5 [==============================] - 0s 27ms/step - loss: 6.8263 - dense_60_loss: 0.6274 - dense_64_loss: 0.5526 - dense_60_mean_absolute_error: 0.6274 - dense_60_pcc: 0.8897 - dense_64_mean_absolute_error: 0.5526 - dense_64_pcc: 0.6719 - val_loss: 7.6629 - val_dense_60_loss: 0.7045 - val_dense_64_loss: 0.6177 - val_dense_60_mean_absolute_error: 0.7045 - val_dense_60_pcc: 0.9539 - val_dense_64_mean_absolute_error: 0.6177 - val_dense_64_pcc: 0.6009\n",
      "Epoch 114/300\n",
      "5/5 [==============================] - 0s 37ms/step - loss: 6.8413 - dense_60_loss: 0.6323 - dense_64_loss: 0.5181 - dense_60_mean_absolute_error: 0.6323 - dense_60_pcc: 0.8942 - dense_64_mean_absolute_error: 0.5181 - dense_64_pcc: 0.6589 - val_loss: 7.6662 - val_dense_60_loss: 0.7048 - val_dense_64_loss: 0.6185 - val_dense_60_mean_absolute_error: 0.7048 - val_dense_60_pcc: 0.9539 - val_dense_64_mean_absolute_error: 0.6185 - val_dense_64_pcc: 0.6023\n",
      "Epoch 115/300\n",
      "5/5 [==============================] - 0s 26ms/step - loss: 7.0856 - dense_60_loss: 0.6434 - dense_64_loss: 0.6514 - dense_60_mean_absolute_error: 0.6434 - dense_60_pcc: 0.8927 - dense_64_mean_absolute_error: 0.6514 - dense_64_pcc: 0.6994 - val_loss: 7.6652 - val_dense_60_loss: 0.7047 - val_dense_64_loss: 0.6185 - val_dense_60_mean_absolute_error: 0.7047 - val_dense_60_pcc: 0.9543 - val_dense_64_mean_absolute_error: 0.6185 - val_dense_64_pcc: 0.6006\n",
      "Epoch 116/300\n",
      "5/5 [==============================] - 0s 42ms/step - loss: 7.0690 - dense_60_loss: 0.6563 - dense_64_loss: 0.5057 - dense_60_mean_absolute_error: 0.6563 - dense_60_pcc: 0.9223 - dense_64_mean_absolute_error: 0.5057 - dense_64_pcc: 0.7032 - val_loss: 7.6705 - val_dense_60_loss: 0.7052 - val_dense_64_loss: 0.6182 - val_dense_60_mean_absolute_error: 0.7052 - val_dense_60_pcc: 0.9544 - val_dense_64_mean_absolute_error: 0.6182 - val_dense_64_pcc: 0.5999\n",
      "Epoch 117/300\n",
      "5/5 [==============================] - 0s 26ms/step - loss: 7.0865 - dense_60_loss: 0.6539 - dense_64_loss: 0.5479 - dense_60_mean_absolute_error: 0.6539 - dense_60_pcc: 0.9077 - dense_64_mean_absolute_error: 0.5479 - dense_64_pcc: 0.7012 - val_loss: 7.6680 - val_dense_60_loss: 0.7052 - val_dense_64_loss: 0.6164 - val_dense_60_mean_absolute_error: 0.7052 - val_dense_60_pcc: 0.9543 - val_dense_64_mean_absolute_error: 0.6164 - val_dense_64_pcc: 0.5952\n",
      "Epoch 118/300\n",
      "5/5 [==============================] - 0s 26ms/step - loss: 7.0791 - dense_60_loss: 0.6563 - dense_64_loss: 0.5162 - dense_60_mean_absolute_error: 0.6563 - dense_60_pcc: 0.9058 - dense_64_mean_absolute_error: 0.5162 - dense_64_pcc: 0.6532 - val_loss: 7.6674 - val_dense_60_loss: 0.7052 - val_dense_64_loss: 0.6153 - val_dense_60_mean_absolute_error: 0.7052 - val_dense_60_pcc: 0.9544 - val_dense_64_mean_absolute_error: 0.6153 - val_dense_64_pcc: 0.5916\n",
      "Epoch 119/300\n",
      "5/5 [==============================] - 0s 37ms/step - loss: 6.9285 - dense_60_loss: 0.6362 - dense_64_loss: 0.5661 - dense_60_mean_absolute_error: 0.6362 - dense_60_pcc: 0.8963 - dense_64_mean_absolute_error: 0.5661 - dense_64_pcc: 0.6839 - val_loss: 7.6667 - val_dense_60_loss: 0.7052 - val_dense_64_loss: 0.6147 - val_dense_60_mean_absolute_error: 0.7052 - val_dense_60_pcc: 0.9544 - val_dense_64_mean_absolute_error: 0.6147 - val_dense_64_pcc: 0.5882\n",
      "Epoch 120/300\n",
      "5/5 [==============================] - 0s 28ms/step - loss: 6.8257 - dense_60_loss: 0.6284 - dense_64_loss: 0.5414 - dense_60_mean_absolute_error: 0.6284 - dense_60_pcc: 0.9027 - dense_64_mean_absolute_error: 0.5414 - dense_64_pcc: 0.6444 - val_loss: 7.6666 - val_dense_60_loss: 0.7053 - val_dense_64_loss: 0.6137 - val_dense_60_mean_absolute_error: 0.7053 - val_dense_60_pcc: 0.9545 - val_dense_64_mean_absolute_error: 0.6137 - val_dense_64_pcc: 0.5834\n",
      "Epoch 121/300\n",
      "5/5 [==============================] - 0s 27ms/step - loss: 6.9632 - dense_60_loss: 0.6456 - dense_64_loss: 0.5071 - dense_60_mean_absolute_error: 0.6456 - dense_60_pcc: 0.9088 - dense_64_mean_absolute_error: 0.5071 - dense_64_pcc: 0.6408 - val_loss: 7.6690 - val_dense_60_loss: 0.7056 - val_dense_64_loss: 0.6132 - val_dense_60_mean_absolute_error: 0.7056 - val_dense_60_pcc: 0.9547 - val_dense_64_mean_absolute_error: 0.6132 - val_dense_64_pcc: 0.5827\n",
      "Epoch 122/300\n",
      "5/5 [==============================] - 0s 36ms/step - loss: 6.7711 - dense_60_loss: 0.6234 - dense_64_loss: 0.5372 - dense_60_mean_absolute_error: 0.6234 - dense_60_pcc: 0.9004 - dense_64_mean_absolute_error: 0.5372 - dense_64_pcc: 0.6706 - val_loss: 7.6682 - val_dense_60_loss: 0.7055 - val_dense_64_loss: 0.6133 - val_dense_60_mean_absolute_error: 0.7055 - val_dense_60_pcc: 0.9548 - val_dense_64_mean_absolute_error: 0.6133 - val_dense_64_pcc: 0.5840\n",
      "Epoch 123/300\n",
      "5/5 [==============================] - 0s 25ms/step - loss: 7.1648 - dense_60_loss: 0.6591 - dense_64_loss: 0.5742 - dense_60_mean_absolute_error: 0.6591 - dense_60_pcc: 0.9201 - dense_64_mean_absolute_error: 0.5742 - dense_64_pcc: 0.7113 - val_loss: 7.6662 - val_dense_60_loss: 0.7053 - val_dense_64_loss: 0.6136 - val_dense_60_mean_absolute_error: 0.7053 - val_dense_60_pcc: 0.9550 - val_dense_64_mean_absolute_error: 0.6136 - val_dense_64_pcc: 0.5857\n",
      "Epoch 124/300\n",
      "5/5 [==============================] - 0s 27ms/step - loss: 6.9411 - dense_60_loss: 0.6399 - dense_64_loss: 0.5422 - dense_60_mean_absolute_error: 0.6399 - dense_60_pcc: 0.9128 - dense_64_mean_absolute_error: 0.5422 - dense_64_pcc: 0.6914 - val_loss: 7.6684 - val_dense_60_loss: 0.7054 - val_dense_64_loss: 0.6141 - val_dense_60_mean_absolute_error: 0.7054 - val_dense_60_pcc: 0.9550 - val_dense_64_mean_absolute_error: 0.6141 - val_dense_64_pcc: 0.5864\n"
     ]
    },
    {
     "name": "stdout",
     "output_type": "stream",
     "text": [
      "Epoch 125/300\n",
      "5/5 [==============================] - 0s 42ms/step - loss: 6.8068 - dense_60_loss: 0.6307 - dense_64_loss: 0.5002 - dense_60_mean_absolute_error: 0.6307 - dense_60_pcc: 0.9109 - dense_64_mean_absolute_error: 0.5002 - dense_64_pcc: 0.6343 - val_loss: 7.6714 - val_dense_60_loss: 0.7056 - val_dense_64_loss: 0.6150 - val_dense_60_mean_absolute_error: 0.7056 - val_dense_60_pcc: 0.9549 - val_dense_64_mean_absolute_error: 0.6150 - val_dense_64_pcc: 0.5895\n",
      "Epoch 126/300\n",
      "5/5 [==============================] - 0s 25ms/step - loss: 6.9725 - dense_60_loss: 0.6403 - dense_64_loss: 0.5700 - dense_60_mean_absolute_error: 0.6403 - dense_60_pcc: 0.8989 - dense_64_mean_absolute_error: 0.5700 - dense_64_pcc: 0.7221 - val_loss: 7.6676 - val_dense_60_loss: 0.7052 - val_dense_64_loss: 0.6153 - val_dense_60_mean_absolute_error: 0.7052 - val_dense_60_pcc: 0.9551 - val_dense_64_mean_absolute_error: 0.6153 - val_dense_64_pcc: 0.5929\n",
      "Epoch 127/300\n",
      "5/5 [==============================] - 0s 41ms/step - loss: 6.9204 - dense_60_loss: 0.6392 - dense_64_loss: 0.5285 - dense_60_mean_absolute_error: 0.6392 - dense_60_pcc: 0.9085 - dense_64_mean_absolute_error: 0.5285 - dense_64_pcc: 0.6467 - val_loss: 7.6651 - val_dense_60_loss: 0.7050 - val_dense_64_loss: 0.6155 - val_dense_60_mean_absolute_error: 0.7050 - val_dense_60_pcc: 0.9552 - val_dense_64_mean_absolute_error: 0.6155 - val_dense_64_pcc: 0.5962\n",
      "Epoch 128/300\n",
      "5/5 [==============================] - 0s 27ms/step - loss: 7.1498 - dense_60_loss: 0.6594 - dense_64_loss: 0.5554 - dense_60_mean_absolute_error: 0.6594 - dense_60_pcc: 0.9147 - dense_64_mean_absolute_error: 0.5554 - dense_64_pcc: 0.6548 - val_loss: 7.6632 - val_dense_60_loss: 0.7048 - val_dense_64_loss: 0.6153 - val_dense_60_mean_absolute_error: 0.7048 - val_dense_60_pcc: 0.9550 - val_dense_64_mean_absolute_error: 0.6153 - val_dense_64_pcc: 0.5993\n",
      "Epoch 129/300\n",
      "5/5 [==============================] - 0s 27ms/step - loss: 6.9883 - dense_60_loss: 0.6472 - dense_64_loss: 0.5168 - dense_60_mean_absolute_error: 0.6472 - dense_60_pcc: 0.9075 - dense_64_mean_absolute_error: 0.5168 - dense_64_pcc: 0.6550 - val_loss: 7.6623 - val_dense_60_loss: 0.7047 - val_dense_64_loss: 0.6155 - val_dense_60_mean_absolute_error: 0.7047 - val_dense_60_pcc: 0.9547 - val_dense_64_mean_absolute_error: 0.6155 - val_dense_64_pcc: 0.6018\n",
      "Epoch 130/300\n",
      "5/5 [==============================] - 0s 37ms/step - loss: 6.7925 - dense_60_loss: 0.6271 - dense_64_loss: 0.5219 - dense_60_mean_absolute_error: 0.6271 - dense_60_pcc: 0.8969 - dense_64_mean_absolute_error: 0.5219 - dense_64_pcc: 0.6843 - val_loss: 7.6643 - val_dense_60_loss: 0.7048 - val_dense_64_loss: 0.6160 - val_dense_60_mean_absolute_error: 0.7048 - val_dense_60_pcc: 0.9546 - val_dense_64_mean_absolute_error: 0.6160 - val_dense_64_pcc: 0.6037\n",
      "Epoch 131/300\n",
      "5/5 [==============================] - 0s 24ms/step - loss: 6.7974 - dense_60_loss: 0.6227 - dense_64_loss: 0.5701 - dense_60_mean_absolute_error: 0.6227 - dense_60_pcc: 0.9022 - dense_64_mean_absolute_error: 0.5701 - dense_64_pcc: 0.6992 - val_loss: 7.6638 - val_dense_60_loss: 0.7047 - val_dense_64_loss: 0.6169 - val_dense_60_mean_absolute_error: 0.7047 - val_dense_60_pcc: 0.9546 - val_dense_64_mean_absolute_error: 0.6169 - val_dense_64_pcc: 0.6062\n",
      "Epoch 132/300\n",
      "5/5 [==============================] - 0s 27ms/step - loss: 6.9930 - dense_60_loss: 0.6427 - dense_64_loss: 0.5657 - dense_60_mean_absolute_error: 0.6427 - dense_60_pcc: 0.9008 - dense_64_mean_absolute_error: 0.5657 - dense_64_pcc: 0.6797 - val_loss: 7.6640 - val_dense_60_loss: 0.7047 - val_dense_64_loss: 0.6171 - val_dense_60_mean_absolute_error: 0.7047 - val_dense_60_pcc: 0.9544 - val_dense_64_mean_absolute_error: 0.6171 - val_dense_64_pcc: 0.6069\n",
      "Epoch 133/300\n",
      "5/5 [==============================] - 0s 26ms/step - loss: 7.0590 - dense_60_loss: 0.6464 - dense_64_loss: 0.5953 - dense_60_mean_absolute_error: 0.6464 - dense_60_pcc: 0.9065 - dense_64_mean_absolute_error: 0.5953 - dense_64_pcc: 0.7239 - val_loss: 7.6636 - val_dense_60_loss: 0.7047 - val_dense_64_loss: 0.6164 - val_dense_60_mean_absolute_error: 0.7047 - val_dense_60_pcc: 0.9541 - val_dense_64_mean_absolute_error: 0.6164 - val_dense_64_pcc: 0.6035\n",
      "Epoch 134/300\n",
      "5/5 [==============================] - 0s 27ms/step - loss: 6.7636 - dense_60_loss: 0.6206 - dense_64_loss: 0.5571 - dense_60_mean_absolute_error: 0.6206 - dense_60_pcc: 0.8680 - dense_64_mean_absolute_error: 0.5571 - dense_64_pcc: 0.6730 - val_loss: 7.6634 - val_dense_60_loss: 0.7048 - val_dense_64_loss: 0.6151 - val_dense_60_mean_absolute_error: 0.7048 - val_dense_60_pcc: 0.9542 - val_dense_64_mean_absolute_error: 0.6151 - val_dense_64_pcc: 0.5985\n",
      "Epoch 135/300\n",
      "5/5 [==============================] - 0s 35ms/step - loss: 6.6354 - dense_60_loss: 0.6097 - dense_64_loss: 0.5379 - dense_60_mean_absolute_error: 0.6097 - dense_60_pcc: 0.8770 - dense_64_mean_absolute_error: 0.5379 - dense_64_pcc: 0.6481 - val_loss: 7.6610 - val_dense_60_loss: 0.7047 - val_dense_64_loss: 0.6138 - val_dense_60_mean_absolute_error: 0.7047 - val_dense_60_pcc: 0.9541 - val_dense_64_mean_absolute_error: 0.6138 - val_dense_64_pcc: 0.5915\n",
      "Epoch 136/300\n",
      "5/5 [==============================] - 0s 26ms/step - loss: 6.9582 - dense_60_loss: 0.6406 - dense_64_loss: 0.5517 - dense_60_mean_absolute_error: 0.6406 - dense_60_pcc: 0.8839 - dense_64_mean_absolute_error: 0.5517 - dense_64_pcc: 0.6728 - val_loss: 7.6596 - val_dense_60_loss: 0.7046 - val_dense_64_loss: 0.6135 - val_dense_60_mean_absolute_error: 0.7046 - val_dense_60_pcc: 0.9539 - val_dense_64_mean_absolute_error: 0.6135 - val_dense_64_pcc: 0.5876\n",
      "Epoch 137/300\n",
      "5/5 [==============================] - 0s 26ms/step - loss: 6.8266 - dense_60_loss: 0.6230 - dense_64_loss: 0.5964 - dense_60_mean_absolute_error: 0.6230 - dense_60_pcc: 0.8808 - dense_64_mean_absolute_error: 0.5964 - dense_64_pcc: 0.6983 - val_loss: 7.6571 - val_dense_60_loss: 0.7044 - val_dense_64_loss: 0.6129 - val_dense_60_mean_absolute_error: 0.7044 - val_dense_60_pcc: 0.9537 - val_dense_64_mean_absolute_error: 0.6129 - val_dense_64_pcc: 0.5834\n",
      "Epoch 138/300\n",
      "5/5 [==============================] - 0s 39ms/step - loss: 6.7497 - dense_60_loss: 0.6198 - dense_64_loss: 0.5512 - dense_60_mean_absolute_error: 0.6198 - dense_60_pcc: 0.8836 - dense_64_mean_absolute_error: 0.5512 - dense_64_pcc: 0.6620 - val_loss: 7.6590 - val_dense_60_loss: 0.7047 - val_dense_64_loss: 0.6117 - val_dense_60_mean_absolute_error: 0.7047 - val_dense_60_pcc: 0.9534 - val_dense_64_mean_absolute_error: 0.6117 - val_dense_64_pcc: 0.5788\n",
      "Epoch 139/300\n",
      "5/5 [==============================] - 0s 26ms/step - loss: 6.6303 - dense_60_loss: 0.6093 - dense_64_loss: 0.5374 - dense_60_mean_absolute_error: 0.6093 - dense_60_pcc: 0.8889 - dense_64_mean_absolute_error: 0.5374 - dense_64_pcc: 0.6750 - val_loss: 7.6641 - val_dense_60_loss: 0.7052 - val_dense_64_loss: 0.6121 - val_dense_60_mean_absolute_error: 0.7052 - val_dense_60_pcc: 0.9536 - val_dense_64_mean_absolute_error: 0.6121 - val_dense_64_pcc: 0.5788\n",
      "Epoch 140/300\n",
      "5/5 [==============================] - 0s 42ms/step - loss: 6.8747 - dense_60_loss: 0.6313 - dense_64_loss: 0.5617 - dense_60_mean_absolute_error: 0.6313 - dense_60_pcc: 0.8798 - dense_64_mean_absolute_error: 0.5617 - dense_64_pcc: 0.6642 - val_loss: 7.6652 - val_dense_60_loss: 0.7051 - val_dense_64_loss: 0.6140 - val_dense_60_mean_absolute_error: 0.7051 - val_dense_60_pcc: 0.9541 - val_dense_64_mean_absolute_error: 0.6140 - val_dense_64_pcc: 0.5837\n",
      "Epoch 141/300\n",
      "5/5 [==============================] - 0s 26ms/step - loss: 6.8099 - dense_60_loss: 0.6256 - dense_64_loss: 0.5538 - dense_60_mean_absolute_error: 0.6256 - dense_60_pcc: 0.8949 - dense_64_mean_absolute_error: 0.5538 - dense_64_pcc: 0.6576 - val_loss: 7.6671 - val_dense_60_loss: 0.7053 - val_dense_64_loss: 0.6145 - val_dense_60_mean_absolute_error: 0.7053 - val_dense_60_pcc: 0.9541 - val_dense_64_mean_absolute_error: 0.6145 - val_dense_64_pcc: 0.5835\n",
      "Epoch 142/300\n",
      "5/5 [==============================] - 0s 28ms/step - loss: 6.4000 - dense_60_loss: 0.5887 - dense_64_loss: 0.5133 - dense_60_mean_absolute_error: 0.5887 - dense_60_pcc: 0.8739 - dense_64_mean_absolute_error: 0.5133 - dense_64_pcc: 0.6831 - val_loss: 7.6681 - val_dense_60_loss: 0.7056 - val_dense_64_loss: 0.6124 - val_dense_60_mean_absolute_error: 0.7056 - val_dense_60_pcc: 0.9539 - val_dense_64_mean_absolute_error: 0.6124 - val_dense_64_pcc: 0.5779\n",
      "Epoch 143/300\n",
      "5/5 [==============================] - 0s 36ms/step - loss: 6.9129 - dense_60_loss: 0.6368 - dense_64_loss: 0.5450 - dense_60_mean_absolute_error: 0.6368 - dense_60_pcc: 0.8894 - dense_64_mean_absolute_error: 0.5450 - dense_64_pcc: 0.7337 - val_loss: 7.6647 - val_dense_60_loss: 0.7054 - val_dense_64_loss: 0.6110 - val_dense_60_mean_absolute_error: 0.7054 - val_dense_60_pcc: 0.9541 - val_dense_64_mean_absolute_error: 0.6110 - val_dense_64_pcc: 0.5739\n",
      "Epoch 144/300\n",
      "5/5 [==============================] - 0s 27ms/step - loss: 6.7113 - dense_60_loss: 0.6148 - dense_64_loss: 0.5637 - dense_60_mean_absolute_error: 0.6148 - dense_60_pcc: 0.8833 - dense_64_mean_absolute_error: 0.5637 - dense_64_pcc: 0.6551 - val_loss: 7.6591 - val_dense_60_loss: 0.7049 - val_dense_64_loss: 0.6102 - val_dense_60_mean_absolute_error: 0.7049 - val_dense_60_pcc: 0.9543 - val_dense_64_mean_absolute_error: 0.6102 - val_dense_64_pcc: 0.5741\n",
      "Epoch 145/300\n",
      "5/5 [==============================] - 0s 30ms/step - loss: 6.8662 - dense_60_loss: 0.6330 - dense_64_loss: 0.5360 - dense_60_mean_absolute_error: 0.6330 - dense_60_pcc: 0.8726 - dense_64_mean_absolute_error: 0.5360 - dense_64_pcc: 0.6454 - val_loss: 7.6561 - val_dense_60_loss: 0.7046 - val_dense_64_loss: 0.6098 - val_dense_60_mean_absolute_error: 0.7046 - val_dense_60_pcc: 0.9543 - val_dense_64_mean_absolute_error: 0.6098 - val_dense_64_pcc: 0.5763\n",
      "Epoch 146/300\n",
      "5/5 [==============================] - 0s 36ms/step - loss: 7.0230 - dense_60_loss: 0.6476 - dense_64_loss: 0.5465 - dense_60_mean_absolute_error: 0.6476 - dense_60_pcc: 0.9018 - dense_64_mean_absolute_error: 0.5465 - dense_64_pcc: 0.6634 - val_loss: 7.6575 - val_dense_60_loss: 0.7048 - val_dense_64_loss: 0.6096 - val_dense_60_mean_absolute_error: 0.7048 - val_dense_60_pcc: 0.9545 - val_dense_64_mean_absolute_error: 0.6096 - val_dense_64_pcc: 0.5760\n",
      "Epoch 147/300\n",
      "5/5 [==============================] - 0s 25ms/step - loss: 6.5891 - dense_60_loss: 0.6067 - dense_64_loss: 0.5222 - dense_60_mean_absolute_error: 0.6067 - dense_60_pcc: 0.8909 - dense_64_mean_absolute_error: 0.5222 - dense_64_pcc: 0.6666 - val_loss: 7.6573 - val_dense_60_loss: 0.7047 - val_dense_64_loss: 0.6102 - val_dense_60_mean_absolute_error: 0.7047 - val_dense_60_pcc: 0.9545 - val_dense_64_mean_absolute_error: 0.6102 - val_dense_64_pcc: 0.5785\n",
      "Epoch 148/300\n",
      "5/5 [==============================] - 0s 41ms/step - loss: 6.6688 - dense_60_loss: 0.6132 - dense_64_loss: 0.5372 - dense_60_mean_absolute_error: 0.6132 - dense_60_pcc: 0.8704 - dense_64_mean_absolute_error: 0.5372 - dense_64_pcc: 0.6357 - val_loss: 7.6540 - val_dense_60_loss: 0.7044 - val_dense_64_loss: 0.6096 - val_dense_60_mean_absolute_error: 0.7044 - val_dense_60_pcc: 0.9543 - val_dense_64_mean_absolute_error: 0.6096 - val_dense_64_pcc: 0.5788\n",
      "Epoch 149/300\n",
      "5/5 [==============================] - 0s 29ms/step - loss: 6.5888 - dense_60_loss: 0.6067 - dense_64_loss: 0.5213 - dense_60_mean_absolute_error: 0.6067 - dense_60_pcc: 0.8731 - dense_64_mean_absolute_error: 0.5213 - dense_64_pcc: 0.6658 - val_loss: 7.6526 - val_dense_60_loss: 0.7043 - val_dense_64_loss: 0.6093 - val_dense_60_mean_absolute_error: 0.7043 - val_dense_60_pcc: 0.9541 - val_dense_64_mean_absolute_error: 0.6093 - val_dense_64_pcc: 0.5816\n",
      "Epoch 150/300\n",
      "5/5 [==============================] - 0s 27ms/step - loss: 7.0832 - dense_60_loss: 0.6483 - dense_64_loss: 0.6002 - dense_60_mean_absolute_error: 0.6483 - dense_60_pcc: 0.8790 - dense_64_mean_absolute_error: 0.6002 - dense_64_pcc: 0.6728 - val_loss: 7.6504 - val_dense_60_loss: 0.7041 - val_dense_64_loss: 0.6094 - val_dense_60_mean_absolute_error: 0.7041 - val_dense_60_pcc: 0.9540 - val_dense_64_mean_absolute_error: 0.6094 - val_dense_64_pcc: 0.5867\n",
      "Epoch 151/300\n",
      "5/5 [==============================] - 0s 35ms/step - loss: 6.7945 - dense_60_loss: 0.6239 - dense_64_loss: 0.5550 - dense_60_mean_absolute_error: 0.6239 - dense_60_pcc: 0.8762 - dense_64_mean_absolute_error: 0.5550 - dense_64_pcc: 0.6496 - val_loss: 7.6511 - val_dense_60_loss: 0.7042 - val_dense_64_loss: 0.6091 - val_dense_60_mean_absolute_error: 0.7042 - val_dense_60_pcc: 0.9541 - val_dense_64_mean_absolute_error: 0.6091 - val_dense_64_pcc: 0.5893\n",
      "Epoch 152/300\n",
      "5/5 [==============================] - 0s 28ms/step - loss: 7.0902 - dense_60_loss: 0.6527 - dense_64_loss: 0.5632 - dense_60_mean_absolute_error: 0.6527 - dense_60_pcc: 0.9010 - dense_64_mean_absolute_error: 0.5632 - dense_64_pcc: 0.7074 - val_loss: 7.6516 - val_dense_60_loss: 0.7043 - val_dense_64_loss: 0.6091 - val_dense_60_mean_absolute_error: 0.7043 - val_dense_60_pcc: 0.9541 - val_dense_64_mean_absolute_error: 0.6091 - val_dense_64_pcc: 0.5896\n",
      "Epoch 153/300\n",
      "5/5 [==============================] - 0s 25ms/step - loss: 6.7113 - dense_60_loss: 0.6147 - dense_64_loss: 0.5640 - dense_60_mean_absolute_error: 0.6147 - dense_60_pcc: 0.8840 - dense_64_mean_absolute_error: 0.5640 - dense_64_pcc: 0.6583 - val_loss: 7.6508 - val_dense_60_loss: 0.7042 - val_dense_64_loss: 0.6090 - val_dense_60_mean_absolute_error: 0.7042 - val_dense_60_pcc: 0.9542 - val_dense_64_mean_absolute_error: 0.6090 - val_dense_64_pcc: 0.5872\n",
      "Epoch 154/300\n",
      "5/5 [==============================] - 0s 40ms/step - loss: 6.9153 - dense_60_loss: 0.6341 - dense_64_loss: 0.5748 - dense_60_mean_absolute_error: 0.6341 - dense_60_pcc: 0.8990 - dense_64_mean_absolute_error: 0.5748 - dense_64_pcc: 0.6602 - val_loss: 7.6483 - val_dense_60_loss: 0.7039 - val_dense_64_loss: 0.6094 - val_dense_60_mean_absolute_error: 0.7039 - val_dense_60_pcc: 0.9542 - val_dense_64_mean_absolute_error: 0.6094 - val_dense_64_pcc: 0.5838\n",
      "Epoch 155/300\n",
      "5/5 [==============================] - 0s 25ms/step - loss: 6.7665 - dense_60_loss: 0.6220 - dense_64_loss: 0.5466 - dense_60_mean_absolute_error: 0.6220 - dense_60_pcc: 0.8750 - dense_64_mean_absolute_error: 0.5466 - dense_64_pcc: 0.6674 - val_loss: 7.6489 - val_dense_60_loss: 0.7041 - val_dense_64_loss: 0.6083 - val_dense_60_mean_absolute_error: 0.7041 - val_dense_60_pcc: 0.9543 - val_dense_64_mean_absolute_error: 0.6083 - val_dense_64_pcc: 0.5777\n",
      "Epoch 156/300\n",
      "5/5 [==============================] - 0s 28ms/step - loss: 6.5504 - dense_60_loss: 0.6046 - dense_64_loss: 0.5044 - dense_60_mean_absolute_error: 0.6046 - dense_60_pcc: 0.8660 - dense_64_mean_absolute_error: 0.5044 - dense_64_pcc: 0.6026 - val_loss: 7.6481 - val_dense_60_loss: 0.7041 - val_dense_64_loss: 0.6074 - val_dense_60_mean_absolute_error: 0.7041 - val_dense_60_pcc: 0.9543 - val_dense_64_mean_absolute_error: 0.6074 - val_dense_64_pcc: 0.5714\n",
      "Epoch 157/300\n",
      "5/5 [==============================] - 0s 41ms/step - loss: 6.8231 - dense_60_loss: 0.6264 - dense_64_loss: 0.5587 - dense_60_mean_absolute_error: 0.6264 - dense_60_pcc: 0.8816 - dense_64_mean_absolute_error: 0.5587 - dense_64_pcc: 0.6460 - val_loss: 7.6446 - val_dense_60_loss: 0.7037 - val_dense_64_loss: 0.6074 - val_dense_60_mean_absolute_error: 0.7037 - val_dense_60_pcc: 0.9542 - val_dense_64_mean_absolute_error: 0.6074 - val_dense_64_pcc: 0.5693\n",
      "Epoch 158/300\n",
      "5/5 [==============================] - 0s 25ms/step - loss: 6.6452 - dense_60_loss: 0.6112 - dense_64_loss: 0.5335 - dense_60_mean_absolute_error: 0.6112 - dense_60_pcc: 0.8478 - dense_64_mean_absolute_error: 0.5335 - dense_64_pcc: 0.6017 - val_loss: 7.6410 - val_dense_60_loss: 0.7034 - val_dense_64_loss: 0.6066 - val_dense_60_mean_absolute_error: 0.7034 - val_dense_60_pcc: 0.9540 - val_dense_64_mean_absolute_error: 0.6066 - val_dense_64_pcc: 0.5652\n",
      "Epoch 159/300\n",
      "5/5 [==============================] - 0s 42ms/step - loss: 7.0648 - dense_60_loss: 0.6516 - dense_64_loss: 0.5491 - dense_60_mean_absolute_error: 0.6516 - dense_60_pcc: 0.9086 - dense_64_mean_absolute_error: 0.5491 - dense_64_pcc: 0.6634 - val_loss: 7.6410 - val_dense_60_loss: 0.7035 - val_dense_64_loss: 0.6063 - val_dense_60_mean_absolute_error: 0.7035 - val_dense_60_pcc: 0.9543 - val_dense_64_mean_absolute_error: 0.6063 - val_dense_64_pcc: 0.5639\n"
     ]
    },
    {
     "name": "stdout",
     "output_type": "stream",
     "text": [
      "Epoch 160/300\n",
      "5/5 [==============================] - 0s 26ms/step - loss: 6.8220 - dense_60_loss: 0.6284 - dense_64_loss: 0.5382 - dense_60_mean_absolute_error: 0.6284 - dense_60_pcc: 0.8968 - dense_64_mean_absolute_error: 0.5382 - dense_64_pcc: 0.6785 - val_loss: 7.6383 - val_dense_60_loss: 0.7032 - val_dense_64_loss: 0.6066 - val_dense_60_mean_absolute_error: 0.7032 - val_dense_60_pcc: 0.9542 - val_dense_64_mean_absolute_error: 0.6066 - val_dense_64_pcc: 0.5652\n",
      "Epoch 161/300\n",
      "5/5 [==============================] - 0s 28ms/step - loss: 6.9908 - dense_60_loss: 0.6420 - dense_64_loss: 0.5704 - dense_60_mean_absolute_error: 0.6420 - dense_60_pcc: 0.9041 - dense_64_mean_absolute_error: 0.5704 - dense_64_pcc: 0.6852 - val_loss: 7.6368 - val_dense_60_loss: 0.7030 - val_dense_64_loss: 0.6067 - val_dense_60_mean_absolute_error: 0.7030 - val_dense_60_pcc: 0.9542 - val_dense_64_mean_absolute_error: 0.6067 - val_dense_64_pcc: 0.5649\n",
      "Epoch 162/300\n",
      "5/5 [==============================] - 0s 40ms/step - loss: 6.9450 - dense_60_loss: 0.6368 - dense_64_loss: 0.5773 - dense_60_mean_absolute_error: 0.6368 - dense_60_pcc: 0.8858 - dense_64_mean_absolute_error: 0.5773 - dense_64_pcc: 0.6741 - val_loss: 7.6349 - val_dense_60_loss: 0.7029 - val_dense_64_loss: 0.6058 - val_dense_60_mean_absolute_error: 0.7029 - val_dense_60_pcc: 0.9542 - val_dense_64_mean_absolute_error: 0.6058 - val_dense_64_pcc: 0.5630\n",
      "Epoch 163/300\n",
      "5/5 [==============================] - 0s 26ms/step - loss: 6.9982 - dense_60_loss: 0.6369 - dense_64_loss: 0.6294 - dense_60_mean_absolute_error: 0.6369 - dense_60_pcc: 0.8793 - dense_64_mean_absolute_error: 0.6294 - dense_64_pcc: 0.6899 - val_loss: 7.6295 - val_dense_60_loss: 0.7024 - val_dense_64_loss: 0.6051 - val_dense_60_mean_absolute_error: 0.7024 - val_dense_60_pcc: 0.9545 - val_dense_64_mean_absolute_error: 0.6051 - val_dense_64_pcc: 0.5613\n",
      "Epoch 164/300\n",
      "5/5 [==============================] - 0s 40ms/step - loss: 6.8784 - dense_60_loss: 0.6373 - dense_64_loss: 0.5056 - dense_60_mean_absolute_error: 0.6373 - dense_60_pcc: 0.9026 - dense_64_mean_absolute_error: 0.5056 - dense_64_pcc: 0.6867 - val_loss: 7.6335 - val_dense_60_loss: 0.7030 - val_dense_64_loss: 0.6037 - val_dense_60_mean_absolute_error: 0.7030 - val_dense_60_pcc: 0.9548 - val_dense_64_mean_absolute_error: 0.6037 - val_dense_64_pcc: 0.5596\n",
      "Epoch 165/300\n",
      "5/5 [==============================] - 0s 27ms/step - loss: 6.9179 - dense_60_loss: 0.6382 - dense_64_loss: 0.5360 - dense_60_mean_absolute_error: 0.6382 - dense_60_pcc: 0.8807 - dense_64_mean_absolute_error: 0.5360 - dense_64_pcc: 0.6739 - val_loss: 7.6337 - val_dense_60_loss: 0.7030 - val_dense_64_loss: 0.6039 - val_dense_60_mean_absolute_error: 0.7030 - val_dense_60_pcc: 0.9549 - val_dense_64_mean_absolute_error: 0.6039 - val_dense_64_pcc: 0.5637\n",
      "Epoch 166/300\n",
      "5/5 [==============================] - 0s 27ms/step - loss: 6.9546 - dense_60_loss: 0.6372 - dense_64_loss: 0.5825 - dense_60_mean_absolute_error: 0.6372 - dense_60_pcc: 0.8971 - dense_64_mean_absolute_error: 0.5825 - dense_64_pcc: 0.6833 - val_loss: 7.6333 - val_dense_60_loss: 0.7030 - val_dense_64_loss: 0.6038 - val_dense_60_mean_absolute_error: 0.7030 - val_dense_60_pcc: 0.9552 - val_dense_64_mean_absolute_error: 0.6038 - val_dense_64_pcc: 0.5646\n",
      "Epoch 167/300\n",
      "5/5 [==============================] - 0s 41ms/step - loss: 7.1964 - dense_60_loss: 0.6641 - dense_64_loss: 0.5553 - dense_60_mean_absolute_error: 0.6641 - dense_60_pcc: 0.9081 - dense_64_mean_absolute_error: 0.5553 - dense_64_pcc: 0.6802 - val_loss: 7.6328 - val_dense_60_loss: 0.7029 - val_dense_64_loss: 0.6038 - val_dense_60_mean_absolute_error: 0.7029 - val_dense_60_pcc: 0.9550 - val_dense_64_mean_absolute_error: 0.6038 - val_dense_64_pcc: 0.5662\n",
      "Epoch 168/300\n",
      "5/5 [==============================] - 0s 27ms/step - loss: 6.8482 - dense_60_loss: 0.6302 - dense_64_loss: 0.5466 - dense_60_mean_absolute_error: 0.6302 - dense_60_pcc: 0.8960 - dense_64_mean_absolute_error: 0.5466 - dense_64_pcc: 0.7120 - val_loss: 7.6378 - val_dense_60_loss: 0.7034 - val_dense_64_loss: 0.6043 - val_dense_60_mean_absolute_error: 0.7034 - val_dense_60_pcc: 0.9549 - val_dense_64_mean_absolute_error: 0.6043 - val_dense_64_pcc: 0.5708\n",
      "Epoch 169/300\n",
      "5/5 [==============================] - 0s 26ms/step - loss: 6.6692 - dense_60_loss: 0.6156 - dense_64_loss: 0.5129 - dense_60_mean_absolute_error: 0.6156 - dense_60_pcc: 0.8935 - dense_64_mean_absolute_error: 0.5129 - dense_64_pcc: 0.6649 - val_loss: 7.6382 - val_dense_60_loss: 0.7034 - val_dense_64_loss: 0.6039 - val_dense_60_mean_absolute_error: 0.7034 - val_dense_60_pcc: 0.9551 - val_dense_64_mean_absolute_error: 0.6039 - val_dense_64_pcc: 0.5702\n",
      "Epoch 170/300\n",
      "5/5 [==============================] - 0s 38ms/step - loss: 6.9111 - dense_60_loss: 0.6398 - dense_64_loss: 0.5130 - dense_60_mean_absolute_error: 0.6398 - dense_60_pcc: 0.9004 - dense_64_mean_absolute_error: 0.5130 - dense_64_pcc: 0.6569 - val_loss: 7.6378 - val_dense_60_loss: 0.7034 - val_dense_64_loss: 0.6039 - val_dense_60_mean_absolute_error: 0.7034 - val_dense_60_pcc: 0.9551 - val_dense_64_mean_absolute_error: 0.6039 - val_dense_64_pcc: 0.5692\n",
      "Epoch 171/300\n",
      "5/5 [==============================] - 0s 28ms/step - loss: 6.7286 - dense_60_loss: 0.6177 - dense_64_loss: 0.5513 - dense_60_mean_absolute_error: 0.6177 - dense_60_pcc: 0.8912 - dense_64_mean_absolute_error: 0.5513 - dense_64_pcc: 0.6570 - val_loss: 7.6334 - val_dense_60_loss: 0.7030 - val_dense_64_loss: 0.6032 - val_dense_60_mean_absolute_error: 0.7030 - val_dense_60_pcc: 0.9549 - val_dense_64_mean_absolute_error: 0.6032 - val_dense_64_pcc: 0.5670\n",
      "Epoch 172/300\n",
      "5/5 [==============================] - 0s 37ms/step - loss: 6.8632 - dense_60_loss: 0.6360 - dense_64_loss: 0.5037 - dense_60_mean_absolute_error: 0.6360 - dense_60_pcc: 0.8993 - dense_64_mean_absolute_error: 0.5037 - dense_64_pcc: 0.6594 - val_loss: 7.6339 - val_dense_60_loss: 0.7031 - val_dense_64_loss: 0.6031 - val_dense_60_mean_absolute_error: 0.7031 - val_dense_60_pcc: 0.9547 - val_dense_64_mean_absolute_error: 0.6031 - val_dense_64_pcc: 0.5631\n",
      "Epoch 173/300\n",
      "5/5 [==============================] - 0s 28ms/step - loss: 6.5412 - dense_60_loss: 0.6042 - dense_64_loss: 0.4997 - dense_60_mean_absolute_error: 0.6042 - dense_60_pcc: 0.8923 - dense_64_mean_absolute_error: 0.4997 - dense_64_pcc: 0.6137 - val_loss: 7.6353 - val_dense_60_loss: 0.7032 - val_dense_64_loss: 0.6033 - val_dense_60_mean_absolute_error: 0.7032 - val_dense_60_pcc: 0.9549 - val_dense_64_mean_absolute_error: 0.6033 - val_dense_64_pcc: 0.5634\n",
      "Epoch 174/300\n",
      "5/5 [==============================] - 0s 26ms/step - loss: 7.0552 - dense_60_loss: 0.6483 - dense_64_loss: 0.5726 - dense_60_mean_absolute_error: 0.6483 - dense_60_pcc: 0.8903 - dense_64_mean_absolute_error: 0.5726 - dense_64_pcc: 0.6731 - val_loss: 7.6339 - val_dense_60_loss: 0.7030 - val_dense_64_loss: 0.6037 - val_dense_60_mean_absolute_error: 0.7030 - val_dense_60_pcc: 0.9550 - val_dense_64_mean_absolute_error: 0.6037 - val_dense_64_pcc: 0.5632\n",
      "Epoch 175/300\n",
      "5/5 [==============================] - 0s 36ms/step - loss: 6.8729 - dense_60_loss: 0.6319 - dense_64_loss: 0.5542 - dense_60_mean_absolute_error: 0.6319 - dense_60_pcc: 0.8763 - dense_64_mean_absolute_error: 0.5542 - dense_64_pcc: 0.6556 - val_loss: 7.6337 - val_dense_60_loss: 0.7030 - val_dense_64_loss: 0.6038 - val_dense_60_mean_absolute_error: 0.7030 - val_dense_60_pcc: 0.9547 - val_dense_64_mean_absolute_error: 0.6038 - val_dense_64_pcc: 0.5628\n",
      "Epoch 176/300\n",
      "5/5 [==============================] - 0s 28ms/step - loss: 6.7753 - dense_60_loss: 0.6262 - dense_64_loss: 0.5135 - dense_60_mean_absolute_error: 0.6262 - dense_60_pcc: 0.8878 - dense_64_mean_absolute_error: 0.5135 - dense_64_pcc: 0.6478 - val_loss: 7.6367 - val_dense_60_loss: 0.7032 - val_dense_64_loss: 0.6043 - val_dense_60_mean_absolute_error: 0.7032 - val_dense_60_pcc: 0.9546 - val_dense_64_mean_absolute_error: 0.6043 - val_dense_64_pcc: 0.5634\n",
      "Epoch 177/300\n",
      "5/5 [==============================] - 0s 25ms/step - loss: 6.6667 - dense_60_loss: 0.6142 - dense_64_loss: 0.5249 - dense_60_mean_absolute_error: 0.6142 - dense_60_pcc: 0.8817 - dense_64_mean_absolute_error: 0.5249 - dense_64_pcc: 0.6435 - val_loss: 7.6361 - val_dense_60_loss: 0.7032 - val_dense_64_loss: 0.6042 - val_dense_60_mean_absolute_error: 0.7032 - val_dense_60_pcc: 0.9546 - val_dense_64_mean_absolute_error: 0.6042 - val_dense_64_pcc: 0.5627\n",
      "Epoch 178/300\n",
      "5/5 [==============================] - 0s 41ms/step - loss: 6.8281 - dense_60_loss: 0.6274 - dense_64_loss: 0.5545 - dense_60_mean_absolute_error: 0.6274 - dense_60_pcc: 0.8893 - dense_64_mean_absolute_error: 0.5545 - dense_64_pcc: 0.6755 - val_loss: 7.6353 - val_dense_60_loss: 0.7031 - val_dense_64_loss: 0.6042 - val_dense_60_mean_absolute_error: 0.7031 - val_dense_60_pcc: 0.9546 - val_dense_64_mean_absolute_error: 0.6042 - val_dense_64_pcc: 0.5625\n",
      "Epoch 179/300\n",
      "5/5 [==============================] - 0s 26ms/step - loss: 6.7628 - dense_60_loss: 0.6217 - dense_64_loss: 0.5463 - dense_60_mean_absolute_error: 0.6217 - dense_60_pcc: 0.8856 - dense_64_mean_absolute_error: 0.5463 - dense_64_pcc: 0.6487 - val_loss: 7.6332 - val_dense_60_loss: 0.7029 - val_dense_64_loss: 0.6040 - val_dense_60_mean_absolute_error: 0.7029 - val_dense_60_pcc: 0.9545 - val_dense_64_mean_absolute_error: 0.6040 - val_dense_64_pcc: 0.5629\n",
      "Epoch 180/300\n",
      "5/5 [==============================] - 0s 38ms/step - loss: 6.7980 - dense_60_loss: 0.6270 - dense_64_loss: 0.5279 - dense_60_mean_absolute_error: 0.6270 - dense_60_pcc: 0.8816 - dense_64_mean_absolute_error: 0.5279 - dense_64_pcc: 0.6394 - val_loss: 7.6303 - val_dense_60_loss: 0.7026 - val_dense_64_loss: 0.6040 - val_dense_60_mean_absolute_error: 0.7026 - val_dense_60_pcc: 0.9539 - val_dense_64_mean_absolute_error: 0.6040 - val_dense_64_pcc: 0.5639\n",
      "Epoch 181/300\n",
      "5/5 [==============================] - 0s 26ms/step - loss: 6.9109 - dense_60_loss: 0.6370 - dense_64_loss: 0.5409 - dense_60_mean_absolute_error: 0.6370 - dense_60_pcc: 0.9024 - dense_64_mean_absolute_error: 0.5409 - dense_64_pcc: 0.6654 - val_loss: 7.6308 - val_dense_60_loss: 0.7028 - val_dense_64_loss: 0.6031 - val_dense_60_mean_absolute_error: 0.7028 - val_dense_60_pcc: 0.9537 - val_dense_64_mean_absolute_error: 0.6031 - val_dense_64_pcc: 0.5615\n",
      "Epoch 182/300\n",
      "5/5 [==============================] - 0s 27ms/step - loss: 6.4608 - dense_60_loss: 0.5983 - dense_64_loss: 0.4777 - dense_60_mean_absolute_error: 0.5983 - dense_60_pcc: 0.8863 - dense_64_mean_absolute_error: 0.4777 - dense_64_pcc: 0.6019 - val_loss: 7.6339 - val_dense_60_loss: 0.7031 - val_dense_64_loss: 0.6026 - val_dense_60_mean_absolute_error: 0.7031 - val_dense_60_pcc: 0.9533 - val_dense_64_mean_absolute_error: 0.6026 - val_dense_64_pcc: 0.5629\n",
      "Epoch 183/300\n",
      "5/5 [==============================] - 0s 39ms/step - loss: 6.6850 - dense_60_loss: 0.6155 - dense_64_loss: 0.5298 - dense_60_mean_absolute_error: 0.6155 - dense_60_pcc: 0.8625 - dense_64_mean_absolute_error: 0.5298 - dense_64_pcc: 0.6330 - val_loss: 7.6327 - val_dense_60_loss: 0.7029 - val_dense_64_loss: 0.6035 - val_dense_60_mean_absolute_error: 0.7029 - val_dense_60_pcc: 0.9529 - val_dense_64_mean_absolute_error: 0.6035 - val_dense_64_pcc: 0.5708\n",
      "Epoch 184/300\n",
      "5/5 [==============================] - 0s 26ms/step - loss: 6.5618 - dense_60_loss: 0.5983 - dense_64_loss: 0.5792 - dense_60_mean_absolute_error: 0.5983 - dense_60_pcc: 0.8755 - dense_64_mean_absolute_error: 0.5792 - dense_64_pcc: 0.6608 - val_loss: 7.6319 - val_dense_60_loss: 0.7029 - val_dense_64_loss: 0.6033 - val_dense_60_mean_absolute_error: 0.7029 - val_dense_60_pcc: 0.9530 - val_dense_64_mean_absolute_error: 0.6033 - val_dense_64_pcc: 0.5675\n",
      "Epoch 185/300\n",
      "5/5 [==============================] - 0s 28ms/step - loss: 6.7012 - dense_60_loss: 0.6153 - dense_64_loss: 0.5479 - dense_60_mean_absolute_error: 0.6153 - dense_60_pcc: 0.8755 - dense_64_mean_absolute_error: 0.5479 - dense_64_pcc: 0.6357 - val_loss: 7.6310 - val_dense_60_loss: 0.7027 - val_dense_64_loss: 0.6037 - val_dense_60_mean_absolute_error: 0.7027 - val_dense_60_pcc: 0.9531 - val_dense_64_mean_absolute_error: 0.6037 - val_dense_64_pcc: 0.5662\n",
      "Epoch 186/300\n",
      "5/5 [==============================] - 0s 39ms/step - loss: 6.3629 - dense_60_loss: 0.5862 - dense_64_loss: 0.5009 - dense_60_mean_absolute_error: 0.5862 - dense_60_pcc: 0.8672 - dense_64_mean_absolute_error: 0.5009 - dense_64_pcc: 0.6291 - val_loss: 7.6346 - val_dense_60_loss: 0.7031 - val_dense_64_loss: 0.6038 - val_dense_60_mean_absolute_error: 0.7031 - val_dense_60_pcc: 0.9531 - val_dense_64_mean_absolute_error: 0.6038 - val_dense_64_pcc: 0.5688\n",
      "Epoch 187/300\n",
      "5/5 [==============================] - 0s 26ms/step - loss: 6.7582 - dense_60_loss: 0.6155 - dense_64_loss: 0.6033 - dense_60_mean_absolute_error: 0.6155 - dense_60_pcc: 0.8916 - dense_64_mean_absolute_error: 0.6033 - dense_64_pcc: 0.6724 - val_loss: 7.6336 - val_dense_60_loss: 0.7031 - val_dense_64_loss: 0.6029 - val_dense_60_mean_absolute_error: 0.7031 - val_dense_60_pcc: 0.9535 - val_dense_64_mean_absolute_error: 0.6029 - val_dense_64_pcc: 0.5644\n",
      "Epoch 188/300\n",
      "5/5 [==============================] - 0s 39ms/step - loss: 6.3956 - dense_60_loss: 0.5881 - dense_64_loss: 0.5143 - dense_60_mean_absolute_error: 0.5881 - dense_60_pcc: 0.8723 - dense_64_mean_absolute_error: 0.5143 - dense_64_pcc: 0.6575 - val_loss: 7.6362 - val_dense_60_loss: 0.7034 - val_dense_64_loss: 0.6020 - val_dense_60_mean_absolute_error: 0.7034 - val_dense_60_pcc: 0.9538 - val_dense_64_mean_absolute_error: 0.6020 - val_dense_64_pcc: 0.5624\n",
      "Epoch 189/300\n",
      "5/5 [==============================] - 0s 27ms/step - loss: 6.8356 - dense_60_loss: 0.6302 - dense_64_loss: 0.5340 - dense_60_mean_absolute_error: 0.6302 - dense_60_pcc: 0.8892 - dense_64_mean_absolute_error: 0.5340 - dense_64_pcc: 0.6447 - val_loss: 7.6361 - val_dense_60_loss: 0.7034 - val_dense_64_loss: 0.6018 - val_dense_60_mean_absolute_error: 0.7034 - val_dense_60_pcc: 0.9541 - val_dense_64_mean_absolute_error: 0.6018 - val_dense_64_pcc: 0.5671\n",
      "Epoch 190/300\n",
      "5/5 [==============================] - 0s 27ms/step - loss: 6.9035 - dense_60_loss: 0.6373 - dense_64_loss: 0.5300 - dense_60_mean_absolute_error: 0.6373 - dense_60_pcc: 0.8848 - dense_64_mean_absolute_error: 0.5300 - dense_64_pcc: 0.6474 - val_loss: 7.6351 - val_dense_60_loss: 0.7033 - val_dense_64_loss: 0.6016 - val_dense_60_mean_absolute_error: 0.7033 - val_dense_60_pcc: 0.9542 - val_dense_64_mean_absolute_error: 0.6016 - val_dense_64_pcc: 0.5690\n",
      "Epoch 191/300\n",
      "5/5 [==============================] - 0s 38ms/step - loss: 6.6561 - dense_60_loss: 0.6155 - dense_64_loss: 0.5008 - dense_60_mean_absolute_error: 0.6155 - dense_60_pcc: 0.8861 - dense_64_mean_absolute_error: 0.5008 - dense_64_pcc: 0.6322 - val_loss: 7.6372 - val_dense_60_loss: 0.7036 - val_dense_64_loss: 0.6013 - val_dense_60_mean_absolute_error: 0.7036 - val_dense_60_pcc: 0.9542 - val_dense_64_mean_absolute_error: 0.6013 - val_dense_64_pcc: 0.5685\n",
      "Epoch 192/300\n",
      "5/5 [==============================] - 0s 27ms/step - loss: 6.6989 - dense_60_loss: 0.6179 - dense_64_loss: 0.5194 - dense_60_mean_absolute_error: 0.6179 - dense_60_pcc: 0.8706 - dense_64_mean_absolute_error: 0.5194 - dense_64_pcc: 0.6487 - val_loss: 7.6379 - val_dense_60_loss: 0.7036 - val_dense_64_loss: 0.6018 - val_dense_60_mean_absolute_error: 0.7036 - val_dense_60_pcc: 0.9542 - val_dense_64_mean_absolute_error: 0.6018 - val_dense_64_pcc: 0.5700\n",
      "Epoch 193/300\n",
      "5/5 [==============================] - 0s 25ms/step - loss: 6.9632 - dense_60_loss: 0.6439 - dense_64_loss: 0.5246 - dense_60_mean_absolute_error: 0.6439 - dense_60_pcc: 0.8873 - dense_64_mean_absolute_error: 0.5246 - dense_64_pcc: 0.6448 - val_loss: 7.6350 - val_dense_60_loss: 0.7033 - val_dense_64_loss: 0.6021 - val_dense_60_mean_absolute_error: 0.7033 - val_dense_60_pcc: 0.9540 - val_dense_64_mean_absolute_error: 0.6021 - val_dense_64_pcc: 0.5681\n",
      "Epoch 194/300\n",
      "5/5 [==============================] - 0s 39ms/step - loss: 6.8393 - dense_60_loss: 0.6316 - dense_64_loss: 0.5234 - dense_60_mean_absolute_error: 0.6316 - dense_60_pcc: 0.8763 - dense_64_mean_absolute_error: 0.5234 - dense_64_pcc: 0.6500 - val_loss: 7.6362 - val_dense_60_loss: 0.7034 - val_dense_64_loss: 0.6027 - val_dense_60_mean_absolute_error: 0.7034 - val_dense_60_pcc: 0.9541 - val_dense_64_mean_absolute_error: 0.6027 - val_dense_64_pcc: 0.5662\n"
     ]
    },
    {
     "name": "stdout",
     "output_type": "stream",
     "text": [
      "Epoch 195/300\n",
      "5/5 [==============================] - 0s 27ms/step - loss: 6.7005 - dense_60_loss: 0.6140 - dense_64_loss: 0.5602 - dense_60_mean_absolute_error: 0.6140 - dense_60_pcc: 0.8801 - dense_64_mean_absolute_error: 0.5602 - dense_64_pcc: 0.6516 - val_loss: 7.6349 - val_dense_60_loss: 0.7031 - val_dense_64_loss: 0.6035 - val_dense_60_mean_absolute_error: 0.7031 - val_dense_60_pcc: 0.9541 - val_dense_64_mean_absolute_error: 0.6035 - val_dense_64_pcc: 0.5674\n",
      "Epoch 196/300\n",
      "5/5 [==============================] - 0s 40ms/step - loss: 7.0074 - dense_60_loss: 0.6460 - dense_64_loss: 0.5469 - dense_60_mean_absolute_error: 0.6460 - dense_60_pcc: 0.8936 - dense_64_mean_absolute_error: 0.5469 - dense_64_pcc: 0.6695 - val_loss: 7.6368 - val_dense_60_loss: 0.7033 - val_dense_64_loss: 0.6041 - val_dense_60_mean_absolute_error: 0.7033 - val_dense_60_pcc: 0.9542 - val_dense_64_mean_absolute_error: 0.6041 - val_dense_64_pcc: 0.5679\n",
      "Epoch 197/300\n",
      "5/5 [==============================] - 0s 29ms/step - loss: 6.7330 - dense_60_loss: 0.6202 - dense_64_loss: 0.5312 - dense_60_mean_absolute_error: 0.6202 - dense_60_pcc: 0.8616 - dense_64_mean_absolute_error: 0.5312 - dense_64_pcc: 0.6684 - val_loss: 7.6355 - val_dense_60_loss: 0.7032 - val_dense_64_loss: 0.6037 - val_dense_60_mean_absolute_error: 0.7032 - val_dense_60_pcc: 0.9539 - val_dense_64_mean_absolute_error: 0.6037 - val_dense_64_pcc: 0.5671\n",
      "Epoch 198/300\n",
      "5/5 [==============================] - 0s 26ms/step - loss: 6.8022 - dense_60_loss: 0.6279 - dense_64_loss: 0.5229 - dense_60_mean_absolute_error: 0.6279 - dense_60_pcc: 0.8757 - dense_64_mean_absolute_error: 0.5229 - dense_64_pcc: 0.6467 - val_loss: 7.6349 - val_dense_60_loss: 0.7032 - val_dense_64_loss: 0.6028 - val_dense_60_mean_absolute_error: 0.7032 - val_dense_60_pcc: 0.9537 - val_dense_64_mean_absolute_error: 0.6028 - val_dense_64_pcc: 0.5641\n",
      "Epoch 199/300\n",
      "5/5 [==============================] - 0s 39ms/step - loss: 6.4832 - dense_60_loss: 0.5944 - dense_64_loss: 0.5389 - dense_60_mean_absolute_error: 0.5944 - dense_60_pcc: 0.8549 - dense_64_mean_absolute_error: 0.5389 - dense_64_pcc: 0.6435 - val_loss: 7.6364 - val_dense_60_loss: 0.7034 - val_dense_64_loss: 0.6022 - val_dense_60_mean_absolute_error: 0.7034 - val_dense_60_pcc: 0.9533 - val_dense_64_mean_absolute_error: 0.6022 - val_dense_64_pcc: 0.5700\n",
      "Epoch 200/300\n",
      "5/5 [==============================] - 0s 25ms/step - loss: 6.9344 - dense_60_loss: 0.6368 - dense_64_loss: 0.5661 - dense_60_mean_absolute_error: 0.6368 - dense_60_pcc: 0.8816 - dense_64_mean_absolute_error: 0.5661 - dense_64_pcc: 0.6371 - val_loss: 7.6369 - val_dense_60_loss: 0.7035 - val_dense_64_loss: 0.6018 - val_dense_60_mean_absolute_error: 0.7035 - val_dense_60_pcc: 0.9530 - val_dense_64_mean_absolute_error: 0.6018 - val_dense_64_pcc: 0.5725\n",
      "Epoch 201/300\n",
      "5/5 [==============================] - 0s 27ms/step - loss: 6.8075 - dense_60_loss: 0.6268 - dense_64_loss: 0.5396 - dense_60_mean_absolute_error: 0.6268 - dense_60_pcc: 0.8662 - dense_64_mean_absolute_error: 0.5396 - dense_64_pcc: 0.6537 - val_loss: 7.6382 - val_dense_60_loss: 0.7037 - val_dense_64_loss: 0.6016 - val_dense_60_mean_absolute_error: 0.7037 - val_dense_60_pcc: 0.9527 - val_dense_64_mean_absolute_error: 0.6016 - val_dense_64_pcc: 0.5709\n",
      "Epoch 202/300\n",
      "5/5 [==============================] - 0s 39ms/step - loss: 6.6491 - dense_60_loss: 0.6124 - dense_64_loss: 0.5255 - dense_60_mean_absolute_error: 0.6124 - dense_60_pcc: 0.8877 - dense_64_mean_absolute_error: 0.5255 - dense_64_pcc: 0.6684 - val_loss: 7.6365 - val_dense_60_loss: 0.7036 - val_dense_64_loss: 0.6009 - val_dense_60_mean_absolute_error: 0.7036 - val_dense_60_pcc: 0.9528 - val_dense_64_mean_absolute_error: 0.6009 - val_dense_64_pcc: 0.5583\n",
      "Epoch 203/300\n",
      "5/5 [==============================] - 0s 27ms/step - loss: 6.6819 - dense_60_loss: 0.6163 - dense_64_loss: 0.5194 - dense_60_mean_absolute_error: 0.6163 - dense_60_pcc: 0.8814 - dense_64_mean_absolute_error: 0.5194 - dense_64_pcc: 0.6422 - val_loss: 7.6323 - val_dense_60_loss: 0.7032 - val_dense_64_loss: 0.6005 - val_dense_60_mean_absolute_error: 0.7032 - val_dense_60_pcc: 0.9528 - val_dense_64_mean_absolute_error: 0.6005 - val_dense_64_pcc: 0.5598\n",
      "Epoch 204/300\n",
      "5/5 [==============================] - 0s 40ms/step - loss: 6.7378 - dense_60_loss: 0.6208 - dense_64_loss: 0.5299 - dense_60_mean_absolute_error: 0.6208 - dense_60_pcc: 0.8968 - dense_64_mean_absolute_error: 0.5299 - dense_64_pcc: 0.6969 - val_loss: 7.6320 - val_dense_60_loss: 0.7031 - val_dense_64_loss: 0.6011 - val_dense_60_mean_absolute_error: 0.7031 - val_dense_60_pcc: 0.9529 - val_dense_64_mean_absolute_error: 0.6011 - val_dense_64_pcc: 0.5665\n",
      "Epoch 205/300\n",
      "5/5 [==============================] - 0s 26ms/step - loss: 6.6238 - dense_60_loss: 0.6063 - dense_64_loss: 0.5613 - dense_60_mean_absolute_error: 0.6063 - dense_60_pcc: 0.8357 - dense_64_mean_absolute_error: 0.5613 - dense_64_pcc: 0.6098 - val_loss: 7.6310 - val_dense_60_loss: 0.7028 - val_dense_64_loss: 0.6034 - val_dense_60_mean_absolute_error: 0.7028 - val_dense_60_pcc: 0.9530 - val_dense_64_mean_absolute_error: 0.6034 - val_dense_64_pcc: 0.5761\n",
      "Epoch 206/300\n",
      "5/5 [==============================] - 0s 25ms/step - loss: 6.7304 - dense_60_loss: 0.6209 - dense_64_loss: 0.5215 - dense_60_mean_absolute_error: 0.6209 - dense_60_pcc: 0.8733 - dense_64_mean_absolute_error: 0.5215 - dense_64_pcc: 0.6257 - val_loss: 7.6304 - val_dense_60_loss: 0.7028 - val_dense_64_loss: 0.6026 - val_dense_60_mean_absolute_error: 0.7028 - val_dense_60_pcc: 0.9528 - val_dense_64_mean_absolute_error: 0.6026 - val_dense_64_pcc: 0.5757\n",
      "Epoch 207/300\n",
      "5/5 [==============================] - 0s 40ms/step - loss: 6.7537 - dense_60_loss: 0.6216 - dense_64_loss: 0.5373 - dense_60_mean_absolute_error: 0.6216 - dense_60_pcc: 0.8915 - dense_64_mean_absolute_error: 0.5373 - dense_64_pcc: 0.6527 - val_loss: 7.6278 - val_dense_60_loss: 0.7028 - val_dense_64_loss: 0.5994 - val_dense_60_mean_absolute_error: 0.7028 - val_dense_60_pcc: 0.9526 - val_dense_64_mean_absolute_error: 0.5994 - val_dense_64_pcc: 0.5608\n",
      "Epoch 208/300\n",
      "5/5 [==============================] - 0s 26ms/step - loss: 6.5790 - dense_60_loss: 0.6056 - dense_64_loss: 0.5234 - dense_60_mean_absolute_error: 0.6056 - dense_60_pcc: 0.8736 - dense_64_mean_absolute_error: 0.5234 - dense_64_pcc: 0.6062 - val_loss: 7.6295 - val_dense_60_loss: 0.7031 - val_dense_64_loss: 0.5984 - val_dense_60_mean_absolute_error: 0.7031 - val_dense_60_pcc: 0.9527 - val_dense_64_mean_absolute_error: 0.5984 - val_dense_64_pcc: 0.5556\n",
      "Epoch 209/300\n",
      "5/5 [==============================] - 0s 27ms/step - loss: 7.0964 - dense_60_loss: 0.6587 - dense_64_loss: 0.5095 - dense_60_mean_absolute_error: 0.6587 - dense_60_pcc: 0.8903 - dense_64_mean_absolute_error: 0.5095 - dense_64_pcc: 0.6159 - val_loss: 7.6308 - val_dense_60_loss: 0.7033 - val_dense_64_loss: 0.5982 - val_dense_60_mean_absolute_error: 0.7033 - val_dense_60_pcc: 0.9529 - val_dense_64_mean_absolute_error: 0.5982 - val_dense_64_pcc: 0.5536\n",
      "Epoch 210/300\n",
      "5/5 [==============================] - 0s 39ms/step - loss: 6.7024 - dense_60_loss: 0.6177 - dense_64_loss: 0.5253 - dense_60_mean_absolute_error: 0.6177 - dense_60_pcc: 0.8717 - dense_64_mean_absolute_error: 0.5253 - dense_64_pcc: 0.6497 - val_loss: 7.6302 - val_dense_60_loss: 0.7032 - val_dense_64_loss: 0.5981 - val_dense_60_mean_absolute_error: 0.7032 - val_dense_60_pcc: 0.9529 - val_dense_64_mean_absolute_error: 0.5981 - val_dense_64_pcc: 0.5508\n",
      "Epoch 211/300\n",
      "5/5 [==============================] - 0s 27ms/step - loss: 6.6359 - dense_60_loss: 0.6135 - dense_64_loss: 0.5008 - dense_60_mean_absolute_error: 0.6135 - dense_60_pcc: 0.8668 - dense_64_mean_absolute_error: 0.5008 - dense_64_pcc: 0.6207 - val_loss: 7.6303 - val_dense_60_loss: 0.7030 - val_dense_64_loss: 0.5998 - val_dense_60_mean_absolute_error: 0.7030 - val_dense_60_pcc: 0.9531 - val_dense_64_mean_absolute_error: 0.5998 - val_dense_64_pcc: 0.5567\n",
      "Epoch 212/300\n",
      "5/5 [==============================] - 0s 41ms/step - loss: 6.7176 - dense_60_loss: 0.6209 - dense_64_loss: 0.5082 - dense_60_mean_absolute_error: 0.6209 - dense_60_pcc: 0.8764 - dense_64_mean_absolute_error: 0.5082 - dense_64_pcc: 0.6479 - val_loss: 7.6350 - val_dense_60_loss: 0.7033 - val_dense_64_loss: 0.6023 - val_dense_60_mean_absolute_error: 0.7033 - val_dense_60_pcc: 0.9533 - val_dense_64_mean_absolute_error: 0.6023 - val_dense_64_pcc: 0.5663\n",
      "Epoch 213/300\n",
      "5/5 [==============================] - 0s 27ms/step - loss: 6.7001 - dense_60_loss: 0.6181 - dense_64_loss: 0.5190 - dense_60_mean_absolute_error: 0.6181 - dense_60_pcc: 0.8592 - dense_64_mean_absolute_error: 0.5190 - dense_64_pcc: 0.5971 - val_loss: 7.6318 - val_dense_60_loss: 0.7029 - val_dense_64_loss: 0.6027 - val_dense_60_mean_absolute_error: 0.7029 - val_dense_60_pcc: 0.9533 - val_dense_64_mean_absolute_error: 0.6027 - val_dense_64_pcc: 0.5672\n",
      "Epoch 214/300\n",
      "5/5 [==============================] - 0s 25ms/step - loss: 6.5157 - dense_60_loss: 0.6003 - dense_64_loss: 0.5126 - dense_60_mean_absolute_error: 0.6003 - dense_60_pcc: 0.8766 - dense_64_mean_absolute_error: 0.5126 - dense_64_pcc: 0.6467 - val_loss: 7.6342 - val_dense_60_loss: 0.7030 - val_dense_64_loss: 0.6042 - val_dense_60_mean_absolute_error: 0.7030 - val_dense_60_pcc: 0.9535 - val_dense_64_mean_absolute_error: 0.6042 - val_dense_64_pcc: 0.5759\n",
      "Epoch 215/300\n",
      "5/5 [==============================] - 0s 39ms/step - loss: 6.5611 - dense_60_loss: 0.6011 - dense_64_loss: 0.5504 - dense_60_mean_absolute_error: 0.6011 - dense_60_pcc: 0.8684 - dense_64_mean_absolute_error: 0.5504 - dense_64_pcc: 0.6506 - val_loss: 7.6321 - val_dense_60_loss: 0.7026 - val_dense_64_loss: 0.6060 - val_dense_60_mean_absolute_error: 0.7026 - val_dense_60_pcc: 0.9536 - val_dense_64_mean_absolute_error: 0.6060 - val_dense_64_pcc: 0.5812\n",
      "Epoch 216/300\n",
      "5/5 [==============================] - 0s 26ms/step - loss: 6.7436 - dense_60_loss: 0.6202 - dense_64_loss: 0.5412 - dense_60_mean_absolute_error: 0.6202 - dense_60_pcc: 0.8876 - dense_64_mean_absolute_error: 0.5412 - dense_64_pcc: 0.6591 - val_loss: 7.6296 - val_dense_60_loss: 0.7024 - val_dense_64_loss: 0.6054 - val_dense_60_mean_absolute_error: 0.7024 - val_dense_60_pcc: 0.9539 - val_dense_64_mean_absolute_error: 0.6054 - val_dense_64_pcc: 0.5822\n",
      "Epoch 217/300\n",
      "5/5 [==============================] - 0s 27ms/step - loss: 6.6666 - dense_60_loss: 0.6158 - dense_64_loss: 0.5082 - dense_60_mean_absolute_error: 0.6158 - dense_60_pcc: 0.8772 - dense_64_mean_absolute_error: 0.5082 - dense_64_pcc: 0.6617 - val_loss: 7.6266 - val_dense_60_loss: 0.7023 - val_dense_64_loss: 0.6040 - val_dense_60_mean_absolute_error: 0.7023 - val_dense_60_pcc: 0.9541 - val_dense_64_mean_absolute_error: 0.6040 - val_dense_64_pcc: 0.5837\n",
      "Epoch 218/300\n",
      "5/5 [==============================] - 0s 40ms/step - loss: 6.6267 - dense_60_loss: 0.6075 - dense_64_loss: 0.5518 - dense_60_mean_absolute_error: 0.6075 - dense_60_pcc: 0.8683 - dense_64_mean_absolute_error: 0.5518 - dense_64_pcc: 0.6190 - val_loss: 7.6259 - val_dense_60_loss: 0.7023 - val_dense_64_loss: 0.6025 - val_dense_60_mean_absolute_error: 0.7023 - val_dense_60_pcc: 0.9545 - val_dense_64_mean_absolute_error: 0.6025 - val_dense_64_pcc: 0.5814\n",
      "Epoch 219/300\n",
      "5/5 [==============================] - 0s 27ms/step - loss: 6.4334 - dense_60_loss: 0.5932 - dense_64_loss: 0.5010 - dense_60_mean_absolute_error: 0.5932 - dense_60_pcc: 0.8609 - dense_64_mean_absolute_error: 0.5010 - dense_64_pcc: 0.6448 - val_loss: 7.6235 - val_dense_60_loss: 0.7022 - val_dense_64_loss: 0.6015 - val_dense_60_mean_absolute_error: 0.7022 - val_dense_60_pcc: 0.9547 - val_dense_64_mean_absolute_error: 0.6015 - val_dense_64_pcc: 0.5768\n",
      "Epoch 220/300\n",
      "5/5 [==============================] - 0s 26ms/step - loss: 6.6178 - dense_60_loss: 0.6093 - dense_64_loss: 0.5253 - dense_60_mean_absolute_error: 0.6093 - dense_60_pcc: 0.8731 - dense_64_mean_absolute_error: 0.5253 - dense_64_pcc: 0.6452 - val_loss: 7.6218 - val_dense_60_loss: 0.7022 - val_dense_64_loss: 0.5998 - val_dense_60_mean_absolute_error: 0.7022 - val_dense_60_pcc: 0.9551 - val_dense_64_mean_absolute_error: 0.5998 - val_dense_64_pcc: 0.5704\n",
      "Epoch 221/300\n",
      "5/5 [==============================] - 0s 26ms/step - loss: 6.7222 - dense_60_loss: 0.6150 - dense_64_loss: 0.5722 - dense_60_mean_absolute_error: 0.6150 - dense_60_pcc: 0.8650 - dense_64_mean_absolute_error: 0.5722 - dense_64_pcc: 0.6289 - val_loss: 7.6191 - val_dense_60_loss: 0.7021 - val_dense_64_loss: 0.5979 - val_dense_60_mean_absolute_error: 0.7021 - val_dense_60_pcc: 0.9552 - val_dense_64_mean_absolute_error: 0.5979 - val_dense_64_pcc: 0.5677\n",
      "Epoch 222/300\n",
      "5/5 [==============================] - 0s 28ms/step - loss: 6.5448 - dense_60_loss: 0.6040 - dense_64_loss: 0.5049 - dense_60_mean_absolute_error: 0.6040 - dense_60_pcc: 0.8638 - dense_64_mean_absolute_error: 0.5049 - dense_64_pcc: 0.6023 - val_loss: 7.6224 - val_dense_60_loss: 0.7024 - val_dense_64_loss: 0.5980 - val_dense_60_mean_absolute_error: 0.7024 - val_dense_60_pcc: 0.9550 - val_dense_64_mean_absolute_error: 0.5980 - val_dense_64_pcc: 0.5684\n",
      "Epoch 223/300\n",
      "5/5 [==============================] - 0s 36ms/step - loss: 6.3110 - dense_60_loss: 0.5826 - dense_64_loss: 0.4854 - dense_60_mean_absolute_error: 0.5826 - dense_60_pcc: 0.8502 - dense_64_mean_absolute_error: 0.4854 - dense_64_pcc: 0.6125 - val_loss: 7.6222 - val_dense_60_loss: 0.7024 - val_dense_64_loss: 0.5986 - val_dense_60_mean_absolute_error: 0.7024 - val_dense_60_pcc: 0.9550 - val_dense_64_mean_absolute_error: 0.5986 - val_dense_64_pcc: 0.5707\n",
      "Epoch 224/300\n",
      "5/5 [==============================] - 0s 25ms/step - loss: 6.5816 - dense_60_loss: 0.6065 - dense_64_loss: 0.5168 - dense_60_mean_absolute_error: 0.6065 - dense_60_pcc: 0.8441 - dense_64_mean_absolute_error: 0.5168 - dense_64_pcc: 0.5907 - val_loss: 7.6215 - val_dense_60_loss: 0.7022 - val_dense_64_loss: 0.5994 - val_dense_60_mean_absolute_error: 0.7022 - val_dense_60_pcc: 0.9550 - val_dense_64_mean_absolute_error: 0.5994 - val_dense_64_pcc: 0.5781\n",
      "Epoch 225/300\n",
      "5/5 [==============================] - 0s 26ms/step - loss: 6.7397 - dense_60_loss: 0.6189 - dense_64_loss: 0.5506 - dense_60_mean_absolute_error: 0.6189 - dense_60_pcc: 0.8779 - dense_64_mean_absolute_error: 0.5506 - dense_64_pcc: 0.6882 - val_loss: 7.6232 - val_dense_60_loss: 0.7024 - val_dense_64_loss: 0.5994 - val_dense_60_mean_absolute_error: 0.7024 - val_dense_60_pcc: 0.9548 - val_dense_64_mean_absolute_error: 0.5994 - val_dense_64_pcc: 0.5804\n",
      "Epoch 226/300\n",
      "5/5 [==============================] - 0s 42ms/step - loss: 6.7369 - dense_60_loss: 0.6229 - dense_64_loss: 0.5076 - dense_60_mean_absolute_error: 0.6229 - dense_60_pcc: 0.8781 - dense_64_mean_absolute_error: 0.5076 - dense_64_pcc: 0.6494 - val_loss: 7.6243 - val_dense_60_loss: 0.7026 - val_dense_64_loss: 0.5986 - val_dense_60_mean_absolute_error: 0.7026 - val_dense_60_pcc: 0.9549 - val_dense_64_mean_absolute_error: 0.5986 - val_dense_64_pcc: 0.5786\n",
      "Epoch 227/300\n",
      "5/5 [==============================] - 0s 26ms/step - loss: 6.7898 - dense_60_loss: 0.6300 - dense_64_loss: 0.4894 - dense_60_mean_absolute_error: 0.6300 - dense_60_pcc: 0.8842 - dense_64_mean_absolute_error: 0.4894 - dense_64_pcc: 0.6411 - val_loss: 7.6244 - val_dense_60_loss: 0.7026 - val_dense_64_loss: 0.5984 - val_dense_60_mean_absolute_error: 0.7026 - val_dense_60_pcc: 0.9552 - val_dense_64_mean_absolute_error: 0.5984 - val_dense_64_pcc: 0.5771\n",
      "Epoch 228/300\n",
      "5/5 [==============================] - 0s 42ms/step - loss: 6.5024 - dense_60_loss: 0.6025 - dense_64_loss: 0.4778 - dense_60_mean_absolute_error: 0.6025 - dense_60_pcc: 0.8741 - dense_64_mean_absolute_error: 0.4778 - dense_64_pcc: 0.6519 - val_loss: 7.6247 - val_dense_60_loss: 0.7027 - val_dense_64_loss: 0.5974 - val_dense_60_mean_absolute_error: 0.7027 - val_dense_60_pcc: 0.9557 - val_dense_64_mean_absolute_error: 0.5974 - val_dense_64_pcc: 0.5728\n",
      "Epoch 229/300\n",
      "5/5 [==============================] - 0s 44ms/step - loss: 6.6289 - dense_60_loss: 0.6122 - dense_64_loss: 0.5068 - dense_60_mean_absolute_error: 0.6122 - dense_60_pcc: 0.8651 - dense_64_mean_absolute_error: 0.5068 - dense_64_pcc: 0.6300 - val_loss: 7.6236 - val_dense_60_loss: 0.7027 - val_dense_64_loss: 0.5966 - val_dense_60_mean_absolute_error: 0.7027 - val_dense_60_pcc: 0.9560 - val_dense_64_mean_absolute_error: 0.5966 - val_dense_64_pcc: 0.5689\n"
     ]
    },
    {
     "name": "stdout",
     "output_type": "stream",
     "text": [
      "Epoch 230/300\n",
      "5/5 [==============================] - 0s 27ms/step - loss: 6.7121 - dense_60_loss: 0.6132 - dense_64_loss: 0.5798 - dense_60_mean_absolute_error: 0.6132 - dense_60_pcc: 0.8742 - dense_64_mean_absolute_error: 0.5798 - dense_64_pcc: 0.6660 - val_loss: 7.6191 - val_dense_60_loss: 0.7022 - val_dense_64_loss: 0.5968 - val_dense_60_mean_absolute_error: 0.7022 - val_dense_60_pcc: 0.9559 - val_dense_64_mean_absolute_error: 0.5968 - val_dense_64_pcc: 0.5673\n",
      "Epoch 231/300\n",
      "5/5 [==============================] - 0s 39ms/step - loss: 6.8206 - dense_60_loss: 0.6285 - dense_64_loss: 0.5360 - dense_60_mean_absolute_error: 0.6285 - dense_60_pcc: 0.8880 - dense_64_mean_absolute_error: 0.5360 - dense_64_pcc: 0.6276 - val_loss: 7.6189 - val_dense_60_loss: 0.7022 - val_dense_64_loss: 0.5968 - val_dense_60_mean_absolute_error: 0.7022 - val_dense_60_pcc: 0.9558 - val_dense_64_mean_absolute_error: 0.5968 - val_dense_64_pcc: 0.5693\n",
      "Epoch 232/300\n",
      "5/5 [==============================] - 0s 26ms/step - loss: 6.6853 - dense_60_loss: 0.6163 - dense_64_loss: 0.5227 - dense_60_mean_absolute_error: 0.6163 - dense_60_pcc: 0.8780 - dense_64_mean_absolute_error: 0.5227 - dense_64_pcc: 0.6267 - val_loss: 7.6187 - val_dense_60_loss: 0.7022 - val_dense_64_loss: 0.5966 - val_dense_60_mean_absolute_error: 0.7022 - val_dense_60_pcc: 0.9558 - val_dense_64_mean_absolute_error: 0.5966 - val_dense_64_pcc: 0.5683\n",
      "Epoch 233/300\n",
      "5/5 [==============================] - 0s 25ms/step - loss: 6.8650 - dense_60_loss: 0.6285 - dense_64_loss: 0.5801 - dense_60_mean_absolute_error: 0.6285 - dense_60_pcc: 0.8599 - dense_64_mean_absolute_error: 0.5801 - dense_64_pcc: 0.6178 - val_loss: 7.6153 - val_dense_60_loss: 0.7021 - val_dense_64_loss: 0.5946 - val_dense_60_mean_absolute_error: 0.7021 - val_dense_60_pcc: 0.9556 - val_dense_64_mean_absolute_error: 0.5946 - val_dense_64_pcc: 0.5595\n",
      "Epoch 234/300\n",
      "5/5 [==============================] - 0s 41ms/step - loss: 6.2846 - dense_60_loss: 0.5795 - dense_64_loss: 0.4894 - dense_60_mean_absolute_error: 0.5795 - dense_60_pcc: 0.8562 - dense_64_mean_absolute_error: 0.4894 - dense_64_pcc: 0.6608 - val_loss: 7.6160 - val_dense_60_loss: 0.7024 - val_dense_64_loss: 0.5924 - val_dense_60_mean_absolute_error: 0.7024 - val_dense_60_pcc: 0.9548 - val_dense_64_mean_absolute_error: 0.5924 - val_dense_64_pcc: 0.5518\n",
      "Epoch 235/300\n",
      "5/5 [==============================] - 0s 26ms/step - loss: 6.7750 - dense_60_loss: 0.6250 - dense_64_loss: 0.5246 - dense_60_mean_absolute_error: 0.6250 - dense_60_pcc: 0.8823 - dense_64_mean_absolute_error: 0.5246 - dense_64_pcc: 0.6430 - val_loss: 7.6153 - val_dense_60_loss: 0.7024 - val_dense_64_loss: 0.5916 - val_dense_60_mean_absolute_error: 0.7024 - val_dense_60_pcc: 0.9549 - val_dense_64_mean_absolute_error: 0.5916 - val_dense_64_pcc: 0.5557\n",
      "Epoch 236/300\n",
      "5/5 [==============================] - 0s 27ms/step - loss: 6.3857 - dense_60_loss: 0.5869 - dense_64_loss: 0.5167 - dense_60_mean_absolute_error: 0.5869 - dense_60_pcc: 0.8556 - dense_64_mean_absolute_error: 0.5167 - dense_64_pcc: 0.6353 - val_loss: 7.6169 - val_dense_60_loss: 0.7026 - val_dense_64_loss: 0.5906 - val_dense_60_mean_absolute_error: 0.7026 - val_dense_60_pcc: 0.9545 - val_dense_64_mean_absolute_error: 0.5906 - val_dense_64_pcc: 0.5548\n",
      "Epoch 237/300\n",
      "5/5 [==============================] - 0s 42ms/step - loss: 6.8393 - dense_60_loss: 0.6307 - dense_64_loss: 0.5321 - dense_60_mean_absolute_error: 0.6307 - dense_60_pcc: 0.8858 - dense_64_mean_absolute_error: 0.5321 - dense_64_pcc: 0.6779 - val_loss: 7.6158 - val_dense_60_loss: 0.7024 - val_dense_64_loss: 0.5914 - val_dense_60_mean_absolute_error: 0.7024 - val_dense_60_pcc: 0.9545 - val_dense_64_mean_absolute_error: 0.5914 - val_dense_64_pcc: 0.5546\n",
      "Epoch 238/300\n",
      "5/5 [==============================] - 0s 26ms/step - loss: 6.9060 - dense_60_loss: 0.6369 - dense_64_loss: 0.5366 - dense_60_mean_absolute_error: 0.6369 - dense_60_pcc: 0.8923 - dense_64_mean_absolute_error: 0.5366 - dense_64_pcc: 0.6581 - val_loss: 7.6182 - val_dense_60_loss: 0.7026 - val_dense_64_loss: 0.5920 - val_dense_60_mean_absolute_error: 0.7026 - val_dense_60_pcc: 0.9544 - val_dense_64_mean_absolute_error: 0.5920 - val_dense_64_pcc: 0.5540\n",
      "Epoch 239/300\n",
      "5/5 [==============================] - 0s 39ms/step - loss: 6.5896 - dense_60_loss: 0.6051 - dense_64_loss: 0.5383 - dense_60_mean_absolute_error: 0.6051 - dense_60_pcc: 0.8522 - dense_64_mean_absolute_error: 0.5383 - dense_64_pcc: 0.6305 - val_loss: 7.6167 - val_dense_60_loss: 0.7025 - val_dense_64_loss: 0.5919 - val_dense_60_mean_absolute_error: 0.7025 - val_dense_60_pcc: 0.9543 - val_dense_64_mean_absolute_error: 0.5919 - val_dense_64_pcc: 0.5552\n",
      "Epoch 240/300\n",
      "5/5 [==============================] - 0s 29ms/step - loss: 6.6418 - dense_60_loss: 0.6062 - dense_64_loss: 0.5803 - dense_60_mean_absolute_error: 0.6062 - dense_60_pcc: 0.8568 - dense_64_mean_absolute_error: 0.5803 - dense_64_pcc: 0.6435 - val_loss: 7.6154 - val_dense_60_loss: 0.7023 - val_dense_64_loss: 0.5923 - val_dense_60_mean_absolute_error: 0.7023 - val_dense_60_pcc: 0.9542 - val_dense_64_mean_absolute_error: 0.5923 - val_dense_64_pcc: 0.5549\n",
      "Epoch 241/300\n",
      "5/5 [==============================] - 0s 27ms/step - loss: 6.1962 - dense_60_loss: 0.5718 - dense_64_loss: 0.4778 - dense_60_mean_absolute_error: 0.5718 - dense_60_pcc: 0.8248 - dense_64_mean_absolute_error: 0.4778 - dense_64_pcc: 0.5786 - val_loss: 7.6153 - val_dense_60_loss: 0.7022 - val_dense_64_loss: 0.5932 - val_dense_60_mean_absolute_error: 0.7022 - val_dense_60_pcc: 0.9541 - val_dense_64_mean_absolute_error: 0.5932 - val_dense_64_pcc: 0.5560\n",
      "Epoch 242/300\n",
      "5/5 [==============================] - 0s 36ms/step - loss: 6.5347 - dense_60_loss: 0.6010 - dense_64_loss: 0.5242 - dense_60_mean_absolute_error: 0.6010 - dense_60_pcc: 0.8619 - dense_64_mean_absolute_error: 0.5242 - dense_64_pcc: 0.6206 - val_loss: 7.6139 - val_dense_60_loss: 0.7021 - val_dense_64_loss: 0.5929 - val_dense_60_mean_absolute_error: 0.7021 - val_dense_60_pcc: 0.9539 - val_dense_64_mean_absolute_error: 0.5929 - val_dense_64_pcc: 0.5569\n",
      "Epoch 243/300\n",
      "5/5 [==============================] - 0s 27ms/step - loss: 6.5503 - dense_60_loss: 0.6040 - dense_64_loss: 0.5107 - dense_60_mean_absolute_error: 0.6040 - dense_60_pcc: 0.8492 - dense_64_mean_absolute_error: 0.5107 - dense_64_pcc: 0.5959 - val_loss: 7.6126 - val_dense_60_loss: 0.7020 - val_dense_64_loss: 0.5931 - val_dense_60_mean_absolute_error: 0.7020 - val_dense_60_pcc: 0.9539 - val_dense_64_mean_absolute_error: 0.5931 - val_dense_64_pcc: 0.5579\n",
      "Epoch 244/300\n",
      "5/5 [==============================] - 0s 37ms/step - loss: 6.6331 - dense_60_loss: 0.6119 - dense_64_loss: 0.5139 - dense_60_mean_absolute_error: 0.6119 - dense_60_pcc: 0.8674 - dense_64_mean_absolute_error: 0.5139 - dense_64_pcc: 0.5890 - val_loss: 7.6096 - val_dense_60_loss: 0.7016 - val_dense_64_loss: 0.5933 - val_dense_60_mean_absolute_error: 0.7016 - val_dense_60_pcc: 0.9539 - val_dense_64_mean_absolute_error: 0.5933 - val_dense_64_pcc: 0.5567\n",
      "Epoch 245/300\n",
      "5/5 [==============================] - 0s 27ms/step - loss: 6.2832 - dense_60_loss: 0.5770 - dense_64_loss: 0.5137 - dense_60_mean_absolute_error: 0.5770 - dense_60_pcc: 0.8318 - dense_64_mean_absolute_error: 0.5137 - dense_64_pcc: 0.5949 - val_loss: 7.6076 - val_dense_60_loss: 0.7015 - val_dense_64_loss: 0.5929 - val_dense_60_mean_absolute_error: 0.7015 - val_dense_60_pcc: 0.9540 - val_dense_64_mean_absolute_error: 0.5929 - val_dense_64_pcc: 0.5568\n",
      "Epoch 246/300\n",
      "5/5 [==============================] - 0s 27ms/step - loss: 6.8081 - dense_60_loss: 0.6263 - dense_64_loss: 0.5446 - dense_60_mean_absolute_error: 0.6263 - dense_60_pcc: 0.8735 - dense_64_mean_absolute_error: 0.5446 - dense_64_pcc: 0.6489 - val_loss: 7.6054 - val_dense_60_loss: 0.7013 - val_dense_64_loss: 0.5921 - val_dense_60_mean_absolute_error: 0.7013 - val_dense_60_pcc: 0.9541 - val_dense_64_mean_absolute_error: 0.5921 - val_dense_64_pcc: 0.5564\n",
      "Epoch 247/300\n",
      "5/5 [==============================] - 0s 39ms/step - loss: 6.3620 - dense_60_loss: 0.5867 - dense_64_loss: 0.4949 - dense_60_mean_absolute_error: 0.5867 - dense_60_pcc: 0.8665 - dense_64_mean_absolute_error: 0.4949 - dense_64_pcc: 0.6297 - val_loss: 7.6025 - val_dense_60_loss: 0.7011 - val_dense_64_loss: 0.5915 - val_dense_60_mean_absolute_error: 0.7011 - val_dense_60_pcc: 0.9543 - val_dense_64_mean_absolute_error: 0.5915 - val_dense_64_pcc: 0.5549\n",
      "Epoch 248/300\n",
      "5/5 [==============================] - 0s 26ms/step - loss: 6.4709 - dense_60_loss: 0.5969 - dense_64_loss: 0.5014 - dense_60_mean_absolute_error: 0.5969 - dense_60_pcc: 0.8657 - dense_64_mean_absolute_error: 0.5014 - dense_64_pcc: 0.6435 - val_loss: 7.6020 - val_dense_60_loss: 0.7010 - val_dense_64_loss: 0.5920 - val_dense_60_mean_absolute_error: 0.7010 - val_dense_60_pcc: 0.9542 - val_dense_64_mean_absolute_error: 0.5920 - val_dense_64_pcc: 0.5555\n",
      "Epoch 249/300\n",
      "5/5 [==============================] - 0s 26ms/step - loss: 6.9723 - dense_60_loss: 0.6416 - dense_64_loss: 0.5564 - dense_60_mean_absolute_error: 0.6416 - dense_60_pcc: 0.8721 - dense_64_mean_absolute_error: 0.5564 - dense_64_pcc: 0.6403 - val_loss: 7.6036 - val_dense_60_loss: 0.7011 - val_dense_64_loss: 0.5924 - val_dense_60_mean_absolute_error: 0.7011 - val_dense_60_pcc: 0.9547 - val_dense_64_mean_absolute_error: 0.5924 - val_dense_64_pcc: 0.5562\n",
      "Epoch 250/300\n",
      "5/5 [==============================] - 0s 40ms/step - loss: 6.5979 - dense_60_loss: 0.6086 - dense_64_loss: 0.5120 - dense_60_mean_absolute_error: 0.6086 - dense_60_pcc: 0.8539 - dense_64_mean_absolute_error: 0.5120 - dense_64_pcc: 0.6172 - val_loss: 7.6055 - val_dense_60_loss: 0.7013 - val_dense_64_loss: 0.5928 - val_dense_60_mean_absolute_error: 0.7013 - val_dense_60_pcc: 0.9550 - val_dense_64_mean_absolute_error: 0.5928 - val_dense_64_pcc: 0.5558\n",
      "Epoch 251/300\n",
      "5/5 [==============================] - 0s 27ms/step - loss: 6.3781 - dense_60_loss: 0.5830 - dense_64_loss: 0.5484 - dense_60_mean_absolute_error: 0.5830 - dense_60_pcc: 0.8588 - dense_64_mean_absolute_error: 0.5484 - dense_64_pcc: 0.6385 - val_loss: 7.6086 - val_dense_60_loss: 0.7015 - val_dense_64_loss: 0.5933 - val_dense_60_mean_absolute_error: 0.7015 - val_dense_60_pcc: 0.9550 - val_dense_64_mean_absolute_error: 0.5933 - val_dense_64_pcc: 0.5532\n",
      "Epoch 252/300\n",
      "5/5 [==============================] - 0s 40ms/step - loss: 6.7387 - dense_60_loss: 0.6194 - dense_64_loss: 0.5446 - dense_60_mean_absolute_error: 0.6194 - dense_60_pcc: 0.8694 - dense_64_mean_absolute_error: 0.5446 - dense_64_pcc: 0.6151 - val_loss: 7.6111 - val_dense_60_loss: 0.7017 - val_dense_64_loss: 0.5941 - val_dense_60_mean_absolute_error: 0.7017 - val_dense_60_pcc: 0.9553 - val_dense_64_mean_absolute_error: 0.5941 - val_dense_64_pcc: 0.5550\n",
      "Epoch 253/300\n",
      "5/5 [==============================] - 0s 26ms/step - loss: 6.3129 - dense_60_loss: 0.5825 - dense_64_loss: 0.4880 - dense_60_mean_absolute_error: 0.5825 - dense_60_pcc: 0.8514 - dense_64_mean_absolute_error: 0.4880 - dense_64_pcc: 0.5894 - val_loss: 7.6141 - val_dense_60_loss: 0.7019 - val_dense_64_loss: 0.5947 - val_dense_60_mean_absolute_error: 0.7019 - val_dense_60_pcc: 0.9550 - val_dense_64_mean_absolute_error: 0.5947 - val_dense_64_pcc: 0.5570\n",
      "Epoch 254/300\n",
      "5/5 [==============================] - 0s 27ms/step - loss: 6.5133 - dense_60_loss: 0.5975 - dense_64_loss: 0.5388 - dense_60_mean_absolute_error: 0.5975 - dense_60_pcc: 0.8352 - dense_64_mean_absolute_error: 0.5388 - dense_64_pcc: 0.6204 - val_loss: 7.6155 - val_dense_60_loss: 0.7020 - val_dense_64_loss: 0.5953 - val_dense_60_mean_absolute_error: 0.7020 - val_dense_60_pcc: 0.9548 - val_dense_64_mean_absolute_error: 0.5953 - val_dense_64_pcc: 0.5589\n",
      "Epoch 255/300\n",
      "5/5 [==============================] - 0s 38ms/step - loss: 6.4464 - dense_60_loss: 0.5919 - dense_64_loss: 0.5277 - dense_60_mean_absolute_error: 0.5919 - dense_60_pcc: 0.8327 - dense_64_mean_absolute_error: 0.5277 - dense_64_pcc: 0.6165 - val_loss: 7.6171 - val_dense_60_loss: 0.7022 - val_dense_64_loss: 0.5950 - val_dense_60_mean_absolute_error: 0.7022 - val_dense_60_pcc: 0.9544 - val_dense_64_mean_absolute_error: 0.5950 - val_dense_64_pcc: 0.5610\n",
      "Epoch 256/300\n",
      "5/5 [==============================] - 0s 27ms/step - loss: 6.8167 - dense_60_loss: 0.6326 - dense_64_loss: 0.4904 - dense_60_mean_absolute_error: 0.6326 - dense_60_pcc: 0.8806 - dense_64_mean_absolute_error: 0.4904 - dense_64_pcc: 0.6682 - val_loss: 7.6219 - val_dense_60_loss: 0.7027 - val_dense_64_loss: 0.5946 - val_dense_60_mean_absolute_error: 0.7027 - val_dense_60_pcc: 0.9543 - val_dense_64_mean_absolute_error: 0.5946 - val_dense_64_pcc: 0.5611\n",
      "Epoch 257/300\n",
      "5/5 [==============================] - 0s 40ms/step - loss: 6.7345 - dense_60_loss: 0.6230 - dense_64_loss: 0.5045 - dense_60_mean_absolute_error: 0.6230 - dense_60_pcc: 0.8544 - dense_64_mean_absolute_error: 0.5045 - dense_64_pcc: 0.6009 - val_loss: 7.6215 - val_dense_60_loss: 0.7027 - val_dense_64_loss: 0.5941 - val_dense_60_mean_absolute_error: 0.7027 - val_dense_60_pcc: 0.9544 - val_dense_64_mean_absolute_error: 0.5941 - val_dense_64_pcc: 0.5616\n",
      "Epoch 258/300\n",
      "5/5 [==============================] - 0s 44ms/step - loss: 6.6048 - dense_60_loss: 0.6091 - dense_64_loss: 0.5138 - dense_60_mean_absolute_error: 0.6091 - dense_60_pcc: 0.8564 - dense_64_mean_absolute_error: 0.5138 - dense_64_pcc: 0.6190 - val_loss: 7.6204 - val_dense_60_loss: 0.7026 - val_dense_64_loss: 0.5942 - val_dense_60_mean_absolute_error: 0.7026 - val_dense_60_pcc: 0.9546 - val_dense_64_mean_absolute_error: 0.5942 - val_dense_64_pcc: 0.5627\n",
      "Epoch 259/300\n",
      "5/5 [==============================] - 0s 24ms/step - loss: 6.5859 - dense_60_loss: 0.6055 - dense_64_loss: 0.5307 - dense_60_mean_absolute_error: 0.6055 - dense_60_pcc: 0.8468 - dense_64_mean_absolute_error: 0.5307 - dense_64_pcc: 0.6099 - val_loss: 7.6183 - val_dense_60_loss: 0.7024 - val_dense_64_loss: 0.5945 - val_dense_60_mean_absolute_error: 0.7024 - val_dense_60_pcc: 0.9546 - val_dense_64_mean_absolute_error: 0.5945 - val_dense_64_pcc: 0.5627\n",
      "Epoch 260/300\n",
      "5/5 [==============================] - 0s 42ms/step - loss: 6.6156 - dense_60_loss: 0.6111 - dense_64_loss: 0.5049 - dense_60_mean_absolute_error: 0.6111 - dense_60_pcc: 0.8669 - dense_64_mean_absolute_error: 0.5049 - dense_64_pcc: 0.6065 - val_loss: 7.6187 - val_dense_60_loss: 0.7024 - val_dense_64_loss: 0.5950 - val_dense_60_mean_absolute_error: 0.7024 - val_dense_60_pcc: 0.9545 - val_dense_64_mean_absolute_error: 0.5950 - val_dense_64_pcc: 0.5641\n",
      "Epoch 261/300\n",
      "5/5 [==============================] - 0s 27ms/step - loss: 6.9312 - dense_60_loss: 0.6420 - dense_64_loss: 0.5111 - dense_60_mean_absolute_error: 0.6420 - dense_60_pcc: 0.8944 - dense_64_mean_absolute_error: 0.5111 - dense_64_pcc: 0.6675 - val_loss: 7.6183 - val_dense_60_loss: 0.7023 - val_dense_64_loss: 0.5953 - val_dense_60_mean_absolute_error: 0.7023 - val_dense_60_pcc: 0.9547 - val_dense_64_mean_absolute_error: 0.5953 - val_dense_64_pcc: 0.5654\n",
      "Epoch 262/300\n",
      "5/5 [==============================] - 0s 26ms/step - loss: 6.7270 - dense_60_loss: 0.6216 - dense_64_loss: 0.5108 - dense_60_mean_absolute_error: 0.6216 - dense_60_pcc: 0.8785 - dense_64_mean_absolute_error: 0.5108 - dense_64_pcc: 0.6399 - val_loss: 7.6186 - val_dense_60_loss: 0.7025 - val_dense_64_loss: 0.5936 - val_dense_60_mean_absolute_error: 0.7025 - val_dense_60_pcc: 0.9550 - val_dense_64_mean_absolute_error: 0.5936 - val_dense_64_pcc: 0.5598\n",
      "Epoch 263/300\n",
      "5/5 [==============================] - 0s 37ms/step - loss: 6.7468 - dense_60_loss: 0.6261 - dense_64_loss: 0.4855 - dense_60_mean_absolute_error: 0.6261 - dense_60_pcc: 0.8776 - dense_64_mean_absolute_error: 0.4855 - dense_64_pcc: 0.6351 - val_loss: 7.6195 - val_dense_60_loss: 0.7026 - val_dense_64_loss: 0.5934 - val_dense_60_mean_absolute_error: 0.7026 - val_dense_60_pcc: 0.9551 - val_dense_64_mean_absolute_error: 0.5934 - val_dense_64_pcc: 0.5599\n",
      "Epoch 264/300\n",
      "5/5 [==============================] - 0s 27ms/step - loss: 6.8124 - dense_60_loss: 0.6262 - dense_64_loss: 0.5508 - dense_60_mean_absolute_error: 0.6262 - dense_60_pcc: 0.8705 - dense_64_mean_absolute_error: 0.5508 - dense_64_pcc: 0.6221 - val_loss: 7.6188 - val_dense_60_loss: 0.7026 - val_dense_64_loss: 0.5927 - val_dense_60_mean_absolute_error: 0.7026 - val_dense_60_pcc: 0.9554 - val_dense_64_mean_absolute_error: 0.5927 - val_dense_64_pcc: 0.5610\n"
     ]
    },
    {
     "name": "stdout",
     "output_type": "stream",
     "text": [
      "Epoch 265/300\n",
      "5/5 [==============================] - 0s 25ms/step - loss: 6.6003 - dense_60_loss: 0.6135 - dense_64_loss: 0.4656 - dense_60_mean_absolute_error: 0.6135 - dense_60_pcc: 0.8781 - dense_64_mean_absolute_error: 0.4656 - dense_64_pcc: 0.6196 - val_loss: 7.6208 - val_dense_60_loss: 0.7029 - val_dense_64_loss: 0.5922 - val_dense_60_mean_absolute_error: 0.7029 - val_dense_60_pcc: 0.9553 - val_dense_64_mean_absolute_error: 0.5922 - val_dense_64_pcc: 0.5618\n",
      "Epoch 266/300\n",
      "5/5 [==============================] - 0s 38ms/step - loss: 6.8390 - dense_60_loss: 0.6290 - dense_64_loss: 0.5487 - dense_60_mean_absolute_error: 0.6290 - dense_60_pcc: 0.8591 - dense_64_mean_absolute_error: 0.5487 - dense_64_pcc: 0.6066 - val_loss: 7.6177 - val_dense_60_loss: 0.7025 - val_dense_64_loss: 0.5929 - val_dense_60_mean_absolute_error: 0.7025 - val_dense_60_pcc: 0.9553 - val_dense_64_mean_absolute_error: 0.5929 - val_dense_64_pcc: 0.5639\n",
      "Epoch 267/300\n",
      "5/5 [==============================] - 0s 26ms/step - loss: 6.8214 - dense_60_loss: 0.6274 - dense_64_loss: 0.5469 - dense_60_mean_absolute_error: 0.6274 - dense_60_pcc: 0.8579 - dense_64_mean_absolute_error: 0.5469 - dense_64_pcc: 0.6162 - val_loss: 7.6149 - val_dense_60_loss: 0.7022 - val_dense_64_loss: 0.5932 - val_dense_60_mean_absolute_error: 0.7022 - val_dense_60_pcc: 0.9553 - val_dense_64_mean_absolute_error: 0.5932 - val_dense_64_pcc: 0.5644\n",
      "Epoch 268/300\n",
      "5/5 [==============================] - 0s 41ms/step - loss: 6.5708 - dense_60_loss: 0.6043 - dense_64_loss: 0.5273 - dense_60_mean_absolute_error: 0.6043 - dense_60_pcc: 0.8688 - dense_64_mean_absolute_error: 0.5273 - dense_64_pcc: 0.6495 - val_loss: 7.6137 - val_dense_60_loss: 0.7021 - val_dense_64_loss: 0.5928 - val_dense_60_mean_absolute_error: 0.7021 - val_dense_60_pcc: 0.9549 - val_dense_64_mean_absolute_error: 0.5928 - val_dense_64_pcc: 0.5628\n",
      "Epoch 269/300\n",
      "5/5 [==============================] - 0s 27ms/step - loss: 6.6208 - dense_60_loss: 0.6121 - dense_64_loss: 0.4993 - dense_60_mean_absolute_error: 0.6121 - dense_60_pcc: 0.8716 - dense_64_mean_absolute_error: 0.4993 - dense_64_pcc: 0.6190 - val_loss: 7.6158 - val_dense_60_loss: 0.7022 - val_dense_64_loss: 0.5940 - val_dense_60_mean_absolute_error: 0.7022 - val_dense_60_pcc: 0.9548 - val_dense_64_mean_absolute_error: 0.5940 - val_dense_64_pcc: 0.5634\n",
      "Epoch 270/300\n",
      "5/5 [==============================] - 0s 28ms/step - loss: 6.5318 - dense_60_loss: 0.6007 - dense_64_loss: 0.5248 - dense_60_mean_absolute_error: 0.6007 - dense_60_pcc: 0.8541 - dense_64_mean_absolute_error: 0.5248 - dense_64_pcc: 0.6225 - val_loss: 7.6176 - val_dense_60_loss: 0.7022 - val_dense_64_loss: 0.5952 - val_dense_60_mean_absolute_error: 0.7022 - val_dense_60_pcc: 0.9547 - val_dense_64_mean_absolute_error: 0.5952 - val_dense_64_pcc: 0.5646\n",
      "Epoch 271/300\n",
      "5/5 [==============================] - 0s 35ms/step - loss: 6.4901 - dense_60_loss: 0.5984 - dense_64_loss: 0.5066 - dense_60_mean_absolute_error: 0.5984 - dense_60_pcc: 0.8571 - dense_64_mean_absolute_error: 0.5066 - dense_64_pcc: 0.6072 - val_loss: 7.6158 - val_dense_60_loss: 0.7021 - val_dense_64_loss: 0.5944 - val_dense_60_mean_absolute_error: 0.7021 - val_dense_60_pcc: 0.9549 - val_dense_64_mean_absolute_error: 0.5944 - val_dense_64_pcc: 0.5616\n",
      "Epoch 272/300\n",
      "5/5 [==============================] - 0s 27ms/step - loss: 6.9533 - dense_60_loss: 0.6437 - dense_64_loss: 0.5163 - dense_60_mean_absolute_error: 0.6437 - dense_60_pcc: 0.8828 - dense_64_mean_absolute_error: 0.5163 - dense_64_pcc: 0.6336 - val_loss: 7.6128 - val_dense_60_loss: 0.7020 - val_dense_64_loss: 0.5932 - val_dense_60_mean_absolute_error: 0.7020 - val_dense_60_pcc: 0.9546 - val_dense_64_mean_absolute_error: 0.5932 - val_dense_64_pcc: 0.5576\n",
      "Epoch 273/300\n",
      "5/5 [==============================] - 0s 26ms/step - loss: 6.6790 - dense_60_loss: 0.6199 - dense_64_loss: 0.4795 - dense_60_mean_absolute_error: 0.6199 - dense_60_pcc: 0.8765 - dense_64_mean_absolute_error: 0.4795 - dense_64_pcc: 0.6385 - val_loss: 7.6114 - val_dense_60_loss: 0.7020 - val_dense_64_loss: 0.5916 - val_dense_60_mean_absolute_error: 0.7020 - val_dense_60_pcc: 0.9551 - val_dense_64_mean_absolute_error: 0.5916 - val_dense_64_pcc: 0.5528\n",
      "Epoch 274/300\n",
      "5/5 [==============================] - 0s 39ms/step - loss: 6.5112 - dense_60_loss: 0.5963 - dense_64_loss: 0.5477 - dense_60_mean_absolute_error: 0.5963 - dense_60_pcc: 0.8317 - dense_64_mean_absolute_error: 0.5477 - dense_64_pcc: 0.6075 - val_loss: 7.6084 - val_dense_60_loss: 0.7018 - val_dense_64_loss: 0.5909 - val_dense_60_mean_absolute_error: 0.7018 - val_dense_60_pcc: 0.9551 - val_dense_64_mean_absolute_error: 0.5909 - val_dense_64_pcc: 0.5516\n",
      "Epoch 275/300\n",
      "5/5 [==============================] - 0s 26ms/step - loss: 6.1881 - dense_60_loss: 0.5689 - dense_64_loss: 0.4993 - dense_60_mean_absolute_error: 0.5689 - dense_60_pcc: 0.8279 - dense_64_mean_absolute_error: 0.4993 - dense_64_pcc: 0.6238 - val_loss: 7.6083 - val_dense_60_loss: 0.7017 - val_dense_64_loss: 0.5912 - val_dense_60_mean_absolute_error: 0.7017 - val_dense_60_pcc: 0.9547 - val_dense_64_mean_absolute_error: 0.5912 - val_dense_64_pcc: 0.5529\n",
      "Epoch 276/300\n",
      "5/5 [==============================] - 0s 39ms/step - loss: 6.7808 - dense_60_loss: 0.6254 - dense_64_loss: 0.5265 - dense_60_mean_absolute_error: 0.6254 - dense_60_pcc: 0.8780 - dense_64_mean_absolute_error: 0.5265 - dense_64_pcc: 0.6166 - val_loss: 7.6111 - val_dense_60_loss: 0.7019 - val_dense_64_loss: 0.5918 - val_dense_60_mean_absolute_error: 0.7019 - val_dense_60_pcc: 0.9548 - val_dense_64_mean_absolute_error: 0.5918 - val_dense_64_pcc: 0.5538\n",
      "Epoch 277/300\n",
      "5/5 [==============================] - 0s 26ms/step - loss: 6.3840 - dense_60_loss: 0.5903 - dense_64_loss: 0.4809 - dense_60_mean_absolute_error: 0.5903 - dense_60_pcc: 0.8633 - dense_64_mean_absolute_error: 0.4809 - dense_64_pcc: 0.6386 - val_loss: 7.6125 - val_dense_60_loss: 0.7021 - val_dense_64_loss: 0.5919 - val_dense_60_mean_absolute_error: 0.7021 - val_dense_60_pcc: 0.9547 - val_dense_64_mean_absolute_error: 0.5919 - val_dense_64_pcc: 0.5538\n",
      "Epoch 278/300\n",
      "5/5 [==============================] - 0s 29ms/step - loss: 6.5854 - dense_60_loss: 0.6081 - dense_64_loss: 0.5040 - dense_60_mean_absolute_error: 0.6081 - dense_60_pcc: 0.8627 - dense_64_mean_absolute_error: 0.5040 - dense_64_pcc: 0.6023 - val_loss: 7.6110 - val_dense_60_loss: 0.7020 - val_dense_64_loss: 0.5914 - val_dense_60_mean_absolute_error: 0.7020 - val_dense_60_pcc: 0.9544 - val_dense_64_mean_absolute_error: 0.5914 - val_dense_64_pcc: 0.5524\n",
      "Epoch 279/300\n",
      "5/5 [==============================] - 0s 37ms/step - loss: 6.7345 - dense_60_loss: 0.6208 - dense_64_loss: 0.5264 - dense_60_mean_absolute_error: 0.6208 - dense_60_pcc: 0.8671 - dense_64_mean_absolute_error: 0.5264 - dense_64_pcc: 0.6098 - val_loss: 7.6079 - val_dense_60_loss: 0.7017 - val_dense_64_loss: 0.5909 - val_dense_60_mean_absolute_error: 0.7017 - val_dense_60_pcc: 0.9543 - val_dense_64_mean_absolute_error: 0.5909 - val_dense_64_pcc: 0.5530\n",
      "Epoch 280/300\n",
      "5/5 [==============================] - 0s 26ms/step - loss: 6.7049 - dense_60_loss: 0.6169 - dense_64_loss: 0.5362 - dense_60_mean_absolute_error: 0.6169 - dense_60_pcc: 0.8666 - dense_64_mean_absolute_error: 0.5362 - dense_64_pcc: 0.6530 - val_loss: 7.6088 - val_dense_60_loss: 0.7018 - val_dense_64_loss: 0.5908 - val_dense_60_mean_absolute_error: 0.7018 - val_dense_60_pcc: 0.9546 - val_dense_64_mean_absolute_error: 0.5908 - val_dense_64_pcc: 0.5527\n",
      "Epoch 281/300\n",
      "5/5 [==============================] - 0s 28ms/step - loss: 6.5726 - dense_60_loss: 0.6074 - dense_64_loss: 0.4987 - dense_60_mean_absolute_error: 0.6074 - dense_60_pcc: 0.8621 - dense_64_mean_absolute_error: 0.4987 - dense_64_pcc: 0.6403 - val_loss: 7.6055 - val_dense_60_loss: 0.7015 - val_dense_64_loss: 0.5906 - val_dense_60_mean_absolute_error: 0.7015 - val_dense_60_pcc: 0.9544 - val_dense_64_mean_absolute_error: 0.5906 - val_dense_64_pcc: 0.5521\n",
      "Epoch 282/300\n",
      "5/5 [==============================] - 0s 36ms/step - loss: 6.6791 - dense_60_loss: 0.6161 - dense_64_loss: 0.5184 - dense_60_mean_absolute_error: 0.6161 - dense_60_pcc: 0.8700 - dense_64_mean_absolute_error: 0.5184 - dense_64_pcc: 0.6103 - val_loss: 7.6050 - val_dense_60_loss: 0.7015 - val_dense_64_loss: 0.5899 - val_dense_60_mean_absolute_error: 0.7015 - val_dense_60_pcc: 0.9544 - val_dense_64_mean_absolute_error: 0.5899 - val_dense_64_pcc: 0.5511\n",
      "Epoch 283/300\n",
      "5/5 [==============================] - 0s 26ms/step - loss: 6.4569 - dense_60_loss: 0.5973 - dense_64_loss: 0.4835 - dense_60_mean_absolute_error: 0.5973 - dense_60_pcc: 0.8637 - dense_64_mean_absolute_error: 0.4835 - dense_64_pcc: 0.6440 - val_loss: 7.6047 - val_dense_60_loss: 0.7015 - val_dense_64_loss: 0.5901 - val_dense_60_mean_absolute_error: 0.7015 - val_dense_60_pcc: 0.9545 - val_dense_64_mean_absolute_error: 0.5901 - val_dense_64_pcc: 0.5522\n",
      "Epoch 284/300\n",
      "5/5 [==============================] - 0s 43ms/step - loss: 6.7888 - dense_60_loss: 0.6293 - dense_64_loss: 0.4954 - dense_60_mean_absolute_error: 0.6293 - dense_60_pcc: 0.8746 - dense_64_mean_absolute_error: 0.4954 - dense_64_pcc: 0.6233 - val_loss: 7.6048 - val_dense_60_loss: 0.7014 - val_dense_64_loss: 0.5905 - val_dense_60_mean_absolute_error: 0.7014 - val_dense_60_pcc: 0.9545 - val_dense_64_mean_absolute_error: 0.5905 - val_dense_64_pcc: 0.5548\n",
      "Epoch 285/300\n",
      "5/5 [==============================] - 0s 44ms/step - loss: 6.6384 - dense_60_loss: 0.6109 - dense_64_loss: 0.5292 - dense_60_mean_absolute_error: 0.6109 - dense_60_pcc: 0.8561 - dense_64_mean_absolute_error: 0.5292 - dense_64_pcc: 0.6464 - val_loss: 7.6017 - val_dense_60_loss: 0.7011 - val_dense_64_loss: 0.5905 - val_dense_60_mean_absolute_error: 0.7011 - val_dense_60_pcc: 0.9547 - val_dense_64_mean_absolute_error: 0.5905 - val_dense_64_pcc: 0.5574\n",
      "Epoch 286/300\n",
      "5/5 [==============================] - 0s 26ms/step - loss: 6.6717 - dense_60_loss: 0.6142 - dense_64_loss: 0.5298 - dense_60_mean_absolute_error: 0.6142 - dense_60_pcc: 0.8643 - dense_64_mean_absolute_error: 0.5298 - dense_64_pcc: 0.5880 - val_loss: 7.6010 - val_dense_60_loss: 0.7010 - val_dense_64_loss: 0.5909 - val_dense_60_mean_absolute_error: 0.7010 - val_dense_60_pcc: 0.9547 - val_dense_64_mean_absolute_error: 0.5909 - val_dense_64_pcc: 0.5609\n",
      "Epoch 287/300\n",
      "5/5 [==============================] - 0s 42ms/step - loss: 6.4766 - dense_60_loss: 0.5985 - dense_64_loss: 0.4917 - dense_60_mean_absolute_error: 0.5985 - dense_60_pcc: 0.8547 - dense_64_mean_absolute_error: 0.4917 - dense_64_pcc: 0.6224 - val_loss: 7.6029 - val_dense_60_loss: 0.7012 - val_dense_64_loss: 0.5913 - val_dense_60_mean_absolute_error: 0.7012 - val_dense_60_pcc: 0.9546 - val_dense_64_mean_absolute_error: 0.5913 - val_dense_64_pcc: 0.5632\n",
      "Epoch 288/300\n",
      "5/5 [==============================] - 0s 26ms/step - loss: 6.3474 - dense_60_loss: 0.5850 - dense_64_loss: 0.4971 - dense_60_mean_absolute_error: 0.5850 - dense_60_pcc: 0.8436 - dense_64_mean_absolute_error: 0.4971 - dense_64_pcc: 0.5598 - val_loss: 7.6007 - val_dense_60_loss: 0.7010 - val_dense_64_loss: 0.5906 - val_dense_60_mean_absolute_error: 0.7010 - val_dense_60_pcc: 0.9543 - val_dense_64_mean_absolute_error: 0.5906 - val_dense_64_pcc: 0.5614\n",
      "Epoch 289/300\n",
      "5/5 [==============================] - 0s 29ms/step - loss: 6.8276 - dense_60_loss: 0.6249 - dense_64_loss: 0.5784 - dense_60_mean_absolute_error: 0.6249 - dense_60_pcc: 0.8859 - dense_64_mean_absolute_error: 0.5784 - dense_64_pcc: 0.6274 - val_loss: 7.6004 - val_dense_60_loss: 0.7011 - val_dense_64_loss: 0.5899 - val_dense_60_mean_absolute_error: 0.7011 - val_dense_60_pcc: 0.9545 - val_dense_64_mean_absolute_error: 0.5899 - val_dense_64_pcc: 0.5563\n",
      "Epoch 290/300\n",
      "5/5 [==============================] - 0s 37ms/step - loss: 6.4313 - dense_60_loss: 0.5947 - dense_64_loss: 0.4842 - dense_60_mean_absolute_error: 0.5947 - dense_60_pcc: 0.8715 - dense_64_mean_absolute_error: 0.4842 - dense_64_pcc: 0.6236 - val_loss: 7.6009 - val_dense_60_loss: 0.7012 - val_dense_64_loss: 0.5885 - val_dense_60_mean_absolute_error: 0.7012 - val_dense_60_pcc: 0.9546 - val_dense_64_mean_absolute_error: 0.5885 - val_dense_64_pcc: 0.5553\n",
      "Epoch 291/300\n",
      "5/5 [==============================] - 0s 28ms/step - loss: 6.6671 - dense_60_loss: 0.6156 - dense_64_loss: 0.5112 - dense_60_mean_absolute_error: 0.6156 - dense_60_pcc: 0.8645 - dense_64_mean_absolute_error: 0.5112 - dense_64_pcc: 0.6114 - val_loss: 7.5975 - val_dense_60_loss: 0.7010 - val_dense_64_loss: 0.5872 - val_dense_60_mean_absolute_error: 0.7010 - val_dense_60_pcc: 0.9545 - val_dense_64_mean_absolute_error: 0.5872 - val_dense_64_pcc: 0.5558\n",
      "Epoch 292/300\n",
      "5/5 [==============================] - 0s 39ms/step - loss: 6.4674 - dense_60_loss: 0.5936 - dense_64_loss: 0.5317 - dense_60_mean_absolute_error: 0.5936 - dense_60_pcc: 0.8541 - dense_64_mean_absolute_error: 0.5317 - dense_64_pcc: 0.6118 - val_loss: 7.5950 - val_dense_60_loss: 0.7009 - val_dense_64_loss: 0.5860 - val_dense_60_mean_absolute_error: 0.7009 - val_dense_60_pcc: 0.9544 - val_dense_64_mean_absolute_error: 0.5860 - val_dense_64_pcc: 0.5567\n",
      "Epoch 293/300\n",
      "5/5 [==============================] - 0s 26ms/step - loss: 6.1506 - dense_60_loss: 0.5688 - dense_64_loss: 0.4627 - dense_60_mean_absolute_error: 0.5688 - dense_60_pcc: 0.8508 - dense_64_mean_absolute_error: 0.4627 - dense_64_pcc: 0.6021 - val_loss: 7.5928 - val_dense_60_loss: 0.7009 - val_dense_64_loss: 0.5836 - val_dense_60_mean_absolute_error: 0.7009 - val_dense_60_pcc: 0.9542 - val_dense_64_mean_absolute_error: 0.5836 - val_dense_64_pcc: 0.5516\n",
      "Epoch 294/300\n",
      "5/5 [==============================] - 0s 26ms/step - loss: 6.3589 - dense_60_loss: 0.5872 - dense_64_loss: 0.4864 - dense_60_mean_absolute_error: 0.5872 - dense_60_pcc: 0.8502 - dense_64_mean_absolute_error: 0.4864 - dense_64_pcc: 0.6152 - val_loss: 7.5920 - val_dense_60_loss: 0.7009 - val_dense_64_loss: 0.5833 - val_dense_60_mean_absolute_error: 0.7009 - val_dense_60_pcc: 0.9545 - val_dense_64_mean_absolute_error: 0.5833 - val_dense_64_pcc: 0.5458\n",
      "Epoch 295/300\n",
      "5/5 [==============================] - 0s 39ms/step - loss: 6.5997 - dense_60_loss: 0.6103 - dense_64_loss: 0.4963 - dense_60_mean_absolute_error: 0.6103 - dense_60_pcc: 0.8758 - dense_64_mean_absolute_error: 0.4963 - dense_64_pcc: 0.5914 - val_loss: 7.5930 - val_dense_60_loss: 0.7009 - val_dense_64_loss: 0.5841 - val_dense_60_mean_absolute_error: 0.7009 - val_dense_60_pcc: 0.9549 - val_dense_64_mean_absolute_error: 0.5841 - val_dense_64_pcc: 0.5465\n",
      "Epoch 296/300\n",
      "5/5 [==============================] - 0s 26ms/step - loss: 6.3172 - dense_60_loss: 0.5832 - dense_64_loss: 0.4857 - dense_60_mean_absolute_error: 0.5832 - dense_60_pcc: 0.8606 - dense_64_mean_absolute_error: 0.4857 - dense_64_pcc: 0.6002 - val_loss: 7.5916 - val_dense_60_loss: 0.7007 - val_dense_64_loss: 0.5846 - val_dense_60_mean_absolute_error: 0.7007 - val_dense_60_pcc: 0.9550 - val_dense_64_mean_absolute_error: 0.5846 - val_dense_64_pcc: 0.5463\n",
      "Epoch 297/300\n",
      "5/5 [==============================] - 0s 27ms/step - loss: 6.6812 - dense_60_loss: 0.6172 - dense_64_loss: 0.5089 - dense_60_mean_absolute_error: 0.6172 - dense_60_pcc: 0.8665 - dense_64_mean_absolute_error: 0.5089 - dense_64_pcc: 0.6533 - val_loss: 7.5893 - val_dense_60_loss: 0.7004 - val_dense_64_loss: 0.5849 - val_dense_60_mean_absolute_error: 0.7004 - val_dense_60_pcc: 0.9553 - val_dense_64_mean_absolute_error: 0.5849 - val_dense_64_pcc: 0.5478\n",
      "Epoch 298/300\n",
      "5/5 [==============================] - 0s 42ms/step - loss: 6.7171 - dense_60_loss: 0.6208 - dense_64_loss: 0.5089 - dense_60_mean_absolute_error: 0.6208 - dense_60_pcc: 0.8516 - dense_64_mean_absolute_error: 0.5089 - dense_64_pcc: 0.5681 - val_loss: 7.5856 - val_dense_60_loss: 0.7001 - val_dense_64_loss: 0.5844 - val_dense_60_mean_absolute_error: 0.7001 - val_dense_60_pcc: 0.9554 - val_dense_64_mean_absolute_error: 0.5844 - val_dense_64_pcc: 0.5469\n",
      "Epoch 299/300\n",
      "5/5 [==============================] - 0s 27ms/step - loss: 6.4760 - dense_60_loss: 0.5985 - dense_64_loss: 0.4906 - dense_60_mean_absolute_error: 0.5985 - dense_60_pcc: 0.8457 - dense_64_mean_absolute_error: 0.4906 - dense_64_pcc: 0.5922 - val_loss: 7.5837 - val_dense_60_loss: 0.6999 - val_dense_64_loss: 0.5844 - val_dense_60_mean_absolute_error: 0.6999 - val_dense_60_pcc: 0.9552 - val_dense_64_mean_absolute_error: 0.5844 - val_dense_64_pcc: 0.5470\n"
     ]
    },
    {
     "name": "stdout",
     "output_type": "stream",
     "text": [
      "Epoch 300/300\n",
      "5/5 [==============================] - 0s 42ms/step - loss: 6.5862 - dense_60_loss: 0.6070 - dense_64_loss: 0.5161 - dense_60_mean_absolute_error: 0.6070 - dense_60_pcc: 0.8331 - dense_64_mean_absolute_error: 0.5161 - dense_64_pcc: 0.6077 - val_loss: 7.5822 - val_dense_60_loss: 0.6997 - val_dense_64_loss: 0.5851 - val_dense_60_mean_absolute_error: 0.6997 - val_dense_60_pcc: 0.9549 - val_dense_64_mean_absolute_error: 0.5851 - val_dense_64_pcc: 0.5472\n"
     ]
    }
   ],
   "source": [
    "reload(networksEvol)\n",
    "pred_ge_mlpPlus=networksEvol.nnTransformWithCycle(l1k_train,cp_train,l1k_test,cp_test)"
   ]
  },
  {
   "cell_type": "code",
   "execution_count": 40,
   "metadata": {},
   "outputs": [
    {
     "data": {
      "image/png": "[encoded data removed]",
      "text/plain": [
       "<matplotlib.figure.Figure at 0x7fc3fa15ea20>"
      ]
     },
     "metadata": {},
     "output_type": "display_data"
    }
   ],
   "source": [
    "visualizePredictionResults(pred_ge_mlpPlus)"
   ]
  },
  {
   "cell_type": "code",
   "execution_count": 164,
   "metadata": {},
   "outputs": [
    {
     "name": "stderr",
     "output_type": "stream",
     "text": [
      "/usr/local/lib/python3.6/site-packages/ipykernel_launcher.py:10: FutureWarning: Sorting because non-concatenation axis is not aligned. A future version\n",
      "of pandas will change to not sort by default.\n",
      "\n",
      "To accept the future behavior, pass 'sort=False'.\n",
      "\n",
      "To retain the current behavior and silence the warning, pass 'sort=True'.\n",
      "\n",
      "  # Remove the CWD from sys.path while we load stuff.\n"
     ]
    },
    {
     "data": {
      "image/png": "[encoded data removed]",
      "text/plain": [
       "<matplotlib.figure.Figure at 0x7ef807b4ce10>"
      ]
     },
     "metadata": {},
     "output_type": "display_data"
    }
   ],
   "source": [
    "visualizePredictionResults()"
   ]
  },
  {
   "cell_type": "code",
   "execution_count": 76,
   "metadata": {},
   "outputs": [],
   "source": [
    "# visualizePredictionResults()"
   ]
  },
  {
   "cell_type": "code",
   "execution_count": null,
   "metadata": {},
   "outputs": [],
   "source": []
  },
  {
   "cell_type": "code",
   "execution_count": 77,
   "metadata": {},
   "outputs": [
    {
     "data": {
      "image/png": "[encoded data removed]",
      "text/plain": [
       "<matplotlib.figure.Figure at 0x7fc3fa69bda0>"
      ]
     },
     "metadata": {},
     "output_type": "display_data"
    }
   ],
   "source": [
    "ge_test=l1k_test.copy()\n",
    "# predicted_ge = pd.DataFrame(data=pred_ge, columns=l1k_features)\n",
    "# predicted_ge[pertColName] = cp_test[pertColName]\n",
    "# predicted_ge = predicted_ge[[pertColName] + l1k_features]\n",
    "\n",
    "###########\n",
    "ccSameLin=[]\n",
    "ccSameMlp=[]\n",
    "ccSameMlpPlus=[]\n",
    "ccRandom=[]\n",
    "np.random.seed(0)\n",
    "for i in range(pred_ge_mlp.shape[0]):\n",
    "#         ccSame.append(scipy.stats.pearsonr(pred_ge[i,:], l1k_test.loc[i,l1k_features].values)[0])\n",
    "#         ccRandom.append(scipy.stats.pearsonr(l1k_train.loc[np.random.choice(np.random.choice(l1k_train.shape[0],1)),l1k_features].values, l1k_test.loc[i,l1k_features].values)[0])\n",
    "    ccSameLin.append(mean_absolute_error(pred_ge_l[i,:], l1k_test.loc[i,l1k_features].values))\n",
    "    ccSameMlp.append(mean_absolute_error(pred_ge_mlp[i,:], l1k_test.loc[i,l1k_features].values))\n",
    "    ccSameMlpPlus.append(mean_absolute_error(pred_ge_mlpPlus[i,:], l1k_test.loc[i,l1k_features].values))\n",
    "    ccRandom.append(mean_absolute_error(l1k_train.loc[np.random.choice(np.random.choice(l1k_train.shape[0],1)),l1k_features].values, l1k_test.loc[i,l1k_features].values))\n",
    "\n",
    "#     title=['Predict GE profiles - Linear Transformation']\n",
    "fig, axes = plt.subplots(1,2, figsize=(12,4))\n",
    "# sns.kdeplot(x)\n",
    "i=0\n",
    "sns.kdeplot(ccRandom, bw=.4, label=\"MAE for prediced and a random GE profile\",ax=axes[1])\n",
    "sns.kdeplot(ccSameLin, bw=.4, label=\"MAE for prediced and original GE profile - Linear\",ax=axes[1]);\n",
    "sns.kdeplot(ccSameMlp, bw=.4, label=\"MAE for prediced and original GE profile - MLP\",ax=axes[1]);\n",
    "sns.kdeplot(ccSameMlpPlus, bw=.4, label=\"MAE for prediced and original GE profile - MLP+\",ax=axes[1]);\n",
    "axes[1].set_xlabel('MAE');\n",
    "perc5=np.percentile(ccSameLin, 90);axes[1].axvline(x=perc5,linestyle=':',color='darkorange');\n",
    "perc5=np.percentile(ccSameMlp, 90);axes[1].axvline(x=perc5,linestyle=':',color='green');\n",
    "perc5=np.percentile(ccSameMlpPlus, 90);axes[1].axvline(x=perc5,linestyle=':',color='red');\n",
    "perc5r=np.percentile(ccRandom, 90);axes[1].axvline(x=perc5r,linestyle=':');\n",
    "axes[1].legend(bbox_to_anchor=(1.04,1),loc='upper left');axes[1].set_title('Predict GE profiles - '+profileLevel+' level - '+dataset);"
   ]
  },
  {
   "cell_type": "code",
   "execution_count": 52,
   "metadata": {},
   "outputs": [
    {
     "data": {
      "text/plain": [
       "(38, 978)"
      ]
     },
     "execution_count": 52,
     "metadata": {},
     "output_type": "execute_result"
    }
   ],
   "source": [
    "pred_ge_mlpPlus.shape"
   ]
  },
  {
   "cell_type": "markdown",
   "metadata": {},
   "source": [
    "# Train \"MLP+Reconstruction loss+disc\" and Test"
   ]
  },
  {
   "cell_type": "code",
   "execution_count": 12,
   "metadata": {},
   "outputs": [
    {
     "ename": "NameError",
     "evalue": "name 'nnTransformWithCycleAndDis' is not defined",
     "output_type": "error",
     "traceback": [
      "\u001b[0;31m---------------------------------------------------------------------------\u001b[0m",
      "\u001b[0;31mNameError\u001b[0m                                 Traceback (most recent call last)",
      "\u001b[0;32m<ipython-input-12-8c5c26f2801c>\u001b[0m in \u001b[0;36m<module>\u001b[0;34m()\u001b[0m\n\u001b[0;32m----> 1\u001b[0;31m \u001b[0mpred_ge\u001b[0m\u001b[0;34m=\u001b[0m\u001b[0mnnTransformWithCycleAndDis\u001b[0m\u001b[0;34m(\u001b[0m\u001b[0ml1k_train\u001b[0m\u001b[0;34m,\u001b[0m\u001b[0mcp_train\u001b[0m\u001b[0;34m,\u001b[0m\u001b[0ml1k_test\u001b[0m\u001b[0;34m,\u001b[0m\u001b[0mcp_test\u001b[0m\u001b[0;34m)\u001b[0m\u001b[0;34m\u001b[0m\u001b[0m\n\u001b[0m",
      "\u001b[0;31mNameError\u001b[0m: name 'nnTransformWithCycleAndDis' is not defined"
     ]
    }
   ],
   "source": [
    "pred_ge=nnTransformWithCycleAndDis(l1k_train,cp_train,l1k_test,cp_test)"
   ]
  },
  {
   "cell_type": "code",
   "execution_count": 49,
   "metadata": {},
   "outputs": [
    {
     "name": "stderr",
     "output_type": "stream",
     "text": [
      "/usr/local/lib/python3.6/site-packages/ipykernel_launcher.py:11: FutureWarning: Sorting because non-concatenation axis is not aligned. A future version\n",
      "of pandas will change to not sort by default.\n",
      "\n",
      "To accept the future behavior, pass 'sort=False'.\n",
      "\n",
      "To retain the current behavior and silence the warning, pass 'sort=True'.\n",
      "\n",
      "  # This is added back by InteractiveShellApp.init_path()\n"
     ]
    }
   ],
   "source": [
    "# visualizePredictionResults()\n",
    "\n",
    "ge_test=l1k_test.copy()\n",
    "predicted_ge = pd.DataFrame(data=pred_ge, columns=l1k_features)\n",
    "predicted_ge[pertColName] = cp_test[pertColName]\n",
    "predicted_ge = predicted_ge[[pertColName] + l1k_features]\n",
    "\n",
    "predicted_ge[\"Real\"] = False\n",
    "ge_test[\"Real\"] = True\n",
    "\n",
    "compare_ge = pd.concat([ge_test, predicted_ge]).reset_index(drop=True)\n",
    "# Compute tSNE\n",
    "#     reload(tsne)\n",
    "X = np.asarray(compare_ge)[:,1:-1]\n"
   ]
  },
  {
   "cell_type": "code",
   "execution_count": 53,
   "metadata": {},
   "outputs": [
    {
     "data": {
      "text/html": [
       "<div>\n",
       "<style scoped>\n",
       "    .dataframe tbody tr th:only-of-type {\n",
       "        vertical-align: middle;\n",
       "    }\n",
       "\n",
       "    .dataframe tbody tr th {\n",
       "        vertical-align: top;\n",
       "    }\n",
       "\n",
       "    .dataframe thead th {\n",
       "        text-align: right;\n",
       "    }\n",
       "</style>\n",
       "<table border=\"1\" class=\"dataframe\">\n",
       "  <thead>\n",
       "    <tr style=\"text-align: right;\">\n",
       "      <th></th>\n",
       "      <th>Cells_AreaShape_Center_X</th>\n",
       "      <th>Cells_AreaShape_Compactness</th>\n",
       "      <th>Cells_AreaShape_Extent</th>\n",
       "      <th>Cells_AreaShape_FormFactor</th>\n",
       "      <th>Cells_AreaShape_Orientation</th>\n",
       "      <th>Cells_AreaShape_Perimeter</th>\n",
       "      <th>Cells_AreaShape_Solidity</th>\n",
       "      <th>Cells_AreaShape_Zernike_1_1</th>\n",
       "      <th>Cells_AreaShape_Zernike_2_0</th>\n",
       "      <th>Cells_AreaShape_Zernike_2_2</th>\n",
       "      <th>...</th>\n",
       "      <th>Nuclei_Texture_SumEntropy_ER_10_0</th>\n",
       "      <th>Nuclei_Texture_SumEntropy_Mito_3_0</th>\n",
       "      <th>Nuclei_Texture_SumEntropy_RNA_5_0</th>\n",
       "      <th>Nuclei_Texture_SumVariance_ER_10_0</th>\n",
       "      <th>Nuclei_Texture_SumVariance_RNA_10_0</th>\n",
       "      <th>Nuclei_Texture_Variance_AGP_10_0</th>\n",
       "      <th>Nuclei_Texture_Variance_ER_10_0</th>\n",
       "      <th>Nuclei_Texture_Variance_Mito_10_0</th>\n",
       "      <th>Nuclei_Texture_Variance_RNA_10_0</th>\n",
       "      <th>Real</th>\n",
       "    </tr>\n",
       "  </thead>\n",
       "  <tbody>\n",
       "    <tr>\n",
       "      <td>0</td>\n",
       "      <td>0.881409</td>\n",
       "      <td>0.086030</td>\n",
       "      <td>-0.275946</td>\n",
       "      <td>-0.314893</td>\n",
       "      <td>-0.856448</td>\n",
       "      <td>-0.080513</td>\n",
       "      <td>-0.366901</td>\n",
       "      <td>0.302353</td>\n",
       "      <td>0.228469</td>\n",
       "      <td>0.041968</td>\n",
       "      <td>...</td>\n",
       "      <td>-0.628846</td>\n",
       "      <td>-0.863331</td>\n",
       "      <td>-1.087220</td>\n",
       "      <td>-0.371796</td>\n",
       "      <td>-0.526384</td>\n",
       "      <td>-0.119773</td>\n",
       "      <td>-0.220448</td>\n",
       "      <td>-0.277705</td>\n",
       "      <td>-0.738342</td>\n",
       "      <td>True</td>\n",
       "    </tr>\n",
       "    <tr>\n",
       "      <td>1</td>\n",
       "      <td>0.552326</td>\n",
       "      <td>0.404938</td>\n",
       "      <td>-0.266871</td>\n",
       "      <td>0.027151</td>\n",
       "      <td>0.146209</td>\n",
       "      <td>0.050922</td>\n",
       "      <td>-0.061251</td>\n",
       "      <td>-0.160125</td>\n",
       "      <td>0.017700</td>\n",
       "      <td>0.098312</td>\n",
       "      <td>...</td>\n",
       "      <td>-0.496272</td>\n",
       "      <td>-0.040129</td>\n",
       "      <td>0.188155</td>\n",
       "      <td>-0.280894</td>\n",
       "      <td>-0.180040</td>\n",
       "      <td>0.096964</td>\n",
       "      <td>-0.205470</td>\n",
       "      <td>-0.097545</td>\n",
       "      <td>0.002585</td>\n",
       "      <td>True</td>\n",
       "    </tr>\n",
       "    <tr>\n",
       "      <td>2</td>\n",
       "      <td>0.682494</td>\n",
       "      <td>-0.595798</td>\n",
       "      <td>0.141791</td>\n",
       "      <td>0.223541</td>\n",
       "      <td>0.741823</td>\n",
       "      <td>-0.257660</td>\n",
       "      <td>-0.069310</td>\n",
       "      <td>0.951033</td>\n",
       "      <td>0.720999</td>\n",
       "      <td>0.087371</td>\n",
       "      <td>...</td>\n",
       "      <td>-0.199595</td>\n",
       "      <td>0.183709</td>\n",
       "      <td>0.029148</td>\n",
       "      <td>-0.298869</td>\n",
       "      <td>0.154311</td>\n",
       "      <td>0.157020</td>\n",
       "      <td>-0.028326</td>\n",
       "      <td>0.197363</td>\n",
       "      <td>-0.094408</td>\n",
       "      <td>True</td>\n",
       "    </tr>\n",
       "    <tr>\n",
       "      <td>3</td>\n",
       "      <td>-0.566635</td>\n",
       "      <td>-0.431083</td>\n",
       "      <td>0.047120</td>\n",
       "      <td>-0.155361</td>\n",
       "      <td>0.366188</td>\n",
       "      <td>-0.212481</td>\n",
       "      <td>-0.420902</td>\n",
       "      <td>0.710232</td>\n",
       "      <td>0.620540</td>\n",
       "      <td>-0.251999</td>\n",
       "      <td>...</td>\n",
       "      <td>-0.543873</td>\n",
       "      <td>-0.075905</td>\n",
       "      <td>-0.508379</td>\n",
       "      <td>-0.299085</td>\n",
       "      <td>-0.647849</td>\n",
       "      <td>0.317258</td>\n",
       "      <td>-0.408176</td>\n",
       "      <td>0.002093</td>\n",
       "      <td>-0.732391</td>\n",
       "      <td>True</td>\n",
       "    </tr>\n",
       "    <tr>\n",
       "      <td>4</td>\n",
       "      <td>0.635780</td>\n",
       "      <td>-0.401705</td>\n",
       "      <td>0.004677</td>\n",
       "      <td>-0.360510</td>\n",
       "      <td>1.069209</td>\n",
       "      <td>-0.039921</td>\n",
       "      <td>-0.404971</td>\n",
       "      <td>0.627182</td>\n",
       "      <td>0.496268</td>\n",
       "      <td>-0.596188</td>\n",
       "      <td>...</td>\n",
       "      <td>0.205370</td>\n",
       "      <td>0.289546</td>\n",
       "      <td>0.217040</td>\n",
       "      <td>0.061627</td>\n",
       "      <td>0.330196</td>\n",
       "      <td>-0.047471</td>\n",
       "      <td>0.301695</td>\n",
       "      <td>0.186065</td>\n",
       "      <td>-0.062334</td>\n",
       "      <td>True</td>\n",
       "    </tr>\n",
       "  </tbody>\n",
       "</table>\n",
       "<p>5 rows × 594 columns</p>\n",
       "</div>"
      ],
      "text/plain": [
       "   Cells_AreaShape_Center_X  Cells_AreaShape_Compactness  \\\n",
       "0                  0.881409                     0.086030   \n",
       "1                  0.552326                     0.404938   \n",
       "2                  0.682494                    -0.595798   \n",
       "3                 -0.566635                    -0.431083   \n",
       "4                  0.635780                    -0.401705   \n",
       "\n",
       "   Cells_AreaShape_Extent  Cells_AreaShape_FormFactor  \\\n",
       "0               -0.275946                   -0.314893   \n",
       "1               -0.266871                    0.027151   \n",
       "2                0.141791                    0.223541   \n",
       "3                0.047120                   -0.155361   \n",
       "4                0.004677                   -0.360510   \n",
       "\n",
       "   Cells_AreaShape_Orientation  Cells_AreaShape_Perimeter  \\\n",
       "0                    -0.856448                  -0.080513   \n",
       "1                     0.146209                   0.050922   \n",
       "2                     0.741823                  -0.257660   \n",
       "3                     0.366188                  -0.212481   \n",
       "4                     1.069209                  -0.039921   \n",
       "\n",
       "   Cells_AreaShape_Solidity  Cells_AreaShape_Zernike_1_1  \\\n",
       "0                 -0.366901                     0.302353   \n",
       "1                 -0.061251                    -0.160125   \n",
       "2                 -0.069310                     0.951033   \n",
       "3                 -0.420902                     0.710232   \n",
       "4                 -0.404971                     0.627182   \n",
       "\n",
       "   Cells_AreaShape_Zernike_2_0  Cells_AreaShape_Zernike_2_2  ...  \\\n",
       "0                     0.228469                     0.041968  ...   \n",
       "1                     0.017700                     0.098312  ...   \n",
       "2                     0.720999                     0.087371  ...   \n",
       "3                     0.620540                    -0.251999  ...   \n",
       "4                     0.496268                    -0.596188  ...   \n",
       "\n",
       "   Nuclei_Texture_SumEntropy_ER_10_0  Nuclei_Texture_SumEntropy_Mito_3_0  \\\n",
       "0                          -0.628846                           -0.863331   \n",
       "1                          -0.496272                           -0.040129   \n",
       "2                          -0.199595                            0.183709   \n",
       "3                          -0.543873                           -0.075905   \n",
       "4                           0.205370                            0.289546   \n",
       "\n",
       "   Nuclei_Texture_SumEntropy_RNA_5_0  Nuclei_Texture_SumVariance_ER_10_0  \\\n",
       "0                          -1.087220                           -0.371796   \n",
       "1                           0.188155                           -0.280894   \n",
       "2                           0.029148                           -0.298869   \n",
       "3                          -0.508379                           -0.299085   \n",
       "4                           0.217040                            0.061627   \n",
       "\n",
       "   Nuclei_Texture_SumVariance_RNA_10_0  Nuclei_Texture_Variance_AGP_10_0  \\\n",
       "0                            -0.526384                         -0.119773   \n",
       "1                            -0.180040                          0.096964   \n",
       "2                             0.154311                          0.157020   \n",
       "3                            -0.647849                          0.317258   \n",
       "4                             0.330196                         -0.047471   \n",
       "\n",
       "   Nuclei_Texture_Variance_ER_10_0  Nuclei_Texture_Variance_Mito_10_0  \\\n",
       "0                        -0.220448                          -0.277705   \n",
       "1                        -0.205470                          -0.097545   \n",
       "2                        -0.028326                           0.197363   \n",
       "3                        -0.408176                           0.002093   \n",
       "4                         0.301695                           0.186065   \n",
       "\n",
       "   Nuclei_Texture_Variance_RNA_10_0  Real  \n",
       "0                         -0.738342  True  \n",
       "1                          0.002585  True  \n",
       "2                         -0.094408  True  \n",
       "3                         -0.732391  True  \n",
       "4                         -0.062334  True  \n",
       "\n",
       "[5 rows x 594 columns]"
      ]
     },
     "execution_count": 53,
     "metadata": {},
     "output_type": "execute_result"
    }
   ],
   "source": [
    "# compare_ge\n",
    "compare_ge.head()"
   ]
  },
  {
   "cell_type": "code",
   "execution_count": 38,
   "metadata": {
    "scrolled": false
   },
   "outputs": [],
   "source": [
    "def visualizePredictionResults(pred_ge):\n",
    "    ge_test=l1k_test.copy()\n",
    "    predicted_ge = pd.DataFrame(data=pred_ge, columns=l1k_features)\n",
    "    predicted_ge[pertColName] = cp_test[pertColName]\n",
    "    predicted_ge = predicted_ge[[pertColName] + l1k_features]\n",
    "\n",
    "    predicted_ge[\"Real\"] = False\n",
    "    ge_test[\"Real\"] = True\n",
    "\n",
    "    compare_ge = pd.concat([ge_test, predicted_ge]).reset_index(drop=True)\n",
    "    # Compute tSNE\n",
    "#     reload(tsne)\n",
    "    X = np.asarray(compare_ge[l1k_features])\n",
    "    X = np.asarray(X, dtype=np.float)\n",
    "#     Y = tsne.tsne(X)\n",
    "    umapT=umap.UMAP()\n",
    "    Y = umapT.fit_transform(X)\n",
    "\n",
    "    compare_ge[\"X\"] = Y[:,0]\n",
    "    compare_ge[\"Y\"] = Y[:,1]\n",
    "    # sns.lmplot(data=compare_ge, x=\"X\", y=\"Y\", hue=\"Real\", fit_reg=False)\n",
    "    #########\n",
    "    M1 = Y[0:ge_test.shape[0],0:2]\n",
    "    M2 = Y[ge_test.shape[0]:,0:2]\n",
    "    D = scipy.spatial.distance_matrix(M1, M2,p=1)\n",
    "#     D = scipy.spatial.distance_matrix(ge_test[l1k_features].values, predicted_ge[l1k_features].values,p=1)\n",
    "    NN = np.argsort(D, axis=1) # Nearest morphology point to each gene expression point\n",
    "    ###########\n",
    "    fig, axes = plt.subplots(1,2, figsize=(12,4))\n",
    "    axes[0].scatter(M1[:,0], M1[:,1], c=\"lime\", s=50, edgecolor='gray', linewidths=1,label='True')\n",
    "    axes[0].scatter(M2[:,0], M2[:,1], c=\"purple\", s=50, edgecolor='gray', linewidths=1,label='pred')\n",
    "    axes[0].legend()\n",
    "    for i in range(M2.shape[0]):\n",
    "        for j in range(M1.shape[0]):\n",
    "            if predicted_ge.iloc[i][pertColName] == ge_test.iloc[NN[j,i]][pertColName]:\n",
    "                axes[0].plot([M1[NN[j,i],0],M2[i,0]],[M1[NN[j,i],1],M2[i,1]], 'k-', color=\"red\")\n",
    "                break\n",
    "    ###########\n",
    "    ccSame=[]\n",
    "    ccRandom=[]\n",
    "    np.random.seed(0)\n",
    "    for i in range(pred_ge.shape[0]):\n",
    "#         ccSame.append(scipy.stats.pearsonr(pred_ge[i,:], l1k_test.loc[i,l1k_features].values)[0])\n",
    "#         ccRandom.append(scipy.stats.pearsonr(l1k_train.loc[np.random.choice(np.random.choice(l1k_train.shape[0],1)),l1k_features].values, l1k_test.loc[i,l1k_features].values)[0])\n",
    "        ccSame.append(mean_absolute_error(pred_ge[i,:], l1k_test.loc[i,l1k_features].values))\n",
    "        ccRandom.append(mean_absolute_error(l1k_train.loc[np.random.choice(np.random.choice(l1k_train.shape[0],1)),l1k_features].values, l1k_test.loc[i,l1k_features].values))\n",
    "\n",
    "#     title=['Predict GE profiles - Linear Transformation']\n",
    "    # fig, axes = plt.subplots()#(1,1,sharey='row', figsize=(12,6))\n",
    "    # sns.kdeplot(x)\n",
    "    i=0\n",
    "    sns.kdeplot(ccRandom, bw=.4, label=\"MAE for prediced and a random GE profile\",ax=axes[1])\n",
    "    sns.kdeplot(ccSame, bw=.4, label=\"MAE for prediced and original GE profile\",ax=axes[1]);axes[1].set_xlabel('MAE');\n",
    "    perc5=np.percentile(ccSame, 90);axes[1].axvline(x=perc5,linestyle=':',color='darkorange');\n",
    "    perc5r=np.percentile(ccRandom, 90);axes[1].axvline(x=perc5r,linestyle=':');\n",
    "    axes[1].legend();axes[1].set_title('Predict GE profiles - '+profileLevel+' level - '+dataset);\n",
    "    return"
   ]
  },
  {
   "cell_type": "code",
   "execution_count": 113,
   "metadata": {},
   "outputs": [
    {
     "data": {
      "text/plain": [
       "array([[-0.45335644, -1.78513149,  1.09966506, ..., -1.43615029,\n",
       "        -0.70882871, -0.03331259],\n",
       "       [ 0.32498337,  0.04983415,  5.26883362, ...,  0.81093095,\n",
       "        -0.42516633,  0.53198664],\n",
       "       [ 0.80583137, -0.05723192,  1.29876396, ...,  1.42539214,\n",
       "         0.4829636 ,  0.1077099 ],\n",
       "       ...,\n",
       "       [ 0.24807353,  0.14763411,  3.18995015, ...,  0.76981795,\n",
       "         0.48294939,  0.92253088],\n",
       "       [-0.87617515,  1.23511286,  2.61415923, ...,  0.38831804,\n",
       "         1.49203778, -0.55078833],\n",
       "       [-0.30627862, -0.75443715, -0.24569912, ...,  1.85677814,\n",
       "         0.08129859, -0.12181895]])"
      ]
     },
     "execution_count": 113,
     "metadata": {},
     "output_type": "execute_result"
    }
   ],
   "source": [
    "pred_ge"
   ]
  },
  {
   "cell_type": "code",
   "execution_count": 40,
   "metadata": {},
   "outputs": [
    {
     "data": {
      "text/plain": [
       "(20, 2)"
      ]
     },
     "execution_count": 40,
     "metadata": {},
     "output_type": "execute_result"
    }
   ],
   "source": [
    "Y.shape"
   ]
  },
  {
   "cell_type": "code",
   "execution_count": 15,
   "metadata": {},
   "outputs": [
    {
     "data": {
      "text/html": [
       "<div>\n",
       "<style scoped>\n",
       "    .dataframe tbody tr th:only-of-type {\n",
       "        vertical-align: middle;\n",
       "    }\n",
       "\n",
       "    .dataframe tbody tr th {\n",
       "        vertical-align: top;\n",
       "    }\n",
       "\n",
       "    .dataframe thead th {\n",
       "        text-align: right;\n",
       "    }\n",
       "</style>\n",
       "<table border=\"1\" class=\"dataframe\">\n",
       "  <thead>\n",
       "    <tr style=\"text-align: right;\">\n",
       "      <th></th>\n",
       "      <th>Allele</th>\n",
       "      <th>201000_at</th>\n",
       "      <th>203192_at</th>\n",
       "      <th>209380_s_at</th>\n",
       "      <th>200045_at</th>\n",
       "      <th>202394_s_at</th>\n",
       "      <th>218581_at</th>\n",
       "      <th>221552_at</th>\n",
       "      <th>202123_s_at</th>\n",
       "      <th>214274_s_at</th>\n",
       "      <th>...</th>\n",
       "      <th>212124_at</th>\n",
       "      <th>202778_s_at</th>\n",
       "      <th>214741_at</th>\n",
       "      <th>204937_s_at</th>\n",
       "      <th>203521_s_at</th>\n",
       "      <th>218149_s_at</th>\n",
       "      <th>212557_at</th>\n",
       "      <th>219711_at</th>\n",
       "      <th>219968_at</th>\n",
       "      <th>204812_at</th>\n",
       "    </tr>\n",
       "  </thead>\n",
       "  <tbody>\n",
       "    <tr>\n",
       "      <td>25</td>\n",
       "      <td>BFP</td>\n",
       "      <td>-0.370653</td>\n",
       "      <td>0.143598</td>\n",
       "      <td>-1.108784</td>\n",
       "      <td>0.712562</td>\n",
       "      <td>0.475342</td>\n",
       "      <td>1.358183</td>\n",
       "      <td>0.122358</td>\n",
       "      <td>0.351188</td>\n",
       "      <td>0.098923</td>\n",
       "      <td>...</td>\n",
       "      <td>-1.249839</td>\n",
       "      <td>0.130071</td>\n",
       "      <td>0.829537</td>\n",
       "      <td>0.9562</td>\n",
       "      <td>-0.494023</td>\n",
       "      <td>0.341541</td>\n",
       "      <td>0.617284</td>\n",
       "      <td>-0.368283</td>\n",
       "      <td>0.088207</td>\n",
       "      <td>-0.207463</td>\n",
       "    </tr>\n",
       "  </tbody>\n",
       "</table>\n",
       "<p>1 rows × 979 columns</p>\n",
       "</div>"
      ],
      "text/plain": [
       "   Allele  201000_at  203192_at  209380_s_at  200045_at  202394_s_at  \\\n",
       "25    BFP  -0.370653   0.143598    -1.108784   0.712562     0.475342   \n",
       "\n",
       "    218581_at  221552_at  202123_s_at  214274_s_at  ...  212124_at  \\\n",
       "25   1.358183   0.122358     0.351188     0.098923  ...  -1.249839   \n",
       "\n",
       "    202778_s_at  214741_at  204937_s_at  203521_s_at  218149_s_at  212557_at  \\\n",
       "25     0.130071   0.829537       0.9562    -0.494023     0.341541   0.617284   \n",
       "\n",
       "    219711_at  219968_at  204812_at  \n",
       "25  -0.368283   0.088207  -0.207463  \n",
       "\n",
       "[1 rows x 979 columns]"
      ]
     },
     "execution_count": 15,
     "metadata": {},
     "output_type": "execute_result"
    }
   ],
   "source": [
    "# l1k.loc[l1k[pertColName]=='BFP']\n",
    "['MAPK7_WT.c','ARAF_p.S214C','AKR1B1_p.P14R','PPP2R1A_p.V229L','PPP2R1A_p.Q372L',\\\n",
    "'IDH2_p.K130del','IDH2_p.S249G','RIT1_p.F82L','RIT1_p.A77P','RBM10_p.W658Y']"
   ]
  },
  {
   "cell_type": "code",
   "execution_count": 43,
   "metadata": {},
   "outputs": [
    {
     "data": {
      "text/plain": [
       "((20, 979), (20, 978))"
      ]
     },
     "execution_count": 43,
     "metadata": {},
     "output_type": "execute_result"
    }
   ],
   "source": [
    "l1k_test.shape, pred_ge.shape"
   ]
  },
  {
   "cell_type": "markdown",
   "metadata": {},
   "source": []
  },
  {
   "cell_type": "code",
   "execution_count": null,
   "metadata": {},
   "outputs": [],
   "source": []
  },
  {
   "cell_type": "code",
   "execution_count": 7,
   "metadata": {},
   "outputs": [],
   "source": [
    "import tensorflow as tf"
   ]
  },
  {
   "cell_type": "markdown",
   "metadata": {},
   "source": [
    "# Models"
   ]
  },
  {
   "cell_type": "code",
   "execution_count": 172,
   "metadata": {},
   "outputs": [],
   "source": [
    "# from keras.engine.topology import Network\n",
    "from keras.models import Model\n",
    "from keras import backend as K\n",
    "from keras.optimizers import Adam\n",
    "def nnTransformWithCycleAndDis(al1k_train,acp_train,al1k_test,acp_test):\n",
    "    experiment = comet_ml.Experiment(\n",
    "            api_key='wRu2GizrrhvMrx22c5346ocuq',\n",
    "            project_name='Rosetta'\n",
    "        )\n",
    "    # mp to gene expression\n",
    "    configuration = tf.ConfigProto()\n",
    "    configuration.gpu_options.allow_growth = True\n",
    "    configuration.gpu_options.visible_device_list = \"0\"\n",
    "    session = tf.Session(config = configuration)\n",
    "\n",
    "    tf.keras.backend.set_session(session)\n",
    "    #     image_ge = keras.layers.Input(shape=[al1k_train.shape[1]-1,1])\n",
    "    #     image_ge = keras.layers.Input(shape=[al1k_train.shape[1]-1])\n",
    "    #     input_img = keras.layers.Input(shape=[img_shape,1])\n",
    "    #     image_ge2 = keras.backend.expand_dims(image_ge,axis=-1)\n",
    "    #     D_ge_0=modelDiscriminator2(image_ge)\n",
    "    image_ge, guess_ge=modelDiscriminator2(al1k_train.shape[1]-1)\n",
    "    #     D_ge_1=Model(inputs=image_ge, outputs=net, name='dis_B')\n",
    "\n",
    "    #     image_ge = keras.layers.Input([al1k_train.shape[1]-1])\n",
    "    #     D_ge_0=modelDiscriminator([al1k_train.shape[1]-1])\n",
    "\n",
    "    #     guess_ge=D_ge_1(image_ge)\n",
    "    D_ge = Model(inputs=image_ge, outputs=guess_ge, name='D_ge_model')\n",
    "    lr_D=2e-4;beta_1 = 0.5;beta_2 = 0.999\n",
    "    D_ge.compile(optimizer=Adam(lr_D,beta_1,beta_2),loss='mse',loss_weights=[0.5])\n",
    "\n",
    "    #     D_ge_static = Network(inputs=image_ge, outputs=guess_ge, name='D_ge_static_model')\n",
    "\n",
    "    real_mp, synthetic_ge= networksEvol.mp2ge_net(acp_train.shape[1]-1, al1k_train.shape[1]-1)\n",
    "    G_A2B=Model(inputs=real_mp, outputs=synthetic_ge, name='g_A2B')\n",
    "    #     print(real_mp,synthetic_ge,image_ge,keras.backend.squeeze(image_ge,2))\n",
    "    # identity mapping\n",
    "    #     image_ge_i=G_A2B(image_ge)\n",
    "    synthetic_mp= networksEvol.ge2mp_net(image_ge,al1k_train.shape[1]-1,acp_train.shape[1]-1)\n",
    "    image_ge_i=G_A2B(synthetic_mp)\n",
    "    #     print(image_ge,synthetic_mp,image_ge_i)\n",
    "    #     d_ge_guess_synthetic = D_ge_static(synthetic_ge)\n",
    "\n",
    "    #     synthetic_ge = mp2ge_net(real_mp)\n",
    "    reconstructed_mp = networksEvol.ge2mp_net(synthetic_ge,al1k_train.shape[1]-1,acp_train.shape[1]-1)\n",
    "\n",
    "    valid_ge=D_ge(synthetic_ge)\n",
    "    #     model_outputs = [synthetic_ge, reconstructed_mp,d_ge_guess_synthetic]\n",
    "    #     model_outputs = [reconstructed_mp,image_ge_i]\n",
    "    model_outputs = [reconstructed_mp,valid_ge]\n",
    "    # print(real_mp, model_outputs)\n",
    "    model_combined = Model(inputs=[real_mp,image_ge], outputs=model_outputs)\n",
    "    compile_losses=['mae','mse']\n",
    "    compile_weights=[10,1]\n",
    "    model_combined.compile(optimizer=keras.optimizers.Adam(lr=0.001), loss=compile_losses,loss_weights=compile_weights,metrics=['mae', networksEvol.pcc])   \n",
    "\n",
    "    #     cycleEnable=True    \n",
    "\n",
    "    #     dgen_train = MultimodalDataGenerator(acp_train, al1k_train,cycleEnable)\n",
    "    #     dgen_test = MultimodalDataGenerator(acp_test, al1k_test,cycleEnable)\n",
    "\n",
    "    #     cb=keras.callbacks.ReduceLROnPlateau(monitor='val_loss', factor=0.01,patience=5, min_lr=0.0001)\n",
    "\n",
    "    #     callback_csv = keras.callbacks.CSVLogger(filename=\"../../results/modelW/log_c.csv\")\n",
    "    #     callbacks = [cb, callback_csv]\n",
    "    #     model.fit_generator(generator=dgen_train, steps_per_epoch=5,epochs=300,verbose=0,\\\n",
    "    #                         validation_data=(acp_test.iloc[:,1:].values, [al1k_test.iloc[:,1:].values,acp_test.iloc[:,1:].values]),callbacks=callbacks)\n",
    "\n",
    "    epochs=50\n",
    "    steps=100\n",
    "    uniAls=acp_train['Allele'].unique()\n",
    "    for epoch in range(epochs):        \n",
    "        batch_of_alleles=uniAls[np.random.randint(uniAls.shape[0],size=steps)]\n",
    "        for batch_i in range(steps):\n",
    "            im_A_0=acp_train.loc[acp_train['Allele']==batch_of_alleles[batch_i],acp_train.columns[1:]].values;\n",
    "            im_B_0=al1k_train.loc[al1k_train['Allele']==batch_of_alleles[batch_i],al1k_train.columns[1:]].values;\n",
    "            real_images_A=np.copy(im_A_0)\n",
    "            np.random.shuffle(real_images_A)\n",
    "            real_images_A=real_images_A[0:16,:]\n",
    "            real_images_B=np.copy(im_B_0)\n",
    "            np.random.shuffle(real_images_B)\n",
    "            real_images_B=real_images_B[0:16,:]\n",
    "\n",
    "            # ======= Discriminator training ==========\n",
    "    #         print(im_A_0.shape)\n",
    "            synthetic_images_B = G_A2B.predict(real_images_A,steps=1)\n",
    "\n",
    "            batch_size=im_B_0.shape[0]\n",
    "            label_shape = (batch_size,) + D_ge.output_shape[1:]\n",
    "            ones = np.ones(shape=label_shape) \n",
    "            zeros = ones * 0    \n",
    "\n",
    "    #             synthetic_images_A = self.G_B2A.predict(real_images_B)\n",
    "    #             synthetic_images_A = synthetic_pool_A.query(synthetic_images_A)\n",
    "    #             synthetic_images_B = synthetic_pool_B.query(synthetic_images_B)\n",
    "    #             DA_loss_real = self.D_ge.train_on_batch(x=real_images_A, y=ones)\n",
    "    #       y=tf.ones_like(real_images_B)\n",
    "#             print(real_images_B.shape,ones.shape)\n",
    "            DB_loss_real = D_ge.train_on_batch(x=real_images_B, y=ones)\n",
    "    #             DA_loss_synthetic = self.D_ge.train_on_batch(x=synthetic_images_A, y=zeros)\n",
    "#             print(real_images_B.shape,synthetic_images_B.shape)\n",
    "            DB_loss_synthetic = D_ge.train_on_batch(x=synthetic_images_B, y=zeros)\n",
    "    #             DA_loss = DA_loss_real + DA_loss_synthetic\n",
    "            DB_loss = DB_loss_real + DB_loss_synthetic\n",
    "    #             D_loss = DA_loss + DB_loss            \n",
    "\n",
    "\n",
    "            # ======= Generator training ==========\n",
    "            target_data=[real_images_A,ones[0:real_images_A.shape[0]]]\n",
    "            G_loss = model_combined.train_on_batch(x=[real_images_A, real_images_B[0:real_images_A.shape[0],:]], y=target_data)\n",
    "\n",
    "            gA_d_loss_synthetic = G_loss[1]\n",
    "            gB_d_loss_synthetic = G_loss[2]\n",
    "            reconstruction_loss_A = G_loss[3]\n",
    "            reconstruction_loss_B = G_loss[4]\n",
    "\n",
    "            print('epoch:',epoch,'batch:',batch_i,'G_loss:',G_loss,'D_loss:',DB_loss)\n",
    "\n",
    "        predicted_ge = G_A2B.predict(np.asarray(acp_test)[:,1:])\n",
    "#             #     print(predicted_ge.shape, al1k_test.shape)\n",
    "#             #     cc=scipy.stats.pearsonr(predicted_ge[0].T, al1k_test.iloc[:,1:].values.T)\n",
    "#             cc=scipy.stats.pearsonr(predicted_ge.mean(axis=0).T, al1k_test.iloc[:,1:].values.mean(axis=0).T)\n",
    "#             print(cc)\n",
    "    return predicted_ge"
   ]
  },
  {
   "cell_type": "code",
   "execution_count": null,
   "metadata": {},
   "outputs": [],
   "source": []
  },
  {
   "cell_type": "code",
   "execution_count": null,
   "metadata": {},
   "outputs": [],
   "source": []
  },
  {
   "cell_type": "code",
   "execution_count": 147,
   "metadata": {},
   "outputs": [],
   "source": [
    "from keras_contrib.layers import InstanceNormalization\n",
    "def ck(x, k, use_normalization):\n",
    "    x = keras.layers.Conv1D(filters=k, kernel_size=4, strides=2, padding='same')(x)\n",
    "    # Normalization is not done on the first discriminator layer\n",
    "    if use_normalization:\n",
    "        x = InstanceNormalization(axis=2, center=True, epsilon=1e-5)(x, training=True)\n",
    "    x = keras.layers.LeakyReLU(alpha=0.2)(x)\n",
    "    return x\n",
    "\n",
    "def modelDiscriminator(input_img, name=None):\n",
    "    # Specify input \n",
    "#     input_img = keras.layers.Input(shape=[img_shape,1])\n",
    "#     input_img1=keras.backend.expand_dims(input_img,axis=-1)\n",
    "    # Layer 1 (#Instance normalization is not used for this layer)\n",
    "    x = ck(input_img, 64, False)\n",
    "    # Layer 2\n",
    "    x = ck(x, 128, True)\n",
    "    # Layer 3\n",
    "    x = ck(x, 256, True)\n",
    "    # Layer 4\n",
    "    x = ck(x, 512, True)\n",
    "    # Output layer\n",
    "    use_patchgan=False\n",
    "    if use_patchgan:\n",
    "        x = keras.layers.Conv2D(filters=1, kernel_size=4, strides=1, padding='same')(x)\n",
    "    else:\n",
    "        x = keras.layers.Flatten()(x)\n",
    "        x = keras.layers.Dense(1)(x)\n",
    "    x = keras.layers.Activation('sigmoid')(x)\n",
    "#     print(input_img,x)\n",
    "    return Model(inputs=input_img, outputs=x, name=name)\n",
    "\n",
    "def modelDiscriminator3(in_size, name=None):\n",
    "    inLayer2 = keras.layers.Input([in_size])\n",
    "    inputt=keras.layers.Reshape(in_size + (1, ), input_shape=in_size)(inLayer2)\n",
    "    x = ck(inputt, 64, False)\n",
    "    # Layer 2\n",
    "    x = ck(x, 128, True)\n",
    "    # Layer 3\n",
    "    x = ck(x, 256, True)\n",
    "    # Layer 4\n",
    "    x = ck(x, 512, True)\n",
    "    # Output layer\n",
    "    use_patchgan=False\n",
    "    if use_patchgan:\n",
    "        x = keras.layers.Conv2D(filters=1, kernel_size=4, strides=1, padding='same')(x)\n",
    "    else:\n",
    "        x = keras.layers.Flatten()(x)\n",
    "        x = keras.layers.Dense(1)(x)\n",
    "    net = keras.layers.Activation('sigmoid')(x)\n",
    "    return inLayer2,net\n",
    "\n",
    "def modelDiscriminator2(in_size, name=None):\n",
    "    inLayer2 = keras.layers.Input([in_size])\n",
    "    net = keras.layers.Dense(64, activation=\"relu\")(inLayer2)\n",
    "    net = keras.layers.BatchNormalization()(net)\n",
    "    net = keras.layers.Dense(128, activation=\"relu\")(net)\n",
    "    net = keras.layers.BatchNormalization()(net)\n",
    "    net = keras.layers.Dropout(0.5)(net)\n",
    "    net = keras.layers.Dense(512, activation=\"relu\")(net)\n",
    "    net = keras.layers.BatchNormalization()(net)\n",
    "    net = keras.layers.Dropout(0.5)(net)\n",
    "    net = keras.layers.Dense(1, activation=None)(net)\n",
    "    net = keras.layers.Activation('sigmoid')(net)\n",
    "    return inLayer2,net"
   ]
  }
 ],
 "metadata": {
  "kernelspec": {
   "display_name": "Python 3",
   "language": "python",
   "name": "python3"
  },
  "language_info": {
   "codemirror_mode": {
    "name": "ipython",
    "version": 3
   },
   "file_extension": ".py",
   "mimetype": "text/x-python",
   "name": "python",
   "nbconvert_exporter": "python",
   "pygments_lexer": "ipython3",
   "version": "3.8.3"
  }
 },
 "nbformat": 4,
 "nbformat_minor": 2
}
