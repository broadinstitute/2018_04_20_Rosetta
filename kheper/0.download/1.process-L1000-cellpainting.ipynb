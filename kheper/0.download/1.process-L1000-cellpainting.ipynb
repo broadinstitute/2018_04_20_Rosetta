{
 "cells": [
  {
   "cell_type": "markdown",
   "metadata": {},
   "source": [
    "# Process LINCS Cell Painting Data into Training and Testing Data\n",
    "\n",
    "Stratify all A549 profiles we have into 85% training and and 15% testing data.\n",
    "The data are balanced across perturbations."
   ]
  },
  {
   "cell_type": "code",
   "execution_count": 1,
   "metadata": {},
   "outputs": [],
   "source": [
    "import os\n",
    "import numpy as np\n",
    "import pandas as pd\n",
    "from sklearn.model_selection import train_test_split"
   ]
  },
  {
   "cell_type": "code",
   "execution_count": 2,
   "metadata": {},
   "outputs": [],
   "source": [
    "np.random.seed(123)"
   ]
  },
  {
   "cell_type": "code",
   "execution_count": 3,
   "metadata": {},
   "outputs": [],
   "source": [
    "test_proportion = 0.15"
   ]
  },
  {
   "cell_type": "code",
   "execution_count": 4,
   "metadata": {},
   "outputs": [],
   "source": [
    "project_name = \"2015_10_05_DrugRepurposing_AravindSubramanian_GolubLab_Broad\"\n",
    "project_dir = os.path.join(\"~\", \"bucket\", \"projects\", project_name)\n",
    "\n",
    "batch_name = \"2016_04_01_a549_48hr_batch1\"\n",
    "data_dir = os.path.join(project_dir, \"workspace\", \"backend\", batch_name)"
   ]
  },
  {
   "cell_type": "code",
   "execution_count": 5,
   "metadata": {},
   "outputs": [
    {
     "name": "stdout",
     "output_type": "stream",
     "text": [
      "(10752, 426)\n"
     ]
    },
    {
     "data": {
      "text/html": [
       "<div>\n",
       "<style scoped>\n",
       "    .dataframe tbody tr th:only-of-type {\n",
       "        vertical-align: middle;\n",
       "    }\n",
       "\n",
       "    .dataframe tbody tr th {\n",
       "        vertical-align: top;\n",
       "    }\n",
       "\n",
       "    .dataframe thead th {\n",
       "        text-align: right;\n",
       "    }\n",
       "</style>\n",
       "<table border=\"1\" class=\"dataframe\">\n",
       "  <thead>\n",
       "    <tr style=\"text-align: right;\">\n",
       "      <th></th>\n",
       "      <th>Metadata_broad_sample</th>\n",
       "      <th>Metadata_mmoles_per_liter</th>\n",
       "      <th>Metadata_moa</th>\n",
       "      <th>Metadata_pert_id</th>\n",
       "      <th>Metadata_pert_id_vendor</th>\n",
       "      <th>Metadata_pert_idose</th>\n",
       "      <th>Metadata_pert_iname</th>\n",
       "      <th>Metadata_pert_mfc_desc</th>\n",
       "      <th>Metadata_pert_mfc_id</th>\n",
       "      <th>Metadata_pert_vehicle</th>\n",
       "      <th>...</th>\n",
       "      <th>Nuclei_Texture_InverseDifferenceMoment_Mito_5_0</th>\n",
       "      <th>Nuclei_Texture_InverseDifferenceMoment_RNA_10_0</th>\n",
       "      <th>Nuclei_Texture_InverseDifferenceMoment_RNA_20_0</th>\n",
       "      <th>Nuclei_Texture_SumAverage_DNA_20_0</th>\n",
       "      <th>Nuclei_Texture_SumAverage_Mito_5_0</th>\n",
       "      <th>Nuclei_Texture_SumAverage_RNA_20_0</th>\n",
       "      <th>Nuclei_Texture_SumEntropy_DNA_10_0</th>\n",
       "      <th>Nuclei_Texture_SumEntropy_DNA_5_0</th>\n",
       "      <th>Nuclei_Texture_Variance_ER_20_0</th>\n",
       "      <th>Nuclei_Texture_Variance_RNA_10_0</th>\n",
       "    </tr>\n",
       "  </thead>\n",
       "  <tbody>\n",
       "    <tr>\n",
       "      <th>0</th>\n",
       "      <td>BRD-A00147595-001-01-5</td>\n",
       "      <td>0.041152</td>\n",
       "      <td>insulin sensitizer|PPAR receptor partial agonist</td>\n",
       "      <td>BRD-A00147595</td>\n",
       "      <td>NaN</td>\n",
       "      <td>0.041152</td>\n",
       "      <td>balaglitazone</td>\n",
       "      <td>balaglitazone</td>\n",
       "      <td>BRD-A00147595-001-01-5</td>\n",
       "      <td>DMSO</td>\n",
       "      <td>...</td>\n",
       "      <td>0.081673</td>\n",
       "      <td>0.650381</td>\n",
       "      <td>0.804025</td>\n",
       "      <td>-0.143705</td>\n",
       "      <td>0.595971</td>\n",
       "      <td>-0.874259</td>\n",
       "      <td>0.058965</td>\n",
       "      <td>-0.245046</td>\n",
       "      <td>-0.012409</td>\n",
       "      <td>-1.354363</td>\n",
       "    </tr>\n",
       "    <tr>\n",
       "      <th>1</th>\n",
       "      <td>BRD-A00147595-001-01-5</td>\n",
       "      <td>0.123457</td>\n",
       "      <td>insulin sensitizer|PPAR receptor partial agonist</td>\n",
       "      <td>BRD-A00147595</td>\n",
       "      <td>NaN</td>\n",
       "      <td>0.123457</td>\n",
       "      <td>balaglitazone</td>\n",
       "      <td>balaglitazone</td>\n",
       "      <td>BRD-A00147595-001-01-5</td>\n",
       "      <td>DMSO</td>\n",
       "      <td>...</td>\n",
       "      <td>0.335284</td>\n",
       "      <td>0.827858</td>\n",
       "      <td>0.998955</td>\n",
       "      <td>-0.621075</td>\n",
       "      <td>0.773121</td>\n",
       "      <td>0.098758</td>\n",
       "      <td>0.650768</td>\n",
       "      <td>0.303148</td>\n",
       "      <td>0.588129</td>\n",
       "      <td>-1.264081</td>\n",
       "    </tr>\n",
       "  </tbody>\n",
       "</table>\n",
       "<p>2 rows × 426 columns</p>\n",
       "</div>"
      ],
      "text/plain": [
       "    Metadata_broad_sample  Metadata_mmoles_per_liter  \\\n",
       "0  BRD-A00147595-001-01-5                   0.041152   \n",
       "1  BRD-A00147595-001-01-5                   0.123457   \n",
       "\n",
       "                                       Metadata_moa Metadata_pert_id  \\\n",
       "0  insulin sensitizer|PPAR receptor partial agonist    BRD-A00147595   \n",
       "1  insulin sensitizer|PPAR receptor partial agonist    BRD-A00147595   \n",
       "\n",
       "   Metadata_pert_id_vendor  Metadata_pert_idose Metadata_pert_iname  \\\n",
       "0                      NaN             0.041152       balaglitazone   \n",
       "1                      NaN             0.123457       balaglitazone   \n",
       "\n",
       "  Metadata_pert_mfc_desc    Metadata_pert_mfc_id Metadata_pert_vehicle  ...  \\\n",
       "0          balaglitazone  BRD-A00147595-001-01-5                  DMSO  ...   \n",
       "1          balaglitazone  BRD-A00147595-001-01-5                  DMSO  ...   \n",
       "\n",
       "  Nuclei_Texture_InverseDifferenceMoment_Mito_5_0  \\\n",
       "0                                        0.081673   \n",
       "1                                        0.335284   \n",
       "\n",
       "  Nuclei_Texture_InverseDifferenceMoment_RNA_10_0  \\\n",
       "0                                        0.650381   \n",
       "1                                        0.827858   \n",
       "\n",
       "   Nuclei_Texture_InverseDifferenceMoment_RNA_20_0  \\\n",
       "0                                         0.804025   \n",
       "1                                         0.998955   \n",
       "\n",
       "   Nuclei_Texture_SumAverage_DNA_20_0  Nuclei_Texture_SumAverage_Mito_5_0  \\\n",
       "0                           -0.143705                            0.595971   \n",
       "1                           -0.621075                            0.773121   \n",
       "\n",
       "   Nuclei_Texture_SumAverage_RNA_20_0  Nuclei_Texture_SumEntropy_DNA_10_0  \\\n",
       "0                           -0.874259                            0.058965   \n",
       "1                            0.098758                            0.650768   \n",
       "\n",
       "   Nuclei_Texture_SumEntropy_DNA_5_0  Nuclei_Texture_Variance_ER_20_0  \\\n",
       "0                          -0.245046                        -0.012409   \n",
       "1                           0.303148                         0.588129   \n",
       "\n",
       "   Nuclei_Texture_Variance_RNA_10_0  \n",
       "0                         -1.354363  \n",
       "1                         -1.264081  \n",
       "\n",
       "[2 rows x 426 columns]"
      ]
     },
     "execution_count": 5,
     "metadata": {},
     "output_type": "execute_result"
    }
   ],
   "source": [
    "file = os.path.join(data_dir, \"{}.csv\".format(batch_name))\n",
    "df = pd.read_csv(file, low_memory=False)\n",
    "\n",
    "# For some reason, some metadata is missing\n",
    "df.loc[df.Metadata_pert_id == \"BRD-K60230970\", \"Metadata_pert_iname\"] = \"MG-132\"\n",
    "df.loc[df.Metadata_pert_id == \"BRD-K50691590\", \"Metadata_pert_iname\"] = \"bortezomib\"\n",
    "df.loc[df.Metadata_broad_sample == \"DMSO\", [\"Metadata_pert_iname\", \"Metadata_pert_id\"]] = \"DMSO\"\n",
    "\n",
    "print(df.shape)\n",
    "df.head(2)"
   ]
  },
  {
   "cell_type": "code",
   "execution_count": 6,
   "metadata": {},
   "outputs": [],
   "source": [
    "# Load Additional Annotations\n",
    "folder = \"2016_04_01_a549_48hr_batch1_CellPainting_CPfeats_whitened\"\n",
    "meta_dir = os.path.join(project_dir, \"workspace\", \"metadata\", folder)\n",
    "\n",
    "file = os.path.join(meta_dir, \"level_4_col_meta_n52223.txt\")\n",
    "annot_df = pd.read_csv(file, sep='\\t')"
   ]
  },
  {
   "cell_type": "code",
   "execution_count": 7,
   "metadata": {},
   "outputs": [
    {
     "data": {
      "text/plain": [
       "A549    52223\n",
       "Name: cell_id, dtype: int64"
      ]
     },
     "execution_count": 7,
     "metadata": {},
     "output_type": "execute_result"
    }
   ],
   "source": [
    "annot_df.cell_id.value_counts()"
   ]
  },
  {
   "cell_type": "code",
   "execution_count": 8,
   "metadata": {},
   "outputs": [],
   "source": [
    "train_x, test_x = train_test_split(df, test_size=test_proportion, stratify=df.Metadata_pert_id)"
   ]
  },
  {
   "cell_type": "markdown",
   "metadata": {},
   "source": [
    "## Output Training and Testing Data"
   ]
  },
  {
   "cell_type": "code",
   "execution_count": 9,
   "metadata": {},
   "outputs": [
    {
     "name": "stdout",
     "output_type": "stream",
     "text": [
      "(9139, 426)\n"
     ]
    }
   ],
   "source": [
    "print(train_x.shape)\n",
    "\n",
    "file = os.path.join(\"data\", \"cp_train_data.tsv.gz\")\n",
    "train_x.to_csv(file, sep='\\t', index=False)"
   ]
  },
  {
   "cell_type": "code",
   "execution_count": 10,
   "metadata": {},
   "outputs": [
    {
     "name": "stdout",
     "output_type": "stream",
     "text": [
      "(1613, 426)\n"
     ]
    }
   ],
   "source": [
    "print(test_x.shape)\n",
    "\n",
    "file = os.path.join(\"data\", \"cp_test_data.tsv.gz\")\n",
    "test_x.to_csv(file, sep='\\t', index=False)"
   ]
  }
 ],
 "metadata": {
  "kernelspec": {
   "display_name": "Python [conda env:kheper]",
   "language": "python",
   "name": "conda-env-kheper-py"
  },
  "language_info": {
   "codemirror_mode": {
    "name": "ipython",
    "version": 3
   },
   "file_extension": ".py",
   "mimetype": "text/x-python",
   "name": "python",
   "nbconvert_exporter": "python",
   "pygments_lexer": "ipython3",
   "version": "3.7.3"
  }
 },
 "nbformat": 4,
 "nbformat_minor": 2
}
