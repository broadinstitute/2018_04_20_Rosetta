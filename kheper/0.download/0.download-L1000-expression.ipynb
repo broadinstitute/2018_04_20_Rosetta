{
 "cells": [
  {
   "cell_type": "markdown",
   "metadata": {},
   "source": [
    "# Download and Process L1000 Gene Expresison Data\n",
    "\n",
    "Here, I download the official L1000 Gene Expression data (**PHASE I**) from [GSE92743](https://www.ncbi.nlm.nih.gov/geo/query/acc.cgi?acc=GSE92742).\n",
    "I download level 4 data subset to landmark genes.\n",
    "\n",
    "More information about the data can be viewed [here](https://clue.io/connectopedia/guide_to_geo_l1000_data)"
   ]
  },
  {
   "cell_type": "code",
   "execution_count": 1,
   "metadata": {},
   "outputs": [],
   "source": [
    "import os\n",
    "import sys\n",
    "import pandas as pd\n",
    "\n",
    "sys.path.append(\"..\")\n",
    "from scripts.download_utils import download_data"
   ]
  },
  {
   "cell_type": "code",
   "execution_count": 2,
   "metadata": {},
   "outputs": [],
   "source": [
    "base_url = \"ftp://ftp.ncbi.nlm.nih.gov/geo/series/GSE92nnn/GSE92742/suppl/\"\n",
    "base_dir = \"data\""
   ]
  },
  {
   "cell_type": "markdown",
   "metadata": {},
   "source": [
    "## Dowload Gene Expression Data\n",
    "\n",
    "Level 4 (normalized data)"
   ]
  },
  {
   "cell_type": "code",
   "execution_count": 3,
   "metadata": {},
   "outputs": [],
   "source": [
    "file_name = \"GSE92742_Broad_LINCS_Level4_ZSPCINF_mlr12k_n1319138x12328.gctx.gz\"\n",
    "\n",
    "download_data(base_url=base_url,\n",
    "              name=file_name,\n",
    "              folder=base_dir,\n",
    "              append_url=True)"
   ]
  },
  {
   "cell_type": "markdown",
   "metadata": {},
   "source": [
    "### Uncompress File"
   ]
  },
  {
   "cell_type": "code",
   "execution_count": 4,
   "metadata": {},
   "outputs": [],
   "source": [
    "! gunzip \"data/GSE92742_Broad_LINCS_Level4_ZSPCINF_mlr12k_n1319138x12328.gctx.gz\""
   ]
  },
  {
   "cell_type": "markdown",
   "metadata": {},
   "source": [
    "## Download Other L1000 Meta Data"
   ]
  },
  {
   "cell_type": "code",
   "execution_count": 5,
   "metadata": {},
   "outputs": [],
   "source": [
    "file_names = [\n",
    "    \"GSE92742_Broad_LINCS_cell_info.txt.gz\",\n",
    "    \"GSE92742_Broad_LINCS_gene_info.txt.gz\",\n",
    "    \"GSE92742_Broad_LINCS_pert_info.txt.gz\",\n",
    "    \"GSE92742_Broad_LINCS_pert_metrics.txt.gz\",\n",
    "    \"GSE92742_Broad_LINCS_inst_info.txt.gz\",\n",
    "]"
   ]
  },
  {
   "cell_type": "code",
   "execution_count": 6,
   "metadata": {},
   "outputs": [],
   "source": [
    "for file_name in file_names:\n",
    "    # Download additional metadata\n",
    "    download_data(\n",
    "        base_url=base_url,\n",
    "        name=file_name,\n",
    "        folder=base_dir,\n",
    "        append_url=True\n",
    "    )"
   ]
  }
 ],
 "metadata": {
  "kernelspec": {
   "display_name": "Python [conda env:kheper]",
   "language": "python",
   "name": "conda-env-kheper-py"
  },
  "language_info": {
   "codemirror_mode": {
    "name": "ipython",
    "version": 3
   },
   "file_extension": ".py",
   "mimetype": "text/x-python",
   "name": "python",
   "nbconvert_exporter": "python",
   "pygments_lexer": "ipython3",
   "version": "3.7.3"
  }
 },
 "nbformat": 4,
 "nbformat_minor": 2
}
