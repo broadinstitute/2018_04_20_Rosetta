{
 "cells": [
  {
   "cell_type": "code",
   "execution_count": 221,
   "metadata": {},
   "outputs": [
    {
     "name": "stdout",
     "output_type": "stream",
     "text": [
      "The autoreload extension is already loaded. To reload it, use:\n",
      "  %reload_ext autoreload\n"
     ]
    }
   ],
   "source": [
    "%matplotlib inline\n",
    "%load_ext autoreload\n",
    "%autoreload 2\n",
    "from comet_ml import Experiment\n",
    "import numpy as np\n",
    "import scipy.spatial\n",
    "import pandas as pd\n",
    "import comet_ml\n",
    "import sklearn.decomposition\n",
    "import matplotlib.pyplot as plt\n",
    "# import keras\n",
    "from sklearn import preprocessing\n",
    "from sklearn.metrics import pairwise_distances,mean_absolute_error, mean_squared_error\n",
    "import matplotlib.pyplot as plt\n",
    "import seaborn as sns\n",
    "from utils.readProfiles import readMergedProfiles,readMergedProfiles2\n",
    "from utils.pred_models import *\n",
    "from utils.saveAsNewSheetToExistingFile import saveAsNewSheetToExistingFile\n",
    "\n",
    "# from utils import networksEvol, tsne, readProfiles\n",
    "import umap"
   ]
  },
  {
   "cell_type": "markdown",
   "metadata": {},
   "source": [
    "#### In this notebook we test how combinting two data modalities will improve preformance of the following tasks:\n",
    "    1 - MOA prediction\n",
    "    2 - ?"
   ]
  },
  {
   "cell_type": "markdown",
   "metadata": {},
   "source": [
    "## MOA Prediction:\n",
    "- Methods:\n",
    "    - Baseline: simple concatenation\n",
    "    - SNF\n",
    "    - prbabilistic modeling"
   ]
  },
  {
   "cell_type": "code",
   "execution_count": 2,
   "metadata": {},
   "outputs": [
    {
     "data": {
      "text/plain": [
       "['replicate_level_cp_normalized_dmso.csv.gz',\n",
       " 'replicate_level_cp_augmented.csv.gz',\n",
       " 'replicate_level_cp_normalized_feature_select_dmso.csv.gz',\n",
       " 'replicate_level_cp_normalized_feature_select.csv.gz',\n",
       " 'replicate_level_cp_normalized.csv.gz']"
      ]
     },
     "execution_count": 2,
     "metadata": {},
     "output_type": "execute_result"
    }
   ],
   "source": [
    "# list(set(mergProf_treatLevel.columns.tolist())-set(l1k_features))\n",
    "import os\n",
    "os.listdir('./preprocessed_data/LINCS-Pilot1/CellPainting/')"
   ]
  },
  {
   "cell_type": "markdown",
   "metadata": {},
   "source": [
    "## Treatment level"
   ]
  },
  {
   "cell_type": "code",
   "execution_count": null,
   "metadata": {},
   "outputs": [],
   "source": []
  },
  {
   "cell_type": "code",
   "execution_count": 384,
   "metadata": {},
   "outputs": [
    {
     "name": "stderr",
     "output_type": "stream",
     "text": [
      "/home/ubuntu/anaconda3/lib/python3.8/site-packages/IPython/core/interactiveshell.py:3263: DtypeWarning: Columns (1800,1801,1802,1803) have mixed types.Specify dtype option on import or set low_memory=False.\n",
      "  if (await self.run_code(code, result,  async_=asy)):\n"
     ]
    },
    {
     "name": "stdout",
     "output_type": "stream",
     "text": [
      "CDRP: Replicate Level Shapes (nSamples x nFeatures): cp:  153386 , 1565 ,  l1k:  68120 , 977\n",
      "l1k n of rep:  3.0\n",
      "cp n of rep:  4.0\n",
      "Treatment Level Shapes (nSamples x nFeatures+metadata): (30620, 1568) (21850, 981) Merged Profiles Shape: (20131, 2548)\n"
     ]
    }
   ],
   "source": [
    "dataset_rootDir='./';pertColName='PERT'\n",
    "# datasets=['LUAD', 'TAORF', 'LINCS', 'CDRP-bio'];\n",
    "# dataset options: 'CDRP' , 'LUAD', 'TAORF', 'LINCS','CDRP-bio'\n",
    "dataset='CDRP';\n",
    "\n",
    "# CP Profile Type options: 'augmented' , 'normalized', 'normalized_variable_selected'\n",
    "# lincs --> normalized_feature_select_dmso\n",
    "profileType='normalized'\n",
    "profileLevel='treatment'; #'replicate'  or  'treatment'\n",
    "highRepOverlapEnabled=0\n",
    "\n",
    "# n of samples for replicate picking options: numbers or, 'max'\n",
    "nRep=1\n",
    "mergProf_repLevel,mergProf_treatLevel,cp_features,l1k_features=\\\n",
    "readMergedProfiles(dataset_rootDir,dataset,profileType,profileLevel,nRep,highRepOverlapEnabled);\n",
    "# mergProf_repLevel,mergProf_treatLevel,l1k_features,cp_features,pertColName=readMergedProfiles(dataset,profileType,nRep)\n",
    "# cp_features,l1k_features=cp_features.tolist(),l1k_features.tolist()\n",
    "# mergProf_repLevel['Compounds']=mergProf_repLevel['PERT'].str[0:13]\n",
    "\n",
    "if profileLevel=='replicate':\n",
    "    l1k=mergProf_repLevel[[pertColName]+l1k_features]\n",
    "    cp=mergProf_repLevel[[pertColName]+cp_features]\n",
    "elif profileLevel=='treatment':\n",
    "    l1k=mergProf_treatLevel[list(set(mergProf_treatLevel.columns.tolist())-set(cp_features))]\n",
    "    cp=mergProf_treatLevel[list(set(mergProf_treatLevel.columns.tolist())-set(l1k_features))]\n",
    "\n",
    "\n",
    "scaler_ge = preprocessing.StandardScaler()\n",
    "scaler_cp = preprocessing.StandardScaler()\n",
    "l1k_scaled=l1k.copy()\n",
    "l1k_scaled[l1k_features] = scaler_ge.fit_transform(l1k[l1k_features].values)\n",
    "cp_scaled=cp.copy()\n",
    "cp_scaled[cp_features] = scaler_cp.fit_transform(cp[cp_features].values.astype('float64'))\n",
    "\n",
    "\n",
    "if 1:\n",
    "    cp_scaled[cp_features] =preprocessing.MinMaxScaler(feature_range=(0, 1)).fit_transform(cp_scaled[cp_features].values)   \n",
    "    l1k_scaled[l1k_features] =preprocessing.MinMaxScaler(feature_range=(0, 1)).fit_transform(l1k_scaled[l1k_features].values)           \n",
    "\n",
    "\n",
    "\n",
    "# moa_col='moa'\n",
    "moa_col='Metadata_moa'\n",
    "if 1:\n",
    "    cp=cp_scaled.copy()\n",
    "    l1k=l1k_scaled.copy()\n",
    "#     merged_scaled=pd.merge(cp, l1k, how='inner',on=['PERT',moa_col]);\n",
    "\n",
    "# ###    l1k[moa_col]=cp[moa_col] # for CDRP\n",
    "####     merged_scaled=pd.merge(cp, l1k, how='inner',on=['PERT',moa_col]); # for CDRP\n",
    "    merged_scaled=pd.concat([cp, l1k], axis=1)\n",
    "    merged_scaled = merged_scaled.loc[:,~merged_scaled.columns.duplicated()]"
   ]
  },
  {
   "cell_type": "code",
   "execution_count": 350,
   "metadata": {},
   "outputs": [],
   "source": [
    "merged_scaled = merged_scaled.loc[:,~merged_scaled.columns.duplicated()]"
   ]
  },
  {
   "cell_type": "code",
   "execution_count": 342,
   "metadata": {},
   "outputs": [
    {
     "data": {
      "text/plain": [
       "((20131, 984), (20131, 1572))"
      ]
     },
     "execution_count": 342,
     "metadata": {},
     "output_type": "execute_result"
    }
   ],
   "source": [
    "# just_comp_treatLevel=mergProf_treatLevel[mergProf_treatLevel['PERT']=='DMSO']\n",
    "# mergProf_treatLevel[mergProf_treatLevel['PERT']=='DMSO'].shape\n",
    "l1k.shape,cp.shape"
   ]
  },
  {
   "cell_type": "code",
   "execution_count": 239,
   "metadata": {},
   "outputs": [
    {
     "data": {
      "text/plain": [
       "(592, 1584)"
      ]
     },
     "execution_count": 239,
     "metadata": {},
     "output_type": "execute_result"
    }
   ],
   "source": [
    "mergProf_treatLevel[mergProf_treatLevel['Metadata_moa'].isnull()].shape"
   ]
  },
  {
   "cell_type": "code",
   "execution_count": 236,
   "metadata": {},
   "outputs": [
    {
     "data": {
      "text/plain": [
       "(1919, 1584)"
      ]
     },
     "execution_count": 236,
     "metadata": {},
     "output_type": "execute_result"
    }
   ],
   "source": [
    "mergProf_treatLevel.shape"
   ]
  },
  {
   "cell_type": "code",
   "execution_count": null,
   "metadata": {},
   "outputs": [],
   "source": []
  },
  {
   "cell_type": "code",
   "execution_count": 330,
   "metadata": {},
   "outputs": [
    {
     "data": {
      "text/plain": [
       "0.6915059927045336"
      ]
     },
     "execution_count": 330,
     "metadata": {},
     "output_type": "execute_result"
    }
   ],
   "source": [
    "mergProf_treatLevel[~mergProf_treatLevel['Metadata_moa'].isnull()].shape[0]/mergProf_treatLevel.shape[0]"
   ]
  },
  {
   "cell_type": "code",
   "execution_count": 234,
   "metadata": {},
   "outputs": [
    {
     "data": {
      "text/plain": [
       "(1919, 1584)"
      ]
     },
     "execution_count": 234,
     "metadata": {},
     "output_type": "execute_result"
    }
   ],
   "source": [
    "mergProf_treatLevel.shape"
   ]
  },
  {
   "cell_type": "code",
   "execution_count": 574,
   "metadata": {},
   "outputs": [],
   "source": [
    "# LINCS: Replicate Level Shapes (nSamples x nFeatures): cp:  52223 , 1670 ,  l1k:  27837 , 978\n",
    "# l1k n of rep:  3.0\n",
    "# cp n of rep:  5.0\n",
    "# CP: from  9394  to  4647\n",
    "# l1k: from  8369  to  2338\n",
    "# CP and l1k high rep overlap:  1140\n",
    "# Treatment Level Shapes (nSamples x nFeatures+metadata): (1141, 1671) (1141, 979) Merged Profiles Shape: (1141, 2649)\n"
   ]
  },
  {
   "cell_type": "code",
   "execution_count": 34,
   "metadata": {},
   "outputs": [
    {
     "data": {
      "image/png": "[encoded data removed]",
      "text/plain": [
       "<Figure size 432x288 with 1 Axes>"
      ]
     },
     "metadata": {
      "needs_background": "light"
     },
     "output_type": "display_data"
    }
   ],
   "source": [
    "repp_df=mergProf_treatLevel.groupby(['Metadata_moa']).size().reset_index().rename(columns={0:'nrep'}).groupby(['nrep']).size().reset_index()\n",
    "plt.bar(repp_df['nrep'].values, repp_df[0].values);"
   ]
  },
  {
   "cell_type": "code",
   "execution_count": 133,
   "metadata": {},
   "outputs": [
    {
     "data": {
      "image/png": "[encoded data removed]",
      "text/plain": [
       "<Figure size 432x288 with 1 Axes>"
      ]
     },
     "metadata": {
      "needs_background": "light"
     },
     "output_type": "display_data"
    }
   ],
   "source": [
    "repp_df=mergProf_treatLevel.groupby(['moa']).size().reset_index().rename(columns={0:'nrep'}).groupby(['nrep']).size().reset_index()\n",
    "plt.bar(repp_df['nrep'].values, repp_df[0].values);"
   ]
  },
  {
   "cell_type": "code",
   "execution_count": 139,
   "metadata": {},
   "outputs": [],
   "source": [
    "# mergProf_treatLevel.groupby(['moa']).size().reset_index().rename(columns={0:'nrep'}).sort_values(by='nrep')\n",
    "moa_col='moa'"
   ]
  },
  {
   "cell_type": "code",
   "execution_count": 292,
   "metadata": {},
   "outputs": [
    {
     "name": "stdout",
     "output_type": "stream",
     "text": [
      "191\n"
     ]
    }
   ],
   "source": [
    "nSamplesforEachMOAclass=mergProf_treatLevel.groupby(['Metadata_moa']).size().reset_index().rename(columns={0:'size'}).sort_values(by=['size'],ascending=False).reset_index(drop=True)\n",
    "listOfSelectedMoAs=nSamplesforEachMOAclass[nSamplesforEachMOAclass['size']>1]['Metadata_moa'].tolist()\n",
    "print(len(listOfSelectedMoAs))"
   ]
  },
  {
   "cell_type": "code",
   "execution_count": 225,
   "metadata": {},
   "outputs": [
    {
     "name": "stdout",
     "output_type": "stream",
     "text": [
      "14\n"
     ]
    }
   ],
   "source": [
    "# mergProf_treatLevel['Metadata_moa']=mergProf_treatLevel['Metadata_moa'].str.lower()\n",
    "nSamplesforEachMOAclass=mergProf_treatLevel.groupby(['Metadata_moa']).size().reset_index().rename(columns={0:'size'}).sort_values(by=['size'],ascending=False).reset_index(drop=True)\n",
    "listOfSelectedMoAs=nSamplesforEachMOAclass[nSamplesforEachMOAclass['size']>1]['Metadata_moa'].tolist()\n",
    "print(len(listOfSelectedMoAs))"
   ]
  },
  {
   "cell_type": "code",
   "execution_count": 226,
   "metadata": {},
   "outputs": [
    {
     "data": {
      "text/plain": [
       "['ATPase inhibitor',\n",
       " 'tubulin polymerization inhibitor',\n",
       " 'CDK inhibitor',\n",
       " 'retinoid receptor agonist',\n",
       " 'calcium channel blocker',\n",
       " 'dopamine receptor antagonist',\n",
       " 'protein synthesis inhibitor',\n",
       " 'mitochondrial oxidative phosphorylation uncoupler',\n",
       " 'HDAC inhibitor|cell cycle inhibitor',\n",
       " 'HDAC inhibitor',\n",
       " 'protein tyrosine kinase inhibitor|tyrosine kinase inhibitor',\n",
       " 'EGFR inhibitor',\n",
       " 'p38 MAPK inhibitor',\n",
       " 'topoisomerase inhibitor']"
      ]
     },
     "execution_count": 226,
     "metadata": {},
     "output_type": "execute_result"
    }
   ],
   "source": [
    "listOfSelectedMoAs"
   ]
  },
  {
   "cell_type": "code",
   "execution_count": 144,
   "metadata": {},
   "outputs": [],
   "source": [
    "# mergProf_treatLevel['moa'].str.lower().unique().shape"
   ]
  },
  {
   "cell_type": "code",
   "execution_count": 143,
   "metadata": {},
   "outputs": [],
   "source": [
    "# mergProf_treatLevel['moa'].unique().shape"
   ]
  },
  {
   "cell_type": "code",
   "execution_count": 36,
   "metadata": {},
   "outputs": [
    {
     "data": {
      "text/html": [
       "<div>\n",
       "<style scoped>\n",
       "    .dataframe tbody tr th:only-of-type {\n",
       "        vertical-align: middle;\n",
       "    }\n",
       "\n",
       "    .dataframe tbody tr th {\n",
       "        vertical-align: top;\n",
       "    }\n",
       "\n",
       "    .dataframe thead th {\n",
       "        text-align: right;\n",
       "    }\n",
       "</style>\n",
       "<table border=\"1\" class=\"dataframe\">\n",
       "  <thead>\n",
       "    <tr style=\"text-align: right;\">\n",
       "      <th></th>\n",
       "      <th>Metadata_moa</th>\n",
       "      <th>size</th>\n",
       "    </tr>\n",
       "  </thead>\n",
       "  <tbody>\n",
       "    <tr>\n",
       "      <th>0</th>\n",
       "      <td>adrenergic receptor antagonist</td>\n",
       "      <td>160</td>\n",
       "    </tr>\n",
       "    <tr>\n",
       "      <th>1</th>\n",
       "      <td>phosphodiesterase inhibitor</td>\n",
       "      <td>159</td>\n",
       "    </tr>\n",
       "    <tr>\n",
       "      <th>2</th>\n",
       "      <td>cyclooxygenase inhibitor</td>\n",
       "      <td>144</td>\n",
       "    </tr>\n",
       "    <tr>\n",
       "      <th>3</th>\n",
       "      <td>histamine receptor antagonist</td>\n",
       "      <td>115</td>\n",
       "    </tr>\n",
       "    <tr>\n",
       "      <th>4</th>\n",
       "      <td>acetylcholine receptor antagonist</td>\n",
       "      <td>100</td>\n",
       "    </tr>\n",
       "    <tr>\n",
       "      <th>...</th>\n",
       "      <td>...</td>\n",
       "      <td>...</td>\n",
       "    </tr>\n",
       "    <tr>\n",
       "      <th>547</th>\n",
       "      <td>dna directed dna polymerase inhibitor|dna synt...</td>\n",
       "      <td>5</td>\n",
       "    </tr>\n",
       "    <tr>\n",
       "      <th>548</th>\n",
       "      <td>glucagon receptor antagonist</td>\n",
       "      <td>5</td>\n",
       "    </tr>\n",
       "    <tr>\n",
       "      <th>549</th>\n",
       "      <td>leukotriene receptor antagonist|lipoxygenase i...</td>\n",
       "      <td>4</td>\n",
       "    </tr>\n",
       "    <tr>\n",
       "      <th>550</th>\n",
       "      <td>flt3 inhibitor|kit inhibitor|pdgfr tyrosine ki...</td>\n",
       "      <td>4</td>\n",
       "    </tr>\n",
       "    <tr>\n",
       "      <th>551</th>\n",
       "      <td>chk inhibitor|cytochrome p450 activator|indole...</td>\n",
       "      <td>4</td>\n",
       "    </tr>\n",
       "  </tbody>\n",
       "</table>\n",
       "<p>552 rows × 2 columns</p>\n",
       "</div>"
      ],
      "text/plain": [
       "                                          Metadata_moa  size\n",
       "0                       adrenergic receptor antagonist   160\n",
       "1                          phosphodiesterase inhibitor   159\n",
       "2                             cyclooxygenase inhibitor   144\n",
       "3                        histamine receptor antagonist   115\n",
       "4                    acetylcholine receptor antagonist   100\n",
       "..                                                 ...   ...\n",
       "547  dna directed dna polymerase inhibitor|dna synt...     5\n",
       "548                       glucagon receptor antagonist     5\n",
       "549  leukotriene receptor antagonist|lipoxygenase i...     4\n",
       "550  flt3 inhibitor|kit inhibitor|pdgfr tyrosine ki...     4\n",
       "551  chk inhibitor|cytochrome p450 activator|indole...     4\n",
       "\n",
       "[552 rows x 2 columns]"
      ]
     },
     "execution_count": 36,
     "metadata": {},
     "output_type": "execute_result"
    }
   ],
   "source": [
    "# mergProf_treatLevel.Metadata_moa.unique().shape\n",
    "nSamplesforEachMOAclass"
   ]
  },
  {
   "cell_type": "code",
   "execution_count": 271,
   "metadata": {},
   "outputs": [
    {
     "data": {
      "text/plain": [
       "Index(['Metadata_moa'], dtype='object')"
      ]
     },
     "execution_count": 271,
     "metadata": {},
     "output_type": "execute_result"
    }
   ],
   "source": [
    "merged_scaled.columns[merged_scaled.columns.str.contains('moa')]"
   ]
  },
  {
   "cell_type": "code",
   "execution_count": 130,
   "metadata": {},
   "outputs": [
    {
     "data": {
      "text/html": [
       "<div>\n",
       "<style scoped>\n",
       "    .dataframe tbody tr th:only-of-type {\n",
       "        vertical-align: middle;\n",
       "    }\n",
       "\n",
       "    .dataframe tbody tr th {\n",
       "        vertical-align: top;\n",
       "    }\n",
       "\n",
       "    .dataframe thead th {\n",
       "        text-align: right;\n",
       "    }\n",
       "</style>\n",
       "<table border=\"1\" class=\"dataframe\">\n",
       "  <thead>\n",
       "    <tr style=\"text-align: right;\">\n",
       "      <th></th>\n",
       "      <th>Metadata_alternative_moa_x</th>\n",
       "      <th>Metadata_moa_x</th>\n",
       "      <th>moa_x</th>\n",
       "      <th>moa_y</th>\n",
       "      <th>Metadata_moa_y</th>\n",
       "      <th>Metadata_alternative_moa_y</th>\n",
       "    </tr>\n",
       "  </thead>\n",
       "  <tbody>\n",
       "    <tr>\n",
       "      <th>0</th>\n",
       "      <td>NaN</td>\n",
       "      <td>insulin sensitizer|PPAR receptor partial agonist</td>\n",
       "      <td>Insulin sensitizer|PPAR receptor partial agonist</td>\n",
       "      <td>Insulin sensitizer|PPAR receptor partial agonist</td>\n",
       "      <td>insulin sensitizer|PPAR receptor partial agonist</td>\n",
       "      <td>NaN</td>\n",
       "    </tr>\n",
       "    <tr>\n",
       "      <th>1</th>\n",
       "      <td>NaN</td>\n",
       "      <td>insulin sensitizer|PPAR receptor partial agonist</td>\n",
       "      <td>Insulin sensitizer|PPAR receptor partial agonist</td>\n",
       "      <td>Insulin sensitizer|PPAR receptor partial agonist</td>\n",
       "      <td>insulin sensitizer|PPAR receptor partial agonist</td>\n",
       "      <td>NaN</td>\n",
       "    </tr>\n",
       "    <tr>\n",
       "      <th>2</th>\n",
       "      <td>NaN</td>\n",
       "      <td>insulin sensitizer|PPAR receptor partial agonist</td>\n",
       "      <td>Insulin sensitizer|PPAR receptor partial agonist</td>\n",
       "      <td>Insulin sensitizer|PPAR receptor partial agonist</td>\n",
       "      <td>insulin sensitizer|PPAR receptor partial agonist</td>\n",
       "      <td>NaN</td>\n",
       "    </tr>\n",
       "    <tr>\n",
       "      <th>3</th>\n",
       "      <td>NaN</td>\n",
       "      <td>insulin sensitizer|PPAR receptor partial agonist</td>\n",
       "      <td>Insulin sensitizer|PPAR receptor partial agonist</td>\n",
       "      <td>Insulin sensitizer|PPAR receptor partial agonist</td>\n",
       "      <td>insulin sensitizer|PPAR receptor partial agonist</td>\n",
       "      <td>NaN</td>\n",
       "    </tr>\n",
       "    <tr>\n",
       "      <th>4</th>\n",
       "      <td>NaN</td>\n",
       "      <td>insulin sensitizer|PPAR receptor partial agonist</td>\n",
       "      <td>Insulin sensitizer|PPAR receptor partial agonist</td>\n",
       "      <td>Insulin sensitizer|PPAR receptor partial agonist</td>\n",
       "      <td>insulin sensitizer|PPAR receptor partial agonist</td>\n",
       "      <td>NaN</td>\n",
       "    </tr>\n",
       "    <tr>\n",
       "      <th>...</th>\n",
       "      <td>...</td>\n",
       "      <td>...</td>\n",
       "      <td>...</td>\n",
       "      <td>...</td>\n",
       "      <td>...</td>\n",
       "      <td>...</td>\n",
       "    </tr>\n",
       "    <tr>\n",
       "      <th>6980</th>\n",
       "      <td>NaN</td>\n",
       "      <td>NaN</td>\n",
       "      <td>Potassium channel activator</td>\n",
       "      <td>Potassium channel activator</td>\n",
       "      <td>NaN</td>\n",
       "      <td>NaN</td>\n",
       "    </tr>\n",
       "    <tr>\n",
       "      <th>6981</th>\n",
       "      <td>NaN</td>\n",
       "      <td>NaN</td>\n",
       "      <td>Potassium channel activator</td>\n",
       "      <td>Potassium channel activator</td>\n",
       "      <td>NaN</td>\n",
       "      <td>NaN</td>\n",
       "    </tr>\n",
       "    <tr>\n",
       "      <th>6982</th>\n",
       "      <td>NaN</td>\n",
       "      <td>NaN</td>\n",
       "      <td>Potassium channel activator</td>\n",
       "      <td>Potassium channel activator</td>\n",
       "      <td>NaN</td>\n",
       "      <td>NaN</td>\n",
       "    </tr>\n",
       "    <tr>\n",
       "      <th>6983</th>\n",
       "      <td>NaN</td>\n",
       "      <td>NaN</td>\n",
       "      <td>Potassium channel activator</td>\n",
       "      <td>Potassium channel activator</td>\n",
       "      <td>NaN</td>\n",
       "      <td>NaN</td>\n",
       "    </tr>\n",
       "    <tr>\n",
       "      <th>6984</th>\n",
       "      <td>NaN</td>\n",
       "      <td>NaN</td>\n",
       "      <td>Control vehicle</td>\n",
       "      <td>Control vehicle</td>\n",
       "      <td>NaN</td>\n",
       "      <td>NaN</td>\n",
       "    </tr>\n",
       "  </tbody>\n",
       "</table>\n",
       "<p>6985 rows × 6 columns</p>\n",
       "</div>"
      ],
      "text/plain": [
       "     Metadata_alternative_moa_x  \\\n",
       "0                           NaN   \n",
       "1                           NaN   \n",
       "2                           NaN   \n",
       "3                           NaN   \n",
       "4                           NaN   \n",
       "...                         ...   \n",
       "6980                        NaN   \n",
       "6981                        NaN   \n",
       "6982                        NaN   \n",
       "6983                        NaN   \n",
       "6984                        NaN   \n",
       "\n",
       "                                        Metadata_moa_x  \\\n",
       "0     insulin sensitizer|PPAR receptor partial agonist   \n",
       "1     insulin sensitizer|PPAR receptor partial agonist   \n",
       "2     insulin sensitizer|PPAR receptor partial agonist   \n",
       "3     insulin sensitizer|PPAR receptor partial agonist   \n",
       "4     insulin sensitizer|PPAR receptor partial agonist   \n",
       "...                                                ...   \n",
       "6980                                               NaN   \n",
       "6981                                               NaN   \n",
       "6982                                               NaN   \n",
       "6983                                               NaN   \n",
       "6984                                               NaN   \n",
       "\n",
       "                                                 moa_x  \\\n",
       "0     Insulin sensitizer|PPAR receptor partial agonist   \n",
       "1     Insulin sensitizer|PPAR receptor partial agonist   \n",
       "2     Insulin sensitizer|PPAR receptor partial agonist   \n",
       "3     Insulin sensitizer|PPAR receptor partial agonist   \n",
       "4     Insulin sensitizer|PPAR receptor partial agonist   \n",
       "...                                                ...   \n",
       "6980                       Potassium channel activator   \n",
       "6981                       Potassium channel activator   \n",
       "6982                       Potassium channel activator   \n",
       "6983                       Potassium channel activator   \n",
       "6984                                   Control vehicle   \n",
       "\n",
       "                                                 moa_y  \\\n",
       "0     Insulin sensitizer|PPAR receptor partial agonist   \n",
       "1     Insulin sensitizer|PPAR receptor partial agonist   \n",
       "2     Insulin sensitizer|PPAR receptor partial agonist   \n",
       "3     Insulin sensitizer|PPAR receptor partial agonist   \n",
       "4     Insulin sensitizer|PPAR receptor partial agonist   \n",
       "...                                                ...   \n",
       "6980                       Potassium channel activator   \n",
       "6981                       Potassium channel activator   \n",
       "6982                       Potassium channel activator   \n",
       "6983                       Potassium channel activator   \n",
       "6984                                   Control vehicle   \n",
       "\n",
       "                                        Metadata_moa_y  \\\n",
       "0     insulin sensitizer|PPAR receptor partial agonist   \n",
       "1     insulin sensitizer|PPAR receptor partial agonist   \n",
       "2     insulin sensitizer|PPAR receptor partial agonist   \n",
       "3     insulin sensitizer|PPAR receptor partial agonist   \n",
       "4     insulin sensitizer|PPAR receptor partial agonist   \n",
       "...                                                ...   \n",
       "6980                                               NaN   \n",
       "6981                                               NaN   \n",
       "6982                                               NaN   \n",
       "6983                                               NaN   \n",
       "6984                                               NaN   \n",
       "\n",
       "     Metadata_alternative_moa_y  \n",
       "0                           NaN  \n",
       "1                           NaN  \n",
       "2                           NaN  \n",
       "3                           NaN  \n",
       "4                           NaN  \n",
       "...                         ...  \n",
       "6980                        NaN  \n",
       "6981                        NaN  \n",
       "6982                        NaN  \n",
       "6983                        NaN  \n",
       "6984                        NaN  \n",
       "\n",
       "[6985 rows x 6 columns]"
      ]
     },
     "execution_count": 130,
     "metadata": {},
     "output_type": "execute_result"
    }
   ],
   "source": [
    "merged_scaled[['Metadata_alternative_moa_x', 'Metadata_moa_x', 'moa_x', 'moa_y',\n",
    "       'Metadata_moa_y', 'Metadata_alternative_moa_y']]"
   ]
  },
  {
   "cell_type": "code",
   "execution_count": 323,
   "metadata": {},
   "outputs": [
    {
     "data": {
      "text/html": [
       "<div>\n",
       "<style scoped>\n",
       "    .dataframe tbody tr th:only-of-type {\n",
       "        vertical-align: middle;\n",
       "    }\n",
       "\n",
       "    .dataframe tbody tr th {\n",
       "        vertical-align: top;\n",
       "    }\n",
       "\n",
       "    .dataframe thead th {\n",
       "        text-align: right;\n",
       "    }\n",
       "</style>\n",
       "<table border=\"1\" class=\"dataframe\">\n",
       "  <thead>\n",
       "    <tr style=\"text-align: right;\">\n",
       "      <th></th>\n",
       "      <th>Compounds</th>\n",
       "      <th>0</th>\n",
       "    </tr>\n",
       "  </thead>\n",
       "  <tbody>\n",
       "    <tr>\n",
       "      <th>0</th>\n",
       "      <td>BRD-A00100033</td>\n",
       "      <td>1</td>\n",
       "    </tr>\n",
       "    <tr>\n",
       "      <th>1</th>\n",
       "      <td>BRD-A00267231</td>\n",
       "      <td>1</td>\n",
       "    </tr>\n",
       "    <tr>\n",
       "      <th>2</th>\n",
       "      <td>BRD-A00520476</td>\n",
       "      <td>1</td>\n",
       "    </tr>\n",
       "    <tr>\n",
       "      <th>3</th>\n",
       "      <td>BRD-A00993607</td>\n",
       "      <td>1</td>\n",
       "    </tr>\n",
       "    <tr>\n",
       "      <th>4</th>\n",
       "      <td>BRD-A01078468</td>\n",
       "      <td>1</td>\n",
       "    </tr>\n",
       "    <tr>\n",
       "      <th>...</th>\n",
       "      <td>...</td>\n",
       "      <td>...</td>\n",
       "    </tr>\n",
       "    <tr>\n",
       "      <th>1320</th>\n",
       "      <td>BRD-K78122587</td>\n",
       "      <td>1</td>\n",
       "    </tr>\n",
       "    <tr>\n",
       "      <th>1321</th>\n",
       "      <td>BRD-K78280988</td>\n",
       "      <td>1</td>\n",
       "    </tr>\n",
       "    <tr>\n",
       "      <th>1322</th>\n",
       "      <td>BRD-K90382497</td>\n",
       "      <td>1</td>\n",
       "    </tr>\n",
       "    <tr>\n",
       "      <th>1323</th>\n",
       "      <td>BRD-K92723993</td>\n",
       "      <td>1</td>\n",
       "    </tr>\n",
       "    <tr>\n",
       "      <th>1324</th>\n",
       "      <td>BRD-K93201660</td>\n",
       "      <td>1</td>\n",
       "    </tr>\n",
       "  </tbody>\n",
       "</table>\n",
       "<p>1325 rows × 2 columns</p>\n",
       "</div>"
      ],
      "text/plain": [
       "          Compounds  0\n",
       "0     BRD-A00100033  1\n",
       "1     BRD-A00267231  1\n",
       "2     BRD-A00520476  1\n",
       "3     BRD-A00993607  1\n",
       "4     BRD-A01078468  1\n",
       "...             ... ..\n",
       "1320  BRD-K78122587  1\n",
       "1321  BRD-K78280988  1\n",
       "1322  BRD-K90382497  1\n",
       "1323  BRD-K92723993  1\n",
       "1324  BRD-K93201660  1\n",
       "\n",
       "[1325 rows x 2 columns]"
      ]
     },
     "execution_count": 323,
     "metadata": {},
     "output_type": "execute_result"
    }
   ],
   "source": [
    "xxx=mergProf_treatLevel.groupby(['Compounds']).size().reset_index()\n",
    "# xxx[xxx[0]==2]\n",
    "# xxx[xxx[0]==2]\n",
    "xxx"
   ]
  },
  {
   "cell_type": "code",
   "execution_count": 321,
   "metadata": {},
   "outputs": [
    {
     "data": {
      "text/html": [
       "<div>\n",
       "<style scoped>\n",
       "    .dataframe tbody tr th:only-of-type {\n",
       "        vertical-align: middle;\n",
       "    }\n",
       "\n",
       "    .dataframe tbody tr th {\n",
       "        vertical-align: top;\n",
       "    }\n",
       "\n",
       "    .dataframe thead th {\n",
       "        text-align: right;\n",
       "    }\n",
       "</style>\n",
       "<table border=\"1\" class=\"dataframe\">\n",
       "  <thead>\n",
       "    <tr style=\"text-align: right;\">\n",
       "      <th></th>\n",
       "      <th>Metadata_moa</th>\n",
       "      <th>size</th>\n",
       "    </tr>\n",
       "  </thead>\n",
       "  <tbody>\n",
       "    <tr>\n",
       "      <th>0</th>\n",
       "      <td>Adrenergic receptor antagonist</td>\n",
       "      <td>32</td>\n",
       "    </tr>\n",
       "    <tr>\n",
       "      <th>1</th>\n",
       "      <td>Cyclooxygenase inhibitor</td>\n",
       "      <td>26</td>\n",
       "    </tr>\n",
       "    <tr>\n",
       "      <th>2</th>\n",
       "      <td>Dopamine receptor antagonist</td>\n",
       "      <td>22</td>\n",
       "    </tr>\n",
       "    <tr>\n",
       "      <th>3</th>\n",
       "      <td>Acetylcholine receptor antagonist</td>\n",
       "      <td>19</td>\n",
       "    </tr>\n",
       "    <tr>\n",
       "      <th>4</th>\n",
       "      <td>dopamine receptor antagonist</td>\n",
       "      <td>18</td>\n",
       "    </tr>\n",
       "    <tr>\n",
       "      <th>...</th>\n",
       "      <td>...</td>\n",
       "      <td>...</td>\n",
       "    </tr>\n",
       "    <tr>\n",
       "      <th>609</th>\n",
       "      <td>Protein kinase inhibitor</td>\n",
       "      <td>1</td>\n",
       "    </tr>\n",
       "    <tr>\n",
       "      <th>610</th>\n",
       "      <td>Proteasome inhibitor</td>\n",
       "      <td>1</td>\n",
       "    </tr>\n",
       "    <tr>\n",
       "      <th>611</th>\n",
       "      <td>Progestogen hormone</td>\n",
       "      <td>1</td>\n",
       "    </tr>\n",
       "    <tr>\n",
       "      <th>612</th>\n",
       "      <td>Progesterone receptor agonist</td>\n",
       "      <td>1</td>\n",
       "    </tr>\n",
       "    <tr>\n",
       "      <th>613</th>\n",
       "      <td>voltage-independent calcium influx blocker</td>\n",
       "      <td>1</td>\n",
       "    </tr>\n",
       "  </tbody>\n",
       "</table>\n",
       "<p>614 rows × 2 columns</p>\n",
       "</div>"
      ],
      "text/plain": [
       "                                   Metadata_moa  size\n",
       "0                Adrenergic receptor antagonist    32\n",
       "1                      Cyclooxygenase inhibitor    26\n",
       "2                  Dopamine receptor antagonist    22\n",
       "3             Acetylcholine receptor antagonist    19\n",
       "4                  dopamine receptor antagonist    18\n",
       "..                                          ...   ...\n",
       "609                    Protein kinase inhibitor     1\n",
       "610                        Proteasome inhibitor     1\n",
       "611                         Progestogen hormone     1\n",
       "612               Progesterone receptor agonist     1\n",
       "613  voltage-independent calcium influx blocker     1\n",
       "\n",
       "[614 rows x 2 columns]"
      ]
     },
     "execution_count": 321,
     "metadata": {},
     "output_type": "execute_result"
    }
   ],
   "source": [
    "nSamplesforEachMOAclass"
   ]
  },
  {
   "cell_type": "code",
   "execution_count": 320,
   "metadata": {},
   "outputs": [
    {
     "data": {
      "text/html": [
       "<div>\n",
       "<style scoped>\n",
       "    .dataframe tbody tr th:only-of-type {\n",
       "        vertical-align: middle;\n",
       "    }\n",
       "\n",
       "    .dataframe tbody tr th {\n",
       "        vertical-align: top;\n",
       "    }\n",
       "\n",
       "    .dataframe thead th {\n",
       "        text-align: right;\n",
       "    }\n",
       "</style>\n",
       "<table border=\"1\" class=\"dataframe\">\n",
       "  <thead>\n",
       "    <tr style=\"text-align: right;\">\n",
       "      <th></th>\n",
       "      <th>Metadata_moa</th>\n",
       "      <th>size</th>\n",
       "    </tr>\n",
       "  </thead>\n",
       "  <tbody>\n",
       "    <tr>\n",
       "      <th>0</th>\n",
       "      <td>Adrenergic receptor antagonist</td>\n",
       "      <td>32</td>\n",
       "    </tr>\n",
       "    <tr>\n",
       "      <th>1</th>\n",
       "      <td>Cyclooxygenase inhibitor</td>\n",
       "      <td>26</td>\n",
       "    </tr>\n",
       "    <tr>\n",
       "      <th>2</th>\n",
       "      <td>Dopamine receptor antagonist</td>\n",
       "      <td>22</td>\n",
       "    </tr>\n",
       "    <tr>\n",
       "      <th>3</th>\n",
       "      <td>Acetylcholine receptor antagonist</td>\n",
       "      <td>19</td>\n",
       "    </tr>\n",
       "    <tr>\n",
       "      <th>4</th>\n",
       "      <td>dopamine receptor antagonist</td>\n",
       "      <td>18</td>\n",
       "    </tr>\n",
       "    <tr>\n",
       "      <th>...</th>\n",
       "      <td>...</td>\n",
       "      <td>...</td>\n",
       "    </tr>\n",
       "    <tr>\n",
       "      <th>609</th>\n",
       "      <td>Proteasome inhibitor</td>\n",
       "      <td>1</td>\n",
       "    </tr>\n",
       "    <tr>\n",
       "      <th>610</th>\n",
       "      <td>Progestogen hormone</td>\n",
       "      <td>1</td>\n",
       "    </tr>\n",
       "    <tr>\n",
       "      <th>611</th>\n",
       "      <td>Progesterone receptor agonist</td>\n",
       "      <td>1</td>\n",
       "    </tr>\n",
       "    <tr>\n",
       "      <th>612</th>\n",
       "      <td>Platelet aggregation inhibitor</td>\n",
       "      <td>1</td>\n",
       "    </tr>\n",
       "    <tr>\n",
       "      <th>613</th>\n",
       "      <td>voltage-independent calcium influx blocker</td>\n",
       "      <td>1</td>\n",
       "    </tr>\n",
       "  </tbody>\n",
       "</table>\n",
       "<p>614 rows × 2 columns</p>\n",
       "</div>"
      ],
      "text/plain": [
       "                                   Metadata_moa  size\n",
       "0                Adrenergic receptor antagonist    32\n",
       "1                      Cyclooxygenase inhibitor    26\n",
       "2                  Dopamine receptor antagonist    22\n",
       "3             Acetylcholine receptor antagonist    19\n",
       "4                  dopamine receptor antagonist    18\n",
       "..                                          ...   ...\n",
       "609                        Proteasome inhibitor     1\n",
       "610                         Progestogen hormone     1\n",
       "611               Progesterone receptor agonist     1\n",
       "612              Platelet aggregation inhibitor     1\n",
       "613  voltage-independent calcium influx blocker     1\n",
       "\n",
       "[614 rows x 2 columns]"
      ]
     },
     "execution_count": 320,
     "metadata": {},
     "output_type": "execute_result"
    }
   ],
   "source": [
    "# mergProf_treatLevel[mergProf_treatLevel['Compounds']=='BRD-K73323637'].Metadata_moa\n",
    "nSamplesforEachMOAclass2"
   ]
  },
  {
   "cell_type": "markdown",
   "metadata": {},
   "source": [
    "### Single Modalities Classification performance"
   ]
  },
  {
   "cell_type": "code",
   "execution_count": 399,
   "metadata": {},
   "outputs": [],
   "source": [
    "from sklearn.decomposition import PCA\n",
    "# %matplotlib inline\n",
    "# Dimension reduction and clustering libraries\n",
    "import umap\n",
    "# import hdbscan\n",
    "import sklearn.cluster as cluster\n",
    "from sklearn.metrics import adjusted_rand_score, adjusted_mutual_info_score\n",
    "from sklearn.model_selection import LeaveOneOut,cross_val_score\n",
    "from sklearn.linear_model import LogisticRegression\n",
    "from sklearn.ensemble import RandomForestClassifier\n",
    "# nSamplesMOA=10 # results in grant for CDRP are for this number of MOAs\n",
    "nSamplesMOA=5\n",
    "# from MulticoreTSNE import MulticoreTSNE as TSNE\n",
    "# df_1 = df_1.interpolate()\n",
    "#############\n",
    "\n",
    "##########\n",
    "# mergProf_treatLevel['Metadata_moa']=mergProf_treatLevel['Metadata_moa'].str.lower()\n",
    "mergProf_treatLevel=mergProf_treatLevel[~mergProf_treatLevel[moa_col].isnull()].reset_index(drop=True)\n",
    "mergProf_treatLevel['Compounds']=mergProf_treatLevel['PERT'].str[0:13]\n",
    "\n",
    "\n",
    "nSamplesforEachMOAclass=mergProf_treatLevel.groupby(['Compounds']).sample(1).groupby([moa_col]).size().\\\n",
    "reset_index().rename(columns={0:'size'}).sort_values(by=['size'],ascending=False).reset_index(drop=True)\n",
    "\n",
    "\n",
    "nSamplesforEachMOAclass2=mergProf_treatLevel.groupby([moa_col]).size().reset_index().rename(columns={0:'size'}).sort_values(by=['size'],ascending=False).reset_index(drop=True)\n",
    "# lkjklj\n",
    "listOfSelectedMoAs=nSamplesforEachMOAclass[nSamplesforEachMOAclass['size']>nSamplesMOA][moa_col].tolist()\n",
    "le = preprocessing.LabelEncoder()\n",
    "le.fit(listOfSelectedMoAs)\n",
    "\n",
    "# corresPertID=[mergProf_treatLevel[mergProf_treatLevel['Metadata_moa']==i]['Metadata_pert_id'] for i in listOfSelectedMoAs]\n",
    "# filteredMOAs=mergProf_treatLevel[mergProf_treatLevel['Metadata_moa'].isin(listOfSelectedMoAs)].reset_index(drop=True)\n",
    "IDs4filteredMOAs=mergProf_treatLevel[mergProf_treatLevel[moa_col].isin(listOfSelectedMoAs)][pertColName].tolist()\n",
    "\n",
    "\n",
    "cp['Compounds']=cp['PERT'].str[0:13]\n",
    "l1k['Compounds']=l1k['PERT'].str[0:13]\n",
    "merged_scaled['Compounds']=merged_scaled['PERT'].str[0:13]\n",
    "\n",
    "data4eval=[[cp,cp_features],[l1k,l1k_features],[merged_scaled,cp_features+l1k_features]]\n",
    "\n",
    "# for r in range(len(data4eval)): #range(1):#\n",
    "#     print(r)\n",
    "#     domXdata=data4eval[r][0];\n",
    "#     domXfeats=data4eval[r][1]\n",
    "#     domXfeats['Metadata_moa_num']=le.transform(domXfeats['Metadata_moa'].tolist())\n",
    "    \n",
    "#     filteredMOAs=domXdata[domXdata[pertColName].isin(IDs4filteredMOAs)].reset_index(drop=True)\n",
    "\n",
    "#     data = filteredMOAs[domXfeats].values;\n",
    "#     labels=filteredMOAs.Metadata_moa.tolist()\n",
    "        \n",
    "#     loocv = LeaveOneOut()\n",
    "#     model_loocv = LogisticRegression(multi_class='ovr',n_jobs=100,max_iter=1000)\n",
    "#     results_loocv = cross_val_score(model_loocv, data, labels, cv=loocv)\n",
    "#     print(\"Accuracy: %.2f%%\" % (results_loocv.mean()*100.0))"
   ]
  },
  {
   "cell_type": "code",
   "execution_count": 378,
   "metadata": {},
   "outputs": [
    {
     "data": {
      "text/plain": [
       "(601,)"
      ]
     },
     "execution_count": 378,
     "metadata": {},
     "output_type": "execute_result"
    }
   ],
   "source": [
    "# cp.shape,l1k.shape,merged_scaled.shape\n",
    "# merged_scaled['PERT']\n",
    "# mergProf_treatLevel[moa_col].unique()\n",
    "# mergProf_treatLevel\n",
    "# IDs4filteredMOAs\n",
    "mergProf_treatLevel[mergProf_treatLevel[moa_col].isin(listOfSelectedMoAs)]['Compounds'].shape"
   ]
  },
  {
   "cell_type": "code",
   "execution_count": 376,
   "metadata": {},
   "outputs": [
    {
     "data": {
      "text/plain": [
       "(72, 601, (997, 1102))"
      ]
     },
     "execution_count": 376,
     "metadata": {},
     "output_type": "execute_result"
    }
   ],
   "source": [
    "len(listOfSelectedMoAs),len(IDs4filteredMOAs),mergProf_treatLevel.shape"
   ]
  },
  {
   "cell_type": "code",
   "execution_count": 257,
   "metadata": {},
   "outputs": [
    {
     "data": {
      "text/plain": [
       "'PERT'"
      ]
     },
     "execution_count": 257,
     "metadata": {},
     "output_type": "execute_result"
    }
   ],
   "source": [
    "# merged_scaled['PERT']\n",
    "# listOfSelectedMoAs\n",
    "# cp_features\n",
    "pertColName"
   ]
  },
  {
   "cell_type": "code",
   "execution_count": 246,
   "metadata": {},
   "outputs": [],
   "source": [
    "# import os\n",
    "# os.mkdir('../../results/dataIntegration')"
   ]
  },
  {
   "cell_type": "code",
   "execution_count": 228,
   "metadata": {},
   "outputs": [
    {
     "data": {
      "text/plain": [
       "14"
      ]
     },
     "execution_count": 228,
     "metadata": {},
     "output_type": "execute_result"
    }
   ],
   "source": [
    "len(listOfSelectedMoAs) #filt set (n>1) CDRP"
   ]
  },
  {
   "cell_type": "code",
   "execution_count": 296,
   "metadata": {},
   "outputs": [
    {
     "data": {
      "text/plain": [
       "191"
      ]
     },
     "execution_count": 296,
     "metadata": {},
     "output_type": "execute_result"
    }
   ],
   "source": [
    "len(listOfSelectedMoAs) #full set (n>1) cdrp"
   ]
  },
  {
   "cell_type": "code",
   "execution_count": 533,
   "metadata": {},
   "outputs": [
    {
     "data": {
      "text/plain": [
       "84"
      ]
     },
     "execution_count": 533,
     "metadata": {},
     "output_type": "execute_result"
    }
   ],
   "source": [
    "len(listOfSelectedMoAs) #full set (n>3)"
   ]
  },
  {
   "cell_type": "code",
   "execution_count": 547,
   "metadata": {},
   "outputs": [
    {
     "data": {
      "text/plain": [
       "24"
      ]
     },
     "execution_count": 547,
     "metadata": {},
     "output_type": "execute_result"
    }
   ],
   "source": [
    "len(listOfSelectedMoAs) #filt set(n>3)"
   ]
  },
  {
   "cell_type": "code",
   "execution_count": 96,
   "metadata": {},
   "outputs": [
    {
     "data": {
      "text/plain": [
       "72"
      ]
     },
     "execution_count": 96,
     "metadata": {},
     "output_type": "execute_result"
    }
   ],
   "source": [
    "len(listOfSelectedMoAs) #filt set (n>1)"
   ]
  },
  {
   "cell_type": "code",
   "execution_count": 366,
   "metadata": {},
   "outputs": [
    {
     "data": {
      "text/plain": [
       "191"
      ]
     },
     "execution_count": 366,
     "metadata": {},
     "output_type": "execute_result"
    }
   ],
   "source": [
    "len(listOfSelectedMoAs) #full set (n>1)"
   ]
  },
  {
   "cell_type": "code",
   "execution_count": 437,
   "metadata": {},
   "outputs": [],
   "source": [
    "cp['Compounds']=cp['PERT'].str[0:13]\n",
    "l1k['Compounds']=l1k['PERT'].str[0:13]\n",
    "\n",
    "data4eval=[[cp,cp_features],[l1k,l1k_features],[merged_scaled,cp_features+l1k_features]]"
   ]
  },
  {
   "cell_type": "code",
   "execution_count": 245,
   "metadata": {},
   "outputs": [
    {
     "name": "stdout",
     "output_type": "stream",
     "text": [
      "checkpoint                 \u001b[0m\u001b[01;34mGeneVsCPfeature\u001b[0m/\r\n",
      "\u001b[01;35mcpCategoriesHM-LINCS.png\u001b[0m   \u001b[01;34mmodelW\u001b[0m/\r\n",
      "\u001b[01;35mcpCategoriesHM.png\u001b[0m         modelW.data-00000-of-00001\r\n",
      "cpFeaturesGene_ccMat.csv   modelW.index\r\n",
      "cpFeaturesGene_ccMat.eps   \u001b[01;34mRepCor\u001b[0m/\r\n",
      "cpFeaturesGene_ccMat.pkl   results.csv\r\n",
      "\u001b[01;35mcpFeaturesGene_ccMat.png\u001b[0m   results-nnC.csv\r\n",
      "cpFeaturesGene_glmMat.csv  results-replicate-nnC.csv\r\n",
      "cpFeaturesGene_glmMat.pkl  results-Treatment12120end.csv\r\n",
      "\u001b[01;35mcpFeaturesGene_glmMat.png\u001b[0m  results-Treatment_1t0121.csv\r\n",
      "cpFeaturesGene_miMat.csv   results-Treatment.csv\r\n",
      "cpFeaturesGene_miMat.pkl   results-Treatment-lin-rand.csv\r\n",
      "\u001b[01;35mcpFeaturesGene_miMat.png\u001b[0m   \u001b[01;34mSingleCPfeatPred\u001b[0m/\r\n",
      "\u001b[01;34mdataIntegration\u001b[0m/           \u001b[01;34mSingleGenePred\u001b[0m/\r\n"
     ]
    }
   ],
   "source": [
    "ls ../../results/"
   ]
  },
  {
   "cell_type": "code",
   "execution_count": 247,
   "metadata": {},
   "outputs": [],
   "source": [
    "# DataFuseResults\n",
    "# pd.to_csv('../../results/dataIntegration/fusion_res.xlsx')\n",
    "res_path='../../results/dataIntegration/fusion_res.xlsx'\n",
    "saveAsNewSheetToExistingFile(res_path,DataFuseResults,'logisticReg')"
   ]
  },
  {
   "cell_type": "code",
   "execution_count": 363,
   "metadata": {},
   "outputs": [
    {
     "name": "stdout",
     "output_type": "stream",
     "text": [
      "[]\n"
     ]
    }
   ],
   "source": [
    "saveAsNewSheetToExistingFile(res_path,DataFuseResults_loaded,'logisticReg')"
   ]
  },
  {
   "cell_type": "code",
   "execution_count": 366,
   "metadata": {},
   "outputs": [],
   "source": [
    "# DataFuseResults_loaded=pd.read_excel(res_path, sheet_name=None)['logisticReg']\n",
    "# DataFuseResults_loaded"
   ]
  },
  {
   "cell_type": "code",
   "execution_count": 195,
   "metadata": {},
   "outputs": [],
   "source": [
    "DataFuseResults=pd.DataFrame(columns=[\"Data\",\"Modality\"])\n",
    "i=0\n",
    "for d in ['Filtered','All']:\n",
    "    for m in ['CP','GE','CP+GE']:\n",
    "        temp_df=pd.DataFrame(data=Acc_all2[i],columns=['acc'])\n",
    "        temp_df['Modality']=m\n",
    "        temp_df['Data']=d        \n",
    "        i+=1\n",
    "        DataFuseResults=DataFuseResults.append(temp_df)"
   ]
  },
  {
   "cell_type": "code",
   "execution_count": 219,
   "metadata": {},
   "outputs": [
    {
     "name": "stderr",
     "output_type": "stream",
     "text": [
      "/home/ubuntu/anaconda3/lib/python3.8/site-packages/seaborn/categorical.py:1296: UserWarning: 10.0% of the points cannot be placed; you may want to decrease the size of the markers or use stripplot.\n",
      "  warnings.warn(msg, UserWarning)\n"
     ]
    },
    {
     "data": {
      "image/png": "[encoded data removed]",
      "text/plain": [
       "<Figure size 288x360 with 1 Axes>"
      ]
     },
     "metadata": {},
     "output_type": "display_data"
    }
   ],
   "source": [
    "plt.figure(figsize=(4,5))\n",
    "sns.set_theme(style=\"whitegrid\")\n",
    "ax = sns.boxplot(x=\"Modality\", y=\"acc\", hue=\"Data\",data=DataFuseResults, palette=\"Set1\")\n",
    "ax = sns.swarmplot(x=\"Modality\", y=\"acc\", hue=\"Data\",data=DataFuseResults,dodge=True,color=\".2\")"
   ]
  },
  {
   "cell_type": "code",
   "execution_count": 220,
   "metadata": {},
   "outputs": [
    {
     "data": {
      "image/png": "[encoded data removed]",
      "text/plain": [
       "<Figure size 288x360 with 1 Axes>"
      ]
     },
     "metadata": {},
     "output_type": "display_data"
    }
   ],
   "source": [
    "plt.figure(figsize=(4,5))\n",
    "sns.set_theme(style=\"whitegrid\")\n",
    "ax = sns.boxplot(x=\"Data\", y=\"acc\", hue=\"Modality\",data=DataFuseResults, palette=\"Set1\")\n",
    "# ax = sns.swarmplot(x=\"Modality\", y=\"acc\", hue=\"Data\",data=DataFuseResults,dodge=True,color=\".2\")"
   ]
  },
  {
   "cell_type": "code",
   "execution_count": 373,
   "metadata": {},
   "outputs": [
    {
     "data": {
      "text/html": [
       "<div>\n",
       "<style scoped>\n",
       "    .dataframe tbody tr th:only-of-type {\n",
       "        vertical-align: middle;\n",
       "    }\n",
       "\n",
       "    .dataframe tbody tr th {\n",
       "        vertical-align: top;\n",
       "    }\n",
       "\n",
       "    .dataframe thead th {\n",
       "        text-align: right;\n",
       "    }\n",
       "</style>\n",
       "<table border=\"1\" class=\"dataframe\">\n",
       "  <thead>\n",
       "    <tr style=\"text-align: right;\">\n",
       "      <th></th>\n",
       "      <th>Unnamed: 0</th>\n",
       "      <th>Unnamed: 0.1</th>\n",
       "      <th>Data</th>\n",
       "      <th>Modality</th>\n",
       "      <th>acc</th>\n",
       "      <th>NMI</th>\n",
       "    </tr>\n",
       "  </thead>\n",
       "  <tbody>\n",
       "    <tr>\n",
       "      <th>0</th>\n",
       "      <td>0</td>\n",
       "      <td>0.0</td>\n",
       "      <td>Filtered</td>\n",
       "      <td>CP</td>\n",
       "      <td>40.350877</td>\n",
       "      <td>NaN</td>\n",
       "    </tr>\n",
       "    <tr>\n",
       "      <th>1</th>\n",
       "      <td>1</td>\n",
       "      <td>1.0</td>\n",
       "      <td>Filtered</td>\n",
       "      <td>CP</td>\n",
       "      <td>40.350877</td>\n",
       "      <td>NaN</td>\n",
       "    </tr>\n",
       "    <tr>\n",
       "      <th>2</th>\n",
       "      <td>2</td>\n",
       "      <td>2.0</td>\n",
       "      <td>Filtered</td>\n",
       "      <td>CP</td>\n",
       "      <td>40.350877</td>\n",
       "      <td>NaN</td>\n",
       "    </tr>\n",
       "    <tr>\n",
       "      <th>3</th>\n",
       "      <td>3</td>\n",
       "      <td>3.0</td>\n",
       "      <td>Filtered</td>\n",
       "      <td>CP</td>\n",
       "      <td>38.596491</td>\n",
       "      <td>NaN</td>\n",
       "    </tr>\n",
       "    <tr>\n",
       "      <th>4</th>\n",
       "      <td>4</td>\n",
       "      <td>4.0</td>\n",
       "      <td>Filtered</td>\n",
       "      <td>CP</td>\n",
       "      <td>36.257310</td>\n",
       "      <td>NaN</td>\n",
       "    </tr>\n",
       "    <tr>\n",
       "      <th>...</th>\n",
       "      <td>...</td>\n",
       "      <td>...</td>\n",
       "      <td>...</td>\n",
       "      <td>...</td>\n",
       "      <td>...</td>\n",
       "      <td>...</td>\n",
       "    </tr>\n",
       "    <tr>\n",
       "      <th>115</th>\n",
       "      <td>115</td>\n",
       "      <td>NaN</td>\n",
       "      <td>All-snf</td>\n",
       "      <td>GE</td>\n",
       "      <td>NaN</td>\n",
       "      <td>54.545382</td>\n",
       "    </tr>\n",
       "    <tr>\n",
       "      <th>116</th>\n",
       "      <td>116</td>\n",
       "      <td>NaN</td>\n",
       "      <td>All-snf</td>\n",
       "      <td>fused(CP,GE)</td>\n",
       "      <td>NaN</td>\n",
       "      <td>67.028042</td>\n",
       "    </tr>\n",
       "    <tr>\n",
       "      <th>117</th>\n",
       "      <td>117</td>\n",
       "      <td>NaN</td>\n",
       "      <td>All-snf</td>\n",
       "      <td>CP</td>\n",
       "      <td>NaN</td>\n",
       "      <td>40.139434</td>\n",
       "    </tr>\n",
       "    <tr>\n",
       "      <th>118</th>\n",
       "      <td>118</td>\n",
       "      <td>NaN</td>\n",
       "      <td>All-snf</td>\n",
       "      <td>GE</td>\n",
       "      <td>NaN</td>\n",
       "      <td>41.827826</td>\n",
       "    </tr>\n",
       "    <tr>\n",
       "      <th>119</th>\n",
       "      <td>119</td>\n",
       "      <td>NaN</td>\n",
       "      <td>All-snf</td>\n",
       "      <td>fused(CP,GE)</td>\n",
       "      <td>NaN</td>\n",
       "      <td>52.688427</td>\n",
       "    </tr>\n",
       "  </tbody>\n",
       "</table>\n",
       "<p>120 rows × 6 columns</p>\n",
       "</div>"
      ],
      "text/plain": [
       "     Unnamed: 0  Unnamed: 0.1      Data      Modality        acc        NMI\n",
       "0             0           0.0  Filtered            CP  40.350877        NaN\n",
       "1             1           1.0  Filtered            CP  40.350877        NaN\n",
       "2             2           2.0  Filtered            CP  40.350877        NaN\n",
       "3             3           3.0  Filtered            CP  38.596491        NaN\n",
       "4             4           4.0  Filtered            CP  36.257310        NaN\n",
       "..          ...           ...       ...           ...        ...        ...\n",
       "115         115           NaN   All-snf            GE        NaN  54.545382\n",
       "116         116           NaN   All-snf  fused(CP,GE)        NaN  67.028042\n",
       "117         117           NaN   All-snf            CP        NaN  40.139434\n",
       "118         118           NaN   All-snf            GE        NaN  41.827826\n",
       "119         119           NaN   All-snf  fused(CP,GE)        NaN  52.688427\n",
       "\n",
       "[120 rows x 6 columns]"
      ]
     },
     "execution_count": 373,
     "metadata": {},
     "output_type": "execute_result"
    }
   ],
   "source": [
    "# DataFuseResults_loaded['NMI']=DataFuseResults_loaded['NMI']*100\n",
    "DataFuseResults"
   ]
  },
  {
   "cell_type": "code",
   "execution_count": 655,
   "metadata": {},
   "outputs": [
    {
     "data": {
      "image/png": "[encoded data removed]",
      "text/plain": [
       "<Figure size 720x360 with 4 Axes>"
      ]
     },
     "metadata": {},
     "output_type": "display_data"
    }
   ],
   "source": [
    "# DataFuseResults=DataFuseResults_loaded.copy()\n",
    "DataFuseResults=DataFuseResults.rename(columns={'acc':'Accuracy'})\n",
    "\n",
    "fig, axes = plt.subplots(1,4,figsize=(10,5))\n",
    "sns.set_context(\"paper\")\n",
    "sns.set_style(\"whitegrid\")\n",
    "# sns.rcParams['patch.force_edgecolor'] = True\n",
    "# for d in range(5):#(len(datasets)):\n",
    "sns.boxplot(x=\"Data\", y=\"Accuracy\", hue=\"Modality\",data=DataFuseResults[DataFuseResults['Data']=='All Samples'],\\\n",
    "            palette=\"Set1\",ax=axes[0])\n",
    "axes[0].axhline(y=(1/557)*100,linestyle=':',color='r');\n",
    "axes[0].set_ylim(0,20)\n",
    "axes[0].set_title('(a)');\n",
    "\n",
    "sns.boxplot(x=\"Data\", y=\"Accuracy\", hue=\"Modality\",data=DataFuseResults[DataFuseResults['Data']=='Filtered Samples'],\\\n",
    "            palette=\"Set1\",ax=axes[1])\n",
    "axes[1].axhline(y=(1/179)*100,linestyle=':',color='r');\n",
    "axes[1].set_ylim(0,70)\n",
    "axes[1].set_title('(b)');\n",
    "\n",
    "sns.boxplot(x=\"Data\", y=\"Accuracy\", hue=\"Modality\",data=DataFuseResults[DataFuseResults['Data']=='All Samples - CCA'],\\\n",
    "            hue_order=['CP','GE','CP+GE'],palette=\"Set1\",ax=axes[2])\n",
    "axes[2].axhline(y=(1/557)*100,linestyle=':',color='r');\n",
    "axes[2].set_ylim(0,20)\n",
    "axes[2].set_title('(c)');\n",
    "\n",
    "sns.boxplot(x=\"Data\", y=\"NMI\", hue=\"Modality\",data=DataFuseResults[DataFuseResults['Data']=='All Samples - SNF'],\\\n",
    "            palette=\"Set1\",ax=axes[3])\n",
    "# axes[3].axhline(y=(1/557)*100,linestyle=':',color='r');\n",
    "axes[3].set_ylim(10,100)\n",
    "axes[3].set_title('(d)');\n",
    "fig.tight_layout()\n",
    "#         sns.distplot(pred_scoress,kde=True,hist=True,bins=100,label=datasets[d],ax=axes[d,m],norm_hist=True,color='r')\n",
    "#         sns.distplot(rand_scoress,kde=True,hist=True,bins=100,label='random',ax=axes[d,m],norm_hist=True)\n",
    "#         print(np.percentile(rand_scoress,90))\n",
    "#         axes[d,m].set_xlim(-1,1)\n",
    "#         axes[d,m].set_xlim(-0.5,0.6)\n",
    "# #         axes[d,m].set_ylim(0,15)\n",
    "#         axes[d,m].axvline(x=np.percentile(rand_scoress,90),linestyle=':',color='r');\n",
    "#         axes[len(datasets)-1,m].set_xlabel(\"Accuracy ($R^2$)\");\n",
    "#         axes[d,m].legend();\n",
    "#         axes[0,m].set_title(models[m]);"
   ]
  },
  {
   "cell_type": "code",
   "execution_count": 409,
   "metadata": {},
   "outputs": [
    {
     "name": "stderr",
     "output_type": "stream",
     "text": [
      "The PostScript backend does not support transparency; partially transparent artists will be rendered opaque.\n",
      "The PostScript backend does not support transparency; partially transparent artists will be rendered opaque.\n",
      "The PostScript backend does not support transparency; partially transparent artists will be rendered opaque.\n",
      "The PostScript backend does not support transparency; partially transparent artists will be rendered opaque.\n",
      "The PostScript backend does not support transparency; partially transparent artists will be rendered opaque.\n",
      "The PostScript backend does not support transparency; partially transparent artists will be rendered opaque.\n"
     ]
    },
    {
     "data": {
      "image/png": "[encoded data removed]",
      "text/plain": [
       "<Figure size 648x432 with 3 Axes>"
      ]
     },
     "metadata": {},
     "output_type": "display_data"
    }
   ],
   "source": [
    "import matplotlib.style as style\n",
    "style.use('seaborn-colorblind')\n",
    "DataFuseResults=DataFuseResults.rename(columns={'acc':'Accuracy'})\n",
    "\n",
    "hfont = {'fontname':'sans-serif'}\n",
    "\n",
    "# plt.title('title',**csfont)\n",
    "\n",
    "fig, axes = plt.subplots(1,3,figsize=(9,6))\n",
    "fig.suptitle('MoA Classification', fontsize=15,**hfont)\n",
    "\n",
    "sns.set_context(\"paper\")\n",
    "sns.set_style(\"whitegrid\")\n",
    "# sns.rcParams['patch.force_edgecolor'] = True\n",
    "# for d in range(5):#(len(datasets)):\n",
    "sns.boxplot(x=\"Data\", y=\"Accuracy\", hue=\"Modality\",data=DataFuseResults[DataFuseResults['Data']=='All Samples'],\\\n",
    "            ax=axes[0])\n",
    "axes[0].axhline(y=(1/557)*100,linestyle=':',color='r');\n",
    "axes[0].set_ylim(0,30)\n",
    "axes[0].set_title('(a)');\n",
    "\n",
    "sns.boxplot(x=\"Data\", y=\"Accuracy\", hue=\"Modality\",data=DataFuseResults[DataFuseResults['Data']=='Filtered Samples'],\\\n",
    "            ax=axes[2])\n",
    "axes[2].axhline(y=(1/179)*100,linestyle=':',color='r');\n",
    "axes[2].set_ylim(0,100)\n",
    "axes[2].set_title('(c)');\n",
    "axes[2].set(ylabel=None)\n",
    "\n",
    "sns.boxplot(x=\"Data\", y=\"Accuracy\", hue=\"Modality\",data=DataFuseResults[DataFuseResults['Data']=='All Samples - CCA'],\\\n",
    "            ax=axes[1])\n",
    "# hue_order=['CP','GE','CP+GE']\n",
    "axes[1].axhline(y=(1/557)*100,linestyle=':',color='r');\n",
    "axes[1].set_ylim(0,30)\n",
    "axes[1].set_title('(b)');\n",
    "axes[1].set(ylabel=None)\n",
    "\n",
    "# sns.boxplot(x=\"Data\", y=\"NMI\", hue=\"Modality\",data=DataFuseResults[DataFuseResults['Data']=='All Samples - SNF'],\\\n",
    "#             palette=\"cividis\",ax=axes[3])\n",
    "# # axes[3].axhline(y=(1/557)*100,linestyle=':',color='r');\n",
    "# axes[3].set_ylim(0,100)\n",
    "# axes[3].set_title('(d)');\n",
    "# fig.tight_layout()\n",
    "fig.savefig('moa_clussif.eps')"
   ]
  },
  {
   "cell_type": "code",
   "execution_count": 410,
   "metadata": {},
   "outputs": [
    {
     "name": "stderr",
     "output_type": "stream",
     "text": [
      "The PostScript backend does not support transparency; partially transparent artists will be rendered opaque.\n",
      "The PostScript backend does not support transparency; partially transparent artists will be rendered opaque.\n"
     ]
    },
    {
     "data": {
      "image/png": "[encoded data removed]",
      "text/plain": [
       "<Figure size 180x432 with 1 Axes>"
      ]
     },
     "metadata": {},
     "output_type": "display_data"
    }
   ],
   "source": [
    "fig, axes = plt.subplots(1,1,figsize=(2.5,6))\n",
    "fig.suptitle('MoA Clustering', fontsize=15,**hfont)\n",
    "\n",
    "sns.boxplot(x=\"Data\", y=\"NMI\", hue=\"Modality\",data=DataFuseResults[DataFuseResults['Data']=='All Samples - SNF'],\\\n",
    "            palette=\"cividis\",ax=axes)\n",
    "# axes[3].axhline(y=(1/557)*100,linestyle=':',color='r');\n",
    "axes.set_ylim(0,100)\n",
    "axes.set_title('(d)');\n",
    "# fig.tight_layout()\n",
    "fig.savefig('moa_clustering.eps',bbox_inches='tight')"
   ]
  },
  {
   "cell_type": "code",
   "execution_count": null,
   "metadata": {},
   "outputs": [],
   "source": []
  },
  {
   "cell_type": "code",
   "execution_count": 353,
   "metadata": {},
   "outputs": [],
   "source": [
    "# DataFuseResults_loaded\n",
    "DataFuseResults_loaded=DataFuseResults_loaded.append(ress_df,ignore_index=True)"
   ]
  },
  {
   "cell_type": "code",
   "execution_count": 408,
   "metadata": {},
   "outputs": [],
   "source": [
    "# listOfSelectedMoAs\n",
    "# list(le.classes_)\n",
    "# train_index.shape,filteredMOAs.shape\n",
    "# test_index\n",
    "# Acc_all\n",
    "# DataFuseResults[DataFuseResults['Data']=='All']\n",
    "\n",
    "# DataFuseResults\n",
    "\n",
    "# temp_df\n",
    "\n",
    "DataFuseResults=pd.DataFrame(columns=[\"Data\",\"Modality\"])\n",
    "\n",
    "# DataFuseResults_loaded['acc']=DataFuseResults_loaded['acc']*100\n",
    "# i=0\n",
    "for d in ['All Samples - CCA']:\n",
    "# for d in ['All Samples - CCA']:\n",
    "    for n,m in zip([0,1,2,3],['CP','GE','Early Fusion','Late Fusion']):\n",
    "        temp_df=pd.DataFrame(data=acc_array_cca_full2_cdrp[:,n],columns=['acc'])\n",
    "        temp_df['Modality']=m\n",
    "        temp_df['Data']=d        \n",
    "#         i+=1\n",
    "        DataFuseResults=DataFuseResults.append(temp_df,ignore_index=True)\n",
    "\n",
    "# for d in ['Filt Samples - CCA']:\n",
    "#     for n,m in zip([0,1,2,3],['CP','GE','Early Fusion','Late Fusion']):\n",
    "#         temp_df=pd.DataFrame(data=acc_array_filt2[:,n],columns=['acc'])\n",
    "#         temp_df['Modality']=m\n",
    "#         temp_df['Data']=d        \n",
    "# #         i+=1\n",
    "#         DataFuseResults=DataFuseResults.append(temp_df,ignore_index=True)\n",
    "\n",
    "for d in ['All Samples']:\n",
    "    for n,m in zip([0,1,2,3],['CP','GE','Early Fusion','Late Fusion']):\n",
    "        temp_df=pd.DataFrame(data=acc_array_fullSet2_cdrp[:,n],columns=['acc'])\n",
    "        temp_df['Modality']=m\n",
    "        temp_df['Data']=d        \n",
    "#         i+=1\n",
    "        DataFuseResults=DataFuseResults.append(temp_df,ignore_index=True)\n",
    "    \n",
    "    \n",
    "for d in ['Filtered Samples']:\n",
    "    for n,m in zip([0,1,2,3],['CP','GE','Early Fusion','Late Fusion']):\n",
    "        temp_df=pd.DataFrame(data=acc_array_filtSet2_cdrp[:,n],columns=['acc'])\n",
    "        temp_df['Modality']=m\n",
    "        temp_df['Data']=d        \n",
    "#         i+=1\n",
    "        DataFuseResults=DataFuseResults.append(temp_df,ignore_index=True)\n",
    "\n",
    "# ress_df['Data']='All Samples - SNF'\n",
    "# ress_df_filt['Data']='All Samples - SNF'\n",
    "\n",
    "ress_df_full_cdrp['Data']='All Samples - SNF'\n",
    "# ress_df_full_cdrp\n",
    "DataFuseResults=DataFuseResults.append(ress_df_full_cdrp,ignore_index=True)\n",
    "DataFuseResults['NMI']=DataFuseResults['NMI']*100"
   ]
  },
  {
   "cell_type": "code",
   "execution_count": 530,
   "metadata": {},
   "outputs": [],
   "source": [
    "# acc_array_fullSet=np.copy(acc_array_filtSet)"
   ]
  },
  {
   "cell_type": "code",
   "execution_count": 394,
   "metadata": {},
   "outputs": [],
   "source": [
    "DataFuseResults_lincs=DataFuseResults.copy()"
   ]
  },
  {
   "cell_type": "code",
   "execution_count": 39,
   "metadata": {},
   "outputs": [],
   "source": [
    "# test_index\n",
    "# filteredMOAs\n",
    "# len(data4eval)\n",
    "# xx=filteredMOAs.groupby(['Metadata_moa_num']).sample(1)\n",
    "# xx\n",
    "filteredMOAs"
   ]
  },
  {
   "cell_type": "code",
   "execution_count": 258,
   "metadata": {},
   "outputs": [],
   "source": [
    "# # xx.sample(20)\n",
    "# # filteredMOAs['Compounds'].unique().shape\n",
    "# from sklearn.model_selection import KFold\n",
    "# kf = KFold(n_splits=n_of_random_sel,random_state=2,shuffle=True)\n",
    "\n",
    "# # KFold(n_splits=2, random_state=None, shuffle=False)\n",
    "# for train_index, test_index in kf.split(filteredMOAs):\n",
    "#     print(test_index)\n",
    "# len(train_index)\n",
    "# filteredMOAs[moa_col].unique()\n",
    "# filteredMOAs['Metadata_moa_num'].unique()"
   ]
  },
  {
   "cell_type": "code",
   "execution_count": 336,
   "metadata": {},
   "outputs": [
    {
     "data": {
      "text/plain": [
       "(906, 2554)"
      ]
     },
     "execution_count": 336,
     "metadata": {},
     "output_type": "execute_result"
    }
   ],
   "source": [
    "# filteredMOAs.groupby([moa_col]).size().describe()\n",
    "filteredMOAs.shape"
   ]
  },
  {
   "cell_type": "code",
   "execution_count": 353,
   "metadata": {},
   "outputs": [
    {
     "name": "stdout",
     "output_type": "stream",
     "text": [
      "rand  0\n",
      "[] Int64Index([], dtype='int64')\n",
      "rand  1\n",
      "[] Int64Index([], dtype='int64')\n",
      "rand  2\n",
      "[] Int64Index([], dtype='int64')\n",
      "rand  3\n",
      "[] Int64Index([], dtype='int64')\n",
      "rand  4\n",
      "[] Int64Index([], dtype='int64')\n",
      "rand  5\n",
      "[] Int64Index([], dtype='int64')\n",
      "rand  6\n",
      "[] Int64Index([], dtype='int64')\n",
      "rand  7\n",
      "[] Int64Index([], dtype='int64')\n",
      "rand  8\n",
      "[] Int64Index([], dtype='int64')\n",
      "rand  9\n",
      "[] Int64Index([], dtype='int64')\n",
      "rand  10\n",
      "[] Int64Index([], dtype='int64')\n",
      "rand  11\n",
      "[58] Int64Index([225, 698], dtype='int64')\n",
      "rand  12\n",
      "[] Int64Index([], dtype='int64')\n",
      "rand  13\n",
      "[] Int64Index([], dtype='int64')\n",
      "rand  14\n",
      "[] Int64Index([], dtype='int64')\n",
      "rand  15\n",
      "[] Int64Index([], dtype='int64')\n",
      "rand  16\n",
      "[127] Int64Index([338, 470], dtype='int64')\n",
      "rand  17\n",
      "[156] Int64Index([190, 775], dtype='int64')\n",
      "rand  18\n",
      "[27] Int64Index([466, 595], dtype='int64')\n",
      "rand  19\n",
      "[] Int64Index([], dtype='int64')\n"
     ]
    },
    {
     "ename": "NameError",
     "evalue": "name 'acc_array_fultSet2_cdrp' is not defined",
     "output_type": "error",
     "traceback": [
      "\u001b[0;31m---------------------------------------------------------------------------\u001b[0m",
      "\u001b[0;31mNameError\u001b[0m                                 Traceback (most recent call last)",
      "\u001b[0;32m<ipython-input-353-b35429170d99>\u001b[0m in \u001b[0;36m<module>\u001b[0;34m\u001b[0m\n\u001b[1;32m     93\u001b[0m \u001b[0;34m\u001b[0m\u001b[0m\n\u001b[1;32m     94\u001b[0m \u001b[0;31m#     hfh\u001b[0m\u001b[0;34m\u001b[0m\u001b[0;34m\u001b[0m\u001b[0;34m\u001b[0m\u001b[0m\n\u001b[0;32m---> 95\u001b[0;31m \u001b[0mprint\u001b[0m\u001b[0;34m(\u001b[0m\u001b[0mnp\u001b[0m\u001b[0;34m.\u001b[0m\u001b[0mmedian\u001b[0m\u001b[0;34m(\u001b[0m\u001b[0macc_array_fultSet2_cdrp\u001b[0m\u001b[0;34m,\u001b[0m\u001b[0maxis\u001b[0m\u001b[0;34m=\u001b[0m\u001b[0;36m0\u001b[0m\u001b[0;34m)\u001b[0m\u001b[0;34m)\u001b[0m\u001b[0;34m\u001b[0m\u001b[0;34m\u001b[0m\u001b[0m\n\u001b[0m\u001b[1;32m     96\u001b[0m \u001b[0;31m# print('Accuracy: ',r, np.mean(Acc_list)*100)\u001b[0m\u001b[0;34m\u001b[0m\u001b[0;34m\u001b[0m\u001b[0;34m\u001b[0m\u001b[0m\n",
      "\u001b[0;31mNameError\u001b[0m: name 'acc_array_fultSet2_cdrp' is not defined"
     ]
    }
   ],
   "source": [
    "from sklearn.utils import class_weight\n",
    "from sklearn.naive_bayes import GaussianNB,ComplementNB\n",
    "from sklearn.metrics import accuracy_score\n",
    "from sklearn.model_selection import KFold\n",
    "\n",
    "domXdata=merged_scaled.copy();\n",
    "# domXfeats=data4eval[r][1]\n",
    "# outdim_size=40\n",
    "\n",
    "filteredMOAs=domXdata[domXdata[pertColName].isin(IDs4filteredMOAs)].reset_index(drop=True)\n",
    "filteredMOAs['Metadata_moa_num']=le.transform(filteredMOAs[moa_col].tolist())\n",
    "\n",
    "Acc_list=[]\n",
    "\n",
    "# n_of_random_sel=20\n",
    "# n_of_random_sel=50\n",
    "n_of_random_sel=20\n",
    "acc_array_fullSet2_cdrp=np.zeros((n_of_random_sel,4));\n",
    "# acc_array_filtSet2_cdrp=np.zeros((n_of_random_sel,4));\n",
    "# for i in range(n_of_random_sel):\n",
    "\n",
    "kf = KFold(n_splits=n_of_random_sel,random_state=1,shuffle=True)\n",
    "i=0\n",
    "for train_index0, test_index in kf.split(filteredMOAs):\n",
    "    print('rand ',i)\n",
    "# for outdim_size in range(10,110,10):\n",
    "#     test_index=filteredMOAs.groupby(['Metadata_moa_num']).sample(1).sample(50).index.values\n",
    "#     hgfhf\n",
    "    unq_comp_test=filteredMOAs.loc[test_index,'Compounds'].unique().tolist()\n",
    "    \n",
    "#     print(filteredMOAs.loc[test_index,'Metadata_moa_num'].unique().tolist())\n",
    "#     print(len(filteredMOAs.loc[train_index,'Metadata_moa_num'].unique().tolist()))\n",
    "    \n",
    "    testFiltMoA=filteredMOAs.loc[test_index,:]\n",
    "    \n",
    "    \n",
    "    comp_to_remove_from_train=filteredMOAs[filteredMOAs['Compounds'].isin(unq_comp_test)].index.values\n",
    "#         print(test_index[0:30])\n",
    "#         khhk\n",
    "    train_index=np.array(list(set(filteredMOAs.index.values)-set(test_index)-set(comp_to_remove_from_train)))\n",
    "\n",
    "    train_moaClassess=filteredMOAs.loc[train_index,'Metadata_moa_num'].unique().tolist()\n",
    "    test_moaClassess=filteredMOAs.loc[test_index,'Metadata_moa_num'].unique().tolist()   \n",
    "\n",
    "\n",
    "#     if len(filteredMOAs.loc[train_index,'Metadata_moa_num'].unique().tolist())=70:\n",
    "#         sfsdssf\n",
    "    test_cl_toRemove=list(set(test_moaClassess)-set(train_moaClassess))\n",
    "    test_ind_toRemo=testFiltMoA[testFiltMoA['Metadata_moa_num'].isin(test_cl_toRemove)].index\n",
    "\n",
    "    print(test_cl_toRemove,test_ind_toRemo)\n",
    "    test_index=np.array(list(set(test_index)-set(test_ind_toRemo)))\n",
    "    \n",
    "    \n",
    "#     data_train = filteredMOAs.loc[train_index,domXfeats].values;\n",
    "    labels_train=filteredMOAs.loc[train_index,'Metadata_moa_num'].tolist()\n",
    "\n",
    "#     data_test = filteredMOAs.loc[test_index,domXfeats].values;\n",
    "    labels_test=filteredMOAs.loc[test_index,'Metadata_moa_num'].tolist()\n",
    "    \n",
    "    \n",
    "    class_weightt = class_weight.compute_class_weight(class_weight='balanced',classes=np.unique(labels_train),y=labels_train)    \n",
    "#         model_tr = RandomForestClassifier(n_estimators=10,max_features=100,class_weight=\"balanced\")\n",
    "\n",
    "    probs=[]\n",
    "    for n,dt_modality in zip([0,1,2],data4eval):\n",
    "        \n",
    "        data_m=dt_modality[0][dt_modality[0][pertColName].isin(IDs4filteredMOAs)].reset_index(drop=True)        \n",
    "\n",
    "        dt_train=data_m.loc[train_index,dt_modality[1]].values;\n",
    "        dt_test=data_m.loc[test_index,dt_modality[1]].values; \n",
    "    #         model_tr = RandomForestClassifier(n_estimators=10,max_features=100,class_weight=\"balanced\")\n",
    "#         model_tr = GaussianNB()\n",
    "#         model_tr = ComplementNB()\n",
    "\n",
    "        model_tr = LogisticRegression(multi_class='multinomial',n_jobs=1,max_iter=1000,class_weight=\"balanced\")\n",
    "        model_tr.fit(dt_train,labels_train)\n",
    "        \n",
    "        accc=model_tr.score(dt_test,labels_test)\n",
    "        probs.append(model_tr.predict_proba(dt_test))\n",
    "        model_tr.classes_\n",
    "#         print(accc)\n",
    "        acc_array_fullSet2_cdrp[i,n]=accc*100\n",
    "#         acc_array_filtSet2_cdrp[i,n]=accc*100\n",
    "        \n",
    "        Acc_list.append(accc);\n",
    "    \n",
    "#     labels_lateFusion=list(np.argmax((probs[0]+probs[1])/2,axis=1))\n",
    "    labels_lateFusion=model_tr.classes_[np.argmax((probs[0]+probs[1])/2,axis=1)]\n",
    "    acc_array_fullSet2_cdrp[i,n+1]=accuracy_score(labels_test,labels_lateFusion)*100\n",
    "#     acc_array_filtSet2_cdrp[i,n+1]=accuracy_score(labels_test,labels_lateFusion)*100\n",
    "    i+=1\n",
    "    \n",
    "#     hfh\n",
    "print(np.median(acc_array_fullSet2_cdrp,axis=0))\n",
    "# print('Accuracy: ',r, np.mean(Acc_list)*100)  "
   ]
  },
  {
   "cell_type": "code",
   "execution_count": 354,
   "metadata": {},
   "outputs": [
    {
     "name": "stdout",
     "output_type": "stream",
     "text": [
      "[5.65891473 2.27390181 4.54780362 4.39613527]\n"
     ]
    }
   ],
   "source": [
    "# train_index\n",
    "# data_m\n",
    "# len(dt_modality[1])\n",
    "print(np.median(acc_array_fullSet2_cdrp,axis=0))"
   ]
  },
  {
   "cell_type": "code",
   "execution_count": 162,
   "metadata": {},
   "outputs": [
    {
     "data": {
      "text/plain": [
       "array([38.33333333, 39.64285714, 43.33333333, 43.33333333])"
      ]
     },
     "execution_count": 162,
     "metadata": {},
     "output_type": "execute_result"
    }
   ],
   "source": [
    "# acc_array_fullSet2\n",
    "\n",
    "# list(set(test_moaClassess)-set(train_moaClassess)\n",
    "# model_tr.classes_[np.argmax((probs[0]+probs[1])/2,axis=1)]\n",
    "np.median(acc_array_filtSet2,axis=0)"
   ]
  },
  {
   "cell_type": "code",
   "execution_count": 160,
   "metadata": {},
   "outputs": [
    {
     "data": {
      "text/plain": [
       "array([18, 56, 41, 31, 39, 20, 36, 69, 36, 56, 26, 54, 15, 13, 26, 36, 22,\n",
       "       71, 14, 64, 61, 15, 35, 69, 11, 59, 35, 15, 17, 69])"
      ]
     },
     "execution_count": 160,
     "metadata": {},
     "output_type": "execute_result"
    }
   ],
   "source": [
    "np.argmax((probs[0]+probs[1])/2,axis=1)"
   ]
  },
  {
   "cell_type": "code",
   "execution_count": 157,
   "metadata": {},
   "outputs": [
    {
     "data": {
      "text/plain": [
       "array([18, 69, 41, 31, 39, 20, 36, 69, 36, 56, 26, 54, 13, 13, 26, 36, 51,\n",
       "       64, 14, 64, 61, 15, 35, 61, 11, 59, 35, 15, 17, 69])"
      ]
     },
     "execution_count": 157,
     "metadata": {},
     "output_type": "execute_result"
    }
   ],
   "source": [
    "model_tr.predict(dt_test)"
   ]
  },
  {
   "cell_type": "code",
   "execution_count": 158,
   "metadata": {},
   "outputs": [
    {
     "data": {
      "text/plain": [
       "array([18, 56, 41, 31, 39, 20, 36, 69, 36, 56, 26, 54, 15, 13, 26, 36, 22,\n",
       "       71, 14, 64, 61, 15, 35, 69, 11, 59, 35, 15, 17, 69])"
      ]
     },
     "execution_count": 158,
     "metadata": {},
     "output_type": "execute_result"
    }
   ],
   "source": [
    "np.argmax((probs[0]+probs[1])/2,axis=1)"
   ]
  },
  {
   "cell_type": "code",
   "execution_count": 129,
   "metadata": {},
   "outputs": [
    {
     "data": {
      "text/plain": [
       "array([38.33333333, 38.33333333, 43.33333333, 43.33333333])"
      ]
     },
     "execution_count": 129,
     "metadata": {},
     "output_type": "execute_result"
    }
   ],
   "source": [
    "# accuracy_score(labels_test,labels_lateFusion)\n",
    "# len(labels_lateFusion),len(labels_test)\n",
    "# labels_lateFusion\n",
    "np.median(acc_array_filtSet2,axis=0)"
   ]
  },
  {
   "cell_type": "code",
   "execution_count": 87,
   "metadata": {},
   "outputs": [
    {
     "data": {
      "text/plain": [
       "array([7.17488789, 6.7264574 , 7.17488789, 0.89686099])"
      ]
     },
     "execution_count": 87,
     "metadata": {},
     "output_type": "execute_result"
    }
   ],
   "source": [
    "np.median(acc_array_fullSet,axis=0)"
   ]
  },
  {
   "cell_type": "code",
   "execution_count": 89,
   "metadata": {},
   "outputs": [
    {
     "data": {
      "text/plain": [
       "array([7.82147316, 6.74157303, 7.86516854, 6.74157303])"
      ]
     },
     "execution_count": 89,
     "metadata": {},
     "output_type": "execute_result"
    }
   ],
   "source": [
    "np.median(acc_array_fullSet2,axis=0)"
   ]
  },
  {
   "cell_type": "code",
   "execution_count": 628,
   "metadata": {},
   "outputs": [
    {
     "data": {
      "text/plain": [
       "0.375"
      ]
     },
     "execution_count": 628,
     "metadata": {},
     "output_type": "execute_result"
    }
   ],
   "source": [
    "# np.argmax(model_tr.predict_proba(dt_train),axis=1)\n",
    "# labels_lateFusion=np.argmax((probs[0]+probs[1])/2,axis=1)\n",
    "# accc\n",
    "accuracy_score(model_tr.predict(dt_test),labels_test)"
   ]
  },
  {
   "cell_type": "code",
   "execution_count": 631,
   "metadata": {},
   "outputs": [
    {
     "data": {
      "text/plain": [
       "1.0"
      ]
     },
     "execution_count": 631,
     "metadata": {},
     "output_type": "execute_result"
    }
   ],
   "source": [
    "# model_tr.predict(dt_train)\n",
    "accuracy_score(labels_test,labels_test)"
   ]
  },
  {
   "cell_type": "code",
   "execution_count": 471,
   "metadata": {},
   "outputs": [
    {
     "data": {
      "text/plain": [
       "(191, (191, 119), 0.005235602094240838)"
      ]
     },
     "execution_count": 471,
     "metadata": {},
     "output_type": "execute_result"
    }
   ],
   "source": [
    "# dt_modality[0]\n",
    "len(labels_test),dt_test.shape,accc"
   ]
  },
  {
   "cell_type": "code",
   "execution_count": 489,
   "metadata": {},
   "outputs": [
    {
     "data": {
      "text/plain": [
       "array([2004, 4042, 3343, 3729,  740, 3956,  640, 1293,  881, 4058, 3827,\n",
       "       1135, 3461, 3125,  526,  105, 2891,  718, 1181, 2900,  115, 1730,\n",
       "       2680, 3643, 4017, 3486,  812, 3866,  124, 3033,  992, 3108, 2619,\n",
       "       1929, 2461, 3372,  269, 4224, 2399, 1392, 1574, 1033,   75,  425,\n",
       "       2442, 3346, 2198, 2413,  282, 1939, 1122,  404, 3788,  651,  553,\n",
       "        735,  797, 4016, 1685, 1748, 1640, 1368, 4036, 4280, 3710, 2595,\n",
       "       3702, 3605, 2108, 2146, 2631,  274,   47, 4197, 1972, 3146, 2985,\n",
       "       4426,  933, 3563,  981, 2101,  310, 3903,  590, 3053, 3025, 1853,\n",
       "       2334, 1871, 4421, 1126, 3418, 1544, 1312, 2128, 3883, 1825, 2756,\n",
       "        770, 2022,  505, 2837, 2445, 3772, 2923, 1681, 3044, 3598, 2993,\n",
       "        936, 1283,  862, 2855, 2724, 2477, 2567, 1068, 2528,   80, 4270,\n",
       "          9,  375, 1866, 1334, 1892, 1219,  968, 3264, 1398, 4215, 2949,\n",
       "       1708, 4232, 4437, 2663, 3380, 3857, 4152,  978,  577, 3218, 1945,\n",
       "       2395,  569,  748, 3636, 1584, 1489, 1805, 1605, 2054, 4358, 3611,\n",
       "       1100, 2871, 2927, 3961, 2255, 1009, 3644, 2733, 1602, 2775, 3620,\n",
       "       2789, 3119, 2961, 3452, 2877, 4087,  869,    1, 1527,  802, 1450,\n",
       "       2568,  144, 3869, 3896, 4205, 1415, 2379, 3706, 3068, 2137, 3396,\n",
       "       4287, 4262, 1988, 2614])"
      ]
     },
     "execution_count": 489,
     "metadata": {},
     "output_type": "execute_result"
    }
   ],
   "source": [
    "# model_tr.predict(dt_test)\n",
    "# train_index\n",
    "test_index"
   ]
  },
  {
   "cell_type": "code",
   "execution_count": 480,
   "metadata": {
    "scrolled": true
   },
   "outputs": [
    {
     "name": "stdout",
     "output_type": "stream",
     "text": [
      "0\n"
     ]
    },
    {
     "name": "stderr",
     "output_type": "stream",
     "text": [
      "/home/ubuntu/anaconda3/lib/python3.8/site-packages/sklearn/utils/validation.py:67: FutureWarning: Pass classes=[  0   1   2   3   4   5   6   7   8   9  10  11  12  13  14  15  16  17\n",
      "  18  19  20  21  22  23  24  25  26  27  28  29  30  31  32  33  34  35\n",
      "  36  37  38  39  40  41  42  43  44  45  46  47  48  49  50  51  52  53\n",
      "  54  55  56  57  58  59  60  61  62  63  64  65  66  67  68  69  70  71\n",
      "  72  73  74  75  76  77  78  79  80  81  82  83  84  85  86  87  88  89\n",
      "  90  91  92  93  94  95  96  97  98  99 100 101 102 103 104 105 106 107\n",
      " 108 109 110 111 112 113 114 115 116 117 118 119 120 121 122 123 124 125\n",
      " 126 127 128 129 130 131 132 133 134 135 136 137 138 139 140 141 142 143\n",
      " 144 145 146 147 148 149 150 151 152 153 154 155 156 157 158 159 160 161\n",
      " 162 163 164 165 166 167 168 169 170 171 172 173 174 175 176 177 178 179\n",
      " 180 181 182 183 184 185 186 187 188 189 190], y=[172, 172, 172, 172, 172, 8, 8, 8, 8, 8, 117, 117, 117, 117, 117, 169, 169, 169, 169, 169, 15, 15, 15, 15, 15, 43, 43, 43, 43, 43, 14, 14, 14, 14, 14, 66, 66, 66, 66, 66, 72, 72, 72, 72, 72, 97, 97, 97, 97, 97, 15, 15, 15, 15, 15, 38, 38, 38, 38, 38, 99, 99, 99, 99, 99, 68, 68, 68, 68, 68, 183, 183, 183, 183, 183, 28, 28, 28, 28, 28, 15, 15, 15, 15, 15, 15, 15, 15, 15, 15, 15, 15, 15, 15, 15, 66, 66, 66, 66, 66, 28, 28, 28, 28, 28, 169, 169, 169, 169, 169, 43, 43, 43, 43, 43, 95, 95, 95, 95, 95, 15, 15, 15, 15, 15, 15, 15, 15, 15, 15, 166, 166, 166, 166, 166, 15, 15, 15, 15, 15, 34, 34, 34, 34, 34, 164, 164, 164, 164, 164, 140, 140, 140, 140, 140, 84, 84, 84, 84, 84, 15, 15, 15, 15, 15, 71, 71, 71, 71, 71, 145, 145, 145, 145, 145, 166, 166, 166, 166, 166, 167, 167, 167, 167, 167, 78, 78, 78, 78, 78, 32, 32, 32, 32, 32, 53, 53, 53, 53, 53, 14, 14, 14, 14, 14, 53, 53, 53, 53, 53, 36, 36, 36, 36, 36, 71, 71, 71, 71, 71, 125, 125, 125, 125, 125, 166, 166, 166, 166, 166, 166, 166, 166, 166, 166, 8, 8, 8, 8, 8, 84, 84, 84, 84, 84, 15, 15, 15, 15, 15, 43, 43, 43, 43, 43, 30, 30, 30, 30, 30, 44, 44, 44, 44, 44, 84, 84, 84, 84, 84, 30, 30, 30, 30, 30, 26, 26, 26, 26, 26, 95, 95, 95, 95, 95, 43, 43, 43, 43, 43, 118, 118, 118, 118, 118, 183, 183, 183, 183, 183, 15, 15, 15, 15, 15, 142, 142, 142, 142, 142, 117, 117, 117, 117, 117, 19, 19, 19, 19, 19, 51, 51, 51, 51, 51, 145, 145, 145, 145, 145, 169, 169, 169, 169, 169, 39, 39, 39, 39, 39, 43, 43, 43, 43, 43, 187, 187, 187, 187, 187, 163, 163, 163, 163, 163, 115, 115, 115, 115, 115, 172, 172, 172, 172, 172, 15, 15, 15, 15, 15, 181, 181, 181, 181, 181, 159, 159, 159, 159, 159, 32, 32, 32, 32, 32, 8, 8, 8, 8, 8, 53, 53, 53, 53, 53, 141, 141, 141, 141, 141, 151, 151, 151, 151, 151, 150, 150, 150, 150, 150, 84, 84, 84, 84, 84, 101, 101, 101, 101, 101, 58, 58, 58, 58, 58, 14, 14, 14, 14, 14, 53, 53, 53, 53, 53, 30, 30, 30, 30, 30, 54, 54, 54, 54, 54, 54, 54, 54, 54, 54, 39, 39, 39, 39, 39, 144, 144, 144, 144, 144, 84, 84, 84, 84, 84, 52, 52, 52, 52, 52, 166, 166, 166, 166, 166, 84, 84, 84, 84, 84, 8, 8, 8, 8, 8, 82, 82, 82, 82, 82, 18, 18, 18, 18, 18, 7, 7, 7, 7, 7, 6, 6, 6, 6, 6, 43, 43, 43, 43, 43, 160, 160, 160, 160, 160, 14, 14, 14, 14, 14, 145, 145, 145, 145, 145, 112, 112, 112, 112, 112, 8, 8, 8, 8, 8, 141, 141, 141, 141, 141, 84, 84, 84, 84, 84, 86, 86, 86, 86, 86, 57, 57, 57, 57, 57, 17, 17, 17, 17, 17, 8, 8, 8, 8, 8, 66, 66, 66, 66, 66, 150, 150, 150, 150, 150, 145, 145, 145, 145, 145, 99, 99, 99, 99, 99, 99, 99, 99, 99, 99, 15, 15, 15, 15, 15, 92, 92, 92, 92, 92, 99, 99, 99, 99, 99, 83, 83, 83, 83, 83, 43, 43, 43, 43, 43, 84, 84, 84, 84, 84, 56, 56, 56, 56, 56, 174, 174, 174, 174, 174, 99, 99, 99, 99, 99, 26, 26, 26, 26, 26, 144, 144, 144, 144, 53, 53, 53, 53, 53, 62, 62, 62, 62, 62, 30, 30, 30, 30, 30, 84, 84, 84, 84, 84, 14, 14, 14, 14, 14, 32, 32, 32, 32, 32, 53, 53, 53, 53, 53, 112, 112, 112, 112, 112, 14, 14, 14, 14, 14, 65, 65, 65, 65, 65, 8, 8, 8, 8, 8, 187, 187, 187, 187, 187, 32, 32, 32, 32, 32, 0, 0, 0, 0, 0, 53, 53, 53, 53, 53, 66, 66, 66, 66, 66, 61, 61, 61, 61, 61, 53, 53, 53, 53, 53, 7, 7, 7, 7, 7, 110, 110, 110, 110, 110, 53, 53, 53, 53, 53, 84, 84, 84, 84, 84, 15, 15, 15, 15, 15, 43, 43, 43, 43, 43, 127, 127, 127, 127, 127, 80, 80, 80, 80, 80, 84, 84, 84, 84, 84, 30, 30, 30, 30, 30, 15, 15, 15, 15, 15, 172, 172, 172, 172, 172, 6, 6, 6, 6, 6, 172, 172, 172, 172, 172, 8, 8, 8, 8, 8, 41, 41, 41, 41, 41, 14, 14, 14, 14, 14, 140, 140, 140, 140, 140, 8, 8, 8, 8, 8, 169, 169, 169, 169, 169, 15, 15, 15, 15, 15, 53, 53, 53, 53, 53, 167, 167, 167, 167, 167, 99, 99, 99, 99, 99, 8, 8, 8, 8, 8, 158, 158, 158, 158, 158, 116, 116, 116, 116, 116, 30, 30, 30, 30, 30, 154, 154, 154, 154, 154, 166, 166, 166, 166, 166, 80, 80, 80, 80, 80, 99, 99, 99, 99, 99, 50, 50, 50, 50, 50, 66, 66, 66, 66, 66, 11, 11, 11, 11, 11, 7, 7, 7, 7, 7, 12, 12, 12, 12, 12, 99, 99, 99, 99, 99, 185, 185, 185, 185, 185, 32, 32, 32, 32, 32, 93, 93, 93, 93, 93, 89, 89, 89, 89, 89, 53, 53, 53, 53, 53, 167, 167, 167, 167, 167, 151, 151, 151, 151, 151, 83, 83, 83, 83, 83, 126, 126, 126, 126, 126, 141, 141, 141, 141, 141, 111, 111, 111, 111, 111, 186, 186, 186, 186, 186, 144, 144, 144, 144, 66, 66, 66, 66, 66, 53, 53, 53, 53, 53, 156, 156, 156, 156, 156, 92, 92, 92, 92, 92, 30, 30, 30, 30, 30, 2, 2, 2, 2, 2, 15, 15, 15, 15, 15, 86, 86, 86, 86, 86, 92, 92, 92, 92, 92, 15, 15, 15, 15, 15, 94, 94, 94, 94, 94, 32, 32, 32, 32, 32, 156, 156, 156, 156, 156, 155, 155, 155, 155, 155, 172, 172, 172, 172, 172, 124, 124, 124, 124, 124, 14, 14, 14, 14, 14, 65, 65, 65, 65, 65, 32, 32, 32, 32, 32, 61, 61, 61, 61, 61, 62, 62, 62, 62, 62, 43, 43, 43, 43, 43, 118, 118, 118, 118, 118, 40, 40, 40, 40, 40, 123, 123, 123, 123, 123, 53, 53, 53, 53, 53, 181, 181, 181, 181, 181, 149, 149, 149, 149, 149, 133, 133, 133, 133, 133, 69, 69, 69, 69, 69, 166, 166, 166, 166, 166, 112, 112, 112, 112, 112, 175, 175, 175, 175, 175, 50, 50, 50, 50, 50, 164, 164, 164, 164, 164, 30, 30, 30, 30, 30, 155, 155, 155, 155, 155, 85, 85, 85, 85, 85, 148, 148, 148, 148, 148, 133, 133, 133, 133, 133, 3, 3, 3, 3, 3, 4, 4, 4, 4, 4, 53, 53, 53, 53, 53, 173, 173, 173, 173, 173, 183, 183, 183, 183, 183, 8, 8, 8, 8, 8, 133, 133, 133, 133, 133, 93, 93, 93, 93, 93, 124, 124, 124, 124, 124, 141, 141, 141, 141, 141, 53, 53, 53, 53, 53, 47, 47, 47, 47, 47, 141, 141, 141, 141, 141, 147, 147, 147, 147, 147, 181, 181, 181, 181, 181, 99, 99, 99, 99, 99, 162, 162, 162, 162, 162, 150, 150, 150, 150, 150, 177, 177, 177, 177, 177, 174, 174, 174, 174, 174, 159, 159, 159, 159, 159, 141, 141, 141, 141, 141, 32, 32, 32, 32, 32, 65, 65, 65, 65, 65, 53, 53, 53, 53, 53, 14, 14, 14, 14, 14, 70, 70, 70, 70, 70, 141, 141, 141, 141, 141, 137, 137, 137, 137, 137, 29, 29, 29, 29, 29, 106, 106, 106, 106, 106, 58, 58, 58, 58, 58, 129, 129, 129, 129, 129, 8, 8, 8, 8, 8, 105, 105, 105, 105, 105, 132, 132, 132, 132, 132, 144, 144, 144, 144, 144, 129, 129, 129, 129, 129, 93, 93, 93, 93, 93, 21, 21, 21, 21, 21, 151, 151, 151, 151, 151, 61, 61, 61, 61, 61, 59, 59, 59, 59, 59, 14, 14, 14, 14, 14, 9, 9, 9, 9, 9, 139, 139, 139, 139, 139, 127, 127, 127, 127, 127, 66, 66, 66, 66, 66, 102, 102, 102, 102, 102, 114, 114, 114, 114, 114, 47, 47, 47, 47, 47, 83, 83, 83, 83, 83, 149, 149, 149, 149, 149, 96, 96, 96, 96, 96, 183, 183, 183, 183, 183, 181, 181, 181, 181, 181, 148, 148, 148, 148, 148, 96, 96, 96, 96, 96, 8, 8, 8, 8, 8, 87, 87, 87, 87, 87, 92, 92, 92, 92, 92, 89, 89, 89, 89, 89, 53, 53, 53, 53, 53, 106, 106, 106, 106, 106, 29, 29, 29, 29, 29, 67, 67, 67, 67, 67, 181, 181, 181, 181, 181, 69, 69, 69, 69, 69, 81, 81, 81, 81, 81, 45, 45, 45, 45, 45, 99, 99, 99, 99, 99, 49, 49, 49, 49, 49, 99, 99, 99, 99, 99, 62, 62, 62, 62, 62, 82, 82, 82, 82, 82, 74, 74, 74, 74, 74, 189, 189, 189, 189, 189, 149, 149, 149, 149, 149, 189, 189, 189, 189, 189, 93, 93, 93, 93, 93, 152, 152, 152, 152, 152, 58, 58, 58, 58, 58, 100, 100, 100, 100, 100, 67, 67, 67, 67, 67, 185, 185, 185, 185, 185, 20, 20, 20, 20, 20, 183, 183, 183, 183, 183, 15, 15, 15, 15, 15, 151, 151, 151, 151, 151, 164, 164, 164, 164, 164, 96, 96, 96, 96, 96, 84, 84, 84, 84, 84, 15, 15, 15, 15, 15, 5, 5, 5, 5, 5, 48, 48, 48, 48, 48, 19, 19, 19, 19, 19, 158, 158, 158, 158, 158, 95, 95, 95, 95, 95, 69, 69, 69, 69, 69, 129, 129, 129, 129, 129, 141, 141, 141, 141, 141, 34, 34, 34, 34, 34, 82, 82, 82, 82, 82, 99, 99, 99, 99, 99, 88, 88, 88, 88, 88, 14, 14, 14, 14, 14, 103, 103, 103, 103, 103, 141, 141, 141, 141, 141, 46, 46, 46, 46, 46, 84, 84, 84, 84, 84, 55, 55, 55, 55, 55, 15, 15, 15, 15, 15, 39, 39, 39, 39, 39, 164, 164, 164, 164, 164, 79, 79, 79, 79, 79, 106, 106, 106, 106, 106, 154, 154, 154, 154, 154, 120, 120, 120, 120, 120, 158, 158, 158, 158, 158, 141, 141, 141, 141, 141, 141, 141, 141, 141, 141, 111, 111, 111, 111, 111, 99, 99, 99, 99, 99, 181, 181, 181, 181, 181, 92, 92, 92, 92, 92, 141, 141, 141, 141, 141, 15, 15, 15, 15, 15, 53, 53, 53, 53, 53, 15, 15, 15, 15, 15, 95, 95, 95, 95, 95, 88, 88, 88, 88, 88, 70, 70, 70, 70, 70, 93, 93, 93, 93, 93, 53, 53, 53, 53, 53, 15, 15, 15, 15, 15, 53, 53, 53, 53, 53, 75, 75, 75, 75, 75, 135, 135, 135, 135, 135, 69, 69, 69, 69, 69, 182, 182, 182, 182, 182, 45, 45, 45, 45, 45, 128, 128, 128, 128, 128, 38, 38, 38, 38, 38, 155, 155, 155, 155, 155, 47, 47, 47, 47, 47, 65, 65, 65, 65, 65, 32, 32, 32, 32, 32, 79, 79, 79, 79, 79, 91, 91, 91, 91, 91, 34, 34, 34, 34, 34, 60, 60, 60, 60, 60, 143, 143, 143, 143, 143, 181, 181, 181, 181, 181, 23, 23, 23, 23, 23, 51, 51, 51, 51, 51, 139, 139, 139, 139, 139, 71, 71, 71, 71, 71, 141, 141, 141, 141, 141, 139, 139, 139, 139, 139, 12, 12, 12, 12, 12, 118, 118, 118, 118, 118, 170, 170, 170, 170, 170, 22, 22, 22, 22, 22, 8, 8, 8, 8, 8, 42, 42, 42, 42, 42, 53, 53, 53, 53, 53, 32, 32, 32, 32, 32, 116, 116, 116, 116, 116, 28, 28, 28, 28, 28, 8, 8, 8, 8, 8, 141, 141, 141, 141, 141, 57, 57, 57, 57, 57, 65, 65, 65, 65, 65, 63, 63, 63, 63, 63, 99, 99, 99, 99, 99, 190, 190, 190, 190, 190, 32, 32, 32, 32, 32, 14, 14, 14, 14, 14, 120, 120, 120, 120, 120, 15, 15, 15, 15, 15, 135, 135, 135, 135, 135, 43, 43, 43, 43, 43, 135, 135, 135, 135, 135, 22, 22, 22, 22, 22, 99, 99, 99, 99, 99, 54, 54, 54, 54, 54, 31, 31, 31, 31, 31, 164, 164, 164, 164, 164, 67, 67, 67, 67, 67, 40, 40, 40, 40, 40, 144, 144, 144, 144, 144, 114, 114, 114, 114, 114, 120, 120, 120, 120, 120, 161, 161, 161, 161, 161, 40, 40, 40, 40, 40, 93, 93, 93, 93, 93, 104, 104, 104, 104, 104, 98, 98, 98, 98, 98, 132, 132, 132, 132, 132, 186, 186, 186, 186, 186, 163, 163, 163, 163, 163, 160, 160, 160, 160, 160, 165, 165, 165, 165, 165, 24, 24, 24, 24, 24, 53, 53, 53, 53, 53, 71, 71, 71, 71, 71, 164, 164, 164, 164, 164, 59, 59, 59, 59, 59, 32, 32, 32, 32, 32, 113, 113, 113, 113, 113, 155, 155, 155, 155, 155, 169, 169, 169, 169, 169, 160, 160, 160, 160, 160, 14, 14, 14, 14, 14, 181, 181, 181, 181, 181, 19, 19, 19, 19, 19, 93, 93, 93, 93, 93, 111, 111, 111, 111, 111, 69, 69, 69, 69, 69, 53, 53, 53, 53, 156, 156, 156, 156, 156, 66, 66, 66, 66, 66, 22, 22, 22, 22, 22, 141, 141, 141, 141, 141, 131, 131, 131, 131, 131, 66, 66, 66, 66, 66, 167, 167, 167, 167, 167, 118, 118, 118, 118, 118, 29, 29, 29, 29, 29, 164, 164, 164, 164, 164, 76, 76, 76, 76, 76, 8, 8, 8, 8, 8, 66, 66, 66, 66, 66, 53, 53, 53, 53, 53, 132, 132, 132, 132, 132, 112, 112, 112, 112, 112, 150, 150, 150, 150, 150, 86, 86, 86, 86, 86, 29, 29, 29, 29, 29, 123, 123, 123, 123, 123, 107, 107, 107, 107, 107, 169, 169, 169, 169, 169, 135, 135, 135, 135, 135, 184, 184, 184, 184, 184, 93, 93, 93, 93, 93, 126, 126, 126, 126, 126, 64, 64, 64, 64, 64, 141, 141, 141, 141, 141, 122, 122, 122, 122, 122, 84, 84, 84, 84, 84, 88, 88, 88, 88, 88, 166, 166, 166, 166, 166, 13, 13, 13, 13, 13, 90, 90, 90, 90, 90, 43, 43, 43, 43, 43, 43, 43, 43, 43, 43, 75, 75, 75, 75, 75, 109, 109, 109, 109, 109, 186, 186, 186, 186, 186, 171, 171, 171, 171, 171, 66, 66, 66, 66, 66, 73, 73, 73, 73, 73, 69, 69, 69, 69, 69, 118, 118, 118, 118, 118, 145, 145, 145, 145, 145, 141, 141, 141, 141, 141, 40, 40, 40, 40, 40, 138, 138, 138, 138, 138, 176, 176, 176, 176, 176, 58, 58, 58, 58, 58, 141, 141, 141, 141, 141, 119, 119, 119, 119, 119, 69, 69, 69, 69, 69, 181, 181, 181, 181, 181, 30, 30, 30, 30, 30, 29, 29, 29, 29, 29, 99, 99, 99, 99, 99, 141, 141, 141, 141, 141, 61, 61, 61, 61, 61, 22, 22, 22, 22, 22, 141, 141, 141, 141, 141, 52, 52, 52, 52, 52, 119, 119, 119, 119, 119, 66, 66, 66, 66, 66, 1, 1, 1, 1, 1, 22, 22, 22, 22, 22, 2, 2, 2, 2, 2, 34, 34, 34, 34, 34, 34, 34, 34, 34, 34, 181, 181, 181, 181, 181, 35, 35, 35, 35, 35, 136, 136, 136, 136, 136, 14, 14, 14, 14, 14, 67, 67, 67, 67, 67, 33, 33, 33, 33, 33, 67, 67, 67, 67, 67, 8, 8, 8, 8, 8, 96, 96, 96, 96, 96, 92, 92, 92, 92, 92, 138, 138, 138, 138, 138, 163, 163, 163, 163, 163, 88, 88, 88, 88, 88, 165, 165, 165, 165, 165, 69, 69, 69, 69, 69, 166, 166, 166, 166, 166, 168, 168, 168, 168, 168, 99, 99, 99, 99, 99, 12, 12, 12, 12, 12, 53, 53, 53, 53, 53, 172, 172, 172, 172, 172, 47, 47, 47, 47, 47, 108, 108, 108, 108, 108, 22, 22, 22, 22, 22, 40, 40, 40, 40, 40, 61, 61, 61, 61, 61, 7, 7, 7, 7, 7, 143, 143, 143, 143, 143, 15, 15, 15, 15, 15, 189, 189, 189, 189, 189, 14, 14, 14, 14, 14, 53, 53, 53, 53, 53, 23, 23, 23, 23, 23, 183, 183, 183, 183, 183, 132, 132, 132, 132, 132, 79, 79, 79, 79, 79, 141, 141, 141, 141, 141, 141, 141, 141, 141, 15, 15, 15, 15, 15, 8, 8, 8, 8, 8, 124, 124, 124, 124, 124, 70, 70, 70, 70, 70, 108, 108, 108, 108, 169, 169, 169, 169, 169, 67, 67, 67, 67, 67, 153, 153, 153, 153, 153, 164, 164, 164, 164, 164, 164, 164, 164, 164, 164, 96, 96, 96, 96, 96, 23, 23, 23, 23, 23, 160, 160, 160, 160, 160, 151, 151, 151, 151, 151, 53, 53, 53, 53, 53, 15, 15, 15, 15, 15, 158, 158, 158, 158, 158, 15, 15, 15, 15, 15, 190, 190, 190, 190, 190, 14, 14, 14, 14, 14, 137, 137, 137, 137, 137, 93, 93, 93, 93, 93, 66, 66, 66, 66, 66, 183, 183, 183, 183, 183, 64, 64, 64, 64, 64, 66, 66, 66, 66, 66, 181, 181, 181, 181, 181, 175, 175, 175, 175, 3, 3, 3, 3, 166, 166, 166, 166, 166, 137, 137, 137, 137, 137, 99, 99, 99, 99, 99, 141, 141, 141, 141, 141, 156, 156, 156, 156, 156, 52, 52, 52, 52, 52, 53, 53, 53, 53, 53, 15, 15, 15, 15, 15, 156, 156, 156, 156, 156, 43, 43, 43, 43, 43, 189, 189, 189, 189, 189, 10, 10, 10, 10, 10, 116, 116, 116, 116, 116, 83, 83, 83, 83, 83, 111, 111, 111, 111, 111, 16, 16, 16, 16, 16, 27, 27, 27, 27, 27, 178, 178, 178, 178, 178, 99, 99, 99, 99, 99, 103, 103, 103, 103, 103, 141, 141, 141, 141, 141, 176, 176, 176, 176, 176, 158, 158, 158, 158, 158, 93, 93, 93, 93, 93, 23, 23, 23, 23, 23, 189, 189, 189, 189, 189, 38, 38, 38, 38, 38, 126, 126, 126, 126, 126, 130, 130, 130, 130, 130, 7, 7, 7, 7, 7, 5, 5, 5, 5, 5, 157, 157, 157, 157, 157, 30, 30, 30, 30, 30, 8, 8, 8, 8, 8, 69, 69, 69, 69, 69, 111, 111, 111, 111, 111, 152, 152, 152, 152, 152, 141, 141, 141, 141, 141, 190, 190, 190, 190, 190, 65, 65, 65, 65, 65, 40, 40, 40, 40, 40, 164, 164, 164, 164, 164, 160, 160, 160, 160, 160, 14, 14, 14, 14, 14, 22, 22, 22, 22, 22, 8, 8, 8, 8, 8, 143, 143, 143, 143, 143, 66, 66, 66, 66, 66, 15, 15, 15, 15, 15, 65, 65, 65, 65, 65, 121, 121, 121, 121, 53, 53, 53, 53, 53, 60, 60, 60, 60, 60, 38, 38, 38, 38, 38, 169, 169, 169, 169, 169, 181, 181, 181, 181, 181, 148, 148, 148, 148, 141, 141, 141, 141, 141, 158, 158, 158, 158, 158, 18, 18, 18, 18, 18, 34, 34, 34, 34, 34, 58, 58, 58, 58, 58, 67, 67, 67, 67, 67, 141, 141, 141, 141, 141, 164, 164, 164, 164, 164, 141, 141, 141, 141, 141, 180, 180, 180, 180, 180, 137, 137, 137, 137, 25, 25, 25, 25, 25, 37, 37, 37, 37, 37, 133, 133, 133, 133, 133, 67, 67, 67, 67, 67, 6, 6, 6, 6, 6, 188, 188, 188, 188, 188, 135, 135, 135, 135, 135, 32, 32, 32, 32, 32, 120, 120, 120, 120, 120, 28, 28, 28, 28, 28, 63, 63, 63, 63, 63, 187, 187, 187, 187, 187, 66, 66, 66, 66, 66, 50, 50, 50, 50, 50, 108, 108, 108, 108, 108, 66, 66, 66, 66, 66, 169, 169, 169, 169, 169, 66, 66, 66, 66, 66, 176, 176, 176, 176, 176, 146, 146, 146, 146, 146, 99, 99, 99, 99, 99, 41, 41, 41, 41, 41, 2, 2, 2, 2, 2, 14, 14, 14, 14, 14, 69, 69, 69, 69, 69, 99, 99, 99, 99, 99, 35, 35, 35, 35, 35, 2, 2, 2, 2, 2, 20, 20, 20, 20, 20, 112, 112, 112, 112, 112, 169, 169, 169, 169, 169, 179, 179, 179, 179, 179, 95, 95, 95, 95, 95, 181, 181, 181, 181, 181, 77, 77, 77, 77, 77, 145, 145, 145, 145, 145, 134, 134, 134, 134, 134, 143, 143, 143, 143, 143, 15, 15, 15, 15, 15, 66, 66, 66, 66, 66, 143, 143, 143, 143, 143] as keyword args. From version 0.25 passing these as positional arguments will result in an error\n",
      "  args[-extra_args:])]\n"
     ]
    },
    {
     "name": "stdout",
     "output_type": "stream",
     "text": [
      "0.07329842931937172\n"
     ]
    },
    {
     "ename": "NameError",
     "evalue": "name 'khjlhglg' is not defined",
     "output_type": "error",
     "traceback": [
      "\u001b[0;31m---------------------------------------------------------------------------\u001b[0m",
      "\u001b[0;31mNameError\u001b[0m                                 Traceback (most recent call last)",
      "\u001b[0;32m<ipython-input-480-b853e8214f47>\u001b[0m in \u001b[0;36m<module>\u001b[0;34m\u001b[0m\n\u001b[1;32m     40\u001b[0m         \u001b[0mAcc_list\u001b[0m\u001b[0;34m.\u001b[0m\u001b[0mappend\u001b[0m\u001b[0;34m(\u001b[0m\u001b[0maccc\u001b[0m\u001b[0;34m)\u001b[0m\u001b[0;34m\u001b[0m\u001b[0;34m\u001b[0m\u001b[0m\n\u001b[1;32m     41\u001b[0m         \u001b[0macc_array_fullSet\u001b[0m\u001b[0;34m[\u001b[0m\u001b[0mi\u001b[0m\u001b[0;34m,\u001b[0m\u001b[0mn\u001b[0m\u001b[0;34m]\u001b[0m\u001b[0;34m=\u001b[0m\u001b[0maccc\u001b[0m\u001b[0;34m*\u001b[0m\u001b[0;36m100\u001b[0m\u001b[0;34m\u001b[0m\u001b[0;34m\u001b[0m\u001b[0m\n\u001b[0;32m---> 42\u001b[0;31m         \u001b[0mkhjlhglg\u001b[0m\u001b[0;34m\u001b[0m\u001b[0;34m\u001b[0m\u001b[0m\n\u001b[0m\u001b[1;32m     43\u001b[0m     \u001b[0mprint\u001b[0m\u001b[0;34m(\u001b[0m\u001b[0mAcc_list\u001b[0m\u001b[0;34m)\u001b[0m\u001b[0;34m\u001b[0m\u001b[0;34m\u001b[0m\u001b[0m\n\u001b[1;32m     44\u001b[0m     \u001b[0mprint\u001b[0m\u001b[0;34m(\u001b[0m\u001b[0;34m'Accuracy: '\u001b[0m\u001b[0;34m,\u001b[0m\u001b[0mr\u001b[0m\u001b[0;34m,\u001b[0m \u001b[0mnp\u001b[0m\u001b[0;34m.\u001b[0m\u001b[0mmean\u001b[0m\u001b[0;34m(\u001b[0m\u001b[0mAcc_list\u001b[0m\u001b[0;34m)\u001b[0m\u001b[0;34m*\u001b[0m\u001b[0;36m100\u001b[0m\u001b[0;34m)\u001b[0m\u001b[0;34m\u001b[0m\u001b[0;34m\u001b[0m\u001b[0m\n",
      "\u001b[0;31mNameError\u001b[0m: name 'khjlhglg' is not defined"
     ]
    }
   ],
   "source": [
    "Acc_all=[]\n",
    "Acc_all2=[]\n",
    "\n",
    "n_of_random_sel=10\n",
    "acc_array_fullSet=np.zeros((n_of_random_sel,3));        \n",
    "\n",
    "from sklearn.utils import class_weight\n",
    "for r in range(len(data4eval)): #range(1):#\n",
    "    print(r)\n",
    "    domXdata=data4eval[r][0];\n",
    "    domXfeats=data4eval[r][1]\n",
    "    \n",
    "    \n",
    "    filteredMOAs=domXdata[domXdata[pertColName].isin(IDs4filteredMOAs)].reset_index(drop=True)\n",
    "    filteredMOAs['Metadata_moa_num']=le.transform(filteredMOAs[moa_col].tolist())\n",
    "#     filteredMOAs['Compounds']=filteredMOAs['PERT'].str[0:13]\n",
    "    \n",
    "    Acc_list=[]\n",
    "    for i in range(n_of_random_sel):\n",
    "        test_index=filteredMOAs.groupby(['Metadata_moa_num']).sample(1).index.values\n",
    "        \n",
    "        unq_comp_test=filteredMOAs.loc[test_index,'Compounds'].unique().tolist()\n",
    "        comp_to_remove_from_train=filteredMOAs[filteredMOAs['Compounds'].isin(unq_comp_test)].index.values\n",
    "#         print(test_index[0:30])\n",
    "#         khhk\n",
    "        train_index=np.array(list(set(filteredMOAs.index.values)-set(test_index)-set(comp_to_remove_from_train)))\n",
    "\n",
    "        data_train = filteredMOAs.loc[train_index,domXfeats].values;\n",
    "        labels_train=filteredMOAs.loc[train_index,'Metadata_moa_num'].tolist()\n",
    "        \n",
    "        data_test = filteredMOAs.loc[test_index,domXfeats].values;\n",
    "        labels_test=filteredMOAs.loc[test_index,'Metadata_moa_num'].tolist()\n",
    "        \n",
    "        class_weightt = class_weight.compute_class_weight('balanced',np.unique(labels_train),labels_train)    \n",
    "#         model_tr = RandomForestClassifier(n_estimators=10,max_features=100,class_weight=\"balanced\")\n",
    "        model_tr = LogisticRegression(multi_class='multinomial',n_jobs=100,max_iter=1000,class_weight=class_weightt)\n",
    "        model_tr.fit(data_train,labels_train)\n",
    "        accc=model_tr.score(data_test,labels_test)\n",
    "        print(accc)        \n",
    "        Acc_list.append(accc)\n",
    "        acc_array_fullSet[i,n]=accc*100\n",
    "        khjlhglg\n",
    "    print(Acc_list)\n",
    "    print('Accuracy: ',r, np.mean(Acc_list)*100)   \n",
    "    \n",
    "    Acc_all2.append(Acc_list)\n",
    "    Acc_all.append(np.mean(Acc_list)*100)\n",
    "#     loocv = LeaveOneOut()\n",
    "#     model_loocv = LogisticRegression(multi_class='ovr',n_jobs=100,max_iter=1000)\n",
    "#     results_loocv = cross_val_score(model_loocv, data, labels, cv=loocv)\n",
    "#     print(\"Accuracy: %.2f%%\" % (results_loocv.mean()*100.0))"
   ]
  },
  {
   "cell_type": "code",
   "execution_count": 482,
   "metadata": {},
   "outputs": [
    {
     "data": {
      "text/plain": [
       "['Cytoplasm_Correlation_RWC_ER_RNA',\n",
       " 'Nuclei_Granularity_2_ER',\n",
       " 'Nuclei_Texture_InfoMeas1_DNA_20_0',\n",
       " 'Nuclei_Texture_InfoMeas1_RNA_20_0',\n",
       " 'Nuclei_Texture_InfoMeas2_DNA_20_0',\n",
       " 'Cytoplasm_Granularity_5_RNA',\n",
       " 'Nuclei_RadialDistribution_RadialCV_RNA_2of4',\n",
       " 'Cytoplasm_Correlation_Correlation_ER_AGP',\n",
       " 'Cells_Correlation_Overlap_Mito_AGP',\n",
       " 'Nuclei_AreaShape_Zernike_8_2',\n",
       " 'Cells_AreaShape_Zernike_8_4',\n",
       " 'Cytoplasm_AreaShape_Zernike_9_1',\n",
       " 'Cytoplasm_AreaShape_Zernike_9_3',\n",
       " 'Cytoplasm_Texture_InfoMeas1_AGP_20_0',\n",
       " 'Nuclei_AreaShape_Zernike_6_0',\n",
       " 'Cytoplasm_Correlation_K_DNA_AGP',\n",
       " 'Cells_AreaShape_Zernike_6_0',\n",
       " 'Cytoplasm_Correlation_Overlap_ER_AGP',\n",
       " 'Cytoplasm_RadialDistribution_MeanFrac_AGP_4of4',\n",
       " 'Cytoplasm_Granularity_6_ER',\n",
       " 'Nuclei_RadialDistribution_RadialCV_AGP_4of4',\n",
       " 'Cytoplasm_AreaShape_Zernike_4_2',\n",
       " 'Nuclei_AreaShape_Zernike_3_1',\n",
       " 'Cytoplasm_RadialDistribution_MeanFrac_ER_3of4',\n",
       " 'Nuclei_Granularity_7_DNA',\n",
       " 'Nuclei_Correlation_Correlation_Mito_ER',\n",
       " 'Cytoplasm_Texture_InfoMeas2_AGP_10_0',\n",
       " 'Cytoplasm_AreaShape_Zernike_6_0',\n",
       " 'Cytoplasm_AreaShape_Zernike_8_2',\n",
       " 'Cells_AreaShape_Zernike_7_1',\n",
       " 'Cytoplasm_Correlation_RWC_AGP_RNA',\n",
       " 'Cytoplasm_Intensity_MassDisplacement_DNA',\n",
       " 'Cells_Correlation_RWC_DNA_AGP',\n",
       " 'Nuclei_Correlation_K_AGP_RNA',\n",
       " 'Cells_Texture_InfoMeas2_DNA_20_0',\n",
       " 'Cytoplasm_AreaShape_Orientation',\n",
       " 'Cells_Granularity_2_RNA',\n",
       " 'Cells_AreaShape_Zernike_8_2',\n",
       " 'Cells_RadialDistribution_RadialCV_RNA_2of4',\n",
       " 'Nuclei_Granularity_3_RNA',\n",
       " 'Nuclei_AreaShape_Zernike_9_3',\n",
       " 'Cells_AreaShape_Zernike_5_1',\n",
       " 'Cells_AreaShape_Zernike_9_5',\n",
       " 'Cells_RadialDistribution_RadialCV_RNA_1of4',\n",
       " 'Nuclei_AreaShape_Zernike_7_1',\n",
       " 'Cytoplasm_Granularity_2_RNA',\n",
       " 'Nuclei_AreaShape_Zernike_6_6',\n",
       " 'Nuclei_Intensity_StdIntensityEdge_RNA',\n",
       " 'Cells_Correlation_Overlap_DNA_Mito',\n",
       " 'Nuclei_AreaShape_Zernike_0_0',\n",
       " 'Cells_RadialDistribution_RadialCV_ER_2of4',\n",
       " 'Nuclei_Texture_Gabor_Mito_10',\n",
       " 'Nuclei_AreaShape_Zernike_9_1',\n",
       " 'Nuclei_Granularity_6_DNA',\n",
       " 'Cells_RadialDistribution_RadialCV_AGP_3of4',\n",
       " 'Cytoplasm_Correlation_Overlap_DNA_Mito',\n",
       " 'Cells_RadialDistribution_RadialCV_ER_4of4',\n",
       " 'Nuclei_Texture_InverseDifferenceMoment_DNA_20_0',\n",
       " 'Cytoplasm_Correlation_Correlation_ER_RNA',\n",
       " 'Nuclei_AreaShape_Zernike_6_2',\n",
       " 'Cells_Texture_Gabor_AGP_5',\n",
       " 'Cells_Texture_InfoMeas2_ER_5_0',\n",
       " 'Cells_AreaShape_Zernike_9_1',\n",
       " 'Cells_Correlation_Correlation_DNA_AGP',\n",
       " 'Cells_AreaShape_Zernike_9_3',\n",
       " 'Cytoplasm_AreaShape_Zernike_9_5',\n",
       " 'Cells_AreaShape_Zernike_1_1',\n",
       " 'Nuclei_Texture_SumEntropy_DNA_10_0',\n",
       " 'Cells_AreaShape_Zernike_6_2',\n",
       " 'Cells_Texture_InfoMeas2_AGP_5_0',\n",
       " 'Cells_Granularity_4_ER',\n",
       " 'Cytoplasm_RadialDistribution_MeanFrac_Mito_3of4',\n",
       " 'Cells_Granularity_2_ER',\n",
       " 'Cytoplasm_RadialDistribution_RadialCV_AGP_3of4',\n",
       " 'Nuclei_Texture_InverseDifferenceMoment_Mito_5_0',\n",
       " 'Cells_AreaShape_Zernike_0_0',\n",
       " 'Cells_RadialDistribution_RadialCV_AGP_4of4',\n",
       " 'Cytoplasm_Correlation_Overlap_Mito_AGP',\n",
       " 'Cells_AreaShape_Zernike_8_0',\n",
       " 'Cells_AreaShape_Zernike_7_3',\n",
       " 'Nuclei_Texture_DifferenceVariance_Mito_10_0',\n",
       " 'Cytoplasm_AreaShape_Zernike_6_2',\n",
       " 'Cytoplasm_Correlation_Overlap_DNA_RNA',\n",
       " 'Nuclei_Granularity_2_RNA',\n",
       " 'Cytoplasm_AreaShape_Zernike_8_0',\n",
       " 'Nuclei_AreaShape_Zernike_8_0',\n",
       " 'Cells_AreaShape_Zernike_2_2',\n",
       " 'Cells_AreaShape_FormFactor',\n",
       " 'Nuclei_Texture_Correlation_AGP_10_0',\n",
       " 'Nuclei_Texture_InfoMeas1_AGP_20_0',\n",
       " 'Cytoplasm_Correlation_Overlap_RNA_AGP',\n",
       " 'Nuclei_AreaShape_Zernike_6_4',\n",
       " 'Nuclei_AreaShape_Zernike_2_0',\n",
       " 'Cytoplasm_AreaShape_Zernike_4_0',\n",
       " 'Nuclei_Granularity_8_DNA',\n",
       " 'Cells_Correlation_RWC_ER_RNA',\n",
       " 'Nuclei_Texture_InfoMeas2_RNA_20_0',\n",
       " 'Nuclei_Texture_Correlation_RNA_20_0',\n",
       " 'Cytoplasm_RadialDistribution_RadialCV_ER_1of4',\n",
       " 'Nuclei_Texture_Gabor_DNA_20',\n",
       " 'Nuclei_Texture_Correlation_AGP_20_0',\n",
       " 'Cytoplasm_Correlation_RWC_Mito_RNA',\n",
       " 'Cytoplasm_Intensity_MassDisplacement_AGP',\n",
       " 'Cells_RadialDistribution_RadialCV_ER_3of4',\n",
       " 'Cytoplasm_RadialDistribution_MeanFrac_RNA_4of4',\n",
       " 'Cytoplasm_AreaShape_Zernike_8_4',\n",
       " 'Nuclei_AreaShape_Zernike_4_2',\n",
       " 'Nuclei_Texture_InfoMeas1_ER_20_0',\n",
       " 'Cytoplasm_Granularity_2_ER',\n",
       " 'Nuclei_Texture_DifferenceVariance_DNA_5_0',\n",
       " 'Cytoplasm_AreaShape_Zernike_7_1',\n",
       " 'Nuclei_AreaShape_Orientation',\n",
       " 'Cytoplasm_AreaShape_Zernike_1_1',\n",
       " 'Cells_Correlation_RWC_AGP_RNA',\n",
       " 'Cytoplasm_Intensity_MADIntensity_ER',\n",
       " 'Cells_RadialDistribution_RadialCV_AGP_2of4',\n",
       " 'Nuclei_AreaShape_Zernike_4_4',\n",
       " 'Nuclei_Texture_DifferenceVariance_ER_20_0',\n",
       " 'Cytoplasm_AreaShape_Zernike_7_3']"
      ]
     },
     "execution_count": 482,
     "metadata": {},
     "output_type": "execute_result"
    }
   ],
   "source": [
    "domXfeats"
   ]
  },
  {
   "cell_type": "code",
   "execution_count": 446,
   "metadata": {},
   "outputs": [
    {
     "data": {
      "text/plain": [
       "[[0.06282722513089005,\n",
       "  0.06806282722513089,\n",
       "  0.05759162303664921,\n",
       "  0.03664921465968586,\n",
       "  0.05235602094240838,\n",
       "  0.06282722513089005,\n",
       "  0.041884816753926704,\n",
       "  0.03664921465968586,\n",
       "  0.04712041884816754,\n",
       "  0.07329842931937172],\n",
       " [0.05235602094240838,\n",
       "  0.05235602094240838,\n",
       "  0.03664921465968586,\n",
       "  0.041884816753926704,\n",
       "  0.05235602094240838,\n",
       "  0.03664921465968586,\n",
       "  0.041884816753926704,\n",
       "  0.05235602094240838,\n",
       "  0.05759162303664921,\n",
       "  0.04712041884816754],\n",
       " [0.05759162303664921,\n",
       "  0.07329842931937172,\n",
       "  0.05759162303664921,\n",
       "  0.08376963350785341,\n",
       "  0.05235602094240838,\n",
       "  0.06806282722513089,\n",
       "  0.05759162303664921,\n",
       "  0.06806282722513089,\n",
       "  0.05235602094240838,\n",
       "  0.07853403141361257]]"
      ]
     },
     "execution_count": 446,
     "metadata": {},
     "output_type": "execute_result"
    }
   ],
   "source": [
    "Acc_all2"
   ]
  },
  {
   "cell_type": "code",
   "execution_count": 171,
   "metadata": {},
   "outputs": [
    {
     "data": {
      "text/plain": [
       "[[0.27898550724637683,\n",
       "  0.29528985507246375,\n",
       "  0.30434782608695654,\n",
       "  0.28804347826086957,\n",
       "  0.26268115942028986,\n",
       "  0.2753623188405797,\n",
       "  0.2554347826086957,\n",
       "  0.27717391304347827,\n",
       "  0.25181159420289856,\n",
       "  0.266304347826087],\n",
       " [0.07608695652173914,\n",
       "  0.07971014492753623,\n",
       "  0.09420289855072464,\n",
       "  0.1068840579710145,\n",
       "  0.09963768115942029,\n",
       "  0.07789855072463768,\n",
       "  0.08514492753623189,\n",
       "  0.10507246376811594,\n",
       "  0.07971014492753623,\n",
       "  0.09239130434782608],\n",
       " [0.12387791741472172,\n",
       "  0.12746858168761221,\n",
       "  0.13285457809694792,\n",
       "  0.10771992818671454],\n",
       " [0.09156193895870736,\n",
       "  0.08797127468581688,\n",
       "  0.09694793536804308,\n",
       "  0.09694793536804308],\n",
       " [0.18850987432675045,\n",
       "  0.17773788150807898,\n",
       "  0.17055655296229802,\n",
       "  0.15080789946140036],\n",
       " [0.38011695906432746,\n",
       "  0.4093567251461988,\n",
       "  0.3391812865497076,\n",
       "  0.40350877192982454],\n",
       " [0.2807017543859649,\n",
       "  0.34502923976608185,\n",
       "  0.3157894736842105,\n",
       "  0.3333333333333333],\n",
       " [0.32748538011695905,\n",
       "  0.36257309941520466,\n",
       "  0.391812865497076,\n",
       "  0.3508771929824561]]"
      ]
     },
     "execution_count": 171,
     "metadata": {},
     "output_type": "execute_result"
    }
   ],
   "source": [
    "Acc_all3=Acc_all2.copy()\n",
    "Acc_all3"
   ]
  },
  {
   "cell_type": "code",
   "execution_count": null,
   "metadata": {},
   "outputs": [],
   "source": [
    "2\n",
    "[0.09156193895870736, 0.08797127468581688, 0.09694793536804308, 0.09694793536804308]\n",
    "Accuracy:  2 9.33572710951526"
   ]
  },
  {
   "cell_type": "code",
   "execution_count": 90,
   "metadata": {},
   "outputs": [
    {
     "data": {
      "text/plain": [
       "array([379, 379, 379, ...,  24,  24,  24])"
      ]
     },
     "execution_count": 90,
     "metadata": {},
     "output_type": "execute_result"
    }
   ],
   "source": [
    "# domXfeats['Metadata_moa']\n",
    "# domXdata['Metadata_moa'].tolist()\n",
    "model_tr.predict(data_test)\n",
    "# Acc_list"
   ]
  },
  {
   "cell_type": "code",
   "execution_count": 158,
   "metadata": {},
   "outputs": [
    {
     "data": {
      "text/plain": [
       "(557,)"
      ]
     },
     "execution_count": 158,
     "metadata": {},
     "output_type": "execute_result"
    }
   ],
   "source": [
    "class_weightt.shape"
   ]
  },
  {
   "cell_type": "code",
   "execution_count": 152,
   "metadata": {},
   "outputs": [
    {
     "data": {
      "text/plain": [
       "16"
      ]
     },
     "execution_count": 152,
     "metadata": {},
     "output_type": "execute_result"
    }
   ],
   "source": [
    "import multiprocessing\n",
    "\n",
    "multiprocessing.cpu_count()"
   ]
  },
  {
   "cell_type": "code",
   "execution_count": 149,
   "metadata": {},
   "outputs": [
    {
     "data": {
      "text/plain": [
       "[[0.27898550724637683,\n",
       "  0.29528985507246375,\n",
       "  0.30434782608695654,\n",
       "  0.28804347826086957,\n",
       "  0.26268115942028986,\n",
       "  0.2753623188405797,\n",
       "  0.2554347826086957,\n",
       "  0.27717391304347827,\n",
       "  0.25181159420289856,\n",
       "  0.266304347826087],\n",
       " [0.07608695652173914,\n",
       "  0.07971014492753623,\n",
       "  0.09420289855072464,\n",
       "  0.1068840579710145,\n",
       "  0.09963768115942029,\n",
       "  0.07789855072463768,\n",
       "  0.08514492753623189,\n",
       "  0.10507246376811594,\n",
       "  0.07971014492753623,\n",
       "  0.09239130434782608],\n",
       " [0.12387791741472172,\n",
       "  0.12746858168761221,\n",
       "  0.13285457809694792,\n",
       "  0.10771992818671454]]"
      ]
     },
     "execution_count": 149,
     "metadata": {},
     "output_type": "execute_result"
    }
   ],
   "source": [
    "Acc_all2"
   ]
  },
  {
   "cell_type": "code",
   "execution_count": 151,
   "metadata": {},
   "outputs": [
    {
     "data": {
      "text/plain": [
       "[27.554347826086957, 8.967391304347828, 12.29802513464991]"
      ]
     },
     "execution_count": 151,
     "metadata": {},
     "output_type": "execute_result"
    }
   ],
   "source": [
    "Acc_all"
   ]
  },
  {
   "cell_type": "code",
   "execution_count": null,
   "metadata": {},
   "outputs": [],
   "source": [
    "from sklearn.utils import class_weight\n",
    "class_weight = class_weight.compute_class_weight('balanced,\n",
    "                                                np.unique(target_Y),\n",
    "                                                target_Y)\n",
    "model = LogisticRegression(class_weight = class_weight)"
   ]
  },
  {
   "cell_type": "code",
   "execution_count": 66,
   "metadata": {},
   "outputs": [
    {
     "data": {
      "text/plain": [
       "['insulin sensitizer|PPAR receptor partial agonist',\n",
       " 'insulin sensitizer|PPAR receptor partial agonist',\n",
       " 'insulin sensitizer|PPAR receptor partial agonist',\n",
       " 'insulin sensitizer|PPAR receptor partial agonist',\n",
       " 'sterol demethylase inhibitor',\n",
       " 'sterol demethylase inhibitor',\n",
       " 'sterol demethylase inhibitor',\n",
       " 'sterol demethylase inhibitor',\n",
       " 'neprilysin inhibitor',\n",
       " 'neprilysin inhibitor',\n",
       " 'neprilysin inhibitor',\n",
       " 'neprilysin inhibitor',\n",
       " 'acetylcholine receptor antagonist',\n",
       " 'acetylcholine receptor antagonist',\n",
       " 'acetylcholine receptor antagonist',\n",
       " 'acetylcholine receptor antagonist',\n",
       " 'acetylcholine receptor antagonist',\n",
       " 'mineralocorticoid receptor antagonist',\n",
       " 'mineralocorticoid receptor antagonist',\n",
       " 'mineralocorticoid receptor antagonist',\n",
       " 'mineralocorticoid receptor antagonist',\n",
       " 'sodium channel blocker',\n",
       " 'sodium channel blocker',\n",
       " 'sodium channel blocker',\n",
       " 'sodium channel blocker',\n",
       " 'sodium channel blocker',\n",
       " 'adrenergic receptor antagonist',\n",
       " 'adrenergic receptor antagonist',\n",
       " 'adrenergic receptor antagonist',\n",
       " 'adrenergic receptor antagonist',\n",
       " 'adrenergic receptor antagonist',\n",
       " 'calcium channel blocker',\n",
       " 'calcium channel blocker',\n",
       " 'calcium channel blocker',\n",
       " 'calcium channel blocker',\n",
       " 'calcium channel blocker',\n",
       " 'estrogen receptor agonist|estrogenic hormone',\n",
       " 'estrogen receptor agonist|estrogenic hormone',\n",
       " 'estrogen receptor agonist|estrogenic hormone',\n",
       " 'estrogen receptor agonist|estrogenic hormone',\n",
       " 'adrenergic receptor agonist',\n",
       " 'adrenergic receptor agonist',\n",
       " 'adrenergic receptor agonist',\n",
       " 'adrenergic receptor agonist',\n",
       " 'adrenergic receptor agonist',\n",
       " 'dopamine receptor antagonist',\n",
       " 'dopamine receptor antagonist',\n",
       " 'dopamine receptor antagonist',\n",
       " 'dopamine receptor antagonist',\n",
       " 'dopamine receptor antagonist',\n",
       " 'potassium channel blocker|sodium channel blocker',\n",
       " 'potassium channel blocker|sodium channel blocker',\n",
       " 'potassium channel blocker|sodium channel blocker',\n",
       " 'potassium channel blocker|sodium channel blocker',\n",
       " 'potassium channel blocker|sodium channel blocker',\n",
       " 'estrogen receptor antagonist',\n",
       " 'estrogen receptor antagonist',\n",
       " 'estrogen receptor antagonist',\n",
       " 'estrogen receptor antagonist',\n",
       " 'HSP inhibitor',\n",
       " 'HSP inhibitor',\n",
       " 'HSP inhibitor',\n",
       " 'HSP inhibitor',\n",
       " 'adrenergic receptor antagonist',\n",
       " 'adrenergic receptor antagonist',\n",
       " 'adrenergic receptor antagonist',\n",
       " 'adrenergic receptor antagonist',\n",
       " 'adrenergic receptor antagonist',\n",
       " 'CC chemokine receptor antagonist',\n",
       " 'CC chemokine receptor antagonist',\n",
       " 'CC chemokine receptor antagonist',\n",
       " 'CC chemokine receptor antagonist',\n",
       " 'histamine receptor antagonist',\n",
       " 'histamine receptor antagonist',\n",
       " 'histamine receptor antagonist',\n",
       " 'histamine receptor antagonist',\n",
       " 'histamine receptor antagonist',\n",
       " 'dopamine reuptake inhibitor',\n",
       " 'dopamine reuptake inhibitor',\n",
       " 'dopamine reuptake inhibitor',\n",
       " 'dopamine reuptake inhibitor',\n",
       " 'interleukin receptor antagonist|STAT inhibitor',\n",
       " 'interleukin receptor antagonist|STAT inhibitor',\n",
       " 'interleukin receptor antagonist|STAT inhibitor',\n",
       " 'interleukin receptor antagonist|STAT inhibitor',\n",
       " 'L-type calcium channel blocker',\n",
       " 'L-type calcium channel blocker',\n",
       " 'L-type calcium channel blocker',\n",
       " 'L-type calcium channel blocker',\n",
       " 'L-type calcium channel blocker',\n",
       " 'mucolytic agent',\n",
       " 'mucolytic agent',\n",
       " 'mucolytic agent',\n",
       " 'mucolytic agent',\n",
       " 'tubulin polymerization inhibitor',\n",
       " 'tubulin polymerization inhibitor',\n",
       " 'tubulin polymerization inhibitor',\n",
       " 'tubulin polymerization inhibitor',\n",
       " 'pyruvate dehydrogenase inhibitor',\n",
       " 'pyruvate dehydrogenase inhibitor',\n",
       " 'pyruvate dehydrogenase inhibitor',\n",
       " 'pyruvate dehydrogenase inhibitor',\n",
       " 'bacterial 30S ribosomal subunit inhibitor',\n",
       " 'bacterial 30S ribosomal subunit inhibitor',\n",
       " 'bacterial 30S ribosomal subunit inhibitor',\n",
       " 'bacterial 30S ribosomal subunit inhibitor',\n",
       " 'adrenergic receptor antagonist',\n",
       " 'adrenergic receptor antagonist',\n",
       " 'adrenergic receptor antagonist',\n",
       " 'adrenergic receptor antagonist',\n",
       " 'adrenergic receptor antagonist',\n",
       " 'adrenergic receptor antagonist',\n",
       " 'adrenergic receptor antagonist',\n",
       " 'adrenergic receptor antagonist',\n",
       " 'adrenergic receptor antagonist',\n",
       " 'adrenergic receptor antagonist',\n",
       " 'adrenergic receptor antagonist',\n",
       " 'adrenergic receptor antagonist',\n",
       " 'adrenergic receptor antagonist',\n",
       " 'adrenergic receptor antagonist',\n",
       " 'dopamine receptor antagonist',\n",
       " 'dopamine receptor antagonist',\n",
       " 'dopamine receptor antagonist',\n",
       " 'dopamine receptor antagonist',\n",
       " 'GABA receptor antagonist|serotonin receptor antagonist',\n",
       " 'GABA receptor antagonist|serotonin receptor antagonist',\n",
       " 'GABA receptor antagonist|serotonin receptor antagonist',\n",
       " 'GABA receptor antagonist|serotonin receptor antagonist',\n",
       " 'GABA receptor antagonist|serotonin receptor antagonist',\n",
       " 'androgen receptor modulator',\n",
       " 'androgen receptor modulator',\n",
       " 'androgen receptor modulator',\n",
       " 'androgen receptor modulator',\n",
       " 'enkephalinase inhibitor',\n",
       " 'enkephalinase inhibitor',\n",
       " 'enkephalinase inhibitor',\n",
       " 'enkephalinase inhibitor',\n",
       " 'enkephalinase inhibitor',\n",
       " 'calpain inhibitor|cysteine protease inhibitor',\n",
       " 'calpain inhibitor|cysteine protease inhibitor',\n",
       " 'calpain inhibitor|cysteine protease inhibitor',\n",
       " 'calpain inhibitor|cysteine protease inhibitor',\n",
       " 'progesterone receptor agonist',\n",
       " 'progesterone receptor agonist',\n",
       " 'progesterone receptor agonist',\n",
       " 'progesterone receptor agonist',\n",
       " 'sodium channel blocker',\n",
       " 'sodium channel blocker',\n",
       " 'sodium channel blocker',\n",
       " 'sodium channel blocker',\n",
       " 'calcium channel blocker',\n",
       " 'calcium channel blocker',\n",
       " 'calcium channel blocker',\n",
       " 'calcium channel blocker',\n",
       " 'thrombin inhibitor',\n",
       " 'thrombin inhibitor',\n",
       " 'thrombin inhibitor',\n",
       " 'thrombin inhibitor',\n",
       " 'HIV protease inhibitor',\n",
       " 'HIV protease inhibitor',\n",
       " 'HIV protease inhibitor',\n",
       " 'HIV protease inhibitor',\n",
       " 'adrenergic receptor antagonist',\n",
       " 'adrenergic receptor antagonist',\n",
       " 'adrenergic receptor antagonist',\n",
       " 'adrenergic receptor antagonist',\n",
       " 'adrenergic receptor antagonist',\n",
       " 'adrenergic receptor antagonist',\n",
       " 'adrenergic receptor antagonist',\n",
       " 'adrenergic receptor antagonist',\n",
       " 'adrenergic receptor antagonist',\n",
       " 'adrenergic receptor antagonist',\n",
       " 'serotonin receptor antagonist',\n",
       " 'serotonin receptor antagonist',\n",
       " 'serotonin receptor antagonist',\n",
       " 'serotonin receptor antagonist',\n",
       " 'adrenergic receptor antagonist',\n",
       " 'adrenergic receptor antagonist',\n",
       " 'adrenergic receptor antagonist',\n",
       " 'adrenergic receptor antagonist',\n",
       " 'adrenergic receptor antagonist',\n",
       " 'glucocorticoid receptor agonist',\n",
       " 'glucocorticoid receptor agonist',\n",
       " 'glucocorticoid receptor agonist',\n",
       " 'glucocorticoid receptor agonist',\n",
       " 'bacterial cell wall synthesis inhibitor',\n",
       " 'bacterial cell wall synthesis inhibitor',\n",
       " 'bacterial cell wall synthesis inhibitor',\n",
       " 'bacterial cell wall synthesis inhibitor',\n",
       " 'MDM inhibitor',\n",
       " 'MDM inhibitor',\n",
       " 'MDM inhibitor',\n",
       " 'MDM inhibitor',\n",
       " 'nitric oxide stimulant',\n",
       " 'nitric oxide stimulant',\n",
       " 'nitric oxide stimulant',\n",
       " 'nitric oxide stimulant',\n",
       " 'serotonin receptor agonist',\n",
       " 'serotonin receptor agonist',\n",
       " 'serotonin receptor agonist',\n",
       " 'serotonin receptor agonist',\n",
       " 'angiogenesis inhibitor|tumor necrosis factor production inhibitor',\n",
       " 'angiogenesis inhibitor|tumor necrosis factor production inhibitor',\n",
       " 'angiogenesis inhibitor|tumor necrosis factor production inhibitor',\n",
       " 'angiogenesis inhibitor|tumor necrosis factor production inhibitor',\n",
       " 'insulin sensitizer|PPAR receptor agonist',\n",
       " 'insulin sensitizer|PPAR receptor agonist',\n",
       " 'insulin sensitizer|PPAR receptor agonist',\n",
       " 'insulin sensitizer|PPAR receptor agonist',\n",
       " 'glucocorticoid receptor agonist',\n",
       " 'glucocorticoid receptor agonist',\n",
       " 'glucocorticoid receptor agonist',\n",
       " 'glucocorticoid receptor agonist',\n",
       " 'glucocorticoid receptor agonist',\n",
       " 'adrenergic receptor antagonist',\n",
       " 'adrenergic receptor antagonist',\n",
       " 'adrenergic receptor antagonist',\n",
       " 'adrenergic receptor antagonist',\n",
       " 'adrenergic receptor antagonist',\n",
       " 'adrenergic inhibitor',\n",
       " 'adrenergic inhibitor',\n",
       " 'adrenergic inhibitor',\n",
       " 'adrenergic inhibitor',\n",
       " 'estrogen receptor agonist',\n",
       " 'estrogen receptor agonist',\n",
       " 'estrogen receptor agonist',\n",
       " 'estrogen receptor agonist',\n",
       " 'estrogen receptor agonist|glucocorticoid receptor antagonist|progesterone receptor agonist|progesterone receptor antagonist',\n",
       " 'estrogen receptor agonist|glucocorticoid receptor antagonist|progesterone receptor agonist|progesterone receptor antagonist',\n",
       " 'estrogen receptor agonist|glucocorticoid receptor antagonist|progesterone receptor agonist|progesterone receptor antagonist',\n",
       " 'estrogen receptor agonist|glucocorticoid receptor antagonist|progesterone receptor agonist|progesterone receptor antagonist',\n",
       " 'MRP inhibitor|P glycoprotein inhibitor',\n",
       " 'MRP inhibitor|P glycoprotein inhibitor',\n",
       " 'MRP inhibitor|P glycoprotein inhibitor',\n",
       " 'MRP inhibitor|P glycoprotein inhibitor',\n",
       " 'serotonin receptor antagonist',\n",
       " 'serotonin receptor antagonist',\n",
       " 'serotonin receptor antagonist',\n",
       " 'serotonin receptor antagonist',\n",
       " 'serotonin receptor antagonist',\n",
       " 'serotoninâ\\x80\\x93norepinephrine reuptake inhibitor (SNRI)',\n",
       " 'serotoninâ\\x80\\x93norepinephrine reuptake inhibitor (SNRI)',\n",
       " 'serotoninâ\\x80\\x93norepinephrine reuptake inhibitor (SNRI)',\n",
       " 'serotoninâ\\x80\\x93norepinephrine reuptake inhibitor (SNRI)',\n",
       " 'glucocorticoid receptor agonist',\n",
       " 'glucocorticoid receptor agonist',\n",
       " 'glucocorticoid receptor agonist',\n",
       " 'glucocorticoid receptor agonist',\n",
       " 'glucocorticoid receptor agonist',\n",
       " 'sigma receptor antagonist',\n",
       " 'sigma receptor antagonist',\n",
       " 'sigma receptor antagonist',\n",
       " 'sigma receptor antagonist',\n",
       " 'free radical scavenger',\n",
       " 'free radical scavenger',\n",
       " 'free radical scavenger',\n",
       " 'free radical scavenger',\n",
       " 'adenosine receptor agonist|cAMP stimulant',\n",
       " 'adenosine receptor agonist|cAMP stimulant',\n",
       " 'adenosine receptor agonist|cAMP stimulant',\n",
       " 'adenosine receptor agonist|cAMP stimulant',\n",
       " 'cyclooxygenase inhibitor|platelet aggregation inhibitor',\n",
       " 'cyclooxygenase inhibitor|platelet aggregation inhibitor',\n",
       " 'cyclooxygenase inhibitor|platelet aggregation inhibitor',\n",
       " 'cyclooxygenase inhibitor|platelet aggregation inhibitor',\n",
       " 'cyclooxygenase inhibitor|platelet aggregation inhibitor',\n",
       " 'reducing agent',\n",
       " 'reducing agent',\n",
       " 'reducing agent',\n",
       " 'reducing agent',\n",
       " 'bacterial cell wall synthesis inhibitor',\n",
       " 'bacterial cell wall synthesis inhibitor',\n",
       " 'bacterial cell wall synthesis inhibitor',\n",
       " 'bacterial cell wall synthesis inhibitor',\n",
       " 'bacterial cell wall synthesis inhibitor',\n",
       " 'thyrotropin releasing hormone receptor agonist',\n",
       " 'thyrotropin releasing hormone receptor agonist',\n",
       " 'thyrotropin releasing hormone receptor agonist',\n",
       " 'thyrotropin releasing hormone receptor agonist',\n",
       " 'cyclooxygenase inhibitor',\n",
       " 'cyclooxygenase inhibitor',\n",
       " 'cyclooxygenase inhibitor',\n",
       " 'cyclooxygenase inhibitor',\n",
       " 'cyclooxygenase inhibitor',\n",
       " 'adrenergic receptor agonist',\n",
       " 'adrenergic receptor agonist',\n",
       " 'adrenergic receptor agonist',\n",
       " 'adrenergic receptor agonist',\n",
       " 'cyclooxygenase inhibitor',\n",
       " 'cyclooxygenase inhibitor',\n",
       " 'cyclooxygenase inhibitor',\n",
       " 'cyclooxygenase inhibitor',\n",
       " 'anticancer agent',\n",
       " 'anticancer agent',\n",
       " 'anticancer agent',\n",
       " 'anticancer agent',\n",
       " 'succinimide antiepileptic',\n",
       " 'succinimide antiepileptic',\n",
       " 'succinimide antiepileptic',\n",
       " 'succinimide antiepileptic',\n",
       " 'succinimide antiepileptic',\n",
       " 'beta lactamase inhibitor',\n",
       " 'beta lactamase inhibitor',\n",
       " 'beta lactamase inhibitor',\n",
       " 'beta lactamase inhibitor',\n",
       " 'estrogen receptor agonist',\n",
       " 'estrogen receptor agonist',\n",
       " 'estrogen receptor agonist',\n",
       " 'estrogen receptor agonist',\n",
       " 'estrogen receptor agonist',\n",
       " 'norepinephrine reputake inhibitor|tricyclic antidepressant',\n",
       " 'norepinephrine reputake inhibitor|tricyclic antidepressant',\n",
       " 'norepinephrine reputake inhibitor|tricyclic antidepressant',\n",
       " 'norepinephrine reputake inhibitor|tricyclic antidepressant',\n",
       " 'carnitine palmitoyltransferase inhibitor',\n",
       " 'carnitine palmitoyltransferase inhibitor',\n",
       " 'carnitine palmitoyltransferase inhibitor',\n",
       " 'carnitine palmitoyltransferase inhibitor',\n",
       " 'serotonin receptor antagonist',\n",
       " 'serotonin receptor antagonist',\n",
       " 'serotonin receptor antagonist',\n",
       " 'serotonin receptor antagonist',\n",
       " 'serotonin receptor antagonist',\n",
       " 'serotonin receptor antagonist',\n",
       " 'serotonin receptor antagonist',\n",
       " 'serotonin receptor antagonist',\n",
       " 'serotonin receptor antagonist',\n",
       " 'serotonin receptor antagonist',\n",
       " 'acetylcholine receptor antagonist',\n",
       " 'acetylcholine receptor antagonist',\n",
       " 'acetylcholine receptor antagonist',\n",
       " 'acetylcholine receptor antagonist',\n",
       " 'glucocorticoid receptor agonist',\n",
       " 'glucocorticoid receptor agonist',\n",
       " 'glucocorticoid receptor agonist',\n",
       " 'glucocorticoid receptor agonist',\n",
       " 'glucocorticoid receptor agonist',\n",
       " 'adrenergic receptor antagonist',\n",
       " 'adrenergic receptor antagonist',\n",
       " 'adrenergic receptor antagonist',\n",
       " 'adrenergic receptor antagonist',\n",
       " 'adrenergic receptor antagonist',\n",
       " 'GABA receptor modulator',\n",
       " 'GABA receptor modulator',\n",
       " 'GABA receptor modulator',\n",
       " 'GABA receptor modulator',\n",
       " 'calcium channel blocker',\n",
       " 'calcium channel blocker',\n",
       " 'calcium channel blocker',\n",
       " 'calcium channel blocker',\n",
       " 'calcium channel blocker',\n",
       " 'antihistamine',\n",
       " 'antihistamine',\n",
       " 'antihistamine',\n",
       " 'antihistamine',\n",
       " 'bacterial DNA gyrase inhibitor',\n",
       " 'bacterial DNA gyrase inhibitor',\n",
       " 'bacterial DNA gyrase inhibitor',\n",
       " 'bacterial DNA gyrase inhibitor',\n",
       " 'glucocorticoid receptor antagonist',\n",
       " 'glucocorticoid receptor antagonist',\n",
       " 'glucocorticoid receptor antagonist',\n",
       " 'glucocorticoid receptor antagonist',\n",
       " 'aromatase inhibitor',\n",
       " 'aromatase inhibitor',\n",
       " 'aromatase inhibitor',\n",
       " 'aromatase inhibitor',\n",
       " 'calmodulin antagonist',\n",
       " 'calmodulin antagonist',\n",
       " 'calmodulin antagonist',\n",
       " 'calmodulin antagonist',\n",
       " 'glucocorticoid receptor agonist',\n",
       " 'glucocorticoid receptor agonist',\n",
       " 'glucocorticoid receptor agonist',\n",
       " 'glucocorticoid receptor agonist',\n",
       " 'glucocorticoid receptor agonist',\n",
       " 'antiarrhythmic',\n",
       " 'antiarrhythmic',\n",
       " 'antiarrhythmic',\n",
       " 'antiarrhythmic',\n",
       " 'carbonic anhydrase inhibitor',\n",
       " 'carbonic anhydrase inhibitor',\n",
       " 'carbonic anhydrase inhibitor',\n",
       " 'carbonic anhydrase inhibitor',\n",
       " 'bacterial DNA gyrase inhibitor',\n",
       " 'bacterial DNA gyrase inhibitor',\n",
       " 'bacterial DNA gyrase inhibitor',\n",
       " 'bacterial DNA gyrase inhibitor',\n",
       " 'bacterial DNA gyrase inhibitor',\n",
       " 'aromatase inhibitor',\n",
       " 'aromatase inhibitor',\n",
       " 'aromatase inhibitor',\n",
       " 'aromatase inhibitor',\n",
       " 'aromatase inhibitor',\n",
       " 'HIV protease inhibitor',\n",
       " 'HIV protease inhibitor',\n",
       " 'HIV protease inhibitor',\n",
       " 'HIV protease inhibitor',\n",
       " 'HIV protease inhibitor',\n",
       " 'calcium channel blocker',\n",
       " 'calcium channel blocker',\n",
       " 'calcium channel blocker',\n",
       " 'calcium channel blocker',\n",
       " 'calcium channel blocker',\n",
       " 'FLT3 inhibitor|growth factor receptor inhibitor|JAK inhibitor',\n",
       " 'FLT3 inhibitor|growth factor receptor inhibitor|JAK inhibitor',\n",
       " 'FLT3 inhibitor|growth factor receptor inhibitor|JAK inhibitor',\n",
       " 'FLT3 inhibitor|growth factor receptor inhibitor|JAK inhibitor',\n",
       " 'FLT3 inhibitor|growth factor receptor inhibitor|JAK inhibitor',\n",
       " 'voltage-gated sodium channel blocker',\n",
       " 'voltage-gated sodium channel blocker',\n",
       " 'voltage-gated sodium channel blocker',\n",
       " 'voltage-gated sodium channel blocker',\n",
       " 'mTOR inhibitor|PI3K inhibitor',\n",
       " 'mTOR inhibitor|PI3K inhibitor',\n",
       " 'mTOR inhibitor|PI3K inhibitor',\n",
       " 'mTOR inhibitor|PI3K inhibitor',\n",
       " 'monoamine oxidase inhibitor',\n",
       " 'monoamine oxidase inhibitor',\n",
       " 'monoamine oxidase inhibitor',\n",
       " 'monoamine oxidase inhibitor',\n",
       " 'tubulin polymerization inhibitor',\n",
       " 'tubulin polymerization inhibitor',\n",
       " 'tubulin polymerization inhibitor',\n",
       " 'tubulin polymerization inhibitor',\n",
       " 'tubulin polymerization inhibitor',\n",
       " 'neurotrophic agent',\n",
       " 'neurotrophic agent',\n",
       " 'neurotrophic agent',\n",
       " 'neurotrophic agent',\n",
       " 'adrenergic receptor antagonist',\n",
       " 'adrenergic receptor antagonist',\n",
       " 'adrenergic receptor antagonist',\n",
       " 'adrenergic receptor antagonist',\n",
       " 'adrenergic receptor antagonist',\n",
       " 'platelet activating factor receptor antagonist',\n",
       " 'platelet activating factor receptor antagonist',\n",
       " 'platelet activating factor receptor antagonist',\n",
       " 'platelet activating factor receptor antagonist',\n",
       " 'mineralocorticoid receptor antagonist',\n",
       " 'mineralocorticoid receptor antagonist',\n",
       " 'mineralocorticoid receptor antagonist',\n",
       " 'mineralocorticoid receptor antagonist',\n",
       " 'mineralocorticoid receptor antagonist',\n",
       " 'androgen receptor antagonist',\n",
       " 'androgen receptor antagonist',\n",
       " 'androgen receptor antagonist',\n",
       " 'androgen receptor antagonist',\n",
       " 'cholesterol inhibitor',\n",
       " 'cholesterol inhibitor',\n",
       " 'cholesterol inhibitor',\n",
       " 'cholesterol inhibitor',\n",
       " 'lipid peroxidase inhibitor',\n",
       " 'lipid peroxidase inhibitor',\n",
       " 'lipid peroxidase inhibitor',\n",
       " 'lipid peroxidase inhibitor',\n",
       " 'lipid peroxidase inhibitor',\n",
       " 'progesterone receptor agonist',\n",
       " 'progesterone receptor agonist',\n",
       " 'progesterone receptor agonist',\n",
       " 'progesterone receptor agonist',\n",
       " 'progesterone receptor agonist',\n",
       " 'sodium channel blocker',\n",
       " 'sodium channel blocker',\n",
       " 'sodium channel blocker',\n",
       " 'sodium channel blocker',\n",
       " 'sodium channel blocker',\n",
       " 'acetylcholine receptor agonist',\n",
       " 'acetylcholine receptor agonist',\n",
       " 'acetylcholine receptor agonist',\n",
       " 'acetylcholine receptor agonist',\n",
       " 'CCK receptor antagonist',\n",
       " 'CCK receptor antagonist',\n",
       " 'CCK receptor antagonist',\n",
       " 'CCK receptor antagonist',\n",
       " 'bacterial 30S ribosomal subunit inhibitor',\n",
       " 'bacterial 30S ribosomal subunit inhibitor',\n",
       " 'bacterial 30S ribosomal subunit inhibitor',\n",
       " 'bacterial 30S ribosomal subunit inhibitor',\n",
       " 'bacterial 30S ribosomal subunit inhibitor',\n",
       " 'calcium channel blocker',\n",
       " 'calcium channel blocker',\n",
       " 'calcium channel blocker',\n",
       " 'calcium channel blocker',\n",
       " 'calcium channel blocker',\n",
       " \"Bruton's tyrosine kinase (BTK) inhibitor\",\n",
       " \"Bruton's tyrosine kinase (BTK) inhibitor\",\n",
       " \"Bruton's tyrosine kinase (BTK) inhibitor\",\n",
       " \"Bruton's tyrosine kinase (BTK) inhibitor\",\n",
       " 'vasopressin receptor antagonist',\n",
       " 'vasopressin receptor antagonist',\n",
       " 'vasopressin receptor antagonist',\n",
       " 'vasopressin receptor antagonist',\n",
       " 'selective serotonin reuptake inhibitor (SSRI)',\n",
       " 'selective serotonin reuptake inhibitor (SSRI)',\n",
       " 'selective serotonin reuptake inhibitor (SSRI)',\n",
       " 'selective serotonin reuptake inhibitor (SSRI)',\n",
       " 'muscle relaxant',\n",
       " 'muscle relaxant',\n",
       " 'muscle relaxant',\n",
       " 'muscle relaxant',\n",
       " 'muscle relaxant',\n",
       " 'membrane integrity inhibitor',\n",
       " 'membrane integrity inhibitor',\n",
       " 'membrane integrity inhibitor',\n",
       " 'membrane integrity inhibitor',\n",
       " 'angiotensin converting enzyme inhibitor',\n",
       " 'angiotensin converting enzyme inhibitor',\n",
       " 'angiotensin converting enzyme inhibitor',\n",
       " 'angiotensin converting enzyme inhibitor',\n",
       " 'tumor necrosis factor receptor antagonist',\n",
       " 'tumor necrosis factor receptor antagonist',\n",
       " 'tumor necrosis factor receptor antagonist',\n",
       " 'tumor necrosis factor receptor antagonist',\n",
       " 'sterol demethylase inhibitor',\n",
       " 'sterol demethylase inhibitor',\n",
       " 'sterol demethylase inhibitor',\n",
       " 'sterol demethylase inhibitor',\n",
       " 'sterol demethylase inhibitor',\n",
       " 'adrenergic receptor antagonist',\n",
       " 'adrenergic receptor antagonist',\n",
       " 'adrenergic receptor antagonist',\n",
       " 'adrenergic receptor antagonist',\n",
       " 'adrenergic receptor antagonist',\n",
       " 'topoisomerase inhibitor',\n",
       " 'topoisomerase inhibitor',\n",
       " 'topoisomerase inhibitor',\n",
       " 'topoisomerase inhibitor',\n",
       " 'anthelmintic agent',\n",
       " 'anthelmintic agent',\n",
       " 'anthelmintic agent',\n",
       " 'anthelmintic agent',\n",
       " 'nucleoside reverse transcriptase inhibitor',\n",
       " 'nucleoside reverse transcriptase inhibitor',\n",
       " 'nucleoside reverse transcriptase inhibitor',\n",
       " 'nucleoside reverse transcriptase inhibitor',\n",
       " 'bacterial cell wall synthesis inhibitor',\n",
       " 'bacterial cell wall synthesis inhibitor',\n",
       " 'bacterial cell wall synthesis inhibitor',\n",
       " 'bacterial cell wall synthesis inhibitor',\n",
       " 'bacterial cell wall synthesis inhibitor',\n",
       " 'acetylcholine receptor antagonist',\n",
       " 'acetylcholine receptor antagonist',\n",
       " 'acetylcholine receptor antagonist',\n",
       " 'acetylcholine receptor antagonist',\n",
       " 'acetylcholine receptor antagonist',\n",
       " 'cyclooxygenase inhibitor',\n",
       " 'cyclooxygenase inhibitor',\n",
       " 'cyclooxygenase inhibitor',\n",
       " 'cyclooxygenase inhibitor',\n",
       " 'cyclooxygenase inhibitor',\n",
       " 'phosphodiesterase inhibitor',\n",
       " 'phosphodiesterase inhibitor',\n",
       " 'phosphodiesterase inhibitor',\n",
       " 'phosphodiesterase inhibitor',\n",
       " 'phosphodiesterase inhibitor',\n",
       " 'laxative',\n",
       " 'laxative',\n",
       " 'laxative',\n",
       " 'laxative',\n",
       " 'laxative',\n",
       " 'protein synthesis inhibitor',\n",
       " 'protein synthesis inhibitor',\n",
       " 'protein synthesis inhibitor',\n",
       " 'protein synthesis inhibitor',\n",
       " 'proteasome inhibitor',\n",
       " 'proteasome inhibitor',\n",
       " 'proteasome inhibitor',\n",
       " 'proteasome inhibitor',\n",
       " 'glucocorticoid receptor agonist',\n",
       " 'glucocorticoid receptor agonist',\n",
       " 'glucocorticoid receptor agonist',\n",
       " 'glucocorticoid receptor agonist',\n",
       " 'glucocorticoid receptor agonist',\n",
       " 'estrogen receptor agonist|estrogenic hormone',\n",
       " 'estrogen receptor agonist|estrogenic hormone',\n",
       " 'estrogen receptor agonist|estrogenic hormone',\n",
       " 'estrogen receptor agonist|estrogenic hormone',\n",
       " 'estrogen receptor agonist|estrogenic hormone',\n",
       " 'immunostimulant',\n",
       " 'immunostimulant',\n",
       " 'immunostimulant',\n",
       " 'immunostimulant',\n",
       " 'sterol demethylase inhibitor',\n",
       " 'sterol demethylase inhibitor',\n",
       " 'sterol demethylase inhibitor',\n",
       " 'sterol demethylase inhibitor',\n",
       " 'sterol demethylase inhibitor',\n",
       " 'antioxidant',\n",
       " 'antioxidant',\n",
       " 'antioxidant',\n",
       " 'antioxidant',\n",
       " 'ATPase inhibitor|gastrin inhibitor',\n",
       " 'ATPase inhibitor|gastrin inhibitor',\n",
       " 'ATPase inhibitor|gastrin inhibitor',\n",
       " 'ATPase inhibitor|gastrin inhibitor',\n",
       " 'ATPase inhibitor|gastrin inhibitor',\n",
       " 'progesterone receptor agonist',\n",
       " 'progesterone receptor agonist',\n",
       " 'progesterone receptor agonist',\n",
       " 'progesterone receptor agonist',\n",
       " 'progesterone receptor agonist',\n",
       " 'DNA inhibitor',\n",
       " 'DNA inhibitor',\n",
       " 'DNA inhibitor',\n",
       " 'DNA inhibitor',\n",
       " 'adrenergic receptor agonist',\n",
       " 'adrenergic receptor agonist',\n",
       " 'adrenergic receptor agonist',\n",
       " 'adrenergic receptor agonist',\n",
       " 'adrenergic receptor agonist',\n",
       " 'cyclooxygenase inhibitor',\n",
       " 'cyclooxygenase inhibitor',\n",
       " 'cyclooxygenase inhibitor',\n",
       " 'cyclooxygenase inhibitor',\n",
       " 'cyclooxygenase inhibitor',\n",
       " 'bacterial DNA gyrase inhibitor',\n",
       " 'bacterial DNA gyrase inhibitor',\n",
       " 'bacterial DNA gyrase inhibitor',\n",
       " 'bacterial DNA gyrase inhibitor',\n",
       " 'bacterial DNA gyrase inhibitor',\n",
       " 'benzodiazepine receptor antagonist',\n",
       " 'benzodiazepine receptor antagonist',\n",
       " 'benzodiazepine receptor antagonist',\n",
       " 'benzodiazepine receptor antagonist',\n",
       " 'cyclooxygenase inhibitor|prostanoid receptor antagonist',\n",
       " 'cyclooxygenase inhibitor|prostanoid receptor antagonist',\n",
       " 'cyclooxygenase inhibitor|prostanoid receptor antagonist',\n",
       " 'cyclooxygenase inhibitor|prostanoid receptor antagonist',\n",
       " 'ATP channel activator|potassium channel activator',\n",
       " 'ATP channel activator|potassium channel activator',\n",
       " 'ATP channel activator|potassium channel activator',\n",
       " 'ATP channel activator|potassium channel activator',\n",
       " 'cyclooxygenase inhibitor|prostanoid receptor antagonist',\n",
       " 'cyclooxygenase inhibitor|prostanoid receptor antagonist',\n",
       " 'cyclooxygenase inhibitor|prostanoid receptor antagonist',\n",
       " 'cyclooxygenase inhibitor|prostanoid receptor antagonist',\n",
       " 'cyclooxygenase inhibitor|prostanoid receptor antagonist',\n",
       " 'CCK receptor antagonist',\n",
       " 'CCK receptor antagonist',\n",
       " 'CCK receptor antagonist',\n",
       " 'CCK receptor antagonist',\n",
       " 'CCK receptor antagonist',\n",
       " 'prostanoid receptor agonist',\n",
       " 'prostanoid receptor agonist',\n",
       " 'prostanoid receptor agonist',\n",
       " 'prostanoid receptor agonist',\n",
       " 'cytokine production inhibitor|NFkB pathway inhibitor|TP53 activator',\n",
       " 'cytokine production inhibitor|NFkB pathway inhibitor|TP53 activator',\n",
       " 'cytokine production inhibitor|NFkB pathway inhibitor|TP53 activator',\n",
       " 'cytokine production inhibitor|NFkB pathway inhibitor|TP53 activator',\n",
       " 'cytokine production inhibitor|NFkB pathway inhibitor|TP53 activator',\n",
       " 'potassium channel blocker',\n",
       " 'potassium channel blocker',\n",
       " 'potassium channel blocker',\n",
       " 'potassium channel blocker',\n",
       " 'sigma receptor agonist',\n",
       " 'sigma receptor agonist',\n",
       " 'sigma receptor agonist',\n",
       " 'sigma receptor agonist',\n",
       " 'selective serotonin reuptake inhibitor (SSRI)',\n",
       " 'selective serotonin reuptake inhibitor (SSRI)',\n",
       " 'selective serotonin reuptake inhibitor (SSRI)',\n",
       " 'selective serotonin reuptake inhibitor (SSRI)',\n",
       " 'selective serotonin reuptake inhibitor (SSRI)',\n",
       " 'DNA alkylating agent|DNA synthesis inhibitor',\n",
       " 'DNA alkylating agent|DNA synthesis inhibitor',\n",
       " 'DNA alkylating agent|DNA synthesis inhibitor',\n",
       " 'DNA alkylating agent|DNA synthesis inhibitor',\n",
       " 'insulin sensitizer|PPAR receptor agonist',\n",
       " 'insulin sensitizer|PPAR receptor agonist',\n",
       " 'insulin sensitizer|PPAR receptor agonist',\n",
       " 'insulin sensitizer|PPAR receptor agonist',\n",
       " 'insulin sensitizer|PPAR receptor agonist',\n",
       " 'benzodiazepine receptor agonist',\n",
       " 'benzodiazepine receptor agonist',\n",
       " 'benzodiazepine receptor agonist',\n",
       " 'benzodiazepine receptor agonist',\n",
       " 'acetylcholinesterase inhibitor',\n",
       " 'acetylcholinesterase inhibitor',\n",
       " 'acetylcholinesterase inhibitor',\n",
       " 'acetylcholinesterase inhibitor',\n",
       " 'vasopressin receptor agonist',\n",
       " 'vasopressin receptor agonist',\n",
       " 'vasopressin receptor agonist',\n",
       " 'vasopressin receptor agonist',\n",
       " 'lactamase inhibitor',\n",
       " 'lactamase inhibitor',\n",
       " 'lactamase inhibitor',\n",
       " 'lactamase inhibitor',\n",
       " 'lactamase inhibitor',\n",
       " 'glucocorticoid receptor agonist',\n",
       " 'glucocorticoid receptor agonist',\n",
       " 'glucocorticoid receptor agonist',\n",
       " 'glucocorticoid receptor agonist',\n",
       " 'glucocorticoid receptor agonist',\n",
       " 'coagulation factor inhibitor',\n",
       " 'coagulation factor inhibitor',\n",
       " 'coagulation factor inhibitor',\n",
       " 'coagulation factor inhibitor',\n",
       " 'constitutive androstane receptor (CAR) agonist',\n",
       " 'constitutive androstane receptor (CAR) agonist',\n",
       " 'constitutive androstane receptor (CAR) agonist',\n",
       " 'constitutive androstane receptor (CAR) agonist',\n",
       " 'constitutive androstane receptor (CAR) agonist',\n",
       " 'chloride channel blocker|GABA gated chloride channel blocker',\n",
       " 'chloride channel blocker|GABA gated chloride channel blocker',\n",
       " 'chloride channel blocker|GABA gated chloride channel blocker',\n",
       " 'chloride channel blocker|GABA gated chloride channel blocker',\n",
       " 'serotonin receptor antagonist',\n",
       " 'serotonin receptor antagonist',\n",
       " 'serotonin receptor antagonist',\n",
       " 'serotonin receptor antagonist',\n",
       " 'serotonin receptor antagonist',\n",
       " 'AKT inhibitor|mTOR inhibitor',\n",
       " 'AKT inhibitor|mTOR inhibitor',\n",
       " 'AKT inhibitor|mTOR inhibitor',\n",
       " 'AKT inhibitor|mTOR inhibitor',\n",
       " 'AKT inhibitor|mTOR inhibitor',\n",
       " 'dopamine reuptake inhibitor',\n",
       " 'dopamine reuptake inhibitor',\n",
       " 'dopamine reuptake inhibitor',\n",
       " 'dopamine reuptake inhibitor',\n",
       " 'dopamine reuptake inhibitor',\n",
       " 'adrenergic inhibitor|norepinephrine reuptake inhibitor|serotoninâ\\x80\\x93norepinephrine reuptake inhibitor (SNRI)',\n",
       " 'adrenergic inhibitor|norepinephrine reuptake inhibitor|serotoninâ\\x80\\x93norepinephrine reuptake inhibitor (SNRI)',\n",
       " 'adrenergic inhibitor|norepinephrine reuptake inhibitor|serotoninâ\\x80\\x93norepinephrine reuptake inhibitor (SNRI)',\n",
       " 'adrenergic inhibitor|norepinephrine reuptake inhibitor|serotoninâ\\x80\\x93norepinephrine reuptake inhibitor (SNRI)',\n",
       " 'lanosterol demethylase inhibitor|sterol demethylase inhibitor',\n",
       " 'lanosterol demethylase inhibitor|sterol demethylase inhibitor',\n",
       " 'lanosterol demethylase inhibitor|sterol demethylase inhibitor',\n",
       " 'lanosterol demethylase inhibitor|sterol demethylase inhibitor',\n",
       " 'lanosterol demethylase inhibitor|sterol demethylase inhibitor',\n",
       " 'protein synthesis inhibitor',\n",
       " 'protein synthesis inhibitor',\n",
       " 'protein synthesis inhibitor',\n",
       " 'protein synthesis inhibitor',\n",
       " 'protein synthesis inhibitor',\n",
       " 'monoamine oxidase inhibitor',\n",
       " 'monoamine oxidase inhibitor',\n",
       " 'monoamine oxidase inhibitor',\n",
       " 'monoamine oxidase inhibitor',\n",
       " 'monoamine oxidase inhibitor',\n",
       " 'glucocorticoid receptor agonist',\n",
       " 'glucocorticoid receptor agonist',\n",
       " 'glucocorticoid receptor agonist',\n",
       " 'glucocorticoid receptor agonist',\n",
       " 'glucocorticoid receptor agonist',\n",
       " 'angiogenesis inhibitor',\n",
       " 'angiogenesis inhibitor',\n",
       " 'angiogenesis inhibitor',\n",
       " 'angiogenesis inhibitor',\n",
       " 'acetylcholine receptor antagonist',\n",
       " 'acetylcholine receptor antagonist',\n",
       " 'acetylcholine receptor antagonist',\n",
       " 'acetylcholine receptor antagonist',\n",
       " 'acetylcholine receptor antagonist',\n",
       " 'GABA receptor modulator',\n",
       " 'GABA receptor modulator',\n",
       " 'GABA receptor modulator',\n",
       " 'GABA receptor modulator',\n",
       " 'GABA receptor modulator',\n",
       " 'acetylcholine receptor agonist',\n",
       " 'acetylcholine receptor agonist',\n",
       " 'acetylcholine receptor agonist',\n",
       " 'acetylcholine receptor agonist',\n",
       " 'acetylcholine receptor agonist',\n",
       " 'antimalarial agent|DNA inhibitor',\n",
       " 'antimalarial agent|DNA inhibitor',\n",
       " 'antimalarial agent|DNA inhibitor',\n",
       " 'antimalarial agent|DNA inhibitor',\n",
       " 'ATPase inhibitor',\n",
       " 'ATPase inhibitor',\n",
       " 'ATPase inhibitor',\n",
       " 'ATPase inhibitor',\n",
       " 'RAF inhibitor',\n",
       " 'RAF inhibitor',\n",
       " 'RAF inhibitor',\n",
       " 'RAF inhibitor',\n",
       " 'isocitrate dehydrogenase inhibitor',\n",
       " 'isocitrate dehydrogenase inhibitor',\n",
       " 'isocitrate dehydrogenase inhibitor',\n",
       " 'isocitrate dehydrogenase inhibitor',\n",
       " 'thioredoxin inhibitor',\n",
       " 'thioredoxin inhibitor',\n",
       " 'thioredoxin inhibitor',\n",
       " 'thioredoxin inhibitor',\n",
       " 'calcium channel blocker',\n",
       " 'calcium channel blocker',\n",
       " 'calcium channel blocker',\n",
       " 'calcium channel blocker',\n",
       " 'calcium channel blocker',\n",
       " 'nematocide',\n",
       " 'nematocide',\n",
       " 'nematocide',\n",
       " 'nematocide',\n",
       " 'nematocide',\n",
       " 'anticancer agent|aryl hydrocarbon receptor antagonist',\n",
       " 'anticancer agent|aryl hydrocarbon receptor antagonist',\n",
       " 'anticancer agent|aryl hydrocarbon receptor antagonist',\n",
       " 'anticancer agent|aryl hydrocarbon receptor antagonist',\n",
       " 'adrenergic receptor agonist',\n",
       " 'adrenergic receptor agonist',\n",
       " 'adrenergic receptor agonist',\n",
       " 'adrenergic receptor agonist',\n",
       " 'adrenergic receptor agonist',\n",
       " 'ATP channel blocker|insulin secretagogue',\n",
       " 'ATP channel blocker|insulin secretagogue',\n",
       " 'ATP channel blocker|insulin secretagogue',\n",
       " 'ATP channel blocker|insulin secretagogue',\n",
       " 'ATP channel blocker|insulin secretagogue',\n",
       " 'progesterone receptor agonist',\n",
       " 'progesterone receptor agonist',\n",
       " 'progesterone receptor agonist',\n",
       " 'progesterone receptor agonist',\n",
       " 'progesterone receptor agonist',\n",
       " 'enzyme inducer',\n",
       " 'enzyme inducer',\n",
       " 'enzyme inducer',\n",
       " 'enzyme inducer',\n",
       " 'ATPase inhibitor|NFkB pathway inhibitor|STAT inhibitor',\n",
       " 'ATPase inhibitor|NFkB pathway inhibitor|STAT inhibitor',\n",
       " 'ATPase inhibitor|NFkB pathway inhibitor|STAT inhibitor',\n",
       " 'ATPase inhibitor|NFkB pathway inhibitor|STAT inhibitor',\n",
       " 'ATPase inhibitor|NFkB pathway inhibitor|STAT inhibitor',\n",
       " 'carbonic anhydrase inhibitor',\n",
       " 'carbonic anhydrase inhibitor',\n",
       " 'carbonic anhydrase inhibitor',\n",
       " 'carbonic anhydrase inhibitor',\n",
       " 'carbonic anhydrase inhibitor',\n",
       " 'acetylcholine receptor antagonist',\n",
       " 'acetylcholine receptor antagonist',\n",
       " 'acetylcholine receptor antagonist',\n",
       " 'acetylcholine receptor antagonist',\n",
       " 'acetylcholine receptor antagonist',\n",
       " 'phosphodiesterase inhibitor',\n",
       " 'phosphodiesterase inhibitor',\n",
       " 'phosphodiesterase inhibitor',\n",
       " 'phosphodiesterase inhibitor',\n",
       " 'phosphodiesterase inhibitor',\n",
       " 'glucocorticoid receptor agonist',\n",
       " 'glucocorticoid receptor agonist',\n",
       " 'glucocorticoid receptor agonist',\n",
       " 'glucocorticoid receptor agonist',\n",
       " 'glucocorticoid receptor agonist',\n",
       " 'RNA synthesis inhibitor',\n",
       " 'RNA synthesis inhibitor',\n",
       " 'RNA synthesis inhibitor',\n",
       " 'RNA synthesis inhibitor',\n",
       " 'tumor necrosis factor production inhibitor',\n",
       " 'tumor necrosis factor production inhibitor',\n",
       " 'tumor necrosis factor production inhibitor',\n",
       " 'tumor necrosis factor production inhibitor',\n",
       " 'glucosidase inhibitor',\n",
       " 'glucosidase inhibitor',\n",
       " 'glucosidase inhibitor',\n",
       " 'glucosidase inhibitor',\n",
       " 'DNA directed DNA polymerase inhibitor',\n",
       " 'DNA directed DNA polymerase inhibitor',\n",
       " 'DNA directed DNA polymerase inhibitor',\n",
       " 'DNA directed DNA polymerase inhibitor',\n",
       " 'aldose reductase inhibitor',\n",
       " 'aldose reductase inhibitor',\n",
       " 'aldose reductase inhibitor',\n",
       " 'aldose reductase inhibitor',\n",
       " 'cholesterol inhibitor|lipase clearing factor inhibitor',\n",
       " 'cholesterol inhibitor|lipase clearing factor inhibitor',\n",
       " 'cholesterol inhibitor|lipase clearing factor inhibitor',\n",
       " 'cholesterol inhibitor|lipase clearing factor inhibitor',\n",
       " 'cholesterol inhibitor|lipase clearing factor inhibitor',\n",
       " 'DNA directed DNA polymerase inhibitor|thymidylate synthase inhibitor',\n",
       " 'DNA directed DNA polymerase inhibitor|thymidylate synthase inhibitor',\n",
       " 'DNA directed DNA polymerase inhibitor|thymidylate synthase inhibitor',\n",
       " 'DNA directed DNA polymerase inhibitor|thymidylate synthase inhibitor',\n",
       " 'sodium channel activator',\n",
       " 'sodium channel activator',\n",
       " 'sodium channel activator',\n",
       " 'sodium channel activator',\n",
       " 'sodium channel activator',\n",
       " 'adrenergic receptor antagonist|serotonin receptor antagonist',\n",
       " 'adrenergic receptor antagonist|serotonin receptor antagonist',\n",
       " 'adrenergic receptor antagonist|serotonin receptor antagonist',\n",
       " 'adrenergic receptor antagonist|serotonin receptor antagonist',\n",
       " 'acetylcholine receptor antagonist',\n",
       " 'acetylcholine receptor antagonist',\n",
       " 'acetylcholine receptor antagonist',\n",
       " 'acetylcholine receptor antagonist',\n",
       " 'acetylcholine receptor antagonist',\n",
       " 'vitamin K antagonist',\n",
       " 'vitamin K antagonist',\n",
       " 'vitamin K antagonist',\n",
       " 'vitamin K antagonist',\n",
       " 'vitamin K antagonist',\n",
       " 'phosphodiesterase inhibitor',\n",
       " 'phosphodiesterase inhibitor',\n",
       " 'phosphodiesterase inhibitor',\n",
       " 'phosphodiesterase inhibitor',\n",
       " 'dopamine receptor antagonist',\n",
       " 'dopamine receptor antagonist',\n",
       " 'dopamine receptor antagonist',\n",
       " 'dopamine receptor antagonist',\n",
       " 'dopamine receptor antagonist',\n",
       " '3beta-hydroxy-delta5-steroid dehydrogenase inhibitor',\n",
       " '3beta-hydroxy-delta5-steroid dehydrogenase inhibitor',\n",
       " '3beta-hydroxy-delta5-steroid dehydrogenase inhibitor',\n",
       " '3beta-hydroxy-delta5-steroid dehydrogenase inhibitor',\n",
       " 'proteasome inhibitor',\n",
       " 'proteasome inhibitor',\n",
       " 'proteasome inhibitor',\n",
       " 'proteasome inhibitor',\n",
       " 'proteasome inhibitor',\n",
       " 'DNA alkylating agent',\n",
       " 'DNA alkylating agent',\n",
       " 'DNA alkylating agent',\n",
       " 'DNA alkylating agent',\n",
       " 'progesterone receptor agonist',\n",
       " 'progesterone receptor agonist',\n",
       " 'progesterone receptor agonist',\n",
       " 'progesterone receptor agonist',\n",
       " 'progesterone receptor agonist',\n",
       " 'histamine receptor antagonist',\n",
       " 'histamine receptor antagonist',\n",
       " 'histamine receptor antagonist',\n",
       " 'histamine receptor antagonist',\n",
       " 'histamine receptor antagonist',\n",
       " 'histamine receptor antagonist',\n",
       " 'histamine receptor antagonist',\n",
       " 'histamine receptor antagonist',\n",
       " 'histamine receptor antagonist',\n",
       " 'adrenergic receptor antagonist',\n",
       " 'adrenergic receptor antagonist',\n",
       " 'adrenergic receptor antagonist',\n",
       " 'adrenergic receptor antagonist',\n",
       " 'adrenergic receptor antagonist',\n",
       " 'leukotriene receptor antagonist|lipoxygenase inhibitor',\n",
       " 'leukotriene receptor antagonist|lipoxygenase inhibitor',\n",
       " 'leukotriene receptor antagonist|lipoxygenase inhibitor',\n",
       " 'leukotriene receptor antagonist|lipoxygenase inhibitor',\n",
       " 'dopamine reuptake inhibitor',\n",
       " 'dopamine reuptake inhibitor',\n",
       " 'dopamine reuptake inhibitor',\n",
       " 'dopamine reuptake inhibitor',\n",
       " 'dopamine reuptake inhibitor',\n",
       " 'HCV inhibitor',\n",
       " 'HCV inhibitor',\n",
       " 'HCV inhibitor',\n",
       " 'HCV inhibitor',\n",
       " 'histamine receptor antagonist',\n",
       " 'histamine receptor antagonist',\n",
       " 'histamine receptor antagonist',\n",
       " 'histamine receptor antagonist',\n",
       " 'histamine receptor antagonist',\n",
       " 'serotonin transporter (SERT) inhibitor',\n",
       " 'serotonin transporter (SERT) inhibitor',\n",
       " 'serotonin transporter (SERT) inhibitor',\n",
       " 'serotonin transporter (SERT) inhibitor',\n",
       " 'serotonin transporter (SERT) inhibitor',\n",
       " 'gamma secretase inhibitor',\n",
       " 'gamma secretase inhibitor',\n",
       " 'gamma secretase inhibitor',\n",
       " 'gamma secretase inhibitor',\n",
       " 'calcium channel blocker',\n",
       " 'calcium channel blocker',\n",
       " 'calcium channel blocker',\n",
       " 'calcium channel blocker',\n",
       " 'calcium channel blocker',\n",
       " 'calcineurin inhibitor',\n",
       " 'calcineurin inhibitor',\n",
       " 'calcineurin inhibitor',\n",
       " 'calcineurin inhibitor',\n",
       " 'acetylcholinesterase inhibitor|microtubule inhibitor',\n",
       " 'acetylcholinesterase inhibitor|microtubule inhibitor',\n",
       " 'acetylcholinesterase inhibitor|microtubule inhibitor',\n",
       " 'acetylcholinesterase inhibitor|microtubule inhibitor',\n",
       " 'DNA alkylating agent',\n",
       " 'DNA alkylating agent',\n",
       " 'DNA alkylating agent',\n",
       " 'DNA alkylating agent',\n",
       " 'DNA alkylating agent',\n",
       " 'T-type calcium channel blocker',\n",
       " 'T-type calcium channel blocker',\n",
       " 'T-type calcium channel blocker',\n",
       " 'T-type calcium channel blocker',\n",
       " 'PPAR receptor antagonist',\n",
       " 'PPAR receptor antagonist',\n",
       " 'PPAR receptor antagonist',\n",
       " 'PPAR receptor antagonist',\n",
       " 'dopamine receptor agonist|serotonin receptor antagonist',\n",
       " 'dopamine receptor agonist|serotonin receptor antagonist',\n",
       " 'dopamine receptor agonist|serotonin receptor antagonist',\n",
       " 'dopamine receptor agonist|serotonin receptor antagonist',\n",
       " 'dopamine receptor agonist|serotonin receptor antagonist',\n",
       " 'acetylcholine precursor',\n",
       " 'acetylcholine precursor',\n",
       " 'acetylcholine precursor',\n",
       " 'acetylcholine precursor',\n",
       " 'bacterial permeability inducer',\n",
       " 'bacterial permeability inducer',\n",
       " 'bacterial permeability inducer',\n",
       " 'bacterial permeability inducer',\n",
       " ...]"
      ]
     },
     "execution_count": 66,
     "metadata": {},
     "output_type": "execute_result"
    }
   ],
   "source": [
    "labels_train"
   ]
  },
  {
   "cell_type": "code",
   "execution_count": null,
   "metadata": {
    "scrolled": true
   },
   "outputs": [],
   "source": []
  },
  {
   "cell_type": "code",
   "execution_count": 235,
   "metadata": {},
   "outputs": [],
   "source": [
    "# filteredMOAs.loc[test_index].groupby(['Metadata_moa']).sample(1).index.values"
   ]
  },
  {
   "cell_type": "code",
   "execution_count": 50,
   "metadata": {},
   "outputs": [],
   "source": [
    "# filteredMOAs"
   ]
  },
  {
   "cell_type": "markdown",
   "metadata": {},
   "source": [
    "- CP\n",
    "  - Accuracy: 66.83%\n",
    "- L1k\n",
    "  - Accuracy: 55.74%\n",
    "- CP + L1k\n",
    "  - Accuracy: 67.43%"
   ]
  },
  {
   "cell_type": "code",
   "execution_count": 37,
   "metadata": {},
   "outputs": [
    {
     "data": {
      "text/plain": [
       "(179,)"
      ]
     },
     "execution_count": 37,
     "metadata": {},
     "output_type": "execute_result"
    }
   ],
   "source": [
    "filteredMOAs['Metadata_moa'].unique().shape"
   ]
  },
  {
   "cell_type": "code",
   "execution_count": null,
   "metadata": {},
   "outputs": [],
   "source": [
    "Clustering performance"
   ]
  },
  {
   "cell_type": "code",
   "execution_count": 221,
   "metadata": {},
   "outputs": [],
   "source": [
    "from sklearn.decomposition import PCA\n",
    "# %matplotlib inline\n",
    "# Dimension reduction and clustering libraries\n",
    "import umap\n",
    "# import hdbscan\n",
    "import sklearn.cluster as cluster\n",
    "from sklearn.metrics import adjusted_rand_score, adjusted_mutual_info_score\n",
    "from sklearn.model_selection import LeaveOneOut,cross_val_score\n",
    "from sklearn.linear_model import LogisticRegression\n",
    "# nSamplesMOA=10 # results in grant for CDRP are for this number of MOAs\n",
    "nSamplesMOA=1\n",
    "# from MulticoreTSNE import MulticoreTSNE as TSNE\n",
    "# df_1 = df_1.interpolate()\n",
    "#############\n",
    "\n",
    "##########\n",
    "# mergProf_treatLevel['Metadata_moa']=mergProf_treatLevel['Metadata_moa'].str.lower()\n",
    "mergProf_treatLevel=mergProf_treatLevel[~mergProf_treatLevel['Metadata_moa'].isnull()].reset_index(drop=True)\n",
    "nSamplesforEachMOAclass=mergProf_treatLevel.groupby(['Metadata_moa']).size().reset_index().rename(columns={0:'size'}).sort_values(by=['size'],ascending=False).reset_index(drop=True)\n",
    "listOfSelectedMoAs=nSamplesforEachMOAclass[nSamplesforEachMOAclass['size']>nSamplesMOA]['Metadata_moa'].tolist()\n",
    "# corresPertID=[mergProf_treatLevel[mergProf_treatLevel['Metadata_moa']==i]['Metadata_pert_id'] for i in listOfSelectedMoAs]\n",
    "# filteredMOAs=mergProf_treatLevel[mergProf_treatLevel['Metadata_moa'].isin(listOfSelectedMoAs)].reset_index(drop=True)\n",
    "IDs4filteredMOAs=mergProf_treatLevel[mergProf_treatLevel['Metadata_moa'].isin(listOfSelectedMoAs)][pertColName].tolist()\n",
    "\n",
    "data4eval=[[cp,cp_features],[l1k,l1k_features],[mergProf_treatLevel,cp_features+l1k_features]]\n",
    "\n",
    "for r in range(len(data4eval)): #range(1):#\n",
    "    print(r)\n",
    "    domXdata=data4eval[r][0];\n",
    "    domXfeats=data4eval[r][1]\n",
    "    filteredMOAs=domXdata[domXdata[pertColName].isin(IDs4filteredMOAs)].reset_index(drop=True)\n",
    "\n",
    "    data = filteredMOAs[domXfeats].values;\n",
    "    labels=filteredMOAs.Metadata_moa.tolist()\n",
    "        \n",
    "    loocv = LeaveOneOut()\n",
    "    model_loocv = LogisticRegression(multi_class='ovr',n_jobs=100,max_iter=1000)\n",
    "    results_loocv = cross_val_score(model_loocv, data, labels, cv=loocv)\n",
    "    print(\"Accuracy: %.2f%%\" % (results_loocv.mean()*100.0))"
   ]
  },
  {
   "cell_type": "markdown",
   "metadata": {},
   "source": [
    "## Modality Integration using CCA"
   ]
  },
  {
   "cell_type": "code",
   "execution_count": 27,
   "metadata": {},
   "outputs": [],
   "source": [
    "from sklearn.cross_decomposition import CCA\n",
    "# from DeepCCAmaster import DeepCCA,models,objectives\n",
    "def cca_analysis2(l1k_train, cp_train, l1k_test, cp_test, outdim_size):\n",
    "    \n",
    "    GE_train = np.asarray(l1k_train)[:,1:]\n",
    "    MF_train = np.asarray(cp_train)[:,1:]\n",
    "\n",
    "    GE_test = np.asarray(l1k_test)[:,1:]\n",
    "    MF_test = np.asarray(cp_test)[:,1:]    \n",
    "    \n",
    "\n",
    "    cca = CCA(n_components=outdim_size)\n",
    "    cca.fit(GE_train, MF_train)\n",
    "    X_c, Y_c = cca.transform(GE_test, MF_test)\n",
    "#     wwmm=DeepCCA.linear_cca(new_data[0][0], new_data[0][1], outdim_size)\n",
    "    return X_c, Y_c, []\n",
    "\n"
   ]
  },
  {
   "cell_type": "code",
   "execution_count": null,
   "metadata": {},
   "outputs": [],
   "source": [
    "data4eval=[[cp,cp_features],[l1k,l1k_features],[merged_scaled,cp_features+l1k_features]]"
   ]
  },
  {
   "cell_type": "code",
   "execution_count": 78,
   "metadata": {},
   "outputs": [
    {
     "data": {
      "text/plain": [
       "(894,)"
      ]
     },
     "execution_count": 78,
     "metadata": {},
     "output_type": "execute_result"
    }
   ],
   "source": [
    "filteredMOAs['Compounds'].unique().shape"
   ]
  },
  {
   "cell_type": "code",
   "execution_count": 396,
   "metadata": {
    "scrolled": true
   },
   "outputs": [
    {
     "name": "stdout",
     "output_type": "stream",
     "text": [
      "0\n",
      "1\n",
      "2\n",
      "3\n",
      "4\n",
      "5\n",
      "6\n",
      "7\n",
      "8\n",
      "9\n",
      "10\n",
      "11\n",
      "12\n",
      "13\n",
      "14\n",
      "15\n",
      "16\n",
      "17\n",
      "18\n",
      "19\n",
      "20\n",
      "21\n",
      "22\n",
      "23\n",
      "24\n",
      "25\n",
      "26\n",
      "27\n",
      "28\n",
      "29\n",
      "30\n",
      "31\n",
      "32\n",
      "33\n",
      "34\n",
      "35\n",
      "36\n",
      "37\n",
      "38\n",
      "39\n",
      "40\n",
      "41\n",
      "42\n",
      "43\n",
      "44\n",
      "45\n",
      "46\n",
      "47\n",
      "48\n",
      "49\n",
      "[0. 0. 0. 0.]\n"
     ]
    }
   ],
   "source": [
    "from sklearn.utils import class_weight\n",
    "\n",
    "domXdata=merged_scaled.copy();\n",
    "# domXfeats=data4eval[r][1]\n",
    "outdim_size=40\n",
    "\n",
    "filteredMOAs=domXdata[domXdata[pertColName].isin(IDs4filteredMOAs)].reset_index(drop=True)\n",
    "filteredMOAs['Metadata_moa_num']=le.transform(filteredMOAs[moa_col].tolist())\n",
    "\n",
    "Acc_list=[]\n",
    "\n",
    "# n_of_random_sel=50\n",
    "# # acc_array=np.zeros((n_of_random_sel,4));\n",
    "# acc_array_filt=np.zeros((n_of_random_sel,4));\n",
    "# for i in range(n_of_random_sel):\n",
    "#     print(i)\n",
    "# # for outdim_size in range(10,110,10):\n",
    "#     test_index=filteredMOAs.groupby(['Metadata_moa_num']).sample(1).sample(50).index.values\n",
    "\n",
    "\n",
    "\n",
    "n_of_random_sel=50 # full\n",
    "# n_of_random_sel=20 # filt\n",
    "# acc_array_fullSet=np.zeros((n_of_random_sel,3));\n",
    "acc_array_cca_full2_cdrp=np.zeros((n_of_random_sel,4));\n",
    "# acc_array_cca_filt2=np.zeros((n_of_random_sel,4));\n",
    "# acc_array_filtSet=np.zeros((n_of_random_sel,4));\n",
    "# for i in range(n_of_random_sel):\n",
    "\n",
    "kf = KFold(n_splits=n_of_random_sel,random_state=1,shuffle=True)\n",
    "i=0\n",
    "for train_index0, test_index in kf.split(filteredMOAs):\n",
    "    print(i)\n",
    "\n",
    "#         print(test_index[0:30])\n",
    "\n",
    "    unq_comp_test=filteredMOAs.loc[test_index,'Compounds'].unique().tolist()\n",
    "    comp_to_remove_from_train=filteredMOAs[filteredMOAs['Compounds'].isin(unq_comp_test)].index.values\n",
    "#         print(test_index[0:30])\n",
    "#         khhk\n",
    "    train_index=np.array(list(set(filteredMOAs.index.values)-set(test_index)-set(comp_to_remove_from_train)))\n",
    "\n",
    "    \n",
    "    train_moaClassess=filteredMOAs.loc[train_index,'Metadata_moa_num'].unique().tolist()\n",
    "    test_moaClassess=filteredMOAs.loc[test_index,'Metadata_moa_num'].unique().tolist()   \n",
    "\n",
    "\n",
    "#     if len(filteredMOAs.loc[train_index,'Metadata_moa_num'].unique().tolist())=70:\n",
    "#         sfsdssf\n",
    "    test_cl_toRemove=list(set(test_moaClassess)-set(train_moaClassess))\n",
    "    test_ind_toRemo=testFiltMoA[testFiltMoA['Metadata_moa_num'].isin(test_cl_toRemove)].index\n",
    "\n",
    "#     print(test_cl_toRemove,test_ind_toRemo)\n",
    "    test_index=np.array(list(set(test_index)-set(test_ind_toRemo)))\n",
    "\n",
    "#     train_index=np.array(list(set(filteredMOAs.index.values)-set(test_index)))\n",
    "\n",
    "    data_train_l1k = filteredMOAs.loc[train_index,l1k_features].values;\n",
    "    data_train_cp = filteredMOAs.loc[train_index,cp_features].values;\n",
    "    \n",
    "    cca = CCA(n_components=outdim_size)\n",
    "    cca.fit(data_train_l1k, data_train_cp)\n",
    "    X_c, Y_c = cca.transform(data_train_l1k, data_train_cp)    \n",
    "    \n",
    "    data_train=np.concatenate((X_c, Y_c), axis=1)\n",
    "    \n",
    "#     data_train = filteredMOAs.loc[train_index,domXfeats].values;\n",
    "    labels_train=filteredMOAs.loc[train_index,'Metadata_moa_num'].tolist()\n",
    "    \n",
    "    data_test_l1k = filteredMOAs.loc[test_index,l1k_features].values;\n",
    "    data_test_cp = filteredMOAs.loc[test_index,cp_features].values;    \n",
    "    X_c_2, Y_c_2 = cca.transform(data_test_l1k, data_test_cp)    \n",
    "    data_test=np.concatenate((X_c_2, Y_c_2), axis=1)\n",
    "    \n",
    "    labels_test=filteredMOAs.loc[test_index,'Metadata_moa_num'].tolist()\n",
    "\n",
    "    probs=[]\n",
    "    for n,dt_train,dt_test in zip([0,1,2],[Y_c, X_c,data_train],[Y_c_2,X_c_2,data_test]):\n",
    "#         print(n)\n",
    "#         class_weightt = class_weight.compute_class_weight(class_weight='balanced',classes=np.unique(labels_train),y=labels_train)    \n",
    "    \n",
    "#         class_weightt = class_weight.compute_class_weight(class_weight='balanced',np.unique(labels_train),labels_train)    \n",
    "    #         model_tr = RandomForestClassifier(n_estimators=10,max_features=100,class_weight=\"balanced\")\n",
    "#         model_tr=\n",
    "        model_tr = LogisticRegression(multi_class='multinomial',n_jobs=3,max_iter=1000,class_weight=\"balanced\")\n",
    "        model_tr.fit(dt_train,labels_train)\n",
    "        \n",
    "        accc=model_tr.score(dt_test,labels_test)\n",
    "        probs.append(model_tr.predict_proba(dt_test))\n",
    "        acc_array_cca_full2_cdrp[i,n]=accc*100\n",
    "#         acc_array_cca_filt2[i,n]=accc*100     \n",
    "#         acc_array_f[i,n]=accc*100    \n",
    "#         Acc_list.append(accc);\n",
    "\n",
    "\n",
    "#     labels_lateFusion=list(np.argmax((probs[0]+probs[1])/2,axis=1))\n",
    "    labels_lateFusion=model_tr.classes_[np.argmax((probs[0]+probs[1])/2,axis=1)]\n",
    "#     acc_array_cca_filt2[i,n+1]=accuracy_score(labels_test,labels_lateFusion)*100        \n",
    "    acc_array_cca_full2_cdrp[i,n+1]=accuracy_score(labels_test,labels_lateFusion)*100        \n",
    "    i+=1\n",
    "print(np.median(acc_array_cca_full2_cdrp,axis=0))\n",
    "# print('Accuracy: ',r, np.mean(Acc_list)*100)   \n"
   ]
  },
  {
   "cell_type": "code",
   "execution_count": 165,
   "metadata": {},
   "outputs": [
    {
     "data": {
      "text/plain": [
       "array([26.66666667, 23.33333333, 27.84946237, 26.66666667])"
      ]
     },
     "execution_count": 165,
     "metadata": {},
     "output_type": "execute_result"
    }
   ],
   "source": [
    "# acc_array_filt\n",
    "# model_tr.fit(dt_train,labels_train)\n",
    "# dt_train.shape,labels_train\n",
    "np.median(acc_array_cca_filt2,axis=0)"
   ]
  },
  {
   "cell_type": "code",
   "execution_count": 74,
   "metadata": {},
   "outputs": [
    {
     "data": {
      "text/plain": [
       "array([5.82959641, 5.82959641, 6.27802691, 0.89686099])"
      ]
     },
     "execution_count": 74,
     "metadata": {},
     "output_type": "execute_result"
    }
   ],
   "source": [
    "np.median(acc_array_cca_full,axis=0)"
   ]
  },
  {
   "cell_type": "code",
   "execution_count": 80,
   "metadata": {},
   "outputs": [
    {
     "data": {
      "text/plain": [
       "array([6.66666667, 5.61797753, 6.74157303, 4.49438202])"
      ]
     },
     "execution_count": 80,
     "metadata": {},
     "output_type": "execute_result"
    }
   ],
   "source": [
    "np.median(acc_array_cca_full,axis=0)"
   ]
  },
  {
   "cell_type": "code",
   "execution_count": 82,
   "metadata": {},
   "outputs": [
    {
     "data": {
      "text/plain": [
       "array([6.66666667, 5.61797753, 6.74157303, 4.49438202])"
      ]
     },
     "execution_count": 82,
     "metadata": {},
     "output_type": "execute_result"
    }
   ],
   "source": [
    "np.median(acc_array_cca_full,axis=0)"
   ]
  },
  {
   "cell_type": "code",
   "execution_count": 91,
   "metadata": {},
   "outputs": [
    {
     "data": {
      "text/plain": [
       "array([7.82147316, 6.74157303, 7.86516854, 6.74157303])"
      ]
     },
     "execution_count": 91,
     "metadata": {},
     "output_type": "execute_result"
    }
   ],
   "source": [
    "np.median(acc_array_fullSet2,axis=0)"
   ]
  },
  {
   "cell_type": "code",
   "execution_count": 75,
   "metadata": {},
   "outputs": [
    {
     "data": {
      "text/plain": [
       "array([[5.38116592, 5.82959641, 6.7264574 , 1.79372197],\n",
       "       [5.82959641, 5.82959641, 6.7264574 , 2.24215247],\n",
       "       [4.48430493, 7.17488789, 8.07174888, 0.89686099],\n",
       "       [6.7264574 , 3.58744395, 4.93273543, 0.44843049],\n",
       "       [4.03587444, 6.7264574 , 5.82959641, 1.79372197],\n",
       "       [8.07174888, 5.82959641, 8.07174888, 0.        ],\n",
       "       [5.82959641, 5.82959641, 6.27802691, 0.89686099],\n",
       "       [6.7264574 , 5.38116592, 5.82959641, 0.44843049],\n",
       "       [4.48430493, 5.82959641, 7.17488789, 0.44843049],\n",
       "       [4.48430493, 3.13901345, 2.24215247, 0.        ],\n",
       "       [5.38116592, 5.82959641, 8.07174888, 1.34529148],\n",
       "       [6.7264574 , 5.82959641, 6.27802691, 5.82959641],\n",
       "       [6.27802691, 7.17488789, 6.27802691, 4.93273543],\n",
       "       [5.38116592, 4.48430493, 4.48430493, 0.89686099],\n",
       "       [5.82959641, 6.7264574 , 6.27802691, 0.89686099],\n",
       "       [5.38116592, 6.7264574 , 5.82959641, 3.13901345],\n",
       "       [8.52017937, 7.17488789, 8.07174888, 1.34529148],\n",
       "       [6.7264574 , 5.82959641, 6.27802691, 0.89686099],\n",
       "       [6.27802691, 4.93273543, 6.27802691, 0.89686099],\n",
       "       [4.05405405, 4.5045045 , 4.5045045 , 2.25225225]])"
      ]
     },
     "execution_count": 75,
     "metadata": {},
     "output_type": "execute_result"
    }
   ],
   "source": [
    "# import sklearn as sk\n",
    "# sk.__version__\n",
    "acc_array_cca_full"
   ]
  },
  {
   "cell_type": "code",
   "execution_count": 444,
   "metadata": {},
   "outputs": [
    {
     "data": {
      "text/plain": [
       "array([[ 7.8994614 , 14.36265709, 14.36265709],\n",
       "       [ 8.43806104, 12.92639138, 13.82405745],\n",
       "       [ 8.97666068, 12.38779174, 14.18312388],\n",
       "       [ 6.28366248, 13.1059246 , 13.1059246 ],\n",
       "       [ 7.71992819, 13.46499102, 14.00359066],\n",
       "       [ 8.07899461, 12.74685817, 12.38779174],\n",
       "       [ 8.79712747, 12.74685817, 13.46499102],\n",
       "       [ 8.07899461, 14.72172352, 14.00359066],\n",
       "       [ 6.28366248, 12.56732496, 13.1059246 ],\n",
       "       [ 8.43806104, 13.82405745, 13.64452424]])"
      ]
     },
     "execution_count": 444,
     "metadata": {},
     "output_type": "execute_result"
    }
   ],
   "source": [
    "acc_array"
   ]
  },
  {
   "cell_type": "code",
   "execution_count": 267,
   "metadata": {},
   "outputs": [
    {
     "data": {
      "text/plain": [
       "range(10, 110, 10)"
      ]
     },
     "execution_count": 267,
     "metadata": {},
     "output_type": "execute_result"
    }
   ],
   "source": [
    "[0.06463195691202872, 0.09874326750448834, 0.12567324955116696, 0.13285457809694792, 0.12567324955116696, 0.12208258527827648, 0.0843806104129264, 0.11131059245960502, 0.09874326750448834, 0.11490125673249552]\n",
    "Accuracy:  2 13.789946140035909"
   ]
  },
  {
   "cell_type": "code",
   "execution_count": 258,
   "metadata": {},
   "outputs": [
    {
     "name": "stderr",
     "output_type": "stream",
     "text": [
      "/home/ubuntu/anaconda3/lib/python3.8/site-packages/sklearn/utils/validation.py:68: FutureWarning: Pass classes=[  0   1   2   3   4   5   6   7   8   9  10  11  12  13  14  15  16  17\n",
      "  18  19  20  21  22  23  24  25  26  27  28  29  30  31  32  33  34  35\n",
      "  36  37  38  39  40  41  42  43  44  45  46  47  48  49  50  51  52  53\n",
      "  54  55  56  57  58  59  60  61  62  63  64  65  66  67  68  69  70  71\n",
      "  72  73  74  75  76  77  78  79  80  81  82  83  84  85  86  87  88  89\n",
      "  90  91  92  93  94  95  96  97  98  99 100 101 102 103 104 105 106 107\n",
      " 108 109 110 111 112 113 114 115 116 117 118 119 120 121 122 123 124 125\n",
      " 126 127 128 129 130 131 132 133 134 135 136 137 138 139 140 141 142 143\n",
      " 144 145 146 147 148 149 150 151 152 153 154 155 156 157 158 159 160 161\n",
      " 162 163 164 165 166 167 168 169 170 171 172 173 174 175 176 177 178 179\n",
      " 180 181 182 183 184 185 186 187 188 189 190 191 192 193 194 195 196 197\n",
      " 198 199 200 201 202 203 204 205 206 207 208 209 210 211 212 213 214 215\n",
      " 216 217 218 219 220 221 222 223 224 225 226 227 228 229 230 231 232 233\n",
      " 234 235 236 237 238 239 240 241 242 243 244 245 246 247 248 249 250 251\n",
      " 252 253 254 255 256 257 258 259 260 261 262 263 264 265 266 267 268 269\n",
      " 270 271 272 273 274 275 276 277 278 279 280 281 282 283 284 285 286 287\n",
      " 288 289 290 291 292 293 294 295 296 297 298 299 300 301 302 303 304 305\n",
      " 306 307 308 309 310 311 312 313 314 315 316 317 318 319 320 321 322 323\n",
      " 324 325 326 327 328 329 330 331 332 333 334 335 336 337 338 339 340 341\n",
      " 342 343 344 345 346 347 348 349 350 351 352 353 354 355 356 357 358 359\n",
      " 360 361 362 363 364 365 366 367 368 369 370 371 372 373 374 375 376 377\n",
      " 378 379 380 381 382 383 384 385 386 387 388 389 390 391 392 393 394 395\n",
      " 396 397 398 399 400 401 402 403 404 405 406 407 408 409 410 411 412 413\n",
      " 414 415 416 417 418 419 420 421 422 423 424 425 426 427 428 429 430 431\n",
      " 432 433 434 435 436 437 438 439 440 441 442 443 444 445 446 447 448 449\n",
      " 450 451 452 453 454 455 456 457 458 459 460 461 462 463 464 465 466 467\n",
      " 468 469 470 471 472 473 474 475 476 477 478 479 480 481 482 483 484 485\n",
      " 486 487 488 489 490 491 492 493 494 495 496 497 498 499 500 501 502 503\n",
      " 504 505 506 507 508 509 510 511 512 513 514 515 516 517 518 519 520 521\n",
      " 522 523 524 525 526 527 528 529 530 531 532 533 534 535 536 537 538 539\n",
      " 540 541 542 543 544 545 546 547 548 549 550 551 552 553 554 555 556], y=[332, 332, 332, 332, 510, 510, 510, 510, 398, 398, 398, 398, 22, 22, 22, 22, 22, 381, 381, 381, 381, 381, 502, 502, 502, 502, 502, 42, 42, 42, 42, 42, 139, 139, 139, 139, 139, 233, 233, 233, 233, 38, 38, 38, 38, 38, 211, 211, 211, 211, 211, 457, 457, 457, 457, 236, 236, 236, 236, 306, 306, 306, 306, 306, 42, 42, 42, 42, 42, 121, 121, 121, 121, 121, 314, 314, 314, 314, 314, 217, 217, 217, 217, 217, 338, 338, 338, 338, 138, 138, 138, 138, 138, 385, 385, 385, 385, 385, 536, 536, 536, 536, 536, 98, 98, 98, 98, 98, 42, 42, 42, 42, 42, 42, 42, 42, 42, 42, 42, 42, 42, 42, 42, 211, 211, 211, 211, 211, 267, 267, 267, 267, 55, 55, 55, 55, 55, 228, 228, 228, 228, 98, 98, 98, 98, 460, 460, 460, 460, 460, 502, 502, 502, 502, 502, 139, 139, 139, 139, 139, 520, 520, 520, 520, 303, 303, 303, 303, 303, 42, 42, 42, 42, 42, 42, 42, 42, 42, 42, 491, 491, 491, 491, 491, 42, 42, 42, 42, 42, 323, 323, 323, 323, 107, 107, 107, 107, 103, 103, 103, 103, 103, 360, 360, 360, 360, 489, 489, 489, 489, 489, 59, 59, 59, 59, 437, 437, 437, 437, 276, 276, 276, 276, 276, 42, 42, 42, 42, 42, 37, 37, 37, 37, 231, 231, 231, 231, 231, 458, 458, 458, 458, 363, 363, 363, 363, 491, 491, 491, 491, 491, 496, 496, 496, 496, 496, 276, 276, 276, 276, 276, 500, 500, 500, 500, 257, 257, 257, 257, 257, 29, 29, 29, 29, 174, 174, 174, 174, 476, 476, 476, 476, 103, 103, 103, 103, 103, 528, 528, 528, 528, 528, 168, 168, 168, 168, 168, 38, 38, 38, 38, 38, 168, 168, 168, 168, 168, 69, 69, 69, 69, 511, 511, 511, 511, 113, 113, 113, 113, 231, 231, 231, 231, 231, 408, 408, 408, 408, 408, 151, 151, 151, 151, 151, 491, 491, 491, 491, 491, 491, 491, 491, 491, 491, 22, 22, 22, 22, 22, 276, 276, 276, 276, 276, 42, 42, 42, 42, 42, 268, 268, 268, 268, 268, 139, 139, 139, 139, 139, 71, 71, 71, 71, 101, 101, 101, 101, 101, 277, 277, 277, 277, 86, 86, 86, 86, 86, 142, 142, 142, 142, 276, 276, 276, 276, 68, 68, 68, 68, 207, 207, 207, 207, 207, 101, 101, 101, 101, 101, 86, 86, 86, 86, 86, 303, 303, 303, 303, 139, 139, 139, 139, 139, 246, 246, 246, 246, 552, 552, 552, 552, 383, 383, 383, 383, 383, 536, 536, 536, 536, 536, 401, 401, 401, 401, 42, 42, 42, 42, 42, 448, 448, 448, 448, 381, 381, 381, 381, 381, 53, 53, 53, 53, 53, 159, 159, 159, 159, 159, 355, 355, 355, 355, 458, 458, 458, 458, 458, 502, 502, 502, 502, 502, 122, 122, 122, 122, 98, 98, 98, 98, 98, 139, 139, 139, 139, 548, 548, 548, 548, 487, 487, 487, 487, 487, 388, 388, 388, 388, 373, 373, 373, 373, 373, 62, 62, 62, 62, 510, 510, 510, 510, 510, 42, 42, 42, 42, 42, 531, 531, 531, 531, 531, 66, 66, 66, 66, 478, 478, 478, 478, 478, 103, 103, 103, 103, 22, 22, 22, 22, 22, 168, 168, 168, 168, 168, 442, 442, 442, 442, 422, 422, 422, 422, 465, 465, 465, 465, 465, 464, 464, 464, 464, 464, 276, 276, 276, 276, 276, 234, 234, 234, 234, 320, 320, 320, 320, 320, 510, 510, 510, 510, 510, 76, 76, 76, 76, 17, 17, 17, 17, 458, 458, 458, 458, 458, 188, 188, 188, 188, 188, 38, 38, 38, 38, 38, 168, 168, 168, 168, 168, 101, 101, 101, 101, 101, 109, 109, 109, 109, 175, 175, 175, 175, 175, 43, 43, 43, 43, 13, 13, 13, 13, 175, 175, 175, 175, 175, 122, 122, 122, 122, 122, 462, 462, 462, 462, 394, 394, 394, 394, 456, 456, 456, 456, 456, 496, 496, 496, 496, 496, 184, 184, 184, 184, 437, 437, 437, 437, 437, 264, 264, 264, 264, 264, 24, 24, 24, 24, 547, 547, 547, 547, 348, 348, 348, 348, 276, 276, 276, 276, 276, 164, 164, 164, 164, 120, 120, 120, 120, 158, 158, 158, 158, 491, 491, 491, 491, 491, 9, 9, 9, 9, 215, 215, 215, 215, 497, 497, 497, 497, 349, 349, 349, 349, 465, 465, 465, 465, 465, 383, 383, 383, 383, 383, 276, 276, 276, 276, 276, 167, 167, 167, 167, 22, 22, 22, 22, 22, 268, 268, 268, 268, 268, 52, 52, 52, 52, 19, 19, 19, 19, 19, 74, 74, 74, 74, 16, 16, 16, 16, 470, 470, 470, 470, 470, 519, 519, 519, 519, 168, 168, 168, 168, 168, 139, 139, 139, 139, 139, 479, 479, 479, 479, 479, 397, 397, 397, 397, 70, 70, 70, 70, 38, 38, 38, 38, 38, 15, 15, 15, 15, 458, 458, 458, 458, 458, 230, 230, 230, 230, 0, 0, 0, 0, 147, 147, 147, 147, 147, 364, 364, 364, 364, 364, 22, 22, 22, 22, 22, 442, 442, 442, 442, 442, 276, 276, 276, 276, 276, 474, 474, 474, 474, 538, 538, 538, 538, 280, 280, 280, 280, 280, 185, 185, 185, 185, 185, 49, 49, 49, 49, 160, 160, 160, 160, 187, 187, 187, 187, 45, 45, 45, 45, 22, 22, 22, 22, 22, 551, 551, 551, 551, 211, 211, 211, 211, 211, 4, 4, 4, 4, 464, 464, 464, 464, 464, 182, 182, 182, 182, 182, 12, 12, 12, 12, 12, 458, 458, 458, 458, 458, 314, 314, 314, 314, 314, 314, 314, 314, 314, 314, 42, 42, 42, 42, 42, 352, 352, 352, 216, 216, 216, 216, 298, 298, 298, 298, 298, 314, 314, 314, 314, 314, 498, 498, 498, 498, 273, 273, 273, 273, 273, 139, 139, 139, 139, 139, 136, 136, 136, 136, 136, 276, 276, 276, 276, 276, 25, 25, 25, 25, 183, 183, 183, 183, 513, 513, 513, 513, 513, 438, 438, 438, 438, 209, 209, 209, 209, 21, 21, 21, 21, 104, 104, 104, 104, 314, 314, 314, 314, 314, 445, 445, 445, 445, 86, 86, 86, 86, 482, 482, 482, 482, 456, 456, 456, 168, 168, 168, 168, 168, 202, 202, 202, 202, 202, 101, 101, 101, 101, 101, 276, 276, 276, 276, 276, 258, 258, 258, 258, 82, 82, 82, 82, 38, 38, 38, 38, 38, 77, 77, 77, 77, 252, 252, 252, 252, 85, 85, 85, 85, 28, 28, 28, 28, 103, 103, 103, 103, 103, 168, 168, 168, 168, 168, 34, 34, 34, 34, 364, 364, 364, 364, 364, 38, 38, 38, 38, 38, 505, 505, 505, 505, 208, 208, 208, 208, 208, 22, 22, 22, 22, 22, 548, 548, 548, 548, 548, 206, 206, 206, 206, 206, 449, 449, 449, 449, 103, 103, 103, 103, 103, 232, 232, 232, 232, 386, 386, 386, 386, 5, 5, 5, 5, 5, 168, 168, 168, 168, 168, 211, 211, 211, 211, 211, 141, 141, 141, 141, 194, 194, 194, 194, 194, 168, 168, 168, 168, 168, 19, 19, 19, 19, 177, 177, 177, 177, 257, 257, 257, 257, 357, 357, 357, 357, 469, 469, 469, 469, 168, 168, 168, 168, 168, 276, 276, 276, 276, 276, 49, 49, 49, 49, 49, 42, 42, 42, 42, 42, 450, 450, 450, 450, 353, 353, 353, 353, 139, 139, 139, 139, 139, 73, 73, 73, 73, 198, 198, 198, 198, 237, 237, 237, 237, 417, 417, 417, 417, 417, 502, 502, 502, 502, 502, 436, 436, 436, 436, 436, 264, 264, 264, 264, 264, 515, 515, 515, 515, 259, 259, 259, 259, 276, 276, 276, 276, 276, 101, 101, 101, 101, 101, 42, 42, 42, 42, 42, 510, 510, 510, 510, 510, 16, 16, 16, 16, 16, 478, 478, 478, 478, 478, 409, 409, 409, 409, 518, 518, 518, 518, 510, 510, 510, 510, 510, 22, 22, 22, 22, 22, 421, 421, 421, 421, 351, 351, 351, 351, 351, 136, 136, 136, 136, 38, 38, 38, 38, 38, 437, 437, 437, 437, 437, 22, 22, 22, 22, 22, 375, 375, 375, 375, 502, 502, 502, 502, 502, 42, 42, 42, 42, 42, 168, 168, 168, 168, 168, 381, 381, 381, 381, 1, 1, 1, 1, 496, 496, 496, 496, 496, 314, 314, 314, 314, 22, 22, 22, 22, 22, 196, 196, 196, 196, 477, 477, 477, 477, 477, 377, 377, 377, 377, 101, 101, 101, 101, 101, 468, 468, 468, 468, 491, 491, 491, 491, 491, 264, 264, 264, 264, 314, 314, 314, 314, 314, 51, 51, 51, 51, 214, 214, 214, 214, 154, 154, 154, 154, 154, 387, 387, 387, 387, 292, 292, 292, 292, 292, 211, 211, 211, 211, 211, 28, 28, 28, 28, 28, 280, 280, 280, 280, 280, 39, 39, 39, 39, 19, 19, 19, 19, 19, 311, 311, 311, 311, 89, 89, 89, 89, 30, 30, 30, 30, 30, 314, 314, 314, 314, 314, 427, 427, 427, 427, 427, 541, 541, 541, 541, 541, 406, 406, 406, 406, 103, 103, 103, 103, 103, 52, 52, 52, 52, 52, 300, 300, 300, 300, 300, 31, 31, 31, 31, 284, 284, 284, 284, 284, 168, 168, 168, 168, 168, 496, 496, 496, 496, 465, 465, 465, 465, 465, 298, 298, 298, 298, 298, 273, 273, 273, 273, 273, 415, 415, 415, 415, 415, 140, 140, 140, 140, 442, 442, 442, 442, 442, 405, 405, 405, 405, 58, 58, 58, 58, 361, 361, 361, 361, 361, 544, 544, 544, 544, 544, 379, 379, 379, 379, 359, 359, 359, 359, 456, 456, 456, 456, 211, 211, 211, 211, 211, 168, 168, 168, 168, 168, 358, 358, 358, 358, 473, 473, 473, 473, 473, 298, 298, 298, 298, 101, 101, 101, 101, 101, 8, 8, 8, 8, 8, 42, 42, 42, 42, 42, 80, 80, 80, 80, 361, 361, 361, 361, 361, 280, 280, 280, 280, 19, 19, 19, 19, 19, 298, 298, 298, 298, 298, 42, 42, 42, 42, 42, 302, 302, 302, 302, 103, 103, 103, 103, 103, 473, 473, 473, 473, 473, 470, 470, 470, 470, 470, 510, 510, 510, 510, 510, 405, 405, 405, 405, 405, 38, 38, 38, 38, 38, 208, 208, 208, 208, 208, 178, 178, 178, 178, 488, 488, 488, 488, 442, 442, 442, 442, 442, 377, 377, 377, 377, 377, 154, 154, 154, 154, 154, 103, 103, 103, 103, 103, 343, 343, 343, 343, 194, 194, 194, 194, 194, 202, 202, 202, 202, 202, 139, 139, 139, 139, 139, 383, 383, 383, 383, 383, 170, 170, 170, 170, 122, 122, 122, 122, 122, 124, 124, 124, 124, 124, 454, 454, 454, 454, 419, 419, 419, 419, 419, 94, 94, 94, 94, 404, 404, 404, 404, 404, 369, 369, 369, 369, 193, 193, 193, 193, 168, 168, 168, 168, 168, 531, 531, 531, 531, 531, 463, 463, 463, 463, 463, 427, 427, 427, 427, 427, 221, 221, 221, 221, 221, 87, 87, 87, 87, 491, 491, 491, 491, 491, 540, 540, 540, 540, 364, 364, 364, 364, 364, 514, 514, 514, 514, 514, 154, 154, 154, 154, 326, 326, 326, 326, 489, 489, 489, 489, 489, 101, 101, 101, 101, 101, 513, 513, 513, 513, 513, 35, 35, 35, 35, 485, 485, 485, 485, 470, 470, 470, 470, 470, 78, 78, 78, 78, 175, 175, 175, 175, 175, 117, 117, 117, 117, 152, 152, 152, 152, 279, 279, 279, 279, 279, 462, 462, 462, 462, 462, 356, 356, 356, 356, 427, 427, 427, 427, 427, 101, 101, 101, 101, 101, 11, 11, 11, 11, 11, 12, 12, 12, 12, 168, 168, 168, 168, 168, 157, 157, 157, 157, 524, 524, 524, 524, 365, 365, 365, 365, 365, 512, 512, 512, 512, 536, 536, 536, 536, 536, 22, 22, 22, 22, 22, 374, 374, 374, 374, 427, 427, 427, 427, 300, 300, 300, 300, 300, 405, 405, 405, 405, 405, 442, 442, 442, 442, 442, 168, 168, 168, 168, 168, 272, 272, 272, 272, 364, 364, 364, 364, 364, 67, 67, 67, 67, 144, 144, 144, 144, 147, 147, 147, 147, 147, 125, 125, 125, 125, 250, 250, 250, 250, 124, 124, 124, 124, 124, 289, 289, 289, 289, 26, 26, 26, 26, 442, 442, 442, 442, 442, 483, 483, 483, 483, 460, 460, 460, 460, 57, 57, 57, 57, 531, 531, 531, 531, 531, 347, 347, 347, 347, 155, 155, 155, 155, 314, 314, 314, 314, 314, 481, 481, 481, 481, 481, 50, 50, 50, 50, 464, 464, 464, 464, 464, 520, 520, 520, 520, 520, 513, 513, 513, 513, 171, 171, 171, 171, 478, 478, 478, 478, 331, 331, 331, 331, 442, 442, 442, 442, 442, 103, 103, 103, 103, 103, 179, 179, 179, 179, 208, 208, 208, 208, 208, 192, 192, 192, 192, 192, 389, 389, 389, 389, 168, 168, 168, 168, 168, 2, 2, 2, 2, 38, 38, 38, 38, 38, 227, 227, 227, 227, 227, 443, 443, 443, 443, 107, 107, 107, 107, 107, 442, 442, 442, 442, 442, 241, 241, 241, 241, 434, 434, 434, 434, 100, 100, 100, 100, 100, 342, 342, 342, 342, 342, 301, 301, 301, 301, 188, 188, 188, 188, 188, 188, 188, 188, 188, 188, 419, 419, 419, 419, 419, 239, 239, 239, 239, 22, 22, 22, 22, 22, 334, 334, 334, 334, 333, 333, 333, 333, 333, 426, 426, 426, 426, 426, 456, 456, 456, 456, 456, 419, 419, 419, 419, 419, 300, 300, 300, 300, 300, 56, 56, 56, 56, 56, 126, 126, 126, 126, 465, 465, 465, 465, 465, 194, 194, 194, 194, 194, 114, 114, 114, 114, 114, 191, 191, 191, 191, 191, 38, 38, 38, 38, 38, 282, 282, 282, 282, 282, 256, 256, 256, 256, 297, 297, 297, 297, 23, 23, 23, 23, 436, 436, 436, 436, 436, 417, 417, 417, 417, 417, 211, 211, 211, 211, 211, 36, 36, 36, 36, 508, 508, 508, 508, 222, 222, 222, 222, 10, 10, 10, 10, 411, 411, 411, 411, 484, 484, 484, 484, 321, 321, 321, 321, 321, 339, 339, 339, 339, 367, 367, 367, 367, 147, 147, 147, 147, 147, 446, 446, 446, 446, 273, 273, 273, 273, 463, 463, 463, 463, 463, 304, 304, 304, 304, 304, 153, 153, 153, 153, 153, 413, 413, 413, 413, 384, 384, 384, 384, 536, 536, 536, 536, 306, 306, 306, 306, 531, 531, 531, 531, 532, 532, 532, 532, 479, 479, 479, 479, 462, 462, 462, 462, 462, 304, 304, 304, 304, 304, 22, 22, 22, 22, 22, 281, 281, 281, 281, 475, 475, 475, 475, 298, 298, 298, 298, 298, 404, 404, 404, 404, 284, 284, 284, 284, 284, 310, 310, 310, 310, 367, 367, 367, 367, 367, 168, 168, 168, 168, 168, 8, 8, 8, 8, 8, 408, 408, 408, 408, 342, 342, 342, 342, 342, 163, 163, 163, 163, 100, 100, 100, 100, 100, 213, 213, 213, 213, 213, 531, 531, 531, 531, 531, 221, 221, 221, 221, 265, 265, 265, 265, 265, 335, 335, 335, 335, 299, 299, 299, 299, 143, 143, 143, 143, 105, 105, 105, 105, 314, 314, 314, 314, 314, 153, 153, 153, 153, 416, 416, 416, 416, 448, 448, 448, 448, 448, 314, 314, 314, 314, 314, 202, 202, 202, 202, 268, 268, 268, 268, 268, 53, 53, 53, 53, 240, 240, 240, 240, 244, 244, 244, 244, 550, 550, 550, 550, 550, 328, 328, 328, 328, 463, 463, 463, 463, 253, 253, 253, 253, 550, 550, 550, 550, 550, 370, 370, 370, 370, 300, 300, 300, 300, 300, 466, 466, 466, 466, 466, 313, 313, 313, 313, 5, 5, 5, 5, 164, 164, 164, 164, 164, 169, 169, 169, 169, 188, 188, 188, 188, 188, 316, 316, 316, 316, 213, 213, 213, 213, 213, 148, 148, 148, 148, 541, 541, 541, 541, 55, 55, 55, 55, 55, 236, 236, 236, 236, 236, 72, 72, 72, 72, 536, 536, 536, 536, 536, 42, 42, 42, 42, 286, 286, 286, 286, 226, 226, 226, 226, 465, 465, 465, 465, 465, 527, 527, 527, 527, 489, 489, 489, 489, 489, 414, 414, 414, 414, 244, 244, 244, 244, 244, 127, 127, 127, 127, 296, 296, 296, 296, 304, 304, 304, 304, 304, 225, 225, 225, 225, 201, 201, 201, 201, 276, 276, 276, 276, 276, 368, 368, 368, 368, 42, 42, 42, 42, 42, 556, 556, 556, 556, 535, 535, 535, 535, 183, 183, 183, 183, 183, 14, 14, 14, 14, 14, 265, 265, 265, 265, 151, 151, 151, 151, 217, 217, 217, 217, 48, 48, 48, 48, 199, 199, 199, 199, 53, 53, 53, 53, 53, 481, 481, 481, 481, 477, 477, 477, 477, 283, 283, 283, 283, 303, 303, 303, 303, 303, 541, 541, 541, 541, 541, 314, 314, 314, 314, 314, 337, 337, 337, 337, 221, 221, 221, 221, 221, 419, 419, 419, 419, 442, 442, 442, 442, 442, 107, 107, 107, 107, 107, 480, 480, 480, 480, 480, 268, 268, 268, 268, 314, 314, 314, 314, 314, 282, 282, 282, 282, 282, 308, 308, 308, 308, 38, 38, 38, 38, 38, 60, 60, 60, 60, 329, 329, 329, 329, 329, 212, 212, 212, 212, 442, 442, 442, 442, 442, 145, 145, 145, 145, 235, 235, 235, 235, 276, 276, 276, 276, 276, 182, 182, 182, 182, 42, 42, 42, 42, 42, 274, 274, 274, 274, 122, 122, 122, 122, 122, 205, 205, 205, 205, 489, 489, 489, 489, 489, 260, 260, 260, 260, 342, 342, 342, 342, 468, 468, 468, 468, 468, 302, 302, 302, 302, 302, 393, 393, 393, 393, 393, 477, 477, 477, 477, 477, 150, 150, 150, 150, 42, 42, 42, 42, 42, 492, 492, 492, 492, 307, 307, 307, 307, 548, 548, 548, 548, 548, 442, 442, 442, 442, 442, 442, 442, 442, 442, 442, 361, 361, 361, 361, 361, 314, 314, 314, 314, 314, 132, 132, 132, 452, 452, 452, 452, 531, 531, 531, 531, 531, 487, 487, 487, 487, 487, 262, 262, 262, 262, 506, 506, 506, 506, 298, 298, 298, 298, 298, 407, 407, 407, 407, 442, 442, 442, 442, 442, 84, 84, 84, 84, 42, 42, 42, 42, 42, 168, 168, 168, 168, 168, 350, 350, 350, 350, 350, 242, 242, 242, 242, 42, 42, 42, 42, 42, 18, 18, 18, 18, 303, 303, 303, 303, 303, 282, 282, 282, 282, 282, 261, 261, 261, 261, 227, 227, 227, 227, 300, 300, 300, 300, 300, 168, 168, 168, 168, 168, 42, 42, 42, 42, 42, 168, 168, 168, 168, 168, 251, 251, 251, 251, 322, 322, 322, 322, 229, 229, 229, 229, 432, 432, 432, 432, 432, 221, 221, 221, 221, 221, 533, 533, 533, 533, 41, 41, 41, 41, 143, 143, 143, 143, 143, 418, 418, 418, 418, 83, 83, 83, 83, 455, 455, 455, 455, 455, 121, 121, 121, 121, 121, 284, 284, 284, 284, 115, 115, 115, 115, 470, 470, 470, 470, 470, 147, 147, 147, 147, 255, 255, 255, 255, 255, 208, 208, 208, 208, 208, 103, 103, 103, 103, 103, 260, 260, 260, 260, 260, 142, 142, 142, 142, 142, 329, 329, 329, 329, 292, 292, 292, 292, 309, 309, 309, 309, 432, 432, 432, 432, 432, 107, 107, 107, 107, 107, 553, 553, 553, 553, 468, 468, 468, 468, 468, 192, 192, 192, 192, 373, 373, 373, 373, 455, 455, 455, 455, 455, 531, 531, 531, 531, 531, 64, 64, 64, 64, 159, 159, 159, 159, 159, 436, 436, 436, 436, 165, 165, 165, 165, 231, 231, 231, 231, 63, 63, 63, 63, 357, 357, 357, 357, 357, 110, 110, 110, 110, 442, 442, 442, 442, 442, 436, 436, 436, 436, 436, 30, 30, 30, 30, 30, 383, 383, 383, 383, 504, 504, 504, 504, 504, 62, 62, 62, 62, 62, 22, 22, 22, 22, 22, 138, 138, 138, 138, 168, 168, 168, 168, 168, 103, 103, 103, 103, 103, 377, 377, 377, 377, 377, 517, 517, 517, 517, 517, 98, 98, 98, 98, 98, 22, 22, 22, 22, 442, 442, 442, 442, 442, 185, 185, 185, 185, 378, 378, 378, 378, 208, 208, 208, 208, 208, 473, 473, 473, 473, 473, 206, 206, 206, 206, 314, 314, 314, 314, 314, 503, 503, 503, 503, 556, 556, 556, 556, 556, 103, 103, 103, 103, 103, 38, 38, 38, 38, 38, 32, 32, 32, 32, 227, 227, 227, 227, 227, 393, 393, 393, 393, 463, 463, 463, 463, 463, 243, 243, 243, 243, 42, 42, 42, 42, 42, 432, 432, 432, 432, 432, 346, 346, 346, 346, 467, 467, 467, 467, 467, 139, 139, 139, 139, 139, 432, 432, 432, 432, 491, 491, 491, 491, 491, 477, 477, 477, 477, 477, 62, 62, 62, 62, 62, 451, 451, 451, 451, 362, 362, 362, 362, 176, 176, 176, 176, 314, 314, 314, 314, 314, 221, 221, 221, 221, 221, 175, 175, 175, 175, 266, 266, 266, 266, 501, 501, 501, 501, 516, 516, 516, 516, 102, 102, 102, 102, 489, 489, 489, 489, 534, 534, 534, 534, 213, 213, 213, 213, 213, 287, 287, 287, 287, 124, 124, 124, 124, 124, 456, 456, 456, 456, 456, 472, 472, 472, 472, 367, 367, 367, 367, 367, 393, 393, 393, 393, 393, 480, 480, 480, 480, 124, 124, 124, 124, 124, 300, 300, 300, 300, 300, 330, 330, 330, 330, 311, 311, 311, 311, 311, 426, 426, 426, 426, 426, 130, 130, 130, 130, 523, 523, 523, 523, 173, 173, 173, 173, 444, 444, 444, 444, 544, 544, 544, 544, 366, 366, 366, 366, 487, 487, 487, 487, 487, 479, 479, 479, 479, 479, 213, 213, 213, 213, 213, 490, 490, 490, 490, 490, 288, 288, 288, 288, 38, 38, 38, 38, 441, 441, 441, 441, 554, 554, 554, 554, 79, 79, 79, 79, 79, 168, 168, 168, 168, 168, 231, 231, 231, 231, 231, 489, 489, 489, 489, 489, 191, 191, 191, 191, 211, 211, 211, 211, 211, 439, 439, 439, 439, 16, 16, 16, 16, 16, 321, 321, 321, 321, 317, 317, 317, 317, 430, 430, 430, 430, 11, 11, 11, 11, 11, 103, 103, 103, 103, 103, 426, 426, 426, 426, 426, 365, 365, 365, 365, 96, 96, 96, 96, 531, 531, 531, 531, 531, 470, 470, 470, 470, 502, 502, 502, 502, 271, 271, 271, 271, 479, 479, 479, 479, 479, 38, 38, 38, 38, 38, 47, 47, 47, 47, 47, 531, 531, 531, 531, 531, 53, 53, 53, 53, 53, 300, 300, 300, 300, 300, 521, 521, 521, 521, 361, 361, 361, 361, 361, 221, 221, 221, 221, 221, 168, 168, 168, 168, 333, 333, 333, 333, 473, 473, 473, 473, 211, 211, 211, 211, 211, 62, 62, 62, 62, 62, 442, 442, 442, 442, 442, 424, 424, 424, 424, 211, 211, 211, 211, 211, 496, 496, 496, 496, 496, 383, 383, 383, 383, 383, 100, 100, 100, 100, 100, 305, 305, 305, 305, 121, 121, 121, 121, 121, 489, 489, 489, 489, 489, 253, 253, 253, 253, 253, 22, 22, 22, 22, 22, 354, 354, 354, 354, 211, 211, 211, 211, 211, 168, 168, 168, 168, 426, 426, 426, 426, 426, 33, 33, 33, 33, 364, 364, 364, 364, 464, 464, 464, 464, 464, 280, 280, 280, 280, 280, 456, 456, 456, 456, 456, 92, 92, 92, 92, 100, 100, 100, 100, 100, 404, 404, 404, 404, 404, 181, 181, 181, 181, 54, 54, 54, 54, 350, 350, 350, 350, 502, 502, 502, 502, 502, 507, 507, 507, 507, 269, 269, 269, 269, 390, 390, 390, 390, 146, 146, 146, 146, 279, 279, 279, 279, 550, 550, 550, 550, 432, 432, 432, 432, 432, 540, 540, 540, 540, 540, 417, 417, 417, 417, 300, 300, 300, 300, 300, 423, 423, 423, 423, 415, 415, 415, 415, 415, 530, 530, 530, 530, 207, 207, 207, 207, 207, 156, 156, 156, 156, 442, 442, 442, 442, 442, 401, 401, 401, 401, 401, 276, 276, 276, 276, 276, 102, 102, 102, 102, 102, 282, 282, 282, 282, 282, 491, 491, 491, 491, 491, 37, 37, 37, 37, 37, 291, 291, 291, 291, 251, 251, 251, 251, 251, 139, 139, 139, 139, 139, 139, 139, 139, 139, 139, 251, 251, 251, 251, 251, 139, 139, 139, 139, 139, 40, 40, 40, 40, 145, 145, 145, 145, 145, 493, 493, 493, 493, 354, 354, 354, 354, 354, 194, 194, 194, 194, 194, 544, 544, 544, 544, 544, 393, 393, 393, 393, 393, 505, 505, 505, 505, 505, 211, 211, 211, 211, 211, 159, 159, 159, 159, 200, 200, 200, 200, 238, 238, 238, 238, 295, 295, 295, 295, 221, 221, 221, 221, 221, 383, 383, 383, 383, 383, 458, 458, 458, 458, 458, 161, 161, 161, 161, 442, 442, 442, 442, 442, 124, 124, 124, 124, 285, 285, 285, 285, 435, 435, 435, 435, 435, 447, 447, 447, 447, 392, 392, 392, 392, 517, 517, 517, 517, 188, 188, 188, 188, 20, 20, 20, 20, 442, 442, 442, 442, 442, 342, 342, 342, 342, 342, 7, 7, 7, 7, 385, 385, 385, 385, 385, 221, 221, 221, 221, 221, 418, 418, 418, 418, 418, 531, 531, 531, 531, 531, 248, 248, 248, 248, 101, 101, 101, 101, 100, 100, 100, 100, 100, 314, 314, 314, 314, 314, 442, 442, 442, 442, 442, 194, 194, 194, 194, 194, 62, 62, 62, 62, 62, 442, 442, 442, 442, 442, 300, 300, 300, 300, 300, 164, 164, 164, 164, 164, 385, 385, 385, 385, 522, 522, 522, 522, 270, 270, 270, 270, 211, 211, 211, 211, 211, 490, 490, 490, 490, 396, 396, 396, 396, 6, 6, 6, 6, 62, 62, 62, 62, 62, 8, 8, 8, 8, 8, 143, 143, 143, 143, 143, 107, 107, 107, 107, 107, 260, 260, 260, 260, 260, 380, 380, 380, 380, 107, 107, 107, 107, 107, 166, 166, 166, 166, 531, 531, 531, 531, 531, 109, 109, 109, 109, 109, 93, 93, 93, 93, 433, 433, 433, 433, 433, 38, 38, 38, 38, 38, 213, 213, 213, 213, 213, 105, 105, 105, 105, 105, 544, 544, 544, 544, 544, 213, 213, 213, 213, 213, 336, 336, 336, 336, 22, 22, 22, 22, 22, 304, 304, 304, 304, 304, 298, 298, 298, 298, 298, 435, 435, 435, 435, 97, 97, 97, 97, 487, 487, 487, 487, 282, 282, 282, 282, 490, 490, 490, 490, 490, 221, 221, 221, 221, 221, 491, 491, 491, 491, 500, 500, 500, 500, 500, 314, 314, 314, 314, 314, 30, 30, 30, 30, 249, 249, 249, 249, 425, 425, 425, 425, 190, 190, 190, 190, 46, 46, 46, 46, 224, 224, 224, 224, 168, 168, 168, 168, 168, 344, 344, 344, 344, 510, 510, 510, 510, 510, 147, 147, 147, 147, 147, 410, 410, 410, 410, 195, 195, 195, 195, 555, 555, 555, 555, 351, 351, 351, 351, 149, 149, 149, 149, 90, 90, 90, 90, 81, 81, 81, 81, 489, 489, 489, 489, 489, 275, 275, 275, 275, 62, 62, 62, 62, 62, 124, 124, 124, 124, 124, 402, 402, 402, 402, 189, 189, 189, 189, 194, 194, 194, 194, 19, 19, 19, 19, 19, 455, 455, 455, 455, 455, 42, 42, 42, 42, 42, 550, 550, 550, 550, 119, 119, 119, 119, 38, 38, 38, 38, 38, 293, 293, 293, 293, 168, 168, 168, 168, 168, 100, 100, 100, 100, 64, 64, 64, 64, 64, 536, 536, 536, 536, 536, 426, 426, 426, 426, 260, 260, 260, 260, 260, 442, 442, 442, 442, 442, 442, 442, 442, 442, 319, 319, 319, 319, 42, 42, 42, 42, 42, 22, 22, 22, 22, 22, 546, 546, 546, 546, 405, 405, 405, 405, 405, 227, 227, 227, 227, 227, 351, 351, 351, 351, 162, 162, 162, 162, 502, 502, 502, 502, 502, 91, 91, 91, 91, 213, 213, 213, 213, 213, 467, 467, 467, 467, 489, 489, 489, 489, 489, 489, 489, 489, 489, 489, 431, 431, 431, 431, 304, 304, 304, 304, 304, 210, 210, 210, 459, 459, 459, 459, 459, 64, 64, 64, 64, 64, 529, 529, 529, 529, 479, 479, 479, 479, 479, 465, 465, 465, 465, 168, 168, 168, 168, 168, 42, 42, 42, 42, 42, 172, 172, 172, 172, 477, 477, 477, 477, 477, 542, 542, 542, 542, 42, 42, 42, 42, 42, 556, 556, 556, 556, 556, 223, 223, 223, 223, 38, 38, 38, 38, 38, 434, 434, 434, 434, 434, 56, 56, 56, 56, 300, 300, 300, 300, 300, 211, 211, 211, 211, 211, 536, 536, 536, 536, 536, 207, 207, 207, 207, 290, 290, 290, 290, 211, 211, 211, 211, 211, 531, 531, 531, 531, 531, 514, 514, 514, 382, 382, 382, 382, 539, 539, 539, 539, 11, 11, 11, 64, 64, 64, 64, 64, 278, 278, 278, 278, 537, 537, 537, 537, 464, 464, 464, 464, 204, 204, 204, 204, 75, 75, 75, 75, 491, 491, 491, 491, 491, 536, 536, 536, 536, 536, 191, 191, 191, 191, 191, 434, 434, 434, 434, 434, 316, 316, 316, 316, 316, 314, 314, 314, 314, 314, 330, 330, 330, 330, 330, 442, 442, 442, 442, 442, 473, 473, 473, 473, 473, 65, 65, 65, 65, 164, 164, 164, 164, 164, 168, 168, 168, 168, 168, 512, 512, 512, 512, 512, 231, 231, 231, 231, 231, 180, 180, 180, 180, 42, 42, 42, 42, 42, 473, 473, 473, 473, 473, 139, 139, 139, 139, 139, 550, 550, 550, 550, 550, 24, 24, 24, 24, 24, 106, 106, 106, 106, 461, 461, 461, 461, 135, 135, 135, 135, 377, 377, 377, 377, 377, 273, 273, 273, 273, 273, 424, 424, 424, 424, 424, 403, 403, 403, 403, 111, 111, 111, 111, 391, 391, 391, 391, 361, 361, 361, 361, 47, 47, 47, 47, 434, 434, 434, 434, 434, 400, 400, 400, 400, 96, 96, 96, 96, 96, 523, 523, 523, 523, 523, 314, 314, 314, 314, 314, 329, 329, 329, 329, 329, 304, 304, 304, 304, 442, 442, 442, 442, 442, 525, 525, 525, 525, 525, 134, 134, 134, 134, 495, 495, 495, 495, 517, 517, 517, 517, 517, 273, 273, 273, 273, 273, 477, 477, 477, 477, 477, 300, 300, 300, 300, 95, 95, 95, 95, 341, 341, 341, 341, 64, 64, 64, 64, 64, 550, 550, 550, 550, 550, 197, 197, 197, 197, 345, 345, 345, 345, 99, 99, 99, 99, 372, 372, 372, 372, 121, 121, 121, 121, 121, 294, 294, 294, 294, 415, 415, 415, 415, 415, 340, 340, 340, 340, 420, 420, 420, 420, 129, 129, 129, 129, 303, 303, 303, 303, 303, 220, 220, 220, 220, 19, 19, 19, 19, 19, 14, 14, 14, 14, 474, 474, 474, 474, 474, 101, 101, 101, 101, 101, 22, 22, 22, 22, 22, 526, 526, 526, 526, 221, 221, 221, 221, 221, 113, 113, 113, 113, 113, 361, 361, 361, 361, 361, 466, 466, 466, 466, 466, 415, 415, 415, 415, 318, 318, 318, 318, 442, 442, 442, 442, 442, 556, 556, 556, 556, 556, 131, 131, 131, 131, 208, 208, 208, 208, 185, 185, 185, 185, 185, 545, 545, 545, 545, 79, 79, 79, 79, 412, 412, 412, 412, 124, 124, 124, 124, 124, 489, 489, 489, 489, 489, 3, 3, 3, 3, 202, 202, 202, 202, 202, 479, 479, 479, 479, 479, 395, 395, 395, 395, 6, 6, 6, 6, 6, 281, 281, 281, 281, 281, 247, 247, 247, 38, 38, 38, 38, 38, 23, 23, 23, 23, 23, 62, 62, 62, 62, 62, 22, 22, 22, 22, 22, 455, 455, 455, 455, 455, 211, 211, 211, 211, 211, 486, 486, 486, 486, 42, 42, 42, 42, 42, 499, 499, 499, 504, 504, 504, 504, 108, 108, 108, 108, 208, 208, 208, 208, 208, 137, 137, 137, 137, 533, 533, 533, 533, 533, 118, 118, 118, 118, 312, 312, 312, 312, 208, 208, 208, 208, 208, 398, 398, 398, 398, 320, 320, 320, 320, 324, 324, 324, 324, 168, 168, 168, 168, 168, 192, 192, 192, 192, 192, 121, 121, 121, 121, 502, 502, 502, 502, 502, 531, 531, 531, 531, 531, 376, 376, 376, 376, 440, 440, 440, 440, 462, 462, 462, 462, 442, 442, 442, 442, 442, 327, 327, 327, 327, 435, 435, 435, 435, 435, 477, 477, 477, 477, 477, 52, 52, 52, 52, 52, 218, 218, 218, 218, 107, 107, 107, 107, 107, 429, 429, 429, 429, 61, 61, 61, 61, 188, 188, 188, 188, 188, 213, 213, 213, 213, 27, 27, 27, 27, 471, 471, 471, 471, 442, 442, 442, 442, 442, 325, 325, 325, 325, 494, 494, 494, 494, 489, 489, 489, 489, 489, 116, 116, 116, 116, 254, 254, 254, 254, 442, 442, 442, 442, 442, 238, 238, 238, 238, 238, 399, 399, 399, 399, 433, 433, 433, 433, 528, 528, 528, 528, 186, 186, 186, 186, 245, 245, 245, 245, 434, 434, 434, 434, 133, 133, 133, 133, 420, 420, 420, 420, 420, 81, 81, 81, 81, 81, 88, 88, 88, 88, 114, 114, 114, 114, 128, 128, 128, 128, 427, 427, 427, 427, 427, 543, 543, 543, 543, 213, 213, 213, 213, 213, 16, 16, 16, 16, 16, 549, 549, 549, 549, 549, 428, 428, 428, 428, 22, 22, 22, 22, 22, 432, 432, 432, 432, 432, 549, 549, 549, 549, 103, 103, 103, 103, 103, 203, 203, 203, 203, 393, 393, 393, 393, 393, 219, 219, 219, 219, 98, 98, 98, 98, 98, 206, 206, 206, 206, 206, 548, 548, 548, 548, 548, 211, 211, 211, 211, 211, 514, 514, 514, 514, 514, 263, 263, 263, 263, 154, 154, 154, 154, 154, 351, 351, 351, 351, 351, 211, 211, 211, 211, 211, 502, 502, 502, 502, 502, 211, 211, 211, 211, 453, 453, 453, 453, 517, 517, 517, 517, 517, 44, 44, 44, 44, 459, 459, 459, 459, 371, 371, 371, 371, 314, 314, 314, 314, 314, 123, 123, 123, 123, 136, 136, 136, 136, 136, 14, 14, 14, 14, 14, 30, 30, 30, 30, 30, 466, 466, 466, 466, 315, 315, 315, 315, 8, 8, 8, 8, 38, 38, 38, 38, 38, 221, 221, 221, 221, 221, 314, 314, 314, 314, 314, 112, 112, 112, 112, 109, 109, 109, 109, 109, 8, 8, 8, 8, 8, 55, 55, 55, 55, 364, 364, 364, 364, 364, 502, 502, 502, 502, 502, 525, 525, 525, 525, 303, 303, 303, 303, 303, 531, 531, 531, 531, 531, 291, 291, 291, 291, 291, 255, 255, 255, 255, 458, 458, 458, 458, 458, 431, 431, 431, 431, 431, 455, 455, 455, 455, 455, 509, 509, 509, 509, 42, 42, 42, 42, 42, 211, 211, 211, 211, 211, 455, 455, 455, 455] as keyword args. From version 0.25 passing these as positional arguments will result in an error\n",
      "  warnings.warn(\"Pass {} as keyword args. From version 0.25 \"\n"
     ]
    },
    {
     "name": "stdout",
     "output_type": "stream",
     "text": [
      "0.1436265709156194\n"
     ]
    }
   ],
   "source": [
    "data_train=np.concatenate((X_c, Y_c), axis=1)\n",
    "\n",
    "#     data_train = filteredMOAs.loc[train_index,domXfeats].values;\n",
    "labels_train=filteredMOAs.loc[train_index,'Metadata_moa_num'].tolist()\n",
    "\n",
    "data_test_l1k = filteredMOAs.loc[test_index,l1k_features].values;\n",
    "data_test_cp = filteredMOAs.loc[test_index,cp_features].values;    \n",
    "X_c, Y_c = cca.transform(data_test_l1k, data_test_cp)    \n",
    "data_test=np.concatenate((X_c, Y_c), axis=1)\n",
    "\n",
    "labels_test=filteredMOAs.loc[test_index,'Metadata_moa_num'].tolist()\n",
    "\n",
    "class_weightt = class_weight.compute_class_weight('balanced',np.unique(labels_train),labels_train)    \n",
    "#         model_tr = RandomForestClassifier(n_estimators=10,max_features=100,class_weight=\"balanced\")\n",
    "model_tr = LogisticRegression(multi_class='ovr',n_jobs=100,max_iter=1000,class_weight=class_weightt)\n",
    "model_tr.fit(data_train,labels_train)\n",
    "print((model_tr.score(data_test,labels_test)))"
   ]
  },
  {
   "cell_type": "code",
   "execution_count": 265,
   "metadata": {},
   "outputs": [
    {
     "name": "stderr",
     "output_type": "stream",
     "text": [
      "/home/ubuntu/anaconda3/lib/python3.8/site-packages/sklearn/utils/validation.py:68: FutureWarning: Pass classes=[  0   1   2   3   4   5   6   7   8   9  10  11  12  13  14  15  16  17\n",
      "  18  19  20  21  22  23  24  25  26  27  28  29  30  31  32  33  34  35\n",
      "  36  37  38  39  40  41  42  43  44  45  46  47  48  49  50  51  52  53\n",
      "  54  55  56  57  58  59  60  61  62  63  64  65  66  67  68  69  70  71\n",
      "  72  73  74  75  76  77  78  79  80  81  82  83  84  85  86  87  88  89\n",
      "  90  91  92  93  94  95  96  97  98  99 100 101 102 103 104 105 106 107\n",
      " 108 109 110 111 112 113 114 115 116 117 118 119 120 121 122 123 124 125\n",
      " 126 127 128 129 130 131 132 133 134 135 136 137 138 139 140 141 142 143\n",
      " 144 145 146 147 148 149 150 151 152 153 154 155 156 157 158 159 160 161\n",
      " 162 163 164 165 166 167 168 169 170 171 172 173 174 175 176 177 178 179\n",
      " 180 181 182 183 184 185 186 187 188 189 190 191 192 193 194 195 196 197\n",
      " 198 199 200 201 202 203 204 205 206 207 208 209 210 211 212 213 214 215\n",
      " 216 217 218 219 220 221 222 223 224 225 226 227 228 229 230 231 232 233\n",
      " 234 235 236 237 238 239 240 241 242 243 244 245 246 247 248 249 250 251\n",
      " 252 253 254 255 256 257 258 259 260 261 262 263 264 265 266 267 268 269\n",
      " 270 271 272 273 274 275 276 277 278 279 280 281 282 283 284 285 286 287\n",
      " 288 289 290 291 292 293 294 295 296 297 298 299 300 301 302 303 304 305\n",
      " 306 307 308 309 310 311 312 313 314 315 316 317 318 319 320 321 322 323\n",
      " 324 325 326 327 328 329 330 331 332 333 334 335 336 337 338 339 340 341\n",
      " 342 343 344 345 346 347 348 349 350 351 352 353 354 355 356 357 358 359\n",
      " 360 361 362 363 364 365 366 367 368 369 370 371 372 373 374 375 376 377\n",
      " 378 379 380 381 382 383 384 385 386 387 388 389 390 391 392 393 394 395\n",
      " 396 397 398 399 400 401 402 403 404 405 406 407 408 409 410 411 412 413\n",
      " 414 415 416 417 418 419 420 421 422 423 424 425 426 427 428 429 430 431\n",
      " 432 433 434 435 436 437 438 439 440 441 442 443 444 445 446 447 448 449\n",
      " 450 451 452 453 454 455 456 457 458 459 460 461 462 463 464 465 466 467\n",
      " 468 469 470 471 472 473 474 475 476 477 478 479 480 481 482 483 484 485\n",
      " 486 487 488 489 490 491 492 493 494 495 496 497 498 499 500 501 502 503\n",
      " 504 505 506 507 508 509 510 511 512 513 514 515 516 517 518 519 520 521\n",
      " 522 523 524 525 526 527 528 529 530 531 532 533 534 535 536 537 538 539\n",
      " 540 541 542 543 544 545 546 547 548 549 550 551 552 553 554 555 556], y=[332, 332, 332, 332, 510, 510, 510, 510, 398, 398, 398, 398, 22, 22, 22, 22, 22, 381, 381, 381, 381, 381, 502, 502, 502, 502, 502, 42, 42, 42, 42, 42, 139, 139, 139, 139, 139, 233, 233, 233, 233, 38, 38, 38, 38, 38, 211, 211, 211, 211, 211, 457, 457, 457, 457, 236, 236, 236, 236, 306, 306, 306, 306, 306, 42, 42, 42, 42, 42, 121, 121, 121, 121, 121, 314, 314, 314, 314, 314, 217, 217, 217, 217, 217, 338, 338, 338, 338, 138, 138, 138, 138, 138, 385, 385, 385, 385, 385, 536, 536, 536, 536, 536, 98, 98, 98, 98, 98, 42, 42, 42, 42, 42, 42, 42, 42, 42, 42, 42, 42, 42, 42, 42, 211, 211, 211, 211, 211, 267, 267, 267, 267, 55, 55, 55, 55, 55, 228, 228, 228, 228, 98, 98, 98, 98, 460, 460, 460, 460, 460, 502, 502, 502, 502, 502, 139, 139, 139, 139, 139, 520, 520, 520, 520, 303, 303, 303, 303, 303, 42, 42, 42, 42, 42, 42, 42, 42, 42, 42, 491, 491, 491, 491, 491, 42, 42, 42, 42, 42, 323, 323, 323, 323, 107, 107, 107, 107, 103, 103, 103, 103, 103, 360, 360, 360, 360, 489, 489, 489, 489, 489, 59, 59, 59, 59, 437, 437, 437, 437, 276, 276, 276, 276, 276, 42, 42, 42, 42, 42, 37, 37, 37, 37, 231, 231, 231, 231, 231, 458, 458, 458, 458, 363, 363, 363, 363, 491, 491, 491, 491, 491, 496, 496, 496, 496, 496, 276, 276, 276, 276, 276, 500, 500, 500, 500, 257, 257, 257, 257, 257, 29, 29, 29, 29, 174, 174, 174, 174, 476, 476, 476, 476, 103, 103, 103, 103, 103, 528, 528, 528, 528, 528, 168, 168, 168, 168, 168, 38, 38, 38, 38, 38, 168, 168, 168, 168, 168, 69, 69, 69, 69, 511, 511, 511, 511, 113, 113, 113, 113, 231, 231, 231, 231, 231, 408, 408, 408, 408, 408, 151, 151, 151, 151, 151, 491, 491, 491, 491, 491, 491, 491, 491, 491, 491, 22, 22, 22, 22, 22, 276, 276, 276, 276, 276, 42, 42, 42, 42, 42, 268, 268, 268, 268, 268, 139, 139, 139, 139, 139, 71, 71, 71, 71, 101, 101, 101, 101, 101, 277, 277, 277, 277, 86, 86, 86, 86, 86, 142, 142, 142, 142, 276, 276, 276, 276, 68, 68, 68, 68, 207, 207, 207, 207, 207, 101, 101, 101, 101, 101, 86, 86, 86, 86, 86, 303, 303, 303, 303, 139, 139, 139, 139, 139, 246, 246, 246, 246, 552, 552, 552, 552, 383, 383, 383, 383, 383, 536, 536, 536, 536, 536, 401, 401, 401, 401, 42, 42, 42, 42, 42, 448, 448, 448, 448, 381, 381, 381, 381, 381, 53, 53, 53, 53, 53, 159, 159, 159, 159, 159, 355, 355, 355, 355, 458, 458, 458, 458, 458, 502, 502, 502, 502, 502, 122, 122, 122, 122, 98, 98, 98, 98, 98, 139, 139, 139, 139, 548, 548, 548, 548, 487, 487, 487, 487, 487, 388, 388, 388, 388, 373, 373, 373, 373, 373, 62, 62, 62, 62, 510, 510, 510, 510, 510, 42, 42, 42, 42, 42, 531, 531, 531, 531, 531, 66, 66, 66, 66, 478, 478, 478, 478, 478, 103, 103, 103, 103, 22, 22, 22, 22, 22, 168, 168, 168, 168, 168, 442, 442, 442, 442, 422, 422, 422, 422, 465, 465, 465, 465, 465, 464, 464, 464, 464, 464, 276, 276, 276, 276, 276, 234, 234, 234, 234, 320, 320, 320, 320, 320, 510, 510, 510, 510, 510, 76, 76, 76, 76, 17, 17, 17, 17, 458, 458, 458, 458, 458, 188, 188, 188, 188, 188, 38, 38, 38, 38, 38, 168, 168, 168, 168, 168, 101, 101, 101, 101, 101, 109, 109, 109, 109, 175, 175, 175, 175, 175, 43, 43, 43, 43, 13, 13, 13, 13, 175, 175, 175, 175, 175, 122, 122, 122, 122, 122, 462, 462, 462, 462, 394, 394, 394, 394, 456, 456, 456, 456, 456, 496, 496, 496, 496, 496, 184, 184, 184, 184, 437, 437, 437, 437, 437, 264, 264, 264, 264, 264, 24, 24, 24, 24, 547, 547, 547, 547, 348, 348, 348, 348, 276, 276, 276, 276, 276, 164, 164, 164, 164, 120, 120, 120, 120, 158, 158, 158, 158, 491, 491, 491, 491, 491, 9, 9, 9, 9, 215, 215, 215, 215, 497, 497, 497, 497, 349, 349, 349, 349, 465, 465, 465, 465, 465, 383, 383, 383, 383, 383, 276, 276, 276, 276, 276, 167, 167, 167, 167, 22, 22, 22, 22, 22, 268, 268, 268, 268, 268, 52, 52, 52, 52, 19, 19, 19, 19, 19, 74, 74, 74, 74, 16, 16, 16, 16, 470, 470, 470, 470, 470, 519, 519, 519, 519, 168, 168, 168, 168, 168, 139, 139, 139, 139, 139, 479, 479, 479, 479, 479, 397, 397, 397, 397, 70, 70, 70, 70, 38, 38, 38, 38, 38, 15, 15, 15, 15, 458, 458, 458, 458, 458, 230, 230, 230, 230, 0, 0, 0, 0, 147, 147, 147, 147, 147, 364, 364, 364, 364, 364, 22, 22, 22, 22, 22, 442, 442, 442, 442, 442, 276, 276, 276, 276, 276, 474, 474, 474, 474, 538, 538, 538, 538, 280, 280, 280, 280, 280, 185, 185, 185, 185, 185, 49, 49, 49, 49, 160, 160, 160, 160, 187, 187, 187, 187, 45, 45, 45, 45, 22, 22, 22, 22, 22, 551, 551, 551, 551, 211, 211, 211, 211, 211, 4, 4, 4, 4, 464, 464, 464, 464, 464, 182, 182, 182, 182, 182, 12, 12, 12, 12, 12, 458, 458, 458, 458, 458, 314, 314, 314, 314, 314, 314, 314, 314, 314, 314, 42, 42, 42, 42, 42, 352, 352, 352, 216, 216, 216, 216, 298, 298, 298, 298, 298, 314, 314, 314, 314, 314, 498, 498, 498, 498, 273, 273, 273, 273, 273, 139, 139, 139, 139, 139, 136, 136, 136, 136, 136, 276, 276, 276, 276, 276, 25, 25, 25, 25, 183, 183, 183, 183, 513, 513, 513, 513, 513, 438, 438, 438, 438, 209, 209, 209, 209, 21, 21, 21, 21, 104, 104, 104, 104, 314, 314, 314, 314, 314, 445, 445, 445, 445, 86, 86, 86, 86, 482, 482, 482, 482, 456, 456, 456, 168, 168, 168, 168, 168, 202, 202, 202, 202, 202, 101, 101, 101, 101, 101, 276, 276, 276, 276, 276, 258, 258, 258, 258, 82, 82, 82, 82, 38, 38, 38, 38, 38, 77, 77, 77, 77, 252, 252, 252, 252, 85, 85, 85, 85, 28, 28, 28, 28, 103, 103, 103, 103, 103, 168, 168, 168, 168, 168, 34, 34, 34, 34, 364, 364, 364, 364, 364, 38, 38, 38, 38, 38, 505, 505, 505, 505, 208, 208, 208, 208, 208, 22, 22, 22, 22, 22, 548, 548, 548, 548, 548, 206, 206, 206, 206, 206, 449, 449, 449, 449, 103, 103, 103, 103, 103, 232, 232, 232, 232, 386, 386, 386, 386, 5, 5, 5, 5, 5, 168, 168, 168, 168, 168, 211, 211, 211, 211, 211, 141, 141, 141, 141, 194, 194, 194, 194, 194, 168, 168, 168, 168, 168, 19, 19, 19, 19, 177, 177, 177, 177, 257, 257, 257, 257, 357, 357, 357, 357, 469, 469, 469, 469, 168, 168, 168, 168, 168, 276, 276, 276, 276, 276, 49, 49, 49, 49, 49, 42, 42, 42, 42, 42, 450, 450, 450, 450, 353, 353, 353, 353, 139, 139, 139, 139, 139, 73, 73, 73, 73, 198, 198, 198, 198, 237, 237, 237, 237, 417, 417, 417, 417, 417, 502, 502, 502, 502, 502, 436, 436, 436, 436, 436, 264, 264, 264, 264, 264, 515, 515, 515, 515, 259, 259, 259, 259, 276, 276, 276, 276, 276, 101, 101, 101, 101, 101, 42, 42, 42, 42, 42, 510, 510, 510, 510, 510, 16, 16, 16, 16, 16, 478, 478, 478, 478, 478, 409, 409, 409, 409, 518, 518, 518, 518, 510, 510, 510, 510, 510, 22, 22, 22, 22, 22, 421, 421, 421, 421, 351, 351, 351, 351, 351, 136, 136, 136, 136, 38, 38, 38, 38, 38, 437, 437, 437, 437, 437, 22, 22, 22, 22, 22, 375, 375, 375, 375, 502, 502, 502, 502, 502, 42, 42, 42, 42, 42, 168, 168, 168, 168, 168, 381, 381, 381, 381, 1, 1, 1, 1, 496, 496, 496, 496, 496, 314, 314, 314, 314, 22, 22, 22, 22, 22, 196, 196, 196, 196, 477, 477, 477, 477, 477, 377, 377, 377, 377, 101, 101, 101, 101, 101, 468, 468, 468, 468, 491, 491, 491, 491, 491, 264, 264, 264, 264, 314, 314, 314, 314, 314, 51, 51, 51, 51, 214, 214, 214, 214, 154, 154, 154, 154, 154, 387, 387, 387, 387, 292, 292, 292, 292, 292, 211, 211, 211, 211, 211, 28, 28, 28, 28, 28, 280, 280, 280, 280, 280, 39, 39, 39, 39, 19, 19, 19, 19, 19, 311, 311, 311, 311, 89, 89, 89, 89, 30, 30, 30, 30, 30, 314, 314, 314, 314, 314, 427, 427, 427, 427, 427, 541, 541, 541, 541, 541, 406, 406, 406, 406, 103, 103, 103, 103, 103, 52, 52, 52, 52, 52, 300, 300, 300, 300, 300, 31, 31, 31, 31, 284, 284, 284, 284, 284, 168, 168, 168, 168, 168, 496, 496, 496, 496, 465, 465, 465, 465, 465, 298, 298, 298, 298, 298, 273, 273, 273, 273, 273, 415, 415, 415, 415, 415, 140, 140, 140, 140, 442, 442, 442, 442, 442, 405, 405, 405, 405, 58, 58, 58, 58, 361, 361, 361, 361, 361, 544, 544, 544, 544, 544, 379, 379, 379, 379, 359, 359, 359, 359, 456, 456, 456, 456, 211, 211, 211, 211, 211, 168, 168, 168, 168, 168, 358, 358, 358, 358, 473, 473, 473, 473, 473, 298, 298, 298, 298, 101, 101, 101, 101, 101, 8, 8, 8, 8, 8, 42, 42, 42, 42, 42, 80, 80, 80, 80, 361, 361, 361, 361, 361, 280, 280, 280, 280, 19, 19, 19, 19, 19, 298, 298, 298, 298, 298, 42, 42, 42, 42, 42, 302, 302, 302, 302, 103, 103, 103, 103, 103, 473, 473, 473, 473, 473, 470, 470, 470, 470, 470, 510, 510, 510, 510, 510, 405, 405, 405, 405, 405, 38, 38, 38, 38, 38, 208, 208, 208, 208, 208, 178, 178, 178, 178, 488, 488, 488, 488, 442, 442, 442, 442, 442, 377, 377, 377, 377, 377, 154, 154, 154, 154, 154, 103, 103, 103, 103, 103, 343, 343, 343, 343, 194, 194, 194, 194, 194, 202, 202, 202, 202, 202, 139, 139, 139, 139, 139, 383, 383, 383, 383, 383, 170, 170, 170, 170, 122, 122, 122, 122, 122, 124, 124, 124, 124, 124, 454, 454, 454, 454, 419, 419, 419, 419, 419, 94, 94, 94, 94, 404, 404, 404, 404, 404, 369, 369, 369, 369, 193, 193, 193, 193, 168, 168, 168, 168, 168, 531, 531, 531, 531, 531, 463, 463, 463, 463, 463, 427, 427, 427, 427, 427, 221, 221, 221, 221, 221, 87, 87, 87, 87, 491, 491, 491, 491, 491, 540, 540, 540, 540, 364, 364, 364, 364, 364, 514, 514, 514, 514, 514, 154, 154, 154, 154, 326, 326, 326, 326, 489, 489, 489, 489, 489, 101, 101, 101, 101, 101, 513, 513, 513, 513, 513, 35, 35, 35, 35, 485, 485, 485, 485, 470, 470, 470, 470, 470, 78, 78, 78, 78, 175, 175, 175, 175, 175, 117, 117, 117, 117, 152, 152, 152, 152, 279, 279, 279, 279, 279, 462, 462, 462, 462, 462, 356, 356, 356, 356, 427, 427, 427, 427, 427, 101, 101, 101, 101, 101, 11, 11, 11, 11, 11, 12, 12, 12, 12, 168, 168, 168, 168, 168, 157, 157, 157, 157, 524, 524, 524, 524, 365, 365, 365, 365, 365, 512, 512, 512, 512, 536, 536, 536, 536, 536, 22, 22, 22, 22, 22, 374, 374, 374, 374, 427, 427, 427, 427, 300, 300, 300, 300, 300, 405, 405, 405, 405, 405, 442, 442, 442, 442, 442, 168, 168, 168, 168, 168, 272, 272, 272, 272, 364, 364, 364, 364, 364, 67, 67, 67, 67, 144, 144, 144, 144, 147, 147, 147, 147, 147, 125, 125, 125, 125, 250, 250, 250, 250, 124, 124, 124, 124, 124, 289, 289, 289, 289, 26, 26, 26, 26, 442, 442, 442, 442, 442, 483, 483, 483, 483, 460, 460, 460, 460, 57, 57, 57, 57, 531, 531, 531, 531, 531, 347, 347, 347, 347, 155, 155, 155, 155, 314, 314, 314, 314, 314, 481, 481, 481, 481, 481, 50, 50, 50, 50, 464, 464, 464, 464, 464, 520, 520, 520, 520, 520, 513, 513, 513, 513, 171, 171, 171, 171, 478, 478, 478, 478, 331, 331, 331, 331, 442, 442, 442, 442, 442, 103, 103, 103, 103, 103, 179, 179, 179, 179, 208, 208, 208, 208, 208, 192, 192, 192, 192, 192, 389, 389, 389, 389, 168, 168, 168, 168, 168, 2, 2, 2, 2, 38, 38, 38, 38, 38, 227, 227, 227, 227, 227, 443, 443, 443, 443, 107, 107, 107, 107, 107, 442, 442, 442, 442, 442, 241, 241, 241, 241, 434, 434, 434, 434, 100, 100, 100, 100, 100, 342, 342, 342, 342, 342, 301, 301, 301, 301, 188, 188, 188, 188, 188, 188, 188, 188, 188, 188, 419, 419, 419, 419, 419, 239, 239, 239, 239, 22, 22, 22, 22, 22, 334, 334, 334, 334, 333, 333, 333, 333, 333, 426, 426, 426, 426, 426, 456, 456, 456, 456, 456, 419, 419, 419, 419, 419, 300, 300, 300, 300, 300, 56, 56, 56, 56, 56, 126, 126, 126, 126, 465, 465, 465, 465, 465, 194, 194, 194, 194, 194, 114, 114, 114, 114, 114, 191, 191, 191, 191, 191, 38, 38, 38, 38, 38, 282, 282, 282, 282, 282, 256, 256, 256, 256, 297, 297, 297, 297, 23, 23, 23, 23, 436, 436, 436, 436, 436, 417, 417, 417, 417, 417, 211, 211, 211, 211, 211, 36, 36, 36, 36, 508, 508, 508, 508, 222, 222, 222, 222, 10, 10, 10, 10, 411, 411, 411, 411, 484, 484, 484, 484, 321, 321, 321, 321, 321, 339, 339, 339, 339, 367, 367, 367, 367, 147, 147, 147, 147, 147, 446, 446, 446, 446, 273, 273, 273, 273, 463, 463, 463, 463, 463, 304, 304, 304, 304, 304, 153, 153, 153, 153, 153, 413, 413, 413, 413, 384, 384, 384, 384, 536, 536, 536, 536, 306, 306, 306, 306, 531, 531, 531, 531, 532, 532, 532, 532, 479, 479, 479, 479, 462, 462, 462, 462, 462, 304, 304, 304, 304, 304, 22, 22, 22, 22, 22, 281, 281, 281, 281, 475, 475, 475, 475, 298, 298, 298, 298, 298, 404, 404, 404, 404, 284, 284, 284, 284, 284, 310, 310, 310, 310, 367, 367, 367, 367, 367, 168, 168, 168, 168, 168, 8, 8, 8, 8, 8, 408, 408, 408, 408, 342, 342, 342, 342, 342, 163, 163, 163, 163, 100, 100, 100, 100, 100, 213, 213, 213, 213, 213, 531, 531, 531, 531, 531, 221, 221, 221, 221, 265, 265, 265, 265, 265, 335, 335, 335, 335, 299, 299, 299, 299, 143, 143, 143, 143, 105, 105, 105, 105, 314, 314, 314, 314, 314, 153, 153, 153, 153, 416, 416, 416, 416, 448, 448, 448, 448, 448, 314, 314, 314, 314, 314, 202, 202, 202, 202, 268, 268, 268, 268, 268, 53, 53, 53, 53, 240, 240, 240, 240, 244, 244, 244, 244, 550, 550, 550, 550, 550, 328, 328, 328, 328, 463, 463, 463, 463, 253, 253, 253, 253, 550, 550, 550, 550, 550, 370, 370, 370, 370, 300, 300, 300, 300, 300, 466, 466, 466, 466, 466, 313, 313, 313, 313, 5, 5, 5, 5, 164, 164, 164, 164, 164, 169, 169, 169, 169, 188, 188, 188, 188, 188, 316, 316, 316, 316, 213, 213, 213, 213, 213, 148, 148, 148, 148, 541, 541, 541, 541, 55, 55, 55, 55, 55, 236, 236, 236, 236, 236, 72, 72, 72, 72, 536, 536, 536, 536, 536, 42, 42, 42, 42, 286, 286, 286, 286, 226, 226, 226, 226, 465, 465, 465, 465, 465, 527, 527, 527, 527, 489, 489, 489, 489, 489, 414, 414, 414, 414, 244, 244, 244, 244, 244, 127, 127, 127, 127, 296, 296, 296, 296, 304, 304, 304, 304, 304, 225, 225, 225, 225, 201, 201, 201, 201, 276, 276, 276, 276, 276, 368, 368, 368, 368, 42, 42, 42, 42, 42, 556, 556, 556, 556, 535, 535, 535, 535, 183, 183, 183, 183, 183, 14, 14, 14, 14, 14, 265, 265, 265, 265, 151, 151, 151, 151, 217, 217, 217, 217, 48, 48, 48, 48, 199, 199, 199, 199, 53, 53, 53, 53, 53, 481, 481, 481, 481, 477, 477, 477, 477, 283, 283, 283, 283, 303, 303, 303, 303, 303, 541, 541, 541, 541, 541, 314, 314, 314, 314, 314, 337, 337, 337, 337, 221, 221, 221, 221, 221, 419, 419, 419, 419, 442, 442, 442, 442, 442, 107, 107, 107, 107, 107, 480, 480, 480, 480, 480, 268, 268, 268, 268, 314, 314, 314, 314, 314, 282, 282, 282, 282, 282, 308, 308, 308, 308, 38, 38, 38, 38, 38, 60, 60, 60, 60, 329, 329, 329, 329, 329, 212, 212, 212, 212, 442, 442, 442, 442, 442, 145, 145, 145, 145, 235, 235, 235, 235, 276, 276, 276, 276, 276, 182, 182, 182, 182, 42, 42, 42, 42, 42, 274, 274, 274, 274, 122, 122, 122, 122, 122, 205, 205, 205, 205, 489, 489, 489, 489, 489, 260, 260, 260, 260, 342, 342, 342, 342, 468, 468, 468, 468, 468, 302, 302, 302, 302, 302, 393, 393, 393, 393, 393, 477, 477, 477, 477, 477, 150, 150, 150, 150, 42, 42, 42, 42, 42, 492, 492, 492, 492, 307, 307, 307, 307, 548, 548, 548, 548, 548, 442, 442, 442, 442, 442, 442, 442, 442, 442, 442, 361, 361, 361, 361, 361, 314, 314, 314, 314, 314, 132, 132, 132, 452, 452, 452, 452, 531, 531, 531, 531, 531, 487, 487, 487, 487, 487, 262, 262, 262, 262, 506, 506, 506, 506, 298, 298, 298, 298, 298, 407, 407, 407, 407, 442, 442, 442, 442, 442, 84, 84, 84, 84, 42, 42, 42, 42, 42, 168, 168, 168, 168, 168, 350, 350, 350, 350, 350, 242, 242, 242, 242, 42, 42, 42, 42, 42, 18, 18, 18, 18, 303, 303, 303, 303, 303, 282, 282, 282, 282, 282, 261, 261, 261, 261, 227, 227, 227, 227, 300, 300, 300, 300, 300, 168, 168, 168, 168, 168, 42, 42, 42, 42, 42, 168, 168, 168, 168, 168, 251, 251, 251, 251, 322, 322, 322, 322, 229, 229, 229, 229, 432, 432, 432, 432, 432, 221, 221, 221, 221, 221, 533, 533, 533, 533, 41, 41, 41, 41, 143, 143, 143, 143, 143, 418, 418, 418, 418, 83, 83, 83, 83, 455, 455, 455, 455, 455, 121, 121, 121, 121, 121, 284, 284, 284, 284, 115, 115, 115, 115, 470, 470, 470, 470, 470, 147, 147, 147, 147, 255, 255, 255, 255, 255, 208, 208, 208, 208, 208, 103, 103, 103, 103, 103, 260, 260, 260, 260, 260, 142, 142, 142, 142, 142, 329, 329, 329, 329, 292, 292, 292, 292, 309, 309, 309, 309, 432, 432, 432, 432, 432, 107, 107, 107, 107, 107, 553, 553, 553, 553, 468, 468, 468, 468, 468, 192, 192, 192, 192, 373, 373, 373, 373, 455, 455, 455, 455, 455, 531, 531, 531, 531, 531, 64, 64, 64, 64, 159, 159, 159, 159, 159, 436, 436, 436, 436, 165, 165, 165, 165, 231, 231, 231, 231, 63, 63, 63, 63, 357, 357, 357, 357, 357, 110, 110, 110, 110, 442, 442, 442, 442, 442, 436, 436, 436, 436, 436, 30, 30, 30, 30, 30, 383, 383, 383, 383, 504, 504, 504, 504, 504, 62, 62, 62, 62, 62, 22, 22, 22, 22, 22, 138, 138, 138, 138, 168, 168, 168, 168, 168, 103, 103, 103, 103, 103, 377, 377, 377, 377, 377, 517, 517, 517, 517, 517, 98, 98, 98, 98, 98, 22, 22, 22, 22, 442, 442, 442, 442, 442, 185, 185, 185, 185, 378, 378, 378, 378, 208, 208, 208, 208, 208, 473, 473, 473, 473, 473, 206, 206, 206, 206, 314, 314, 314, 314, 314, 503, 503, 503, 503, 556, 556, 556, 556, 556, 103, 103, 103, 103, 103, 38, 38, 38, 38, 38, 32, 32, 32, 32, 227, 227, 227, 227, 227, 393, 393, 393, 393, 463, 463, 463, 463, 463, 243, 243, 243, 243, 42, 42, 42, 42, 42, 432, 432, 432, 432, 432, 346, 346, 346, 346, 467, 467, 467, 467, 467, 139, 139, 139, 139, 139, 432, 432, 432, 432, 491, 491, 491, 491, 491, 477, 477, 477, 477, 477, 62, 62, 62, 62, 62, 451, 451, 451, 451, 362, 362, 362, 362, 176, 176, 176, 176, 314, 314, 314, 314, 314, 221, 221, 221, 221, 221, 175, 175, 175, 175, 266, 266, 266, 266, 501, 501, 501, 501, 516, 516, 516, 516, 102, 102, 102, 102, 489, 489, 489, 489, 534, 534, 534, 534, 213, 213, 213, 213, 213, 287, 287, 287, 287, 124, 124, 124, 124, 124, 456, 456, 456, 456, 456, 472, 472, 472, 472, 367, 367, 367, 367, 367, 393, 393, 393, 393, 393, 480, 480, 480, 480, 124, 124, 124, 124, 124, 300, 300, 300, 300, 300, 330, 330, 330, 330, 311, 311, 311, 311, 311, 426, 426, 426, 426, 426, 130, 130, 130, 130, 523, 523, 523, 523, 173, 173, 173, 173, 444, 444, 444, 444, 544, 544, 544, 544, 366, 366, 366, 366, 487, 487, 487, 487, 487, 479, 479, 479, 479, 479, 213, 213, 213, 213, 213, 490, 490, 490, 490, 490, 288, 288, 288, 288, 38, 38, 38, 38, 441, 441, 441, 441, 554, 554, 554, 554, 79, 79, 79, 79, 79, 168, 168, 168, 168, 168, 231, 231, 231, 231, 231, 489, 489, 489, 489, 489, 191, 191, 191, 191, 211, 211, 211, 211, 211, 439, 439, 439, 439, 16, 16, 16, 16, 16, 321, 321, 321, 321, 317, 317, 317, 317, 430, 430, 430, 430, 11, 11, 11, 11, 11, 103, 103, 103, 103, 103, 426, 426, 426, 426, 426, 365, 365, 365, 365, 96, 96, 96, 96, 531, 531, 531, 531, 531, 470, 470, 470, 470, 502, 502, 502, 502, 271, 271, 271, 271, 479, 479, 479, 479, 479, 38, 38, 38, 38, 38, 47, 47, 47, 47, 47, 531, 531, 531, 531, 531, 53, 53, 53, 53, 53, 300, 300, 300, 300, 300, 521, 521, 521, 521, 361, 361, 361, 361, 361, 221, 221, 221, 221, 221, 168, 168, 168, 168, 333, 333, 333, 333, 473, 473, 473, 473, 211, 211, 211, 211, 211, 62, 62, 62, 62, 62, 442, 442, 442, 442, 442, 424, 424, 424, 424, 211, 211, 211, 211, 211, 496, 496, 496, 496, 496, 383, 383, 383, 383, 383, 100, 100, 100, 100, 100, 305, 305, 305, 305, 121, 121, 121, 121, 121, 489, 489, 489, 489, 489, 253, 253, 253, 253, 253, 22, 22, 22, 22, 22, 354, 354, 354, 354, 211, 211, 211, 211, 211, 168, 168, 168, 168, 426, 426, 426, 426, 426, 33, 33, 33, 33, 364, 364, 364, 364, 464, 464, 464, 464, 464, 280, 280, 280, 280, 280, 456, 456, 456, 456, 456, 92, 92, 92, 92, 100, 100, 100, 100, 100, 404, 404, 404, 404, 404, 181, 181, 181, 181, 54, 54, 54, 54, 350, 350, 350, 350, 502, 502, 502, 502, 502, 507, 507, 507, 507, 269, 269, 269, 269, 390, 390, 390, 390, 146, 146, 146, 146, 279, 279, 279, 279, 550, 550, 550, 550, 432, 432, 432, 432, 432, 540, 540, 540, 540, 540, 417, 417, 417, 417, 300, 300, 300, 300, 300, 423, 423, 423, 423, 415, 415, 415, 415, 415, 530, 530, 530, 530, 207, 207, 207, 207, 207, 156, 156, 156, 156, 442, 442, 442, 442, 442, 401, 401, 401, 401, 401, 276, 276, 276, 276, 276, 102, 102, 102, 102, 102, 282, 282, 282, 282, 282, 491, 491, 491, 491, 491, 37, 37, 37, 37, 37, 291, 291, 291, 291, 251, 251, 251, 251, 251, 139, 139, 139, 139, 139, 139, 139, 139, 139, 139, 251, 251, 251, 251, 251, 139, 139, 139, 139, 139, 40, 40, 40, 40, 145, 145, 145, 145, 145, 493, 493, 493, 493, 354, 354, 354, 354, 354, 194, 194, 194, 194, 194, 544, 544, 544, 544, 544, 393, 393, 393, 393, 393, 505, 505, 505, 505, 505, 211, 211, 211, 211, 211, 159, 159, 159, 159, 200, 200, 200, 200, 238, 238, 238, 238, 295, 295, 295, 295, 221, 221, 221, 221, 221, 383, 383, 383, 383, 383, 458, 458, 458, 458, 458, 161, 161, 161, 161, 442, 442, 442, 442, 442, 124, 124, 124, 124, 285, 285, 285, 285, 435, 435, 435, 435, 435, 447, 447, 447, 447, 392, 392, 392, 392, 517, 517, 517, 517, 188, 188, 188, 188, 20, 20, 20, 20, 442, 442, 442, 442, 442, 342, 342, 342, 342, 342, 7, 7, 7, 7, 385, 385, 385, 385, 385, 221, 221, 221, 221, 221, 418, 418, 418, 418, 418, 531, 531, 531, 531, 531, 248, 248, 248, 248, 101, 101, 101, 101, 100, 100, 100, 100, 100, 314, 314, 314, 314, 314, 442, 442, 442, 442, 442, 194, 194, 194, 194, 194, 62, 62, 62, 62, 62, 442, 442, 442, 442, 442, 300, 300, 300, 300, 300, 164, 164, 164, 164, 164, 385, 385, 385, 385, 522, 522, 522, 522, 270, 270, 270, 270, 211, 211, 211, 211, 211, 490, 490, 490, 490, 396, 396, 396, 396, 6, 6, 6, 6, 62, 62, 62, 62, 62, 8, 8, 8, 8, 8, 143, 143, 143, 143, 143, 107, 107, 107, 107, 107, 260, 260, 260, 260, 260, 380, 380, 380, 380, 107, 107, 107, 107, 107, 166, 166, 166, 166, 531, 531, 531, 531, 531, 109, 109, 109, 109, 109, 93, 93, 93, 93, 433, 433, 433, 433, 433, 38, 38, 38, 38, 38, 213, 213, 213, 213, 213, 105, 105, 105, 105, 105, 544, 544, 544, 544, 544, 213, 213, 213, 213, 213, 336, 336, 336, 336, 22, 22, 22, 22, 22, 304, 304, 304, 304, 304, 298, 298, 298, 298, 298, 435, 435, 435, 435, 97, 97, 97, 97, 487, 487, 487, 487, 282, 282, 282, 282, 490, 490, 490, 490, 490, 221, 221, 221, 221, 221, 491, 491, 491, 491, 500, 500, 500, 500, 500, 314, 314, 314, 314, 314, 30, 30, 30, 30, 249, 249, 249, 249, 425, 425, 425, 425, 190, 190, 190, 190, 46, 46, 46, 46, 224, 224, 224, 224, 168, 168, 168, 168, 168, 344, 344, 344, 344, 510, 510, 510, 510, 510, 147, 147, 147, 147, 147, 410, 410, 410, 410, 195, 195, 195, 195, 555, 555, 555, 555, 351, 351, 351, 351, 149, 149, 149, 149, 90, 90, 90, 90, 81, 81, 81, 81, 489, 489, 489, 489, 489, 275, 275, 275, 275, 62, 62, 62, 62, 62, 124, 124, 124, 124, 124, 402, 402, 402, 402, 189, 189, 189, 189, 194, 194, 194, 194, 19, 19, 19, 19, 19, 455, 455, 455, 455, 455, 42, 42, 42, 42, 42, 550, 550, 550, 550, 119, 119, 119, 119, 38, 38, 38, 38, 38, 293, 293, 293, 293, 168, 168, 168, 168, 168, 100, 100, 100, 100, 64, 64, 64, 64, 64, 536, 536, 536, 536, 536, 426, 426, 426, 426, 260, 260, 260, 260, 260, 442, 442, 442, 442, 442, 442, 442, 442, 442, 319, 319, 319, 319, 42, 42, 42, 42, 42, 22, 22, 22, 22, 22, 546, 546, 546, 546, 405, 405, 405, 405, 405, 227, 227, 227, 227, 227, 351, 351, 351, 351, 162, 162, 162, 162, 502, 502, 502, 502, 502, 91, 91, 91, 91, 213, 213, 213, 213, 213, 467, 467, 467, 467, 489, 489, 489, 489, 489, 489, 489, 489, 489, 489, 431, 431, 431, 431, 304, 304, 304, 304, 304, 210, 210, 210, 459, 459, 459, 459, 459, 64, 64, 64, 64, 64, 529, 529, 529, 529, 479, 479, 479, 479, 479, 465, 465, 465, 465, 168, 168, 168, 168, 168, 42, 42, 42, 42, 42, 172, 172, 172, 172, 477, 477, 477, 477, 477, 542, 542, 542, 542, 42, 42, 42, 42, 42, 556, 556, 556, 556, 556, 223, 223, 223, 223, 38, 38, 38, 38, 38, 434, 434, 434, 434, 434, 56, 56, 56, 56, 300, 300, 300, 300, 300, 211, 211, 211, 211, 211, 536, 536, 536, 536, 536, 207, 207, 207, 207, 290, 290, 290, 290, 211, 211, 211, 211, 211, 531, 531, 531, 531, 531, 514, 514, 514, 382, 382, 382, 382, 539, 539, 539, 539, 11, 11, 11, 64, 64, 64, 64, 64, 278, 278, 278, 278, 537, 537, 537, 537, 464, 464, 464, 464, 204, 204, 204, 204, 75, 75, 75, 75, 491, 491, 491, 491, 491, 536, 536, 536, 536, 536, 191, 191, 191, 191, 191, 434, 434, 434, 434, 434, 316, 316, 316, 316, 316, 314, 314, 314, 314, 314, 330, 330, 330, 330, 330, 442, 442, 442, 442, 442, 473, 473, 473, 473, 473, 65, 65, 65, 65, 164, 164, 164, 164, 164, 168, 168, 168, 168, 168, 512, 512, 512, 512, 512, 231, 231, 231, 231, 231, 180, 180, 180, 180, 42, 42, 42, 42, 42, 473, 473, 473, 473, 473, 139, 139, 139, 139, 139, 550, 550, 550, 550, 550, 24, 24, 24, 24, 24, 106, 106, 106, 106, 461, 461, 461, 461, 135, 135, 135, 135, 377, 377, 377, 377, 377, 273, 273, 273, 273, 273, 424, 424, 424, 424, 424, 403, 403, 403, 403, 111, 111, 111, 111, 391, 391, 391, 391, 361, 361, 361, 361, 47, 47, 47, 47, 434, 434, 434, 434, 434, 400, 400, 400, 400, 96, 96, 96, 96, 96, 523, 523, 523, 523, 523, 314, 314, 314, 314, 314, 329, 329, 329, 329, 329, 304, 304, 304, 304, 442, 442, 442, 442, 442, 525, 525, 525, 525, 525, 134, 134, 134, 134, 495, 495, 495, 495, 517, 517, 517, 517, 517, 273, 273, 273, 273, 273, 477, 477, 477, 477, 477, 300, 300, 300, 300, 95, 95, 95, 95, 341, 341, 341, 341, 64, 64, 64, 64, 64, 550, 550, 550, 550, 550, 197, 197, 197, 197, 345, 345, 345, 345, 99, 99, 99, 99, 372, 372, 372, 372, 121, 121, 121, 121, 121, 294, 294, 294, 294, 415, 415, 415, 415, 415, 340, 340, 340, 340, 420, 420, 420, 420, 129, 129, 129, 129, 303, 303, 303, 303, 303, 220, 220, 220, 220, 19, 19, 19, 19, 19, 14, 14, 14, 14, 474, 474, 474, 474, 474, 101, 101, 101, 101, 101, 22, 22, 22, 22, 22, 526, 526, 526, 526, 221, 221, 221, 221, 221, 113, 113, 113, 113, 113, 361, 361, 361, 361, 361, 466, 466, 466, 466, 466, 415, 415, 415, 415, 318, 318, 318, 318, 442, 442, 442, 442, 442, 556, 556, 556, 556, 556, 131, 131, 131, 131, 208, 208, 208, 208, 185, 185, 185, 185, 185, 545, 545, 545, 545, 79, 79, 79, 79, 412, 412, 412, 412, 124, 124, 124, 124, 124, 489, 489, 489, 489, 489, 3, 3, 3, 3, 202, 202, 202, 202, 202, 479, 479, 479, 479, 479, 395, 395, 395, 395, 6, 6, 6, 6, 6, 281, 281, 281, 281, 281, 247, 247, 247, 38, 38, 38, 38, 38, 23, 23, 23, 23, 23, 62, 62, 62, 62, 62, 22, 22, 22, 22, 22, 455, 455, 455, 455, 455, 211, 211, 211, 211, 211, 486, 486, 486, 486, 42, 42, 42, 42, 42, 499, 499, 499, 504, 504, 504, 504, 108, 108, 108, 108, 208, 208, 208, 208, 208, 137, 137, 137, 137, 533, 533, 533, 533, 533, 118, 118, 118, 118, 312, 312, 312, 312, 208, 208, 208, 208, 208, 398, 398, 398, 398, 320, 320, 320, 320, 324, 324, 324, 324, 168, 168, 168, 168, 168, 192, 192, 192, 192, 192, 121, 121, 121, 121, 502, 502, 502, 502, 502, 531, 531, 531, 531, 531, 376, 376, 376, 376, 440, 440, 440, 440, 462, 462, 462, 462, 442, 442, 442, 442, 442, 327, 327, 327, 327, 435, 435, 435, 435, 435, 477, 477, 477, 477, 477, 52, 52, 52, 52, 52, 218, 218, 218, 218, 107, 107, 107, 107, 107, 429, 429, 429, 429, 61, 61, 61, 61, 188, 188, 188, 188, 188, 213, 213, 213, 213, 27, 27, 27, 27, 471, 471, 471, 471, 442, 442, 442, 442, 442, 325, 325, 325, 325, 494, 494, 494, 494, 489, 489, 489, 489, 489, 116, 116, 116, 116, 254, 254, 254, 254, 442, 442, 442, 442, 442, 238, 238, 238, 238, 238, 399, 399, 399, 399, 433, 433, 433, 433, 528, 528, 528, 528, 186, 186, 186, 186, 245, 245, 245, 245, 434, 434, 434, 434, 133, 133, 133, 133, 420, 420, 420, 420, 420, 81, 81, 81, 81, 81, 88, 88, 88, 88, 114, 114, 114, 114, 128, 128, 128, 128, 427, 427, 427, 427, 427, 543, 543, 543, 543, 213, 213, 213, 213, 213, 16, 16, 16, 16, 16, 549, 549, 549, 549, 549, 428, 428, 428, 428, 22, 22, 22, 22, 22, 432, 432, 432, 432, 432, 549, 549, 549, 549, 103, 103, 103, 103, 103, 203, 203, 203, 203, 393, 393, 393, 393, 393, 219, 219, 219, 219, 98, 98, 98, 98, 98, 206, 206, 206, 206, 206, 548, 548, 548, 548, 548, 211, 211, 211, 211, 211, 514, 514, 514, 514, 514, 263, 263, 263, 263, 154, 154, 154, 154, 154, 351, 351, 351, 351, 351, 211, 211, 211, 211, 211, 502, 502, 502, 502, 502, 211, 211, 211, 211, 453, 453, 453, 453, 517, 517, 517, 517, 517, 44, 44, 44, 44, 459, 459, 459, 459, 371, 371, 371, 371, 314, 314, 314, 314, 314, 123, 123, 123, 123, 136, 136, 136, 136, 136, 14, 14, 14, 14, 14, 30, 30, 30, 30, 30, 466, 466, 466, 466, 315, 315, 315, 315, 8, 8, 8, 8, 38, 38, 38, 38, 38, 221, 221, 221, 221, 221, 314, 314, 314, 314, 314, 112, 112, 112, 112, 109, 109, 109, 109, 109, 8, 8, 8, 8, 8, 55, 55, 55, 55, 364, 364, 364, 364, 364, 502, 502, 502, 502, 502, 525, 525, 525, 525, 303, 303, 303, 303, 303, 531, 531, 531, 531, 531, 291, 291, 291, 291, 291, 255, 255, 255, 255, 458, 458, 458, 458, 458, 431, 431, 431, 431, 431, 455, 455, 455, 455, 455, 509, 509, 509, 509, 42, 42, 42, 42, 42, 211, 211, 211, 211, 211, 455, 455, 455, 455] as keyword args. From version 0.25 passing these as positional arguments will result in an error\n",
      "  warnings.warn(\"Pass {} as keyword args. From version 0.25 \"\n"
     ]
    },
    {
     "name": "stdout",
     "output_type": "stream",
     "text": [
      "0.08258527827648116\n"
     ]
    }
   ],
   "source": [
    "X_c, Y_c = cca.transform(data_train_l1k, data_train_cp)    \n",
    "data_train=X_c; #np.concatenate((X_c, Y_c), axis=1)\n",
    "\n",
    "#     data_train = filteredMOAs.loc[train_index,domXfeats].values;\n",
    "labels_train=filteredMOAs.loc[train_index,'Metadata_moa_num'].tolist()\n",
    "\n",
    "data_test_l1k = filteredMOAs.loc[test_index,l1k_features].values;\n",
    "data_test_cp = filteredMOAs.loc[test_index,cp_features].values;    \n",
    "X_c_2, Y_c_2 = cca.transform(data_test_l1k, data_test_cp)    \n",
    "data_test=X_c_2; #np.concatenate((X_c, Y_c), axis=1)\n",
    "\n",
    "labels_test=filteredMOAs.loc[test_index,'Metadata_moa_num'].tolist()\n",
    "\n",
    "class_weightt = class_weight.compute_class_weight('balanced',np.unique(labels_train),labels_train)    \n",
    "#         model_tr = RandomForestClassifier(n_estimators=10,max_features=100,class_weight=\"balanced\")\n",
    "model_tr = LogisticRegression(multi_class='ovr',n_jobs=100,max_iter=1000,class_weight=class_weightt)\n",
    "model_tr.fit(data_train,labels_train)\n",
    "print((model_tr.score(data_test,labels_test)))"
   ]
  },
  {
   "cell_type": "code",
   "execution_count": 403,
   "metadata": {},
   "outputs": [
    {
     "data": {
      "text/plain": [
       "(886, 80)"
      ]
     },
     "execution_count": 403,
     "metadata": {},
     "output_type": "execute_result"
    }
   ],
   "source": [
    "# np.concate(X_c)\n",
    "data_train.shape"
   ]
  },
  {
   "cell_type": "code",
   "execution_count": null,
   "metadata": {},
   "outputs": [],
   "source": []
  },
  {
   "cell_type": "code",
   "execution_count": null,
   "metadata": {},
   "outputs": [],
   "source": []
  },
  {
   "cell_type": "code",
   "execution_count": 407,
   "metadata": {},
   "outputs": [
    {
     "name": "stdout",
     "output_type": "stream",
     "text": [
      "0\n",
      "1\n",
      "2\n",
      "3\n",
      "4\n",
      "5\n",
      "6\n",
      "7\n",
      "8\n",
      "9\n",
      "10\n",
      "11\n",
      "12\n",
      "13\n",
      "14\n",
      "15\n",
      "16\n",
      "17\n",
      "18\n",
      "19\n"
     ]
    }
   ],
   "source": [
    "from snf import compute\n",
    "# ress_df=pd.DataFrame(columns=['Data','Modality','NMI'])\n",
    "# ress_df_filt=pd.DataFrame(columns=['Data','Modality','NMI'])\n",
    "ress_df_full_cdrp=pd.DataFrame(columns=['Data','Modality','NMI'])\n",
    "# n_rand_moaClass=100\n",
    "n_rand_moaClass=40\n",
    "for i in range(20):\n",
    "    print(i)\n",
    "    listOfSelectedMoAs2=np.random.choice(merged_scaled[moa_col].unique(),n_rand_moaClass)\n",
    "    IDs4filteredMOAs=merged_scaled[merged_scaled[moa_col].isin(listOfSelectedMoAs2)][pertColName].tolist()\n",
    "    filteredMOAs=merged_scaled[merged_scaled[pertColName].isin(IDs4filteredMOAs)].reset_index(drop=True)\n",
    "    snfInput=[filteredMOAs[cp_features].values,filteredMOAs[l1k_features].values]\n",
    "    affinities = compute.make_affinity(snfInput, metric='euclidean')\n",
    "    fused = compute.snf(affinities)\n",
    "    \n",
    "    labels=filteredMOAs[moa_col].tolist()\n",
    "\n",
    "    le_2 = preprocessing.LabelEncoder()\n",
    "    labels_categorical_2=filteredMOAs[moa_col].unique().tolist();\n",
    "    le_2.fit(labels_categorical_2)\n",
    "    labels_numerical_2=le_2.transform(labels)\n",
    "\n",
    "    for m,d in zip([\"CP\",\"GE\",\"fused(CP,GE)\"],[affinities[0],affinities[1],fused]):\n",
    "        pred_labels = spectral_clustering(d, n_clusters=n_rand_moaClass)\n",
    "        nmi_snf=v_measure_score(np.random.permutation(pred_labels), labels)\n",
    "\n",
    "        temp_df = pd.DataFrame(data={'NMI': [nmi_snf], 'Modality': [m]})\n",
    "#         print(temp_df)\n",
    "#         temp_df=pd.DataFrame(data=np.array([[nmi_snf],[m]]),columns=['NMI','Modality'])\n",
    "#         ress_df_filt=ress_df_filt.append(temp_df)\n",
    "        ress_df_full_cdrp=ress_df_full_cdrp.append(temp_df)\n",
    "    \n",
    "    \n",
    "    \n",
    "# ress_df_filt['Data']='All-snf'  \n",
    "ress_df_full_cdrp['Data']='All-snf'    \n",
    "    "
   ]
  },
  {
   "cell_type": "code",
   "execution_count": 398,
   "metadata": {},
   "outputs": [
    {
     "data": {
      "text/plain": [
       "3"
      ]
     },
     "execution_count": 398,
     "metadata": {},
     "output_type": "execute_result"
    }
   ],
   "source": [
    "# v_measure_score(np.random.permutation(labels), labels)\n",
    "i"
   ]
  },
  {
   "cell_type": "code",
   "execution_count": 379,
   "metadata": {},
   "outputs": [
    {
     "data": {
      "text/html": [
       "<div>\n",
       "<style scoped>\n",
       "    .dataframe tbody tr th:only-of-type {\n",
       "        vertical-align: middle;\n",
       "    }\n",
       "\n",
       "    .dataframe tbody tr th {\n",
       "        vertical-align: top;\n",
       "    }\n",
       "\n",
       "    .dataframe thead tr th {\n",
       "        text-align: left;\n",
       "    }\n",
       "\n",
       "    .dataframe thead tr:last-of-type th {\n",
       "        text-align: right;\n",
       "    }\n",
       "</style>\n",
       "<table border=\"1\" class=\"dataframe\">\n",
       "  <thead>\n",
       "    <tr>\n",
       "      <th></th>\n",
       "      <th colspan=\"8\" halign=\"left\">NMI</th>\n",
       "    </tr>\n",
       "    <tr>\n",
       "      <th></th>\n",
       "      <th>count</th>\n",
       "      <th>mean</th>\n",
       "      <th>std</th>\n",
       "      <th>min</th>\n",
       "      <th>25%</th>\n",
       "      <th>50%</th>\n",
       "      <th>75%</th>\n",
       "      <th>max</th>\n",
       "    </tr>\n",
       "    <tr>\n",
       "      <th>Modality</th>\n",
       "      <th></th>\n",
       "      <th></th>\n",
       "      <th></th>\n",
       "      <th></th>\n",
       "      <th></th>\n",
       "      <th></th>\n",
       "      <th></th>\n",
       "      <th></th>\n",
       "    </tr>\n",
       "  </thead>\n",
       "  <tbody>\n",
       "    <tr>\n",
       "      <th>CP</th>\n",
       "      <td>10.0</td>\n",
       "      <td>0.316782</td>\n",
       "      <td>0.051657</td>\n",
       "      <td>0.246194</td>\n",
       "      <td>0.276604</td>\n",
       "      <td>0.314762</td>\n",
       "      <td>0.350610</td>\n",
       "      <td>0.396109</td>\n",
       "    </tr>\n",
       "    <tr>\n",
       "      <th>GE</th>\n",
       "      <td>10.0</td>\n",
       "      <td>0.397365</td>\n",
       "      <td>0.040279</td>\n",
       "      <td>0.350362</td>\n",
       "      <td>0.369754</td>\n",
       "      <td>0.382159</td>\n",
       "      <td>0.439075</td>\n",
       "      <td>0.451519</td>\n",
       "    </tr>\n",
       "    <tr>\n",
       "      <th>fused(CP,GE)</th>\n",
       "      <td>10.0</td>\n",
       "      <td>0.419794</td>\n",
       "      <td>0.039541</td>\n",
       "      <td>0.376694</td>\n",
       "      <td>0.385083</td>\n",
       "      <td>0.408811</td>\n",
       "      <td>0.457515</td>\n",
       "      <td>0.475416</td>\n",
       "    </tr>\n",
       "  </tbody>\n",
       "</table>\n",
       "</div>"
      ],
      "text/plain": [
       "               NMI                                                    \\\n",
       "             count      mean       std       min       25%       50%   \n",
       "Modality                                                               \n",
       "CP            10.0  0.316782  0.051657  0.246194  0.276604  0.314762   \n",
       "GE            10.0  0.397365  0.040279  0.350362  0.369754  0.382159   \n",
       "fused(CP,GE)  10.0  0.419794  0.039541  0.376694  0.385083  0.408811   \n",
       "\n",
       "                                  \n",
       "                   75%       max  \n",
       "Modality                          \n",
       "CP            0.350610  0.396109  \n",
       "GE            0.439075  0.451519  \n",
       "fused(CP,GE)  0.457515  0.475416  "
      ]
     },
     "execution_count": 379,
     "metadata": {},
     "output_type": "execute_result"
    }
   ],
   "source": [
    "ress_df_rand=ress_df.copy()\n",
    "ress_df_rand.groupby(['Modality']).describe()"
   ]
  },
  {
   "cell_type": "markdown",
   "metadata": {},
   "source": [
    "### SNF data fusion"
   ]
  },
  {
   "cell_type": "code",
   "execution_count": 107,
   "metadata": {},
   "outputs": [
    {
     "ename": "NameError",
     "evalue": "name 'spectral_clustering' is not defined",
     "output_type": "error",
     "traceback": [
      "\u001b[0;31m---------------------------------------------------------------------------\u001b[0m",
      "\u001b[0;31mNameError\u001b[0m                                 Traceback (most recent call last)",
      "\u001b[0;32m<ipython-input-107-b2f20366357c>\u001b[0m in \u001b[0;36m<module>\u001b[0;34m\u001b[0m\n\u001b[1;32m     25\u001b[0m \u001b[0;34m\u001b[0m\u001b[0m\n\u001b[1;32m     26\u001b[0m \u001b[0;34m\u001b[0m\u001b[0m\n\u001b[0;32m---> 27\u001b[0;31m \u001b[0mpred_labels\u001b[0m \u001b[0;34m=\u001b[0m \u001b[0mspectral_clustering\u001b[0m\u001b[0;34m(\u001b[0m\u001b[0mfused\u001b[0m\u001b[0;34m,\u001b[0m \u001b[0mn_clusters\u001b[0m\u001b[0;34m=\u001b[0m\u001b[0;36m179\u001b[0m\u001b[0;34m)\u001b[0m\u001b[0;34m\u001b[0m\u001b[0;34m\u001b[0m\u001b[0m\n\u001b[0m\u001b[1;32m     28\u001b[0m \u001b[0;34m\u001b[0m\u001b[0m\n\u001b[1;32m     29\u001b[0m \u001b[0;31m# pred_labels = SpectralClustering(n_clusters=179,assign_labels=\"discretize\",random_state=0)\\\u001b[0m\u001b[0;34m\u001b[0m\u001b[0;34m\u001b[0m\u001b[0;34m\u001b[0m\u001b[0m\n",
      "\u001b[0;31mNameError\u001b[0m: name 'spectral_clustering' is not defined"
     ]
    }
   ],
   "source": [
    "from sklearn.cluster import SpectralClustering\n",
    "filteredMOAs=merged_scaled[merged_scaled[pertColName].isin(IDs4filteredMOAs)].reset_index(drop=True)\n",
    "\n",
    "snfInput=[filteredMOAs[cp_features].values,filteredMOAs[l1k_features].values]\n",
    "# snfInput=[filteredMOAs[cp_features].values,filteredMOAs[cp_features].values]\n",
    "# snfInput=[filteredMOAs[l1k_features].values,filteredMOAs[l1k_features].values]\n",
    "\n",
    "from snf import compute\n",
    "affinities = compute.make_affinity(snfInput, metric='euclidean')\n",
    "\n",
    "# fuse the similarity matrices with SNF\n",
    "fused = compute.snf(affinities)\n",
    "\n",
    "# domXdata=mergProf_treatLevel;\n",
    "# # domXfeats=data4eval[r][1]\n",
    "# filteredMOAs=domXdata[domXdata[pertColName].isin(IDs4filteredMOAs)].reset_index(drop=True)\n",
    "\n",
    "# data = fused[domXdata[domXdata[pertColName].isin(IDs4filteredMOAs)].index];\n",
    "labels=filteredMOAs[moa_col].tolist()\n",
    "\n",
    "le_2 = preprocessing.LabelEncoder()\n",
    "labels_categorical_2=filteredMOAs[moa_col].unique().tolist();\n",
    "le_2.fit(labels_categorical_2)\n",
    "labels_numerical_2=le_2.transform(labels)\n",
    "\n",
    "\n",
    "pred_labels = spectral_clustering(fused, n_clusters=179)\n",
    "\n",
    "# pred_labels = SpectralClustering(n_clusters=179,assign_labels=\"discretize\",random_state=0)\\\n",
    "#     .fit(filteredMOAs[cp_features].values).labels_\n",
    "\n",
    "\n",
    "print('nmi: ',v_measure_score(pred_labels, labels))\n",
    "\n",
    "# # accuracy_coclus(labels_numerical_2, pred_labels)\n",
    "\n",
    "# cm = confusion_matrix(labels_numerical_2, pred_labels)\n",
    "# print(cm.shape)\n",
    "# # deprecated: indexes = linear_assignment(_make_cost_m(cm))\n",
    "# indexes = linear_sum_assignment(_make_cost_m(cm))\n",
    "# # print(indexes)\n",
    "# total = 0\n",
    "# # for row, column in indexes:\n",
    "\n",
    "# for i in range(cm.shape[0]):\n",
    "#     row, column=indexes[0][i],indexes[1][i]\n",
    "#     value = cm[row][column]\n",
    "#     total += value\n",
    "\n",
    "# acc=(total * 1. / np.sum(cm))\n",
    "# print(acc)\n",
    "# # loocv = LeaveOneOut()\n",
    "# # model_loocv = LogisticRegression(multi_class='ovr',n_jobs=100,max_iter=1000)\n",
    "# # results_loocv = cross_val_score(model_loocv, data, labels, cv=loocv)\n",
    "# # print(\"Accuracy: %.2f%%\" % (results_loocv.mean()*100.0))"
   ]
  },
  {
   "cell_type": "code",
   "execution_count": null,
   "metadata": {},
   "outputs": [],
   "source": []
  },
  {
   "cell_type": "code",
   "execution_count": 237,
   "metadata": {},
   "outputs": [],
   "source": [
    "# affinities"
   ]
  },
  {
   "cell_type": "code",
   "execution_count": 232,
   "metadata": {},
   "outputs": [
    {
     "data": {
      "text/plain": [
       "(6284, 6284)"
      ]
     },
     "execution_count": 232,
     "metadata": {},
     "output_type": "execute_result"
    }
   ],
   "source": [
    "fused.shape"
   ]
  },
  {
   "cell_type": "code",
   "execution_count": null,
   "metadata": {},
   "outputs": [],
   "source": [
    "Filtered Set"
   ]
  },
  {
   "cell_type": "markdown",
   "metadata": {},
   "source": [
    "> Filtered set:\n",
    "    - CP\n",
    "      - nmi: 0.78\n",
    "    - L1k\n",
    "      - nmi: 0.73\n",
    "    - CP + L1k (snf)\n",
    "      - nmi: 0.79\n",
    "      \n",
    "> Full set:\n",
    "    - CP\n",
    "      - nmi: 0.45\n",
    "    - L1k\n",
    "      - nmi: 0.51\n",
    "    - CP + L1k (snf)\n",
    "      - nmi: 0.63"
   ]
  },
  {
   "cell_type": "code",
   "execution_count": 104,
   "metadata": {},
   "outputs": [
    {
     "data": {
      "text/plain": [
       "(1010,)"
      ]
     },
     "execution_count": 104,
     "metadata": {},
     "output_type": "execute_result"
    }
   ],
   "source": [
    "pred_labels.shape\n",
    "clustering = SpectralClustering(n_clusters=2,\n",
    "...         assign_labels=\"discretize\",\n",
    "...         random_state=0).fit(X)"
   ]
  },
  {
   "cell_type": "code",
   "execution_count": 110,
   "metadata": {},
   "outputs": [],
   "source": [
    "from sklearn.cluster import spectral_clustering\n",
    "from sklearn.metrics import v_measure_score, accuracy_score\n",
    "\n",
    "pred_labels = spectral_clustering(fused, n_clusters=557)\n",
    "v_measure_score(pred_labels, labels)"
   ]
  },
  {
   "cell_type": "code",
   "execution_count": 241,
   "metadata": {},
   "outputs": [
    {
     "name": "stdout",
     "output_type": "stream",
     "text": [
      "CP nmi:  0.4547027605050385\n",
      "L1k nmi:  0.5047396813615548\n",
      "Fused nmi:  0.638843132270044\n"
     ]
    }
   ],
   "source": [
    "n_unq_labels=np.unique(labels_numerical_2).shape[0]\n",
    "pred_labels = spectral_clustering(affinities[0], n_clusters=n_unq_labels)\n",
    "print('CP nmi: ',v_measure_score(pred_labels, labels))\n",
    "pred_labels = spectral_clustering(affinities[1], n_clusters=n_unq_labels)\n",
    "print('L1k nmi: ',v_measure_score(pred_labels, labels))\n",
    "\n",
    "pred_labels = spectral_clustering(fused, n_clusters=n_unq_labels)\n",
    "print('Fused nmi: ',v_measure_score(pred_labels, labels))"
   ]
  },
  {
   "cell_type": "code",
   "execution_count": 240,
   "metadata": {},
   "outputs": [
    {
     "name": "stdout",
     "output_type": "stream",
     "text": [
      "CP nmi:  0.6335442415981104\n",
      "L1k nmi:  0.5446253167729914\n"
     ]
    }
   ],
   "source": [
    "n_unq_labels=np.unique(labels_numerical_2).shape[0]\n",
    "pred_labels = spectral_clustering(compute.snf([affinities[0],affinities[0]]), n_clusters=n_unq_labels)\n",
    "print('CP nmi: ',v_measure_score(pred_labels, labels))\n",
    "pred_labels = spectral_clustering(compute.snf([affinities[1],affinities[1]]), n_clusters=n_unq_labels)\n",
    "print('L1k nmi: ',v_measure_score(pred_labels, labels))\n",
    "\n",
    "# pred_labels = spectral_clustering(fused, n_clusters=n_unq_labels)\n",
    "# print('Fused nmi: ',v_measure_score(pred_labels, labels))"
   ]
  },
  {
   "cell_type": "code",
   "execution_count": 79,
   "metadata": {},
   "outputs": [
    {
     "data": {
      "text/plain": [
       "0.782523187741443"
      ]
     },
     "execution_count": 79,
     "metadata": {},
     "output_type": "execute_result"
    }
   ],
   "source": [
    "v_measure_score(labels_numerical_2, pred_labels)"
   ]
  },
  {
   "cell_type": "code",
   "execution_count": 76,
   "metadata": {},
   "outputs": [
    {
     "data": {
      "text/plain": [
       "(179,)"
      ]
     },
     "execution_count": 76,
     "metadata": {},
     "output_type": "execute_result"
    }
   ],
   "source": [
    "# len(indexes)\n",
    "indexes[1].shape"
   ]
  },
  {
   "cell_type": "code",
   "execution_count": 78,
   "metadata": {},
   "outputs": [
    {
     "name": "stdout",
     "output_type": "stream",
     "text": [
      "(179, 179)\n",
      "0.43267326732673267\n"
     ]
    }
   ],
   "source": [
    "# from coclust.evaluation.external import accuracy\n",
    "le_2 = preprocessing.LabelEncoder()\n",
    "labels_categorical_2=filteredMOAs.Metadata_moa.unique().tolist();\n",
    "le_2.fit(labels_categorical_2)\n",
    "labels_numerical_2=le_2.transform(labels)\n",
    "\n",
    "# accuracy_coclus(labels_numerical_2, pred_labels)\n",
    "\n",
    "cm = confusion_matrix(labels_numerical_2, pred_labels)\n",
    "print(cm.shape)\n",
    "# deprecated: indexes = linear_assignment(_make_cost_m(cm))\n",
    "indexes = linear_sum_assignment(_make_cost_m(cm))\n",
    "# print(indexes)\n",
    "total = 0\n",
    "# for row, column in indexes:\n",
    "\n",
    "for i in range(cm.shape[0]):\n",
    "    row, column=indexes[0][i],indexes[1][i]\n",
    "    value = cm[row][column]\n",
    "    total += value\n",
    "\n",
    "acc=(total * 1. / np.sum(cm))\n",
    "print(acc)\n",
    "# accuracy_score(pred_labels, labels)"
   ]
  },
  {
   "cell_type": "code",
   "execution_count": 91,
   "metadata": {},
   "outputs": [],
   "source": [
    "# set(labels_numerical_2)"
   ]
  },
  {
   "cell_type": "code",
   "execution_count": 101,
   "metadata": {},
   "outputs": [
    {
     "data": {
      "text/plain": [
       "(0.0009900990099009901, 0.43267326732673267)"
      ]
     },
     "execution_count": 101,
     "metadata": {},
     "output_type": "execute_result"
    }
   ],
   "source": [
    "# labels_numerical_2.shape,pred_labels.shape\n",
    "y_pred, confusion_matrix3 = get_y_preds(pred_labels, labels_numerical_2, 179);\n",
    "accuracy_score(pred_labels, labels_numerical_2),accuracy_score(y_pred, labels_numerical_2)"
   ]
  },
  {
   "cell_type": "code",
   "execution_count": 100,
   "metadata": {},
   "outputs": [],
   "source": [
    "# labels"
   ]
  },
  {
   "cell_type": "code",
   "execution_count": 95,
   "metadata": {},
   "outputs": [
    {
     "data": {
      "text/plain": [
       "0.7825231877414434"
      ]
     },
     "execution_count": 95,
     "metadata": {},
     "output_type": "execute_result"
    }
   ],
   "source": [
    "v_measure_score(labels_numerical_2, y_pred)"
   ]
  },
  {
   "cell_type": "code",
   "execution_count": 94,
   "metadata": {},
   "outputs": [
    {
     "data": {
      "text/plain": [
       "array([123,  48,  48, ...,  72,  92, 134], dtype=int32)"
      ]
     },
     "execution_count": 94,
     "metadata": {},
     "output_type": "execute_result"
    }
   ],
   "source": [
    "pred_labels"
   ]
  },
  {
   "cell_type": "code",
   "execution_count": 105,
   "metadata": {},
   "outputs": [],
   "source": [
    "import numpy as np\n",
    "from sklearn.metrics import confusion_matrix\n",
    "# deprecated: from sklearn.utils.linear_assignment_ import linear_assignment\n",
    "from scipy.optimize import linear_sum_assignment\n",
    "\n",
    "\n",
    "def accuracy_coclus(true_row_labels, predicted_row_labels):\n",
    "    \"\"\"Get the best accuracy.\n",
    "    Parameters\n",
    "    ----------\n",
    "    true_row_labels: array-like\n",
    "        The true row labels, given as external information\n",
    "    predicted_row_labels: array-like\n",
    "        The row labels predicted by the model\n",
    "    Returns\n",
    "    -------\n",
    "    float\n",
    "        Best value of accuracy\n",
    "    \"\"\"\n",
    "\n",
    "    cm = confusion_matrix(true_row_labels, predicted_row_labels)\n",
    "    print(cm.shape)\n",
    "    # deprecated: indexes = linear_assignment(_make_cost_m(cm))\n",
    "    indexes = linear_sum_assignment(_make_cost_m(cm))\n",
    "    print(indexes)\n",
    "    total = 0\n",
    "    for row, column in indexes:\n",
    "        value = cm[row][column]\n",
    "        total += value\n",
    "\n",
    "    return (total * 1. / np.sum(cm))\n",
    "\n",
    "\n",
    "def _make_cost_m(cm):\n",
    "    s = np.max(cm)\n",
    "    return (- cm + s)"
   ]
  },
  {
   "cell_type": "code",
   "execution_count": 63,
   "metadata": {},
   "outputs": [
    {
     "data": {
      "text/plain": [
       "(1010,)"
      ]
     },
     "execution_count": 63,
     "metadata": {},
     "output_type": "execute_result"
    }
   ],
   "source": [
    "# a=1\n",
    "pred_labels.shape"
   ]
  },
  {
   "cell_type": "code",
   "execution_count": 41,
   "metadata": {},
   "outputs": [
    {
     "data": {
      "text/plain": [
       "179"
      ]
     },
     "execution_count": 41,
     "metadata": {},
     "output_type": "execute_result"
    }
   ],
   "source": [
    "len(set(labels))"
   ]
  },
  {
   "cell_type": "code",
   "execution_count": 36,
   "metadata": {},
   "outputs": [
    {
     "data": {
      "text/plain": [
       "(1010, 1111)"
      ]
     },
     "execution_count": 36,
     "metadata": {},
     "output_type": "execute_result"
    }
   ],
   "source": [
    "domXdata=mergProf_treatLevel;\n",
    "# domXfeats=data4eval[r][1]\n",
    "fused[domXdata[domXdata[pertColName].isin(IDs4filteredMOAs)].index]"
   ]
  },
  {
   "cell_type": "code",
   "execution_count": 28,
   "metadata": {},
   "outputs": [
    {
     "data": {
      "text/plain": [
       "(1010, 2652)"
      ]
     },
     "execution_count": 28,
     "metadata": {},
     "output_type": "execute_result"
    }
   ],
   "source": [
    "domXdata[domXdata[pertColName].isin(IDs4filteredMOAs)].reset_index(drop=True).shape"
   ]
  },
  {
   "cell_type": "code",
   "execution_count": 7,
   "metadata": {},
   "outputs": [
    {
     "data": {
      "text/plain": [
       "['data', 'labels']"
      ]
     },
     "execution_count": 7,
     "metadata": {},
     "output_type": "execute_result"
    }
   ],
   "source": [
    "domXdata=mergProf_treatLevel;\n",
    "# domXfeats=data4eval[r][1]\n",
    "filteredMOAs=domXdata[domXdata[pertColName].isin(IDs4filteredMOAs)].reset_index(drop=True)\n",
    "\n",
    "data = fused[domXdata[domXdata[pertColName].isin(IDs4filteredMOAs)].index];\n",
    "labels=filteredMOAs.Metadata_moa.tolist()\n",
    "\n",
    "loocv = LeaveOneOut()\n",
    "model_loocv = LogisticRegression(multi_class='ovr',n_jobs=100,max_iter=1000)\n",
    "results_loocv = cross_val_score(model_loocv, data, labels, cv=loocv)\n",
    "print(\"Accuracy: %.2f%%\" % (results_loocv.mean()*100.0))"
   ]
  },
  {
   "cell_type": "code",
   "execution_count": 17,
   "metadata": {},
   "outputs": [],
   "source": [
    "from snf import datasets\n",
    "simdata = datasets.load_simdata()\n",
    "# sorted(simdata.keys())\n",
    "# ['data', 'labels']\n",
    "\n",
    "# this dataset has two data arrays representing features from 200 samples\n",
    "# >>> len(simdata.data)\n",
    "# 2\n",
    "# >>> len(simdata.labels)\n",
    "# 200\n",
    "\n",
    "# convert raw data arrays into sample x sample affinity matrices\n",
    "from snf import compute\n",
    "affinities = compute.make_affinity(simdata.data, metric='euclidean',K=20, mu=0.5)\n",
    "\n",
    "# fuse the similarity matrices with SNF\n",
    "fused = compute.snf(affinities,K=20)\n",
    "\n",
    "# # estimate the number of clusters present in the fused matrix, derived via\n",
    "# # an \"eigengap\" method (i.e., largest difference in eigenvalues of the\n",
    "# # laplacian of the graph). note this function returns the top two options;\n",
    "# # we'll only use the first\n",
    "# first, second = compute.get_n_clusters(fused)\n",
    "# # >>> first, second\n",
    "# # (2, 5)\n",
    "\n",
    "# # apply clustering procedure\n",
    "# # you can use any clustering method here, but since SNF returns an affinity\n",
    "# # matrix (i.e., all entries are positively-valued and indicate similarity)\n",
    "# # spectral clustering makes a lot of sense\n",
    "# >>> from sklearn import cluster\n",
    "# >>> fused_labels = cluster.spectral_clustering(fused, n_clusters=first)\n",
    "\n",
    "# # compute normalized mutual information for clustering solutions\n",
    "# >>> from snf import metrics\n",
    "# >>> labels = [simdata.labels, fused_labels]\n",
    "# >>> for arr in affinities:\n",
    "# ...     labels += [cluster.spectral_clustering(arr, n_clusters=first)]\n",
    "# >>> nmi = metrics.nmi(labels)\n",
    "\n",
    "# # compute silhouette score to assess goodness-of-fit for clustering\n",
    "# >>> silhouette = metrics.silhouette_score(fused, fused_labels)"
   ]
  },
  {
   "cell_type": "code",
   "execution_count": 18,
   "metadata": {},
   "outputs": [
    {
     "data": {
      "text/plain": [
       "(200, 200)"
      ]
     },
     "execution_count": 18,
     "metadata": {},
     "output_type": "execute_result"
    }
   ],
   "source": [
    "le_2 = preprocessing.LabelEncoder()\n",
    "labels_categorical_2=filteredMOAs.Metadata_moa.unique().tolist();\n",
    "le_2.fit(labels_categorical_2)\n",
    "labels_numerical_2=le_2.transform(labels)"
   ]
  },
  {
   "cell_type": "code",
   "execution_count": 14,
   "metadata": {},
   "outputs": [
    {
     "data": {
      "text/plain": [
       "((200, 2), (200, 2))"
      ]
     },
     "execution_count": 14,
     "metadata": {},
     "output_type": "execute_result"
    }
   ],
   "source": [
    "y_pred, confusion_matrix = get_y_preds(cluster_assignments, y_true, n_clusters);"
   ]
  },
  {
   "cell_type": "code",
   "execution_count": null,
   "metadata": {},
   "outputs": [],
   "source": [
    "y_pred, confusion_matrix = get_y_preds(cluster_assignments, y_true, n_clusters);"
   ]
  },
  {
   "cell_type": "code",
   "execution_count": 89,
   "metadata": {},
   "outputs": [],
   "source": [
    "from munkres import Munkres\n",
    "def get_y_preds(cluster_assignments, y_true, n_clusters):\n",
    "    '''\n",
    "    Computes the predicted labels, where label assignments now\n",
    "    correspond to the actual labels in y_true (as estimated by Munkres)\n",
    "\n",
    "    cluster_assignments:    array of labels, outputted by kmeans\n",
    "    y_true:                 true labels\n",
    "    n_clusters:             number of clusters in the dataset\n",
    "\n",
    "    returns:    a tuple containing the accuracy and confusion matrix,\n",
    "                in that order\n",
    "    '''\n",
    "    confusion_matrix = sklearn.metrics.confusion_matrix(y_true, cluster_assignments, labels=None)\n",
    "    # compute accuracy based on optimal 1:1 assignment of clusters to labels\n",
    "    cost_matrix = calculate_cost_matrix(confusion_matrix, n_clusters)\n",
    "    indices = Munkres().compute(cost_matrix)\n",
    "    kmeans_to_true_cluster_labels = get_cluster_labels_from_indices(indices)\n",
    "    y_pred = kmeans_to_true_cluster_labels[cluster_assignments]\n",
    "    return y_pred, confusion_matrix \n",
    "def calculate_cost_matrix(C, n_clusters):\n",
    "    cost_matrix = np.zeros((n_clusters, n_clusters))\n",
    "\n",
    "    # cost_matrix[i,j] will be the cost of assigning cluster i to label j\n",
    "    for j in range(n_clusters):\n",
    "        s = np.sum(C[:,j]) # number of examples in cluster i\n",
    "        for i in range(n_clusters):\n",
    "            t = C[i,j]\n",
    "            cost_matrix[j,i] = s-t\n",
    "    return cost_matrix\n",
    "def get_cluster_labels_from_indices(indices):\n",
    "    n_clusters = len(indices)\n",
    "    clusterLabels = np.zeros(n_clusters)\n",
    "    for i in range(n_clusters):\n",
    "        clusterLabels[i] = indices[i][1]\n",
    "    return clusterLabels"
   ]
  },
  {
   "cell_type": "code",
   "execution_count": null,
   "metadata": {},
   "outputs": [],
   "source": [
    "def AccMeasure(T,idx):\n",
    "    # %Measure percentage of Accuracy and the Rand index of clustering results\n",
    "    # % The number of class must equal to the number cluster \n",
    "    # %Output\n",
    "    # % Acc = Accuracy of clustering results\n",
    "    # % rand_index = Rand's Index,  measure an agreement of the clustering results\n",
    "    # % match = 2xk mxtrix which are the best match of the Target and clustering results\n",
    "    # %Input\n",
    "    # % T = 1xn target index\n",
    "    # % idx =1xn matrix of the clustering results\n",
    "    # % EX:\n",
    "    # % X=[randn(200,2);randn(200,2)+6,;[randn(200,1)+12,randn(200,1)]]; T=[ones(200,1);ones(200,1).*2;ones(200,1).*3];\n",
    "    # % idx=kmeans(X,3,'emptyaction','singleton','Replicates',5);\n",
    "    # %  [Acc,rand_index,match]=AccMeasure(T,idx)\n",
    "    \n",
    "    \n",
    "    k=np.max([T.max(),idx.max()]);\n",
    "    n=len(T);\n",
    "    for i=1:k\n",
    "        temp=find(T==i);\n",
    "        a{i}=temp; #%#ok<AGROW>\n",
    "\n",
    "    b1=[];\n",
    "    t1=zeros(1,k);\n",
    "    for i=1:k\n",
    "        tt1=find(idx==i);\n",
    "        for j=1:k\n",
    "           t1(j)=sum(ismember(tt1,a{j}));\n",
    "        \n",
    "        b1=[b1;t1]; #%#ok<AGROW>\n",
    "\n",
    "        Members=zeros(1,k); \n",
    "\n",
    "    P = perms((1:k));\n",
    "        Acc1=0;\n",
    "    for pi=1:size(P,1)\n",
    "        for ki=1:k\n",
    "            Members(ki)=b1(P(pi,ki),ki);\n",
    "        \n",
    "        if sum(Members)>Acc1\n",
    "            match=P(pi,:);\n",
    "            Acc1=sum(Members);\n",
    "        \n",
    "    \n",
    "    rand_ss1=0;\n",
    "    rand_dd1=0;\n",
    "    for xi=1:n-1\n",
    "        for xj=xi+1:n\n",
    "            rand_ss1=rand_ss1+((idx(xi)==idx(xj))&&(T(xi)==T(xj)));\n",
    "            rand_dd1=rand_dd1+((idx(xi)~=idx(xj))&&(T(xi)~=T(xj)));\n",
    "        \n",
    "    \n",
    "    rand_index=200*(rand_ss1+rand_dd1)/(n*(n-1));\n",
    "    Acc=Acc1/n*100; \n",
    "    match=[1:k;match];\n",
    "    return [Acc,rand_index,match]"
   ]
  },
  {
   "cell_type": "markdown",
   "metadata": {},
   "source": [
    "# Using MildInt"
   ]
  },
  {
   "cell_type": "code",
   "execution_count": 3,
   "metadata": {},
   "outputs": [
    {
     "name": "stdout",
     "output_type": "stream",
     "text": [
      "(606, 1101)\n",
      "WARNING:tensorflow:From ../MildInt-master_v2/RNNComponent.py:16: GRUCell.__init__ (from tensorflow.python.keras.layers.legacy_rnn.rnn_cell_impl) is deprecated and will be removed in a future version.\n",
      "Instructions for updating:\n",
      "This class is equivalent as tf.keras.layers.GRUCell, and will be replaced by that in Tensorflow 2.0.\n",
      "WARNING:tensorflow:From ../MildInt-master_v2/RNNComponent.py:32: static_rnn (from tensorflow.python.ops.rnn) is deprecated and will be removed in a future version.\n",
      "Instructions for updating:\n",
      "Please use `keras.layers.RNN(cell, unroll=True)`, which is equivalent to this API\n",
      "WARNING:tensorflow:From /home/ubuntu/anaconda3/lib/python3.8/site-packages/tensorflow/python/keras/layers/legacy_rnn/rnn_cell_impl.py:561: Layer.add_variable (from tensorflow.python.keras.engine.base_layer_v1) is deprecated and will be removed in a future version.\n",
      "Instructions for updating:\n",
      "Please use `layer.add_weight` method instead.\n",
      "WARNING:tensorflow:From /home/ubuntu/anaconda3/lib/python3.8/site-packages/tensorflow/python/keras/layers/legacy_rnn/rnn_cell_impl.py:570: calling Constant.__init__ (from tensorflow.python.ops.init_ops) with dtype is deprecated and will be removed in a future version.\n",
      "Instructions for updating:\n",
      "Call initializer instance with the dtype argument instead of passing it to the constructor\n",
      "WARNING:tensorflow:From /home/ubuntu/anaconda3/lib/python3.8/site-packages/tensorflow/python/keras/layers/legacy_rnn/rnn_cell_impl.py:580: calling Zeros.__init__ (from tensorflow.python.ops.init_ops) with dtype is deprecated and will be removed in a future version.\n",
      "Instructions for updating:\n",
      "Call initializer instance with the dtype argument instead of passing it to the constructor\n"
     ]
    }
   ],
   "source": [
    "nSamplesMOA=5\n",
    "# from MulticoreTSNE import MulticoreTSNE as TSNE\n",
    "# df_1 = df_1.interpolate()\n",
    "#############\n",
    "\n",
    "##########\n",
    "# mergProf_treatLevel['Metadata_moa']=mergProf_treatLevel['Metadata_moa'].str.lower()\n",
    "mergProf_treatLevel=mergProf_treatLevel[~mergProf_treatLevel['Metadata_moa'].isnull()].reset_index(drop=True)\n",
    "nSamplesforEachMOAclass=mergProf_treatLevel.groupby(['Metadata_moa']).size().reset_index().rename(columns={0:'size'}).sort_values(by=['size'],ascending=False).reset_index(drop=True)\n",
    "listOfSelectedMoAs=nSamplesforEachMOAclass[nSamplesforEachMOAclass['size']>nSamplesMOA]['Metadata_moa'].tolist()\n",
    "# corresPertID=[mergProf_treatLevel[mergProf_treatLevel['Metadata_moa']==i]['Metadata_pert_id'] for i in listOfSelectedMoAs]\n",
    "# filteredMOAs=mergProf_treatLevel[mergProf_treatLevel['Metadata_moa'].isin(listOfSelectedMoAs)].reset_index(drop=True)\n",
    "IDs4filteredMOAs=mergProf_treatLevel[mergProf_treatLevel['Metadata_moa'].isin(listOfSelectedMoAs)][pertColName].tolist()\n",
    "    \n",
    "filteredMOAs=mergProf_treatLevel[mergProf_treatLevel[pertColName].isin(IDs4filteredMOAs)].reset_index(drop=True)\n",
    "labels=filteredMOAs.Metadata_moa.tolist()\n",
    "print(filteredMOAs.shape)\n",
    "le_2 = preprocessing.LabelEncoder()\n",
    "labels_categorical_2=filteredMOAs.Metadata_moa.unique().tolist();\n",
    "le_2.fit(labels_categorical_2)\n",
    "labels_numerical_2=le_2.transform(labels)\n",
    "\n",
    "#  Data m has a shape (#samples, length of time series, size of input dimension).\n",
    "import sys\n",
    "sys.path.insert(1, '../MildInt-master_v2')\n",
    "from mmrnn import *\n",
    "\n",
    "m = MMRNN()\n",
    "cp_hidden=2\n",
    "ge_hidden=2\n",
    "\n",
    "# snfInput=[filteredMOAs[cp_features].values,filteredMOAs[l1k_features].values]\n",
    "cp_m=filteredMOAs[cp_features].values[:,np.newaxis,:]\n",
    "ge_m=filteredMOAs[l1k_features].values[:,np.newaxis,:]\n",
    "\n",
    "m.append_component('cp', cp_m.shape[2], cp_hidden, cp_m.shape[1])\n",
    "m.append_component('ge', ge_m.shape[2], ge_hidden, ge_m.shape[1])\n",
    "\n",
    "IDs=pd.Series(list(range(cp_m.shape[0])))\n",
    "m.append_data('cp', IDs, cp_m, labels_numerical_2, np.ones(cp_m.shape[0]))\n",
    "m.append_data('ge', IDs, ge_m, labels_numerical_2, np.ones(cp_m.shape[0]))\n",
    "\n",
    "## testIDs=np.array(range(cp_m.shape[1]))"
   ]
  },
  {
   "cell_type": "code",
   "execution_count": 11,
   "metadata": {},
   "outputs": [
    {
     "name": "stderr",
     "output_type": "stream",
     "text": [
      "/home/ubuntu/anaconda3/lib/python3.8/site-packages/sklearn/linear_model/_logistic.py:1320: UserWarning: Setting penalty='none' will ignore the C and l1_ratio parameters\n",
      "  warnings.warn(\n"
     ]
    },
    {
     "name": "stdout",
     "output_type": "stream",
     "text": [
      "[9] [14]\n",
      "[0.0]\n"
     ]
    },
    {
     "name": "stderr",
     "output_type": "stream",
     "text": [
      "/home/ubuntu/anaconda3/lib/python3.8/site-packages/sklearn/linear_model/_logistic.py:1320: UserWarning: Setting penalty='none' will ignore the C and l1_ratio parameters\n",
      "  warnings.warn(\n"
     ]
    },
    {
     "name": "stdout",
     "output_type": "stream",
     "text": [
      "[9] [10]\n",
      "[0.0, 0.0]\n"
     ]
    },
    {
     "name": "stderr",
     "output_type": "stream",
     "text": [
      "/home/ubuntu/anaconda3/lib/python3.8/site-packages/sklearn/linear_model/_logistic.py:1320: UserWarning: Setting penalty='none' will ignore the C and l1_ratio parameters\n",
      "  warnings.warn(\n"
     ]
    },
    {
     "name": "stdout",
     "output_type": "stream",
     "text": [
      "[9] [9]\n",
      "[0.0, 0.0, 1.0]\n"
     ]
    },
    {
     "name": "stderr",
     "output_type": "stream",
     "text": [
      "/home/ubuntu/anaconda3/lib/python3.8/site-packages/sklearn/linear_model/_logistic.py:1320: UserWarning: Setting penalty='none' will ignore the C and l1_ratio parameters\n",
      "  warnings.warn(\n"
     ]
    },
    {
     "name": "stdout",
     "output_type": "stream",
     "text": [
      "[9] [27]\n",
      "[0.0, 0.0, 1.0, 0.0]\n"
     ]
    },
    {
     "name": "stderr",
     "output_type": "stream",
     "text": [
      "/home/ubuntu/anaconda3/lib/python3.8/site-packages/sklearn/linear_model/_logistic.py:1320: UserWarning: Setting penalty='none' will ignore the C and l1_ratio parameters\n",
      "  warnings.warn(\n"
     ]
    },
    {
     "name": "stdout",
     "output_type": "stream",
     "text": [
      "[9] [27]\n",
      "[0.0, 0.0, 1.0, 0.0, 0.0]\n"
     ]
    },
    {
     "name": "stderr",
     "output_type": "stream",
     "text": [
      "/home/ubuntu/anaconda3/lib/python3.8/site-packages/sklearn/linear_model/_logistic.py:1320: UserWarning: Setting penalty='none' will ignore the C and l1_ratio parameters\n",
      "  warnings.warn(\n"
     ]
    },
    {
     "name": "stdout",
     "output_type": "stream",
     "text": [
      "[44] [36]\n",
      "[0.0, 0.0, 1.0, 0.0, 0.0, 0.0]\n"
     ]
    },
    {
     "name": "stderr",
     "output_type": "stream",
     "text": [
      "/home/ubuntu/anaconda3/lib/python3.8/site-packages/sklearn/linear_model/_logistic.py:1320: UserWarning: Setting penalty='none' will ignore the C and l1_ratio parameters\n",
      "  warnings.warn(\n"
     ]
    },
    {
     "name": "stdout",
     "output_type": "stream",
     "text": [
      "[44] [27]\n",
      "[0.0, 0.0, 1.0, 0.0, 0.0, 0.0, 0.0]\n"
     ]
    },
    {
     "name": "stderr",
     "output_type": "stream",
     "text": [
      "/home/ubuntu/anaconda3/lib/python3.8/site-packages/sklearn/linear_model/_logistic.py:1320: UserWarning: Setting penalty='none' will ignore the C and l1_ratio parameters\n",
      "  warnings.warn(\n"
     ]
    },
    {
     "name": "stdout",
     "output_type": "stream",
     "text": [
      "[44] [44]\n",
      "[0.0, 0.0, 1.0, 0.0, 0.0, 0.0, 0.0, 1.0]\n"
     ]
    },
    {
     "name": "stderr",
     "output_type": "stream",
     "text": [
      "/home/ubuntu/anaconda3/lib/python3.8/site-packages/sklearn/linear_model/_logistic.py:1320: UserWarning: Setting penalty='none' will ignore the C and l1_ratio parameters\n",
      "  warnings.warn(\n"
     ]
    },
    {
     "name": "stdout",
     "output_type": "stream",
     "text": [
      "[44] [9]\n",
      "[0.0, 0.0, 1.0, 0.0, 0.0, 0.0, 0.0, 1.0, 0.0]\n"
     ]
    },
    {
     "ename": "KeyboardInterrupt",
     "evalue": "",
     "output_type": "error",
     "traceback": [
      "\u001b[0;31m---------------------------------------------------------------------------\u001b[0m",
      "\u001b[0;31mKeyboardInterrupt\u001b[0m                         Traceback (most recent call last)",
      "\u001b[0;32m<ipython-input-11-32529b2dfc43>\u001b[0m in \u001b[0;36m<module>\u001b[0;34m\u001b[0m\n\u001b[1;32m     16\u001b[0m \u001b[0;31m#     with tf.varialbe_scope('fold run'):\u001b[0m\u001b[0;34m\u001b[0m\u001b[0;34m\u001b[0m\u001b[0;34m\u001b[0m\u001b[0m\n\u001b[1;32m     17\u001b[0m     \u001b[0mm\u001b[0m\u001b[0;34m.\u001b[0m\u001b[0mbuild_integrative_network\u001b[0m\u001b[0;34m(\u001b[0m\u001b[0;34m)\u001b[0m\u001b[0;34m\u001b[0m\u001b[0;34m\u001b[0m\u001b[0m\n\u001b[0;32m---> 18\u001b[0;31m     \u001b[0mm\u001b[0m\u001b[0;34m.\u001b[0m\u001b[0mtraining\u001b[0m\u001b[0;34m(\u001b[0m\u001b[0mlen\u001b[0m\u001b[0;34m(\u001b[0m\u001b[0mtrainIDs\u001b[0m\u001b[0;34m)\u001b[0m\u001b[0;34m)\u001b[0m\u001b[0;34m\u001b[0m\u001b[0;34m\u001b[0m\u001b[0m\n\u001b[0m\u001b[1;32m     19\u001b[0m \u001b[0;34m\u001b[0m\u001b[0m\n\u001b[1;32m     20\u001b[0m     \u001b[0maccuracy\u001b[0m\u001b[0;34m.\u001b[0m\u001b[0mappend\u001b[0m\u001b[0;34m(\u001b[0m\u001b[0mm\u001b[0m\u001b[0;34m.\u001b[0m\u001b[0mevaluate_accuracy\u001b[0m\u001b[0;34m(\u001b[0m\u001b[0;34m)\u001b[0m\u001b[0;34m)\u001b[0m\u001b[0;34m\u001b[0m\u001b[0;34m\u001b[0m\u001b[0m\n",
      "\u001b[0;32m~/workspace_rosetta/workspace/software/MildInt-master_v2/mmrnn.py\u001b[0m in \u001b[0;36mtraining\u001b[0;34m(self, batch_size)\u001b[0m\n\u001b[1;32m    102\u001b[0m     \u001b[0;32mdef\u001b[0m \u001b[0mtraining\u001b[0m\u001b[0;34m(\u001b[0m\u001b[0mself\u001b[0m\u001b[0;34m,\u001b[0m\u001b[0mbatch_size\u001b[0m\u001b[0;34m)\u001b[0m\u001b[0;34m:\u001b[0m\u001b[0;34m\u001b[0m\u001b[0;34m\u001b[0m\u001b[0m\n\u001b[1;32m    103\u001b[0m         \u001b[0;32mfor\u001b[0m \u001b[0mname\u001b[0m \u001b[0;32min\u001b[0m \u001b[0mself\u001b[0m\u001b[0;34m.\u001b[0m\u001b[0mcomponents\u001b[0m\u001b[0;34m:\u001b[0m\u001b[0;34m\u001b[0m\u001b[0;34m\u001b[0m\u001b[0m\n\u001b[0;32m--> 104\u001b[0;31m             \u001b[0mself\u001b[0m\u001b[0;34m.\u001b[0m\u001b[0msingle_modal_training\u001b[0m\u001b[0;34m(\u001b[0m\u001b[0mname\u001b[0m\u001b[0;34m,\u001b[0m\u001b[0mbatch_size\u001b[0m\u001b[0;34m)\u001b[0m\u001b[0;34m\u001b[0m\u001b[0;34m\u001b[0m\u001b[0m\n\u001b[0m\u001b[1;32m    105\u001b[0m         \u001b[0mself\u001b[0m\u001b[0;34m.\u001b[0m\u001b[0mintegrative_training\u001b[0m\u001b[0;34m(\u001b[0m\u001b[0;34m)\u001b[0m\u001b[0;34m\u001b[0m\u001b[0;34m\u001b[0m\u001b[0m\n\u001b[1;32m    106\u001b[0m \u001b[0;34m\u001b[0m\u001b[0m\n",
      "\u001b[0;32m~/workspace_rosetta/workspace/software/MildInt-master_v2/mmrnn.py\u001b[0m in \u001b[0;36msingle_modal_training\u001b[0;34m(self, name, batch_size)\u001b[0m\n\u001b[1;32m     80\u001b[0m         \u001b[0mlabel\u001b[0m \u001b[0;34m=\u001b[0m \u001b[0mself\u001b[0m\u001b[0;34m.\u001b[0m\u001b[0mpickup_by_ID\u001b[0m\u001b[0;34m(\u001b[0m\u001b[0mIDs\u001b[0m\u001b[0;34m,\u001b[0m \u001b[0mlabel\u001b[0m\u001b[0;34m,\u001b[0m \u001b[0mtrainingIDs\u001b[0m\u001b[0;34m)\u001b[0m\u001b[0;34m\u001b[0m\u001b[0;34m\u001b[0m\u001b[0m\n\u001b[1;32m     81\u001b[0m         \u001b[0mdata\u001b[0m \u001b[0;34m=\u001b[0m \u001b[0mself\u001b[0m\u001b[0;34m.\u001b[0m\u001b[0mpickup_by_ID\u001b[0m\u001b[0;34m(\u001b[0m\u001b[0mIDs\u001b[0m\u001b[0;34m,\u001b[0m \u001b[0mdata\u001b[0m\u001b[0;34m,\u001b[0m \u001b[0mtrainingIDs\u001b[0m\u001b[0;34m)\u001b[0m\u001b[0;34m\u001b[0m\u001b[0;34m\u001b[0m\u001b[0m\n\u001b[0;32m---> 82\u001b[0;31m         \u001b[0mcomponent\u001b[0m\u001b[0;34m.\u001b[0m\u001b[0mtraining\u001b[0m\u001b[0;34m(\u001b[0m\u001b[0mself\u001b[0m\u001b[0;34m.\u001b[0m\u001b[0msess\u001b[0m\u001b[0;34m,\u001b[0m\u001b[0mdata\u001b[0m\u001b[0;34m,\u001b[0m\u001b[0mlabel\u001b[0m\u001b[0;34m,\u001b[0m\u001b[0mseqlen\u001b[0m\u001b[0;34m,\u001b[0m \u001b[0mbatch_size\u001b[0m\u001b[0;34m)\u001b[0m\u001b[0;34m\u001b[0m\u001b[0;34m\u001b[0m\u001b[0m\n\u001b[0m\u001b[1;32m     83\u001b[0m \u001b[0;34m\u001b[0m\u001b[0m\n\u001b[1;32m     84\u001b[0m     \u001b[0;32mdef\u001b[0m \u001b[0mintegrative_training\u001b[0m\u001b[0;34m(\u001b[0m\u001b[0mself\u001b[0m\u001b[0;34m)\u001b[0m\u001b[0;34m:\u001b[0m\u001b[0;34m\u001b[0m\u001b[0;34m\u001b[0m\u001b[0m\n",
      "\u001b[0;32m~/workspace_rosetta/workspace/software/MildInt-master_v2/RNNComponent.py\u001b[0m in \u001b[0;36mtraining\u001b[0;34m(self, sess, data, label, seqlen, batch_size)\u001b[0m\n\u001b[1;32m     56\u001b[0m                           \u001b[0mself\u001b[0m\u001b[0;34m.\u001b[0m\u001b[0my\u001b[0m \u001b[0;34m:\u001b[0m \u001b[0mbatch_y\u001b[0m\u001b[0;34m,\u001b[0m\u001b[0;34m\u001b[0m\u001b[0;34m\u001b[0m\u001b[0m\n\u001b[1;32m     57\u001b[0m                           self.seqlen : batch_seqlen}\n\u001b[0;32m---> 58\u001b[0;31m             \u001b[0mloss\u001b[0m\u001b[0;34m,\u001b[0m \u001b[0m_\u001b[0m \u001b[0;34m=\u001b[0m \u001b[0msess\u001b[0m\u001b[0;34m.\u001b[0m\u001b[0mrun\u001b[0m\u001b[0;34m(\u001b[0m\u001b[0;34m[\u001b[0m\u001b[0mself\u001b[0m\u001b[0;34m.\u001b[0m\u001b[0mloss\u001b[0m\u001b[0;34m,\u001b[0m \u001b[0mself\u001b[0m\u001b[0;34m.\u001b[0m\u001b[0mtrain\u001b[0m\u001b[0;34m]\u001b[0m\u001b[0;34m,\u001b[0m\u001b[0mfeed_dict\u001b[0m\u001b[0;34m=\u001b[0m\u001b[0mfeed_dict\u001b[0m\u001b[0;34m)\u001b[0m\u001b[0;34m\u001b[0m\u001b[0;34m\u001b[0m\u001b[0m\n\u001b[0m\u001b[1;32m     59\u001b[0m \u001b[0;34m\u001b[0m\u001b[0m\n\u001b[1;32m     60\u001b[0m         \u001b[0;32mif\u001b[0m \u001b[0mnb_iters\u001b[0m \u001b[0;34m%\u001b[0m \u001b[0mbatch_size\u001b[0m \u001b[0;34m!=\u001b[0m \u001b[0;36m0\u001b[0m\u001b[0;34m:\u001b[0m\u001b[0;34m\u001b[0m\u001b[0;34m\u001b[0m\u001b[0m\n",
      "\u001b[0;32m~/anaconda3/lib/python3.8/site-packages/tensorflow/python/client/session.py\u001b[0m in \u001b[0;36mrun\u001b[0;34m(self, fetches, feed_dict, options, run_metadata)\u001b[0m\n\u001b[1;32m    955\u001b[0m \u001b[0;34m\u001b[0m\u001b[0m\n\u001b[1;32m    956\u001b[0m     \u001b[0;32mtry\u001b[0m\u001b[0;34m:\u001b[0m\u001b[0;34m\u001b[0m\u001b[0;34m\u001b[0m\u001b[0m\n\u001b[0;32m--> 957\u001b[0;31m       result = self._run(None, fetches, feed_dict, options_ptr,\n\u001b[0m\u001b[1;32m    958\u001b[0m                          run_metadata_ptr)\n\u001b[1;32m    959\u001b[0m       \u001b[0;32mif\u001b[0m \u001b[0mrun_metadata\u001b[0m\u001b[0;34m:\u001b[0m\u001b[0;34m\u001b[0m\u001b[0;34m\u001b[0m\u001b[0m\n",
      "\u001b[0;32m~/anaconda3/lib/python3.8/site-packages/tensorflow/python/client/session.py\u001b[0m in \u001b[0;36m_run\u001b[0;34m(self, handle, fetches, feed_dict, options, run_metadata)\u001b[0m\n\u001b[1;32m   1178\u001b[0m     \u001b[0;31m# or if the call is a partial run that specifies feeds.\u001b[0m\u001b[0;34m\u001b[0m\u001b[0;34m\u001b[0m\u001b[0;34m\u001b[0m\u001b[0m\n\u001b[1;32m   1179\u001b[0m     \u001b[0;32mif\u001b[0m \u001b[0mfinal_fetches\u001b[0m \u001b[0;32mor\u001b[0m \u001b[0mfinal_targets\u001b[0m \u001b[0;32mor\u001b[0m \u001b[0;34m(\u001b[0m\u001b[0mhandle\u001b[0m \u001b[0;32mand\u001b[0m \u001b[0mfeed_dict_tensor\u001b[0m\u001b[0;34m)\u001b[0m\u001b[0;34m:\u001b[0m\u001b[0;34m\u001b[0m\u001b[0;34m\u001b[0m\u001b[0m\n\u001b[0;32m-> 1180\u001b[0;31m       results = self._do_run(handle, final_targets, final_fetches,\n\u001b[0m\u001b[1;32m   1181\u001b[0m                              feed_dict_tensor, options, run_metadata)\n\u001b[1;32m   1182\u001b[0m     \u001b[0;32melse\u001b[0m\u001b[0;34m:\u001b[0m\u001b[0;34m\u001b[0m\u001b[0;34m\u001b[0m\u001b[0m\n",
      "\u001b[0;32m~/anaconda3/lib/python3.8/site-packages/tensorflow/python/client/session.py\u001b[0m in \u001b[0;36m_do_run\u001b[0;34m(self, handle, target_list, fetch_list, feed_dict, options, run_metadata)\u001b[0m\n\u001b[1;32m   1356\u001b[0m \u001b[0;34m\u001b[0m\u001b[0m\n\u001b[1;32m   1357\u001b[0m     \u001b[0;32mif\u001b[0m \u001b[0mhandle\u001b[0m \u001b[0;32mis\u001b[0m \u001b[0;32mNone\u001b[0m\u001b[0;34m:\u001b[0m\u001b[0;34m\u001b[0m\u001b[0;34m\u001b[0m\u001b[0m\n\u001b[0;32m-> 1358\u001b[0;31m       return self._do_call(_run_fn, feeds, fetches, targets, options,\n\u001b[0m\u001b[1;32m   1359\u001b[0m                            run_metadata)\n\u001b[1;32m   1360\u001b[0m     \u001b[0;32melse\u001b[0m\u001b[0;34m:\u001b[0m\u001b[0;34m\u001b[0m\u001b[0;34m\u001b[0m\u001b[0m\n",
      "\u001b[0;32m~/anaconda3/lib/python3.8/site-packages/tensorflow/python/client/session.py\u001b[0m in \u001b[0;36m_do_call\u001b[0;34m(self, fn, *args)\u001b[0m\n\u001b[1;32m   1363\u001b[0m   \u001b[0;32mdef\u001b[0m \u001b[0m_do_call\u001b[0m\u001b[0;34m(\u001b[0m\u001b[0mself\u001b[0m\u001b[0;34m,\u001b[0m \u001b[0mfn\u001b[0m\u001b[0;34m,\u001b[0m \u001b[0;34m*\u001b[0m\u001b[0margs\u001b[0m\u001b[0;34m)\u001b[0m\u001b[0;34m:\u001b[0m\u001b[0;34m\u001b[0m\u001b[0;34m\u001b[0m\u001b[0m\n\u001b[1;32m   1364\u001b[0m     \u001b[0;32mtry\u001b[0m\u001b[0;34m:\u001b[0m\u001b[0;34m\u001b[0m\u001b[0;34m\u001b[0m\u001b[0m\n\u001b[0;32m-> 1365\u001b[0;31m       \u001b[0;32mreturn\u001b[0m \u001b[0mfn\u001b[0m\u001b[0;34m(\u001b[0m\u001b[0;34m*\u001b[0m\u001b[0margs\u001b[0m\u001b[0;34m)\u001b[0m\u001b[0;34m\u001b[0m\u001b[0;34m\u001b[0m\u001b[0m\n\u001b[0m\u001b[1;32m   1366\u001b[0m     \u001b[0;32mexcept\u001b[0m \u001b[0merrors\u001b[0m\u001b[0;34m.\u001b[0m\u001b[0mOpError\u001b[0m \u001b[0;32mas\u001b[0m \u001b[0me\u001b[0m\u001b[0;34m:\u001b[0m\u001b[0;34m\u001b[0m\u001b[0;34m\u001b[0m\u001b[0m\n\u001b[1;32m   1367\u001b[0m       \u001b[0mmessage\u001b[0m \u001b[0;34m=\u001b[0m \u001b[0mcompat\u001b[0m\u001b[0;34m.\u001b[0m\u001b[0mas_text\u001b[0m\u001b[0;34m(\u001b[0m\u001b[0me\u001b[0m\u001b[0;34m.\u001b[0m\u001b[0mmessage\u001b[0m\u001b[0;34m)\u001b[0m\u001b[0;34m\u001b[0m\u001b[0;34m\u001b[0m\u001b[0m\n",
      "\u001b[0;32m~/anaconda3/lib/python3.8/site-packages/tensorflow/python/client/session.py\u001b[0m in \u001b[0;36m_run_fn\u001b[0;34m(feed_dict, fetch_list, target_list, options, run_metadata)\u001b[0m\n\u001b[1;32m   1347\u001b[0m       \u001b[0;31m# Ensure any changes to the graph are reflected in the runtime.\u001b[0m\u001b[0;34m\u001b[0m\u001b[0;34m\u001b[0m\u001b[0;34m\u001b[0m\u001b[0m\n\u001b[1;32m   1348\u001b[0m       \u001b[0mself\u001b[0m\u001b[0;34m.\u001b[0m\u001b[0m_extend_graph\u001b[0m\u001b[0;34m(\u001b[0m\u001b[0;34m)\u001b[0m\u001b[0;34m\u001b[0m\u001b[0;34m\u001b[0m\u001b[0m\n\u001b[0;32m-> 1349\u001b[0;31m       return self._call_tf_sessionrun(options, feed_dict, fetch_list,\n\u001b[0m\u001b[1;32m   1350\u001b[0m                                       target_list, run_metadata)\n\u001b[1;32m   1351\u001b[0m \u001b[0;34m\u001b[0m\u001b[0m\n",
      "\u001b[0;32m~/anaconda3/lib/python3.8/site-packages/tensorflow/python/client/session.py\u001b[0m in \u001b[0;36m_call_tf_sessionrun\u001b[0;34m(self, options, feed_dict, fetch_list, target_list, run_metadata)\u001b[0m\n\u001b[1;32m   1439\u001b[0m   def _call_tf_sessionrun(self, options, feed_dict, fetch_list, target_list,\n\u001b[1;32m   1440\u001b[0m                           run_metadata):\n\u001b[0;32m-> 1441\u001b[0;31m     return tf_session.TF_SessionRun_wrapper(self._session, options, feed_dict,\n\u001b[0m\u001b[1;32m   1442\u001b[0m                                             \u001b[0mfetch_list\u001b[0m\u001b[0;34m,\u001b[0m \u001b[0mtarget_list\u001b[0m\u001b[0;34m,\u001b[0m\u001b[0;34m\u001b[0m\u001b[0;34m\u001b[0m\u001b[0m\n\u001b[1;32m   1443\u001b[0m                                             run_metadata)\n",
      "\u001b[0;31mKeyboardInterrupt\u001b[0m: "
     ]
    }
   ],
   "source": [
    "###m.append_test_overlapIDs(testIDs)\n",
    "###m.append_training_overlapIDs(trainIDs)\n",
    "# from DataManager import *\n",
    "# dm = DataManager()\n",
    "# 5-fold CV\n",
    "overlapIDs=IDs.copy()\n",
    "# test_folds = dm.generate_crossvalidation_set(IDs)\n",
    "accuracy = []\n",
    "for i in range(len(overlapIDs)):\n",
    "    test_folds_IDs=[overlapIDs[i]]\n",
    "    m.append_test_overlapIDs(pd.Series(test_folds_IDs))\n",
    "#     trainIDs = overlapIDs[~overlapIDs.isin(test_folds[i])]\n",
    "    trainIDs=list(set(overlapIDs)-set(test_folds_IDs))\n",
    "    m.append_training_overlapIDs(pd.Series(trainIDs))\n",
    "\n",
    "#     with tf.varialbe_scope('fold run'):\n",
    "    m.build_integrative_network()\n",
    "    m.training(len(trainIDs))\n",
    "        \n",
    "    accuracy.append(m.evaluate_accuracy())\n",
    "#     tf.reset_default_graph()\n",
    "    print(accuracy)\n",
    "print(np.mean(accuracy))"
   ]
  },
  {
   "cell_type": "code",
   "execution_count": 4,
   "metadata": {},
   "outputs": [],
   "source": [
    "# filteredMOAs[cp_features].values\n",
    "# del m\n",
    "# [overlapIDs[i]]\n",
    "# cp_m.shape\n",
    "# m.training(len(trainIDs))\n",
    "# pd.Series(m.IDs['cp'])[~pd.Series(m.IDs['cp']).isin(m.test_overlapIDs)]"
   ]
  },
  {
   "cell_type": "code",
   "execution_count": 8,
   "metadata": {},
   "outputs": [],
   "source": [
    "# m.IDs['cp']\n",
    "# m.IDs['cp'][not (pd.Series(m.IDs['cp']).isin(m.test_overlapIDs).tolist())]\n",
    "# len(overlapIDs)\n",
    "# test_folds_IDs=[overlapIDs[0]]"
   ]
  },
  {
   "cell_type": "code",
   "execution_count": 7,
   "metadata": {},
   "outputs": [
    {
     "name": "stdout",
     "output_type": "stream",
     "text": [
      "[ 36  36  36 ... 154 154 154]\n",
      "[36] [36]\n",
      "[1.0]\n",
      "[ 36  36  36 ... 154 154 154]\n",
      "[36] [36]\n",
      "[1.0, 1.0]\n",
      "[ 36  36  36 ... 154 154 154]\n",
      "[36] [36]\n",
      "[1.0, 1.0, 1.0]\n",
      "[ 36  36  36 ... 154 154 154]\n",
      "[36] [82]\n",
      "[1.0, 1.0, 1.0, 0.0]\n",
      "[ 36  36  36 ... 154 154 154]\n",
      "[36] [36]\n",
      "[1.0, 1.0, 1.0, 0.0, 1.0]\n",
      "[ 36  36  36 ... 154 154 154]\n",
      "[174] [72]\n",
      "[1.0, 1.0, 1.0, 0.0, 1.0, 0.0]\n",
      "[ 36  36  36 ... 154 154 154]\n",
      "[174] [59]\n",
      "[1.0, 1.0, 1.0, 0.0, 1.0, 0.0, 0.0]\n",
      "[ 36  36  36 ... 154 154 154]\n",
      "[174] [53]\n",
      "[1.0, 1.0, 1.0, 0.0, 1.0, 0.0, 0.0, 0.0]\n",
      "[ 36  36  36 ... 154 154 154]\n",
      "[174] [139]\n",
      "[1.0, 1.0, 1.0, 0.0, 1.0, 0.0, 0.0, 0.0, 0.0]\n",
      "[ 36  36  36 ... 154 154 154]\n",
      "[174] [132]\n",
      "[1.0, 1.0, 1.0, 0.0, 1.0, 0.0, 0.0, 0.0, 0.0, 0.0]\n",
      "[ 36  36  36 ... 154 154 154]\n",
      "[73] [163]\n",
      "[1.0, 1.0, 1.0, 0.0, 1.0, 0.0, 0.0, 0.0, 0.0, 0.0, 0.0]\n",
      "[ 36  36  36 ... 154 154 154]\n",
      "[156] [55]\n",
      "[1.0, 1.0, 1.0, 0.0, 1.0, 0.0, 0.0, 0.0, 0.0, 0.0, 0.0, 0.0]\n",
      "[ 36  36  36 ... 154 154 154]\n",
      "[156] [82]\n",
      "[1.0, 1.0, 1.0, 0.0, 1.0, 0.0, 0.0, 0.0, 0.0, 0.0, 0.0, 0.0, 0.0]\n",
      "[ 36  36  36 ... 154 154 154]\n",
      "[156] [175]\n",
      "[1.0, 1.0, 1.0, 0.0, 1.0, 0.0, 0.0, 0.0, 0.0, 0.0, 0.0, 0.0, 0.0, 0.0]\n",
      "[ 36  36  36 ... 154 154 154]\n",
      "[171] [74]\n",
      "[1.0, 1.0, 1.0, 0.0, 1.0, 0.0, 0.0, 0.0, 0.0, 0.0, 0.0, 0.0, 0.0, 0.0, 0.0]\n",
      "[ 36  36  36 ... 154 154 154]\n",
      "[169] [79]\n",
      "[1.0, 1.0, 1.0, 0.0, 1.0, 0.0, 0.0, 0.0, 0.0, 0.0, 0.0, 0.0, 0.0, 0.0, 0.0, 0.0]\n",
      "[ 36  36  36 ... 154 154 154]\n"
     ]
    },
    {
     "ename": "KeyboardInterrupt",
     "evalue": "",
     "output_type": "error",
     "traceback": [
      "\u001b[0;31m---------------------------------------------------------------------------\u001b[0m",
      "\u001b[0;31mKeyboardInterrupt\u001b[0m                         Traceback (most recent call last)",
      "\u001b[0;32m<ipython-input-7-b5b5e3645728>\u001b[0m in \u001b[0;36m<module>\u001b[0;34m\u001b[0m\n\u001b[1;32m     11\u001b[0m \u001b[0;31m#     with tf.varialbe_scope('fold run'):\u001b[0m\u001b[0;34m\u001b[0m\u001b[0;34m\u001b[0m\u001b[0;34m\u001b[0m\u001b[0m\n\u001b[1;32m     12\u001b[0m     \u001b[0mm\u001b[0m\u001b[0;34m.\u001b[0m\u001b[0mbuild_integrative_network\u001b[0m\u001b[0;34m(\u001b[0m\u001b[0;34m)\u001b[0m\u001b[0;34m\u001b[0m\u001b[0;34m\u001b[0m\u001b[0m\n\u001b[0;32m---> 13\u001b[0;31m     \u001b[0mm\u001b[0m\u001b[0;34m.\u001b[0m\u001b[0mtraining\u001b[0m\u001b[0;34m(\u001b[0m\u001b[0mlen\u001b[0m\u001b[0;34m(\u001b[0m\u001b[0mtrainIDs\u001b[0m\u001b[0;34m)\u001b[0m\u001b[0;34m)\u001b[0m\u001b[0;34m\u001b[0m\u001b[0;34m\u001b[0m\u001b[0m\n\u001b[0m\u001b[1;32m     14\u001b[0m \u001b[0;34m\u001b[0m\u001b[0m\n\u001b[1;32m     15\u001b[0m     \u001b[0maccuracy\u001b[0m\u001b[0;34m.\u001b[0m\u001b[0mappend\u001b[0m\u001b[0;34m(\u001b[0m\u001b[0mm\u001b[0m\u001b[0;34m.\u001b[0m\u001b[0mevaluate_accuracy\u001b[0m\u001b[0;34m(\u001b[0m\u001b[0;34m)\u001b[0m\u001b[0;34m)\u001b[0m\u001b[0;34m\u001b[0m\u001b[0;34m\u001b[0m\u001b[0m\n",
      "\u001b[0;32m~/workspace_rosetta/workspace/software/MildInt-master_v2/mmrnn.py\u001b[0m in \u001b[0;36mtraining\u001b[0;34m(self, batch_size)\u001b[0m\n\u001b[1;32m    103\u001b[0m         \u001b[0;32mfor\u001b[0m \u001b[0mname\u001b[0m \u001b[0;32min\u001b[0m \u001b[0mself\u001b[0m\u001b[0;34m.\u001b[0m\u001b[0mcomponents\u001b[0m\u001b[0;34m:\u001b[0m\u001b[0;34m\u001b[0m\u001b[0;34m\u001b[0m\u001b[0m\n\u001b[1;32m    104\u001b[0m             \u001b[0mself\u001b[0m\u001b[0;34m.\u001b[0m\u001b[0msingle_modal_training\u001b[0m\u001b[0;34m(\u001b[0m\u001b[0mname\u001b[0m\u001b[0;34m,\u001b[0m\u001b[0mbatch_size\u001b[0m\u001b[0;34m)\u001b[0m\u001b[0;34m\u001b[0m\u001b[0;34m\u001b[0m\u001b[0m\n\u001b[0;32m--> 105\u001b[0;31m         \u001b[0mself\u001b[0m\u001b[0;34m.\u001b[0m\u001b[0mintegrative_training\u001b[0m\u001b[0;34m(\u001b[0m\u001b[0;34m)\u001b[0m\u001b[0;34m\u001b[0m\u001b[0;34m\u001b[0m\u001b[0m\n\u001b[0m\u001b[1;32m    106\u001b[0m \u001b[0;34m\u001b[0m\u001b[0m\n\u001b[1;32m    107\u001b[0m     \u001b[0;32mdef\u001b[0m \u001b[0mpredict_test\u001b[0m\u001b[0;34m(\u001b[0m\u001b[0mself\u001b[0m\u001b[0;34m)\u001b[0m\u001b[0;34m:\u001b[0m\u001b[0;34m\u001b[0m\u001b[0;34m\u001b[0m\u001b[0m\n",
      "\u001b[0;32m~/workspace_rosetta/workspace/software/MildInt-master_v2/mmrnn.py\u001b[0m in \u001b[0;36mintegrative_training\u001b[0;34m(self)\u001b[0m\n\u001b[1;32m     98\u001b[0m         \u001b[0mself\u001b[0m\u001b[0;34m.\u001b[0m\u001b[0mclf\u001b[0m \u001b[0;34m=\u001b[0m \u001b[0mLogisticRegression\u001b[0m\u001b[0;34m(\u001b[0m\u001b[0mmulti_class\u001b[0m\u001b[0;34m=\u001b[0m\u001b[0;34m'ovr'\u001b[0m\u001b[0;34m,\u001b[0m\u001b[0mC\u001b[0m\u001b[0;34m=\u001b[0m\u001b[0;36m80\u001b[0m\u001b[0;34m,\u001b[0m \u001b[0mclass_weight\u001b[0m\u001b[0;34m=\u001b[0m\u001b[0;34m'balanced'\u001b[0m\u001b[0;34m)\u001b[0m\u001b[0;34m\u001b[0m\u001b[0;34m\u001b[0m\u001b[0m\n\u001b[1;32m     99\u001b[0m         \u001b[0mprint\u001b[0m\u001b[0;34m(\u001b[0m\u001b[0my\u001b[0m\u001b[0;34m)\u001b[0m\u001b[0;34m\u001b[0m\u001b[0;34m\u001b[0m\u001b[0m\n\u001b[0;32m--> 100\u001b[0;31m         \u001b[0mself\u001b[0m\u001b[0;34m.\u001b[0m\u001b[0mclf\u001b[0m\u001b[0;34m.\u001b[0m\u001b[0mfit\u001b[0m\u001b[0;34m(\u001b[0m\u001b[0mself\u001b[0m\u001b[0;34m.\u001b[0m\u001b[0mpredictor\u001b[0m\u001b[0;34m,\u001b[0m \u001b[0my\u001b[0m\u001b[0;34m)\u001b[0m\u001b[0;34m\u001b[0m\u001b[0;34m\u001b[0m\u001b[0m\n\u001b[0m\u001b[1;32m    101\u001b[0m \u001b[0;34m\u001b[0m\u001b[0m\n\u001b[1;32m    102\u001b[0m     \u001b[0;32mdef\u001b[0m \u001b[0mtraining\u001b[0m\u001b[0;34m(\u001b[0m\u001b[0mself\u001b[0m\u001b[0;34m,\u001b[0m\u001b[0mbatch_size\u001b[0m\u001b[0;34m)\u001b[0m\u001b[0;34m:\u001b[0m\u001b[0;34m\u001b[0m\u001b[0;34m\u001b[0m\u001b[0m\n",
      "\u001b[0;32m~/anaconda3/lib/python3.8/site-packages/comet_ml/monkey_patching.py\u001b[0m in \u001b[0;36mwrapper\u001b[0;34m(*args, **kwargs)\u001b[0m\n\u001b[1;32m    290\u001b[0m                     )\n\u001b[1;32m    291\u001b[0m \u001b[0;34m\u001b[0m\u001b[0m\n\u001b[0;32m--> 292\u001b[0;31m         \u001b[0mreturn_value\u001b[0m \u001b[0;34m=\u001b[0m \u001b[0moriginal\u001b[0m\u001b[0;34m(\u001b[0m\u001b[0;34m*\u001b[0m\u001b[0margs\u001b[0m\u001b[0;34m,\u001b[0m \u001b[0;34m**\u001b[0m\u001b[0mkwargs\u001b[0m\u001b[0;34m)\u001b[0m\u001b[0;34m\u001b[0m\u001b[0;34m\u001b[0m\u001b[0m\n\u001b[0m\u001b[1;32m    293\u001b[0m \u001b[0;34m\u001b[0m\u001b[0m\n\u001b[1;32m    294\u001b[0m         \u001b[0;31m# Call after callbacks once we have the return value\u001b[0m\u001b[0;34m\u001b[0m\u001b[0;34m\u001b[0m\u001b[0;34m\u001b[0m\u001b[0m\n",
      "\u001b[0;32m~/anaconda3/lib/python3.8/site-packages/sklearn/linear_model/_logistic.py\u001b[0m in \u001b[0;36mfit\u001b[0;34m(self, X, y, sample_weight)\u001b[0m\n\u001b[1;32m   1405\u001b[0m         \u001b[0;32melse\u001b[0m\u001b[0;34m:\u001b[0m\u001b[0;34m\u001b[0m\u001b[0;34m\u001b[0m\u001b[0m\n\u001b[1;32m   1406\u001b[0m             \u001b[0mprefer\u001b[0m \u001b[0;34m=\u001b[0m \u001b[0;34m'processes'\u001b[0m\u001b[0;34m\u001b[0m\u001b[0;34m\u001b[0m\u001b[0m\n\u001b[0;32m-> 1407\u001b[0;31m         fold_coefs_ = Parallel(n_jobs=self.n_jobs, verbose=self.verbose,\n\u001b[0m\u001b[1;32m   1408\u001b[0m                                \u001b[0;34m**\u001b[0m\u001b[0m_joblib_parallel_args\u001b[0m\u001b[0;34m(\u001b[0m\u001b[0mprefer\u001b[0m\u001b[0;34m=\u001b[0m\u001b[0mprefer\u001b[0m\u001b[0;34m)\u001b[0m\u001b[0;34m)\u001b[0m\u001b[0;34m(\u001b[0m\u001b[0;34m\u001b[0m\u001b[0;34m\u001b[0m\u001b[0m\n\u001b[1;32m   1409\u001b[0m             path_func(X, y, pos_class=class_, Cs=[C_],\n",
      "\u001b[0;32m~/anaconda3/lib/python3.8/site-packages/joblib/parallel.py\u001b[0m in \u001b[0;36m__call__\u001b[0;34m(self, iterable)\u001b[0m\n\u001b[1;32m   1030\u001b[0m                 \u001b[0mself\u001b[0m\u001b[0;34m.\u001b[0m\u001b[0m_iterating\u001b[0m \u001b[0;34m=\u001b[0m \u001b[0mself\u001b[0m\u001b[0;34m.\u001b[0m\u001b[0m_original_iterator\u001b[0m \u001b[0;32mis\u001b[0m \u001b[0;32mnot\u001b[0m \u001b[0;32mNone\u001b[0m\u001b[0;34m\u001b[0m\u001b[0;34m\u001b[0m\u001b[0m\n\u001b[1;32m   1031\u001b[0m \u001b[0;34m\u001b[0m\u001b[0m\n\u001b[0;32m-> 1032\u001b[0;31m             \u001b[0;32mwhile\u001b[0m \u001b[0mself\u001b[0m\u001b[0;34m.\u001b[0m\u001b[0mdispatch_one_batch\u001b[0m\u001b[0;34m(\u001b[0m\u001b[0miterator\u001b[0m\u001b[0;34m)\u001b[0m\u001b[0;34m:\u001b[0m\u001b[0;34m\u001b[0m\u001b[0;34m\u001b[0m\u001b[0m\n\u001b[0m\u001b[1;32m   1033\u001b[0m                 \u001b[0;32mpass\u001b[0m\u001b[0;34m\u001b[0m\u001b[0;34m\u001b[0m\u001b[0m\n\u001b[1;32m   1034\u001b[0m \u001b[0;34m\u001b[0m\u001b[0m\n",
      "\u001b[0;32m~/anaconda3/lib/python3.8/site-packages/joblib/parallel.py\u001b[0m in \u001b[0;36mdispatch_one_batch\u001b[0;34m(self, iterator)\u001b[0m\n\u001b[1;32m    845\u001b[0m                 \u001b[0;32mreturn\u001b[0m \u001b[0;32mFalse\u001b[0m\u001b[0;34m\u001b[0m\u001b[0;34m\u001b[0m\u001b[0m\n\u001b[1;32m    846\u001b[0m             \u001b[0;32melse\u001b[0m\u001b[0;34m:\u001b[0m\u001b[0;34m\u001b[0m\u001b[0;34m\u001b[0m\u001b[0m\n\u001b[0;32m--> 847\u001b[0;31m                 \u001b[0mself\u001b[0m\u001b[0;34m.\u001b[0m\u001b[0m_dispatch\u001b[0m\u001b[0;34m(\u001b[0m\u001b[0mtasks\u001b[0m\u001b[0;34m)\u001b[0m\u001b[0;34m\u001b[0m\u001b[0;34m\u001b[0m\u001b[0m\n\u001b[0m\u001b[1;32m    848\u001b[0m                 \u001b[0;32mreturn\u001b[0m \u001b[0;32mTrue\u001b[0m\u001b[0;34m\u001b[0m\u001b[0;34m\u001b[0m\u001b[0m\n\u001b[1;32m    849\u001b[0m \u001b[0;34m\u001b[0m\u001b[0m\n",
      "\u001b[0;32m~/anaconda3/lib/python3.8/site-packages/joblib/parallel.py\u001b[0m in \u001b[0;36m_dispatch\u001b[0;34m(self, batch)\u001b[0m\n\u001b[1;32m    763\u001b[0m         \u001b[0;32mwith\u001b[0m \u001b[0mself\u001b[0m\u001b[0;34m.\u001b[0m\u001b[0m_lock\u001b[0m\u001b[0;34m:\u001b[0m\u001b[0;34m\u001b[0m\u001b[0;34m\u001b[0m\u001b[0m\n\u001b[1;32m    764\u001b[0m             \u001b[0mjob_idx\u001b[0m \u001b[0;34m=\u001b[0m \u001b[0mlen\u001b[0m\u001b[0;34m(\u001b[0m\u001b[0mself\u001b[0m\u001b[0;34m.\u001b[0m\u001b[0m_jobs\u001b[0m\u001b[0;34m)\u001b[0m\u001b[0;34m\u001b[0m\u001b[0;34m\u001b[0m\u001b[0m\n\u001b[0;32m--> 765\u001b[0;31m             \u001b[0mjob\u001b[0m \u001b[0;34m=\u001b[0m \u001b[0mself\u001b[0m\u001b[0;34m.\u001b[0m\u001b[0m_backend\u001b[0m\u001b[0;34m.\u001b[0m\u001b[0mapply_async\u001b[0m\u001b[0;34m(\u001b[0m\u001b[0mbatch\u001b[0m\u001b[0;34m,\u001b[0m \u001b[0mcallback\u001b[0m\u001b[0;34m=\u001b[0m\u001b[0mcb\u001b[0m\u001b[0;34m)\u001b[0m\u001b[0;34m\u001b[0m\u001b[0;34m\u001b[0m\u001b[0m\n\u001b[0m\u001b[1;32m    766\u001b[0m             \u001b[0;31m# A job can complete so quickly than its callback is\u001b[0m\u001b[0;34m\u001b[0m\u001b[0;34m\u001b[0m\u001b[0;34m\u001b[0m\u001b[0m\n\u001b[1;32m    767\u001b[0m             \u001b[0;31m# called before we get here, causing self._jobs to\u001b[0m\u001b[0;34m\u001b[0m\u001b[0;34m\u001b[0m\u001b[0;34m\u001b[0m\u001b[0m\n",
      "\u001b[0;32m~/anaconda3/lib/python3.8/site-packages/joblib/_parallel_backends.py\u001b[0m in \u001b[0;36mapply_async\u001b[0;34m(self, func, callback)\u001b[0m\n\u001b[1;32m    206\u001b[0m     \u001b[0;32mdef\u001b[0m \u001b[0mapply_async\u001b[0m\u001b[0;34m(\u001b[0m\u001b[0mself\u001b[0m\u001b[0;34m,\u001b[0m \u001b[0mfunc\u001b[0m\u001b[0;34m,\u001b[0m \u001b[0mcallback\u001b[0m\u001b[0;34m=\u001b[0m\u001b[0;32mNone\u001b[0m\u001b[0;34m)\u001b[0m\u001b[0;34m:\u001b[0m\u001b[0;34m\u001b[0m\u001b[0;34m\u001b[0m\u001b[0m\n\u001b[1;32m    207\u001b[0m         \u001b[0;34m\"\"\"Schedule a func to be run\"\"\"\u001b[0m\u001b[0;34m\u001b[0m\u001b[0;34m\u001b[0m\u001b[0m\n\u001b[0;32m--> 208\u001b[0;31m         \u001b[0mresult\u001b[0m \u001b[0;34m=\u001b[0m \u001b[0mImmediateResult\u001b[0m\u001b[0;34m(\u001b[0m\u001b[0mfunc\u001b[0m\u001b[0;34m)\u001b[0m\u001b[0;34m\u001b[0m\u001b[0;34m\u001b[0m\u001b[0m\n\u001b[0m\u001b[1;32m    209\u001b[0m         \u001b[0;32mif\u001b[0m \u001b[0mcallback\u001b[0m\u001b[0;34m:\u001b[0m\u001b[0;34m\u001b[0m\u001b[0;34m\u001b[0m\u001b[0m\n\u001b[1;32m    210\u001b[0m             \u001b[0mcallback\u001b[0m\u001b[0;34m(\u001b[0m\u001b[0mresult\u001b[0m\u001b[0;34m)\u001b[0m\u001b[0;34m\u001b[0m\u001b[0;34m\u001b[0m\u001b[0m\n",
      "\u001b[0;32m~/anaconda3/lib/python3.8/site-packages/joblib/_parallel_backends.py\u001b[0m in \u001b[0;36m__init__\u001b[0;34m(self, batch)\u001b[0m\n\u001b[1;32m    570\u001b[0m         \u001b[0;31m# Don't delay the application, to avoid keeping the input\u001b[0m\u001b[0;34m\u001b[0m\u001b[0;34m\u001b[0m\u001b[0;34m\u001b[0m\u001b[0m\n\u001b[1;32m    571\u001b[0m         \u001b[0;31m# arguments in memory\u001b[0m\u001b[0;34m\u001b[0m\u001b[0;34m\u001b[0m\u001b[0;34m\u001b[0m\u001b[0m\n\u001b[0;32m--> 572\u001b[0;31m         \u001b[0mself\u001b[0m\u001b[0;34m.\u001b[0m\u001b[0mresults\u001b[0m \u001b[0;34m=\u001b[0m \u001b[0mbatch\u001b[0m\u001b[0;34m(\u001b[0m\u001b[0;34m)\u001b[0m\u001b[0;34m\u001b[0m\u001b[0;34m\u001b[0m\u001b[0m\n\u001b[0m\u001b[1;32m    573\u001b[0m \u001b[0;34m\u001b[0m\u001b[0m\n\u001b[1;32m    574\u001b[0m     \u001b[0;32mdef\u001b[0m \u001b[0mget\u001b[0m\u001b[0;34m(\u001b[0m\u001b[0mself\u001b[0m\u001b[0;34m)\u001b[0m\u001b[0;34m:\u001b[0m\u001b[0;34m\u001b[0m\u001b[0;34m\u001b[0m\u001b[0m\n",
      "\u001b[0;32m~/anaconda3/lib/python3.8/site-packages/joblib/parallel.py\u001b[0m in \u001b[0;36m__call__\u001b[0;34m(self)\u001b[0m\n\u001b[1;32m    250\u001b[0m         \u001b[0;31m# change the default number of processes to -1\u001b[0m\u001b[0;34m\u001b[0m\u001b[0;34m\u001b[0m\u001b[0;34m\u001b[0m\u001b[0m\n\u001b[1;32m    251\u001b[0m         \u001b[0;32mwith\u001b[0m \u001b[0mparallel_backend\u001b[0m\u001b[0;34m(\u001b[0m\u001b[0mself\u001b[0m\u001b[0;34m.\u001b[0m\u001b[0m_backend\u001b[0m\u001b[0;34m,\u001b[0m \u001b[0mn_jobs\u001b[0m\u001b[0;34m=\u001b[0m\u001b[0mself\u001b[0m\u001b[0;34m.\u001b[0m\u001b[0m_n_jobs\u001b[0m\u001b[0;34m)\u001b[0m\u001b[0;34m:\u001b[0m\u001b[0;34m\u001b[0m\u001b[0;34m\u001b[0m\u001b[0m\n\u001b[0;32m--> 252\u001b[0;31m             return [func(*args, **kwargs)\n\u001b[0m\u001b[1;32m    253\u001b[0m                     for func, args, kwargs in self.items]\n\u001b[1;32m    254\u001b[0m \u001b[0;34m\u001b[0m\u001b[0m\n",
      "\u001b[0;32m~/anaconda3/lib/python3.8/site-packages/joblib/parallel.py\u001b[0m in \u001b[0;36m<listcomp>\u001b[0;34m(.0)\u001b[0m\n\u001b[1;32m    250\u001b[0m         \u001b[0;31m# change the default number of processes to -1\u001b[0m\u001b[0;34m\u001b[0m\u001b[0;34m\u001b[0m\u001b[0;34m\u001b[0m\u001b[0m\n\u001b[1;32m    251\u001b[0m         \u001b[0;32mwith\u001b[0m \u001b[0mparallel_backend\u001b[0m\u001b[0;34m(\u001b[0m\u001b[0mself\u001b[0m\u001b[0;34m.\u001b[0m\u001b[0m_backend\u001b[0m\u001b[0;34m,\u001b[0m \u001b[0mn_jobs\u001b[0m\u001b[0;34m=\u001b[0m\u001b[0mself\u001b[0m\u001b[0;34m.\u001b[0m\u001b[0m_n_jobs\u001b[0m\u001b[0;34m)\u001b[0m\u001b[0;34m:\u001b[0m\u001b[0;34m\u001b[0m\u001b[0;34m\u001b[0m\u001b[0m\n\u001b[0;32m--> 252\u001b[0;31m             return [func(*args, **kwargs)\n\u001b[0m\u001b[1;32m    253\u001b[0m                     for func, args, kwargs in self.items]\n\u001b[1;32m    254\u001b[0m \u001b[0;34m\u001b[0m\u001b[0m\n",
      "\u001b[0;32m~/anaconda3/lib/python3.8/site-packages/sklearn/linear_model/_logistic.py\u001b[0m in \u001b[0;36m_logistic_regression_path\u001b[0;34m(X, y, pos_class, Cs, fit_intercept, max_iter, tol, verbose, solver, coef, class_weight, dual, penalty, intercept_scaling, multi_class, random_state, check_input, max_squared_sum, sample_weight, l1_ratio)\u001b[0m\n\u001b[1;32m    755\u001b[0m             iprint = [-1, 50, 1, 100, 101][\n\u001b[1;32m    756\u001b[0m                 np.searchsorted(np.array([0, 1, 2, 3]), verbose)]\n\u001b[0;32m--> 757\u001b[0;31m             opt_res = optimize.minimize(\n\u001b[0m\u001b[1;32m    758\u001b[0m                 \u001b[0mfunc\u001b[0m\u001b[0;34m,\u001b[0m \u001b[0mw0\u001b[0m\u001b[0;34m,\u001b[0m \u001b[0mmethod\u001b[0m\u001b[0;34m=\u001b[0m\u001b[0;34m\"L-BFGS-B\"\u001b[0m\u001b[0;34m,\u001b[0m \u001b[0mjac\u001b[0m\u001b[0;34m=\u001b[0m\u001b[0;32mTrue\u001b[0m\u001b[0;34m,\u001b[0m\u001b[0;34m\u001b[0m\u001b[0;34m\u001b[0m\u001b[0m\n\u001b[1;32m    759\u001b[0m                 \u001b[0margs\u001b[0m\u001b[0;34m=\u001b[0m\u001b[0;34m(\u001b[0m\u001b[0mX\u001b[0m\u001b[0;34m,\u001b[0m \u001b[0mtarget\u001b[0m\u001b[0;34m,\u001b[0m \u001b[0;36m1.\u001b[0m \u001b[0;34m/\u001b[0m \u001b[0mC\u001b[0m\u001b[0;34m,\u001b[0m \u001b[0msample_weight\u001b[0m\u001b[0;34m)\u001b[0m\u001b[0;34m,\u001b[0m\u001b[0;34m\u001b[0m\u001b[0;34m\u001b[0m\u001b[0m\n",
      "\u001b[0;32m~/anaconda3/lib/python3.8/site-packages/scipy/optimize/_minimize.py\u001b[0m in \u001b[0;36mminimize\u001b[0;34m(fun, x0, args, method, jac, hess, hessp, bounds, constraints, tol, callback, options)\u001b[0m\n\u001b[1;32m    615\u001b[0m                                   **options)\n\u001b[1;32m    616\u001b[0m     \u001b[0;32melif\u001b[0m \u001b[0mmeth\u001b[0m \u001b[0;34m==\u001b[0m \u001b[0;34m'l-bfgs-b'\u001b[0m\u001b[0;34m:\u001b[0m\u001b[0;34m\u001b[0m\u001b[0;34m\u001b[0m\u001b[0m\n\u001b[0;32m--> 617\u001b[0;31m         return _minimize_lbfgsb(fun, x0, args, jac, bounds,\n\u001b[0m\u001b[1;32m    618\u001b[0m                                 callback=callback, **options)\n\u001b[1;32m    619\u001b[0m     \u001b[0;32melif\u001b[0m \u001b[0mmeth\u001b[0m \u001b[0;34m==\u001b[0m \u001b[0;34m'tnc'\u001b[0m\u001b[0;34m:\u001b[0m\u001b[0;34m\u001b[0m\u001b[0;34m\u001b[0m\u001b[0m\n",
      "\u001b[0;32m~/anaconda3/lib/python3.8/site-packages/scipy/optimize/lbfgsb.py\u001b[0m in \u001b[0;36m_minimize_lbfgsb\u001b[0;34m(fun, x0, args, jac, bounds, disp, maxcor, ftol, gtol, eps, maxfun, maxiter, iprint, callback, maxls, finite_diff_rel_step, **unknown_options)\u001b[0m\n\u001b[1;32m    358\u001b[0m             \u001b[0;31m# until the completion of the current minimization iteration.\u001b[0m\u001b[0;34m\u001b[0m\u001b[0;34m\u001b[0m\u001b[0;34m\u001b[0m\u001b[0m\n\u001b[1;32m    359\u001b[0m             \u001b[0;31m# Overwrite f and g:\u001b[0m\u001b[0;34m\u001b[0m\u001b[0;34m\u001b[0m\u001b[0;34m\u001b[0m\u001b[0m\n\u001b[0;32m--> 360\u001b[0;31m             \u001b[0mf\u001b[0m\u001b[0;34m,\u001b[0m \u001b[0mg\u001b[0m \u001b[0;34m=\u001b[0m \u001b[0mfunc_and_grad\u001b[0m\u001b[0;34m(\u001b[0m\u001b[0mx\u001b[0m\u001b[0;34m)\u001b[0m\u001b[0;34m\u001b[0m\u001b[0;34m\u001b[0m\u001b[0m\n\u001b[0m\u001b[1;32m    361\u001b[0m         \u001b[0;32melif\u001b[0m \u001b[0mtask_str\u001b[0m\u001b[0;34m.\u001b[0m\u001b[0mstartswith\u001b[0m\u001b[0;34m(\u001b[0m\u001b[0;34mb'NEW_X'\u001b[0m\u001b[0;34m)\u001b[0m\u001b[0;34m:\u001b[0m\u001b[0;34m\u001b[0m\u001b[0;34m\u001b[0m\u001b[0m\n\u001b[1;32m    362\u001b[0m             \u001b[0;31m# new iteration\u001b[0m\u001b[0;34m\u001b[0m\u001b[0;34m\u001b[0m\u001b[0;34m\u001b[0m\u001b[0m\n",
      "\u001b[0;32m~/anaconda3/lib/python3.8/site-packages/scipy/optimize/_differentiable_functions.py\u001b[0m in \u001b[0;36mfun_and_grad\u001b[0;34m(self, x)\u001b[0m\n\u001b[1;32m    198\u001b[0m         \u001b[0;32mif\u001b[0m \u001b[0;32mnot\u001b[0m \u001b[0mnp\u001b[0m\u001b[0;34m.\u001b[0m\u001b[0marray_equal\u001b[0m\u001b[0;34m(\u001b[0m\u001b[0mx\u001b[0m\u001b[0;34m,\u001b[0m \u001b[0mself\u001b[0m\u001b[0;34m.\u001b[0m\u001b[0mx\u001b[0m\u001b[0;34m)\u001b[0m\u001b[0;34m:\u001b[0m\u001b[0;34m\u001b[0m\u001b[0;34m\u001b[0m\u001b[0m\n\u001b[1;32m    199\u001b[0m             \u001b[0mself\u001b[0m\u001b[0;34m.\u001b[0m\u001b[0m_update_x_impl\u001b[0m\u001b[0;34m(\u001b[0m\u001b[0mx\u001b[0m\u001b[0;34m)\u001b[0m\u001b[0;34m\u001b[0m\u001b[0;34m\u001b[0m\u001b[0m\n\u001b[0;32m--> 200\u001b[0;31m         \u001b[0mself\u001b[0m\u001b[0;34m.\u001b[0m\u001b[0m_update_fun\u001b[0m\u001b[0;34m(\u001b[0m\u001b[0;34m)\u001b[0m\u001b[0;34m\u001b[0m\u001b[0;34m\u001b[0m\u001b[0m\n\u001b[0m\u001b[1;32m    201\u001b[0m         \u001b[0mself\u001b[0m\u001b[0;34m.\u001b[0m\u001b[0m_update_grad\u001b[0m\u001b[0;34m(\u001b[0m\u001b[0;34m)\u001b[0m\u001b[0;34m\u001b[0m\u001b[0;34m\u001b[0m\u001b[0m\n\u001b[1;32m    202\u001b[0m         \u001b[0;32mreturn\u001b[0m \u001b[0mself\u001b[0m\u001b[0;34m.\u001b[0m\u001b[0mf\u001b[0m\u001b[0;34m,\u001b[0m \u001b[0mself\u001b[0m\u001b[0;34m.\u001b[0m\u001b[0mg\u001b[0m\u001b[0;34m\u001b[0m\u001b[0;34m\u001b[0m\u001b[0m\n",
      "\u001b[0;32m~/anaconda3/lib/python3.8/site-packages/scipy/optimize/_differentiable_functions.py\u001b[0m in \u001b[0;36m_update_fun\u001b[0;34m(self)\u001b[0m\n\u001b[1;32m    164\u001b[0m     \u001b[0;32mdef\u001b[0m \u001b[0m_update_fun\u001b[0m\u001b[0;34m(\u001b[0m\u001b[0mself\u001b[0m\u001b[0;34m)\u001b[0m\u001b[0;34m:\u001b[0m\u001b[0;34m\u001b[0m\u001b[0;34m\u001b[0m\u001b[0m\n\u001b[1;32m    165\u001b[0m         \u001b[0;32mif\u001b[0m \u001b[0;32mnot\u001b[0m \u001b[0mself\u001b[0m\u001b[0;34m.\u001b[0m\u001b[0mf_updated\u001b[0m\u001b[0;34m:\u001b[0m\u001b[0;34m\u001b[0m\u001b[0;34m\u001b[0m\u001b[0m\n\u001b[0;32m--> 166\u001b[0;31m             \u001b[0mself\u001b[0m\u001b[0;34m.\u001b[0m\u001b[0m_update_fun_impl\u001b[0m\u001b[0;34m(\u001b[0m\u001b[0;34m)\u001b[0m\u001b[0;34m\u001b[0m\u001b[0;34m\u001b[0m\u001b[0m\n\u001b[0m\u001b[1;32m    167\u001b[0m             \u001b[0mself\u001b[0m\u001b[0;34m.\u001b[0m\u001b[0mf_updated\u001b[0m \u001b[0;34m=\u001b[0m \u001b[0;32mTrue\u001b[0m\u001b[0;34m\u001b[0m\u001b[0;34m\u001b[0m\u001b[0m\n\u001b[1;32m    168\u001b[0m \u001b[0;34m\u001b[0m\u001b[0m\n",
      "\u001b[0;32m~/anaconda3/lib/python3.8/site-packages/scipy/optimize/_differentiable_functions.py\u001b[0m in \u001b[0;36mupdate_fun\u001b[0;34m()\u001b[0m\n\u001b[1;32m     71\u001b[0m \u001b[0;34m\u001b[0m\u001b[0m\n\u001b[1;32m     72\u001b[0m         \u001b[0;32mdef\u001b[0m \u001b[0mupdate_fun\u001b[0m\u001b[0;34m(\u001b[0m\u001b[0;34m)\u001b[0m\u001b[0;34m:\u001b[0m\u001b[0;34m\u001b[0m\u001b[0;34m\u001b[0m\u001b[0m\n\u001b[0;32m---> 73\u001b[0;31m             \u001b[0mself\u001b[0m\u001b[0;34m.\u001b[0m\u001b[0mf\u001b[0m \u001b[0;34m=\u001b[0m \u001b[0mfun_wrapped\u001b[0m\u001b[0;34m(\u001b[0m\u001b[0mself\u001b[0m\u001b[0;34m.\u001b[0m\u001b[0mx\u001b[0m\u001b[0;34m)\u001b[0m\u001b[0;34m\u001b[0m\u001b[0;34m\u001b[0m\u001b[0m\n\u001b[0m\u001b[1;32m     74\u001b[0m \u001b[0;34m\u001b[0m\u001b[0m\n\u001b[1;32m     75\u001b[0m         \u001b[0mself\u001b[0m\u001b[0;34m.\u001b[0m\u001b[0m_update_fun_impl\u001b[0m \u001b[0;34m=\u001b[0m \u001b[0mupdate_fun\u001b[0m\u001b[0;34m\u001b[0m\u001b[0;34m\u001b[0m\u001b[0m\n",
      "\u001b[0;32m~/anaconda3/lib/python3.8/site-packages/scipy/optimize/_differentiable_functions.py\u001b[0m in \u001b[0;36mfun_wrapped\u001b[0;34m(x)\u001b[0m\n\u001b[1;32m     68\u001b[0m         \u001b[0;32mdef\u001b[0m \u001b[0mfun_wrapped\u001b[0m\u001b[0;34m(\u001b[0m\u001b[0mx\u001b[0m\u001b[0;34m)\u001b[0m\u001b[0;34m:\u001b[0m\u001b[0;34m\u001b[0m\u001b[0;34m\u001b[0m\u001b[0m\n\u001b[1;32m     69\u001b[0m             \u001b[0mself\u001b[0m\u001b[0;34m.\u001b[0m\u001b[0mnfev\u001b[0m \u001b[0;34m+=\u001b[0m \u001b[0;36m1\u001b[0m\u001b[0;34m\u001b[0m\u001b[0;34m\u001b[0m\u001b[0m\n\u001b[0;32m---> 70\u001b[0;31m             \u001b[0;32mreturn\u001b[0m \u001b[0mfun\u001b[0m\u001b[0;34m(\u001b[0m\u001b[0mx\u001b[0m\u001b[0;34m,\u001b[0m \u001b[0;34m*\u001b[0m\u001b[0margs\u001b[0m\u001b[0;34m)\u001b[0m\u001b[0;34m\u001b[0m\u001b[0;34m\u001b[0m\u001b[0m\n\u001b[0m\u001b[1;32m     71\u001b[0m \u001b[0;34m\u001b[0m\u001b[0m\n\u001b[1;32m     72\u001b[0m         \u001b[0;32mdef\u001b[0m \u001b[0mupdate_fun\u001b[0m\u001b[0;34m(\u001b[0m\u001b[0;34m)\u001b[0m\u001b[0;34m:\u001b[0m\u001b[0;34m\u001b[0m\u001b[0;34m\u001b[0m\u001b[0m\n",
      "\u001b[0;32m~/anaconda3/lib/python3.8/site-packages/scipy/optimize/optimize.py\u001b[0m in \u001b[0;36m__call__\u001b[0;34m(self, x, *args)\u001b[0m\n\u001b[1;32m     72\u001b[0m     \u001b[0;32mdef\u001b[0m \u001b[0m__call__\u001b[0m\u001b[0;34m(\u001b[0m\u001b[0mself\u001b[0m\u001b[0;34m,\u001b[0m \u001b[0mx\u001b[0m\u001b[0;34m,\u001b[0m \u001b[0;34m*\u001b[0m\u001b[0margs\u001b[0m\u001b[0;34m)\u001b[0m\u001b[0;34m:\u001b[0m\u001b[0;34m\u001b[0m\u001b[0;34m\u001b[0m\u001b[0m\n\u001b[1;32m     73\u001b[0m         \u001b[0;34m\"\"\" returns the the function value \"\"\"\u001b[0m\u001b[0;34m\u001b[0m\u001b[0;34m\u001b[0m\u001b[0m\n\u001b[0;32m---> 74\u001b[0;31m         \u001b[0mself\u001b[0m\u001b[0;34m.\u001b[0m\u001b[0m_compute_if_needed\u001b[0m\u001b[0;34m(\u001b[0m\u001b[0mx\u001b[0m\u001b[0;34m,\u001b[0m \u001b[0;34m*\u001b[0m\u001b[0margs\u001b[0m\u001b[0;34m)\u001b[0m\u001b[0;34m\u001b[0m\u001b[0;34m\u001b[0m\u001b[0m\n\u001b[0m\u001b[1;32m     75\u001b[0m         \u001b[0;32mreturn\u001b[0m \u001b[0mself\u001b[0m\u001b[0;34m.\u001b[0m\u001b[0m_value\u001b[0m\u001b[0;34m\u001b[0m\u001b[0;34m\u001b[0m\u001b[0m\n\u001b[1;32m     76\u001b[0m \u001b[0;34m\u001b[0m\u001b[0m\n",
      "\u001b[0;32m~/anaconda3/lib/python3.8/site-packages/scipy/optimize/optimize.py\u001b[0m in \u001b[0;36m_compute_if_needed\u001b[0;34m(self, x, *args)\u001b[0m\n\u001b[1;32m     66\u001b[0m         \u001b[0;32mif\u001b[0m \u001b[0;32mnot\u001b[0m \u001b[0mnp\u001b[0m\u001b[0;34m.\u001b[0m\u001b[0mall\u001b[0m\u001b[0;34m(\u001b[0m\u001b[0mx\u001b[0m \u001b[0;34m==\u001b[0m \u001b[0mself\u001b[0m\u001b[0;34m.\u001b[0m\u001b[0mx\u001b[0m\u001b[0;34m)\u001b[0m \u001b[0;32mor\u001b[0m \u001b[0mself\u001b[0m\u001b[0;34m.\u001b[0m\u001b[0m_value\u001b[0m \u001b[0;32mis\u001b[0m \u001b[0;32mNone\u001b[0m \u001b[0;32mor\u001b[0m \u001b[0mself\u001b[0m\u001b[0;34m.\u001b[0m\u001b[0mjac\u001b[0m \u001b[0;32mis\u001b[0m \u001b[0;32mNone\u001b[0m\u001b[0;34m:\u001b[0m\u001b[0;34m\u001b[0m\u001b[0;34m\u001b[0m\u001b[0m\n\u001b[1;32m     67\u001b[0m             \u001b[0mself\u001b[0m\u001b[0;34m.\u001b[0m\u001b[0mx\u001b[0m \u001b[0;34m=\u001b[0m \u001b[0mnp\u001b[0m\u001b[0;34m.\u001b[0m\u001b[0masarray\u001b[0m\u001b[0;34m(\u001b[0m\u001b[0mx\u001b[0m\u001b[0;34m)\u001b[0m\u001b[0;34m.\u001b[0m\u001b[0mcopy\u001b[0m\u001b[0;34m(\u001b[0m\u001b[0;34m)\u001b[0m\u001b[0;34m\u001b[0m\u001b[0;34m\u001b[0m\u001b[0m\n\u001b[0;32m---> 68\u001b[0;31m             \u001b[0mfg\u001b[0m \u001b[0;34m=\u001b[0m \u001b[0mself\u001b[0m\u001b[0;34m.\u001b[0m\u001b[0mfun\u001b[0m\u001b[0;34m(\u001b[0m\u001b[0mx\u001b[0m\u001b[0;34m,\u001b[0m \u001b[0;34m*\u001b[0m\u001b[0margs\u001b[0m\u001b[0;34m)\u001b[0m\u001b[0;34m\u001b[0m\u001b[0;34m\u001b[0m\u001b[0m\n\u001b[0m\u001b[1;32m     69\u001b[0m             \u001b[0mself\u001b[0m\u001b[0;34m.\u001b[0m\u001b[0mjac\u001b[0m \u001b[0;34m=\u001b[0m \u001b[0mfg\u001b[0m\u001b[0;34m[\u001b[0m\u001b[0;36m1\u001b[0m\u001b[0;34m]\u001b[0m\u001b[0;34m\u001b[0m\u001b[0;34m\u001b[0m\u001b[0m\n\u001b[1;32m     70\u001b[0m             \u001b[0mself\u001b[0m\u001b[0;34m.\u001b[0m\u001b[0m_value\u001b[0m \u001b[0;34m=\u001b[0m \u001b[0mfg\u001b[0m\u001b[0;34m[\u001b[0m\u001b[0;36m0\u001b[0m\u001b[0;34m]\u001b[0m\u001b[0;34m\u001b[0m\u001b[0;34m\u001b[0m\u001b[0m\n",
      "\u001b[0;32m~/anaconda3/lib/python3.8/site-packages/sklearn/linear_model/_logistic.py\u001b[0m in \u001b[0;36m_logistic_loss_and_grad\u001b[0;34m(w, X, y, alpha, sample_weight)\u001b[0m\n\u001b[1;32m    120\u001b[0m \u001b[0;34m\u001b[0m\u001b[0m\n\u001b[1;32m    121\u001b[0m     \u001b[0;31m# Logistic loss is the negative of the log of the logistic function.\u001b[0m\u001b[0;34m\u001b[0m\u001b[0;34m\u001b[0m\u001b[0;34m\u001b[0m\u001b[0m\n\u001b[0;32m--> 122\u001b[0;31m     \u001b[0mout\u001b[0m \u001b[0;34m=\u001b[0m \u001b[0;34m-\u001b[0m\u001b[0mnp\u001b[0m\u001b[0;34m.\u001b[0m\u001b[0msum\u001b[0m\u001b[0;34m(\u001b[0m\u001b[0msample_weight\u001b[0m \u001b[0;34m*\u001b[0m \u001b[0mlog_logistic\u001b[0m\u001b[0;34m(\u001b[0m\u001b[0myz\u001b[0m\u001b[0;34m)\u001b[0m\u001b[0;34m)\u001b[0m \u001b[0;34m+\u001b[0m \u001b[0;36m.5\u001b[0m \u001b[0;34m*\u001b[0m \u001b[0malpha\u001b[0m \u001b[0;34m*\u001b[0m \u001b[0mnp\u001b[0m\u001b[0;34m.\u001b[0m\u001b[0mdot\u001b[0m\u001b[0;34m(\u001b[0m\u001b[0mw\u001b[0m\u001b[0;34m,\u001b[0m \u001b[0mw\u001b[0m\u001b[0;34m)\u001b[0m\u001b[0;34m\u001b[0m\u001b[0;34m\u001b[0m\u001b[0m\n\u001b[0m\u001b[1;32m    123\u001b[0m \u001b[0;34m\u001b[0m\u001b[0m\n\u001b[1;32m    124\u001b[0m     \u001b[0mz\u001b[0m \u001b[0;34m=\u001b[0m \u001b[0mexpit\u001b[0m\u001b[0;34m(\u001b[0m\u001b[0myz\u001b[0m\u001b[0;34m)\u001b[0m\u001b[0;34m\u001b[0m\u001b[0;34m\u001b[0m\u001b[0m\n",
      "\u001b[0;32m~/anaconda3/lib/python3.8/site-packages/sklearn/utils/extmath.py\u001b[0m in \u001b[0;36mlog_logistic\u001b[0;34m(X, out)\u001b[0m\n\u001b[1;32m    574\u001b[0m     \u001b[0mis_1d\u001b[0m \u001b[0;34m=\u001b[0m \u001b[0mX\u001b[0m\u001b[0;34m.\u001b[0m\u001b[0mndim\u001b[0m \u001b[0;34m==\u001b[0m \u001b[0;36m1\u001b[0m\u001b[0;34m\u001b[0m\u001b[0;34m\u001b[0m\u001b[0m\n\u001b[1;32m    575\u001b[0m     \u001b[0mX\u001b[0m \u001b[0;34m=\u001b[0m \u001b[0mnp\u001b[0m\u001b[0;34m.\u001b[0m\u001b[0matleast_2d\u001b[0m\u001b[0;34m(\u001b[0m\u001b[0mX\u001b[0m\u001b[0;34m)\u001b[0m\u001b[0;34m\u001b[0m\u001b[0;34m\u001b[0m\u001b[0m\n\u001b[0;32m--> 576\u001b[0;31m     \u001b[0mX\u001b[0m \u001b[0;34m=\u001b[0m \u001b[0mcheck_array\u001b[0m\u001b[0;34m(\u001b[0m\u001b[0mX\u001b[0m\u001b[0;34m,\u001b[0m \u001b[0mdtype\u001b[0m\u001b[0;34m=\u001b[0m\u001b[0mnp\u001b[0m\u001b[0;34m.\u001b[0m\u001b[0mfloat64\u001b[0m\u001b[0;34m)\u001b[0m\u001b[0;34m\u001b[0m\u001b[0;34m\u001b[0m\u001b[0m\n\u001b[0m\u001b[1;32m    577\u001b[0m \u001b[0;34m\u001b[0m\u001b[0m\n\u001b[1;32m    578\u001b[0m     \u001b[0mn_samples\u001b[0m\u001b[0;34m,\u001b[0m \u001b[0mn_features\u001b[0m \u001b[0;34m=\u001b[0m \u001b[0mX\u001b[0m\u001b[0;34m.\u001b[0m\u001b[0mshape\u001b[0m\u001b[0;34m\u001b[0m\u001b[0;34m\u001b[0m\u001b[0m\n",
      "\u001b[0;32m~/anaconda3/lib/python3.8/site-packages/sklearn/utils/validation.py\u001b[0m in \u001b[0;36minner_f\u001b[0;34m(*args, **kwargs)\u001b[0m\n\u001b[1;32m     71\u001b[0m                           FutureWarning)\n\u001b[1;32m     72\u001b[0m         \u001b[0mkwargs\u001b[0m\u001b[0;34m.\u001b[0m\u001b[0mupdate\u001b[0m\u001b[0;34m(\u001b[0m\u001b[0;34m{\u001b[0m\u001b[0mk\u001b[0m\u001b[0;34m:\u001b[0m \u001b[0marg\u001b[0m \u001b[0;32mfor\u001b[0m \u001b[0mk\u001b[0m\u001b[0;34m,\u001b[0m \u001b[0marg\u001b[0m \u001b[0;32min\u001b[0m \u001b[0mzip\u001b[0m\u001b[0;34m(\u001b[0m\u001b[0msig\u001b[0m\u001b[0;34m.\u001b[0m\u001b[0mparameters\u001b[0m\u001b[0;34m,\u001b[0m \u001b[0margs\u001b[0m\u001b[0;34m)\u001b[0m\u001b[0;34m}\u001b[0m\u001b[0;34m)\u001b[0m\u001b[0;34m\u001b[0m\u001b[0;34m\u001b[0m\u001b[0m\n\u001b[0;32m---> 73\u001b[0;31m         \u001b[0;32mreturn\u001b[0m \u001b[0mf\u001b[0m\u001b[0;34m(\u001b[0m\u001b[0;34m**\u001b[0m\u001b[0mkwargs\u001b[0m\u001b[0;34m)\u001b[0m\u001b[0;34m\u001b[0m\u001b[0;34m\u001b[0m\u001b[0m\n\u001b[0m\u001b[1;32m     74\u001b[0m     \u001b[0;32mreturn\u001b[0m \u001b[0minner_f\u001b[0m\u001b[0;34m\u001b[0m\u001b[0;34m\u001b[0m\u001b[0m\n\u001b[1;32m     75\u001b[0m \u001b[0;34m\u001b[0m\u001b[0m\n",
      "\u001b[0;32m~/anaconda3/lib/python3.8/site-packages/sklearn/utils/validation.py\u001b[0m in \u001b[0;36mcheck_array\u001b[0;34m(array, accept_sparse, accept_large_sparse, dtype, order, copy, force_all_finite, ensure_2d, allow_nd, ensure_min_samples, ensure_min_features, estimator)\u001b[0m\n\u001b[1;32m    647\u001b[0m \u001b[0;34m\u001b[0m\u001b[0m\n\u001b[1;32m    648\u001b[0m     \u001b[0;32mif\u001b[0m \u001b[0mensure_min_samples\u001b[0m \u001b[0;34m>\u001b[0m \u001b[0;36m0\u001b[0m\u001b[0;34m:\u001b[0m\u001b[0;34m\u001b[0m\u001b[0;34m\u001b[0m\u001b[0m\n\u001b[0;32m--> 649\u001b[0;31m         \u001b[0mn_samples\u001b[0m \u001b[0;34m=\u001b[0m \u001b[0m_num_samples\u001b[0m\u001b[0;34m(\u001b[0m\u001b[0marray\u001b[0m\u001b[0;34m)\u001b[0m\u001b[0;34m\u001b[0m\u001b[0;34m\u001b[0m\u001b[0m\n\u001b[0m\u001b[1;32m    650\u001b[0m         \u001b[0;32mif\u001b[0m \u001b[0mn_samples\u001b[0m \u001b[0;34m<\u001b[0m \u001b[0mensure_min_samples\u001b[0m\u001b[0;34m:\u001b[0m\u001b[0;34m\u001b[0m\u001b[0;34m\u001b[0m\u001b[0m\n\u001b[1;32m    651\u001b[0m             raise ValueError(\"Found array with %d sample(s) (shape=%s) while a\"\n",
      "\u001b[0;32m~/anaconda3/lib/python3.8/site-packages/sklearn/utils/validation.py\u001b[0m in \u001b[0;36m_num_samples\u001b[0;34m(x)\u001b[0m\n\u001b[1;32m    181\u001b[0m \u001b[0;32mdef\u001b[0m \u001b[0m_num_samples\u001b[0m\u001b[0;34m(\u001b[0m\u001b[0mx\u001b[0m\u001b[0;34m)\u001b[0m\u001b[0;34m:\u001b[0m\u001b[0;34m\u001b[0m\u001b[0;34m\u001b[0m\u001b[0m\n\u001b[1;32m    182\u001b[0m     \u001b[0;34m\"\"\"Return number of samples in array-like x.\"\"\"\u001b[0m\u001b[0;34m\u001b[0m\u001b[0;34m\u001b[0m\u001b[0m\n\u001b[0;32m--> 183\u001b[0;31m     \u001b[0mmessage\u001b[0m \u001b[0;34m=\u001b[0m \u001b[0;34m'Expected sequence or array-like, got %s'\u001b[0m \u001b[0;34m%\u001b[0m \u001b[0mtype\u001b[0m\u001b[0;34m(\u001b[0m\u001b[0mx\u001b[0m\u001b[0;34m)\u001b[0m\u001b[0;34m\u001b[0m\u001b[0;34m\u001b[0m\u001b[0m\n\u001b[0m\u001b[1;32m    184\u001b[0m     \u001b[0;32mif\u001b[0m \u001b[0mhasattr\u001b[0m\u001b[0;34m(\u001b[0m\u001b[0mx\u001b[0m\u001b[0;34m,\u001b[0m \u001b[0;34m'fit'\u001b[0m\u001b[0;34m)\u001b[0m \u001b[0;32mand\u001b[0m \u001b[0mcallable\u001b[0m\u001b[0;34m(\u001b[0m\u001b[0mx\u001b[0m\u001b[0;34m.\u001b[0m\u001b[0mfit\u001b[0m\u001b[0;34m)\u001b[0m\u001b[0;34m:\u001b[0m\u001b[0;34m\u001b[0m\u001b[0;34m\u001b[0m\u001b[0m\n\u001b[1;32m    185\u001b[0m         \u001b[0;31m# Don't get num_samples from an ensembles length!\u001b[0m\u001b[0;34m\u001b[0m\u001b[0;34m\u001b[0m\u001b[0;34m\u001b[0m\u001b[0m\n",
      "\u001b[0;31mKeyboardInterrupt\u001b[0m: "
     ]
    }
   ],
   "source": [
    "overlapIDs=IDs.copy()\n",
    "# test_folds = dm.generate_crossvalidation_set(IDs)\n",
    "accuracy = []\n",
    "for i in range(len(overlapIDs)):\n",
    "    test_folds_IDs=[overlapIDs[i]]\n",
    "    m.append_test_overlapIDs(pd.Series(test_folds_IDs))\n",
    "#     trainIDs = overlapIDs[~overlapIDs.isin(test_folds[i])]\n",
    "    trainIDs=list(set(overlapIDs)-set(test_folds_IDs))\n",
    "    m.append_training_overlapIDs(pd.Series(trainIDs))\n",
    "\n",
    "#     with tf.varialbe_scope('fold run'):\n",
    "    m.build_integrative_network()\n",
    "    m.training(len(trainIDs))\n",
    "        \n",
    "    accuracy.append(m.evaluate_accuracy())\n",
    "#     tf.reset_default_graph()\n",
    "    print(accuracy)\n",
    "print(np.mean(accuracy))"
   ]
  },
  {
   "cell_type": "code",
   "execution_count": 10,
   "metadata": {},
   "outputs": [
    {
     "data": {
      "text/plain": [
       "(1010, 1101)"
      ]
     },
     "execution_count": 10,
     "metadata": {},
     "output_type": "execute_result"
    }
   ],
   "source": [
    "filteredMOAs.shape"
   ]
  },
  {
   "cell_type": "code",
   "execution_count": 9,
   "metadata": {},
   "outputs": [
    {
     "data": {
      "text/plain": [
       "['HSP inhibitor',\n",
       " 'HSP inhibitor',\n",
       " 'HSP inhibitor',\n",
       " 'HSP inhibitor',\n",
       " 'HSP inhibitor',\n",
       " 'tubulin polymerization inhibitor',\n",
       " 'tubulin polymerization inhibitor',\n",
       " 'tubulin polymerization inhibitor',\n",
       " 'tubulin polymerization inhibitor',\n",
       " 'tubulin polymerization inhibitor',\n",
       " 'androgen receptor modulator',\n",
       " 'progesterone receptor agonist',\n",
       " 'progesterone receptor agonist',\n",
       " 'progesterone receptor agonist',\n",
       " 'sodium channel blocker',\n",
       " 'serotonin receptor antagonist',\n",
       " 'adrenergic receptor antagonist',\n",
       " 'glucocorticoid receptor agonist',\n",
       " 'glucocorticoid receptor agonist',\n",
       " 'glucocorticoid receptor agonist',\n",
       " 'glucocorticoid receptor agonist',\n",
       " 'glucocorticoid receptor agonist',\n",
       " 'serotonin receptor agonist',\n",
       " 'serotonin receptor agonist',\n",
       " 'angiogenesis inhibitor|tumor necrosis factor production inhibitor',\n",
       " 'angiogenesis inhibitor|tumor necrosis factor production inhibitor',\n",
       " 'insulin sensitizer|PPAR receptor agonist',\n",
       " 'glucocorticoid receptor agonist',\n",
       " 'glucocorticoid receptor agonist',\n",
       " 'glucocorticoid receptor agonist',\n",
       " 'glucocorticoid receptor agonist',\n",
       " 'glucocorticoid receptor agonist',\n",
       " 'adrenergic receptor antagonist',\n",
       " 'adrenergic receptor antagonist',\n",
       " 'estrogen receptor agonist|glucocorticoid receptor antagonist|progesterone receptor agonist|progesterone receptor antagonist',\n",
       " 'estrogen receptor agonist|glucocorticoid receptor antagonist|progesterone receptor agonist|progesterone receptor antagonist',\n",
       " 'serotonin receptor antagonist',\n",
       " 'serotonin receptor antagonist',\n",
       " 'serotonin receptor antagonist',\n",
       " 'glucocorticoid receptor agonist',\n",
       " 'glucocorticoid receptor agonist',\n",
       " 'glucocorticoid receptor agonist',\n",
       " 'glucocorticoid receptor agonist',\n",
       " 'glucocorticoid receptor agonist',\n",
       " 'sigma receptor antagonist',\n",
       " 'sigma receptor antagonist',\n",
       " 'adenosine receptor agonist|cAMP stimulant',\n",
       " 'adenosine receptor agonist|cAMP stimulant',\n",
       " 'cyclooxygenase inhibitor',\n",
       " 'cyclooxygenase inhibitor',\n",
       " 'cyclooxygenase inhibitor',\n",
       " 'cyclooxygenase inhibitor',\n",
       " 'serotonin receptor antagonist',\n",
       " 'glucocorticoid receptor agonist',\n",
       " 'glucocorticoid receptor agonist',\n",
       " 'glucocorticoid receptor agonist',\n",
       " 'glucocorticoid receptor agonist',\n",
       " 'glucocorticoid receptor agonist',\n",
       " 'calcium channel blocker',\n",
       " 'calcium channel blocker',\n",
       " 'antihistamine',\n",
       " 'antihistamine',\n",
       " 'bacterial DNA gyrase inhibitor',\n",
       " 'glucocorticoid receptor agonist',\n",
       " 'glucocorticoid receptor agonist',\n",
       " 'glucocorticoid receptor agonist',\n",
       " 'glucocorticoid receptor agonist',\n",
       " 'glucocorticoid receptor agonist',\n",
       " 'bacterial DNA gyrase inhibitor',\n",
       " 'bacterial DNA gyrase inhibitor',\n",
       " 'FLT3 inhibitor|growth factor receptor inhibitor|JAK inhibitor',\n",
       " 'FLT3 inhibitor|growth factor receptor inhibitor|JAK inhibitor',\n",
       " 'FLT3 inhibitor|growth factor receptor inhibitor|JAK inhibitor',\n",
       " 'FLT3 inhibitor|growth factor receptor inhibitor|JAK inhibitor',\n",
       " 'mTOR inhibitor|PI3K inhibitor',\n",
       " 'mTOR inhibitor|PI3K inhibitor',\n",
       " 'mTOR inhibitor|PI3K inhibitor',\n",
       " 'mTOR inhibitor|PI3K inhibitor',\n",
       " 'monoamine oxidase inhibitor',\n",
       " 'tubulin polymerization inhibitor',\n",
       " 'tubulin polymerization inhibitor',\n",
       " 'tubulin polymerization inhibitor',\n",
       " 'tubulin polymerization inhibitor',\n",
       " 'tubulin polymerization inhibitor',\n",
       " 'adrenergic receptor antagonist',\n",
       " 'adrenergic receptor antagonist',\n",
       " 'adrenergic receptor antagonist',\n",
       " 'platelet activating factor receptor antagonist',\n",
       " 'calcium channel blocker',\n",
       " 'calcium channel blocker',\n",
       " 'angiotensin converting enzyme inhibitor',\n",
       " 'topoisomerase inhibitor',\n",
       " 'acetylcholine receptor antagonist',\n",
       " 'acetylcholine receptor antagonist',\n",
       " 'protein synthesis inhibitor',\n",
       " 'protein synthesis inhibitor',\n",
       " 'protein synthesis inhibitor',\n",
       " 'protein synthesis inhibitor',\n",
       " 'protein synthesis inhibitor',\n",
       " 'proteasome inhibitor',\n",
       " 'proteasome inhibitor',\n",
       " 'proteasome inhibitor',\n",
       " 'proteasome inhibitor',\n",
       " 'glucocorticoid receptor agonist',\n",
       " 'DNA alkylating agent|DNA synthesis inhibitor',\n",
       " 'DNA alkylating agent|DNA synthesis inhibitor',\n",
       " 'DNA alkylating agent|DNA synthesis inhibitor',\n",
       " 'DNA alkylating agent|DNA synthesis inhibitor',\n",
       " 'glucocorticoid receptor agonist',\n",
       " 'glucocorticoid receptor agonist',\n",
       " 'glucocorticoid receptor agonist',\n",
       " 'glucocorticoid receptor agonist',\n",
       " 'glucocorticoid receptor agonist',\n",
       " 'monoamine oxidase inhibitor',\n",
       " 'glucocorticoid receptor agonist',\n",
       " 'glucocorticoid receptor agonist',\n",
       " 'glucocorticoid receptor agonist',\n",
       " 'glucocorticoid receptor agonist',\n",
       " 'glucocorticoid receptor agonist',\n",
       " 'angiogenesis inhibitor',\n",
       " 'RAF inhibitor',\n",
       " 'ATP channel blocker|insulin secretagogue',\n",
       " 'ATP channel blocker|insulin secretagogue',\n",
       " 'progesterone receptor agonist',\n",
       " 'progesterone receptor agonist',\n",
       " 'progesterone receptor agonist',\n",
       " 'progesterone receptor agonist',\n",
       " 'progesterone receptor agonist',\n",
       " 'DNA directed DNA polymerase inhibitor|thymidylate synthase inhibitor',\n",
       " 'DNA directed DNA polymerase inhibitor|thymidylate synthase inhibitor',\n",
       " 'proteasome inhibitor',\n",
       " 'proteasome inhibitor',\n",
       " 'proteasome inhibitor',\n",
       " 'HCV inhibitor',\n",
       " 'gamma secretase inhibitor',\n",
       " 'calcium channel blocker',\n",
       " 'calcium channel blocker',\n",
       " 'calcium channel blocker',\n",
       " 'calcium channel blocker',\n",
       " 'calcineurin inhibitor',\n",
       " 'calcineurin inhibitor',\n",
       " 'calcineurin inhibitor',\n",
       " 'DNA alkylating agent',\n",
       " 'DNA alkylating agent',\n",
       " 'DNA alkylating agent',\n",
       " 'dopamine receptor agonist|serotonin receptor antagonist',\n",
       " 'dopamine receptor agonist|serotonin receptor antagonist',\n",
       " 'bacterial permeability inducer',\n",
       " 'bacterial permeability inducer',\n",
       " 'histamine receptor antagonist',\n",
       " 'histamine receptor antagonist',\n",
       " 'dihydrofolate reductase inhibitor',\n",
       " 'dihydrofolate reductase inhibitor',\n",
       " 'dihydrofolate reductase inhibitor',\n",
       " 'dihydrofolate reductase inhibitor',\n",
       " 'dihydrofolate reductase inhibitor',\n",
       " 'glucocorticoid receptor agonist',\n",
       " 'glucocorticoid receptor agonist',\n",
       " 'glucocorticoid receptor agonist',\n",
       " 'glucocorticoid receptor agonist',\n",
       " 'glucocorticoid receptor agonist',\n",
       " 'antiviral|RNA synthesis inhibitor',\n",
       " 'antiviral|RNA synthesis inhibitor',\n",
       " 'antiviral|RNA synthesis inhibitor',\n",
       " 'mTOR inhibitor',\n",
       " 'mTOR inhibitor',\n",
       " 'mTOR inhibitor',\n",
       " 'mTOR inhibitor',\n",
       " 'mTOR inhibitor',\n",
       " 'acetylcholine receptor antagonist',\n",
       " 'vasopressin receptor antagonist',\n",
       " 'vasopressin receptor antagonist',\n",
       " 'androgen receptor agonist|estrogen receptor agonist|progesterone receptor agonist',\n",
       " 'androgen receptor agonist|estrogen receptor agonist|progesterone receptor agonist',\n",
       " 'MALT1 inhibitor (JH)',\n",
       " 'MALT1 inhibitor (JH)',\n",
       " 'glucocorticoid receptor agonist',\n",
       " 'glucocorticoid receptor agonist',\n",
       " 'glucocorticoid receptor agonist',\n",
       " 'glucocorticoid receptor agonist',\n",
       " 'glucocorticoid receptor agonist',\n",
       " 'glucocorticoid receptor agonist',\n",
       " 'glucocorticoid receptor agonist',\n",
       " 'glucocorticoid receptor agonist',\n",
       " 'glucocorticoid receptor agonist',\n",
       " 'ATPase inhibitor',\n",
       " 'ATPase inhibitor',\n",
       " 'ATPase inhibitor',\n",
       " 'ATPase inhibitor',\n",
       " 'ATPase inhibitor',\n",
       " 'leukotriene receptor antagonist',\n",
       " 'insulin sensitizer|PPAR receptor agonist',\n",
       " 'retinoid receptor agonist',\n",
       " 'retinoid receptor agonist',\n",
       " 'microtubule inhibitor',\n",
       " 'microtubule inhibitor',\n",
       " 'microtubule inhibitor',\n",
       " 'microtubule inhibitor',\n",
       " 'microtubule inhibitor',\n",
       " 'aryl hydrocarbon receptor agonist|indoleamine 2,3-dioxygenase inhibitor',\n",
       " 'aryl hydrocarbon receptor agonist|indoleamine 2,3-dioxygenase inhibitor',\n",
       " 'PARP inhibitor',\n",
       " 'phosphodiesterase inhibitor',\n",
       " 'MEK inhibitor',\n",
       " 'MEK inhibitor',\n",
       " 'VEGFR inhibitor',\n",
       " 'VEGFR inhibitor',\n",
       " 'VEGFR inhibitor',\n",
       " 'VEGFR inhibitor',\n",
       " 'microtubule stabilizing agent',\n",
       " 'microtubule stabilizing agent',\n",
       " 'microtubule stabilizing agent',\n",
       " 'microtubule stabilizing agent',\n",
       " 'MEK inhibitor',\n",
       " 'MEK inhibitor',\n",
       " 'MEK inhibitor',\n",
       " 'HCV inhibitor',\n",
       " 'HCV inhibitor',\n",
       " 'RAF inhibitor',\n",
       " 'microtubule inhibitor',\n",
       " 'microtubule inhibitor',\n",
       " 'microtubule inhibitor',\n",
       " 'microtubule inhibitor',\n",
       " 'microtubule inhibitor',\n",
       " 'mTOR inhibitor|PI3K inhibitor',\n",
       " 'mTOR inhibitor|PI3K inhibitor',\n",
       " 'mTOR inhibitor|PI3K inhibitor',\n",
       " 'mTOR inhibitor|PI3K inhibitor',\n",
       " 'opioid receptor antagonist',\n",
       " 'Aurora kinase inhibitor|growth factor receptor inhibitor',\n",
       " 'Aurora kinase inhibitor|growth factor receptor inhibitor',\n",
       " 'Aurora kinase inhibitor|growth factor receptor inhibitor',\n",
       " 'Aurora kinase inhibitor|growth factor receptor inhibitor',\n",
       " 'bromodomain inhibitor',\n",
       " 'bromodomain inhibitor',\n",
       " 'bromodomain inhibitor',\n",
       " 'bromodomain inhibitor',\n",
       " 'bromodomain inhibitor',\n",
       " 'XIAP inhibitor',\n",
       " 'topoisomerase inhibitor',\n",
       " 'EGFR inhibitor',\n",
       " 'EGFR inhibitor',\n",
       " 'EGFR inhibitor',\n",
       " 'serotonin receptor antagonist',\n",
       " 'tyrosinase inhibitor',\n",
       " 'tyrosinase inhibitor',\n",
       " 'mTOR inhibitor',\n",
       " 'mTOR inhibitor',\n",
       " 'mTOR inhibitor',\n",
       " 'mTOR inhibitor',\n",
       " 'mTOR inhibitor',\n",
       " 'cannabinoid receptor antagonist',\n",
       " 'cannabinoid receptor antagonist',\n",
       " 'inosine monophosphate dehydrogenase inhibitor',\n",
       " 'serotonin receptor agonist',\n",
       " 'serotonin receptor agonist',\n",
       " 'topoisomerase inhibitor',\n",
       " 'topoisomerase inhibitor',\n",
       " 'topoisomerase inhibitor',\n",
       " 'topoisomerase inhibitor',\n",
       " 'topoisomerase inhibitor',\n",
       " 'secretory phospholipase inhibitor',\n",
       " 'secretory phospholipase inhibitor',\n",
       " 'RAF inhibitor',\n",
       " 'RAF inhibitor',\n",
       " 'RAF inhibitor',\n",
       " 'RAF inhibitor',\n",
       " 'cyclooxygenase inhibitor',\n",
       " 'cyclooxygenase inhibitor|prostanoid receptor antagonist',\n",
       " 'cyclooxygenase inhibitor|prostanoid receptor antagonist',\n",
       " 'cyclooxygenase inhibitor|prostanoid receptor antagonist',\n",
       " 'cyclooxygenase inhibitor|prostanoid receptor antagonist',\n",
       " 'ALK tyrosine kinase receptor inhibitor',\n",
       " 'ALK tyrosine kinase receptor inhibitor',\n",
       " 'mTOR inhibitor|PI3K inhibitor',\n",
       " 'mTOR inhibitor|PI3K inhibitor',\n",
       " 'acetylcholine receptor antagonist',\n",
       " 'PARP inhibitor',\n",
       " 'RNA polymerase inhibitor',\n",
       " 'RNA polymerase inhibitor',\n",
       " 'HDAC inhibitor',\n",
       " 'HDAC inhibitor',\n",
       " 'HDAC inhibitor',\n",
       " 'non-nucleoside reverse transcriptase inhibitor',\n",
       " 'non-nucleoside reverse transcriptase inhibitor',\n",
       " 'cyclooxygenase inhibitor',\n",
       " 'mTOR inhibitor',\n",
       " 'mTOR inhibitor',\n",
       " 'mTOR inhibitor',\n",
       " 'mTOR inhibitor',\n",
       " 'mTOR inhibitor',\n",
       " 'anti-pneumocystis agent',\n",
       " 'anti-pneumocystis agent',\n",
       " 'cannabinoid receptor antagonist',\n",
       " 'CDK inhibitor',\n",
       " 'CDK inhibitor',\n",
       " 'CDK inhibitor',\n",
       " 'FLT3 inhibitor|KIT inhibitor|PKC inhibitor',\n",
       " 'FLT3 inhibitor|KIT inhibitor|PKC inhibitor',\n",
       " 'FLT3 inhibitor|KIT inhibitor|PKC inhibitor',\n",
       " 'CDK inhibitor',\n",
       " 'CDK inhibitor',\n",
       " 'CDK inhibitor',\n",
       " 'CDK inhibitor',\n",
       " 'CDK inhibitor',\n",
       " 'glycine transporter inhibitor',\n",
       " 'glycine transporter inhibitor',\n",
       " 'glycine transporter inhibitor',\n",
       " 'glycine transporter inhibitor',\n",
       " 'phosphodiesterase inhibitor',\n",
       " 'STAT inhibitor',\n",
       " 'STAT inhibitor',\n",
       " 'STAT inhibitor',\n",
       " 'STAT inhibitor',\n",
       " 'STAT inhibitor',\n",
       " 'progestogen hormone',\n",
       " 'progestogen hormone',\n",
       " 'progestogen hormone',\n",
       " 'topoisomerase inhibitor',\n",
       " 'topoisomerase inhibitor',\n",
       " 'LDL receptor activator',\n",
       " 'LDL receptor activator',\n",
       " 'LDL receptor activator',\n",
       " 'AXL kinase inhibitor',\n",
       " 'AXL kinase inhibitor',\n",
       " 'chemoreceptor agonist',\n",
       " 'chemoreceptor agonist',\n",
       " 'chemoreceptor agonist',\n",
       " 'histamine receptor antagonist',\n",
       " 'ribonucleotide reductase inhibitor',\n",
       " 'ribonucleotide reductase inhibitor',\n",
       " 'ribonucleotide reductase inhibitor',\n",
       " 'ribonucleotide reductase inhibitor',\n",
       " 'ribonucleotide reductase inhibitor',\n",
       " 'proteasome inhibitor',\n",
       " 'proteasome inhibitor',\n",
       " 'proteasome inhibitor',\n",
       " 'proteasome inhibitor',\n",
       " 'phosphodiesterase inhibitor',\n",
       " 'phosphodiesterase inhibitor',\n",
       " 'PKC inhibitor',\n",
       " 'PKC inhibitor',\n",
       " 'PKC inhibitor',\n",
       " 'bacterial 50S ribosomal subunit inhibitor',\n",
       " 'bacterial 50S ribosomal subunit inhibitor',\n",
       " 'opioid receptor antagonist',\n",
       " 'opioid receptor antagonist',\n",
       " 'FGFR antagonist',\n",
       " 'FGFR antagonist',\n",
       " 'FGFR antagonist',\n",
       " 'FGFR antagonist',\n",
       " 'FGFR antagonist',\n",
       " 'acetylcholine receptor antagonist',\n",
       " 'potassium channel blocker',\n",
       " 'potassium channel blocker',\n",
       " 'opioid receptor antagonist',\n",
       " 'HDAC inhibitor',\n",
       " 'HDAC inhibitor',\n",
       " 'HDAC inhibitor',\n",
       " 'CDK inhibitor|glycogen synthase kinase inhibitor',\n",
       " 'CDK inhibitor|glycogen synthase kinase inhibitor',\n",
       " 'CDK inhibitor|glycogen synthase kinase inhibitor',\n",
       " 'CDK inhibitor|glycogen synthase kinase inhibitor',\n",
       " 'CDK inhibitor|glycogen synthase kinase inhibitor',\n",
       " 'DNA synthesis inhibitor',\n",
       " 'DNA methyltransferase inhibitor',\n",
       " 'DNA methyltransferase inhibitor',\n",
       " 'DNA methyltransferase inhibitor',\n",
       " 'DNA methyltransferase inhibitor',\n",
       " 'DNA methyltransferase inhibitor',\n",
       " 'SRC inhibitor',\n",
       " 'SRC inhibitor',\n",
       " 'SRC inhibitor',\n",
       " 'AKT inhibitor|TRAIL modulator',\n",
       " 'AKT inhibitor|TRAIL modulator',\n",
       " 'exportin antagonist',\n",
       " 'exportin antagonist',\n",
       " 'exportin antagonist',\n",
       " 'exportin antagonist',\n",
       " 'matrix metalloprotease inhibitor',\n",
       " 'Abl kinase inhibitor|Aurora kinase inhibitor|FLT3 inhibitor',\n",
       " 'Abl kinase inhibitor|Aurora kinase inhibitor|FLT3 inhibitor',\n",
       " 'Pim kinase inhibitor',\n",
       " 'gamma secretase inhibitor',\n",
       " 'gamma secretase inhibitor',\n",
       " 'gamma secretase inhibitor',\n",
       " 'gamma secretase inhibitor',\n",
       " 'prostanoid receptor antagonist',\n",
       " 'prostanoid receptor antagonist',\n",
       " 'prostanoid receptor antagonist',\n",
       " 'HMGCR inhibitor',\n",
       " 'nuclear factor erythroid derived|like (NRF2) activator',\n",
       " 'nuclear factor erythroid derived|like (NRF2) activator',\n",
       " 'nuclear factor erythroid derived|like (NRF2) activator',\n",
       " 'nuclear factor erythroid derived|like (NRF2) activator',\n",
       " 'nuclear factor erythroid derived|like (NRF2) activator',\n",
       " 'tubulin polymerization inhibitor',\n",
       " 'tubulin polymerization inhibitor',\n",
       " 'tubulin polymerization inhibitor',\n",
       " 'tubulin polymerization inhibitor',\n",
       " 'HSP inhibitor',\n",
       " 'HSP inhibitor',\n",
       " 'HSP inhibitor',\n",
       " 'HSP inhibitor',\n",
       " 'HSP inhibitor',\n",
       " 'topoisomerase inhibitor',\n",
       " 'thymidylate synthase inhibitor',\n",
       " 'thymidylate synthase inhibitor',\n",
       " 'matrix metalloprotease inhibitor',\n",
       " 'matrix metalloprotease inhibitor',\n",
       " 'JAK inhibitor',\n",
       " 'JAK inhibitor',\n",
       " 'topoisomerase inhibitor',\n",
       " 'free radical scavenger',\n",
       " 'free radical scavenger',\n",
       " 'free radical scavenger',\n",
       " 'EGFR inhibitor',\n",
       " 'MEK inhibitor',\n",
       " 'MEK inhibitor',\n",
       " 'MEK inhibitor',\n",
       " 'MEK inhibitor',\n",
       " 'angiogenesis inhibitor',\n",
       " 'platelet activating factor receptor antagonist',\n",
       " 'HDAC inhibitor',\n",
       " 'adrenergic receptor agonist',\n",
       " 'SRC inhibitor|tubulin polymerization inhibitor',\n",
       " 'SRC inhibitor|tubulin polymerization inhibitor',\n",
       " 'SRC inhibitor|tubulin polymerization inhibitor',\n",
       " 'SRC inhibitor|tubulin polymerization inhibitor',\n",
       " 'serotonin receptor agonist',\n",
       " 'nuclear factor erythroid derived|like (NRF2) activator',\n",
       " 'nuclear factor erythroid derived|like (NRF2) activator',\n",
       " 'PKC inhibitor',\n",
       " 'phosphodiesterase inhibitor',\n",
       " 'glucocorticoid receptor agonist',\n",
       " 'glucocorticoid receptor agonist',\n",
       " 'glucocorticoid receptor agonist',\n",
       " 'glucocorticoid receptor agonist',\n",
       " 'glucocorticoid receptor agonist',\n",
       " 'dopamine reuptake inhibitor',\n",
       " 'dopamine reuptake inhibitor',\n",
       " 'retinoid receptor agonist',\n",
       " 'tyrosine kinase inhibitor',\n",
       " 'tyrosine kinase inhibitor',\n",
       " 'EGFR inhibitor',\n",
       " 'phosphodiesterase inhibitor',\n",
       " 'benzodiazepine receptor agonist',\n",
       " 'benzodiazepine receptor agonist',\n",
       " 'ribonucleotide reductase inhibitor',\n",
       " 'ribonucleotide reductase inhibitor',\n",
       " 'ribonucleotide reductase inhibitor',\n",
       " 'cannabinoid receptor inverse agonist',\n",
       " 'cannabinoid receptor inverse agonist',\n",
       " 'cannabinoid receptor inverse agonist',\n",
       " 'estrogen receptor agonist|glucocorticoid receptor antagonist|progesterone receptor agonist|progesterone receptor antagonist',\n",
       " 'glucocorticoid receptor agonist',\n",
       " 'glucocorticoid receptor agonist',\n",
       " 'glucocorticoid receptor agonist',\n",
       " 'glucocorticoid receptor agonist',\n",
       " 'glucocorticoid receptor agonist',\n",
       " 'DNA alkylating agent',\n",
       " 'adrenergic receptor antagonist',\n",
       " 'serotonin receptor agonist',\n",
       " 'JAK inhibitor',\n",
       " 'retinoid receptor agonist',\n",
       " 'retinoid receptor agonist',\n",
       " 'retinoid receptor agonist',\n",
       " 'retinoid receptor agonist',\n",
       " 'adrenergic receptor antagonist',\n",
       " 'MEK inhibitor',\n",
       " 'MEK inhibitor',\n",
       " 'MEK inhibitor',\n",
       " 'MEK inhibitor',\n",
       " 'MEK inhibitor',\n",
       " 'p21 activated kinase inhibitor',\n",
       " 'p21 activated kinase inhibitor',\n",
       " 'p21 activated kinase inhibitor',\n",
       " 'p21 activated kinase inhibitor',\n",
       " 'p21 activated kinase inhibitor',\n",
       " 'topoisomerase inhibitor',\n",
       " 'topoisomerase inhibitor',\n",
       " 'topoisomerase inhibitor',\n",
       " 'topoisomerase inhibitor',\n",
       " 'topoisomerase inhibitor',\n",
       " 'HSP inhibitor',\n",
       " 'HSP inhibitor',\n",
       " 'cyclooxygenase inhibitor',\n",
       " 'glucocorticoid receptor agonist|immunosuppressant',\n",
       " 'glucocorticoid receptor agonist|immunosuppressant',\n",
       " 'glucocorticoid receptor agonist|immunosuppressant',\n",
       " 'glucocorticoid receptor agonist|immunosuppressant',\n",
       " 'glucocorticoid receptor agonist|immunosuppressant',\n",
       " 'interleukin synthesis inhibitor',\n",
       " 'interleukin synthesis inhibitor',\n",
       " 'interleukin synthesis inhibitor',\n",
       " 'interleukin synthesis inhibitor',\n",
       " 'bacterial cell wall synthesis inhibitor',\n",
       " 'bacterial cell wall synthesis inhibitor',\n",
       " 'fungal squalene epoxidase inhibitor',\n",
       " 'fungal squalene epoxidase inhibitor',\n",
       " 'insulin secretagogue',\n",
       " 'PI3K inhibitor',\n",
       " 'PI3K inhibitor',\n",
       " 'PI3K inhibitor',\n",
       " 'topoisomerase inhibitor',\n",
       " 'EGFR inhibitor',\n",
       " 'microtubule inhibitor',\n",
       " 'acetylcholine receptor antagonist',\n",
       " 'phosphodiesterase inhibitor',\n",
       " 'microtubule inhibitor|tubulin polymerization inhibitor',\n",
       " 'microtubule inhibitor|tubulin polymerization inhibitor',\n",
       " 'microtubule inhibitor|tubulin polymerization inhibitor',\n",
       " 'microtubule inhibitor|tubulin polymerization inhibitor',\n",
       " 'microtubule inhibitor|tubulin polymerization inhibitor',\n",
       " 'endothelin receptor antagonist',\n",
       " 'endothelin receptor antagonist',\n",
       " 'Bcr-Abl kinase inhibitor|ephrin inhibitor|KIT inhibitor|PDGFR tyrosine kinase receptor inhibitor|SRC inhibitor|tyrosine kinase inhibitor',\n",
       " 'Bcr-Abl kinase inhibitor|ephrin inhibitor|KIT inhibitor|PDGFR tyrosine kinase receptor inhibitor|SRC inhibitor|tyrosine kinase inhibitor',\n",
       " 'Bcr-Abl kinase inhibitor|ephrin inhibitor|KIT inhibitor|PDGFR tyrosine kinase receptor inhibitor|SRC inhibitor|tyrosine kinase inhibitor',\n",
       " 'Bcr-Abl kinase inhibitor|ephrin inhibitor|KIT inhibitor|PDGFR tyrosine kinase receptor inhibitor|SRC inhibitor|tyrosine kinase inhibitor',\n",
       " 'purine antagonist',\n",
       " 'purine antagonist',\n",
       " 'MEK inhibitor',\n",
       " 'MEK inhibitor',\n",
       " 'MEK inhibitor',\n",
       " 'MEK inhibitor',\n",
       " 'MEK inhibitor',\n",
       " 'CDK inhibitor',\n",
       " 'CDK inhibitor',\n",
       " 'CDK inhibitor',\n",
       " 'CDK inhibitor',\n",
       " 'CDK inhibitor',\n",
       " 'HSP inhibitor',\n",
       " 'HSP inhibitor',\n",
       " 'HSP inhibitor',\n",
       " 'HSP inhibitor',\n",
       " 'HSP inhibitor',\n",
       " 'CDK inhibitor',\n",
       " 'CDK inhibitor',\n",
       " 'CDK inhibitor',\n",
       " 'HDAC inhibitor',\n",
       " 'HDAC inhibitor',\n",
       " 'histamine receptor agonist',\n",
       " 'histamine receptor agonist',\n",
       " 'p38 MAPK inhibitor',\n",
       " 'VEGFR inhibitor',\n",
       " 'VEGFR inhibitor',\n",
       " 'VEGFR inhibitor',\n",
       " 'maternal embryonic leucine zipper kinase inhibitor',\n",
       " 'maternal embryonic leucine zipper kinase inhibitor',\n",
       " 'maternal embryonic leucine zipper kinase inhibitor',\n",
       " 'maternal embryonic leucine zipper kinase inhibitor',\n",
       " 'maternal embryonic leucine zipper kinase inhibitor',\n",
       " 'selective serotonin reuptake inhibitor (SSRI)',\n",
       " 'selective serotonin reuptake inhibitor (SSRI)',\n",
       " 'serotonin receptor agonist|serotonin receptor antagonist',\n",
       " 'glycine transporter inhibitor',\n",
       " 'WEE1 kinase inhibitor',\n",
       " 'WEE1 kinase inhibitor',\n",
       " 'WEE1 kinase inhibitor',\n",
       " 'antithyroid agent',\n",
       " 'antithyroid agent',\n",
       " 'DNA methyltransferase inhibitor',\n",
       " 'DNA methyltransferase inhibitor',\n",
       " 'DNA methyltransferase inhibitor',\n",
       " 'DNA methyltransferase inhibitor',\n",
       " 'dopamine receptor antagonist',\n",
       " 'dopamine receptor antagonist',\n",
       " 'ALK tyrosine kinase receptor inhibitor',\n",
       " 'ALK tyrosine kinase receptor inhibitor',\n",
       " 'bacterial cell wall synthesis inhibitor',\n",
       " 'mTOR inhibitor|PI3K inhibitor',\n",
       " 'topoisomerase inhibitor',\n",
       " 'RAF inhibitor',\n",
       " 'rho associated kinase inhibitor',\n",
       " 'topoisomerase inhibitor',\n",
       " 'topoisomerase inhibitor',\n",
       " 'topoisomerase inhibitor',\n",
       " 'topoisomerase inhibitor',\n",
       " 'HDAC inhibitor',\n",
       " 'HDAC inhibitor',\n",
       " 'HDAC inhibitor',\n",
       " 'HDAC inhibitor',\n",
       " 'HDAC inhibitor',\n",
       " 'MEK inhibitor',\n",
       " 'MEK inhibitor',\n",
       " 'MEK inhibitor',\n",
       " 'EGFR inhibitor',\n",
       " 'angiotensin converting enzyme inhibitor',\n",
       " 'HSP inhibitor',\n",
       " 'HSP inhibitor',\n",
       " 'HSP inhibitor',\n",
       " 'acetylcholine receptor antagonist',\n",
       " 'adenosine reuptake inhibitor|phosphodiesterase inhibitor',\n",
       " 'adenosine reuptake inhibitor|phosphodiesterase inhibitor',\n",
       " 'mTOR inhibitor',\n",
       " 'mTOR inhibitor',\n",
       " 'mTOR inhibitor',\n",
       " 'mTOR inhibitor',\n",
       " 'mTOR inhibitor',\n",
       " 'proteasome inhibitor',\n",
       " 'proteasome inhibitor',\n",
       " 'proteasome inhibitor',\n",
       " 'proteasome inhibitor',\n",
       " 'potassium channel blocker',\n",
       " 'Aurora kinase inhibitor|Bcr-Abl kinase inhibitor|FLT3 inhibitor|JAK inhibitor',\n",
       " 'Aurora kinase inhibitor|Bcr-Abl kinase inhibitor|FLT3 inhibitor|JAK inhibitor',\n",
       " 'Aurora kinase inhibitor|Bcr-Abl kinase inhibitor|FLT3 inhibitor|JAK inhibitor',\n",
       " 'cytomegalovirus inhibitor|protein kinase inhibitor',\n",
       " 'cytomegalovirus inhibitor|protein kinase inhibitor',\n",
       " 'CDK inhibitor|growth factor receptor inhibitor',\n",
       " 'CDK inhibitor|growth factor receptor inhibitor',\n",
       " 'CDK inhibitor|growth factor receptor inhibitor',\n",
       " 'CDK inhibitor|growth factor receptor inhibitor',\n",
       " 'CDK inhibitor|growth factor receptor inhibitor',\n",
       " 'tubulin polymerization inhibitor',\n",
       " 'tubulin polymerization inhibitor',\n",
       " 'tubulin polymerization inhibitor',\n",
       " 'tubulin polymerization inhibitor',\n",
       " 'HDAC inhibitor',\n",
       " 'HDAC inhibitor',\n",
       " 'HDAC inhibitor',\n",
       " 'HDAC inhibitor',\n",
       " 'HDAC inhibitor',\n",
       " 'gamma secretase inhibitor',\n",
       " 'gamma secretase inhibitor',\n",
       " 'gamma secretase inhibitor',\n",
       " 'inosine monophosphate dehydrogenase inhibitor',\n",
       " 'inosine monophosphate dehydrogenase inhibitor',\n",
       " 'glucocorticoid receptor agonist',\n",
       " 'glucocorticoid receptor agonist',\n",
       " 'glucocorticoid receptor agonist',\n",
       " 'glucocorticoid receptor agonist',\n",
       " 'glucocorticoid receptor agonist',\n",
       " 'MDM inhibitor',\n",
       " 'MDM inhibitor',\n",
       " 'cannabinoid receptor inverse agonist',\n",
       " 'VEGFR inhibitor',\n",
       " 'VEGFR inhibitor',\n",
       " 'VEGFR inhibitor',\n",
       " 'dopamine receptor antagonist',\n",
       " 'dehydrogenase inhibitor|inositol monophosphatase inhibitor',\n",
       " 'dehydrogenase inhibitor|inositol monophosphatase inhibitor',\n",
       " 'dehydrogenase inhibitor|inositol monophosphatase inhibitor',\n",
       " 'guanylate cyclase stimulant',\n",
       " 'EGFR inhibitor',\n",
       " 'MEK inhibitor',\n",
       " 'MEK inhibitor',\n",
       " 'MEK inhibitor',\n",
       " 'MEK inhibitor',\n",
       " 'MEK inhibitor',\n",
       " 'CDK inhibitor',\n",
       " 'CDK inhibitor',\n",
       " 'CDK inhibitor',\n",
       " 'CDK inhibitor',\n",
       " 'CDK inhibitor',\n",
       " 'PLK inhibitor',\n",
       " 'PLK inhibitor',\n",
       " 'PLK inhibitor',\n",
       " 'PLK inhibitor',\n",
       " 'PLK inhibitor',\n",
       " 'MDM inhibitor',\n",
       " 'MDM inhibitor',\n",
       " 'NADPH oxidase inhibitor',\n",
       " 'NADPH oxidase inhibitor',\n",
       " 'EGFR inhibitor',\n",
       " 'EGFR inhibitor',\n",
       " 'EGFR inhibitor',\n",
       " 'FLT3 inhibitor|KIT inhibitor|PDGFR tyrosine kinase receptor inhibitor|RAD51 inhibitor|RET tyrosine kinase inhibitor',\n",
       " 'FLT3 inhibitor|KIT inhibitor|PDGFR tyrosine kinase receptor inhibitor|RAD51 inhibitor|RET tyrosine kinase inhibitor',\n",
       " 'bacterial 50S ribosomal subunit inhibitor',\n",
       " 'calcitonin antagonist',\n",
       " 'histamine receptor antagonist',\n",
       " 'DNA synthesis inhibitor',\n",
       " 'DNA synthesis inhibitor',\n",
       " 'angiotensin converting enzyme inhibitor',\n",
       " 'serotonin receptor agonist|serotonin receptor antagonist',\n",
       " 'serotonin receptor agonist|serotonin receptor antagonist',\n",
       " 'serotonin receptor agonist|serotonin receptor antagonist',\n",
       " 'serotonin receptor agonist|serotonin receptor antagonist',\n",
       " 'nedd activating enzyme inhibitor',\n",
       " 'nedd activating enzyme inhibitor',\n",
       " 'nedd activating enzyme inhibitor',\n",
       " 'nedd activating enzyme inhibitor',\n",
       " 'nedd activating enzyme inhibitor',\n",
       " 'ACAT inhibitor',\n",
       " 'ACAT inhibitor',\n",
       " 'AKT inhibitor',\n",
       " 'fungal squalene epoxidase inhibitor',\n",
       " 'microtubule stabilizing agent|tubulin polymerization inhibitor',\n",
       " 'microtubule stabilizing agent|tubulin polymerization inhibitor',\n",
       " 'microtubule stabilizing agent|tubulin polymerization inhibitor',\n",
       " 'microtubule stabilizing agent|tubulin polymerization inhibitor',\n",
       " 'microtubule stabilizing agent|tubulin polymerization inhibitor',\n",
       " 'topoisomerase inhibitor',\n",
       " 'topoisomerase inhibitor',\n",
       " 'topoisomerase inhibitor',\n",
       " 'topoisomerase inhibitor',\n",
       " 'topoisomerase inhibitor',\n",
       " 'Aurora kinase inhibitor|FLT3 inhibitor|VEGFR inhibitor',\n",
       " 'Aurora kinase inhibitor|FLT3 inhibitor|VEGFR inhibitor',\n",
       " 'kinesin-like spindle protein inhibitor',\n",
       " 'kinesin-like spindle protein inhibitor',\n",
       " 'kinesin-like spindle protein inhibitor',\n",
       " 'kinesin-like spindle protein inhibitor',\n",
       " 'kinesin-like spindle protein inhibitor',\n",
       " 'PKC activator',\n",
       " 'PKC activator',\n",
       " 'PKC activator',\n",
       " 'PKC activator',\n",
       " 'PKC activator',\n",
       " 'adrenergic receptor agonist',\n",
       " 'Aurora kinase inhibitor',\n",
       " 'Aurora kinase inhibitor',\n",
       " 'Aurora kinase inhibitor',\n",
       " 'dopamine receptor antagonist|serotonin receptor antagonist',\n",
       " 'Bcr-Abl kinase inhibitor',\n",
       " 'Bcr-Abl kinase inhibitor',\n",
       " 'XIAP inhibitor',\n",
       " 'XIAP inhibitor',\n",
       " 'XIAP inhibitor',\n",
       " 'XIAP inhibitor',\n",
       " 'dopamine receptor antagonist|serotonin receptor antagonist',\n",
       " 'HMGCR inhibitor',\n",
       " 'PLK inhibitor',\n",
       " 'PLK inhibitor',\n",
       " 'PLK inhibitor',\n",
       " 'PLK inhibitor',\n",
       " 'PLK inhibitor',\n",
       " \"Bruton's tyrosine kinase (BTK) inhibitor\",\n",
       " \"Bruton's tyrosine kinase (BTK) inhibitor\",\n",
       " 'selective serotonin reuptake inhibitor (SSRI)',\n",
       " 'selective serotonin reuptake inhibitor (SSRI)',\n",
       " 'glutamate receptor antagonist',\n",
       " 'glutamate receptor antagonist',\n",
       " 'serotonin receptor agonist|serotonin receptor antagonist',\n",
       " 'EGFR inhibitor',\n",
       " 'hypoxia inducible factor inhibitor',\n",
       " 'hypoxia inducible factor inhibitor',\n",
       " 'hypoxia inducible factor inhibitor',\n",
       " 'hypoxia inducible factor inhibitor',\n",
       " 'hypoxia inducible factor inhibitor',\n",
       " 'selective serotonin reuptake inhibitor (SSRI)',\n",
       " 'sigma receptor antagonist',\n",
       " 'sigma receptor antagonist',\n",
       " 'PLK inhibitor',\n",
       " 'PLK inhibitor',\n",
       " 'PLK inhibitor',\n",
       " 'P glycoprotein inhibitor',\n",
       " 'P glycoprotein inhibitor',\n",
       " 'adrenergic receptor antagonist|serotonin receptor antagonist|serotonin reuptake inhibitor',\n",
       " 'adrenergic receptor antagonist|serotonin receptor antagonist|serotonin reuptake inhibitor',\n",
       " 'adrenergic receptor antagonist|serotonin receptor antagonist|serotonin reuptake inhibitor',\n",
       " 'adrenergic receptor antagonist|serotonin receptor antagonist|serotonin reuptake inhibitor',\n",
       " 'sodium channel blocker',\n",
       " 'sodium channel blocker',\n",
       " 'sodium channel blocker',\n",
       " 'sodium channel blocker',\n",
       " 'EGFR inhibitor',\n",
       " 'EGFR inhibitor',\n",
       " 'cyclooxygenase inhibitor',\n",
       " 'cyclooxygenase inhibitor',\n",
       " 'cyclooxygenase inhibitor',\n",
       " 'KIT inhibitor|PDGFR tyrosine kinase receptor inhibitor|SRC inhibitor',\n",
       " 'KIT inhibitor|PDGFR tyrosine kinase receptor inhibitor|SRC inhibitor',\n",
       " 'XIAP inhibitor',\n",
       " 'XIAP inhibitor',\n",
       " 'XIAP inhibitor',\n",
       " 'HSP inhibitor',\n",
       " 'HSP inhibitor',\n",
       " 'HSP inhibitor',\n",
       " 'leukotriene receptor antagonist',\n",
       " 'AKT inhibitor',\n",
       " 'AKT inhibitor',\n",
       " 'AKT inhibitor',\n",
       " '5 alpha reductase inhibitor',\n",
       " '5 alpha reductase inhibitor',\n",
       " 'angiotensin converting enzyme inhibitor',\n",
       " 'angiotensin converting enzyme inhibitor',\n",
       " 'angiotensin converting enzyme inhibitor',\n",
       " 'CDK inhibitor',\n",
       " 'CDK inhibitor',\n",
       " 'CDK inhibitor',\n",
       " 'CDK inhibitor',\n",
       " 'CDK inhibitor',\n",
       " 'ALK tyrosine kinase receptor inhibitor',\n",
       " 'ALK tyrosine kinase receptor inhibitor',\n",
       " 'DNA inhibitor|topoisomerase inhibitor',\n",
       " 'DNA inhibitor|topoisomerase inhibitor',\n",
       " 'DNA inhibitor|topoisomerase inhibitor',\n",
       " 'DNA synthesis inhibitor',\n",
       " 'DNA synthesis inhibitor',\n",
       " 'DNA synthesis inhibitor',\n",
       " 'DNA synthesis inhibitor',\n",
       " 'DNA synthesis inhibitor',\n",
       " 'adrenergic receptor antagonist',\n",
       " 'vitamin D receptor agonist',\n",
       " 'vitamin D receptor agonist',\n",
       " 'c-Met inhibitor',\n",
       " 'c-Met inhibitor',\n",
       " 'c-Met inhibitor',\n",
       " 'c-Met inhibitor',\n",
       " 'c-Met inhibitor',\n",
       " 'angiotensin receptor antagonist',\n",
       " 'angiotensin receptor antagonist',\n",
       " 'tubulin polymerization inhibitor',\n",
       " 'tubulin polymerization inhibitor',\n",
       " 'p38 MAPK inhibitor',\n",
       " 'IKK inhibitor|NFkB pathway inhibitor',\n",
       " 'IKK inhibitor|NFkB pathway inhibitor',\n",
       " 'IKK inhibitor|NFkB pathway inhibitor',\n",
       " 'endothelin receptor antagonist',\n",
       " 'endothelin receptor antagonist',\n",
       " 'Aurora kinase inhibitor',\n",
       " 'Aurora kinase inhibitor',\n",
       " 'Aurora kinase inhibitor',\n",
       " 'purine antagonist',\n",
       " 'HMGCR inhibitor',\n",
       " 'dopamine receptor agonist',\n",
       " 'dopamine receptor agonist',\n",
       " 'rho associated kinase inhibitor',\n",
       " 'protein synthesis inhibitor',\n",
       " 'protein synthesis inhibitor',\n",
       " 'protein synthesis inhibitor',\n",
       " 'protein synthesis inhibitor',\n",
       " 'protein synthesis inhibitor',\n",
       " 'retinoid receptor agonist',\n",
       " 'retinoid receptor agonist',\n",
       " 'PKC inhibitor',\n",
       " 'PKC inhibitor',\n",
       " 'HDAC inhibitor',\n",
       " 'HDAC inhibitor',\n",
       " 'HDAC inhibitor',\n",
       " 'tubulin polymerization inhibitor',\n",
       " 'tubulin polymerization inhibitor',\n",
       " 'tubulin polymerization inhibitor',\n",
       " 'tubulin polymerization inhibitor',\n",
       " 'diuretic',\n",
       " 'diuretic',\n",
       " 'glycogen synthase kinase inhibitor',\n",
       " 'glycogen synthase kinase inhibitor',\n",
       " 'glycogen synthase kinase inhibitor',\n",
       " 'glycogen synthase kinase inhibitor',\n",
       " 'glycogen synthase kinase inhibitor',\n",
       " 'dopamine receptor antagonist',\n",
       " 'mitochondrial DNA polymerase inhibitor|phosphatase inhibitor',\n",
       " 'mitochondrial DNA polymerase inhibitor|phosphatase inhibitor',\n",
       " 'tubulin polymerization inhibitor',\n",
       " 'tubulin polymerization inhibitor',\n",
       " 'tubulin polymerization inhibitor',\n",
       " 'tubulin polymerization inhibitor',\n",
       " 'tubulin polymerization inhibitor',\n",
       " 'proteasome inhibitor',\n",
       " 'proteasome inhibitor',\n",
       " 'proteasome inhibitor',\n",
       " 'tubulin polymerization inhibitor',\n",
       " 'tubulin polymerization inhibitor',\n",
       " 'tubulin polymerization inhibitor',\n",
       " 'DNA methyltransferase inhibitor',\n",
       " 'PKC inhibitor',\n",
       " 'antacid',\n",
       " 'antacid',\n",
       " 'Pim kinase inhibitor',\n",
       " 'Pim kinase inhibitor',\n",
       " 'Pim kinase inhibitor',\n",
       " 'adrenergic receptor antagonist',\n",
       " 'RNA polymerase inhibitor',\n",
       " 'RNA polymerase inhibitor',\n",
       " 'RNA polymerase inhibitor',\n",
       " 'RNA polymerase inhibitor',\n",
       " 'gamma secretase inhibitor',\n",
       " 'nitric oxide stimulant',\n",
       " 'nitric oxide stimulant',\n",
       " 'MEK inhibitor',\n",
       " 'MEK inhibitor',\n",
       " 'MEK inhibitor',\n",
       " 'MEK inhibitor',\n",
       " 'neurotransmitter agonist',\n",
       " 'neurotransmitter agonist',\n",
       " 'neurotransmitter agonist',\n",
       " 'histamine receptor antagonist',\n",
       " 'insulin secretagogue',\n",
       " 'insulin secretagogue',\n",
       " 'HDAC inhibitor',\n",
       " 'HDAC inhibitor',\n",
       " 'HMGCR inhibitor',\n",
       " 'PLK inhibitor',\n",
       " 'PLK inhibitor',\n",
       " 'PLK inhibitor',\n",
       " 'PLK inhibitor',\n",
       " 'PLK inhibitor',\n",
       " 'gamma secretase inhibitor',\n",
       " 'HDAC inhibitor',\n",
       " 'HDAC inhibitor',\n",
       " 'HDAC inhibitor',\n",
       " 'HDAC inhibitor',\n",
       " 'HDAC inhibitor',\n",
       " 'Aurora kinase inhibitor',\n",
       " 'Aurora kinase inhibitor',\n",
       " 'Aurora kinase inhibitor',\n",
       " 'guanylate cyclase stimulant',\n",
       " 'nucleoside reverse transcriptase inhibitor',\n",
       " 'RNA synthesis inhibitor',\n",
       " 'RNA synthesis inhibitor',\n",
       " 'RNA synthesis inhibitor',\n",
       " 'EGFR inhibitor',\n",
       " 'MEK inhibitor',\n",
       " 'MEK inhibitor',\n",
       " 'nucleoside reverse transcriptase inhibitor',\n",
       " 'IGF-1 inhibitor',\n",
       " 'IGF-1 inhibitor',\n",
       " 'IGF-1 inhibitor',\n",
       " 'CHK inhibitor',\n",
       " 'CHK inhibitor',\n",
       " 'CHK inhibitor',\n",
       " 'HDAC inhibitor',\n",
       " 'HDAC inhibitor',\n",
       " 'HDAC inhibitor',\n",
       " 'HDAC inhibitor',\n",
       " 'dopamine receptor agonist',\n",
       " 'dopamine receptor agonist',\n",
       " 'JAK inhibitor',\n",
       " 'JAK inhibitor',\n",
       " \"Bruton's tyrosine kinase (BTK) inhibitor\",\n",
       " 'CDK inhibitor',\n",
       " 'CDK inhibitor',\n",
       " 'CDK inhibitor',\n",
       " 'CDK inhibitor',\n",
       " 'CDK inhibitor',\n",
       " 'dihydrofolate reductase inhibitor',\n",
       " 'NFkB pathway inhibitor|proteasome inhibitor',\n",
       " 'NFkB pathway inhibitor|proteasome inhibitor',\n",
       " 'NFkB pathway inhibitor|proteasome inhibitor',\n",
       " 'NFkB pathway inhibitor|proteasome inhibitor',\n",
       " 'NFkB pathway inhibitor|proteasome inhibitor',\n",
       " 'ACAT inhibitor',\n",
       " 'ACAT inhibitor',\n",
       " 'dopamine receptor agonist',\n",
       " 'calcitonin antagonist',\n",
       " 'cyclooxygenase inhibitor',\n",
       " 'CC chemokine receptor antagonist',\n",
       " 'CC chemokine receptor antagonist',\n",
       " 'CC chemokine receptor antagonist',\n",
       " 'topoisomerase inhibitor',\n",
       " 'topoisomerase inhibitor',\n",
       " 'topoisomerase inhibitor',\n",
       " 'topoisomerase inhibitor',\n",
       " 'topoisomerase inhibitor',\n",
       " 'peptidase inhibitor',\n",
       " 'peptidase inhibitor',\n",
       " 'peptidase inhibitor',\n",
       " 'peptidase inhibitor',\n",
       " 'phosphodiesterase inhibitor',\n",
       " 'dehydrogenase inhibitor|inositol monophosphatase inhibitor',\n",
       " 'dehydrogenase inhibitor|inositol monophosphatase inhibitor',\n",
       " 'dehydrogenase inhibitor|inositol monophosphatase inhibitor',\n",
       " 'PLK inhibitor',\n",
       " 'PLK inhibitor',\n",
       " 'PLK inhibitor',\n",
       " 'PLK inhibitor',\n",
       " 'retinoid receptor agonist',\n",
       " 'adenosine deaminase inhibitor|ribonucleotide reductase inhibitor',\n",
       " 'adenosine deaminase inhibitor|ribonucleotide reductase inhibitor',\n",
       " 'RAF inhibitor|VEGFR inhibitor',\n",
       " 'RAF inhibitor|VEGFR inhibitor',\n",
       " 'RAF inhibitor|VEGFR inhibitor',\n",
       " 'PKC activator',\n",
       " 'PKC activator',\n",
       " 'PKC activator',\n",
       " 'PKC activator',\n",
       " 'PKC activator',\n",
       " 'CMV terminase inhibitor',\n",
       " 'CMV terminase inhibitor',\n",
       " 'beta-secretase inhibitor',\n",
       " 'beta-secretase inhibitor',\n",
       " 'beta-secretase inhibitor',\n",
       " 'ATPase inhibitor',\n",
       " 'ATPase inhibitor',\n",
       " 'acetylcholine receptor antagonist',\n",
       " 'dihydroorotate dehydrogenase inhibitor',\n",
       " 'dihydroorotate dehydrogenase inhibitor',\n",
       " 'dihydroorotate dehydrogenase inhibitor',\n",
       " 'NFkB pathway inhibitor',\n",
       " 'NFkB pathway inhibitor',\n",
       " 'dopamine receptor antagonist',\n",
       " 'dopamine receptor antagonist',\n",
       " 'histamine receptor antagonist',\n",
       " 'histamine receptor antagonist',\n",
       " 'AKT inhibitor',\n",
       " 'EGFR inhibitor',\n",
       " 'AKT inhibitor',\n",
       " 'AKT inhibitor',\n",
       " 'androgen receptor modulator',\n",
       " 'mTOR inhibitor',\n",
       " 'mTOR inhibitor',\n",
       " 'mTOR inhibitor',\n",
       " 'sodium channel blocker',\n",
       " 'topoisomerase inhibitor',\n",
       " 'topoisomerase inhibitor',\n",
       " 'topoisomerase inhibitor',\n",
       " ...]"
      ]
     },
     "execution_count": 9,
     "metadata": {},
     "output_type": "execute_result"
    }
   ],
   "source": [
    "filteredMOAs.Metadata_moa.tolist()"
   ]
  },
  {
   "cell_type": "code",
   "execution_count": null,
   "metadata": {},
   "outputs": [],
   "source": []
  }
 ],
 "metadata": {
  "kernelspec": {
   "display_name": "Python 3",
   "language": "python",
   "name": "python3"
  },
  "language_info": {
   "codemirror_mode": {
    "name": "ipython",
    "version": 3
   },
   "file_extension": ".py",
   "mimetype": "text/x-python",
   "name": "python",
   "nbconvert_exporter": "python",
   "pygments_lexer": "ipython3",
   "version": "3.8.3"
  }
 },
 "nbformat": 4,
 "nbformat_minor": 4
}
