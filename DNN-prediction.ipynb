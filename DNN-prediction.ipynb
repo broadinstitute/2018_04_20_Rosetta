{
 "cells": [
  {
   "cell_type": "code",
   "execution_count": null,
   "metadata": {},
   "outputs": [],
   "source": [
    "%matplotlib inline\n",
    "import numpy as np\n",
    "import matplotlib.pyplot as plt\n",
    "import tensorflow as tf\n",
    "import sklearn.decomposition\n",
    "import pandas as pd\n",
    "import seaborn as sb\n",
    "\n",
    "import tsne\n",
    "import multimodal_data"
   ]
  },
  {
   "cell_type": "markdown",
   "metadata": {},
   "source": [
    "# Load data"
   ]
  },
  {
   "cell_type": "code",
   "execution_count": null,
   "metadata": {},
   "outputs": [],
   "source": [
    "l1k = multimodal_data.load_l1000(\"replicate_level_all_alleles.csv\")\n",
    "cp = multimodal_data.load_cell_painting(\n",
    "    \"/data1/luad/others/morphology.csv\", \n",
    "    \"resnet18-validation-well_profiles.csv\", \n",
    "    aggregate_replicates=False\n",
    ")"
   ]
  },
  {
   "cell_type": "code",
   "execution_count": null,
   "metadata": {},
   "outputs": [],
   "source": [
    "l1k, cp = multimodal_data.align_profiles(l1k, cp, sample=0)\n",
    "GE = np.asarray(l1k)[:,1:]\n",
    "MP = np.asarray(cp)[:,1:]"
   ]
  },
  {
   "cell_type": "markdown",
   "metadata": {},
   "source": [
    "# Separate training and validation"
   ]
  },
  {
   "cell_type": "code",
   "execution_count": null,
   "metadata": {},
   "outputs": [],
   "source": [
    "common_alleles = set(cp[\"Allele\"].unique()).intersection( l1k[\"Allele\"].unique() )\n",
    "genes = list(common_alleles)\n",
    "np.random.shuffle(genes)\n",
    "\n",
    "train = genes[0:9*int(len(genes)/10)]\n",
    "test = genes[9*int(len(genes)/10):]\n",
    "\n",
    "GE_train = l1k[l1k[\"Allele\"].isin(train)]\n",
    "MP_train = cp[cp[\"Allele\"].isin(train)]\n",
    "\n",
    "GE_test = l1k[l1k[\"Allele\"].isin(test)]\n",
    "MP_test = cp[cp[\"Allele\"].isin(test)]"
   ]
  },
  {
   "cell_type": "markdown",
   "metadata": {},
   "source": [
    "# Normalize inputs and outputs"
   ]
  },
  {
   "cell_type": "code",
   "execution_count": null,
   "metadata": {
    "scrolled": true
   },
   "outputs": [],
   "source": [
    "def z_score(A, model, features):\n",
    "    alleles = list(A[\"Allele\"])\n",
    "    A = pd.DataFrame(data=model.transform(A[features]), columns=features)\n",
    "    A[\"Allele\"] = alleles\n",
    "    return A[[\"Allele\"] + features]\n",
    "\n",
    "ge_features = [str(i) for i in range(GE.shape[1])]\n",
    "sc_l1k = sklearn.preprocessing.StandardScaler()\n",
    "sc_l1k.fit(GE_train[ge_features])\n",
    "GE_train = z_score(GE_train, sc_l1k, ge_features)\n",
    "GE_test = z_score(GE_test, sc_l1k, ge_features)\n",
    "\n",
    "mp_features = [str(i) for i in range(MP.shape[1])]\n",
    "sc_cp = sklearn.preprocessing.StandardScaler()\n",
    "sc_cp.fit(MP_train[mp_features])\n",
    "MP_train = z_score(MP_train, sc_cp, mp_features)\n",
    "MP_test = z_score(MP_test, sc_cp, mp_features)"
   ]
  },
  {
   "cell_type": "markdown",
   "metadata": {},
   "source": [
    "# Create Neural Net"
   ]
  },
  {
   "cell_type": "code",
   "execution_count": null,
   "metadata": {},
   "outputs": [],
   "source": [
    "def mp2ge_net(in_size, out_size):\n",
    "    inLayer = tf.keras.layers.Input([in_size])\n",
    "    net = tf.keras.layers.Dense(in_size, activation=\"relu\")(inLayer)\n",
    "    net = tf.keras.layers.BatchNormalization()(net)\n",
    "    net = tf.keras.layers.Dense(in_size//2, activation=\"relu\")(net)\n",
    "    net = tf.keras.layers.BatchNormalization()(net)\n",
    "    net = tf.keras.layers.Dropout(0.5)(net)\n",
    "    net = tf.keras.layers.Dense(out_size//4, activation=\"relu\")(net)\n",
    "    net = tf.keras.layers.BatchNormalization()(net)\n",
    "    net = tf.keras.layers.Dropout(0.5)(net)\n",
    "    net = tf.keras.layers.Dense(out_size, activation=None)(net)\n",
    "    return tf.keras.Model(inLayer, net)"
   ]
  },
  {
   "cell_type": "code",
   "execution_count": null,
   "metadata": {},
   "outputs": [],
   "source": [
    "model = mp2ge_net(MP.shape[1], GE.shape[1])\n",
    "model.summary()"
   ]
  },
  {
   "cell_type": "markdown",
   "metadata": {},
   "source": [
    "# Prepare data generator"
   ]
  },
  {
   "cell_type": "code",
   "execution_count": null,
   "metadata": {},
   "outputs": [],
   "source": [
    "class MultimodalDataGenerator(tf.keras.utils.Sequence):\n",
    "    'Generates data for Keras'\n",
    "    def __init__(self, modA, modB, batch_size=32):\n",
    "        'Initialization'\n",
    "        self.batch_size = batch_size\n",
    "        self.modA = modA\n",
    "        self.modB = modB\n",
    "        self.classes = set( modA[\"Allele\"].unique()).intersection( modB[\"Allele\"].unique() )\n",
    "        self.classes = list(self.classes)\n",
    "        self.create_samples()\n",
    "        \n",
    "    def create_samples(self):\n",
    "        dataA = []\n",
    "        dataB = []\n",
    "        classes = []\n",
    "        # Generate all combinations of A and B with the same label\n",
    "        for cl in self.classes:\n",
    "            for idx, rowA in self.modA[self.modA[\"Allele\"] == cl].iterrows():\n",
    "                for jdx, rowB in self.modB[self.modB[\"Allele\"] == cl].iterrows():\n",
    "                    dataA.append(np.reshape(np.asarray(rowA)[1:], (1,self.modA.shape[1]-1)))\n",
    "                    dataB.append(np.reshape(np.asarray(rowB)[1:], (1,self.modB.shape[1]-1)))\n",
    "                    classes.append(cl)\n",
    "        self.X = np.concatenate(dataA)\n",
    "        self.Y = np.concatenate(dataB)\n",
    "        self.Z = classes\n",
    "        print(\"Total pairs:\", len(dataA), self.X.shape, self.Y.shape)\n",
    "\n",
    "    def __len__(self):\n",
    "        'Denotes the number of batches per epoch'\n",
    "        return int(np.floor(len(self.modA) / self.batch_size))\n",
    "\n",
    "    def __getitem__(self, index):\n",
    "        'Generate one batch of data'\n",
    "        # Initialization\n",
    "        index = np.arange(0,self.X.shape[0])\n",
    "        np.random.shuffle(index)\n",
    "        X = self.X[index[0:self.batch_size], :]\n",
    "        Y = self.Y[index[0:self.batch_size], :]\n",
    "        return X, Y"
   ]
  },
  {
   "cell_type": "markdown",
   "metadata": {},
   "source": [
    "# Train model"
   ]
  },
  {
   "cell_type": "code",
   "execution_count": null,
   "metadata": {},
   "outputs": [],
   "source": [
    "#build session running on GPU 1\n",
    "configuration = tf.ConfigProto()\n",
    "configuration.gpu_options.allow_growth = True\n",
    "configuration.gpu_options.visible_device_list = \"3\"\n",
    "session = tf.Session(config = configuration)\n",
    "\n",
    "tf.keras.backend.set_session(session)"
   ]
  },
  {
   "cell_type": "code",
   "execution_count": null,
   "metadata": {
    "scrolled": true
   },
   "outputs": [],
   "source": [
    "model.compile(optimizer='adam', loss='mean_absolute_error')\n",
    "dgen_train = MultimodalDataGenerator(MP_train, GE_train)\n",
    "dgen_test = MultimodalDataGenerator(MP_test, GE_test)\n",
    "model.fit_generator(dgen_train, epochs=100, validation_data=dgen_test)"
   ]
  },
  {
   "cell_type": "markdown",
   "metadata": {},
   "source": [
    "# Make predictions"
   ]
  },
  {
   "cell_type": "code",
   "execution_count": null,
   "metadata": {
    "scrolled": true
   },
   "outputs": [],
   "source": [
    "predicted_ge = model.predict(np.asarray(MP_test)[:,1:])\n",
    "\n",
    "predicted_ge = pd.DataFrame(data=predicted_ge, columns=ge_features)\n",
    "predicted_ge[\"Allele\"] = MP_test[\"Allele\"]\n",
    "predicted_ge = predicted_ge[[\"Allele\"] + ge_features]\n",
    "\n",
    "predicted_ge[\"Real\"] = False\n",
    "GE_test[\"Real\"] = True\n",
    "\n",
    "compare_ge = pd.concat([GE_test, predicted_ge]).reset_index(drop=True)"
   ]
  },
  {
   "cell_type": "code",
   "execution_count": null,
   "metadata": {
    "scrolled": true
   },
   "outputs": [],
   "source": [
    "# Compute tSNE\n",
    "X = np.asarray(compare_ge)[:,1:-1]\n",
    "X = np.asarray(X, dtype=np.float)\n",
    "Y = tsne.tsne(X)"
   ]
  },
  {
   "cell_type": "code",
   "execution_count": null,
   "metadata": {},
   "outputs": [],
   "source": [
    "compare_ge[\"X\"] = Y[:,0]\n",
    "compare_ge[\"Y\"] = Y[:,1]\n",
    "sb.lmplot(data=compare_ge, x=\"X\", y=\"Y\", hue=\"Real\", fit_reg=False)"
   ]
  },
  {
   "cell_type": "code",
   "execution_count": null,
   "metadata": {
    "scrolled": false
   },
   "outputs": [],
   "source": [
    "plt.figure(figsize=(12,12))\n",
    "p1 = sb.regplot(data=compare_ge[compare_ge[\"Real\"]], x=\"X\", y=\"Y\", fit_reg=False, color=\"#FF983E\", scatter_kws={'s':50})\n",
    "for point in range(compare_ge.shape[0]):\n",
    "    if point % 2 == 0:\n",
    "        p1.text(compare_ge.X[point], compare_ge.Y[point], compare_ge.Allele[point], horizontalalignment='left', size='small', color='black')\n",
    "\n",
    "p2 = sb.regplot(data=compare_ge[~compare_ge[\"Real\"]], x=\"X\", y=\"Y\", fit_reg=False, color=\"#4B91C2\", scatter_kws={'s':50})\n",
    "for point in range(compare_ge.shape[0]):\n",
    "    if point % 2 == 0:\n",
    "        p2.text(compare_ge.X[point], compare_ge.Y[point], compare_ge.Allele[point], horizontalalignment='left', size='small', color='black')"
   ]
  },
  {
   "cell_type": "code",
   "execution_count": null,
   "metadata": {},
   "outputs": [],
   "source": []
  }
 ],
 "metadata": {
  "kernelspec": {
   "display_name": "Python 3",
   "language": "python",
   "name": "python3"
  },
  "language_info": {
   "codemirror_mode": {
    "name": "ipython",
    "version": 3
   },
   "file_extension": ".py",
   "mimetype": "text/x-python",
   "name": "python",
   "nbconvert_exporter": "python",
   "pygments_lexer": "ipython3",
   "version": "3.6.4"
  }
 },
 "nbformat": 4,
 "nbformat_minor": 2
}
