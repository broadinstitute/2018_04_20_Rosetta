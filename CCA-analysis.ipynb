{
 "cells": [
  {
   "cell_type": "code",
   "execution_count": null,
   "metadata": {},
   "outputs": [],
   "source": [
    "%matplotlib inline\n",
    "import numpy as np\n",
    "import scipy.spatial\n",
    "import pandas as pd\n",
    "import sklearn.decomposition\n",
    "import matplotlib.pyplot as plt\n",
    "import seaborn as sb\n",
    "\n",
    "import linear_cca\n",
    "import multimodal_data"
   ]
  },
  {
   "cell_type": "markdown",
   "metadata": {},
   "source": [
    "# Useful References\n",
    "## https://arxiv.org/pdf/1711.02391.pdf\n",
    "## http://users.stat.umn.edu/~helwig/notes/cancor-Notes.pdf\n",
    "## https://www.statisticssolutions.com/canonical-correlation/"
   ]
  },
  {
   "cell_type": "markdown",
   "metadata": {},
   "source": [
    "# Load data"
   ]
  },
  {
   "cell_type": "code",
   "execution_count": null,
   "metadata": {},
   "outputs": [],
   "source": [
    "l1k = multimodal_data.load_l1000(\"treatment_level_all_alleles.csv\")\n",
    "l1k = multimodal_data.load_l1000(\"replicate_level_all_alleles.csv\")\n",
    "cp = multimodal_data.load_cell_painting(\n",
    "    \"/data1/luad/others/morphology.csv\", \n",
    "    \"resnet18-validation-well_profiles.csv\", \n",
    "    aggregate_replicates=False\n",
    ")"
   ]
  },
  {
   "cell_type": "code",
   "execution_count": null,
   "metadata": {},
   "outputs": [],
   "source": [
    "l1k, cp = multimodal_data.align_profiles(l1k, cp, sample=4)\n",
    "common_alleles = set(cp[\"Allele\"].unique()).intersection( l1k[\"Allele\"].unique() )\n",
    "genes = list(common_alleles)\n",
    "genes = [x for x in genes if x not in [\"EGFP\", \"BFP\", \"HCRED\"]]\n",
    "l1k = l1k[l1k.Allele.isin(genes)]\n",
    "cp = cp[cp.Allele.isin(genes)]"
   ]
  },
  {
   "cell_type": "markdown",
   "metadata": {},
   "source": [
    "# Compute CCA"
   ]
  },
  {
   "cell_type": "code",
   "execution_count": null,
   "metadata": {},
   "outputs": [],
   "source": [
    "# Preprocessing to the data:\n",
    "# 1. Standardize features (z-scoring)\n",
    "# 2. Reduce dimensionality (PCA down to 100 features)\n",
    "# This is necessary because we only have 175 data points, \n",
    "# while L1000 has 978 features and Cell Painting has 256.\n",
    "# So PCA is useful as a regularizer somehow.\n",
    "\n",
    "def cca_analysis(GE_train, MF_train, GE_test, MF_test):\n",
    "    # Prepare Gene Expression matrix\n",
    "    sc_l1k = sklearn.preprocessing.StandardScaler()\n",
    "    sc_l1k.fit(GE_train)\n",
    "    GE = sc_l1k.transform(GE_train)\n",
    "    \n",
    "    pca_l1k = sklearn.decomposition.PCA(n_components=150, svd_solver=\"full\")\n",
    "    pca_l1k.fit(GE)\n",
    "    GE = pca_l1k.transform(GE)\n",
    "\n",
    "    # Prepare Cell Painting matrix\n",
    "    sc_cp = sklearn.preprocessing.StandardScaler()\n",
    "    sc_cp.fit(MF_train)\n",
    "    MF = sc_cp.transform(MF_train)\n",
    "    \n",
    "    pca_cp = sklearn.decomposition.PCA(n_components=100, svd_solver=\"full\")\n",
    "    pca_cp.fit(MF)\n",
    "    MF = pca_cp.transform(MF)\n",
    "\n",
    "    # Compute CCA\n",
    "    A, B, D, ma, mb = linear_cca.linear_cca(MF, GE, 10)\n",
    "    \n",
    "    X = pca_cp.transform(sc_cp.transform(MF_test))\n",
    "    Y = pca_l1k.transform(sc_l1k.transform(GE_test))\n",
    "    \n",
    "    X = np.dot(X, A)\n",
    "    Y = np.dot(Y, B)\n",
    "    \n",
    "    return X, Y, D"
   ]
  },
  {
   "cell_type": "code",
   "execution_count": null,
   "metadata": {},
   "outputs": [],
   "source": [
    "GE = np.asarray(l1k)[:,1:]\n",
    "MF = np.asarray(cp)[:,1:]\n",
    "MF_v, GE_v, D = cca_analysis(GE, MF, GE, MF)"
   ]
  },
  {
   "cell_type": "code",
   "execution_count": null,
   "metadata": {},
   "outputs": [],
   "source": [
    "# In linear CCA, the canonical correlations equal to the square roots of the eigenvalues:\n",
    "plt.plot(np.sqrt(D))\n",
    "print(\"First cannonical correlation: \", np.sqrt(D[0]))"
   ]
  },
  {
   "cell_type": "code",
   "execution_count": null,
   "metadata": {},
   "outputs": [],
   "source": [
    "D = scipy.spatial.distance_matrix(MF_v[:,0:2], GE_v[:,0:2])\n",
    "NN = np.argsort(D, axis=1) # Nearest morphology point to each gene expression point\n",
    "\n",
    "plt.figure(figsize=(10,10))\n",
    "plt.scatter(MF_v[:,0], MF_v[:,1], c=\"blue\", s=50, edgecolor='gray', linewidths=1)\n",
    "plt.scatter(GE_v[:,0]+0, GE_v[:,1]+0, c=\"lime\", edgecolor='gray', linewidths=1)\n",
    "\n",
    "connected = 0\n",
    "for i in range(MF_v.shape[0]):\n",
    "    for j in range(7): #GE_v.shape[0]):\n",
    "        if cp.iloc[i].Allele == l1k.iloc[NN[i,j]].Allele:\n",
    "            plt.plot([GE_v[NN[i,j],0],MF_v[i,0]],[GE_v[NN[i,j],1],MF_v[i,1]], 'k-', color=\"red\")\n",
    "#             if np.random.random() > 0.9:\n",
    "#                 plt.text(GE_v[i,0], GE_v[i,1], l1k.iloc[i].Allele, horizontalalignment='left', size='medium', color='black')\n",
    "            connected += 1\n",
    "            #break\n",
    "\n",
    "print(connected)\n",
    "# plt.xlim(-2,2)\n",
    "# plt.ylim(-2,2)"
   ]
  },
  {
   "cell_type": "code",
   "execution_count": null,
   "metadata": {},
   "outputs": [],
   "source": [
    "df = pd.DataFrame(data={\"cca1\": np.concatenate((GE_v[:,0], MF_v[:,0])), \n",
    "                   \"cca2\": np.concatenate((GE_v[:,1],MF_v[:,1])),\n",
    "                   \"source\": [\"L1K\" for x in range(GE_v.shape[0])]+[\"CP\" for x in range(MF_v.shape[0])],\n",
    "                   \"allele\": list(l1k[\"Allele\"]) + list(cp[\"Allele\"])}\n",
    "                 )"
   ]
  },
  {
   "cell_type": "code",
   "execution_count": null,
   "metadata": {},
   "outputs": [],
   "source": [
    "df[\"color\"] = df[\"allele\"].str.find(\"EGFR\") != -1\n",
    "sb.lmplot(data=df, x=\"cca1\", y=\"cca2\", hue=\"color\", fit_reg=False, col=\"source\")"
   ]
  },
  {
   "cell_type": "code",
   "execution_count": null,
   "metadata": {},
   "outputs": [],
   "source": [
    "plt.figure(figsize=(10,10))\n",
    "plt.scatter(MF_v[:,0], MF_v[:,1], c=\"blue\", s=100, edgecolor='gray', linewidths=1)\n",
    "plt.figure(figsize=(10,10))\n",
    "plt.scatter(GE_v[:,0]+0, GE_v[:,1]+0, c=\"lime\", s=100, edgecolor='gray', linewidths=1)"
   ]
  },
  {
   "cell_type": "markdown",
   "metadata": {},
   "source": [
    "# Annotate visualization"
   ]
  },
  {
   "cell_type": "code",
   "execution_count": null,
   "metadata": {},
   "outputs": [],
   "source": [
    "def visualize_annotations(l1k, cp, GE_v, MF_v, display_items=[]):\n",
    "    ge_data = pd.DataFrame(data=l1k[\"Allele\"].reset_index()) \n",
    "    ge_data[\"x\"] = GE_v[:,0]\n",
    "    ge_data[\"y\"] = GE_v[:,1]\n",
    "    ge_data.columns = [\"idx\", \"Allele\", \"x\", \"y\"]\n",
    "    ge_data[\"type\"] = \"GeneExpression\"\n",
    "    \n",
    "    mf_data = pd.DataFrame(data=cp[\"Allele\"].reset_index())\n",
    "    mf_data[\"x\"] = MF_v[:,0]\n",
    "    mf_data[\"y\"] = MF_v[:,1]\n",
    "    mf_data.columns = [\"idx\", \"Allele\", \"x\", \"y\"]\n",
    "    mf_data[\"type\"] = \"Morphology\"\n",
    "    \n",
    "    data = pd.concat([ge_data, mf_data])\n",
    "\n",
    "    plt.figure(figsize=(12,12))\n",
    "    p1 = sb.regplot(data=ge_data, x=\"x\", y=\"y\", fit_reg=False, color=\"red\", scatter_kws={'s':50})\n",
    "    p2 = sb.regplot(data=mf_data, x=\"x\", y=\"y\", fit_reg=False, color=\"blue\", scatter_kws={'s':50})\n",
    "\n",
    "    for point in range(ge_data.shape[0]):\n",
    "        #if ge_data.Allele[point] in display_items:\n",
    "        p1.text(ge_data.x[point], ge_data.y[point], ge_data.Allele[point], horizontalalignment='left', size='medium', color='black')\n",
    "\n",
    "    for point in range(mf_data.shape[0]):\n",
    "        #if mf_data.Allele[point] in display_items:\n",
    "        p2.text(mf_data.x[point], mf_data.y[point], mf_data.Allele[point], horizontalalignment='left', size='medium', color='black')"
   ]
  },
  {
   "cell_type": "code",
   "execution_count": null,
   "metadata": {},
   "outputs": [],
   "source": [
    "visualize_annotations(l1k, cp, GE_v, MF_v, display_items=[\"NFE2L2_p.T80K\",\"EGFP\"])"
   ]
  },
  {
   "cell_type": "markdown",
   "metadata": {},
   "source": [
    "# Visualization in the test set"
   ]
  },
  {
   "cell_type": "code",
   "execution_count": null,
   "metadata": {
    "scrolled": false
   },
   "outputs": [],
   "source": [
    "common_alleles = set(cp[\"Allele\"].unique()).intersection( l1k[\"Allele\"].unique() )\n",
    "genes = list(common_alleles)\n",
    "np.random.shuffle(genes)\n",
    "\n",
    "train = genes[0:9*int(len(genes)/10)]\n",
    "test = genes[9*int(len(genes)/10):]\n",
    "\n",
    "GE_train = np.asarray(l1k[l1k[\"Allele\"].isin(train)])[:,1:]\n",
    "MF_train = np.asarray(cp[cp[\"Allele\"].isin(train)])[:,1:]\n",
    "\n",
    "GE_test = np.asarray(l1k[l1k[\"Allele\"].isin(test)])[:,1:]\n",
    "MF_test = np.asarray(cp[cp[\"Allele\"].isin(test)])[:,1:]\n",
    "\n",
    "MF_v, GE_v, D = cca_analysis(GE_train, MF_train, GE_test, MF_test)\n",
    "\n",
    "visualize_annotations(\n",
    "    l1k[l1k[\"Allele\"].isin(test)], \n",
    "    cp[cp[\"Allele\"].isin(test)], \n",
    "    GE_v, \n",
    "    MF_v\n",
    ")"
   ]
  },
  {
   "cell_type": "code",
   "execution_count": null,
   "metadata": {},
   "outputs": [],
   "source": [
    "D = scipy.spatial.distance_matrix(MF_v[:,0:2], GE_v[:,0:2])\n",
    "NN = np.argsort(D, axis=1) # Nearest morphology point to each gene expression point\n",
    "\n",
    "plt.figure(figsize=(10,10))\n",
    "plt.scatter(MF_v[:,0], MF_v[:,1], c=\"blue\", s=50, edgecolor='gray', linewidths=1)\n",
    "plt.scatter(GE_v[:,0]+0, GE_v[:,1]+0, c=\"red\", edgecolor='gray', linewidths=1)\n",
    "\n",
    "connected = 0\n",
    "for i in range(MF_v.shape[0]):\n",
    "    for j in range(7):\n",
    "        if cp.iloc[i].Allele == l1k.iloc[NN[i,j]].Allele:\n",
    "            plt.plot([GE_v[NN[i,j],0],MF_v[i,0]],[GE_v[NN[i,j],1],MF_v[i,1]], 'k-', color=\"lime\")"
   ]
  },
  {
   "cell_type": "code",
   "execution_count": null,
   "metadata": {},
   "outputs": [],
   "source": [
    "# In linear CCA, the canonical correlations equal to the square roots of the eigenvalues:\n",
    "plt.plot(np.sqrt(D))\n",
    "print(\"First cannonical correlation: \", np.sqrt(D[0]))"
   ]
  },
  {
   "cell_type": "markdown",
   "metadata": {},
   "source": [
    "# Visualize data matrices"
   ]
  },
  {
   "cell_type": "code",
   "execution_count": null,
   "metadata": {},
   "outputs": [],
   "source": [
    "X = (GE - np.min(GE))/(np.max(GE) - np.min(GE))\n",
    "X = np.asarray(X, dtype=np.float32)\n",
    "plt.imshow(X)"
   ]
  },
  {
   "cell_type": "code",
   "execution_count": null,
   "metadata": {},
   "outputs": [],
   "source": [
    "X = (MF - np.min(MF))/(np.max(MF) - np.min(MF))\n",
    "X = np.asarray(X, dtype=np.float32)\n",
    "plt.imshow(X)"
   ]
  },
  {
   "cell_type": "code",
   "execution_count": null,
   "metadata": {},
   "outputs": [],
   "source": []
  }
 ],
 "metadata": {
  "kernelspec": {
   "display_name": "Python 3",
   "language": "python",
   "name": "python3"
  },
  "language_info": {
   "codemirror_mode": {
    "name": "ipython",
    "version": 3
   },
   "file_extension": ".py",
   "mimetype": "text/x-python",
   "name": "python",
   "nbconvert_exporter": "python",
   "pygments_lexer": "ipython3",
   "version": "3.6.4"
  }
 },
 "nbformat": 4,
 "nbformat_minor": 2
}
